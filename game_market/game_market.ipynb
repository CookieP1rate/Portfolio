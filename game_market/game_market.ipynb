{
 "cells": [
  {
   "cell_type": "markdown",
   "metadata": {},
   "source": [
    "# Интернет-магазин \"Стримчик\""
   ]
  },
  {
   "cell_type": "markdown",
   "metadata": {},
   "source": [
    "Вы работаете в интернет-магазине «Стримчик», который продаёт по всему миру компьютерные игры. Из открытых источников доступны исторические данные о продажах игр, оценки пользователей и экспертов, жанры и платформы (например, Xbox или PlayStation). Вам нужно выявить определяющие успешность игры закономерности. Это позволит сделать ставку на потенциально популярный продукт и спланировать рекламные кампании."
   ]
  },
  {
   "cell_type": "markdown",
   "metadata": {},
   "source": [
    "## Изучение данных из файла "
   ]
  },
  {
   "cell_type": "code",
   "execution_count": 1,
   "metadata": {},
   "outputs": [],
   "source": [
    "import pandas as pd \n",
    "import numpy as np\n",
    "from scipy import stats as st \n",
    "from functools import reduce\n",
    "import matplotlib.pyplot as plt\n",
    "import math"
   ]
  },
  {
   "cell_type": "code",
   "execution_count": 2,
   "metadata": {},
   "outputs": [],
   "source": [
    "df = pd.read_csv('/home/cookie/projects/games.csv')"
   ]
  },
  {
   "cell_type": "code",
   "execution_count": 3,
   "metadata": {
    "scrolled": true
   },
   "outputs": [
    {
     "name": "stdout",
     "output_type": "stream",
     "text": [
      "<class 'pandas.core.frame.DataFrame'>\n",
      "RangeIndex: 16715 entries, 0 to 16714\n",
      "Data columns (total 11 columns):\n",
      " #   Column           Non-Null Count  Dtype  \n",
      "---  ------           --------------  -----  \n",
      " 0   Name             16713 non-null  object \n",
      " 1   Platform         16715 non-null  object \n",
      " 2   Year_of_Release  16446 non-null  float64\n",
      " 3   Genre            16713 non-null  object \n",
      " 4   NA_sales         16715 non-null  float64\n",
      " 5   EU_sales         16715 non-null  float64\n",
      " 6   JP_sales         16715 non-null  float64\n",
      " 7   Other_sales      16715 non-null  float64\n",
      " 8   Critic_Score     8137 non-null   float64\n",
      " 9   User_Score       10014 non-null  object \n",
      " 10  Rating           9949 non-null   object \n",
      "dtypes: float64(6), object(5)\n",
      "memory usage: 1.4+ MB\n"
     ]
    }
   ],
   "source": [
    "df.info()"
   ]
  },
  {
   "cell_type": "code",
   "execution_count": 4,
   "metadata": {},
   "outputs": [
    {
     "data": {
      "text/plain": [
       "Name               0.000120\n",
       "Platform           0.000000\n",
       "Year_of_Release    0.016093\n",
       "Genre              0.000120\n",
       "NA_sales           0.000000\n",
       "EU_sales           0.000000\n",
       "JP_sales           0.000000\n",
       "Other_sales        0.000000\n",
       "Critic_Score       0.513192\n",
       "User_Score         0.400897\n",
       "Rating             0.404786\n",
       "dtype: float64"
      ]
     },
     "execution_count": 4,
     "metadata": {},
     "output_type": "execute_result"
    }
   ],
   "source": [
    "df.isna().mean()"
   ]
  },
  {
   "cell_type": "code",
   "execution_count": 5,
   "metadata": {},
   "outputs": [
    {
     "data": {
      "text/html": [
       "<div>\n",
       "<style scoped>\n",
       "    .dataframe tbody tr th:only-of-type {\n",
       "        vertical-align: middle;\n",
       "    }\n",
       "\n",
       "    .dataframe tbody tr th {\n",
       "        vertical-align: top;\n",
       "    }\n",
       "\n",
       "    .dataframe thead th {\n",
       "        text-align: right;\n",
       "    }\n",
       "</style>\n",
       "<table border=\"1\" class=\"dataframe\">\n",
       "  <thead>\n",
       "    <tr style=\"text-align: right;\">\n",
       "      <th></th>\n",
       "      <th>Name</th>\n",
       "      <th>Platform</th>\n",
       "      <th>Year_of_Release</th>\n",
       "      <th>Genre</th>\n",
       "      <th>NA_sales</th>\n",
       "      <th>EU_sales</th>\n",
       "      <th>JP_sales</th>\n",
       "      <th>Other_sales</th>\n",
       "      <th>Critic_Score</th>\n",
       "      <th>User_Score</th>\n",
       "      <th>Rating</th>\n",
       "    </tr>\n",
       "  </thead>\n",
       "  <tbody>\n",
       "    <tr>\n",
       "      <th>0</th>\n",
       "      <td>Wii Sports</td>\n",
       "      <td>Wii</td>\n",
       "      <td>2006.0</td>\n",
       "      <td>Sports</td>\n",
       "      <td>41.36</td>\n",
       "      <td>28.96</td>\n",
       "      <td>3.77</td>\n",
       "      <td>8.45</td>\n",
       "      <td>76.0</td>\n",
       "      <td>8</td>\n",
       "      <td>E</td>\n",
       "    </tr>\n",
       "    <tr>\n",
       "      <th>1</th>\n",
       "      <td>Super Mario Bros.</td>\n",
       "      <td>NES</td>\n",
       "      <td>1985.0</td>\n",
       "      <td>Platform</td>\n",
       "      <td>29.08</td>\n",
       "      <td>3.58</td>\n",
       "      <td>6.81</td>\n",
       "      <td>0.77</td>\n",
       "      <td>NaN</td>\n",
       "      <td>NaN</td>\n",
       "      <td>NaN</td>\n",
       "    </tr>\n",
       "    <tr>\n",
       "      <th>2</th>\n",
       "      <td>Mario Kart Wii</td>\n",
       "      <td>Wii</td>\n",
       "      <td>2008.0</td>\n",
       "      <td>Racing</td>\n",
       "      <td>15.68</td>\n",
       "      <td>12.76</td>\n",
       "      <td>3.79</td>\n",
       "      <td>3.29</td>\n",
       "      <td>82.0</td>\n",
       "      <td>8.3</td>\n",
       "      <td>E</td>\n",
       "    </tr>\n",
       "    <tr>\n",
       "      <th>3</th>\n",
       "      <td>Wii Sports Resort</td>\n",
       "      <td>Wii</td>\n",
       "      <td>2009.0</td>\n",
       "      <td>Sports</td>\n",
       "      <td>15.61</td>\n",
       "      <td>10.93</td>\n",
       "      <td>3.28</td>\n",
       "      <td>2.95</td>\n",
       "      <td>80.0</td>\n",
       "      <td>8</td>\n",
       "      <td>E</td>\n",
       "    </tr>\n",
       "    <tr>\n",
       "      <th>4</th>\n",
       "      <td>Pokemon Red/Pokemon Blue</td>\n",
       "      <td>GB</td>\n",
       "      <td>1996.0</td>\n",
       "      <td>Role-Playing</td>\n",
       "      <td>11.27</td>\n",
       "      <td>8.89</td>\n",
       "      <td>10.22</td>\n",
       "      <td>1.00</td>\n",
       "      <td>NaN</td>\n",
       "      <td>NaN</td>\n",
       "      <td>NaN</td>\n",
       "    </tr>\n",
       "    <tr>\n",
       "      <th>5</th>\n",
       "      <td>Tetris</td>\n",
       "      <td>GB</td>\n",
       "      <td>1989.0</td>\n",
       "      <td>Puzzle</td>\n",
       "      <td>23.20</td>\n",
       "      <td>2.26</td>\n",
       "      <td>4.22</td>\n",
       "      <td>0.58</td>\n",
       "      <td>NaN</td>\n",
       "      <td>NaN</td>\n",
       "      <td>NaN</td>\n",
       "    </tr>\n",
       "    <tr>\n",
       "      <th>6</th>\n",
       "      <td>New Super Mario Bros.</td>\n",
       "      <td>DS</td>\n",
       "      <td>2006.0</td>\n",
       "      <td>Platform</td>\n",
       "      <td>11.28</td>\n",
       "      <td>9.14</td>\n",
       "      <td>6.50</td>\n",
       "      <td>2.88</td>\n",
       "      <td>89.0</td>\n",
       "      <td>8.5</td>\n",
       "      <td>E</td>\n",
       "    </tr>\n",
       "    <tr>\n",
       "      <th>7</th>\n",
       "      <td>Wii Play</td>\n",
       "      <td>Wii</td>\n",
       "      <td>2006.0</td>\n",
       "      <td>Misc</td>\n",
       "      <td>13.96</td>\n",
       "      <td>9.18</td>\n",
       "      <td>2.93</td>\n",
       "      <td>2.84</td>\n",
       "      <td>58.0</td>\n",
       "      <td>6.6</td>\n",
       "      <td>E</td>\n",
       "    </tr>\n",
       "    <tr>\n",
       "      <th>8</th>\n",
       "      <td>New Super Mario Bros. Wii</td>\n",
       "      <td>Wii</td>\n",
       "      <td>2009.0</td>\n",
       "      <td>Platform</td>\n",
       "      <td>14.44</td>\n",
       "      <td>6.94</td>\n",
       "      <td>4.70</td>\n",
       "      <td>2.24</td>\n",
       "      <td>87.0</td>\n",
       "      <td>8.4</td>\n",
       "      <td>E</td>\n",
       "    </tr>\n",
       "    <tr>\n",
       "      <th>9</th>\n",
       "      <td>Duck Hunt</td>\n",
       "      <td>NES</td>\n",
       "      <td>1984.0</td>\n",
       "      <td>Shooter</td>\n",
       "      <td>26.93</td>\n",
       "      <td>0.63</td>\n",
       "      <td>0.28</td>\n",
       "      <td>0.47</td>\n",
       "      <td>NaN</td>\n",
       "      <td>NaN</td>\n",
       "      <td>NaN</td>\n",
       "    </tr>\n",
       "    <tr>\n",
       "      <th>10</th>\n",
       "      <td>Nintendogs</td>\n",
       "      <td>DS</td>\n",
       "      <td>2005.0</td>\n",
       "      <td>Simulation</td>\n",
       "      <td>9.05</td>\n",
       "      <td>10.95</td>\n",
       "      <td>1.93</td>\n",
       "      <td>2.74</td>\n",
       "      <td>NaN</td>\n",
       "      <td>NaN</td>\n",
       "      <td>NaN</td>\n",
       "    </tr>\n",
       "    <tr>\n",
       "      <th>11</th>\n",
       "      <td>Mario Kart DS</td>\n",
       "      <td>DS</td>\n",
       "      <td>2005.0</td>\n",
       "      <td>Racing</td>\n",
       "      <td>9.71</td>\n",
       "      <td>7.47</td>\n",
       "      <td>4.13</td>\n",
       "      <td>1.90</td>\n",
       "      <td>91.0</td>\n",
       "      <td>8.6</td>\n",
       "      <td>E</td>\n",
       "    </tr>\n",
       "    <tr>\n",
       "      <th>12</th>\n",
       "      <td>Pokemon Gold/Pokemon Silver</td>\n",
       "      <td>GB</td>\n",
       "      <td>1999.0</td>\n",
       "      <td>Role-Playing</td>\n",
       "      <td>9.00</td>\n",
       "      <td>6.18</td>\n",
       "      <td>7.20</td>\n",
       "      <td>0.71</td>\n",
       "      <td>NaN</td>\n",
       "      <td>NaN</td>\n",
       "      <td>NaN</td>\n",
       "    </tr>\n",
       "    <tr>\n",
       "      <th>13</th>\n",
       "      <td>Wii Fit</td>\n",
       "      <td>Wii</td>\n",
       "      <td>2007.0</td>\n",
       "      <td>Sports</td>\n",
       "      <td>8.92</td>\n",
       "      <td>8.03</td>\n",
       "      <td>3.60</td>\n",
       "      <td>2.15</td>\n",
       "      <td>80.0</td>\n",
       "      <td>7.7</td>\n",
       "      <td>E</td>\n",
       "    </tr>\n",
       "    <tr>\n",
       "      <th>14</th>\n",
       "      <td>Kinect Adventures!</td>\n",
       "      <td>X360</td>\n",
       "      <td>2010.0</td>\n",
       "      <td>Misc</td>\n",
       "      <td>15.00</td>\n",
       "      <td>4.89</td>\n",
       "      <td>0.24</td>\n",
       "      <td>1.69</td>\n",
       "      <td>61.0</td>\n",
       "      <td>6.3</td>\n",
       "      <td>E</td>\n",
       "    </tr>\n",
       "  </tbody>\n",
       "</table>\n",
       "</div>"
      ],
      "text/plain": [
       "                           Name Platform  Year_of_Release         Genre  \\\n",
       "0                    Wii Sports      Wii           2006.0        Sports   \n",
       "1             Super Mario Bros.      NES           1985.0      Platform   \n",
       "2                Mario Kart Wii      Wii           2008.0        Racing   \n",
       "3             Wii Sports Resort      Wii           2009.0        Sports   \n",
       "4      Pokemon Red/Pokemon Blue       GB           1996.0  Role-Playing   \n",
       "5                        Tetris       GB           1989.0        Puzzle   \n",
       "6         New Super Mario Bros.       DS           2006.0      Platform   \n",
       "7                      Wii Play      Wii           2006.0          Misc   \n",
       "8     New Super Mario Bros. Wii      Wii           2009.0      Platform   \n",
       "9                     Duck Hunt      NES           1984.0       Shooter   \n",
       "10                   Nintendogs       DS           2005.0    Simulation   \n",
       "11                Mario Kart DS       DS           2005.0        Racing   \n",
       "12  Pokemon Gold/Pokemon Silver       GB           1999.0  Role-Playing   \n",
       "13                      Wii Fit      Wii           2007.0        Sports   \n",
       "14           Kinect Adventures!     X360           2010.0          Misc   \n",
       "\n",
       "    NA_sales  EU_sales  JP_sales  Other_sales  Critic_Score User_Score Rating  \n",
       "0      41.36     28.96      3.77         8.45          76.0          8      E  \n",
       "1      29.08      3.58      6.81         0.77           NaN        NaN    NaN  \n",
       "2      15.68     12.76      3.79         3.29          82.0        8.3      E  \n",
       "3      15.61     10.93      3.28         2.95          80.0          8      E  \n",
       "4      11.27      8.89     10.22         1.00           NaN        NaN    NaN  \n",
       "5      23.20      2.26      4.22         0.58           NaN        NaN    NaN  \n",
       "6      11.28      9.14      6.50         2.88          89.0        8.5      E  \n",
       "7      13.96      9.18      2.93         2.84          58.0        6.6      E  \n",
       "8      14.44      6.94      4.70         2.24          87.0        8.4      E  \n",
       "9      26.93      0.63      0.28         0.47           NaN        NaN    NaN  \n",
       "10      9.05     10.95      1.93         2.74           NaN        NaN    NaN  \n",
       "11      9.71      7.47      4.13         1.90          91.0        8.6      E  \n",
       "12      9.00      6.18      7.20         0.71           NaN        NaN    NaN  \n",
       "13      8.92      8.03      3.60         2.15          80.0        7.7      E  \n",
       "14     15.00      4.89      0.24         1.69          61.0        6.3      E  "
      ]
     },
     "execution_count": 5,
     "metadata": {},
     "output_type": "execute_result"
    }
   ],
   "source": [
    "df.head(15)"
   ]
  },
  {
   "cell_type": "markdown",
   "metadata": {},
   "source": [
    "* Name — название игры\n",
    "* Platform — платформа\n",
    "* Year_of_Release — год выпуска\n",
    "* Genre — жанр игры\n",
    "* NA_sales — продажи в Северной Америке (миллионы проданных копий)\n",
    "* EU_sales — продажи в Европе (миллионы проданных копий)\n",
    "* JP_sales — продажи в Японии (миллионы проданных копий)\n",
    "* Other_sales — продажи в других странах (миллионы проданных копий)\n",
    "* Critic_Score — оценка критиков (максимум 100)\n",
    "* User_Score — оценка пользователей (максимум 10)\n",
    "* Rating — рейтинг от организации ESRB (англ. Entertainment Software Rating Board). Эта ассоциация определяет рейтинг компьютерных игр и присваивает им подходящую возрастную категорию."
   ]
  },
  {
   "cell_type": "markdown",
   "metadata": {},
   "source": [
    "**Вывод**\n",
    "\n",
    "Есть пропуски в столбцах с годом выпуска, оценкой критиков и пользователей, и рейтингом. Сюдя по всему в столбце с оценкой пользователей некоторые значения NaN является типом данных object и поэтому не воспринимается питоном как пропуск \n",
    "\n",
    "Значения 'tbd' в столбце с оценками пользователей расшифровывается как \"to be discussed\" и означает, что на момент выгрузки данных оценка пользователей была не известна  "
   ]
  },
  {
   "cell_type": "markdown",
   "metadata": {},
   "source": [
    "## Подготовка данных "
   ]
  },
  {
   "cell_type": "code",
   "execution_count": 6,
   "metadata": {},
   "outputs": [],
   "source": [
    "df.columns = ['name', 'platform', 'year_of_release', 'genre', 'na_sales', 'eu_sales',\n",
    "       'jp_sales', 'other_sales', 'critic_score', 'user_score', 'rating']"
   ]
  },
  {
   "cell_type": "code",
   "execution_count": 7,
   "metadata": {},
   "outputs": [],
   "source": [
    "df['year_of_release'] = df['year_of_release'].astype(dtype='Int64')\n",
    "df['critic_score'] = df['critic_score'].astype(dtype='Int64')"
   ]
  },
  {
   "cell_type": "code",
   "execution_count": 8,
   "metadata": {},
   "outputs": [],
   "source": [
    "try:\n",
    "    df['user_score'] = pd.to_numeric(df['user_date'], errors='coerce')\n",
    "except:\n",
    "    df['user_score'] == 'tbd'"
   ]
  },
  {
   "cell_type": "code",
   "execution_count": 9,
   "metadata": {},
   "outputs": [],
   "source": [
    "try:\n",
    "    df['user_score'] = df['user_score'].astype('float')\n",
    "except:\n",
    "    df['user_score'] == 'tbd'"
   ]
  },
  {
   "cell_type": "code",
   "execution_count": 10,
   "metadata": {},
   "outputs": [],
   "source": [
    "df['user_score'] = df['user_score'].replace('tbd', np.nan)"
   ]
  },
  {
   "cell_type": "code",
   "execution_count": 11,
   "metadata": {
    "scrolled": true
   },
   "outputs": [
    {
     "name": "stdout",
     "output_type": "stream",
     "text": [
      "<class 'pandas.core.frame.DataFrame'>\n",
      "RangeIndex: 16715 entries, 0 to 16714\n",
      "Data columns (total 11 columns):\n",
      " #   Column           Non-Null Count  Dtype  \n",
      "---  ------           --------------  -----  \n",
      " 0   name             16713 non-null  object \n",
      " 1   platform         16715 non-null  object \n",
      " 2   year_of_release  16446 non-null  Int64  \n",
      " 3   genre            16713 non-null  object \n",
      " 4   na_sales         16715 non-null  float64\n",
      " 5   eu_sales         16715 non-null  float64\n",
      " 6   jp_sales         16715 non-null  float64\n",
      " 7   other_sales      16715 non-null  float64\n",
      " 8   critic_score     8137 non-null   Int64  \n",
      " 9   user_score       7590 non-null   object \n",
      " 10  rating           9949 non-null   object \n",
      "dtypes: Int64(2), float64(4), object(5)\n",
      "memory usage: 1.4+ MB\n"
     ]
    }
   ],
   "source": [
    "df.info()"
   ]
  },
  {
   "cell_type": "markdown",
   "metadata": {},
   "source": [
    "Заменил значения в столбцах с годом релиза и оценкой критиков на целочисленные значения, потому что в этих значениях нету смысла от дробей. Нас интересует весь год, а не его часть. Оценка критиков идет от 0 до 100, поэтому не имеет смысла быть записаной дробью \n",
    "\n",
    "Пропуски решил, пока, не заполнять, так-как не известно что влияет на оценку критиков/пользователей. Год релиза и возрастной рейтинг, конечно можно найти на просторах интернета, но делать это для всех значений как то трудоемко    \n",
    "\n"
   ]
  },
  {
   "cell_type": "code",
   "execution_count": 12,
   "metadata": {},
   "outputs": [],
   "source": [
    "def total_sales(row):\n",
    "    na_sales = row['na_sales']\n",
    "    eu_sales = row['eu_sales']\n",
    "    jp_sales = row['jp_sales']\n",
    "    other_sales = row['other_sales']\n",
    "    \n",
    "    result = na_sales + eu_sales + jp_sales + other_sales\n",
    "    return result "
   ]
  },
  {
   "cell_type": "code",
   "execution_count": 13,
   "metadata": {},
   "outputs": [],
   "source": [
    "df['total_sales'] = df.apply(total_sales, axis=1)"
   ]
  },
  {
   "cell_type": "markdown",
   "metadata": {},
   "source": [
    "## Исследовательский анализ данных"
   ]
  },
  {
   "cell_type": "markdown",
   "metadata": {},
   "source": [
    "### Сколько игр выпскалось в разные годы "
   ]
  },
  {
   "cell_type": "code",
   "execution_count": 55,
   "metadata": {},
   "outputs": [
    {
     "data": {
      "image/png": "[encoded data removed]",
      "text/plain": [
       "<Figure size 864x360 with 1 Axes>"
      ]
     },
     "metadata": {
      "needs_background": "light"
     },
     "output_type": "display_data"
    }
   ],
   "source": [
    "df.groupby('year_of_release')['year_of_release'].count().plot(grid=True, figsize=(12,5))\n",
    "plt.title('Release year')\n",
    "plt.show()"
   ]
  },
  {
   "cell_type": "markdown",
   "metadata": {},
   "source": [
    "**Вывод**\n",
    "\n",
    "Начиная c 1995 года количество выпущенных игр начало расти и в 2007-2008 годах достигло пика после чего полшо на спад.\n",
    "\n",
    "Думаю что данные за все периоды не важны. В 2013 году график выравнивается, поэтому можно считать этот отрезок как **актуальный период**"
   ]
  },
  {
   "cell_type": "markdown",
   "metadata": {},
   "source": [
    "### Продажи по платформам "
   ]
  },
  {
   "cell_type": "code",
   "execution_count": 15,
   "metadata": {},
   "outputs": [],
   "source": [
    "top_platforms = (df\n",
    ".pivot_table(index='platform', values='total_sales', aggfunc='sum')\n",
    ".sort_values(by='total_sales', ascending=False))"
   ]
  },
  {
   "cell_type": "code",
   "execution_count": 16,
   "metadata": {},
   "outputs": [],
   "source": [
    "top_platforms = top_platforms.reset_index(level=0)"
   ]
  },
  {
   "cell_type": "code",
   "execution_count": 17,
   "metadata": {},
   "outputs": [],
   "source": [
    "top_platforms = top_platforms['platform'].head(10).to_list()"
   ]
  },
  {
   "cell_type": "code",
   "execution_count": 18,
   "metadata": {
    "scrolled": false
   },
   "outputs": [
    {
     "data": {
      "text/plain": [
       "Text(0, 0.5, 'sales_mln')"
      ]
     },
     "execution_count": 18,
     "metadata": {},
     "output_type": "execute_result"
    },
    {
     "data": {
      "image/png": "[encoded data removed]",
      "text/plain": [
       "<Figure size 1080x504 with 1 Axes>"
      ]
     },
     "metadata": {
      "needs_background": "light"
     },
     "output_type": "display_data"
    }
   ],
   "source": [
    "for platform in top_platforms:\n",
    "    (df[df['platform']==platform]\n",
    "     .groupby('year_of_release')['total_sales'].sum()\n",
    "     .plot(grid=True, figsize=(15,7))\n",
    "    )\n",
    "plt.legend(top_platforms)   \n",
    "plt.ylabel('sales_mln')"
   ]
  },
  {
   "cell_type": "markdown",
   "metadata": {},
   "source": [
    "**Вывод**\n",
    "\n",
    "Судя по всему большинстов платформ \"живут\" примерно 10 лет "
   ]
  },
  {
   "cell_type": "markdown",
   "metadata": {},
   "source": [
    "### Данные за \"актуальный\" период "
   ]
  },
  {
   "cell_type": "markdown",
   "metadata": {},
   "source": [
    "#### Какие платформы лидируют по продажам?"
   ]
  },
  {
   "cell_type": "code",
   "execution_count": 19,
   "metadata": {
    "scrolled": true
   },
   "outputs": [],
   "source": [
    "df_year_cut = df.query('year_of_release >= 2013', engine='python')"
   ]
  },
  {
   "cell_type": "code",
   "execution_count": 20,
   "metadata": {},
   "outputs": [
    {
     "data": {
      "text/html": [
       "<div>\n",
       "<style scoped>\n",
       "    .dataframe tbody tr th:only-of-type {\n",
       "        vertical-align: middle;\n",
       "    }\n",
       "\n",
       "    .dataframe tbody tr th {\n",
       "        vertical-align: top;\n",
       "    }\n",
       "\n",
       "    .dataframe thead th {\n",
       "        text-align: right;\n",
       "    }\n",
       "</style>\n",
       "<table border=\"1\" class=\"dataframe\">\n",
       "  <thead>\n",
       "    <tr style=\"text-align: right;\">\n",
       "      <th></th>\n",
       "      <th>total_sales</th>\n",
       "    </tr>\n",
       "    <tr>\n",
       "      <th>platform</th>\n",
       "      <th></th>\n",
       "    </tr>\n",
       "  </thead>\n",
       "  <tbody>\n",
       "    <tr>\n",
       "      <th>PS4</th>\n",
       "      <td>314.14</td>\n",
       "    </tr>\n",
       "    <tr>\n",
       "      <th>PS3</th>\n",
       "      <td>181.43</td>\n",
       "    </tr>\n",
       "    <tr>\n",
       "      <th>XOne</th>\n",
       "      <td>159.32</td>\n",
       "    </tr>\n",
       "    <tr>\n",
       "      <th>3DS</th>\n",
       "      <td>143.25</td>\n",
       "    </tr>\n",
       "    <tr>\n",
       "      <th>X360</th>\n",
       "      <td>136.80</td>\n",
       "    </tr>\n",
       "    <tr>\n",
       "      <th>WiiU</th>\n",
       "      <td>64.63</td>\n",
       "    </tr>\n",
       "    <tr>\n",
       "      <th>PC</th>\n",
       "      <td>39.43</td>\n",
       "    </tr>\n",
       "    <tr>\n",
       "      <th>PSV</th>\n",
       "      <td>32.99</td>\n",
       "    </tr>\n",
       "    <tr>\n",
       "      <th>Wii</th>\n",
       "      <td>13.66</td>\n",
       "    </tr>\n",
       "    <tr>\n",
       "      <th>PSP</th>\n",
       "      <td>3.50</td>\n",
       "    </tr>\n",
       "    <tr>\n",
       "      <th>DS</th>\n",
       "      <td>1.54</td>\n",
       "    </tr>\n",
       "  </tbody>\n",
       "</table>\n",
       "</div>"
      ],
      "text/plain": [
       "          total_sales\n",
       "platform             \n",
       "PS4            314.14\n",
       "PS3            181.43\n",
       "XOne           159.32\n",
       "3DS            143.25\n",
       "X360           136.80\n",
       "WiiU            64.63\n",
       "PC              39.43\n",
       "PSV             32.99\n",
       "Wii             13.66\n",
       "PSP              3.50\n",
       "DS               1.54"
      ]
     },
     "execution_count": 20,
     "metadata": {},
     "output_type": "execute_result"
    }
   ],
   "source": [
    "df_year_cut.pivot_table(index='platform', values='total_sales', aggfunc='sum').sort_values(by='total_sales', ascending=False)"
   ]
  },
  {
   "cell_type": "code",
   "execution_count": 21,
   "metadata": {
    "scrolled": false
   },
   "outputs": [
    {
     "data": {
      "text/plain": [
       "<AxesSubplot:title={'center':'total_sales'}, xlabel='platform'>"
      ]
     },
     "execution_count": 21,
     "metadata": {},
     "output_type": "execute_result"
    },
    {
     "data": {
      "image/png": "[encoded data removed]",
      "text/plain": [
       "<Figure size 864x504 with 1 Axes>"
      ]
     },
     "metadata": {
      "needs_background": "light"
     },
     "output_type": "display_data"
    }
   ],
   "source": [
    "(df_year_cut\n",
    " .query('total_sales < 2')\n",
    " .boxplot(column='total_sales', by='platform', figsize=(12,7))\n",
    ")"
   ]
  },
  {
   "cell_type": "markdown",
   "metadata": {},
   "source": [
    "**Вывод**\n",
    "\n",
    "По продажам лидируют платформы PS4, PS3 и Xbox One. Медианное значение продаж у Xbox 360 выше чем у отсальных. Скорее всего это связяано, что это \"устоявшиеся\" платформы с хорошей репутацией. У PSP дела совсем плохи "
   ]
  },
  {
   "cell_type": "markdown",
   "metadata": {},
   "source": [
    "#### Как влияют на продажи внутри одной популярной платформы отзывы пользователей и критиков"
   ]
  },
  {
   "cell_type": "code",
   "execution_count": 23,
   "metadata": {},
   "outputs": [],
   "source": [
    "df_test = df_year_cut.query('user_score != \"tbd\"')"
   ]
  },
  {
   "cell_type": "code",
   "execution_count": 24,
   "metadata": {
    "scrolled": true
   },
   "outputs": [],
   "source": [
    "df_test['user_score'] = df_test['user_score'].astype('float64')"
   ]
  },
  {
   "cell_type": "code",
   "execution_count": 25,
   "metadata": {},
   "outputs": [
    {
     "data": {
      "text/plain": [
       "<AxesSubplot:xlabel='user_score', ylabel='total_sales'>"
      ]
     },
     "execution_count": 25,
     "metadata": {},
     "output_type": "execute_result"
    },
    {
     "data": {
      "image/png": "[encoded data removed]",
      "text/plain": [
       "<Figure size 432x288 with 1 Axes>"
      ]
     },
     "metadata": {
      "needs_background": "light"
     },
     "output_type": "display_data"
    }
   ],
   "source": [
    "df_test.plot(x='user_score', y='total_sales', kind='scatter')"
   ]
  },
  {
   "cell_type": "code",
   "execution_count": 26,
   "metadata": {},
   "outputs": [
    {
     "data": {
      "text/plain": [
       "-0.002607813354598235"
      ]
     },
     "execution_count": 26,
     "metadata": {},
     "output_type": "execute_result"
    }
   ],
   "source": [
    "df_test['user_score'].corr(df_test['total_sales'])"
   ]
  },
  {
   "cell_type": "code",
   "execution_count": 27,
   "metadata": {
    "scrolled": true
   },
   "outputs": [],
   "source": [
    "df_test['critic_score'] = df_test['critic_score'].astype('float64')"
   ]
  },
  {
   "cell_type": "code",
   "execution_count": 28,
   "metadata": {},
   "outputs": [
    {
     "data": {
      "text/plain": [
       "0.3136995151027368"
      ]
     },
     "execution_count": 28,
     "metadata": {},
     "output_type": "execute_result"
    }
   ],
   "source": [
    "df_test['critic_score'].corr(df_test['total_sales'])"
   ]
  },
  {
   "cell_type": "code",
   "execution_count": 29,
   "metadata": {
    "scrolled": true
   },
   "outputs": [
    {
     "data": {
      "text/plain": [
       "Text(0, 0.5, 'sales_mln')"
      ]
     },
     "execution_count": 29,
     "metadata": {},
     "output_type": "execute_result"
    },
    {
     "data": {
      "image/png": "[encoded data removed]",
      "text/plain": [
       "<Figure size 1080x504 with 1 Axes>"
      ]
     },
     "metadata": {
      "needs_background": "light"
     },
     "output_type": "display_data"
    },
    {
     "data": {
      "image/png": "[encoded data removed]",
      "text/plain": [
       "<Figure size 1080x504 with 1 Axes>"
      ]
     },
     "metadata": {
      "needs_background": "light"
     },
     "output_type": "display_data"
    },
    {
     "data": {
      "image/png": "[encoded data removed]",
      "text/plain": [
       "<Figure size 1080x504 with 1 Axes>"
      ]
     },
     "metadata": {
      "needs_background": "light"
     },
     "output_type": "display_data"
    },
    {
     "data": {
      "image/png": "[encoded data removed]",
      "text/plain": [
       "<Figure size 1080x504 with 1 Axes>"
      ]
     },
     "metadata": {
      "needs_background": "light"
     },
     "output_type": "display_data"
    },
    {
     "data": {
      "image/png": "[encoded data removed]",
      "text/plain": [
       "<Figure size 1080x504 with 1 Axes>"
      ]
     },
     "metadata": {
      "needs_background": "light"
     },
     "output_type": "display_data"
    },
    {
     "data": {
      "image/png": "[encoded data removed]",
      "text/plain": [
       "<Figure size 1080x504 with 1 Axes>"
      ]
     },
     "metadata": {
      "needs_background": "light"
     },
     "output_type": "display_data"
    },
    {
     "data": {
      "image/png": "[encoded data removed]",
      "text/plain": [
       "<Figure size 1080x504 with 1 Axes>"
      ]
     },
     "metadata": {
      "needs_background": "light"
     },
     "output_type": "display_data"
    },
    {
     "data": {
      "image/png": "[encoded data removed]",
      "text/plain": [
       "<Figure size 1080x504 with 1 Axes>"
      ]
     },
     "metadata": {
      "needs_background": "light"
     },
     "output_type": "display_data"
    },
    {
     "data": {
      "image/png": "[encoded data removed]",
      "text/plain": [
       "<Figure size 1080x504 with 1 Axes>"
      ]
     },
     "metadata": {
      "needs_background": "light"
     },
     "output_type": "display_data"
    },
    {
     "data": {
      "image/png": "[encoded data removed]",
      "text/plain": [
       "<Figure size 1080x504 with 1 Axes>"
      ]
     },
     "metadata": {
      "needs_background": "light"
     },
     "output_type": "display_data"
    }
   ],
   "source": [
    "for platform in top_platforms:\n",
    "    (df[df['platform']==platform]\n",
    "     .plot(x='critic_score',y='total_sales',kind='scatter', figsize=(15,7))\n",
    "    )\n",
    "plt.legend(top_platforms)   \n",
    "plt.ylabel('sales_mln')\n"
   ]
  },
  {
   "cell_type": "markdown",
   "metadata": {},
   "source": [
    "**Вывод**\n",
    "\n",
    "Судя по всему оценка критиков влияет на продаже больше, чем оценка пользователей "
   ]
  },
  {
   "cell_type": "markdown",
   "metadata": {},
   "source": [
    "#### Общее распределение игр по жанрам"
   ]
  },
  {
   "cell_type": "code",
   "execution_count": 30,
   "metadata": {},
   "outputs": [
    {
     "data": {
      "text/plain": [
       "Action          766\n",
       "Role-Playing    292\n",
       "Adventure       245\n",
       "Sports          214\n",
       "Shooter         187\n",
       "Misc            155\n",
       "Racing           85\n",
       "Fighting         80\n",
       "Platform         74\n",
       "Simulation       62\n",
       "Strategy         56\n",
       "Puzzle           17\n",
       "Name: genre, dtype: int64"
      ]
     },
     "execution_count": 30,
     "metadata": {},
     "output_type": "execute_result"
    }
   ],
   "source": [
    "df_test['genre'].value_counts()"
   ]
  },
  {
   "cell_type": "code",
   "execution_count": 31,
   "metadata": {},
   "outputs": [
    {
     "data": {
      "text/html": [
       "<div>\n",
       "<style scoped>\n",
       "    .dataframe tbody tr th:only-of-type {\n",
       "        vertical-align: middle;\n",
       "    }\n",
       "\n",
       "    .dataframe tbody tr th {\n",
       "        vertical-align: top;\n",
       "    }\n",
       "\n",
       "    .dataframe thead th {\n",
       "        text-align: right;\n",
       "    }\n",
       "</style>\n",
       "<table border=\"1\" class=\"dataframe\">\n",
       "  <thead>\n",
       "    <tr style=\"text-align: right;\">\n",
       "      <th></th>\n",
       "      <th>total_sales</th>\n",
       "    </tr>\n",
       "    <tr>\n",
       "      <th>genre</th>\n",
       "      <th></th>\n",
       "    </tr>\n",
       "  </thead>\n",
       "  <tbody>\n",
       "    <tr>\n",
       "      <th>Action</th>\n",
       "      <td>321.87</td>\n",
       "    </tr>\n",
       "    <tr>\n",
       "      <th>Shooter</th>\n",
       "      <td>232.98</td>\n",
       "    </tr>\n",
       "    <tr>\n",
       "      <th>Sports</th>\n",
       "      <td>150.65</td>\n",
       "    </tr>\n",
       "    <tr>\n",
       "      <th>Role-Playing</th>\n",
       "      <td>145.89</td>\n",
       "    </tr>\n",
       "    <tr>\n",
       "      <th>Misc</th>\n",
       "      <td>62.82</td>\n",
       "    </tr>\n",
       "    <tr>\n",
       "      <th>Platform</th>\n",
       "      <td>42.63</td>\n",
       "    </tr>\n",
       "    <tr>\n",
       "      <th>Racing</th>\n",
       "      <td>39.89</td>\n",
       "    </tr>\n",
       "    <tr>\n",
       "      <th>Fighting</th>\n",
       "      <td>35.31</td>\n",
       "    </tr>\n",
       "    <tr>\n",
       "      <th>Adventure</th>\n",
       "      <td>23.64</td>\n",
       "    </tr>\n",
       "    <tr>\n",
       "      <th>Simulation</th>\n",
       "      <td>21.76</td>\n",
       "    </tr>\n",
       "    <tr>\n",
       "      <th>Strategy</th>\n",
       "      <td>10.08</td>\n",
       "    </tr>\n",
       "    <tr>\n",
       "      <th>Puzzle</th>\n",
       "      <td>3.17</td>\n",
       "    </tr>\n",
       "  </tbody>\n",
       "</table>\n",
       "</div>"
      ],
      "text/plain": [
       "              total_sales\n",
       "genre                    \n",
       "Action             321.87\n",
       "Shooter            232.98\n",
       "Sports             150.65\n",
       "Role-Playing       145.89\n",
       "Misc                62.82\n",
       "Platform            42.63\n",
       "Racing              39.89\n",
       "Fighting            35.31\n",
       "Adventure           23.64\n",
       "Simulation          21.76\n",
       "Strategy            10.08\n",
       "Puzzle               3.17"
      ]
     },
     "execution_count": 31,
     "metadata": {},
     "output_type": "execute_result"
    }
   ],
   "source": [
    "df_test.pivot_table(index='genre', values='total_sales', aggfunc='sum').sort_values(by='total_sales', ascending=False)"
   ]
  },
  {
   "cell_type": "code",
   "execution_count": 32,
   "metadata": {},
   "outputs": [
    {
     "data": {
      "text/plain": [
       "<AxesSubplot:ylabel='total_sales'>"
      ]
     },
     "execution_count": 32,
     "metadata": {},
     "output_type": "execute_result"
    },
    {
     "data": {
      "image/png": "[encoded data removed]",
      "text/plain": [
       "<Figure size 864x864 with 1 Axes>"
      ]
     },
     "metadata": {},
     "output_type": "display_data"
    }
   ],
   "source": [
    "(df_test\n",
    " .pivot_table(index='genre', values='total_sales', aggfunc='sum')\n",
    " .sort_values(by='total_sales', ascending=False)\n",
    " .plot(y='total_sales', kind='pie', figsize=(12,12))\n",
    ")\n"
   ]
  },
  {
   "cell_type": "markdown",
   "metadata": {},
   "source": [
    "**Вывод**\n",
    "\n",
    "Самые продаваемые жанры Action, Shooter, Sports и Role-Playing. остальные жанры приносят заметно меньше и жанр \"головоломки\" приносит наименьшее количество прибыли "
   ]
  },
  {
   "cell_type": "markdown",
   "metadata": {},
   "source": [
    "##  Составьте портрет пользователя каждого региона"
   ]
  },
  {
   "cell_type": "markdown",
   "metadata": {},
   "source": [
    "Определите для пользователя каждого региона (NA, EU, JP)"
   ]
  },
  {
   "cell_type": "markdown",
   "metadata": {},
   "source": [
    "### Самые популярные платформы (топ-5)"
   ]
  },
  {
   "cell_type": "code",
   "execution_count": 33,
   "metadata": {},
   "outputs": [
    {
     "data": {
      "text/plain": [
       "['na_sales', 'eu_sales', 'jp_sales']"
      ]
     },
     "execution_count": 33,
     "metadata": {},
     "output_type": "execute_result"
    }
   ],
   "source": [
    "['na_sales', 'eu_sales', 'jp_sales']"
   ]
  },
  {
   "cell_type": "code",
   "execution_count": 34,
   "metadata": {
    "scrolled": true
   },
   "outputs": [
    {
     "data": {
      "text/html": [
       "<div>\n",
       "<style scoped>\n",
       "    .dataframe tbody tr th:only-of-type {\n",
       "        vertical-align: middle;\n",
       "    }\n",
       "\n",
       "    .dataframe tbody tr th {\n",
       "        vertical-align: top;\n",
       "    }\n",
       "\n",
       "    .dataframe thead th {\n",
       "        text-align: right;\n",
       "    }\n",
       "</style>\n",
       "<table border=\"1\" class=\"dataframe\">\n",
       "  <thead>\n",
       "    <tr style=\"text-align: right;\">\n",
       "      <th></th>\n",
       "      <th>na_sales</th>\n",
       "    </tr>\n",
       "    <tr>\n",
       "      <th>platform</th>\n",
       "      <th></th>\n",
       "    </tr>\n",
       "  </thead>\n",
       "  <tbody>\n",
       "    <tr>\n",
       "      <th>PS4</th>\n",
       "      <td>108.74</td>\n",
       "    </tr>\n",
       "    <tr>\n",
       "      <th>XOne</th>\n",
       "      <td>93.12</td>\n",
       "    </tr>\n",
       "    <tr>\n",
       "      <th>X360</th>\n",
       "      <td>81.66</td>\n",
       "    </tr>\n",
       "    <tr>\n",
       "      <th>PS3</th>\n",
       "      <td>63.50</td>\n",
       "    </tr>\n",
       "    <tr>\n",
       "      <th>3DS</th>\n",
       "      <td>38.20</td>\n",
       "    </tr>\n",
       "  </tbody>\n",
       "</table>\n",
       "</div>"
      ],
      "text/plain": [
       "          na_sales\n",
       "platform          \n",
       "PS4         108.74\n",
       "XOne         93.12\n",
       "X360         81.66\n",
       "PS3          63.50\n",
       "3DS          38.20"
      ]
     },
     "execution_count": 34,
     "metadata": {},
     "output_type": "execute_result"
    }
   ],
   "source": [
    "(df_test.pivot_table(index='platform', values='na_sales', aggfunc='sum')\n",
    " .sort_values(by='na_sales', ascending=False)\n",
    ".head(5)\n",
    ")"
   ]
  },
  {
   "cell_type": "code",
   "execution_count": 35,
   "metadata": {
    "scrolled": true
   },
   "outputs": [
    {
     "data": {
      "text/html": [
       "<div>\n",
       "<style scoped>\n",
       "    .dataframe tbody tr th:only-of-type {\n",
       "        vertical-align: middle;\n",
       "    }\n",
       "\n",
       "    .dataframe tbody tr th {\n",
       "        vertical-align: top;\n",
       "    }\n",
       "\n",
       "    .dataframe thead th {\n",
       "        text-align: right;\n",
       "    }\n",
       "</style>\n",
       "<table border=\"1\" class=\"dataframe\">\n",
       "  <thead>\n",
       "    <tr style=\"text-align: right;\">\n",
       "      <th></th>\n",
       "      <th>eu_sales</th>\n",
       "    </tr>\n",
       "    <tr>\n",
       "      <th>platform</th>\n",
       "      <th></th>\n",
       "    </tr>\n",
       "  </thead>\n",
       "  <tbody>\n",
       "    <tr>\n",
       "      <th>PS4</th>\n",
       "      <td>141.09</td>\n",
       "    </tr>\n",
       "    <tr>\n",
       "      <th>PS3</th>\n",
       "      <td>67.81</td>\n",
       "    </tr>\n",
       "    <tr>\n",
       "      <th>XOne</th>\n",
       "      <td>51.59</td>\n",
       "    </tr>\n",
       "    <tr>\n",
       "      <th>X360</th>\n",
       "      <td>42.52</td>\n",
       "    </tr>\n",
       "    <tr>\n",
       "      <th>3DS</th>\n",
       "      <td>30.96</td>\n",
       "    </tr>\n",
       "  </tbody>\n",
       "</table>\n",
       "</div>"
      ],
      "text/plain": [
       "          eu_sales\n",
       "platform          \n",
       "PS4         141.09\n",
       "PS3          67.81\n",
       "XOne         51.59\n",
       "X360         42.52\n",
       "3DS          30.96"
      ]
     },
     "execution_count": 35,
     "metadata": {},
     "output_type": "execute_result"
    }
   ],
   "source": [
    "(df_test.pivot_table(index='platform', values='eu_sales', aggfunc='sum')\n",
    " .sort_values(by='eu_sales', ascending=False)\n",
    ".head(5)\n",
    ")"
   ]
  },
  {
   "cell_type": "code",
   "execution_count": 36,
   "metadata": {},
   "outputs": [
    {
     "data": {
      "text/html": [
       "<div>\n",
       "<style scoped>\n",
       "    .dataframe tbody tr th:only-of-type {\n",
       "        vertical-align: middle;\n",
       "    }\n",
       "\n",
       "    .dataframe tbody tr th {\n",
       "        vertical-align: top;\n",
       "    }\n",
       "\n",
       "    .dataframe thead th {\n",
       "        text-align: right;\n",
       "    }\n",
       "</style>\n",
       "<table border=\"1\" class=\"dataframe\">\n",
       "  <thead>\n",
       "    <tr style=\"text-align: right;\">\n",
       "      <th></th>\n",
       "      <th>jp_sales</th>\n",
       "    </tr>\n",
       "    <tr>\n",
       "      <th>platform</th>\n",
       "      <th></th>\n",
       "    </tr>\n",
       "  </thead>\n",
       "  <tbody>\n",
       "    <tr>\n",
       "      <th>3DS</th>\n",
       "      <td>67.81</td>\n",
       "    </tr>\n",
       "    <tr>\n",
       "      <th>PS3</th>\n",
       "      <td>23.35</td>\n",
       "    </tr>\n",
       "    <tr>\n",
       "      <th>PSV</th>\n",
       "      <td>18.59</td>\n",
       "    </tr>\n",
       "    <tr>\n",
       "      <th>PS4</th>\n",
       "      <td>15.96</td>\n",
       "    </tr>\n",
       "    <tr>\n",
       "      <th>WiiU</th>\n",
       "      <td>10.88</td>\n",
       "    </tr>\n",
       "  </tbody>\n",
       "</table>\n",
       "</div>"
      ],
      "text/plain": [
       "          jp_sales\n",
       "platform          \n",
       "3DS          67.81\n",
       "PS3          23.35\n",
       "PSV          18.59\n",
       "PS4          15.96\n",
       "WiiU         10.88"
      ]
     },
     "execution_count": 36,
     "metadata": {},
     "output_type": "execute_result"
    }
   ],
   "source": [
    "(df_test.pivot_table(index='platform', values='jp_sales', aggfunc='sum')\n",
    " .sort_values(by='jp_sales', ascending=False)\n",
    ".head(5)\n",
    ")"
   ]
  },
  {
   "cell_type": "markdown",
   "metadata": {},
   "source": [
    "**Вывод**\n",
    "\n",
    "В Америке и Европе пердпочтения по платформам примерно одинаковое. В Японии самая продаваемая платформа 3DS, а в Америке и Европе она является наименее популярной"
   ]
  },
  {
   "cell_type": "markdown",
   "metadata": {},
   "source": [
    "### Самые популярные жанры (топ-5)"
   ]
  },
  {
   "cell_type": "code",
   "execution_count": 37,
   "metadata": {},
   "outputs": [
    {
     "data": {
      "text/html": [
       "<div>\n",
       "<style scoped>\n",
       "    .dataframe tbody tr th:only-of-type {\n",
       "        vertical-align: middle;\n",
       "    }\n",
       "\n",
       "    .dataframe tbody tr th {\n",
       "        vertical-align: top;\n",
       "    }\n",
       "\n",
       "    .dataframe thead th {\n",
       "        text-align: right;\n",
       "    }\n",
       "</style>\n",
       "<table border=\"1\" class=\"dataframe\">\n",
       "  <thead>\n",
       "    <tr style=\"text-align: right;\">\n",
       "      <th></th>\n",
       "      <th>na_sales</th>\n",
       "    </tr>\n",
       "    <tr>\n",
       "      <th>genre</th>\n",
       "      <th></th>\n",
       "    </tr>\n",
       "  </thead>\n",
       "  <tbody>\n",
       "    <tr>\n",
       "      <th>Action</th>\n",
       "      <td>126.05</td>\n",
       "    </tr>\n",
       "    <tr>\n",
       "      <th>Shooter</th>\n",
       "      <td>109.74</td>\n",
       "    </tr>\n",
       "    <tr>\n",
       "      <th>Sports</th>\n",
       "      <td>65.27</td>\n",
       "    </tr>\n",
       "    <tr>\n",
       "      <th>Role-Playing</th>\n",
       "      <td>46.40</td>\n",
       "    </tr>\n",
       "    <tr>\n",
       "      <th>Misc</th>\n",
       "      <td>27.49</td>\n",
       "    </tr>\n",
       "  </tbody>\n",
       "</table>\n",
       "</div>"
      ],
      "text/plain": [
       "              na_sales\n",
       "genre                 \n",
       "Action          126.05\n",
       "Shooter         109.74\n",
       "Sports           65.27\n",
       "Role-Playing     46.40\n",
       "Misc             27.49"
      ]
     },
     "execution_count": 37,
     "metadata": {},
     "output_type": "execute_result"
    }
   ],
   "source": [
    "(df_test.pivot_table(index='genre', values='na_sales', aggfunc='sum')\n",
    " .sort_values(by='na_sales', ascending=False)\n",
    ".head(5)\n",
    ")"
   ]
  },
  {
   "cell_type": "code",
   "execution_count": 38,
   "metadata": {},
   "outputs": [
    {
     "data": {
      "text/html": [
       "<div>\n",
       "<style scoped>\n",
       "    .dataframe tbody tr th:only-of-type {\n",
       "        vertical-align: middle;\n",
       "    }\n",
       "\n",
       "    .dataframe tbody tr th {\n",
       "        vertical-align: top;\n",
       "    }\n",
       "\n",
       "    .dataframe thead th {\n",
       "        text-align: right;\n",
       "    }\n",
       "</style>\n",
       "<table border=\"1\" class=\"dataframe\">\n",
       "  <thead>\n",
       "    <tr style=\"text-align: right;\">\n",
       "      <th></th>\n",
       "      <th>eu_sales</th>\n",
       "    </tr>\n",
       "    <tr>\n",
       "      <th>genre</th>\n",
       "      <th></th>\n",
       "    </tr>\n",
       "  </thead>\n",
       "  <tbody>\n",
       "    <tr>\n",
       "      <th>Action</th>\n",
       "      <td>118.13</td>\n",
       "    </tr>\n",
       "    <tr>\n",
       "      <th>Shooter</th>\n",
       "      <td>87.86</td>\n",
       "    </tr>\n",
       "    <tr>\n",
       "      <th>Sports</th>\n",
       "      <td>60.52</td>\n",
       "    </tr>\n",
       "    <tr>\n",
       "      <th>Role-Playing</th>\n",
       "      <td>36.97</td>\n",
       "    </tr>\n",
       "    <tr>\n",
       "      <th>Racing</th>\n",
       "      <td>20.19</td>\n",
       "    </tr>\n",
       "  </tbody>\n",
       "</table>\n",
       "</div>"
      ],
      "text/plain": [
       "              eu_sales\n",
       "genre                 \n",
       "Action          118.13\n",
       "Shooter          87.86\n",
       "Sports           60.52\n",
       "Role-Playing     36.97\n",
       "Racing           20.19"
      ]
     },
     "execution_count": 38,
     "metadata": {},
     "output_type": "execute_result"
    }
   ],
   "source": [
    "(df_test.pivot_table(index='genre', values='eu_sales', aggfunc='sum')\n",
    " .sort_values(by='eu_sales', ascending=False)\n",
    ".head(5)\n",
    ")"
   ]
  },
  {
   "cell_type": "code",
   "execution_count": 39,
   "metadata": {},
   "outputs": [
    {
     "data": {
      "text/html": [
       "<div>\n",
       "<style scoped>\n",
       "    .dataframe tbody tr th:only-of-type {\n",
       "        vertical-align: middle;\n",
       "    }\n",
       "\n",
       "    .dataframe tbody tr th {\n",
       "        vertical-align: top;\n",
       "    }\n",
       "\n",
       "    .dataframe thead th {\n",
       "        text-align: right;\n",
       "    }\n",
       "</style>\n",
       "<table border=\"1\" class=\"dataframe\">\n",
       "  <thead>\n",
       "    <tr style=\"text-align: right;\">\n",
       "      <th></th>\n",
       "      <th>jp_sales</th>\n",
       "    </tr>\n",
       "    <tr>\n",
       "      <th>genre</th>\n",
       "      <th></th>\n",
       "    </tr>\n",
       "  </thead>\n",
       "  <tbody>\n",
       "    <tr>\n",
       "      <th>Role-Playing</th>\n",
       "      <td>51.04</td>\n",
       "    </tr>\n",
       "    <tr>\n",
       "      <th>Action</th>\n",
       "      <td>40.49</td>\n",
       "    </tr>\n",
       "    <tr>\n",
       "      <th>Misc</th>\n",
       "      <td>9.20</td>\n",
       "    </tr>\n",
       "    <tr>\n",
       "      <th>Fighting</th>\n",
       "      <td>7.65</td>\n",
       "    </tr>\n",
       "    <tr>\n",
       "      <th>Shooter</th>\n",
       "      <td>6.61</td>\n",
       "    </tr>\n",
       "  </tbody>\n",
       "</table>\n",
       "</div>"
      ],
      "text/plain": [
       "              jp_sales\n",
       "genre                 \n",
       "Role-Playing     51.04\n",
       "Action           40.49\n",
       "Misc              9.20\n",
       "Fighting          7.65\n",
       "Shooter           6.61"
      ]
     },
     "execution_count": 39,
     "metadata": {},
     "output_type": "execute_result"
    }
   ],
   "source": [
    "(df_test.pivot_table(index='genre', values='jp_sales', aggfunc='sum')\n",
    " .sort_values(by='jp_sales', ascending=False)\n",
    ".head(5)\n",
    ")"
   ]
  },
  {
   "cell_type": "markdown",
   "metadata": {},
   "source": [
    "**Вывод** \n",
    "\n",
    "В Америке и Европе предпочтения по жанрам, можно сказать, одинаковое. В Японии отдают предпочтения жанру Role-Playing"
   ]
  },
  {
   "cell_type": "markdown",
   "metadata": {},
   "source": [
    "### Влияет ли рейтинг ESRB на продажи в отдельном регионе?"
   ]
  },
  {
   "cell_type": "code",
   "execution_count": 40,
   "metadata": {},
   "outputs": [
    {
     "data": {
      "text/html": [
       "<div>\n",
       "<style scoped>\n",
       "    .dataframe tbody tr th:only-of-type {\n",
       "        vertical-align: middle;\n",
       "    }\n",
       "\n",
       "    .dataframe tbody tr th {\n",
       "        vertical-align: top;\n",
       "    }\n",
       "\n",
       "    .dataframe thead th {\n",
       "        text-align: right;\n",
       "    }\n",
       "</style>\n",
       "<table border=\"1\" class=\"dataframe\">\n",
       "  <thead>\n",
       "    <tr style=\"text-align: right;\">\n",
       "      <th></th>\n",
       "      <th>na_sales</th>\n",
       "    </tr>\n",
       "    <tr>\n",
       "      <th>rating</th>\n",
       "      <th></th>\n",
       "    </tr>\n",
       "  </thead>\n",
       "  <tbody>\n",
       "    <tr>\n",
       "      <th>M</th>\n",
       "      <td>165.21</td>\n",
       "    </tr>\n",
       "    <tr>\n",
       "      <th>E</th>\n",
       "      <td>79.05</td>\n",
       "    </tr>\n",
       "    <tr>\n",
       "      <th>E10+</th>\n",
       "      <td>54.24</td>\n",
       "    </tr>\n",
       "    <tr>\n",
       "      <th>T</th>\n",
       "      <td>49.79</td>\n",
       "    </tr>\n",
       "  </tbody>\n",
       "</table>\n",
       "</div>"
      ],
      "text/plain": [
       "        na_sales\n",
       "rating          \n",
       "M         165.21\n",
       "E          79.05\n",
       "E10+       54.24\n",
       "T          49.79"
      ]
     },
     "execution_count": 40,
     "metadata": {},
     "output_type": "execute_result"
    }
   ],
   "source": [
    "(df_test.pivot_table(index='rating', values='na_sales', aggfunc='sum')\n",
    " .sort_values(by='na_sales', ascending=False)\n",
    ")"
   ]
  },
  {
   "cell_type": "code",
   "execution_count": 41,
   "metadata": {},
   "outputs": [
    {
     "data": {
      "text/html": [
       "<div>\n",
       "<style scoped>\n",
       "    .dataframe tbody tr th:only-of-type {\n",
       "        vertical-align: middle;\n",
       "    }\n",
       "\n",
       "    .dataframe tbody tr th {\n",
       "        vertical-align: top;\n",
       "    }\n",
       "\n",
       "    .dataframe thead th {\n",
       "        text-align: right;\n",
       "    }\n",
       "</style>\n",
       "<table border=\"1\" class=\"dataframe\">\n",
       "  <thead>\n",
       "    <tr style=\"text-align: right;\">\n",
       "      <th></th>\n",
       "      <th>eu_sales</th>\n",
       "    </tr>\n",
       "    <tr>\n",
       "      <th>rating</th>\n",
       "      <th></th>\n",
       "    </tr>\n",
       "  </thead>\n",
       "  <tbody>\n",
       "    <tr>\n",
       "      <th>M</th>\n",
       "      <td>145.32</td>\n",
       "    </tr>\n",
       "    <tr>\n",
       "      <th>E</th>\n",
       "      <td>83.36</td>\n",
       "    </tr>\n",
       "    <tr>\n",
       "      <th>E10+</th>\n",
       "      <td>42.69</td>\n",
       "    </tr>\n",
       "    <tr>\n",
       "      <th>T</th>\n",
       "      <td>41.95</td>\n",
       "    </tr>\n",
       "  </tbody>\n",
       "</table>\n",
       "</div>"
      ],
      "text/plain": [
       "        eu_sales\n",
       "rating          \n",
       "M         145.32\n",
       "E          83.36\n",
       "E10+       42.69\n",
       "T          41.95"
      ]
     },
     "execution_count": 41,
     "metadata": {},
     "output_type": "execute_result"
    }
   ],
   "source": [
    "(df_test.pivot_table(index='rating', values='eu_sales', aggfunc='sum')\n",
    " .sort_values(by='eu_sales', ascending=False)\n",
    ")"
   ]
  },
  {
   "cell_type": "code",
   "execution_count": 42,
   "metadata": {},
   "outputs": [
    {
     "data": {
      "text/html": [
       "<div>\n",
       "<style scoped>\n",
       "    .dataframe tbody tr th:only-of-type {\n",
       "        vertical-align: middle;\n",
       "    }\n",
       "\n",
       "    .dataframe tbody tr th {\n",
       "        vertical-align: top;\n",
       "    }\n",
       "\n",
       "    .dataframe thead th {\n",
       "        text-align: right;\n",
       "    }\n",
       "</style>\n",
       "<table border=\"1\" class=\"dataframe\">\n",
       "  <thead>\n",
       "    <tr style=\"text-align: right;\">\n",
       "      <th></th>\n",
       "      <th>jp_sales</th>\n",
       "    </tr>\n",
       "    <tr>\n",
       "      <th>rating</th>\n",
       "      <th></th>\n",
       "    </tr>\n",
       "  </thead>\n",
       "  <tbody>\n",
       "    <tr>\n",
       "      <th>T</th>\n",
       "      <td>20.59</td>\n",
       "    </tr>\n",
       "    <tr>\n",
       "      <th>E</th>\n",
       "      <td>15.14</td>\n",
       "    </tr>\n",
       "    <tr>\n",
       "      <th>M</th>\n",
       "      <td>14.11</td>\n",
       "    </tr>\n",
       "    <tr>\n",
       "      <th>E10+</th>\n",
       "      <td>5.89</td>\n",
       "    </tr>\n",
       "  </tbody>\n",
       "</table>\n",
       "</div>"
      ],
      "text/plain": [
       "        jp_sales\n",
       "rating          \n",
       "T          20.59\n",
       "E          15.14\n",
       "M          14.11\n",
       "E10+        5.89"
      ]
     },
     "execution_count": 42,
     "metadata": {},
     "output_type": "execute_result"
    }
   ],
   "source": [
    "(df_test.pivot_table(index='rating', values='jp_sales', aggfunc='sum')\n",
    " .sort_values(by='jp_sales', ascending=False)\n",
    ")"
   ]
  },
  {
   "cell_type": "markdown",
   "metadata": {},
   "source": [
    "**Вывод**\n",
    "\n",
    "В Америке и Европе самые продоваемые игры с рейтингом М. В Японии продпочитают игры с рейтингом Т."
   ]
  },
  {
   "cell_type": "markdown",
   "metadata": {},
   "source": [
    "## Проверьте гипотезы"
   ]
  },
  {
   "cell_type": "markdown",
   "metadata": {},
   "source": [
    "### Средние пользовательские рейтинги платформ Xbox One и PC одинаковые"
   ]
  },
  {
   "cell_type": "code",
   "execution_count": 43,
   "metadata": {},
   "outputs": [],
   "source": [
    "xone = df_test.query('platform == \"XOne\"').dropna()\n",
    "pc = df_test.query('platform == \"PC\"').dropna()"
   ]
  },
  {
   "cell_type": "code",
   "execution_count": 44,
   "metadata": {},
   "outputs": [],
   "source": [
    "xone_rating = xone['user_score'].to_list()\n",
    "pc_rating = pc['user_score'].to_list()"
   ]
  },
  {
   "cell_type": "code",
   "execution_count": 45,
   "metadata": {},
   "outputs": [],
   "source": [
    "alpha = .05"
   ]
  },
  {
   "cell_type": "code",
   "execution_count": 46,
   "metadata": {},
   "outputs": [
    {
     "name": "stdout",
     "output_type": "stream",
     "text": [
      "p-значение:  0.14104275299383137\n",
      "Не получилось отвергнуть нулевую гипотезу\n"
     ]
    }
   ],
   "source": [
    "results = st.ttest_ind(xone_rating, pc_rating, equal_var=False)\n",
    "\n",
    "print('p-значение: ', results.pvalue)\n",
    "\n",
    "if results.pvalue < alpha:\n",
    "    print(\"Отвергаем нулевую гипотезу\")\n",
    "else:\n",
    "    print(\"Не получилось отвергнуть нулевую гипотезу\")    "
   ]
  },
  {
   "cell_type": "markdown",
   "metadata": {},
   "source": [
    "\n",
    "\n",
    "H₀ - Средние пользовательские рейтинги платформ Xbox One и PC одинаковые\n",
    "\n",
    "\n",
    "H₁ -  Средние пользовательские рейтинги платформ Xbox One и PC различаются"
   ]
  },
  {
   "cell_type": "markdown",
   "metadata": {},
   "source": [
    "### Средние пользовательские рейтинги жанров Action и Sports разные"
   ]
  },
  {
   "cell_type": "code",
   "execution_count": 47,
   "metadata": {},
   "outputs": [],
   "source": [
    "action = df_test.query('genre == \"Action\"').dropna()\n",
    "sports = df_test.query('genre == \"Sports\"').dropna()"
   ]
  },
  {
   "cell_type": "code",
   "execution_count": 48,
   "metadata": {},
   "outputs": [],
   "source": [
    "action_rating = action['user_score'].tolist()\n",
    "sports_rating = sports['user_score'].tolist()"
   ]
  },
  {
   "cell_type": "code",
   "execution_count": 49,
   "metadata": {},
   "outputs": [],
   "source": [
    "alpha = .05"
   ]
  },
  {
   "cell_type": "code",
   "execution_count": 50,
   "metadata": {
    "scrolled": false
   },
   "outputs": [
    {
     "name": "stdout",
     "output_type": "stream",
     "text": [
      "p-значение:  7.136312729062867e-13\n",
      "Отвергаем нулевую гипотезу\n"
     ]
    }
   ],
   "source": [
    "results = st.ttest_ind(action_rating, sports_rating, equal_var=False)\n",
    "\n",
    "print('p-значение: ', results.pvalue)\n",
    "\n",
    "if results.pvalue < alpha:\n",
    "    print(\"Отвергаем нулевую гипотезу\")\n",
    "else:\n",
    "    print(\"Не получилось отвергнуть нулевую гипотезу\")  "
   ]
  },
  {
   "cell_type": "markdown",
   "metadata": {},
   "source": [
    "H₀ - Средние пользовательские рейтинги жанров Action и Sports одинаковые \n",
    "\n",
    "H₁ - Средние пользовательские рейтинги платформ Action и Sports различаются "
   ]
  },
  {
   "cell_type": "markdown",
   "metadata": {},
   "source": [
    "### Платформы "
   ]
  },
  {
   "cell_type": "code",
   "execution_count": 51,
   "metadata": {},
   "outputs": [
    {
     "data": {
      "text/plain": [
       "<AxesSubplot:ylabel='Frequency'>"
      ]
     },
     "execution_count": 51,
     "metadata": {},
     "output_type": "execute_result"
    },
    {
     "data": {
      "image/png": "[encoded data removed]",
      "text/plain": [
       "<Figure size 432x288 with 1 Axes>"
      ]
     },
     "metadata": {
      "needs_background": "light"
     },
     "output_type": "display_data"
    }
   ],
   "source": [
    "xone.sort_values(by='user_score').plot(x='platform', y='user_score', kind='hist')"
   ]
  },
  {
   "cell_type": "code",
   "execution_count": 52,
   "metadata": {},
   "outputs": [
    {
     "data": {
      "text/plain": [
       "<AxesSubplot:ylabel='Frequency'>"
      ]
     },
     "execution_count": 52,
     "metadata": {},
     "output_type": "execute_result"
    },
    {
     "data": {
      "image/png": "[encoded data removed]",
      "text/plain": [
       "<Figure size 432x288 with 1 Axes>"
      ]
     },
     "metadata": {
      "needs_background": "light"
     },
     "output_type": "display_data"
    }
   ],
   "source": [
    "pc.sort_values(by='user_score').plot(x='platform', y='user_score', kind='hist')"
   ]
  },
  {
   "cell_type": "markdown",
   "metadata": {},
   "source": [
    "### Жанры"
   ]
  },
  {
   "cell_type": "code",
   "execution_count": 53,
   "metadata": {},
   "outputs": [
    {
     "data": {
      "text/plain": [
       "<AxesSubplot:ylabel='Frequency'>"
      ]
     },
     "execution_count": 53,
     "metadata": {},
     "output_type": "execute_result"
    },
    {
     "data": {
      "image/png": "[encoded data removed]",
      "text/plain": [
       "<Figure size 432x288 with 1 Axes>"
      ]
     },
     "metadata": {
      "needs_background": "light"
     },
     "output_type": "display_data"
    }
   ],
   "source": [
    "action.sort_values(by='user_score').plot(x='genre', y='user_score', kind='hist')"
   ]
  },
  {
   "cell_type": "code",
   "execution_count": 54,
   "metadata": {
    "scrolled": true
   },
   "outputs": [
    {
     "data": {
      "text/plain": [
       "<AxesSubplot:ylabel='Frequency'>"
      ]
     },
     "execution_count": 54,
     "metadata": {},
     "output_type": "execute_result"
    },
    {
     "data": {
      "image/png": "[encoded data removed]",
      "text/plain": [
       "<Figure size 432x288 with 1 Axes>"
      ]
     },
     "metadata": {
      "needs_background": "light"
     },
     "output_type": "display_data"
    }
   ],
   "source": [
    "sports.sort_values(by='user_score').plot(x='genre', y='user_score', kind='hist')"
   ]
  },
  {
   "cell_type": "markdown",
   "metadata": {},
   "source": [
    "# Общий вывод"
   ]
  },
  {
   "cell_type": "markdown",
   "metadata": {},
   "source": [
    "Для Европы и Америки самыми популярными продуктами являются платформы PS4 и Xbox One и игры жанра Action с рейтингом М. \n",
    "\n",
    "В Японии предпочитают платформу 3DS и PS3 и игры жанра Role-Playing с рейтингом Т\n",
    "\n",
    "Средний пользовательский рейтинг на PC и Xbox не отличается. Скорее всего связано с тем, что хоть платформы и разные, но на них все равно играют в одни и те же игры, поэтому и рейтинг будет одинаковый.\n",
    "\n",
    "Средний пользовательский рейтинг жанра Action и Sports отличается. Думаю это связано с тем, что в жанре Action больше игр и то что пользователи в общем отдают препочтение жанру Action."
   ]
  }
 ],
 "metadata": {
  "ExecuteTimeLog": [
   {
    "duration": 1204,
    "start_time": "2022-01-10T09:10:23.531Z"
   },
   {
    "duration": 54,
    "start_time": "2022-01-10T09:10:49.694Z"
   },
   {
    "duration": 42,
    "start_time": "2022-01-10T09:10:51.579Z"
   },
   {
    "duration": 11,
    "start_time": "2022-01-10T09:11:51.511Z"
   },
   {
    "duration": 25,
    "start_time": "2022-01-10T09:13:37.205Z"
   },
   {
    "duration": 6263,
    "start_time": "2022-01-10T09:14:13.037Z"
   },
   {
    "duration": -1535,
    "start_time": "2022-01-10T09:14:38.870Z"
   },
   {
    "duration": 334,
    "start_time": "2022-01-10T09:14:37.927Z"
   },
   {
    "duration": 323,
    "start_time": "2022-01-10T09:14:42.528Z"
   },
   {
    "duration": 263,
    "start_time": "2022-01-10T09:14:50.277Z"
   },
   {
    "duration": 5,
    "start_time": "2022-01-10T09:14:53.556Z"
   },
   {
    "duration": 16,
    "start_time": "2022-01-10T16:12:40.971Z"
   },
   {
    "duration": 10,
    "start_time": "2022-01-10T16:13:14.074Z"
   },
   {
    "duration": 9,
    "start_time": "2022-01-10T16:42:35.087Z"
   },
   {
    "duration": 24,
    "start_time": "2022-01-10T16:47:32.668Z"
   },
   {
    "duration": 29,
    "start_time": "2022-01-10T16:47:50.673Z"
   },
   {
    "duration": 301,
    "start_time": "2022-01-10T16:48:11.942Z"
   },
   {
    "duration": 6618,
    "start_time": "2022-01-10T16:48:17.476Z"
   },
   {
    "duration": 28,
    "start_time": "2022-01-10T16:48:34.433Z"
   },
   {
    "duration": 31,
    "start_time": "2022-01-10T16:48:58.122Z"
   },
   {
    "duration": 5,
    "start_time": "2022-01-10T16:53:01.918Z"
   },
   {
    "duration": 3,
    "start_time": "2022-01-10T16:53:40.503Z"
   },
   {
    "duration": 19,
    "start_time": "2022-01-10T16:53:47.262Z"
   },
   {
    "duration": 254,
    "start_time": "2022-01-10T16:55:20.744Z"
   },
   {
    "duration": 3,
    "start_time": "2022-01-10T16:57:26.068Z"
   },
   {
    "duration": 20,
    "start_time": "2022-01-10T16:57:33.529Z"
   },
   {
    "duration": 4,
    "start_time": "2022-01-10T16:57:51.813Z"
   },
   {
    "duration": 20,
    "start_time": "2022-01-10T16:57:52.998Z"
   },
   {
    "duration": 3,
    "start_time": "2022-01-10T16:58:16.827Z"
   },
   {
    "duration": 4,
    "start_time": "2022-01-10T16:58:37.766Z"
   },
   {
    "duration": 4,
    "start_time": "2022-01-10T16:58:48.054Z"
   },
   {
    "duration": 18,
    "start_time": "2022-01-10T16:58:50.930Z"
   },
   {
    "duration": 18,
    "start_time": "2022-01-10T16:59:02.585Z"
   },
   {
    "duration": 19,
    "start_time": "2022-01-10T16:59:12.980Z"
   },
   {
    "duration": 10,
    "start_time": "2022-01-10T16:59:23.748Z"
   },
   {
    "duration": 37,
    "start_time": "2022-01-10T16:59:43.840Z"
   },
   {
    "duration": 3,
    "start_time": "2022-01-10T16:59:47.265Z"
   },
   {
    "duration": 4,
    "start_time": "2022-01-10T16:59:48.722Z"
   },
   {
    "duration": 9,
    "start_time": "2022-01-10T16:59:49.958Z"
   },
   {
    "duration": 18,
    "start_time": "2022-01-10T16:59:53.484Z"
   },
   {
    "duration": 260,
    "start_time": "2022-01-10T17:00:38.527Z"
   },
   {
    "duration": 4229,
    "start_time": "2022-01-11T10:15:10.782Z"
   },
   {
    "duration": 1764,
    "start_time": "2022-01-11T10:15:15.014Z"
   },
   {
    "duration": 2836,
    "start_time": "2022-01-11T10:15:16.782Z"
   },
   {
    "duration": 19,
    "start_time": "2022-01-11T10:15:19.622Z"
   },
   {
    "duration": 32,
    "start_time": "2022-01-11T10:15:19.644Z"
   },
   {
    "duration": 7,
    "start_time": "2022-01-11T10:15:19.678Z"
   },
   {
    "duration": 8,
    "start_time": "2022-01-11T10:15:19.688Z"
   },
   {
    "duration": 14,
    "start_time": "2022-01-11T10:15:19.699Z"
   },
   {
    "duration": 39,
    "start_time": "2022-01-11T10:15:19.718Z"
   },
   {
    "duration": 6,
    "start_time": "2022-01-11T10:16:47.738Z"
   },
   {
    "duration": 12,
    "start_time": "2022-01-11T10:16:48.923Z"
   },
   {
    "duration": 31,
    "start_time": "2022-01-11T10:16:49.416Z"
   },
   {
    "duration": 15,
    "start_time": "2022-01-11T10:16:58.951Z"
   },
   {
    "duration": 2369,
    "start_time": "2022-01-11T10:23:10.116Z"
   },
   {
    "duration": 11,
    "start_time": "2022-01-11T10:24:07.675Z"
   },
   {
    "duration": 360,
    "start_time": "2022-01-11T10:25:46.447Z"
   },
   {
    "duration": 11,
    "start_time": "2022-01-11T10:25:56.272Z"
   },
   {
    "duration": 33,
    "start_time": "2022-01-11T10:26:01.350Z"
   },
   {
    "duration": 650,
    "start_time": "2022-01-11T10:26:17.576Z"
   },
   {
    "duration": 11,
    "start_time": "2022-01-11T10:26:22.395Z"
   },
   {
    "duration": 7,
    "start_time": "2022-01-11T10:26:34.436Z"
   },
   {
    "duration": 30,
    "start_time": "2022-01-11T10:26:42.628Z"
   },
   {
    "duration": 13,
    "start_time": "2022-01-11T10:27:57.398Z"
   },
   {
    "duration": 20,
    "start_time": "2022-01-11T10:30:52.362Z"
   },
   {
    "duration": 5,
    "start_time": "2022-01-11T10:42:08.462Z"
   },
   {
    "duration": 880,
    "start_time": "2022-01-11T10:42:27.188Z"
   },
   {
    "duration": 41,
    "start_time": "2022-01-11T10:42:29.297Z"
   },
   {
    "duration": 13,
    "start_time": "2022-01-11T10:44:04.204Z"
   },
   {
    "duration": 7,
    "start_time": "2022-01-11T11:42:45.964Z"
   },
   {
    "duration": 37,
    "start_time": "2022-01-11T11:42:49.639Z"
   },
   {
    "duration": 15,
    "start_time": "2022-01-11T11:43:20.309Z"
   },
   {
    "duration": 6,
    "start_time": "2022-01-11T11:43:27.772Z"
   },
   {
    "duration": 13,
    "start_time": "2022-01-11T11:43:32.952Z"
   },
   {
    "duration": 10,
    "start_time": "2022-01-11T11:43:54.468Z"
   },
   {
    "duration": 11,
    "start_time": "2022-01-11T11:45:45.162Z"
   },
   {
    "duration": 18,
    "start_time": "2022-01-11T11:46:00.485Z"
   },
   {
    "duration": 10,
    "start_time": "2022-01-11T11:46:18.370Z"
   },
   {
    "duration": 370,
    "start_time": "2022-01-11T11:46:44.289Z"
   },
   {
    "duration": 480,
    "start_time": "2022-01-11T11:46:56.604Z"
   },
   {
    "duration": 8416,
    "start_time": "2022-01-11T11:47:15.732Z"
   },
   {
    "duration": 800,
    "start_time": "2022-01-11T11:47:57.223Z"
   },
   {
    "duration": 7,
    "start_time": "2022-01-11T11:48:22.700Z"
   },
   {
    "duration": 15485,
    "start_time": "2022-01-11T11:48:27.458Z"
   },
   {
    "duration": 772,
    "start_time": "2022-01-11T11:48:54.791Z"
   },
   {
    "duration": 18,
    "start_time": "2022-01-11T11:49:14.007Z"
   },
   {
    "duration": 373,
    "start_time": "2022-01-11T11:49:18.302Z"
   },
   {
    "duration": 36,
    "start_time": "2022-01-11T11:49:27.576Z"
   },
   {
    "duration": 13,
    "start_time": "2022-01-11T11:49:56.961Z"
   },
   {
    "duration": 307,
    "start_time": "2022-01-11T11:50:01.928Z"
   },
   {
    "duration": 307,
    "start_time": "2022-01-11T11:50:16.712Z"
   },
   {
    "duration": 318,
    "start_time": "2022-01-11T11:50:56.652Z"
   },
   {
    "duration": 559,
    "start_time": "2022-01-11T11:52:51.688Z"
   },
   {
    "duration": 381,
    "start_time": "2022-01-11T11:53:00.332Z"
   },
   {
    "duration": 825,
    "start_time": "2022-01-11T11:55:38.532Z"
   },
   {
    "duration": 363,
    "start_time": "2022-01-11T11:55:47.525Z"
   },
   {
    "duration": 520,
    "start_time": "2022-01-11T11:57:02.054Z"
   },
   {
    "duration": 386,
    "start_time": "2022-01-11T11:57:08.065Z"
   },
   {
    "duration": 406,
    "start_time": "2022-01-11T12:01:55.260Z"
   },
   {
    "duration": 24,
    "start_time": "2022-01-11T12:02:05.386Z"
   },
   {
    "duration": 24,
    "start_time": "2022-01-11T12:02:18.972Z"
   },
   {
    "duration": 34,
    "start_time": "2022-01-11T12:03:09.626Z"
   },
   {
    "duration": 37,
    "start_time": "2022-01-11T12:03:18.900Z"
   },
   {
    "duration": 23,
    "start_time": "2022-01-11T12:03:27.626Z"
   },
   {
    "duration": 616,
    "start_time": "2022-01-11T12:03:35.774Z"
   },
   {
    "duration": 24,
    "start_time": "2022-01-11T12:03:48.019Z"
   },
   {
    "duration": 292,
    "start_time": "2022-01-11T12:03:53.905Z"
   },
   {
    "duration": 25,
    "start_time": "2022-01-11T12:04:01.489Z"
   },
   {
    "duration": 24,
    "start_time": "2022-01-11T12:04:15.841Z"
   },
   {
    "duration": 10362,
    "start_time": "2022-01-11T12:05:33.379Z"
   },
   {
    "duration": 25,
    "start_time": "2022-01-11T12:05:47.655Z"
   },
   {
    "duration": 15,
    "start_time": "2022-01-11T12:06:23.655Z"
   },
   {
    "duration": 11,
    "start_time": "2022-01-11T12:06:42.937Z"
   },
   {
    "duration": 232,
    "start_time": "2022-01-11T12:06:57.002Z"
   },
   {
    "duration": 18,
    "start_time": "2022-01-11T12:09:41.400Z"
   },
   {
    "duration": 6,
    "start_time": "2022-01-11T12:09:52.738Z"
   },
   {
    "duration": 15,
    "start_time": "2022-01-11T12:10:56.920Z"
   },
   {
    "duration": 350,
    "start_time": "2022-01-11T12:11:26.122Z"
   },
   {
    "duration": 16,
    "start_time": "2022-01-11T12:11:33.612Z"
   },
   {
    "duration": 328,
    "start_time": "2022-01-11T12:11:33.945Z"
   },
   {
    "duration": 18,
    "start_time": "2022-01-11T12:11:56.208Z"
   },
   {
    "duration": 669,
    "start_time": "2022-01-11T12:11:56.652Z"
   },
   {
    "duration": 9825,
    "start_time": "2022-01-11T12:12:04.271Z"
   },
   {
    "duration": 12,
    "start_time": "2022-01-11T12:12:21.934Z"
   },
   {
    "duration": 14,
    "start_time": "2022-01-11T12:12:30.552Z"
   },
   {
    "duration": 6223,
    "start_time": "2022-01-11T12:12:37.267Z"
   },
   {
    "duration": 708,
    "start_time": "2022-01-11T12:12:52.606Z"
   },
   {
    "duration": 286,
    "start_time": "2022-01-11T12:12:55.395Z"
   },
   {
    "duration": 474,
    "start_time": "2022-01-11T12:13:07.237Z"
   },
   {
    "duration": 15,
    "start_time": "2022-01-11T12:13:09.528Z"
   },
   {
    "duration": 5,
    "start_time": "2022-01-11T12:13:10.087Z"
   },
   {
    "duration": 7,
    "start_time": "2022-01-11T12:13:12.500Z"
   },
   {
    "duration": 8,
    "start_time": "2022-01-11T12:13:22.596Z"
   },
   {
    "duration": 9,
    "start_time": "2022-01-11T12:13:29.449Z"
   },
   {
    "duration": 7,
    "start_time": "2022-01-11T12:13:31.982Z"
   },
   {
    "duration": 5,
    "start_time": "2022-01-11T12:13:52.041Z"
   },
   {
    "duration": 5,
    "start_time": "2022-01-11T12:13:58.789Z"
   },
   {
    "duration": 38,
    "start_time": "2022-01-11T12:14:27.537Z"
   },
   {
    "duration": 333,
    "start_time": "2022-01-11T12:16:03.312Z"
   },
   {
    "duration": 296,
    "start_time": "2022-01-11T12:16:08.321Z"
   },
   {
    "duration": 9676,
    "start_time": "2022-01-11T12:17:32.890Z"
   },
   {
    "duration": 367,
    "start_time": "2022-01-11T12:17:49.927Z"
   },
   {
    "duration": 426,
    "start_time": "2022-01-11T12:17:58.965Z"
   },
   {
    "duration": 485,
    "start_time": "2022-01-11T12:18:08.601Z"
   },
   {
    "duration": 452,
    "start_time": "2022-01-11T12:18:24.103Z"
   },
   {
    "duration": 264,
    "start_time": "2022-01-11T12:18:44.226Z"
   },
   {
    "duration": 318,
    "start_time": "2022-01-11T12:18:54.285Z"
   },
   {
    "duration": 281,
    "start_time": "2022-01-11T12:19:16.474Z"
   },
   {
    "duration": 298,
    "start_time": "2022-01-11T12:19:37.651Z"
   },
   {
    "duration": 129,
    "start_time": "2022-01-11T13:13:59.591Z"
   },
   {
    "duration": 619,
    "start_time": "2022-01-11T13:14:06.272Z"
   },
   {
    "duration": 603,
    "start_time": "2022-01-11T13:16:24.460Z"
   },
   {
    "duration": 840,
    "start_time": "2022-01-11T13:16:43.428Z"
   },
   {
    "duration": 583,
    "start_time": "2022-01-11T13:16:54.576Z"
   },
   {
    "duration": 595,
    "start_time": "2022-01-11T13:17:44.568Z"
   },
   {
    "duration": 672,
    "start_time": "2022-01-11T13:17:58.244Z"
   },
   {
    "duration": 642,
    "start_time": "2022-01-11T13:18:02.551Z"
   },
   {
    "duration": 1070,
    "start_time": "2022-01-11T13:18:06.911Z"
   },
   {
    "duration": 9,
    "start_time": "2022-01-11T13:24:07.230Z"
   },
   {
    "duration": 33,
    "start_time": "2022-01-11T13:24:11.212Z"
   },
   {
    "duration": 562,
    "start_time": "2022-01-11T13:25:19.076Z"
   },
   {
    "duration": 35,
    "start_time": "2022-01-11T13:25:50.344Z"
   },
   {
    "duration": 8,
    "start_time": "2022-01-11T13:27:06.067Z"
   },
   {
    "duration": 396,
    "start_time": "2022-01-11T13:27:07.258Z"
   },
   {
    "duration": 8,
    "start_time": "2022-01-11T13:27:13.655Z"
   },
   {
    "duration": 358,
    "start_time": "2022-01-11T13:27:14.999Z"
   },
   {
    "duration": 430,
    "start_time": "2022-01-11T13:27:31.109Z"
   },
   {
    "duration": 810,
    "start_time": "2022-01-11T13:27:49.124Z"
   },
   {
    "duration": 373,
    "start_time": "2022-01-11T13:28:03.630Z"
   },
   {
    "duration": 301,
    "start_time": "2022-01-11T13:28:13.211Z"
   },
   {
    "duration": 311,
    "start_time": "2022-01-11T13:28:18.068Z"
   },
   {
    "duration": 33,
    "start_time": "2022-01-11T13:28:25.620Z"
   },
   {
    "duration": 11,
    "start_time": "2022-01-11T13:30:30.182Z"
   },
   {
    "duration": 42,
    "start_time": "2022-01-11T13:34:19.981Z"
   },
   {
    "duration": 365,
    "start_time": "2022-01-11T13:34:31.300Z"
   },
   {
    "duration": 674,
    "start_time": "2022-01-11T13:34:45.913Z"
   },
   {
    "duration": 8,
    "start_time": "2022-01-11T13:35:18.023Z"
   },
   {
    "duration": 6,
    "start_time": "2022-01-11T13:35:46.951Z"
   },
   {
    "duration": 9,
    "start_time": "2022-01-11T13:35:52.366Z"
   },
   {
    "duration": 359,
    "start_time": "2022-01-11T13:36:58.045Z"
   },
   {
    "duration": 424,
    "start_time": "2022-01-11T13:37:35.153Z"
   },
   {
    "duration": 34,
    "start_time": "2022-01-11T13:37:40.792Z"
   },
   {
    "duration": 320,
    "start_time": "2022-01-11T13:38:59.391Z"
   },
   {
    "duration": 9,
    "start_time": "2022-01-11T13:39:03.828Z"
   },
   {
    "duration": 10,
    "start_time": "2022-01-11T13:39:10.605Z"
   },
   {
    "duration": 12,
    "start_time": "2022-01-11T13:39:24.178Z"
   },
   {
    "duration": 22,
    "start_time": "2022-01-11T13:39:30.441Z"
   },
   {
    "duration": 8842,
    "start_time": "2022-01-11T13:39:52.346Z"
   },
   {
    "duration": 37,
    "start_time": "2022-01-11T13:40:11.957Z"
   },
   {
    "duration": 8,
    "start_time": "2022-01-11T13:40:18.357Z"
   },
   {
    "duration": 426,
    "start_time": "2022-01-11T13:41:42.427Z"
   },
   {
    "duration": 240,
    "start_time": "2022-01-11T13:41:51.691Z"
   },
   {
    "duration": 302,
    "start_time": "2022-01-11T13:42:04.318Z"
   },
   {
    "duration": 380,
    "start_time": "2022-01-11T13:42:08.119Z"
   },
   {
    "duration": 716,
    "start_time": "2022-01-11T13:42:16.595Z"
   },
   {
    "duration": 7,
    "start_time": "2022-01-11T13:42:29.500Z"
   },
   {
    "duration": 10,
    "start_time": "2022-01-11T13:42:32.900Z"
   },
   {
    "duration": 334,
    "start_time": "2022-01-11T13:43:36.040Z"
   },
   {
    "duration": 942,
    "start_time": "2022-01-11T13:43:43.264Z"
   },
   {
    "duration": 20,
    "start_time": "2022-01-11T13:44:37.751Z"
   },
   {
    "duration": 21,
    "start_time": "2022-01-11T13:44:45.136Z"
   },
   {
    "duration": 301,
    "start_time": "2022-01-11T13:44:54.838Z"
   },
   {
    "duration": 21,
    "start_time": "2022-01-11T13:45:05.213Z"
   },
   {
    "duration": 25,
    "start_time": "2022-01-11T13:45:13.974Z"
   },
   {
    "duration": 331,
    "start_time": "2022-01-11T13:51:41.888Z"
   },
   {
    "duration": 316,
    "start_time": "2022-01-11T13:51:46.802Z"
   },
   {
    "duration": 446,
    "start_time": "2022-01-11T13:53:04.198Z"
   },
   {
    "duration": 223,
    "start_time": "2022-01-11T13:53:22.652Z"
   },
   {
    "duration": 294,
    "start_time": "2022-01-11T13:53:48.758Z"
   },
   {
    "duration": 309,
    "start_time": "2022-01-11T13:53:52.718Z"
   },
   {
    "duration": 239,
    "start_time": "2022-01-11T13:55:04.823Z"
   },
   {
    "duration": 20,
    "start_time": "2022-01-11T13:56:14.592Z"
   },
   {
    "duration": 450,
    "start_time": "2022-01-11T13:56:22.175Z"
   },
   {
    "duration": 1047,
    "start_time": "2022-01-11T13:57:24.003Z"
   },
   {
    "duration": 524,
    "start_time": "2022-01-11T13:57:48.623Z"
   },
   {
    "duration": 324,
    "start_time": "2022-01-12T16:12:35.265Z"
   },
   {
    "duration": 1356,
    "start_time": "2022-01-12T16:12:43.443Z"
   },
   {
    "duration": 48,
    "start_time": "2022-01-12T16:12:44.802Z"
   },
   {
    "duration": 15,
    "start_time": "2022-01-12T16:12:44.853Z"
   },
   {
    "duration": 15,
    "start_time": "2022-01-12T16:12:44.871Z"
   },
   {
    "duration": 50,
    "start_time": "2022-01-12T16:12:44.888Z"
   },
   {
    "duration": 4,
    "start_time": "2022-01-12T16:12:44.940Z"
   },
   {
    "duration": 13,
    "start_time": "2022-01-12T16:12:44.946Z"
   },
   {
    "duration": 6,
    "start_time": "2022-01-12T16:12:44.963Z"
   },
   {
    "duration": 18,
    "start_time": "2022-01-12T16:12:44.971Z"
   },
   {
    "duration": 5,
    "start_time": "2022-01-12T16:12:45.016Z"
   },
   {
    "duration": 833,
    "start_time": "2022-01-12T16:12:45.023Z"
   },
   {
    "duration": 468,
    "start_time": "2022-01-12T16:12:45.858Z"
   },
   {
    "duration": 15,
    "start_time": "2022-01-12T16:12:46.328Z"
   },
   {
    "duration": 4,
    "start_time": "2022-01-12T16:12:46.345Z"
   },
   {
    "duration": 6,
    "start_time": "2022-01-12T16:12:46.352Z"
   },
   {
    "duration": 878,
    "start_time": "2022-01-12T16:12:46.360Z"
   },
   {
    "duration": 12,
    "start_time": "2022-01-12T16:12:47.241Z"
   },
   {
    "duration": 21,
    "start_time": "2022-01-12T16:12:47.256Z"
   },
   {
    "duration": 513,
    "start_time": "2022-01-12T16:12:47.279Z"
   },
   {
    "duration": 6492,
    "start_time": "2022-01-12T16:12:47.794Z"
   },
   {
    "duration": 813,
    "start_time": "2022-01-12T16:12:53.475Z"
   },
   {
    "duration": 32,
    "start_time": "2022-01-12T16:12:57.743Z"
   },
   {
    "duration": 255,
    "start_time": "2022-01-12T16:13:24.877Z"
   },
   {
    "duration": 507,
    "start_time": "2022-01-12T16:14:04.510Z"
   },
   {
    "duration": 395,
    "start_time": "2022-01-12T16:14:12.039Z"
   },
   {
    "duration": 264,
    "start_time": "2022-01-12T16:14:48.102Z"
   },
   {
    "duration": 278,
    "start_time": "2022-01-12T16:15:10.091Z"
   },
   {
    "duration": 257,
    "start_time": "2022-01-12T16:15:17.661Z"
   },
   {
    "duration": 274,
    "start_time": "2022-01-12T16:15:51.161Z"
   },
   {
    "duration": 36,
    "start_time": "2022-01-12T16:16:07.096Z"
   },
   {
    "duration": 33,
    "start_time": "2022-01-12T16:16:14.258Z"
   },
   {
    "duration": 7,
    "start_time": "2022-01-12T16:17:05.216Z"
   },
   {
    "duration": 6,
    "start_time": "2022-01-12T16:17:23.088Z"
   },
   {
    "duration": 13,
    "start_time": "2022-01-12T16:17:26.734Z"
   },
   {
    "duration": 6,
    "start_time": "2022-01-12T16:17:49.060Z"
   },
   {
    "duration": 7,
    "start_time": "2022-01-12T16:20:01.408Z"
   },
   {
    "duration": 16,
    "start_time": "2022-01-12T16:20:02.775Z"
   },
   {
    "duration": 8,
    "start_time": "2022-01-12T16:20:07.760Z"
   },
   {
    "duration": 6,
    "start_time": "2022-01-12T16:20:10.526Z"
   },
   {
    "duration": 262,
    "start_time": "2022-01-12T16:20:24.798Z"
   },
   {
    "duration": 270,
    "start_time": "2022-01-12T16:20:28.383Z"
   },
   {
    "duration": 261,
    "start_time": "2022-01-12T16:20:33.483Z"
   },
   {
    "duration": 7,
    "start_time": "2022-01-12T16:20:36.284Z"
   },
   {
    "duration": 7,
    "start_time": "2022-01-12T16:20:53.708Z"
   },
   {
    "duration": 284,
    "start_time": "2022-01-12T16:21:14.652Z"
   },
   {
    "duration": 289,
    "start_time": "2022-01-12T16:21:36.538Z"
   },
   {
    "duration": 89,
    "start_time": "2022-01-12T16:21:50.732Z"
   },
   {
    "duration": 3,
    "start_time": "2022-01-12T16:22:06.145Z"
   },
   {
    "duration": 92,
    "start_time": "2022-01-12T16:22:08.652Z"
   },
   {
    "duration": 91,
    "start_time": "2022-01-12T16:22:18.957Z"
   },
   {
    "duration": 7,
    "start_time": "2022-01-12T16:23:16.583Z"
   },
   {
    "duration": 414,
    "start_time": "2022-01-12T16:25:39.926Z"
   },
   {
    "duration": 271,
    "start_time": "2022-01-12T16:25:42.040Z"
   },
   {
    "duration": 283,
    "start_time": "2022-01-12T16:27:08.178Z"
   },
   {
    "duration": 5,
    "start_time": "2022-01-12T16:27:42.680Z"
   },
   {
    "duration": 14,
    "start_time": "2022-01-12T16:27:45.898Z"
   },
   {
    "duration": 259,
    "start_time": "2022-01-12T16:27:52.387Z"
   },
   {
    "duration": 35,
    "start_time": "2022-01-12T16:29:28.166Z"
   },
   {
    "duration": 258,
    "start_time": "2022-01-12T16:29:37.802Z"
   },
   {
    "duration": 274,
    "start_time": "2022-01-12T16:29:51.846Z"
   },
   {
    "duration": 268,
    "start_time": "2022-01-12T16:30:15.560Z"
   },
   {
    "duration": 276,
    "start_time": "2022-01-12T16:30:22.370Z"
   },
   {
    "duration": 10,
    "start_time": "2022-01-12T16:30:38.366Z"
   },
   {
    "duration": 8,
    "start_time": "2022-01-12T16:30:49.051Z"
   },
   {
    "duration": 283,
    "start_time": "2022-01-12T16:30:54.359Z"
   },
   {
    "duration": 12,
    "start_time": "2022-01-12T16:31:06.842Z"
   },
   {
    "duration": 11,
    "start_time": "2022-01-12T16:31:36.970Z"
   },
   {
    "duration": 265,
    "start_time": "2022-01-12T16:31:56.757Z"
   },
   {
    "duration": 271,
    "start_time": "2022-01-12T16:32:23.232Z"
   },
   {
    "duration": 34,
    "start_time": "2022-01-12T16:32:45.605Z"
   },
   {
    "duration": 14,
    "start_time": "2022-01-12T16:32:57.646Z"
   },
   {
    "duration": 358,
    "start_time": "2022-01-12T16:33:41.306Z"
   },
   {
    "duration": 266,
    "start_time": "2022-01-12T16:34:10.851Z"
   },
   {
    "duration": 5,
    "start_time": "2022-01-12T16:35:35.829Z"
   },
   {
    "duration": 59,
    "start_time": "2022-01-12T16:36:13.884Z"
   },
   {
    "duration": 11,
    "start_time": "2022-01-12T16:36:26.115Z"
   },
   {
    "duration": 5,
    "start_time": "2022-01-12T16:36:45.542Z"
   },
   {
    "duration": 124,
    "start_time": "2022-01-12T16:36:45.841Z"
   },
   {
    "duration": 12,
    "start_time": "2022-01-12T16:36:46.591Z"
   },
   {
    "duration": 1427,
    "start_time": "2022-01-12T16:37:06.443Z"
   },
   {
    "duration": 53,
    "start_time": "2022-01-12T16:37:07.872Z"
   },
   {
    "duration": 21,
    "start_time": "2022-01-12T16:37:07.929Z"
   },
   {
    "duration": 14,
    "start_time": "2022-01-12T16:37:07.953Z"
   },
   {
    "duration": 55,
    "start_time": "2022-01-12T16:37:07.970Z"
   },
   {
    "duration": 4,
    "start_time": "2022-01-12T16:37:08.028Z"
   },
   {
    "duration": 10,
    "start_time": "2022-01-12T16:37:08.034Z"
   },
   {
    "duration": 7,
    "start_time": "2022-01-12T16:37:08.046Z"
   },
   {
    "duration": 6,
    "start_time": "2022-01-12T16:37:08.058Z"
   },
   {
    "duration": 62,
    "start_time": "2022-01-12T16:37:08.069Z"
   },
   {
    "duration": 13,
    "start_time": "2022-01-12T16:37:08.134Z"
   },
   {
    "duration": 805,
    "start_time": "2022-01-12T16:37:08.150Z"
   },
   {
    "duration": 378,
    "start_time": "2022-01-12T16:37:08.958Z"
   },
   {
    "duration": 15,
    "start_time": "2022-01-12T16:37:09.339Z"
   },
   {
    "duration": 7,
    "start_time": "2022-01-12T16:37:09.356Z"
   },
   {
    "duration": 7,
    "start_time": "2022-01-12T16:37:09.366Z"
   },
   {
    "duration": 786,
    "start_time": "2022-01-12T16:37:09.375Z"
   },
   {
    "duration": 12,
    "start_time": "2022-01-12T16:37:10.163Z"
   },
   {
    "duration": 45,
    "start_time": "2022-01-12T16:37:10.177Z"
   },
   {
    "duration": 514,
    "start_time": "2022-01-12T16:37:10.224Z"
   },
   {
    "duration": 395,
    "start_time": "2022-01-12T16:37:10.740Z"
   },
   {
    "duration": 419,
    "start_time": "2022-01-12T16:37:11.138Z"
   },
   {
    "duration": 782,
    "start_time": "2022-01-12T16:37:10.778Z"
   },
   {
    "duration": 782,
    "start_time": "2022-01-12T16:37:10.779Z"
   },
   {
    "duration": 783,
    "start_time": "2022-01-12T16:37:10.780Z"
   },
   {
    "duration": 783,
    "start_time": "2022-01-12T16:37:10.781Z"
   },
   {
    "duration": 783,
    "start_time": "2022-01-12T16:37:10.783Z"
   },
   {
    "duration": 780,
    "start_time": "2022-01-12T16:37:10.787Z"
   },
   {
    "duration": 3,
    "start_time": "2022-01-12T16:37:26.182Z"
   },
   {
    "duration": 78,
    "start_time": "2022-01-12T16:37:27.027Z"
   },
   {
    "duration": 9,
    "start_time": "2022-01-12T16:37:28.123Z"
   },
   {
    "duration": 299,
    "start_time": "2022-01-12T16:37:33.735Z"
   },
   {
    "duration": 385,
    "start_time": "2022-01-12T16:37:50.958Z"
   },
   {
    "duration": 15,
    "start_time": "2022-01-12T16:38:06.715Z"
   },
   {
    "duration": 16,
    "start_time": "2022-01-12T16:38:50.376Z"
   },
   {
    "duration": 34,
    "start_time": "2022-01-12T16:38:55.090Z"
   },
   {
    "duration": 8,
    "start_time": "2022-01-12T16:39:01.282Z"
   },
   {
    "duration": 5,
    "start_time": "2022-01-12T16:39:19.437Z"
   },
   {
    "duration": 11,
    "start_time": "2022-01-12T16:39:40.115Z"
   },
   {
    "duration": 396,
    "start_time": "2022-01-12T16:40:00.840Z"
   },
   {
    "duration": 400,
    "start_time": "2022-01-12T16:40:06.070Z"
   },
   {
    "duration": 474,
    "start_time": "2022-01-12T16:40:31.437Z"
   },
   {
    "duration": 8,
    "start_time": "2022-01-12T16:42:41.664Z"
   },
   {
    "duration": 6,
    "start_time": "2022-01-12T16:42:43.744Z"
   },
   {
    "duration": 439,
    "start_time": "2022-01-12T16:42:44.634Z"
   },
   {
    "duration": 421,
    "start_time": "2022-01-12T16:42:57.085Z"
   },
   {
    "duration": 9,
    "start_time": "2022-01-12T16:43:14.064Z"
   },
   {
    "duration": 6,
    "start_time": "2022-01-12T16:43:14.409Z"
   },
   {
    "duration": 408,
    "start_time": "2022-01-12T16:43:14.733Z"
   },
   {
    "duration": 429,
    "start_time": "2022-01-12T16:43:15.702Z"
   },
   {
    "duration": 6,
    "start_time": "2022-01-12T16:45:23.980Z"
   },
   {
    "duration": 281,
    "start_time": "2022-01-12T16:45:26.708Z"
   },
   {
    "duration": 20,
    "start_time": "2022-01-12T16:45:28.439Z"
   },
   {
    "duration": 1969,
    "start_time": "2022-01-12T16:45:47.863Z"
   },
   {
    "duration": 7,
    "start_time": "2022-01-12T16:47:34.619Z"
   },
   {
    "duration": 905,
    "start_time": "2022-01-12T16:48:00.263Z"
   },
   {
    "duration": 819,
    "start_time": "2022-01-12T16:48:29.421Z"
   },
   {
    "duration": 5,
    "start_time": "2022-01-12T16:49:12.376Z"
   },
   {
    "duration": 7,
    "start_time": "2022-01-12T16:49:15.178Z"
   },
   {
    "duration": 4,
    "start_time": "2022-01-12T16:49:23.396Z"
   },
   {
    "duration": 367,
    "start_time": "2022-01-12T16:49:24.243Z"
   },
   {
    "duration": 7,
    "start_time": "2022-01-12T16:49:26.752Z"
   },
   {
    "duration": 5,
    "start_time": "2022-01-12T16:49:29.492Z"
   },
   {
    "duration": 7,
    "start_time": "2022-01-12T16:49:29.823Z"
   },
   {
    "duration": 677,
    "start_time": "2022-01-12T16:51:51.781Z"
   },
   {
    "duration": 292,
    "start_time": "2022-01-12T16:52:02.665Z"
   },
   {
    "duration": 612,
    "start_time": "2022-01-12T16:52:10.410Z"
   },
   {
    "duration": 413,
    "start_time": "2022-01-12T16:53:02.248Z"
   },
   {
    "duration": 5931,
    "start_time": "2022-01-12T16:53:09.388Z"
   },
   {
    "duration": 5396,
    "start_time": "2022-01-12T16:54:15.689Z"
   },
   {
    "duration": 5776,
    "start_time": "2022-01-12T16:54:36.136Z"
   },
   {
    "duration": 5620,
    "start_time": "2022-01-12T16:54:56.899Z"
   },
   {
    "duration": 5983,
    "start_time": "2022-01-12T16:55:06.393Z"
   },
   {
    "duration": 254,
    "start_time": "2022-01-12T16:58:29.552Z"
   },
   {
    "duration": 255,
    "start_time": "2022-01-12T16:58:34.238Z"
   },
   {
    "duration": 516,
    "start_time": "2022-01-12T16:58:39.460Z"
   },
   {
    "duration": 6,
    "start_time": "2022-01-12T16:58:57.860Z"
   },
   {
    "duration": 34,
    "start_time": "2022-01-12T16:58:58.770Z"
   },
   {
    "duration": 530,
    "start_time": "2022-01-12T16:59:07.633Z"
   },
   {
    "duration": 1472,
    "start_time": "2022-01-12T16:59:24.615Z"
   },
   {
    "duration": 47,
    "start_time": "2022-01-12T16:59:26.090Z"
   },
   {
    "duration": 14,
    "start_time": "2022-01-12T16:59:26.140Z"
   },
   {
    "duration": 18,
    "start_time": "2022-01-12T16:59:26.157Z"
   },
   {
    "duration": 55,
    "start_time": "2022-01-12T16:59:26.178Z"
   },
   {
    "duration": 4,
    "start_time": "2022-01-12T16:59:26.236Z"
   },
   {
    "duration": 11,
    "start_time": "2022-01-12T16:59:26.242Z"
   },
   {
    "duration": 6,
    "start_time": "2022-01-12T16:59:26.256Z"
   },
   {
    "duration": 7,
    "start_time": "2022-01-12T16:59:26.267Z"
   },
   {
    "duration": 48,
    "start_time": "2022-01-12T16:59:26.277Z"
   },
   {
    "duration": 5,
    "start_time": "2022-01-12T16:59:26.328Z"
   },
   {
    "duration": 816,
    "start_time": "2022-01-12T16:59:26.335Z"
   },
   {
    "duration": 387,
    "start_time": "2022-01-12T16:59:27.153Z"
   },
   {
    "duration": 16,
    "start_time": "2022-01-12T16:59:27.542Z"
   },
   {
    "duration": 5,
    "start_time": "2022-01-12T16:59:27.560Z"
   },
   {
    "duration": 9,
    "start_time": "2022-01-12T16:59:27.567Z"
   },
   {
    "duration": 716,
    "start_time": "2022-01-12T16:59:27.578Z"
   },
   {
    "duration": 21,
    "start_time": "2022-01-12T16:59:28.296Z"
   },
   {
    "duration": 20,
    "start_time": "2022-01-12T16:59:28.319Z"
   },
   {
    "duration": 564,
    "start_time": "2022-01-12T16:59:28.342Z"
   },
   {
    "duration": 399,
    "start_time": "2022-01-12T16:59:28.908Z"
   },
   {
    "duration": 15,
    "start_time": "2022-01-12T16:59:29.309Z"
   },
   {
    "duration": 7,
    "start_time": "2022-01-12T16:59:29.326Z"
   },
   {
    "duration": 396,
    "start_time": "2022-01-12T16:59:29.336Z"
   },
   {
    "duration": 7,
    "start_time": "2022-01-12T16:59:29.736Z"
   },
   {
    "duration": 5,
    "start_time": "2022-01-12T16:59:29.746Z"
   },
   {
    "duration": 7,
    "start_time": "2022-01-12T16:59:29.756Z"
   },
   {
    "duration": 6578,
    "start_time": "2022-01-12T16:59:29.766Z"
   },
   {
    "duration": 638,
    "start_time": "2022-01-12T17:01:04.015Z"
   },
   {
    "duration": 548,
    "start_time": "2022-01-12T17:01:18.902Z"
   },
   {
    "duration": 774,
    "start_time": "2022-01-12T17:01:38.094Z"
   },
   {
    "duration": 583,
    "start_time": "2022-01-12T17:01:45.543Z"
   },
   {
    "duration": 744,
    "start_time": "2022-01-12T17:01:51.361Z"
   },
   {
    "duration": 653,
    "start_time": "2022-01-12T17:01:56.267Z"
   },
   {
    "duration": 677,
    "start_time": "2022-01-12T17:02:13.959Z"
   },
   {
    "duration": 630,
    "start_time": "2022-01-12T17:02:54.362Z"
   },
   {
    "duration": 6,
    "start_time": "2022-01-12T17:06:32.505Z"
   },
   {
    "duration": 1511,
    "start_time": "2022-01-12T17:10:02.298Z"
   },
   {
    "duration": 64,
    "start_time": "2022-01-12T17:10:03.813Z"
   },
   {
    "duration": 35,
    "start_time": "2022-01-12T17:10:03.884Z"
   },
   {
    "duration": 16,
    "start_time": "2022-01-12T17:10:03.921Z"
   },
   {
    "duration": 34,
    "start_time": "2022-01-12T17:10:03.940Z"
   },
   {
    "duration": 43,
    "start_time": "2022-01-12T17:10:03.977Z"
   },
   {
    "duration": 15,
    "start_time": "2022-01-12T17:10:04.024Z"
   },
   {
    "duration": 7,
    "start_time": "2022-01-12T17:10:04.043Z"
   },
   {
    "duration": 11,
    "start_time": "2022-01-12T17:10:04.053Z"
   },
   {
    "duration": 16,
    "start_time": "2022-01-12T17:10:04.067Z"
   },
   {
    "duration": 4,
    "start_time": "2022-01-12T17:10:04.117Z"
   },
   {
    "duration": 976,
    "start_time": "2022-01-12T17:10:04.125Z"
   },
   {
    "duration": 521,
    "start_time": "2022-01-12T17:10:05.104Z"
   },
   {
    "duration": 21,
    "start_time": "2022-01-12T17:10:05.629Z"
   },
   {
    "duration": 8,
    "start_time": "2022-01-12T17:10:05.653Z"
   },
   {
    "duration": 8,
    "start_time": "2022-01-12T17:10:05.663Z"
   },
   {
    "duration": 725,
    "start_time": "2022-01-12T17:10:05.674Z"
   },
   {
    "duration": 19,
    "start_time": "2022-01-12T17:10:06.403Z"
   },
   {
    "duration": 26,
    "start_time": "2022-01-12T17:10:06.425Z"
   },
   {
    "duration": 709,
    "start_time": "2022-01-12T17:10:06.455Z"
   },
   {
    "duration": 445,
    "start_time": "2022-01-12T17:10:07.166Z"
   },
   {
    "duration": 9,
    "start_time": "2022-01-12T17:10:07.617Z"
   },
   {
    "duration": 22,
    "start_time": "2022-01-12T17:10:07.629Z"
   },
   {
    "duration": 469,
    "start_time": "2022-01-12T17:10:07.654Z"
   },
   {
    "duration": 10,
    "start_time": "2022-01-12T17:10:08.130Z"
   },
   {
    "duration": 6,
    "start_time": "2022-01-12T17:10:08.143Z"
   },
   {
    "duration": 9,
    "start_time": "2022-01-12T17:10:08.152Z"
   },
   {
    "duration": 5736,
    "start_time": "2022-01-12T17:10:08.164Z"
   },
   {
    "duration": 374,
    "start_time": "2022-01-12T17:10:13.902Z"
   },
   {
    "duration": 7,
    "start_time": "2022-01-12T17:10:57.303Z"
   },
   {
    "duration": 14,
    "start_time": "2022-01-12T17:11:04.919Z"
   },
   {
    "duration": 15,
    "start_time": "2022-01-12T17:11:09.133Z"
   },
   {
    "duration": 249,
    "start_time": "2022-01-12T17:11:28.139Z"
   },
   {
    "duration": 7,
    "start_time": "2022-01-12T17:11:32.511Z"
   },
   {
    "duration": 10,
    "start_time": "2022-01-12T17:12:01.937Z"
   },
   {
    "duration": 6,
    "start_time": "2022-01-12T17:12:02.828Z"
   },
   {
    "duration": 383,
    "start_time": "2022-01-12T17:12:04.355Z"
   },
   {
    "duration": 7,
    "start_time": "2022-01-12T17:12:05.976Z"
   },
   {
    "duration": 6,
    "start_time": "2022-01-12T17:12:06.928Z"
   },
   {
    "duration": 32,
    "start_time": "2022-01-12T17:12:38.138Z"
   },
   {
    "duration": 8,
    "start_time": "2022-01-12T17:12:48.920Z"
   },
   {
    "duration": 20,
    "start_time": "2022-01-12T17:13:29.546Z"
   },
   {
    "duration": 281,
    "start_time": "2022-01-12T17:13:37.620Z"
   },
   {
    "duration": 29,
    "start_time": "2022-01-12T17:13:46.184Z"
   },
   {
    "duration": 30,
    "start_time": "2022-01-12T17:13:54.087Z"
   },
   {
    "duration": 20,
    "start_time": "2022-01-12T17:34:45.715Z"
   },
   {
    "duration": 21,
    "start_time": "2022-01-12T17:34:51.077Z"
   },
   {
    "duration": 23,
    "start_time": "2022-01-12T17:37:21.986Z"
   },
   {
    "duration": 27,
    "start_time": "2022-01-12T17:37:53.859Z"
   },
   {
    "duration": 24,
    "start_time": "2022-01-12T17:38:01.758Z"
   },
   {
    "duration": 31,
    "start_time": "2022-01-12T17:38:30.027Z"
   },
   {
    "duration": 24,
    "start_time": "2022-01-12T17:38:46.282Z"
   },
   {
    "duration": 305,
    "start_time": "2022-01-12T17:40:21.128Z"
   },
   {
    "duration": 572,
    "start_time": "2022-01-12T17:40:48.660Z"
   },
   {
    "duration": 541,
    "start_time": "2022-01-12T17:40:53.854Z"
   },
   {
    "duration": 378,
    "start_time": "2022-01-12T17:40:56.785Z"
   },
   {
    "duration": 25,
    "start_time": "2022-01-12T17:42:56.132Z"
   },
   {
    "duration": 344,
    "start_time": "2022-01-12T17:43:10.069Z"
   },
   {
    "duration": 20,
    "start_time": "2022-01-12T17:43:16.802Z"
   },
   {
    "duration": 19,
    "start_time": "2022-01-12T17:43:41.052Z"
   },
   {
    "duration": 20,
    "start_time": "2022-01-12T17:44:50.481Z"
   },
   {
    "duration": 22,
    "start_time": "2022-01-12T17:45:02.054Z"
   },
   {
    "duration": 21,
    "start_time": "2022-01-12T17:45:14.592Z"
   },
   {
    "duration": 19,
    "start_time": "2022-01-12T17:45:50.739Z"
   },
   {
    "duration": 20,
    "start_time": "2022-01-12T17:45:58.732Z"
   },
   {
    "duration": 325,
    "start_time": "2022-01-12T17:46:06.741Z"
   },
   {
    "duration": 19,
    "start_time": "2022-01-12T17:46:09.959Z"
   },
   {
    "duration": 18,
    "start_time": "2022-01-12T17:46:18.286Z"
   },
   {
    "duration": 10,
    "start_time": "2022-01-12T17:49:30.807Z"
   },
   {
    "duration": 10,
    "start_time": "2022-01-12T17:49:46.547Z"
   },
   {
    "duration": 4,
    "start_time": "2022-01-12T17:50:15.837Z"
   },
   {
    "duration": 421,
    "start_time": "2022-01-12T17:52:08.100Z"
   },
   {
    "duration": 33,
    "start_time": "2022-01-12T17:52:35.181Z"
   },
   {
    "duration": 6464,
    "start_time": "2022-01-12T17:53:10.927Z"
   },
   {
    "duration": 9,
    "start_time": "2022-01-12T17:53:23.377Z"
   },
   {
    "duration": 8058,
    "start_time": "2022-01-12T17:53:36.642Z"
   },
   {
    "duration": 251,
    "start_time": "2022-01-12T17:53:56.061Z"
   },
   {
    "duration": 255,
    "start_time": "2022-01-12T17:54:03.650Z"
   },
   {
    "duration": 8,
    "start_time": "2022-01-12T17:54:11.382Z"
   },
   {
    "duration": 11,
    "start_time": "2022-01-12T17:55:18.564Z"
   },
   {
    "duration": 4,
    "start_time": "2022-01-12T17:55:41.603Z"
   },
   {
    "duration": 9,
    "start_time": "2022-01-12T17:55:46.528Z"
   },
   {
    "duration": 4,
    "start_time": "2022-01-12T17:56:01.974Z"
   },
   {
    "duration": 8,
    "start_time": "2022-01-12T17:56:04.127Z"
   },
   {
    "duration": 5,
    "start_time": "2022-01-12T17:56:17.092Z"
   },
   {
    "duration": 7,
    "start_time": "2022-01-12T17:56:18.485Z"
   },
   {
    "duration": 7,
    "start_time": "2022-01-12T17:56:27.759Z"
   },
   {
    "duration": 650,
    "start_time": "2022-01-12T17:56:34.580Z"
   },
   {
    "duration": 583,
    "start_time": "2022-01-12T17:56:42.103Z"
   },
   {
    "duration": 7,
    "start_time": "2022-01-12T17:56:45.984Z"
   },
   {
    "duration": 15,
    "start_time": "2022-01-12T17:58:07.236Z"
   },
   {
    "duration": 321,
    "start_time": "2022-01-12T17:58:12.069Z"
   },
   {
    "duration": 16,
    "start_time": "2022-01-12T17:58:15.876Z"
   },
   {
    "duration": 4,
    "start_time": "2022-01-12T17:58:17.639Z"
   },
   {
    "duration": 7,
    "start_time": "2022-01-12T17:58:18.130Z"
   },
   {
    "duration": 6,
    "start_time": "2022-01-12T17:58:23.743Z"
   },
   {
    "duration": 17,
    "start_time": "2022-01-12T18:00:17.983Z"
   },
   {
    "duration": 5,
    "start_time": "2022-01-12T18:00:37.134Z"
   },
   {
    "duration": 7,
    "start_time": "2022-01-12T18:00:37.690Z"
   },
   {
    "duration": 78,
    "start_time": "2022-01-12T18:01:45.728Z"
   },
   {
    "duration": 6,
    "start_time": "2022-01-12T18:01:48.410Z"
   },
   {
    "duration": 6,
    "start_time": "2022-01-12T18:01:55.882Z"
   },
   {
    "duration": 11,
    "start_time": "2022-01-12T18:04:16.281Z"
   },
   {
    "duration": 39,
    "start_time": "2022-01-12T18:04:51.220Z"
   },
   {
    "duration": 6207,
    "start_time": "2022-01-12T18:05:23.689Z"
   },
   {
    "duration": 5,
    "start_time": "2022-01-12T18:05:36.191Z"
   },
   {
    "duration": 4,
    "start_time": "2022-01-12T18:05:49.892Z"
   },
   {
    "duration": 7,
    "start_time": "2022-01-12T18:06:32.949Z"
   },
   {
    "duration": 6,
    "start_time": "2022-01-12T18:06:36.887Z"
   },
   {
    "duration": 9,
    "start_time": "2022-01-12T18:06:45.776Z"
   },
   {
    "duration": 18,
    "start_time": "2022-01-12T18:07:18.298Z"
   },
   {
    "duration": 5,
    "start_time": "2022-01-12T18:07:20.325Z"
   },
   {
    "duration": 4,
    "start_time": "2022-01-12T18:07:20.592Z"
   },
   {
    "duration": 9,
    "start_time": "2022-01-12T18:07:20.851Z"
   },
   {
    "duration": 6,
    "start_time": "2022-01-12T18:07:47.344Z"
   },
   {
    "duration": 6,
    "start_time": "2022-01-12T18:07:48.810Z"
   },
   {
    "duration": 287,
    "start_time": "2022-01-12T19:51:40.939Z"
   },
   {
    "duration": 6,
    "start_time": "2022-01-12T19:52:50.395Z"
   },
   {
    "duration": 433,
    "start_time": "2022-01-12T19:52:51.689Z"
   },
   {
    "duration": 6,
    "start_time": "2022-01-12T19:52:58.892Z"
   },
   {
    "duration": 7,
    "start_time": "2022-01-12T19:52:59.457Z"
   },
   {
    "duration": 293,
    "start_time": "2022-01-12T20:30:01.962Z"
   },
   {
    "duration": 1521,
    "start_time": "2022-01-14T16:48:15.539Z"
   },
   {
    "duration": 50,
    "start_time": "2022-01-14T16:48:17.063Z"
   },
   {
    "duration": 15,
    "start_time": "2022-01-14T16:48:17.116Z"
   },
   {
    "duration": 40,
    "start_time": "2022-01-14T16:48:17.134Z"
   },
   {
    "duration": 26,
    "start_time": "2022-01-14T16:48:17.177Z"
   },
   {
    "duration": 5,
    "start_time": "2022-01-14T16:48:17.205Z"
   },
   {
    "duration": 10,
    "start_time": "2022-01-14T16:48:17.212Z"
   },
   {
    "duration": 6,
    "start_time": "2022-01-14T16:48:17.226Z"
   },
   {
    "duration": 35,
    "start_time": "2022-01-14T16:48:17.235Z"
   },
   {
    "duration": 10,
    "start_time": "2022-01-14T16:48:17.273Z"
   },
   {
    "duration": 17,
    "start_time": "2022-01-14T16:48:17.286Z"
   },
   {
    "duration": 4,
    "start_time": "2022-01-14T16:48:17.305Z"
   },
   {
    "duration": 896,
    "start_time": "2022-01-14T16:48:17.312Z"
   },
   {
    "duration": 400,
    "start_time": "2022-01-14T16:48:18.211Z"
   },
   {
    "duration": 21,
    "start_time": "2022-01-14T16:48:18.614Z"
   },
   {
    "duration": 5,
    "start_time": "2022-01-14T16:48:18.637Z"
   },
   {
    "duration": 31,
    "start_time": "2022-01-14T16:48:18.644Z"
   },
   {
    "duration": 733,
    "start_time": "2022-01-14T16:48:18.680Z"
   },
   {
    "duration": 15,
    "start_time": "2022-01-14T16:48:19.416Z"
   },
   {
    "duration": 51,
    "start_time": "2022-01-14T16:48:19.434Z"
   },
   {
    "duration": 688,
    "start_time": "2022-01-14T16:48:19.488Z"
   },
   {
    "duration": 94,
    "start_time": "2022-01-14T16:48:20.179Z"
   },
   {
    "duration": -392,
    "start_time": "2022-01-14T16:48:20.674Z"
   },
   {
    "duration": -395,
    "start_time": "2022-01-14T16:48:20.679Z"
   },
   {
    "duration": -395,
    "start_time": "2022-01-14T16:48:20.681Z"
   },
   {
    "duration": -407,
    "start_time": "2022-01-14T16:48:20.695Z"
   },
   {
    "duration": -412,
    "start_time": "2022-01-14T16:48:20.701Z"
   },
   {
    "duration": -414,
    "start_time": "2022-01-14T16:48:20.705Z"
   },
   {
    "duration": -418,
    "start_time": "2022-01-14T16:48:20.711Z"
   },
   {
    "duration": -437,
    "start_time": "2022-01-14T16:48:20.731Z"
   },
   {
    "duration": -438,
    "start_time": "2022-01-14T16:48:20.735Z"
   },
   {
    "duration": -441,
    "start_time": "2022-01-14T16:48:20.740Z"
   },
   {
    "duration": -441,
    "start_time": "2022-01-14T16:48:20.742Z"
   },
   {
    "duration": -444,
    "start_time": "2022-01-14T16:48:20.747Z"
   },
   {
    "duration": -446,
    "start_time": "2022-01-14T16:48:20.751Z"
   },
   {
    "duration": -446,
    "start_time": "2022-01-14T16:48:20.753Z"
   },
   {
    "duration": -452,
    "start_time": "2022-01-14T16:48:20.761Z"
   },
   {
    "duration": -453,
    "start_time": "2022-01-14T16:48:20.763Z"
   },
   {
    "duration": -454,
    "start_time": "2022-01-14T16:48:20.766Z"
   },
   {
    "duration": -454,
    "start_time": "2022-01-14T16:48:20.768Z"
   },
   {
    "duration": -458,
    "start_time": "2022-01-14T16:48:20.773Z"
   },
   {
    "duration": -467,
    "start_time": "2022-01-14T16:48:20.784Z"
   },
   {
    "duration": -477,
    "start_time": "2022-01-14T16:48:20.795Z"
   },
   {
    "duration": -437,
    "start_time": "2022-01-14T16:48:20.804Z"
   },
   {
    "duration": -435,
    "start_time": "2022-01-14T16:48:20.807Z"
   },
   {
    "duration": -436,
    "start_time": "2022-01-14T16:48:20.810Z"
   },
   {
    "duration": -446,
    "start_time": "2022-01-14T16:48:20.821Z"
   },
   {
    "duration": -449,
    "start_time": "2022-01-14T16:48:20.826Z"
   },
   {
    "duration": -449,
    "start_time": "2022-01-14T16:48:20.828Z"
   },
   {
    "duration": 3,
    "start_time": "2022-01-14T16:48:52.278Z"
   },
   {
    "duration": 13,
    "start_time": "2022-01-14T16:48:52.284Z"
   },
   {
    "duration": 6,
    "start_time": "2022-01-14T16:48:52.301Z"
   },
   {
    "duration": 479,
    "start_time": "2022-01-14T16:48:52.310Z"
   },
   {
    "duration": 9,
    "start_time": "2022-01-14T16:48:52.792Z"
   },
   {
    "duration": 6,
    "start_time": "2022-01-14T16:48:52.804Z"
   },
   {
    "duration": 10,
    "start_time": "2022-01-14T16:48:52.813Z"
   },
   {
    "duration": 5938,
    "start_time": "2022-01-14T16:48:52.825Z"
   },
   {
    "duration": 14,
    "start_time": "2022-01-14T16:48:58.771Z"
   },
   {
    "duration": 20,
    "start_time": "2022-01-14T16:48:58.789Z"
   },
   {
    "duration": 6,
    "start_time": "2022-01-14T16:48:58.811Z"
   },
   {
    "duration": 61,
    "start_time": "2022-01-14T16:48:58.819Z"
   },
   {
    "duration": 21,
    "start_time": "2022-01-14T16:48:58.882Z"
   },
   {
    "duration": 21,
    "start_time": "2022-01-14T16:48:58.906Z"
   },
   {
    "duration": 58,
    "start_time": "2022-01-14T16:48:58.930Z"
   },
   {
    "duration": 20,
    "start_time": "2022-01-14T16:48:58.991Z"
   },
   {
    "duration": 20,
    "start_time": "2022-01-14T16:48:59.014Z"
   },
   {
    "duration": 22,
    "start_time": "2022-01-14T16:48:59.075Z"
   },
   {
    "duration": 21,
    "start_time": "2022-01-14T16:48:59.099Z"
   },
   {
    "duration": 19,
    "start_time": "2022-01-14T16:48:59.122Z"
   },
   {
    "duration": 20,
    "start_time": "2022-01-14T16:48:59.171Z"
   },
   {
    "duration": 4,
    "start_time": "2022-01-14T16:48:59.193Z"
   },
   {
    "duration": 7,
    "start_time": "2022-01-14T16:48:59.199Z"
   },
   {
    "duration": 8,
    "start_time": "2022-01-14T16:48:59.208Z"
   },
   {
    "duration": 55,
    "start_time": "2022-01-14T16:48:59.219Z"
   },
   {
    "duration": 4,
    "start_time": "2022-01-14T16:48:59.278Z"
   },
   {
    "duration": 17,
    "start_time": "2022-01-14T16:48:59.292Z"
   },
   {
    "duration": 8,
    "start_time": "2022-01-14T16:48:59.312Z"
   },
   {
    "duration": 33,
    "start_time": "2022-01-14T16:49:15.854Z"
   },
   {
    "duration": 481,
    "start_time": "2022-01-14T16:49:41.198Z"
   },
   {
    "duration": 447,
    "start_time": "2022-01-14T16:49:58.744Z"
   },
   {
    "duration": 488,
    "start_time": "2022-01-14T16:50:04.017Z"
   },
   {
    "duration": 295,
    "start_time": "2022-01-14T16:50:24.452Z"
   },
   {
    "duration": 266,
    "start_time": "2022-01-14T16:50:53.847Z"
   },
   {
    "duration": 391,
    "start_time": "2022-01-14T16:51:07.223Z"
   },
   {
    "duration": 363,
    "start_time": "2022-01-14T16:51:30.433Z"
   },
   {
    "duration": 352,
    "start_time": "2022-01-14T16:52:40.069Z"
   },
   {
    "duration": 381,
    "start_time": "2022-01-14T16:52:48.832Z"
   },
   {
    "duration": 398,
    "start_time": "2022-01-14T16:57:41.188Z"
   },
   {
    "duration": 422,
    "start_time": "2022-01-14T16:57:57.403Z"
   },
   {
    "duration": 12,
    "start_time": "2022-01-14T17:08:44.796Z"
   },
   {
    "duration": 350,
    "start_time": "2022-01-14T17:13:35.566Z"
   },
   {
    "duration": 8253,
    "start_time": "2022-01-14T17:13:53.945Z"
   },
   {
    "duration": 386,
    "start_time": "2022-01-14T17:14:12.573Z"
   },
   {
    "duration": 512,
    "start_time": "2022-01-14T17:14:30.585Z"
   },
   {
    "duration": 511,
    "start_time": "2022-01-14T17:15:02.923Z"
   },
   {
    "duration": 1378,
    "start_time": "2022-01-14T17:30:25.161Z"
   },
   {
    "duration": 49,
    "start_time": "2022-01-14T17:30:26.541Z"
   },
   {
    "duration": 15,
    "start_time": "2022-01-14T17:30:26.593Z"
   },
   {
    "duration": 15,
    "start_time": "2022-01-14T17:30:26.612Z"
   },
   {
    "duration": 50,
    "start_time": "2022-01-14T17:30:26.629Z"
   },
   {
    "duration": 5,
    "start_time": "2022-01-14T17:30:26.683Z"
   },
   {
    "duration": 9,
    "start_time": "2022-01-14T17:30:26.691Z"
   },
   {
    "duration": 6,
    "start_time": "2022-01-14T17:30:26.702Z"
   },
   {
    "duration": 8,
    "start_time": "2022-01-14T17:30:26.712Z"
   },
   {
    "duration": 48,
    "start_time": "2022-01-14T17:30:26.723Z"
   },
   {
    "duration": 18,
    "start_time": "2022-01-14T17:30:26.773Z"
   },
   {
    "duration": 5,
    "start_time": "2022-01-14T17:30:26.793Z"
   },
   {
    "duration": 817,
    "start_time": "2022-01-14T17:30:26.800Z"
   },
   {
    "duration": 391,
    "start_time": "2022-01-14T17:30:27.620Z"
   },
   {
    "duration": 15,
    "start_time": "2022-01-14T17:30:28.014Z"
   },
   {
    "duration": 5,
    "start_time": "2022-01-14T17:30:28.032Z"
   },
   {
    "duration": 28,
    "start_time": "2022-01-14T17:30:28.039Z"
   },
   {
    "duration": 699,
    "start_time": "2022-01-14T17:30:28.070Z"
   },
   {
    "duration": 14,
    "start_time": "2022-01-14T17:30:28.771Z"
   },
   {
    "duration": 24,
    "start_time": "2022-01-14T17:30:28.788Z"
   },
   {
    "duration": 679,
    "start_time": "2022-01-14T17:30:28.814Z"
   },
   {
    "duration": 3,
    "start_time": "2022-01-14T17:30:29.495Z"
   },
   {
    "duration": 11,
    "start_time": "2022-01-14T17:30:29.500Z"
   },
   {
    "duration": 8,
    "start_time": "2022-01-14T17:30:29.513Z"
   },
   {
    "duration": 432,
    "start_time": "2022-01-14T17:30:29.523Z"
   },
   {
    "duration": 13,
    "start_time": "2022-01-14T17:30:29.957Z"
   },
   {
    "duration": 5,
    "start_time": "2022-01-14T17:30:29.976Z"
   },
   {
    "duration": 9,
    "start_time": "2022-01-14T17:30:29.984Z"
   },
   {
    "duration": 5618,
    "start_time": "2022-01-14T17:30:29.996Z"
   },
   {
    "duration": 9,
    "start_time": "2022-01-14T17:30:35.616Z"
   },
   {
    "duration": 42,
    "start_time": "2022-01-14T17:30:35.627Z"
   },
   {
    "duration": 500,
    "start_time": "2022-01-14T17:30:35.671Z"
   },
   {
    "duration": 5,
    "start_time": "2022-01-14T17:30:36.173Z"
   },
   {
    "duration": 25,
    "start_time": "2022-01-14T17:30:36.181Z"
   },
   {
    "duration": 20,
    "start_time": "2022-01-14T17:30:36.208Z"
   },
   {
    "duration": 55,
    "start_time": "2022-01-14T17:30:36.231Z"
   },
   {
    "duration": 21,
    "start_time": "2022-01-14T17:30:36.288Z"
   },
   {
    "duration": 56,
    "start_time": "2022-01-14T17:30:36.311Z"
   },
   {
    "duration": 20,
    "start_time": "2022-01-14T17:30:36.370Z"
   },
   {
    "duration": 19,
    "start_time": "2022-01-14T17:30:36.392Z"
   },
   {
    "duration": 54,
    "start_time": "2022-01-14T17:30:36.413Z"
   },
   {
    "duration": 19,
    "start_time": "2022-01-14T17:30:36.470Z"
   },
   {
    "duration": 19,
    "start_time": "2022-01-14T17:30:36.493Z"
   },
   {
    "duration": 5,
    "start_time": "2022-01-14T17:30:36.514Z"
   },
   {
    "duration": 6,
    "start_time": "2022-01-14T17:30:36.522Z"
   },
   {
    "duration": 8,
    "start_time": "2022-01-14T17:30:36.568Z"
   },
   {
    "duration": 18,
    "start_time": "2022-01-14T17:30:36.579Z"
   },
   {
    "duration": 5,
    "start_time": "2022-01-14T17:30:36.599Z"
   },
   {
    "duration": 6,
    "start_time": "2022-01-14T17:30:36.607Z"
   },
   {
    "duration": 52,
    "start_time": "2022-01-14T17:30:36.615Z"
   },
   {
    "duration": 348,
    "start_time": "2022-01-14T17:30:36.670Z"
   },
   {
    "duration": 353,
    "start_time": "2022-01-14T17:30:37.020Z"
   },
   {
    "duration": 356,
    "start_time": "2022-01-14T17:30:37.375Z"
   },
   {
    "duration": 350,
    "start_time": "2022-01-14T17:30:37.733Z"
   }
  ],
  "kernelspec": {
   "display_name": "Python 3 (ipykernel)",
   "language": "python",
   "name": "python3"
  },
  "language_info": {
   "codemirror_mode": {
    "name": "ipython",
    "version": 3
   },
   "file_extension": ".py",
   "mimetype": "text/x-python",
   "name": "python",
   "nbconvert_exporter": "python",
   "pygments_lexer": "ipython3",
   "version": "3.9.7"
  },
  "toc": {
   "base_numbering": 1,
   "nav_menu": {},
   "number_sections": true,
   "sideBar": true,
   "skip_h1_title": true,
   "title_cell": "Table of Contents",
   "title_sidebar": "Contents",
   "toc_cell": false,
   "toc_position": {},
   "toc_section_display": true,
   "toc_window_display": true
  }
 },
 "nbformat": 4,
 "nbformat_minor": 2
}
