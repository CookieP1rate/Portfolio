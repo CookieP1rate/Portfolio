{
 "cells": [
  {
   "cell_type": "markdown",
   "metadata": {
    "toc": true
   },
   "source": [
    "<h1>Содержание<span class=\"tocSkip\"></span></h1>\n",
    "<div class=\"toc\"><ul class=\"toc-item\"><li><span><a href=\"#Подготовка-данных\" data-toc-modified-id=\"Подготовка-данных-1\"><span class=\"toc-item-num\">1&nbsp;&nbsp;</span>Подготовка данных</a></span><ul class=\"toc-item\"><li><span><a href=\"#Расчет-эффективности-обогащения\" data-toc-modified-id=\"Расчет-эффективности-обогащения-1.1\"><span class=\"toc-item-num\">1.1&nbsp;&nbsp;</span>Расчет эффективности обогащения</a></span></li><li><span><a href=\"#Предобработка-данных\" data-toc-modified-id=\"Предобработка-данных-1.2\"><span class=\"toc-item-num\">1.2&nbsp;&nbsp;</span>Предобработка данных</a></span></li></ul></li><li><span><a href=\"#Анализ-данных\" data-toc-modified-id=\"Анализ-данных-2\"><span class=\"toc-item-num\">2&nbsp;&nbsp;</span>Анализ данных</a></span><ul class=\"toc-item\"><li><span><a href=\"#Сравнение-распределения-размеров-гранул-сырья-на-обучающей-и-тестовой-выборке\" data-toc-modified-id=\"Сравнение-распределения-размеров-гранул-сырья-на-обучающей-и-тестовой-выборке-2.1\"><span class=\"toc-item-num\">2.1&nbsp;&nbsp;</span>Сравнение распределения размеров гранул сырья на обучающей и тестовой выборке</a></span></li><li><span><a href=\"#Суммарная-концетрация-всех-веществ-на-разных-стадиях\" data-toc-modified-id=\"Суммарная-концетрация-всех-веществ-на-разных-стадиях-2.2\"><span class=\"toc-item-num\">2.2&nbsp;&nbsp;</span>Суммарная концетрация всех веществ на разных стадиях</a></span></li></ul></li><li><span><a href=\"#Модель\" data-toc-modified-id=\"Модель-3\"><span class=\"toc-item-num\">3&nbsp;&nbsp;</span>Модель</a></span><ul class=\"toc-item\"><li><span><a href=\"#DecisionTreeRegressor\" data-toc-modified-id=\"DecisionTreeRegressor-3.1\"><span class=\"toc-item-num\">3.1&nbsp;&nbsp;</span>DecisionTreeRegressor</a></span></li><li><span><a href=\"#RandomForestRegressor\" data-toc-modified-id=\"RandomForestRegressor-3.2\"><span class=\"toc-item-num\">3.2&nbsp;&nbsp;</span>RandomForestRegressor</a></span></li><li><span><a href=\"#LinearRegression\" data-toc-modified-id=\"LinearRegression-3.3\"><span class=\"toc-item-num\">3.3&nbsp;&nbsp;</span>LinearRegression</a></span></li><li><span><a href=\"#Проверка-модели-на-тестовой-выборке\" data-toc-modified-id=\"Проверка-модели-на-тестовой-выборке-3.4\"><span class=\"toc-item-num\">3.4&nbsp;&nbsp;</span>Проверка модели на тестовой выборке</a></span></li></ul></li><li><span><a href=\"#Общий-вывод\" data-toc-modified-id=\"Общий-вывод-4\"><span class=\"toc-item-num\">4&nbsp;&nbsp;</span>Общий вывод</a></span></li><li><span><a href=\"#Чек-лист-готовности-проекта\" data-toc-modified-id=\"Чек-лист-готовности-проекта-5\"><span class=\"toc-item-num\">5&nbsp;&nbsp;</span>Чек-лист готовности проекта</a></span></li></ul></div>"
   ]
  },
  {
   "cell_type": "markdown",
   "metadata": {},
   "source": [
    "# Восстановление золота из руды"
   ]
  },
  {
   "cell_type": "markdown",
   "metadata": {},
   "source": [
    "Подготовьте прототип модели машинного обучения для «Цифры». Компания разрабатывает решения для эффективной работы промышленных предприятий.\n",
    "\n",
    "Модель должна предсказать коэффициент восстановления золота из золотосодержащей руды. Используйте данные с параметрами добычи и очистки. \n",
    "\n",
    "Модель поможет оптимизировать производство, чтобы не запускать предприятие с убыточными характеристиками.\n",
    "\n",
    "Вам нужно:\n",
    "\n",
    "1. Подготовить данные;\n",
    "2. Провести исследовательский анализ данных;\n",
    "3. Построить и обучить модель.\n",
    "\n",
    "Чтобы выполнить проект, обращайтесь к библиотекам *pandas*, *matplotlib* и *sklearn.* Вам поможет их документация."
   ]
  },
  {
   "cell_type": "markdown",
   "metadata": {},
   "source": [
    "## Подготовка данных"
   ]
  },
  {
   "cell_type": "code",
   "execution_count": 1,
   "metadata": {},
   "outputs": [],
   "source": [
    "import pandas as pd \n",
    "import numpy as np\n",
    "import matplotlib.pyplot as plt \n",
    "from sklearn.tree import DecisionTreeRegressor\n",
    "from sklearn.ensemble import RandomForestRegressor\n",
    "from sklearn.linear_model import LinearRegression\n",
    "from sklearn.metrics import mean_squared_error as mse\n",
    "from sklearn.metrics import mean_absolute_error as mae \n",
    "from sklearn.model_selection import train_test_split\n",
    "from sklearn.model_selection import cross_val_score\n",
    "from sklearn.metrics import make_scorer\n",
    "from sklearn.model_selection import GridSearchCV\n",
    "import warnings\n",
    "warnings.filterwarnings(\"ignore\")"
   ]
  },
  {
   "cell_type": "code",
   "execution_count": 2,
   "metadata": {},
   "outputs": [],
   "source": [
    "pd.set_option('display.max_columns', None)\n",
    "df_train = pd.read_csv('/home/cookie/projects/gold_recovery_train_new.csv')\n",
    "df_test = pd.read_csv('/home/cookie/projects/gold_recovery_test_new.csv')\n",
    "df_full = pd.read_csv('/home/cookie/projects/gold_recovery_full_new.csv')"
   ]
  },
  {
   "cell_type": "code",
   "execution_count": 3,
   "metadata": {
    "scrolled": true
   },
   "outputs": [
    {
     "data": {
      "text/html": [
       "<div>\n",
       "<style scoped>\n",
       "    .dataframe tbody tr th:only-of-type {\n",
       "        vertical-align: middle;\n",
       "    }\n",
       "\n",
       "    .dataframe tbody tr th {\n",
       "        vertical-align: top;\n",
       "    }\n",
       "\n",
       "    .dataframe thead th {\n",
       "        text-align: right;\n",
       "    }\n",
       "</style>\n",
       "<table border=\"1\" class=\"dataframe\">\n",
       "  <thead>\n",
       "    <tr style=\"text-align: right;\">\n",
       "      <th></th>\n",
       "      <th>date</th>\n",
       "      <th>final.output.concentrate_ag</th>\n",
       "      <th>final.output.concentrate_pb</th>\n",
       "      <th>final.output.concentrate_sol</th>\n",
       "      <th>final.output.concentrate_au</th>\n",
       "      <th>final.output.recovery</th>\n",
       "      <th>final.output.tail_ag</th>\n",
       "      <th>final.output.tail_pb</th>\n",
       "      <th>final.output.tail_sol</th>\n",
       "      <th>final.output.tail_au</th>\n",
       "      <th>primary_cleaner.input.sulfate</th>\n",
       "      <th>primary_cleaner.input.depressant</th>\n",
       "      <th>primary_cleaner.input.feed_size</th>\n",
       "      <th>primary_cleaner.input.xanthate</th>\n",
       "      <th>primary_cleaner.output.concentrate_ag</th>\n",
       "      <th>primary_cleaner.output.concentrate_pb</th>\n",
       "      <th>primary_cleaner.output.concentrate_sol</th>\n",
       "      <th>primary_cleaner.output.concentrate_au</th>\n",
       "      <th>primary_cleaner.output.tail_ag</th>\n",
       "      <th>primary_cleaner.output.tail_pb</th>\n",
       "      <th>primary_cleaner.output.tail_sol</th>\n",
       "      <th>primary_cleaner.output.tail_au</th>\n",
       "      <th>primary_cleaner.state.floatbank8_a_air</th>\n",
       "      <th>primary_cleaner.state.floatbank8_a_level</th>\n",
       "      <th>primary_cleaner.state.floatbank8_b_air</th>\n",
       "      <th>primary_cleaner.state.floatbank8_b_level</th>\n",
       "      <th>primary_cleaner.state.floatbank8_c_air</th>\n",
       "      <th>primary_cleaner.state.floatbank8_c_level</th>\n",
       "      <th>primary_cleaner.state.floatbank8_d_air</th>\n",
       "      <th>primary_cleaner.state.floatbank8_d_level</th>\n",
       "      <th>rougher.calculation.sulfate_to_au_concentrate</th>\n",
       "      <th>rougher.calculation.floatbank10_sulfate_to_au_feed</th>\n",
       "      <th>rougher.calculation.floatbank11_sulfate_to_au_feed</th>\n",
       "      <th>rougher.calculation.au_pb_ratio</th>\n",
       "      <th>rougher.input.feed_ag</th>\n",
       "      <th>rougher.input.feed_pb</th>\n",
       "      <th>rougher.input.feed_rate</th>\n",
       "      <th>rougher.input.feed_size</th>\n",
       "      <th>rougher.input.feed_sol</th>\n",
       "      <th>rougher.input.feed_au</th>\n",
       "      <th>rougher.input.floatbank10_sulfate</th>\n",
       "      <th>rougher.input.floatbank10_xanthate</th>\n",
       "      <th>rougher.input.floatbank11_sulfate</th>\n",
       "      <th>rougher.input.floatbank11_xanthate</th>\n",
       "      <th>rougher.output.concentrate_ag</th>\n",
       "      <th>rougher.output.concentrate_pb</th>\n",
       "      <th>rougher.output.concentrate_sol</th>\n",
       "      <th>rougher.output.concentrate_au</th>\n",
       "      <th>rougher.output.recovery</th>\n",
       "      <th>rougher.output.tail_ag</th>\n",
       "      <th>rougher.output.tail_pb</th>\n",
       "      <th>rougher.output.tail_sol</th>\n",
       "      <th>rougher.output.tail_au</th>\n",
       "      <th>rougher.state.floatbank10_a_air</th>\n",
       "      <th>rougher.state.floatbank10_a_level</th>\n",
       "      <th>rougher.state.floatbank10_b_air</th>\n",
       "      <th>rougher.state.floatbank10_b_level</th>\n",
       "      <th>rougher.state.floatbank10_c_air</th>\n",
       "      <th>rougher.state.floatbank10_c_level</th>\n",
       "      <th>rougher.state.floatbank10_d_air</th>\n",
       "      <th>rougher.state.floatbank10_d_level</th>\n",
       "      <th>rougher.state.floatbank10_e_air</th>\n",
       "      <th>rougher.state.floatbank10_e_level</th>\n",
       "      <th>rougher.state.floatbank10_f_air</th>\n",
       "      <th>rougher.state.floatbank10_f_level</th>\n",
       "      <th>secondary_cleaner.output.tail_ag</th>\n",
       "      <th>secondary_cleaner.output.tail_pb</th>\n",
       "      <th>secondary_cleaner.output.tail_sol</th>\n",
       "      <th>secondary_cleaner.output.tail_au</th>\n",
       "      <th>secondary_cleaner.state.floatbank2_a_air</th>\n",
       "      <th>secondary_cleaner.state.floatbank2_a_level</th>\n",
       "      <th>secondary_cleaner.state.floatbank2_b_air</th>\n",
       "      <th>secondary_cleaner.state.floatbank2_b_level</th>\n",
       "      <th>secondary_cleaner.state.floatbank3_a_air</th>\n",
       "      <th>secondary_cleaner.state.floatbank3_a_level</th>\n",
       "      <th>secondary_cleaner.state.floatbank3_b_air</th>\n",
       "      <th>secondary_cleaner.state.floatbank3_b_level</th>\n",
       "      <th>secondary_cleaner.state.floatbank4_a_air</th>\n",
       "      <th>secondary_cleaner.state.floatbank4_a_level</th>\n",
       "      <th>secondary_cleaner.state.floatbank4_b_air</th>\n",
       "      <th>secondary_cleaner.state.floatbank4_b_level</th>\n",
       "      <th>secondary_cleaner.state.floatbank5_a_air</th>\n",
       "      <th>secondary_cleaner.state.floatbank5_a_level</th>\n",
       "      <th>secondary_cleaner.state.floatbank5_b_air</th>\n",
       "      <th>secondary_cleaner.state.floatbank5_b_level</th>\n",
       "      <th>secondary_cleaner.state.floatbank6_a_air</th>\n",
       "      <th>secondary_cleaner.state.floatbank6_a_level</th>\n",
       "    </tr>\n",
       "  </thead>\n",
       "  <tbody>\n",
       "    <tr>\n",
       "      <th>0</th>\n",
       "      <td>2016-01-15 00:00:00</td>\n",
       "      <td>6.055403</td>\n",
       "      <td>9.889648</td>\n",
       "      <td>5.507324</td>\n",
       "      <td>42.192020</td>\n",
       "      <td>70.541216</td>\n",
       "      <td>10.411962</td>\n",
       "      <td>0.895447</td>\n",
       "      <td>16.904297</td>\n",
       "      <td>2.143149</td>\n",
       "      <td>127.092003</td>\n",
       "      <td>10.128295</td>\n",
       "      <td>7.25</td>\n",
       "      <td>0.988759</td>\n",
       "      <td>8.547551</td>\n",
       "      <td>10.389648</td>\n",
       "      <td>19.529297</td>\n",
       "      <td>34.174427</td>\n",
       "      <td>14.936526</td>\n",
       "      <td>2.534912</td>\n",
       "      <td>7.476074</td>\n",
       "      <td>2.106679</td>\n",
       "      <td>1549.775757</td>\n",
       "      <td>-498.912140</td>\n",
       "      <td>1551.434204</td>\n",
       "      <td>-516.403442</td>\n",
       "      <td>1549.873901</td>\n",
       "      <td>-498.666595</td>\n",
       "      <td>1554.367432</td>\n",
       "      <td>-493.428131</td>\n",
       "      <td>41885.707031</td>\n",
       "      <td>3481.779053</td>\n",
       "      <td>3520.337158</td>\n",
       "      <td>2.838687</td>\n",
       "      <td>6.100378</td>\n",
       "      <td>2.284912</td>\n",
       "      <td>523.546326</td>\n",
       "      <td>55.486599</td>\n",
       "      <td>36.808594</td>\n",
       "      <td>6.486150</td>\n",
       "      <td>11.986616</td>\n",
       "      <td>6.007990</td>\n",
       "      <td>11.836743</td>\n",
       "      <td>6.005818</td>\n",
       "      <td>11.500771</td>\n",
       "      <td>7.101074</td>\n",
       "      <td>28.029297</td>\n",
       "      <td>19.793808</td>\n",
       "      <td>87.107763</td>\n",
       "      <td>5.008018</td>\n",
       "      <td>0.508728</td>\n",
       "      <td>19.154297</td>\n",
       "      <td>1.170244</td>\n",
       "      <td>999.706909</td>\n",
       "      <td>-404.066986</td>\n",
       "      <td>1603.011353</td>\n",
       "      <td>-434.715027</td>\n",
       "      <td>1602.375000</td>\n",
       "      <td>-442.204468</td>\n",
       "      <td>1598.937256</td>\n",
       "      <td>-451.294128</td>\n",
       "      <td>1404.472046</td>\n",
       "      <td>-455.462982</td>\n",
       "      <td>1416.354980</td>\n",
       "      <td>-451.939636</td>\n",
       "      <td>14.500184</td>\n",
       "      <td>4.694824</td>\n",
       "      <td>8.764648</td>\n",
       "      <td>2.606185</td>\n",
       "      <td>25.853109</td>\n",
       "      <td>-498.526489</td>\n",
       "      <td>23.893660</td>\n",
       "      <td>-501.406281</td>\n",
       "      <td>23.961798</td>\n",
       "      <td>-495.262817</td>\n",
       "      <td>21.940409</td>\n",
       "      <td>-499.340973</td>\n",
       "      <td>14.016835</td>\n",
       "      <td>-502.488007</td>\n",
       "      <td>12.099931</td>\n",
       "      <td>-504.715942</td>\n",
       "      <td>9.925633</td>\n",
       "      <td>-498.310211</td>\n",
       "      <td>8.079666</td>\n",
       "      <td>-500.470978</td>\n",
       "      <td>14.151341</td>\n",
       "      <td>-605.841980</td>\n",
       "    </tr>\n",
       "    <tr>\n",
       "      <th>1</th>\n",
       "      <td>2016-01-15 01:00:00</td>\n",
       "      <td>6.029369</td>\n",
       "      <td>9.968944</td>\n",
       "      <td>5.257781</td>\n",
       "      <td>42.701629</td>\n",
       "      <td>69.266198</td>\n",
       "      <td>10.462676</td>\n",
       "      <td>0.927452</td>\n",
       "      <td>16.634514</td>\n",
       "      <td>2.224930</td>\n",
       "      <td>125.629232</td>\n",
       "      <td>10.296251</td>\n",
       "      <td>7.25</td>\n",
       "      <td>1.002663</td>\n",
       "      <td>8.558743</td>\n",
       "      <td>10.497069</td>\n",
       "      <td>19.369147</td>\n",
       "      <td>34.118526</td>\n",
       "      <td>16.250511</td>\n",
       "      <td>3.049646</td>\n",
       "      <td>6.733907</td>\n",
       "      <td>2.353017</td>\n",
       "      <td>1576.166671</td>\n",
       "      <td>-500.904965</td>\n",
       "      <td>1575.950626</td>\n",
       "      <td>-499.865889</td>\n",
       "      <td>1575.994189</td>\n",
       "      <td>-499.315107</td>\n",
       "      <td>1574.479259</td>\n",
       "      <td>-498.931665</td>\n",
       "      <td>42050.861809</td>\n",
       "      <td>3498.370979</td>\n",
       "      <td>3489.981857</td>\n",
       "      <td>2.858998</td>\n",
       "      <td>6.161113</td>\n",
       "      <td>2.266033</td>\n",
       "      <td>525.290581</td>\n",
       "      <td>57.278666</td>\n",
       "      <td>35.753385</td>\n",
       "      <td>6.478583</td>\n",
       "      <td>11.971193</td>\n",
       "      <td>6.005766</td>\n",
       "      <td>11.996163</td>\n",
       "      <td>6.012594</td>\n",
       "      <td>11.615865</td>\n",
       "      <td>7.278807</td>\n",
       "      <td>28.067063</td>\n",
       "      <td>20.050975</td>\n",
       "      <td>86.843261</td>\n",
       "      <td>4.955378</td>\n",
       "      <td>0.536689</td>\n",
       "      <td>18.965234</td>\n",
       "      <td>1.184827</td>\n",
       "      <td>1000.286398</td>\n",
       "      <td>-400.065196</td>\n",
       "      <td>1600.754587</td>\n",
       "      <td>-449.953435</td>\n",
       "      <td>1600.479580</td>\n",
       "      <td>-449.830646</td>\n",
       "      <td>1600.527589</td>\n",
       "      <td>-449.953649</td>\n",
       "      <td>1399.227084</td>\n",
       "      <td>-450.869848</td>\n",
       "      <td>1399.719514</td>\n",
       "      <td>-450.119001</td>\n",
       "      <td>14.265474</td>\n",
       "      <td>4.592547</td>\n",
       "      <td>9.001494</td>\n",
       "      <td>2.488248</td>\n",
       "      <td>25.880539</td>\n",
       "      <td>-499.989656</td>\n",
       "      <td>23.889530</td>\n",
       "      <td>-500.372428</td>\n",
       "      <td>23.970550</td>\n",
       "      <td>-500.085473</td>\n",
       "      <td>22.085714</td>\n",
       "      <td>-499.446897</td>\n",
       "      <td>13.992281</td>\n",
       "      <td>-505.503262</td>\n",
       "      <td>11.950531</td>\n",
       "      <td>-501.331529</td>\n",
       "      <td>10.039245</td>\n",
       "      <td>-500.169983</td>\n",
       "      <td>7.984757</td>\n",
       "      <td>-500.582168</td>\n",
       "      <td>13.998353</td>\n",
       "      <td>-599.787184</td>\n",
       "    </tr>\n",
       "    <tr>\n",
       "      <th>2</th>\n",
       "      <td>2016-01-15 02:00:00</td>\n",
       "      <td>6.055926</td>\n",
       "      <td>10.213995</td>\n",
       "      <td>5.383759</td>\n",
       "      <td>42.657501</td>\n",
       "      <td>68.116445</td>\n",
       "      <td>10.507046</td>\n",
       "      <td>0.953716</td>\n",
       "      <td>16.208849</td>\n",
       "      <td>2.257889</td>\n",
       "      <td>123.819808</td>\n",
       "      <td>11.316280</td>\n",
       "      <td>7.25</td>\n",
       "      <td>0.991265</td>\n",
       "      <td>8.603505</td>\n",
       "      <td>10.354494</td>\n",
       "      <td>19.167579</td>\n",
       "      <td>33.969464</td>\n",
       "      <td>16.491823</td>\n",
       "      <td>3.124664</td>\n",
       "      <td>6.471768</td>\n",
       "      <td>2.416800</td>\n",
       "      <td>1601.556163</td>\n",
       "      <td>-499.997791</td>\n",
       "      <td>1600.386685</td>\n",
       "      <td>-500.607762</td>\n",
       "      <td>1602.003542</td>\n",
       "      <td>-500.870069</td>\n",
       "      <td>1599.541515</td>\n",
       "      <td>-499.827444</td>\n",
       "      <td>42018.101184</td>\n",
       "      <td>3495.348910</td>\n",
       "      <td>3502.359819</td>\n",
       "      <td>2.945989</td>\n",
       "      <td>6.116455</td>\n",
       "      <td>2.159622</td>\n",
       "      <td>530.026610</td>\n",
       "      <td>57.510649</td>\n",
       "      <td>35.971630</td>\n",
       "      <td>6.362222</td>\n",
       "      <td>11.920603</td>\n",
       "      <td>6.197377</td>\n",
       "      <td>11.920305</td>\n",
       "      <td>6.204633</td>\n",
       "      <td>11.695753</td>\n",
       "      <td>7.216833</td>\n",
       "      <td>27.454037</td>\n",
       "      <td>19.737170</td>\n",
       "      <td>86.842308</td>\n",
       "      <td>4.843460</td>\n",
       "      <td>0.546416</td>\n",
       "      <td>18.808533</td>\n",
       "      <td>1.162562</td>\n",
       "      <td>999.719565</td>\n",
       "      <td>-400.074028</td>\n",
       "      <td>1599.337330</td>\n",
       "      <td>-450.008530</td>\n",
       "      <td>1599.672797</td>\n",
       "      <td>-449.954491</td>\n",
       "      <td>1599.849325</td>\n",
       "      <td>-449.954185</td>\n",
       "      <td>1399.180945</td>\n",
       "      <td>-449.937588</td>\n",
       "      <td>1400.316682</td>\n",
       "      <td>-450.527147</td>\n",
       "      <td>14.115662</td>\n",
       "      <td>4.624775</td>\n",
       "      <td>8.842896</td>\n",
       "      <td>2.458187</td>\n",
       "      <td>26.005245</td>\n",
       "      <td>-499.929616</td>\n",
       "      <td>23.886657</td>\n",
       "      <td>-499.951928</td>\n",
       "      <td>23.913535</td>\n",
       "      <td>-499.442343</td>\n",
       "      <td>23.957717</td>\n",
       "      <td>-499.901982</td>\n",
       "      <td>14.015015</td>\n",
       "      <td>-502.520901</td>\n",
       "      <td>11.912783</td>\n",
       "      <td>-501.133383</td>\n",
       "      <td>10.070913</td>\n",
       "      <td>-500.129135</td>\n",
       "      <td>8.013877</td>\n",
       "      <td>-500.517572</td>\n",
       "      <td>14.028663</td>\n",
       "      <td>-601.427363</td>\n",
       "    </tr>\n",
       "    <tr>\n",
       "      <th>3</th>\n",
       "      <td>2016-01-15 03:00:00</td>\n",
       "      <td>6.047977</td>\n",
       "      <td>9.977019</td>\n",
       "      <td>4.858634</td>\n",
       "      <td>42.689819</td>\n",
       "      <td>68.347543</td>\n",
       "      <td>10.422762</td>\n",
       "      <td>0.883763</td>\n",
       "      <td>16.532835</td>\n",
       "      <td>2.146849</td>\n",
       "      <td>122.270188</td>\n",
       "      <td>11.322140</td>\n",
       "      <td>7.25</td>\n",
       "      <td>0.996739</td>\n",
       "      <td>7.221879</td>\n",
       "      <td>8.496563</td>\n",
       "      <td>15.978538</td>\n",
       "      <td>28.260743</td>\n",
       "      <td>16.024359</td>\n",
       "      <td>2.960362</td>\n",
       "      <td>6.843791</td>\n",
       "      <td>2.262051</td>\n",
       "      <td>1599.968720</td>\n",
       "      <td>-500.951778</td>\n",
       "      <td>1600.659236</td>\n",
       "      <td>-499.677094</td>\n",
       "      <td>1600.304144</td>\n",
       "      <td>-500.727997</td>\n",
       "      <td>1600.449520</td>\n",
       "      <td>-500.052575</td>\n",
       "      <td>42029.447991</td>\n",
       "      <td>3498.578313</td>\n",
       "      <td>3499.162912</td>\n",
       "      <td>3.002340</td>\n",
       "      <td>6.043309</td>\n",
       "      <td>2.037807</td>\n",
       "      <td>542.590390</td>\n",
       "      <td>57.792734</td>\n",
       "      <td>36.862241</td>\n",
       "      <td>6.118189</td>\n",
       "      <td>11.630094</td>\n",
       "      <td>6.203177</td>\n",
       "      <td>11.692450</td>\n",
       "      <td>6.196578</td>\n",
       "      <td>11.915047</td>\n",
       "      <td>7.175616</td>\n",
       "      <td>27.341277</td>\n",
       "      <td>19.320810</td>\n",
       "      <td>87.226430</td>\n",
       "      <td>4.655288</td>\n",
       "      <td>0.542525</td>\n",
       "      <td>19.330200</td>\n",
       "      <td>1.079755</td>\n",
       "      <td>999.814770</td>\n",
       "      <td>-400.200179</td>\n",
       "      <td>1600.059442</td>\n",
       "      <td>-450.619948</td>\n",
       "      <td>1600.012842</td>\n",
       "      <td>-449.910497</td>\n",
       "      <td>1597.725177</td>\n",
       "      <td>-450.130127</td>\n",
       "      <td>1400.943157</td>\n",
       "      <td>-450.030142</td>\n",
       "      <td>1400.234743</td>\n",
       "      <td>-449.790835</td>\n",
       "      <td>13.732071</td>\n",
       "      <td>4.482453</td>\n",
       "      <td>9.122857</td>\n",
       "      <td>2.322062</td>\n",
       "      <td>25.942508</td>\n",
       "      <td>-499.176749</td>\n",
       "      <td>23.955516</td>\n",
       "      <td>-499.848796</td>\n",
       "      <td>23.966838</td>\n",
       "      <td>-500.008812</td>\n",
       "      <td>23.954443</td>\n",
       "      <td>-499.944710</td>\n",
       "      <td>14.036510</td>\n",
       "      <td>-500.857308</td>\n",
       "      <td>11.999550</td>\n",
       "      <td>-501.193686</td>\n",
       "      <td>9.970366</td>\n",
       "      <td>-499.201640</td>\n",
       "      <td>7.977324</td>\n",
       "      <td>-500.255908</td>\n",
       "      <td>14.005551</td>\n",
       "      <td>-599.996129</td>\n",
       "    </tr>\n",
       "    <tr>\n",
       "      <th>4</th>\n",
       "      <td>2016-01-15 04:00:00</td>\n",
       "      <td>6.148599</td>\n",
       "      <td>10.142511</td>\n",
       "      <td>4.939416</td>\n",
       "      <td>42.774141</td>\n",
       "      <td>66.927016</td>\n",
       "      <td>10.360302</td>\n",
       "      <td>0.792826</td>\n",
       "      <td>16.525686</td>\n",
       "      <td>2.055292</td>\n",
       "      <td>117.988169</td>\n",
       "      <td>11.913613</td>\n",
       "      <td>7.25</td>\n",
       "      <td>1.009869</td>\n",
       "      <td>9.089428</td>\n",
       "      <td>9.986786</td>\n",
       "      <td>19.199864</td>\n",
       "      <td>33.044932</td>\n",
       "      <td>16.480185</td>\n",
       "      <td>3.112100</td>\n",
       "      <td>6.550154</td>\n",
       "      <td>2.277073</td>\n",
       "      <td>1601.339707</td>\n",
       "      <td>-498.975456</td>\n",
       "      <td>1601.437854</td>\n",
       "      <td>-500.323246</td>\n",
       "      <td>1599.581894</td>\n",
       "      <td>-500.888152</td>\n",
       "      <td>1602.649541</td>\n",
       "      <td>-500.593010</td>\n",
       "      <td>42125.354245</td>\n",
       "      <td>3494.800771</td>\n",
       "      <td>3506.679315</td>\n",
       "      <td>3.169615</td>\n",
       "      <td>6.060915</td>\n",
       "      <td>1.786875</td>\n",
       "      <td>540.531893</td>\n",
       "      <td>56.047189</td>\n",
       "      <td>34.347666</td>\n",
       "      <td>5.663707</td>\n",
       "      <td>10.957755</td>\n",
       "      <td>6.198826</td>\n",
       "      <td>10.960521</td>\n",
       "      <td>6.194897</td>\n",
       "      <td>12.411054</td>\n",
       "      <td>7.240205</td>\n",
       "      <td>27.041023</td>\n",
       "      <td>19.216101</td>\n",
       "      <td>86.688794</td>\n",
       "      <td>4.552800</td>\n",
       "      <td>0.515438</td>\n",
       "      <td>19.267422</td>\n",
       "      <td>1.012642</td>\n",
       "      <td>999.678690</td>\n",
       "      <td>-399.752729</td>\n",
       "      <td>1600.208824</td>\n",
       "      <td>-449.599614</td>\n",
       "      <td>1600.357732</td>\n",
       "      <td>-450.034364</td>\n",
       "      <td>1599.759049</td>\n",
       "      <td>-449.909799</td>\n",
       "      <td>1401.560902</td>\n",
       "      <td>-448.877187</td>\n",
       "      <td>1401.160227</td>\n",
       "      <td>-450.407128</td>\n",
       "      <td>14.079996</td>\n",
       "      <td>4.470737</td>\n",
       "      <td>8.871028</td>\n",
       "      <td>2.330448</td>\n",
       "      <td>26.024787</td>\n",
       "      <td>-500.279091</td>\n",
       "      <td>23.955345</td>\n",
       "      <td>-500.593614</td>\n",
       "      <td>23.985703</td>\n",
       "      <td>-500.083811</td>\n",
       "      <td>23.958945</td>\n",
       "      <td>-499.990309</td>\n",
       "      <td>14.027298</td>\n",
       "      <td>-499.838632</td>\n",
       "      <td>11.953070</td>\n",
       "      <td>-501.053894</td>\n",
       "      <td>9.925709</td>\n",
       "      <td>-501.686727</td>\n",
       "      <td>7.894242</td>\n",
       "      <td>-500.356035</td>\n",
       "      <td>13.996647</td>\n",
       "      <td>-601.496691</td>\n",
       "    </tr>\n",
       "    <tr>\n",
       "      <th>5</th>\n",
       "      <td>2016-01-15 05:00:00</td>\n",
       "      <td>6.482968</td>\n",
       "      <td>10.049416</td>\n",
       "      <td>5.480257</td>\n",
       "      <td>41.633678</td>\n",
       "      <td>69.465816</td>\n",
       "      <td>10.182708</td>\n",
       "      <td>0.664118</td>\n",
       "      <td>16.999638</td>\n",
       "      <td>1.918586</td>\n",
       "      <td>115.581252</td>\n",
       "      <td>12.470773</td>\n",
       "      <td>7.25</td>\n",
       "      <td>0.965760</td>\n",
       "      <td>9.553724</td>\n",
       "      <td>9.816215</td>\n",
       "      <td>19.167328</td>\n",
       "      <td>32.070664</td>\n",
       "      <td>15.931540</td>\n",
       "      <td>2.844511</td>\n",
       "      <td>6.724197</td>\n",
       "      <td>2.114558</td>\n",
       "      <td>1602.964922</td>\n",
       "      <td>-498.090944</td>\n",
       "      <td>1602.074298</td>\n",
       "      <td>-500.179481</td>\n",
       "      <td>1602.154812</td>\n",
       "      <td>-498.642614</td>\n",
       "      <td>1605.020106</td>\n",
       "      <td>-500.538177</td>\n",
       "      <td>41973.280986</td>\n",
       "      <td>3501.916973</td>\n",
       "      <td>3499.527175</td>\n",
       "      <td>3.026134</td>\n",
       "      <td>5.801920</td>\n",
       "      <td>1.879351</td>\n",
       "      <td>546.173470</td>\n",
       "      <td>57.469578</td>\n",
       "      <td>35.470082</td>\n",
       "      <td>5.687168</td>\n",
       "      <td>11.072517</td>\n",
       "      <td>6.200383</td>\n",
       "      <td>11.075009</td>\n",
       "      <td>6.202362</td>\n",
       "      <td>11.985584</td>\n",
       "      <td>7.121903</td>\n",
       "      <td>26.898046</td>\n",
       "      <td>18.950385</td>\n",
       "      <td>88.156912</td>\n",
       "      <td>4.397415</td>\n",
       "      <td>0.491350</td>\n",
       "      <td>19.640269</td>\n",
       "      <td>0.915835</td>\n",
       "      <td>999.934134</td>\n",
       "      <td>-400.599524</td>\n",
       "      <td>1601.080554</td>\n",
       "      <td>-450.120760</td>\n",
       "      <td>1603.164805</td>\n",
       "      <td>-450.097732</td>\n",
       "      <td>1603.368371</td>\n",
       "      <td>-446.306150</td>\n",
       "      <td>1403.393100</td>\n",
       "      <td>-447.899904</td>\n",
       "      <td>1402.903175</td>\n",
       "      <td>-448.872321</td>\n",
       "      <td>13.615012</td>\n",
       "      <td>4.286817</td>\n",
       "      <td>9.302669</td>\n",
       "      <td>2.192127</td>\n",
       "      <td>26.014841</td>\n",
       "      <td>-498.864670</td>\n",
       "      <td>23.880214</td>\n",
       "      <td>-499.738447</td>\n",
       "      <td>23.982635</td>\n",
       "      <td>-500.495272</td>\n",
       "      <td>24.009749</td>\n",
       "      <td>-499.433825</td>\n",
       "      <td>13.938497</td>\n",
       "      <td>-500.970168</td>\n",
       "      <td>11.883350</td>\n",
       "      <td>-500.395298</td>\n",
       "      <td>10.054147</td>\n",
       "      <td>-496.374715</td>\n",
       "      <td>7.965083</td>\n",
       "      <td>-499.364752</td>\n",
       "      <td>14.017067</td>\n",
       "      <td>-599.707915</td>\n",
       "    </tr>\n",
       "    <tr>\n",
       "      <th>6</th>\n",
       "      <td>2016-01-15 06:00:00</td>\n",
       "      <td>6.533849</td>\n",
       "      <td>10.058141</td>\n",
       "      <td>4.569100</td>\n",
       "      <td>41.995316</td>\n",
       "      <td>69.300835</td>\n",
       "      <td>10.304598</td>\n",
       "      <td>0.807342</td>\n",
       "      <td>16.723575</td>\n",
       "      <td>2.058913</td>\n",
       "      <td>117.322323</td>\n",
       "      <td>12.469088</td>\n",
       "      <td>7.25</td>\n",
       "      <td>0.895207</td>\n",
       "      <td>8.968869</td>\n",
       "      <td>10.081306</td>\n",
       "      <td>18.930855</td>\n",
       "      <td>33.184823</td>\n",
       "      <td>16.078368</td>\n",
       "      <td>2.938979</td>\n",
       "      <td>6.623598</td>\n",
       "      <td>2.223152</td>\n",
       "      <td>1597.532455</td>\n",
       "      <td>-500.985364</td>\n",
       "      <td>1602.816321</td>\n",
       "      <td>-500.696736</td>\n",
       "      <td>1603.572091</td>\n",
       "      <td>-500.256955</td>\n",
       "      <td>1597.597437</td>\n",
       "      <td>-500.378192</td>\n",
       "      <td>41956.468979</td>\n",
       "      <td>3497.427365</td>\n",
       "      <td>3506.352790</td>\n",
       "      <td>2.867933</td>\n",
       "      <td>6.056253</td>\n",
       "      <td>2.105501</td>\n",
       "      <td>523.376439</td>\n",
       "      <td>56.674647</td>\n",
       "      <td>34.920570</td>\n",
       "      <td>6.038436</td>\n",
       "      <td>11.535899</td>\n",
       "      <td>6.204974</td>\n",
       "      <td>11.539227</td>\n",
       "      <td>6.200515</td>\n",
       "      <td>11.684307</td>\n",
       "      <td>7.304849</td>\n",
       "      <td>27.063672</td>\n",
       "      <td>19.319591</td>\n",
       "      <td>88.168065</td>\n",
       "      <td>4.478080</td>\n",
       "      <td>0.518266</td>\n",
       "      <td>19.262491</td>\n",
       "      <td>0.986248</td>\n",
       "      <td>999.832373</td>\n",
       "      <td>-399.353521</td>\n",
       "      <td>1600.753019</td>\n",
       "      <td>-450.050089</td>\n",
       "      <td>1599.019966</td>\n",
       "      <td>-449.848507</td>\n",
       "      <td>1600.298267</td>\n",
       "      <td>-453.102891</td>\n",
       "      <td>1397.853265</td>\n",
       "      <td>-451.306640</td>\n",
       "      <td>1397.973670</td>\n",
       "      <td>-451.355626</td>\n",
       "      <td>13.597056</td>\n",
       "      <td>4.487865</td>\n",
       "      <td>9.103047</td>\n",
       "      <td>2.316720</td>\n",
       "      <td>25.957594</td>\n",
       "      <td>-500.134472</td>\n",
       "      <td>24.077199</td>\n",
       "      <td>-500.089190</td>\n",
       "      <td>23.991710</td>\n",
       "      <td>-500.391528</td>\n",
       "      <td>23.954144</td>\n",
       "      <td>-501.872171</td>\n",
       "      <td>14.046819</td>\n",
       "      <td>-500.971133</td>\n",
       "      <td>12.091543</td>\n",
       "      <td>-500.501426</td>\n",
       "      <td>10.003247</td>\n",
       "      <td>-497.083180</td>\n",
       "      <td>8.010890</td>\n",
       "      <td>-500.002423</td>\n",
       "      <td>14.029649</td>\n",
       "      <td>-600.905470</td>\n",
       "    </tr>\n",
       "    <tr>\n",
       "      <th>7</th>\n",
       "      <td>2016-01-15 07:00:00</td>\n",
       "      <td>6.130823</td>\n",
       "      <td>9.935481</td>\n",
       "      <td>4.389813</td>\n",
       "      <td>42.452727</td>\n",
       "      <td>70.230976</td>\n",
       "      <td>10.443288</td>\n",
       "      <td>0.949346</td>\n",
       "      <td>16.689959</td>\n",
       "      <td>2.143437</td>\n",
       "      <td>124.592960</td>\n",
       "      <td>12.467403</td>\n",
       "      <td>7.25</td>\n",
       "      <td>0.901202</td>\n",
       "      <td>8.545238</td>\n",
       "      <td>10.224540</td>\n",
       "      <td>18.735813</td>\n",
       "      <td>34.027719</td>\n",
       "      <td>15.797720</td>\n",
       "      <td>2.881529</td>\n",
       "      <td>6.872033</td>\n",
       "      <td>2.112025</td>\n",
       "      <td>1597.946266</td>\n",
       "      <td>-501.592304</td>\n",
       "      <td>1601.078254</td>\n",
       "      <td>-499.494115</td>\n",
       "      <td>1602.630688</td>\n",
       "      <td>-500.173741</td>\n",
       "      <td>1595.937990</td>\n",
       "      <td>-498.929825</td>\n",
       "      <td>41812.416893</td>\n",
       "      <td>3497.275828</td>\n",
       "      <td>3501.000030</td>\n",
       "      <td>2.784698</td>\n",
       "      <td>5.955053</td>\n",
       "      <td>2.310432</td>\n",
       "      <td>549.842749</td>\n",
       "      <td>56.730325</td>\n",
       "      <td>36.091386</td>\n",
       "      <td>6.433854</td>\n",
       "      <td>12.557906</td>\n",
       "      <td>6.799275</td>\n",
       "      <td>12.583109</td>\n",
       "      <td>6.798354</td>\n",
       "      <td>11.182624</td>\n",
       "      <td>7.258496</td>\n",
       "      <td>27.231114</td>\n",
       "      <td>19.507897</td>\n",
       "      <td>87.668336</td>\n",
       "      <td>4.728325</td>\n",
       "      <td>0.548067</td>\n",
       "      <td>18.861866</td>\n",
       "      <td>1.116110</td>\n",
       "      <td>1000.166602</td>\n",
       "      <td>-400.556601</td>\n",
       "      <td>1598.877246</td>\n",
       "      <td>-450.070980</td>\n",
       "      <td>1598.108717</td>\n",
       "      <td>-449.211334</td>\n",
       "      <td>1592.872844</td>\n",
       "      <td>-449.806802</td>\n",
       "      <td>1396.580752</td>\n",
       "      <td>-453.548352</td>\n",
       "      <td>1397.289884</td>\n",
       "      <td>-450.221696</td>\n",
       "      <td>13.177237</td>\n",
       "      <td>4.432448</td>\n",
       "      <td>9.369209</td>\n",
       "      <td>2.192197</td>\n",
       "      <td>25.938026</td>\n",
       "      <td>-499.657795</td>\n",
       "      <td>24.020179</td>\n",
       "      <td>-499.798396</td>\n",
       "      <td>24.031555</td>\n",
       "      <td>-500.550436</td>\n",
       "      <td>23.968160</td>\n",
       "      <td>-499.836513</td>\n",
       "      <td>13.974691</td>\n",
       "      <td>-501.819696</td>\n",
       "      <td>12.101324</td>\n",
       "      <td>-500.583446</td>\n",
       "      <td>9.873169</td>\n",
       "      <td>-499.171928</td>\n",
       "      <td>7.993381</td>\n",
       "      <td>-499.794518</td>\n",
       "      <td>13.984498</td>\n",
       "      <td>-600.411070</td>\n",
       "    </tr>\n",
       "    <tr>\n",
       "      <th>8</th>\n",
       "      <td>2016-01-15 08:00:00</td>\n",
       "      <td>5.834140</td>\n",
       "      <td>10.071156</td>\n",
       "      <td>4.876389</td>\n",
       "      <td>43.404078</td>\n",
       "      <td>69.688595</td>\n",
       "      <td>10.420140</td>\n",
       "      <td>1.065453</td>\n",
       "      <td>17.201948</td>\n",
       "      <td>2.209881</td>\n",
       "      <td>131.781026</td>\n",
       "      <td>12.465718</td>\n",
       "      <td>7.25</td>\n",
       "      <td>0.885535</td>\n",
       "      <td>8.046686</td>\n",
       "      <td>10.500065</td>\n",
       "      <td>18.560288</td>\n",
       "      <td>34.964974</td>\n",
       "      <td>16.195420</td>\n",
       "      <td>3.089922</td>\n",
       "      <td>6.705633</td>\n",
       "      <td>2.243817</td>\n",
       "      <td>1601.670053</td>\n",
       "      <td>-499.548891</td>\n",
       "      <td>1598.804355</td>\n",
       "      <td>-499.689644</td>\n",
       "      <td>1601.689285</td>\n",
       "      <td>-500.484957</td>\n",
       "      <td>1602.431117</td>\n",
       "      <td>-500.650982</td>\n",
       "      <td>41905.757985</td>\n",
       "      <td>3498.332166</td>\n",
       "      <td>3498.120075</td>\n",
       "      <td>2.728844</td>\n",
       "      <td>5.878084</td>\n",
       "      <td>2.391713</td>\n",
       "      <td>560.115242</td>\n",
       "      <td>56.649893</td>\n",
       "      <td>35.753879</td>\n",
       "      <td>6.526612</td>\n",
       "      <td>13.166128</td>\n",
       "      <td>6.798659</td>\n",
       "      <td>13.184764</td>\n",
       "      <td>6.800021</td>\n",
       "      <td>11.051323</td>\n",
       "      <td>7.380043</td>\n",
       "      <td>27.404296</td>\n",
       "      <td>19.789465</td>\n",
       "      <td>87.035862</td>\n",
       "      <td>4.764300</td>\n",
       "      <td>0.599181</td>\n",
       "      <td>18.873082</td>\n",
       "      <td>1.186780</td>\n",
       "      <td>1000.026864</td>\n",
       "      <td>-399.968583</td>\n",
       "      <td>1599.813104</td>\n",
       "      <td>-450.481122</td>\n",
       "      <td>1600.024621</td>\n",
       "      <td>-450.365493</td>\n",
       "      <td>1594.448648</td>\n",
       "      <td>-449.882428</td>\n",
       "      <td>1402.033682</td>\n",
       "      <td>-448.545552</td>\n",
       "      <td>1400.748347</td>\n",
       "      <td>-450.303991</td>\n",
       "      <td>13.487870</td>\n",
       "      <td>4.608756</td>\n",
       "      <td>9.437044</td>\n",
       "      <td>2.212084</td>\n",
       "      <td>25.929511</td>\n",
       "      <td>-500.079889</td>\n",
       "      <td>23.977375</td>\n",
       "      <td>-500.005187</td>\n",
       "      <td>23.998809</td>\n",
       "      <td>-500.400133</td>\n",
       "      <td>23.982633</td>\n",
       "      <td>-499.826311</td>\n",
       "      <td>13.964030</td>\n",
       "      <td>-504.252450</td>\n",
       "      <td>12.060738</td>\n",
       "      <td>-501.174549</td>\n",
       "      <td>10.033838</td>\n",
       "      <td>-501.178133</td>\n",
       "      <td>7.881604</td>\n",
       "      <td>-499.729434</td>\n",
       "      <td>13.967135</td>\n",
       "      <td>-599.061188</td>\n",
       "    </tr>\n",
       "    <tr>\n",
       "      <th>9</th>\n",
       "      <td>2016-01-15 09:00:00</td>\n",
       "      <td>5.687063</td>\n",
       "      <td>9.980404</td>\n",
       "      <td>5.282514</td>\n",
       "      <td>43.235220</td>\n",
       "      <td>70.279619</td>\n",
       "      <td>10.487013</td>\n",
       "      <td>1.159805</td>\n",
       "      <td>17.483979</td>\n",
       "      <td>2.209593</td>\n",
       "      <td>138.120409</td>\n",
       "      <td>12.464032</td>\n",
       "      <td>7.25</td>\n",
       "      <td>0.898779</td>\n",
       "      <td>8.098985</td>\n",
       "      <td>10.525324</td>\n",
       "      <td>18.436589</td>\n",
       "      <td>34.826500</td>\n",
       "      <td>15.535214</td>\n",
       "      <td>2.866688</td>\n",
       "      <td>7.265906</td>\n",
       "      <td>2.025454</td>\n",
       "      <td>1603.436598</td>\n",
       "      <td>-499.864400</td>\n",
       "      <td>1597.455353</td>\n",
       "      <td>-500.266905</td>\n",
       "      <td>1600.747882</td>\n",
       "      <td>-500.541002</td>\n",
       "      <td>1599.754053</td>\n",
       "      <td>-499.216962</td>\n",
       "      <td>41882.126352</td>\n",
       "      <td>3499.915439</td>\n",
       "      <td>3519.952954</td>\n",
       "      <td>2.717442</td>\n",
       "      <td>5.908793</td>\n",
       "      <td>2.440899</td>\n",
       "      <td>573.076049</td>\n",
       "      <td>58.509262</td>\n",
       "      <td>36.958540</td>\n",
       "      <td>6.633002</td>\n",
       "      <td>13.707775</td>\n",
       "      <td>6.820245</td>\n",
       "      <td>13.812674</td>\n",
       "      <td>6.790624</td>\n",
       "      <td>11.116297</td>\n",
       "      <td>7.297363</td>\n",
       "      <td>27.497520</td>\n",
       "      <td>19.497669</td>\n",
       "      <td>87.650868</td>\n",
       "      <td>4.667157</td>\n",
       "      <td>0.615418</td>\n",
       "      <td>18.907179</td>\n",
       "      <td>1.167140</td>\n",
       "      <td>1000.589156</td>\n",
       "      <td>-398.879586</td>\n",
       "      <td>1598.975250</td>\n",
       "      <td>-451.238638</td>\n",
       "      <td>1600.058139</td>\n",
       "      <td>-451.271448</td>\n",
       "      <td>1610.182874</td>\n",
       "      <td>-450.460190</td>\n",
       "      <td>1399.194663</td>\n",
       "      <td>-450.332681</td>\n",
       "      <td>1399.638290</td>\n",
       "      <td>-450.198722</td>\n",
       "      <td>13.209191</td>\n",
       "      <td>4.550553</td>\n",
       "      <td>9.813732</td>\n",
       "      <td>2.073737</td>\n",
       "      <td>26.059510</td>\n",
       "      <td>-499.151646</td>\n",
       "      <td>23.934570</td>\n",
       "      <td>-499.351758</td>\n",
       "      <td>23.994184</td>\n",
       "      <td>-500.078566</td>\n",
       "      <td>23.924481</td>\n",
       "      <td>-499.989024</td>\n",
       "      <td>13.989632</td>\n",
       "      <td>-503.195299</td>\n",
       "      <td>12.052233</td>\n",
       "      <td>-500.928547</td>\n",
       "      <td>9.962574</td>\n",
       "      <td>-502.986357</td>\n",
       "      <td>7.979219</td>\n",
       "      <td>-500.146835</td>\n",
       "      <td>13.981614</td>\n",
       "      <td>-598.070855</td>\n",
       "    </tr>\n",
       "  </tbody>\n",
       "</table>\n",
       "</div>"
      ],
      "text/plain": [
       "                  date  final.output.concentrate_ag  \\\n",
       "0  2016-01-15 00:00:00                     6.055403   \n",
       "1  2016-01-15 01:00:00                     6.029369   \n",
       "2  2016-01-15 02:00:00                     6.055926   \n",
       "3  2016-01-15 03:00:00                     6.047977   \n",
       "4  2016-01-15 04:00:00                     6.148599   \n",
       "5  2016-01-15 05:00:00                     6.482968   \n",
       "6  2016-01-15 06:00:00                     6.533849   \n",
       "7  2016-01-15 07:00:00                     6.130823   \n",
       "8  2016-01-15 08:00:00                     5.834140   \n",
       "9  2016-01-15 09:00:00                     5.687063   \n",
       "\n",
       "   final.output.concentrate_pb  final.output.concentrate_sol  \\\n",
       "0                     9.889648                      5.507324   \n",
       "1                     9.968944                      5.257781   \n",
       "2                    10.213995                      5.383759   \n",
       "3                     9.977019                      4.858634   \n",
       "4                    10.142511                      4.939416   \n",
       "5                    10.049416                      5.480257   \n",
       "6                    10.058141                      4.569100   \n",
       "7                     9.935481                      4.389813   \n",
       "8                    10.071156                      4.876389   \n",
       "9                     9.980404                      5.282514   \n",
       "\n",
       "   final.output.concentrate_au  final.output.recovery  final.output.tail_ag  \\\n",
       "0                    42.192020              70.541216             10.411962   \n",
       "1                    42.701629              69.266198             10.462676   \n",
       "2                    42.657501              68.116445             10.507046   \n",
       "3                    42.689819              68.347543             10.422762   \n",
       "4                    42.774141              66.927016             10.360302   \n",
       "5                    41.633678              69.465816             10.182708   \n",
       "6                    41.995316              69.300835             10.304598   \n",
       "7                    42.452727              70.230976             10.443288   \n",
       "8                    43.404078              69.688595             10.420140   \n",
       "9                    43.235220              70.279619             10.487013   \n",
       "\n",
       "   final.output.tail_pb  final.output.tail_sol  final.output.tail_au  \\\n",
       "0              0.895447              16.904297              2.143149   \n",
       "1              0.927452              16.634514              2.224930   \n",
       "2              0.953716              16.208849              2.257889   \n",
       "3              0.883763              16.532835              2.146849   \n",
       "4              0.792826              16.525686              2.055292   \n",
       "5              0.664118              16.999638              1.918586   \n",
       "6              0.807342              16.723575              2.058913   \n",
       "7              0.949346              16.689959              2.143437   \n",
       "8              1.065453              17.201948              2.209881   \n",
       "9              1.159805              17.483979              2.209593   \n",
       "\n",
       "   primary_cleaner.input.sulfate  primary_cleaner.input.depressant  \\\n",
       "0                     127.092003                         10.128295   \n",
       "1                     125.629232                         10.296251   \n",
       "2                     123.819808                         11.316280   \n",
       "3                     122.270188                         11.322140   \n",
       "4                     117.988169                         11.913613   \n",
       "5                     115.581252                         12.470773   \n",
       "6                     117.322323                         12.469088   \n",
       "7                     124.592960                         12.467403   \n",
       "8                     131.781026                         12.465718   \n",
       "9                     138.120409                         12.464032   \n",
       "\n",
       "   primary_cleaner.input.feed_size  primary_cleaner.input.xanthate  \\\n",
       "0                             7.25                        0.988759   \n",
       "1                             7.25                        1.002663   \n",
       "2                             7.25                        0.991265   \n",
       "3                             7.25                        0.996739   \n",
       "4                             7.25                        1.009869   \n",
       "5                             7.25                        0.965760   \n",
       "6                             7.25                        0.895207   \n",
       "7                             7.25                        0.901202   \n",
       "8                             7.25                        0.885535   \n",
       "9                             7.25                        0.898779   \n",
       "\n",
       "   primary_cleaner.output.concentrate_ag  \\\n",
       "0                               8.547551   \n",
       "1                               8.558743   \n",
       "2                               8.603505   \n",
       "3                               7.221879   \n",
       "4                               9.089428   \n",
       "5                               9.553724   \n",
       "6                               8.968869   \n",
       "7                               8.545238   \n",
       "8                               8.046686   \n",
       "9                               8.098985   \n",
       "\n",
       "   primary_cleaner.output.concentrate_pb  \\\n",
       "0                              10.389648   \n",
       "1                              10.497069   \n",
       "2                              10.354494   \n",
       "3                               8.496563   \n",
       "4                               9.986786   \n",
       "5                               9.816215   \n",
       "6                              10.081306   \n",
       "7                              10.224540   \n",
       "8                              10.500065   \n",
       "9                              10.525324   \n",
       "\n",
       "   primary_cleaner.output.concentrate_sol  \\\n",
       "0                               19.529297   \n",
       "1                               19.369147   \n",
       "2                               19.167579   \n",
       "3                               15.978538   \n",
       "4                               19.199864   \n",
       "5                               19.167328   \n",
       "6                               18.930855   \n",
       "7                               18.735813   \n",
       "8                               18.560288   \n",
       "9                               18.436589   \n",
       "\n",
       "   primary_cleaner.output.concentrate_au  primary_cleaner.output.tail_ag  \\\n",
       "0                              34.174427                       14.936526   \n",
       "1                              34.118526                       16.250511   \n",
       "2                              33.969464                       16.491823   \n",
       "3                              28.260743                       16.024359   \n",
       "4                              33.044932                       16.480185   \n",
       "5                              32.070664                       15.931540   \n",
       "6                              33.184823                       16.078368   \n",
       "7                              34.027719                       15.797720   \n",
       "8                              34.964974                       16.195420   \n",
       "9                              34.826500                       15.535214   \n",
       "\n",
       "   primary_cleaner.output.tail_pb  primary_cleaner.output.tail_sol  \\\n",
       "0                        2.534912                         7.476074   \n",
       "1                        3.049646                         6.733907   \n",
       "2                        3.124664                         6.471768   \n",
       "3                        2.960362                         6.843791   \n",
       "4                        3.112100                         6.550154   \n",
       "5                        2.844511                         6.724197   \n",
       "6                        2.938979                         6.623598   \n",
       "7                        2.881529                         6.872033   \n",
       "8                        3.089922                         6.705633   \n",
       "9                        2.866688                         7.265906   \n",
       "\n",
       "   primary_cleaner.output.tail_au  primary_cleaner.state.floatbank8_a_air  \\\n",
       "0                        2.106679                             1549.775757   \n",
       "1                        2.353017                             1576.166671   \n",
       "2                        2.416800                             1601.556163   \n",
       "3                        2.262051                             1599.968720   \n",
       "4                        2.277073                             1601.339707   \n",
       "5                        2.114558                             1602.964922   \n",
       "6                        2.223152                             1597.532455   \n",
       "7                        2.112025                             1597.946266   \n",
       "8                        2.243817                             1601.670053   \n",
       "9                        2.025454                             1603.436598   \n",
       "\n",
       "   primary_cleaner.state.floatbank8_a_level  \\\n",
       "0                               -498.912140   \n",
       "1                               -500.904965   \n",
       "2                               -499.997791   \n",
       "3                               -500.951778   \n",
       "4                               -498.975456   \n",
       "5                               -498.090944   \n",
       "6                               -500.985364   \n",
       "7                               -501.592304   \n",
       "8                               -499.548891   \n",
       "9                               -499.864400   \n",
       "\n",
       "   primary_cleaner.state.floatbank8_b_air  \\\n",
       "0                             1551.434204   \n",
       "1                             1575.950626   \n",
       "2                             1600.386685   \n",
       "3                             1600.659236   \n",
       "4                             1601.437854   \n",
       "5                             1602.074298   \n",
       "6                             1602.816321   \n",
       "7                             1601.078254   \n",
       "8                             1598.804355   \n",
       "9                             1597.455353   \n",
       "\n",
       "   primary_cleaner.state.floatbank8_b_level  \\\n",
       "0                               -516.403442   \n",
       "1                               -499.865889   \n",
       "2                               -500.607762   \n",
       "3                               -499.677094   \n",
       "4                               -500.323246   \n",
       "5                               -500.179481   \n",
       "6                               -500.696736   \n",
       "7                               -499.494115   \n",
       "8                               -499.689644   \n",
       "9                               -500.266905   \n",
       "\n",
       "   primary_cleaner.state.floatbank8_c_air  \\\n",
       "0                             1549.873901   \n",
       "1                             1575.994189   \n",
       "2                             1602.003542   \n",
       "3                             1600.304144   \n",
       "4                             1599.581894   \n",
       "5                             1602.154812   \n",
       "6                             1603.572091   \n",
       "7                             1602.630688   \n",
       "8                             1601.689285   \n",
       "9                             1600.747882   \n",
       "\n",
       "   primary_cleaner.state.floatbank8_c_level  \\\n",
       "0                               -498.666595   \n",
       "1                               -499.315107   \n",
       "2                               -500.870069   \n",
       "3                               -500.727997   \n",
       "4                               -500.888152   \n",
       "5                               -498.642614   \n",
       "6                               -500.256955   \n",
       "7                               -500.173741   \n",
       "8                               -500.484957   \n",
       "9                               -500.541002   \n",
       "\n",
       "   primary_cleaner.state.floatbank8_d_air  \\\n",
       "0                             1554.367432   \n",
       "1                             1574.479259   \n",
       "2                             1599.541515   \n",
       "3                             1600.449520   \n",
       "4                             1602.649541   \n",
       "5                             1605.020106   \n",
       "6                             1597.597437   \n",
       "7                             1595.937990   \n",
       "8                             1602.431117   \n",
       "9                             1599.754053   \n",
       "\n",
       "   primary_cleaner.state.floatbank8_d_level  \\\n",
       "0                               -493.428131   \n",
       "1                               -498.931665   \n",
       "2                               -499.827444   \n",
       "3                               -500.052575   \n",
       "4                               -500.593010   \n",
       "5                               -500.538177   \n",
       "6                               -500.378192   \n",
       "7                               -498.929825   \n",
       "8                               -500.650982   \n",
       "9                               -499.216962   \n",
       "\n",
       "   rougher.calculation.sulfate_to_au_concentrate  \\\n",
       "0                                   41885.707031   \n",
       "1                                   42050.861809   \n",
       "2                                   42018.101184   \n",
       "3                                   42029.447991   \n",
       "4                                   42125.354245   \n",
       "5                                   41973.280986   \n",
       "6                                   41956.468979   \n",
       "7                                   41812.416893   \n",
       "8                                   41905.757985   \n",
       "9                                   41882.126352   \n",
       "\n",
       "   rougher.calculation.floatbank10_sulfate_to_au_feed  \\\n",
       "0                                        3481.779053    \n",
       "1                                        3498.370979    \n",
       "2                                        3495.348910    \n",
       "3                                        3498.578313    \n",
       "4                                        3494.800771    \n",
       "5                                        3501.916973    \n",
       "6                                        3497.427365    \n",
       "7                                        3497.275828    \n",
       "8                                        3498.332166    \n",
       "9                                        3499.915439    \n",
       "\n",
       "   rougher.calculation.floatbank11_sulfate_to_au_feed  \\\n",
       "0                                        3520.337158    \n",
       "1                                        3489.981857    \n",
       "2                                        3502.359819    \n",
       "3                                        3499.162912    \n",
       "4                                        3506.679315    \n",
       "5                                        3499.527175    \n",
       "6                                        3506.352790    \n",
       "7                                        3501.000030    \n",
       "8                                        3498.120075    \n",
       "9                                        3519.952954    \n",
       "\n",
       "   rougher.calculation.au_pb_ratio  rougher.input.feed_ag  \\\n",
       "0                         2.838687               6.100378   \n",
       "1                         2.858998               6.161113   \n",
       "2                         2.945989               6.116455   \n",
       "3                         3.002340               6.043309   \n",
       "4                         3.169615               6.060915   \n",
       "5                         3.026134               5.801920   \n",
       "6                         2.867933               6.056253   \n",
       "7                         2.784698               5.955053   \n",
       "8                         2.728844               5.878084   \n",
       "9                         2.717442               5.908793   \n",
       "\n",
       "   rougher.input.feed_pb  rougher.input.feed_rate  rougher.input.feed_size  \\\n",
       "0               2.284912               523.546326                55.486599   \n",
       "1               2.266033               525.290581                57.278666   \n",
       "2               2.159622               530.026610                57.510649   \n",
       "3               2.037807               542.590390                57.792734   \n",
       "4               1.786875               540.531893                56.047189   \n",
       "5               1.879351               546.173470                57.469578   \n",
       "6               2.105501               523.376439                56.674647   \n",
       "7               2.310432               549.842749                56.730325   \n",
       "8               2.391713               560.115242                56.649893   \n",
       "9               2.440899               573.076049                58.509262   \n",
       "\n",
       "   rougher.input.feed_sol  rougher.input.feed_au  \\\n",
       "0               36.808594               6.486150   \n",
       "1               35.753385               6.478583   \n",
       "2               35.971630               6.362222   \n",
       "3               36.862241               6.118189   \n",
       "4               34.347666               5.663707   \n",
       "5               35.470082               5.687168   \n",
       "6               34.920570               6.038436   \n",
       "7               36.091386               6.433854   \n",
       "8               35.753879               6.526612   \n",
       "9               36.958540               6.633002   \n",
       "\n",
       "   rougher.input.floatbank10_sulfate  rougher.input.floatbank10_xanthate  \\\n",
       "0                          11.986616                            6.007990   \n",
       "1                          11.971193                            6.005766   \n",
       "2                          11.920603                            6.197377   \n",
       "3                          11.630094                            6.203177   \n",
       "4                          10.957755                            6.198826   \n",
       "5                          11.072517                            6.200383   \n",
       "6                          11.535899                            6.204974   \n",
       "7                          12.557906                            6.799275   \n",
       "8                          13.166128                            6.798659   \n",
       "9                          13.707775                            6.820245   \n",
       "\n",
       "   rougher.input.floatbank11_sulfate  rougher.input.floatbank11_xanthate  \\\n",
       "0                          11.836743                            6.005818   \n",
       "1                          11.996163                            6.012594   \n",
       "2                          11.920305                            6.204633   \n",
       "3                          11.692450                            6.196578   \n",
       "4                          10.960521                            6.194897   \n",
       "5                          11.075009                            6.202362   \n",
       "6                          11.539227                            6.200515   \n",
       "7                          12.583109                            6.798354   \n",
       "8                          13.184764                            6.800021   \n",
       "9                          13.812674                            6.790624   \n",
       "\n",
       "   rougher.output.concentrate_ag  rougher.output.concentrate_pb  \\\n",
       "0                      11.500771                       7.101074   \n",
       "1                      11.615865                       7.278807   \n",
       "2                      11.695753                       7.216833   \n",
       "3                      11.915047                       7.175616   \n",
       "4                      12.411054                       7.240205   \n",
       "5                      11.985584                       7.121903   \n",
       "6                      11.684307                       7.304849   \n",
       "7                      11.182624                       7.258496   \n",
       "8                      11.051323                       7.380043   \n",
       "9                      11.116297                       7.297363   \n",
       "\n",
       "   rougher.output.concentrate_sol  rougher.output.concentrate_au  \\\n",
       "0                       28.029297                      19.793808   \n",
       "1                       28.067063                      20.050975   \n",
       "2                       27.454037                      19.737170   \n",
       "3                       27.341277                      19.320810   \n",
       "4                       27.041023                      19.216101   \n",
       "5                       26.898046                      18.950385   \n",
       "6                       27.063672                      19.319591   \n",
       "7                       27.231114                      19.507897   \n",
       "8                       27.404296                      19.789465   \n",
       "9                       27.497520                      19.497669   \n",
       "\n",
       "   rougher.output.recovery  rougher.output.tail_ag  rougher.output.tail_pb  \\\n",
       "0                87.107763                5.008018                0.508728   \n",
       "1                86.843261                4.955378                0.536689   \n",
       "2                86.842308                4.843460                0.546416   \n",
       "3                87.226430                4.655288                0.542525   \n",
       "4                86.688794                4.552800                0.515438   \n",
       "5                88.156912                4.397415                0.491350   \n",
       "6                88.168065                4.478080                0.518266   \n",
       "7                87.668336                4.728325                0.548067   \n",
       "8                87.035862                4.764300                0.599181   \n",
       "9                87.650868                4.667157                0.615418   \n",
       "\n",
       "   rougher.output.tail_sol  rougher.output.tail_au  \\\n",
       "0                19.154297                1.170244   \n",
       "1                18.965234                1.184827   \n",
       "2                18.808533                1.162562   \n",
       "3                19.330200                1.079755   \n",
       "4                19.267422                1.012642   \n",
       "5                19.640269                0.915835   \n",
       "6                19.262491                0.986248   \n",
       "7                18.861866                1.116110   \n",
       "8                18.873082                1.186780   \n",
       "9                18.907179                1.167140   \n",
       "\n",
       "   rougher.state.floatbank10_a_air  rougher.state.floatbank10_a_level  \\\n",
       "0                       999.706909                        -404.066986   \n",
       "1                      1000.286398                        -400.065196   \n",
       "2                       999.719565                        -400.074028   \n",
       "3                       999.814770                        -400.200179   \n",
       "4                       999.678690                        -399.752729   \n",
       "5                       999.934134                        -400.599524   \n",
       "6                       999.832373                        -399.353521   \n",
       "7                      1000.166602                        -400.556601   \n",
       "8                      1000.026864                        -399.968583   \n",
       "9                      1000.589156                        -398.879586   \n",
       "\n",
       "   rougher.state.floatbank10_b_air  rougher.state.floatbank10_b_level  \\\n",
       "0                      1603.011353                        -434.715027   \n",
       "1                      1600.754587                        -449.953435   \n",
       "2                      1599.337330                        -450.008530   \n",
       "3                      1600.059442                        -450.619948   \n",
       "4                      1600.208824                        -449.599614   \n",
       "5                      1601.080554                        -450.120760   \n",
       "6                      1600.753019                        -450.050089   \n",
       "7                      1598.877246                        -450.070980   \n",
       "8                      1599.813104                        -450.481122   \n",
       "9                      1598.975250                        -451.238638   \n",
       "\n",
       "   rougher.state.floatbank10_c_air  rougher.state.floatbank10_c_level  \\\n",
       "0                      1602.375000                        -442.204468   \n",
       "1                      1600.479580                        -449.830646   \n",
       "2                      1599.672797                        -449.954491   \n",
       "3                      1600.012842                        -449.910497   \n",
       "4                      1600.357732                        -450.034364   \n",
       "5                      1603.164805                        -450.097732   \n",
       "6                      1599.019966                        -449.848507   \n",
       "7                      1598.108717                        -449.211334   \n",
       "8                      1600.024621                        -450.365493   \n",
       "9                      1600.058139                        -451.271448   \n",
       "\n",
       "   rougher.state.floatbank10_d_air  rougher.state.floatbank10_d_level  \\\n",
       "0                      1598.937256                        -451.294128   \n",
       "1                      1600.527589                        -449.953649   \n",
       "2                      1599.849325                        -449.954185   \n",
       "3                      1597.725177                        -450.130127   \n",
       "4                      1599.759049                        -449.909799   \n",
       "5                      1603.368371                        -446.306150   \n",
       "6                      1600.298267                        -453.102891   \n",
       "7                      1592.872844                        -449.806802   \n",
       "8                      1594.448648                        -449.882428   \n",
       "9                      1610.182874                        -450.460190   \n",
       "\n",
       "   rougher.state.floatbank10_e_air  rougher.state.floatbank10_e_level  \\\n",
       "0                      1404.472046                        -455.462982   \n",
       "1                      1399.227084                        -450.869848   \n",
       "2                      1399.180945                        -449.937588   \n",
       "3                      1400.943157                        -450.030142   \n",
       "4                      1401.560902                        -448.877187   \n",
       "5                      1403.393100                        -447.899904   \n",
       "6                      1397.853265                        -451.306640   \n",
       "7                      1396.580752                        -453.548352   \n",
       "8                      1402.033682                        -448.545552   \n",
       "9                      1399.194663                        -450.332681   \n",
       "\n",
       "   rougher.state.floatbank10_f_air  rougher.state.floatbank10_f_level  \\\n",
       "0                      1416.354980                        -451.939636   \n",
       "1                      1399.719514                        -450.119001   \n",
       "2                      1400.316682                        -450.527147   \n",
       "3                      1400.234743                        -449.790835   \n",
       "4                      1401.160227                        -450.407128   \n",
       "5                      1402.903175                        -448.872321   \n",
       "6                      1397.973670                        -451.355626   \n",
       "7                      1397.289884                        -450.221696   \n",
       "8                      1400.748347                        -450.303991   \n",
       "9                      1399.638290                        -450.198722   \n",
       "\n",
       "   secondary_cleaner.output.tail_ag  secondary_cleaner.output.tail_pb  \\\n",
       "0                         14.500184                          4.694824   \n",
       "1                         14.265474                          4.592547   \n",
       "2                         14.115662                          4.624775   \n",
       "3                         13.732071                          4.482453   \n",
       "4                         14.079996                          4.470737   \n",
       "5                         13.615012                          4.286817   \n",
       "6                         13.597056                          4.487865   \n",
       "7                         13.177237                          4.432448   \n",
       "8                         13.487870                          4.608756   \n",
       "9                         13.209191                          4.550553   \n",
       "\n",
       "   secondary_cleaner.output.tail_sol  secondary_cleaner.output.tail_au  \\\n",
       "0                           8.764648                          2.606185   \n",
       "1                           9.001494                          2.488248   \n",
       "2                           8.842896                          2.458187   \n",
       "3                           9.122857                          2.322062   \n",
       "4                           8.871028                          2.330448   \n",
       "5                           9.302669                          2.192127   \n",
       "6                           9.103047                          2.316720   \n",
       "7                           9.369209                          2.192197   \n",
       "8                           9.437044                          2.212084   \n",
       "9                           9.813732                          2.073737   \n",
       "\n",
       "   secondary_cleaner.state.floatbank2_a_air  \\\n",
       "0                                 25.853109   \n",
       "1                                 25.880539   \n",
       "2                                 26.005245   \n",
       "3                                 25.942508   \n",
       "4                                 26.024787   \n",
       "5                                 26.014841   \n",
       "6                                 25.957594   \n",
       "7                                 25.938026   \n",
       "8                                 25.929511   \n",
       "9                                 26.059510   \n",
       "\n",
       "   secondary_cleaner.state.floatbank2_a_level  \\\n",
       "0                                 -498.526489   \n",
       "1                                 -499.989656   \n",
       "2                                 -499.929616   \n",
       "3                                 -499.176749   \n",
       "4                                 -500.279091   \n",
       "5                                 -498.864670   \n",
       "6                                 -500.134472   \n",
       "7                                 -499.657795   \n",
       "8                                 -500.079889   \n",
       "9                                 -499.151646   \n",
       "\n",
       "   secondary_cleaner.state.floatbank2_b_air  \\\n",
       "0                                 23.893660   \n",
       "1                                 23.889530   \n",
       "2                                 23.886657   \n",
       "3                                 23.955516   \n",
       "4                                 23.955345   \n",
       "5                                 23.880214   \n",
       "6                                 24.077199   \n",
       "7                                 24.020179   \n",
       "8                                 23.977375   \n",
       "9                                 23.934570   \n",
       "\n",
       "   secondary_cleaner.state.floatbank2_b_level  \\\n",
       "0                                 -501.406281   \n",
       "1                                 -500.372428   \n",
       "2                                 -499.951928   \n",
       "3                                 -499.848796   \n",
       "4                                 -500.593614   \n",
       "5                                 -499.738447   \n",
       "6                                 -500.089190   \n",
       "7                                 -499.798396   \n",
       "8                                 -500.005187   \n",
       "9                                 -499.351758   \n",
       "\n",
       "   secondary_cleaner.state.floatbank3_a_air  \\\n",
       "0                                 23.961798   \n",
       "1                                 23.970550   \n",
       "2                                 23.913535   \n",
       "3                                 23.966838   \n",
       "4                                 23.985703   \n",
       "5                                 23.982635   \n",
       "6                                 23.991710   \n",
       "7                                 24.031555   \n",
       "8                                 23.998809   \n",
       "9                                 23.994184   \n",
       "\n",
       "   secondary_cleaner.state.floatbank3_a_level  \\\n",
       "0                                 -495.262817   \n",
       "1                                 -500.085473   \n",
       "2                                 -499.442343   \n",
       "3                                 -500.008812   \n",
       "4                                 -500.083811   \n",
       "5                                 -500.495272   \n",
       "6                                 -500.391528   \n",
       "7                                 -500.550436   \n",
       "8                                 -500.400133   \n",
       "9                                 -500.078566   \n",
       "\n",
       "   secondary_cleaner.state.floatbank3_b_air  \\\n",
       "0                                 21.940409   \n",
       "1                                 22.085714   \n",
       "2                                 23.957717   \n",
       "3                                 23.954443   \n",
       "4                                 23.958945   \n",
       "5                                 24.009749   \n",
       "6                                 23.954144   \n",
       "7                                 23.968160   \n",
       "8                                 23.982633   \n",
       "9                                 23.924481   \n",
       "\n",
       "   secondary_cleaner.state.floatbank3_b_level  \\\n",
       "0                                 -499.340973   \n",
       "1                                 -499.446897   \n",
       "2                                 -499.901982   \n",
       "3                                 -499.944710   \n",
       "4                                 -499.990309   \n",
       "5                                 -499.433825   \n",
       "6                                 -501.872171   \n",
       "7                                 -499.836513   \n",
       "8                                 -499.826311   \n",
       "9                                 -499.989024   \n",
       "\n",
       "   secondary_cleaner.state.floatbank4_a_air  \\\n",
       "0                                 14.016835   \n",
       "1                                 13.992281   \n",
       "2                                 14.015015   \n",
       "3                                 14.036510   \n",
       "4                                 14.027298   \n",
       "5                                 13.938497   \n",
       "6                                 14.046819   \n",
       "7                                 13.974691   \n",
       "8                                 13.964030   \n",
       "9                                 13.989632   \n",
       "\n",
       "   secondary_cleaner.state.floatbank4_a_level  \\\n",
       "0                                 -502.488007   \n",
       "1                                 -505.503262   \n",
       "2                                 -502.520901   \n",
       "3                                 -500.857308   \n",
       "4                                 -499.838632   \n",
       "5                                 -500.970168   \n",
       "6                                 -500.971133   \n",
       "7                                 -501.819696   \n",
       "8                                 -504.252450   \n",
       "9                                 -503.195299   \n",
       "\n",
       "   secondary_cleaner.state.floatbank4_b_air  \\\n",
       "0                                 12.099931   \n",
       "1                                 11.950531   \n",
       "2                                 11.912783   \n",
       "3                                 11.999550   \n",
       "4                                 11.953070   \n",
       "5                                 11.883350   \n",
       "6                                 12.091543   \n",
       "7                                 12.101324   \n",
       "8                                 12.060738   \n",
       "9                                 12.052233   \n",
       "\n",
       "   secondary_cleaner.state.floatbank4_b_level  \\\n",
       "0                                 -504.715942   \n",
       "1                                 -501.331529   \n",
       "2                                 -501.133383   \n",
       "3                                 -501.193686   \n",
       "4                                 -501.053894   \n",
       "5                                 -500.395298   \n",
       "6                                 -500.501426   \n",
       "7                                 -500.583446   \n",
       "8                                 -501.174549   \n",
       "9                                 -500.928547   \n",
       "\n",
       "   secondary_cleaner.state.floatbank5_a_air  \\\n",
       "0                                  9.925633   \n",
       "1                                 10.039245   \n",
       "2                                 10.070913   \n",
       "3                                  9.970366   \n",
       "4                                  9.925709   \n",
       "5                                 10.054147   \n",
       "6                                 10.003247   \n",
       "7                                  9.873169   \n",
       "8                                 10.033838   \n",
       "9                                  9.962574   \n",
       "\n",
       "   secondary_cleaner.state.floatbank5_a_level  \\\n",
       "0                                 -498.310211   \n",
       "1                                 -500.169983   \n",
       "2                                 -500.129135   \n",
       "3                                 -499.201640   \n",
       "4                                 -501.686727   \n",
       "5                                 -496.374715   \n",
       "6                                 -497.083180   \n",
       "7                                 -499.171928   \n",
       "8                                 -501.178133   \n",
       "9                                 -502.986357   \n",
       "\n",
       "   secondary_cleaner.state.floatbank5_b_air  \\\n",
       "0                                  8.079666   \n",
       "1                                  7.984757   \n",
       "2                                  8.013877   \n",
       "3                                  7.977324   \n",
       "4                                  7.894242   \n",
       "5                                  7.965083   \n",
       "6                                  8.010890   \n",
       "7                                  7.993381   \n",
       "8                                  7.881604   \n",
       "9                                  7.979219   \n",
       "\n",
       "   secondary_cleaner.state.floatbank5_b_level  \\\n",
       "0                                 -500.470978   \n",
       "1                                 -500.582168   \n",
       "2                                 -500.517572   \n",
       "3                                 -500.255908   \n",
       "4                                 -500.356035   \n",
       "5                                 -499.364752   \n",
       "6                                 -500.002423   \n",
       "7                                 -499.794518   \n",
       "8                                 -499.729434   \n",
       "9                                 -500.146835   \n",
       "\n",
       "   secondary_cleaner.state.floatbank6_a_air  \\\n",
       "0                                 14.151341   \n",
       "1                                 13.998353   \n",
       "2                                 14.028663   \n",
       "3                                 14.005551   \n",
       "4                                 13.996647   \n",
       "5                                 14.017067   \n",
       "6                                 14.029649   \n",
       "7                                 13.984498   \n",
       "8                                 13.967135   \n",
       "9                                 13.981614   \n",
       "\n",
       "   secondary_cleaner.state.floatbank6_a_level  \n",
       "0                                 -605.841980  \n",
       "1                                 -599.787184  \n",
       "2                                 -601.427363  \n",
       "3                                 -599.996129  \n",
       "4                                 -601.496691  \n",
       "5                                 -599.707915  \n",
       "6                                 -600.905470  \n",
       "7                                 -600.411070  \n",
       "8                                 -599.061188  \n",
       "9                                 -598.070855  "
      ]
     },
     "execution_count": 3,
     "metadata": {},
     "output_type": "execute_result"
    }
   ],
   "source": [
    "df_train.head(10)"
   ]
  },
  {
   "cell_type": "code",
   "execution_count": 4,
   "metadata": {
    "scrolled": true
   },
   "outputs": [
    {
     "data": {
      "text/html": [
       "<div>\n",
       "<style scoped>\n",
       "    .dataframe tbody tr th:only-of-type {\n",
       "        vertical-align: middle;\n",
       "    }\n",
       "\n",
       "    .dataframe tbody tr th {\n",
       "        vertical-align: top;\n",
       "    }\n",
       "\n",
       "    .dataframe thead th {\n",
       "        text-align: right;\n",
       "    }\n",
       "</style>\n",
       "<table border=\"1\" class=\"dataframe\">\n",
       "  <thead>\n",
       "    <tr style=\"text-align: right;\">\n",
       "      <th></th>\n",
       "      <th>date</th>\n",
       "      <th>primary_cleaner.input.sulfate</th>\n",
       "      <th>primary_cleaner.input.depressant</th>\n",
       "      <th>primary_cleaner.input.feed_size</th>\n",
       "      <th>primary_cleaner.input.xanthate</th>\n",
       "      <th>primary_cleaner.state.floatbank8_a_air</th>\n",
       "      <th>primary_cleaner.state.floatbank8_a_level</th>\n",
       "      <th>primary_cleaner.state.floatbank8_b_air</th>\n",
       "      <th>primary_cleaner.state.floatbank8_b_level</th>\n",
       "      <th>primary_cleaner.state.floatbank8_c_air</th>\n",
       "      <th>primary_cleaner.state.floatbank8_c_level</th>\n",
       "      <th>primary_cleaner.state.floatbank8_d_air</th>\n",
       "      <th>primary_cleaner.state.floatbank8_d_level</th>\n",
       "      <th>rougher.input.feed_ag</th>\n",
       "      <th>rougher.input.feed_pb</th>\n",
       "      <th>rougher.input.feed_rate</th>\n",
       "      <th>rougher.input.feed_size</th>\n",
       "      <th>rougher.input.feed_sol</th>\n",
       "      <th>rougher.input.feed_au</th>\n",
       "      <th>rougher.input.floatbank10_sulfate</th>\n",
       "      <th>rougher.input.floatbank10_xanthate</th>\n",
       "      <th>rougher.input.floatbank11_sulfate</th>\n",
       "      <th>rougher.input.floatbank11_xanthate</th>\n",
       "      <th>rougher.state.floatbank10_a_air</th>\n",
       "      <th>rougher.state.floatbank10_a_level</th>\n",
       "      <th>rougher.state.floatbank10_b_air</th>\n",
       "      <th>rougher.state.floatbank10_b_level</th>\n",
       "      <th>rougher.state.floatbank10_c_air</th>\n",
       "      <th>rougher.state.floatbank10_c_level</th>\n",
       "      <th>rougher.state.floatbank10_d_air</th>\n",
       "      <th>rougher.state.floatbank10_d_level</th>\n",
       "      <th>rougher.state.floatbank10_e_air</th>\n",
       "      <th>rougher.state.floatbank10_e_level</th>\n",
       "      <th>rougher.state.floatbank10_f_air</th>\n",
       "      <th>rougher.state.floatbank10_f_level</th>\n",
       "      <th>secondary_cleaner.state.floatbank2_a_air</th>\n",
       "      <th>secondary_cleaner.state.floatbank2_a_level</th>\n",
       "      <th>secondary_cleaner.state.floatbank2_b_air</th>\n",
       "      <th>secondary_cleaner.state.floatbank2_b_level</th>\n",
       "      <th>secondary_cleaner.state.floatbank3_a_air</th>\n",
       "      <th>secondary_cleaner.state.floatbank3_a_level</th>\n",
       "      <th>secondary_cleaner.state.floatbank3_b_air</th>\n",
       "      <th>secondary_cleaner.state.floatbank3_b_level</th>\n",
       "      <th>secondary_cleaner.state.floatbank4_a_air</th>\n",
       "      <th>secondary_cleaner.state.floatbank4_a_level</th>\n",
       "      <th>secondary_cleaner.state.floatbank4_b_air</th>\n",
       "      <th>secondary_cleaner.state.floatbank4_b_level</th>\n",
       "      <th>secondary_cleaner.state.floatbank5_a_air</th>\n",
       "      <th>secondary_cleaner.state.floatbank5_a_level</th>\n",
       "      <th>secondary_cleaner.state.floatbank5_b_air</th>\n",
       "      <th>secondary_cleaner.state.floatbank5_b_level</th>\n",
       "      <th>secondary_cleaner.state.floatbank6_a_air</th>\n",
       "      <th>secondary_cleaner.state.floatbank6_a_level</th>\n",
       "    </tr>\n",
       "  </thead>\n",
       "  <tbody>\n",
       "    <tr>\n",
       "      <th>0</th>\n",
       "      <td>2016-09-01 00:59:59</td>\n",
       "      <td>210.800909</td>\n",
       "      <td>14.993118</td>\n",
       "      <td>8.080000</td>\n",
       "      <td>1.005021</td>\n",
       "      <td>1398.981301</td>\n",
       "      <td>-500.225577</td>\n",
       "      <td>1399.144926</td>\n",
       "      <td>-499.919735</td>\n",
       "      <td>1400.102998</td>\n",
       "      <td>-500.704369</td>\n",
       "      <td>1399.001695</td>\n",
       "      <td>-499.485144</td>\n",
       "      <td>13.128569</td>\n",
       "      <td>5.636710</td>\n",
       "      <td>489.793655</td>\n",
       "      <td>62.710452</td>\n",
       "      <td>42.022440</td>\n",
       "      <td>12.084103</td>\n",
       "      <td>16.922877</td>\n",
       "      <td>6.153479</td>\n",
       "      <td>16.867518</td>\n",
       "      <td>6.150709</td>\n",
       "      <td>1001.849317</td>\n",
       "      <td>-350.301265</td>\n",
       "      <td>1249.738612</td>\n",
       "      <td>-399.107531</td>\n",
       "      <td>1249.750520</td>\n",
       "      <td>-399.396730</td>\n",
       "      <td>1198.287855</td>\n",
       "      <td>-399.488594</td>\n",
       "      <td>999.472250</td>\n",
       "      <td>-399.530962</td>\n",
       "      <td>949.566189</td>\n",
       "      <td>-398.180807</td>\n",
       "      <td>24.938200</td>\n",
       "      <td>-500.490963</td>\n",
       "      <td>14.947607</td>\n",
       "      <td>-500.013837</td>\n",
       "      <td>20.018166</td>\n",
       "      <td>-450.395995</td>\n",
       "      <td>13.987058</td>\n",
       "      <td>-449.831513</td>\n",
       "      <td>12.023554</td>\n",
       "      <td>-497.795834</td>\n",
       "      <td>8.016656</td>\n",
       "      <td>-501.289139</td>\n",
       "      <td>7.946562</td>\n",
       "      <td>-432.317850</td>\n",
       "      <td>4.872511</td>\n",
       "      <td>-500.037437</td>\n",
       "      <td>26.705889</td>\n",
       "      <td>-499.709414</td>\n",
       "    </tr>\n",
       "    <tr>\n",
       "      <th>1</th>\n",
       "      <td>2016-09-01 01:59:59</td>\n",
       "      <td>215.392455</td>\n",
       "      <td>14.987471</td>\n",
       "      <td>8.080000</td>\n",
       "      <td>0.990469</td>\n",
       "      <td>1398.777912</td>\n",
       "      <td>-500.057435</td>\n",
       "      <td>1398.055362</td>\n",
       "      <td>-499.778182</td>\n",
       "      <td>1396.151033</td>\n",
       "      <td>-499.240168</td>\n",
       "      <td>1399.508091</td>\n",
       "      <td>-500.416324</td>\n",
       "      <td>13.036280</td>\n",
       "      <td>5.526065</td>\n",
       "      <td>490.104534</td>\n",
       "      <td>61.961163</td>\n",
       "      <td>41.187903</td>\n",
       "      <td>11.918977</td>\n",
       "      <td>17.002532</td>\n",
       "      <td>5.999043</td>\n",
       "      <td>16.996063</td>\n",
       "      <td>6.002315</td>\n",
       "      <td>998.690785</td>\n",
       "      <td>-350.425704</td>\n",
       "      <td>1248.395457</td>\n",
       "      <td>-399.946025</td>\n",
       "      <td>1249.514451</td>\n",
       "      <td>-399.630810</td>\n",
       "      <td>1200.506459</td>\n",
       "      <td>-399.942434</td>\n",
       "      <td>1000.002114</td>\n",
       "      <td>-399.491528</td>\n",
       "      <td>950.200009</td>\n",
       "      <td>-405.787514</td>\n",
       "      <td>24.923466</td>\n",
       "      <td>-499.813963</td>\n",
       "      <td>14.930873</td>\n",
       "      <td>-500.764452</td>\n",
       "      <td>19.988503</td>\n",
       "      <td>-450.114024</td>\n",
       "      <td>14.092981</td>\n",
       "      <td>-450.059163</td>\n",
       "      <td>12.058140</td>\n",
       "      <td>-498.695773</td>\n",
       "      <td>8.130979</td>\n",
       "      <td>-499.634209</td>\n",
       "      <td>7.958270</td>\n",
       "      <td>-525.839648</td>\n",
       "      <td>4.878850</td>\n",
       "      <td>-500.162375</td>\n",
       "      <td>25.019940</td>\n",
       "      <td>-499.819438</td>\n",
       "    </tr>\n",
       "    <tr>\n",
       "      <th>2</th>\n",
       "      <td>2016-09-01 02:59:59</td>\n",
       "      <td>215.259946</td>\n",
       "      <td>12.884934</td>\n",
       "      <td>7.786667</td>\n",
       "      <td>0.996043</td>\n",
       "      <td>1398.493666</td>\n",
       "      <td>-500.868360</td>\n",
       "      <td>1398.860436</td>\n",
       "      <td>-499.764529</td>\n",
       "      <td>1398.075709</td>\n",
       "      <td>-502.151509</td>\n",
       "      <td>1399.497088</td>\n",
       "      <td>-499.715479</td>\n",
       "      <td>13.138412</td>\n",
       "      <td>5.426561</td>\n",
       "      <td>489.617969</td>\n",
       "      <td>66.903807</td>\n",
       "      <td>42.546294</td>\n",
       "      <td>12.091332</td>\n",
       "      <td>16.992520</td>\n",
       "      <td>5.850632</td>\n",
       "      <td>16.982096</td>\n",
       "      <td>5.853594</td>\n",
       "      <td>998.516720</td>\n",
       "      <td>-349.783538</td>\n",
       "      <td>1247.440748</td>\n",
       "      <td>-400.264330</td>\n",
       "      <td>1248.207204</td>\n",
       "      <td>-401.074405</td>\n",
       "      <td>1199.770026</td>\n",
       "      <td>-400.790582</td>\n",
       "      <td>999.925519</td>\n",
       "      <td>-399.236999</td>\n",
       "      <td>950.320481</td>\n",
       "      <td>-400.864340</td>\n",
       "      <td>24.908732</td>\n",
       "      <td>-500.304035</td>\n",
       "      <td>14.996511</td>\n",
       "      <td>-500.993821</td>\n",
       "      <td>20.039689</td>\n",
       "      <td>-450.263164</td>\n",
       "      <td>14.077881</td>\n",
       "      <td>-449.660997</td>\n",
       "      <td>11.962366</td>\n",
       "      <td>-498.767484</td>\n",
       "      <td>8.096893</td>\n",
       "      <td>-500.827423</td>\n",
       "      <td>8.071056</td>\n",
       "      <td>-500.801673</td>\n",
       "      <td>4.905125</td>\n",
       "      <td>-499.828510</td>\n",
       "      <td>24.994862</td>\n",
       "      <td>-500.622559</td>\n",
       "    </tr>\n",
       "    <tr>\n",
       "      <th>3</th>\n",
       "      <td>2016-09-01 03:59:59</td>\n",
       "      <td>215.336236</td>\n",
       "      <td>12.006805</td>\n",
       "      <td>7.640000</td>\n",
       "      <td>0.863514</td>\n",
       "      <td>1399.618111</td>\n",
       "      <td>-498.863574</td>\n",
       "      <td>1397.440120</td>\n",
       "      <td>-499.211024</td>\n",
       "      <td>1400.129303</td>\n",
       "      <td>-498.355873</td>\n",
       "      <td>1401.065165</td>\n",
       "      <td>-501.038738</td>\n",
       "      <td>12.400507</td>\n",
       "      <td>5.114758</td>\n",
       "      <td>476.618130</td>\n",
       "      <td>59.865919</td>\n",
       "      <td>41.060195</td>\n",
       "      <td>12.181597</td>\n",
       "      <td>16.532144</td>\n",
       "      <td>5.801935</td>\n",
       "      <td>16.515277</td>\n",
       "      <td>5.803657</td>\n",
       "      <td>1000.276604</td>\n",
       "      <td>-350.172597</td>\n",
       "      <td>1251.322675</td>\n",
       "      <td>-398.655289</td>\n",
       "      <td>1250.493702</td>\n",
       "      <td>-399.746728</td>\n",
       "      <td>1199.398691</td>\n",
       "      <td>-397.503052</td>\n",
       "      <td>1001.930679</td>\n",
       "      <td>-400.437573</td>\n",
       "      <td>950.735324</td>\n",
       "      <td>-399.802986</td>\n",
       "      <td>24.893998</td>\n",
       "      <td>-499.382374</td>\n",
       "      <td>14.916674</td>\n",
       "      <td>-499.862299</td>\n",
       "      <td>20.031100</td>\n",
       "      <td>-449.372570</td>\n",
       "      <td>14.013968</td>\n",
       "      <td>-449.526900</td>\n",
       "      <td>12.033091</td>\n",
       "      <td>-498.350935</td>\n",
       "      <td>8.074946</td>\n",
       "      <td>-499.474407</td>\n",
       "      <td>7.897085</td>\n",
       "      <td>-500.868509</td>\n",
       "      <td>4.931400</td>\n",
       "      <td>-499.963623</td>\n",
       "      <td>24.948919</td>\n",
       "      <td>-498.709987</td>\n",
       "    </tr>\n",
       "    <tr>\n",
       "      <th>4</th>\n",
       "      <td>2016-09-01 04:59:59</td>\n",
       "      <td>199.099327</td>\n",
       "      <td>10.682530</td>\n",
       "      <td>7.530000</td>\n",
       "      <td>0.805575</td>\n",
       "      <td>1401.268123</td>\n",
       "      <td>-500.808305</td>\n",
       "      <td>1398.128818</td>\n",
       "      <td>-499.504543</td>\n",
       "      <td>1402.172226</td>\n",
       "      <td>-500.810606</td>\n",
       "      <td>1399.480508</td>\n",
       "      <td>-499.374053</td>\n",
       "      <td>11.327427</td>\n",
       "      <td>4.767383</td>\n",
       "      <td>488.248117</td>\n",
       "      <td>63.315324</td>\n",
       "      <td>41.269161</td>\n",
       "      <td>11.290425</td>\n",
       "      <td>13.607257</td>\n",
       "      <td>5.738081</td>\n",
       "      <td>13.650053</td>\n",
       "      <td>5.739634</td>\n",
       "      <td>996.541302</td>\n",
       "      <td>-350.562517</td>\n",
       "      <td>1304.658848</td>\n",
       "      <td>-399.511519</td>\n",
       "      <td>1306.455515</td>\n",
       "      <td>-399.050685</td>\n",
       "      <td>1248.699349</td>\n",
       "      <td>-400.876894</td>\n",
       "      <td>1058.839106</td>\n",
       "      <td>-398.988239</td>\n",
       "      <td>949.645313</td>\n",
       "      <td>-399.277632</td>\n",
       "      <td>24.886905</td>\n",
       "      <td>-499.357375</td>\n",
       "      <td>14.979233</td>\n",
       "      <td>-500.186804</td>\n",
       "      <td>19.962364</td>\n",
       "      <td>-450.638828</td>\n",
       "      <td>14.009245</td>\n",
       "      <td>-450.022259</td>\n",
       "      <td>12.025367</td>\n",
       "      <td>-500.786497</td>\n",
       "      <td>8.054678</td>\n",
       "      <td>-500.397500</td>\n",
       "      <td>8.107890</td>\n",
       "      <td>-509.526725</td>\n",
       "      <td>4.957674</td>\n",
       "      <td>-500.360026</td>\n",
       "      <td>25.003331</td>\n",
       "      <td>-500.856333</td>\n",
       "    </tr>\n",
       "    <tr>\n",
       "      <th>5</th>\n",
       "      <td>2016-09-01 05:59:59</td>\n",
       "      <td>168.485085</td>\n",
       "      <td>8.817007</td>\n",
       "      <td>7.420000</td>\n",
       "      <td>0.791191</td>\n",
       "      <td>1402.826803</td>\n",
       "      <td>-499.299521</td>\n",
       "      <td>1401.511119</td>\n",
       "      <td>-499.205357</td>\n",
       "      <td>1404.088107</td>\n",
       "      <td>-497.903666</td>\n",
       "      <td>1400.479070</td>\n",
       "      <td>-500.842752</td>\n",
       "      <td>9.658909</td>\n",
       "      <td>4.290008</td>\n",
       "      <td>490.908013</td>\n",
       "      <td>69.218255</td>\n",
       "      <td>41.515115</td>\n",
       "      <td>9.779850</td>\n",
       "      <td>10.696589</td>\n",
       "      <td>5.596642</td>\n",
       "      <td>10.699891</td>\n",
       "      <td>5.597860</td>\n",
       "      <td>998.650980</td>\n",
       "      <td>-349.659046</td>\n",
       "      <td>1349.964264</td>\n",
       "      <td>-399.393077</td>\n",
       "      <td>1349.764702</td>\n",
       "      <td>-399.233016</td>\n",
       "      <td>1302.258827</td>\n",
       "      <td>-399.946857</td>\n",
       "      <td>1100.278629</td>\n",
       "      <td>-399.742287</td>\n",
       "      <td>949.622431</td>\n",
       "      <td>-399.096175</td>\n",
       "      <td>24.920872</td>\n",
       "      <td>-500.006603</td>\n",
       "      <td>14.916602</td>\n",
       "      <td>-499.899348</td>\n",
       "      <td>20.019330</td>\n",
       "      <td>-449.836319</td>\n",
       "      <td>14.041691</td>\n",
       "      <td>-450.185369</td>\n",
       "      <td>12.029797</td>\n",
       "      <td>-499.814895</td>\n",
       "      <td>8.036586</td>\n",
       "      <td>-500.371492</td>\n",
       "      <td>8.041446</td>\n",
       "      <td>-510.037054</td>\n",
       "      <td>4.983949</td>\n",
       "      <td>-499.990990</td>\n",
       "      <td>24.978973</td>\n",
       "      <td>-500.475640</td>\n",
       "    </tr>\n",
       "    <tr>\n",
       "      <th>6</th>\n",
       "      <td>2016-09-01 06:59:59</td>\n",
       "      <td>144.133440</td>\n",
       "      <td>7.924610</td>\n",
       "      <td>7.420000</td>\n",
       "      <td>0.788838</td>\n",
       "      <td>1398.252401</td>\n",
       "      <td>-499.748672</td>\n",
       "      <td>1393.255503</td>\n",
       "      <td>-499.195380</td>\n",
       "      <td>1396.738566</td>\n",
       "      <td>-497.923683</td>\n",
       "      <td>1399.535678</td>\n",
       "      <td>-500.256895</td>\n",
       "      <td>8.902324</td>\n",
       "      <td>4.043502</td>\n",
       "      <td>490.081681</td>\n",
       "      <td>75.856243</td>\n",
       "      <td>43.157100</td>\n",
       "      <td>9.168984</td>\n",
       "      <td>10.004265</td>\n",
       "      <td>5.602029</td>\n",
       "      <td>10.004993</td>\n",
       "      <td>5.598335</td>\n",
       "      <td>999.686022</td>\n",
       "      <td>-350.086605</td>\n",
       "      <td>1349.452840</td>\n",
       "      <td>-400.372133</td>\n",
       "      <td>1349.739875</td>\n",
       "      <td>-400.045549</td>\n",
       "      <td>1299.687671</td>\n",
       "      <td>-399.981643</td>\n",
       "      <td>1099.813504</td>\n",
       "      <td>-400.249376</td>\n",
       "      <td>949.798421</td>\n",
       "      <td>-400.710664</td>\n",
       "      <td>24.966566</td>\n",
       "      <td>-500.375242</td>\n",
       "      <td>12.573283</td>\n",
       "      <td>-499.670366</td>\n",
       "      <td>19.959853</td>\n",
       "      <td>-485.725045</td>\n",
       "      <td>12.465845</td>\n",
       "      <td>-485.778583</td>\n",
       "      <td>12.026296</td>\n",
       "      <td>-499.473127</td>\n",
       "      <td>8.027984</td>\n",
       "      <td>-500.983079</td>\n",
       "      <td>7.907340</td>\n",
       "      <td>-507.964971</td>\n",
       "      <td>5.010224</td>\n",
       "      <td>-500.043697</td>\n",
       "      <td>25.040709</td>\n",
       "      <td>-499.501984</td>\n",
       "    </tr>\n",
       "    <tr>\n",
       "      <th>7</th>\n",
       "      <td>2016-09-01 07:59:59</td>\n",
       "      <td>133.513396</td>\n",
       "      <td>8.055252</td>\n",
       "      <td>6.988000</td>\n",
       "      <td>0.801871</td>\n",
       "      <td>1401.669677</td>\n",
       "      <td>-501.777839</td>\n",
       "      <td>1400.754446</td>\n",
       "      <td>-502.514024</td>\n",
       "      <td>1400.465244</td>\n",
       "      <td>-503.451306</td>\n",
       "      <td>1398.546641</td>\n",
       "      <td>-498.000544</td>\n",
       "      <td>8.759385</td>\n",
       "      <td>4.036795</td>\n",
       "      <td>489.121319</td>\n",
       "      <td>77.968131</td>\n",
       "      <td>44.392272</td>\n",
       "      <td>9.116535</td>\n",
       "      <td>9.999497</td>\n",
       "      <td>5.604636</td>\n",
       "      <td>9.998214</td>\n",
       "      <td>5.601708</td>\n",
       "      <td>999.888294</td>\n",
       "      <td>-350.889527</td>\n",
       "      <td>1350.425833</td>\n",
       "      <td>-400.665895</td>\n",
       "      <td>1347.736470</td>\n",
       "      <td>-401.850527</td>\n",
       "      <td>1295.059918</td>\n",
       "      <td>-404.880024</td>\n",
       "      <td>1097.116527</td>\n",
       "      <td>-399.280301</td>\n",
       "      <td>950.165809</td>\n",
       "      <td>-399.217640</td>\n",
       "      <td>25.057298</td>\n",
       "      <td>-500.516443</td>\n",
       "      <td>11.919993</td>\n",
       "      <td>-500.141295</td>\n",
       "      <td>20.091065</td>\n",
       "      <td>-500.162309</td>\n",
       "      <td>11.935898</td>\n",
       "      <td>-500.116649</td>\n",
       "      <td>12.040911</td>\n",
       "      <td>-501.293852</td>\n",
       "      <td>8.020490</td>\n",
       "      <td>-499.185229</td>\n",
       "      <td>8.116897</td>\n",
       "      <td>-511.927561</td>\n",
       "      <td>5.036498</td>\n",
       "      <td>-500.149615</td>\n",
       "      <td>25.032580</td>\n",
       "      <td>-503.970657</td>\n",
       "    </tr>\n",
       "    <tr>\n",
       "      <th>8</th>\n",
       "      <td>2016-09-01 08:59:59</td>\n",
       "      <td>133.735356</td>\n",
       "      <td>7.999618</td>\n",
       "      <td>6.935000</td>\n",
       "      <td>0.789329</td>\n",
       "      <td>1402.358981</td>\n",
       "      <td>-499.981597</td>\n",
       "      <td>1400.985954</td>\n",
       "      <td>-496.802968</td>\n",
       "      <td>1401.168584</td>\n",
       "      <td>-499.890350</td>\n",
       "      <td>1402.934656</td>\n",
       "      <td>-501.129108</td>\n",
       "      <td>8.603058</td>\n",
       "      <td>4.182064</td>\n",
       "      <td>489.860555</td>\n",
       "      <td>75.846999</td>\n",
       "      <td>45.022970</td>\n",
       "      <td>8.976052</td>\n",
       "      <td>10.002345</td>\n",
       "      <td>5.597465</td>\n",
       "      <td>9.992438</td>\n",
       "      <td>5.599358</td>\n",
       "      <td>1000.807159</td>\n",
       "      <td>-349.470811</td>\n",
       "      <td>1350.272285</td>\n",
       "      <td>-399.528520</td>\n",
       "      <td>1354.016617</td>\n",
       "      <td>-399.401157</td>\n",
       "      <td>1305.915847</td>\n",
       "      <td>-395.740836</td>\n",
       "      <td>1102.693258</td>\n",
       "      <td>-401.384425</td>\n",
       "      <td>950.082475</td>\n",
       "      <td>-400.682219</td>\n",
       "      <td>25.034680</td>\n",
       "      <td>-499.569715</td>\n",
       "      <td>11.988782</td>\n",
       "      <td>-499.838657</td>\n",
       "      <td>19.980559</td>\n",
       "      <td>-500.068733</td>\n",
       "      <td>12.079221</td>\n",
       "      <td>-499.983683</td>\n",
       "      <td>11.998184</td>\n",
       "      <td>-499.481608</td>\n",
       "      <td>8.012610</td>\n",
       "      <td>-500.896783</td>\n",
       "      <td>7.974422</td>\n",
       "      <td>-521.199104</td>\n",
       "      <td>5.061599</td>\n",
       "      <td>-499.791519</td>\n",
       "      <td>25.005063</td>\n",
       "      <td>-497.613716</td>\n",
       "    </tr>\n",
       "    <tr>\n",
       "      <th>9</th>\n",
       "      <td>2016-09-01 09:59:59</td>\n",
       "      <td>126.961069</td>\n",
       "      <td>8.017856</td>\n",
       "      <td>7.030000</td>\n",
       "      <td>0.805298</td>\n",
       "      <td>1400.816120</td>\n",
       "      <td>-499.014158</td>\n",
       "      <td>1399.975401</td>\n",
       "      <td>-499.570552</td>\n",
       "      <td>1401.871924</td>\n",
       "      <td>-499.577934</td>\n",
       "      <td>1402.758281</td>\n",
       "      <td>-500.120765</td>\n",
       "      <td>8.353697</td>\n",
       "      <td>4.013407</td>\n",
       "      <td>498.755837</td>\n",
       "      <td>72.476418</td>\n",
       "      <td>43.445836</td>\n",
       "      <td>8.345579</td>\n",
       "      <td>10.001816</td>\n",
       "      <td>5.597272</td>\n",
       "      <td>10.001796</td>\n",
       "      <td>5.611996</td>\n",
       "      <td>1000.429044</td>\n",
       "      <td>-350.050785</td>\n",
       "      <td>1349.662467</td>\n",
       "      <td>-399.820231</td>\n",
       "      <td>1350.121930</td>\n",
       "      <td>-399.334600</td>\n",
       "      <td>1297.578530</td>\n",
       "      <td>-398.095707</td>\n",
       "      <td>1102.301530</td>\n",
       "      <td>-399.421425</td>\n",
       "      <td>951.069653</td>\n",
       "      <td>-401.079692</td>\n",
       "      <td>25.100847</td>\n",
       "      <td>-500.700788</td>\n",
       "      <td>12.057571</td>\n",
       "      <td>-500.134346</td>\n",
       "      <td>19.973543</td>\n",
       "      <td>-498.635246</td>\n",
       "      <td>11.973403</td>\n",
       "      <td>-498.885523</td>\n",
       "      <td>12.040725</td>\n",
       "      <td>-499.987743</td>\n",
       "      <td>7.989503</td>\n",
       "      <td>-499.750625</td>\n",
       "      <td>7.989710</td>\n",
       "      <td>-509.946737</td>\n",
       "      <td>5.068811</td>\n",
       "      <td>-499.293900</td>\n",
       "      <td>24.992741</td>\n",
       "      <td>-499.272255</td>\n",
       "    </tr>\n",
       "  </tbody>\n",
       "</table>\n",
       "</div>"
      ],
      "text/plain": [
       "                  date  primary_cleaner.input.sulfate  \\\n",
       "0  2016-09-01 00:59:59                     210.800909   \n",
       "1  2016-09-01 01:59:59                     215.392455   \n",
       "2  2016-09-01 02:59:59                     215.259946   \n",
       "3  2016-09-01 03:59:59                     215.336236   \n",
       "4  2016-09-01 04:59:59                     199.099327   \n",
       "5  2016-09-01 05:59:59                     168.485085   \n",
       "6  2016-09-01 06:59:59                     144.133440   \n",
       "7  2016-09-01 07:59:59                     133.513396   \n",
       "8  2016-09-01 08:59:59                     133.735356   \n",
       "9  2016-09-01 09:59:59                     126.961069   \n",
       "\n",
       "   primary_cleaner.input.depressant  primary_cleaner.input.feed_size  \\\n",
       "0                         14.993118                         8.080000   \n",
       "1                         14.987471                         8.080000   \n",
       "2                         12.884934                         7.786667   \n",
       "3                         12.006805                         7.640000   \n",
       "4                         10.682530                         7.530000   \n",
       "5                          8.817007                         7.420000   \n",
       "6                          7.924610                         7.420000   \n",
       "7                          8.055252                         6.988000   \n",
       "8                          7.999618                         6.935000   \n",
       "9                          8.017856                         7.030000   \n",
       "\n",
       "   primary_cleaner.input.xanthate  primary_cleaner.state.floatbank8_a_air  \\\n",
       "0                        1.005021                             1398.981301   \n",
       "1                        0.990469                             1398.777912   \n",
       "2                        0.996043                             1398.493666   \n",
       "3                        0.863514                             1399.618111   \n",
       "4                        0.805575                             1401.268123   \n",
       "5                        0.791191                             1402.826803   \n",
       "6                        0.788838                             1398.252401   \n",
       "7                        0.801871                             1401.669677   \n",
       "8                        0.789329                             1402.358981   \n",
       "9                        0.805298                             1400.816120   \n",
       "\n",
       "   primary_cleaner.state.floatbank8_a_level  \\\n",
       "0                               -500.225577   \n",
       "1                               -500.057435   \n",
       "2                               -500.868360   \n",
       "3                               -498.863574   \n",
       "4                               -500.808305   \n",
       "5                               -499.299521   \n",
       "6                               -499.748672   \n",
       "7                               -501.777839   \n",
       "8                               -499.981597   \n",
       "9                               -499.014158   \n",
       "\n",
       "   primary_cleaner.state.floatbank8_b_air  \\\n",
       "0                             1399.144926   \n",
       "1                             1398.055362   \n",
       "2                             1398.860436   \n",
       "3                             1397.440120   \n",
       "4                             1398.128818   \n",
       "5                             1401.511119   \n",
       "6                             1393.255503   \n",
       "7                             1400.754446   \n",
       "8                             1400.985954   \n",
       "9                             1399.975401   \n",
       "\n",
       "   primary_cleaner.state.floatbank8_b_level  \\\n",
       "0                               -499.919735   \n",
       "1                               -499.778182   \n",
       "2                               -499.764529   \n",
       "3                               -499.211024   \n",
       "4                               -499.504543   \n",
       "5                               -499.205357   \n",
       "6                               -499.195380   \n",
       "7                               -502.514024   \n",
       "8                               -496.802968   \n",
       "9                               -499.570552   \n",
       "\n",
       "   primary_cleaner.state.floatbank8_c_air  \\\n",
       "0                             1400.102998   \n",
       "1                             1396.151033   \n",
       "2                             1398.075709   \n",
       "3                             1400.129303   \n",
       "4                             1402.172226   \n",
       "5                             1404.088107   \n",
       "6                             1396.738566   \n",
       "7                             1400.465244   \n",
       "8                             1401.168584   \n",
       "9                             1401.871924   \n",
       "\n",
       "   primary_cleaner.state.floatbank8_c_level  \\\n",
       "0                               -500.704369   \n",
       "1                               -499.240168   \n",
       "2                               -502.151509   \n",
       "3                               -498.355873   \n",
       "4                               -500.810606   \n",
       "5                               -497.903666   \n",
       "6                               -497.923683   \n",
       "7                               -503.451306   \n",
       "8                               -499.890350   \n",
       "9                               -499.577934   \n",
       "\n",
       "   primary_cleaner.state.floatbank8_d_air  \\\n",
       "0                             1399.001695   \n",
       "1                             1399.508091   \n",
       "2                             1399.497088   \n",
       "3                             1401.065165   \n",
       "4                             1399.480508   \n",
       "5                             1400.479070   \n",
       "6                             1399.535678   \n",
       "7                             1398.546641   \n",
       "8                             1402.934656   \n",
       "9                             1402.758281   \n",
       "\n",
       "   primary_cleaner.state.floatbank8_d_level  rougher.input.feed_ag  \\\n",
       "0                               -499.485144              13.128569   \n",
       "1                               -500.416324              13.036280   \n",
       "2                               -499.715479              13.138412   \n",
       "3                               -501.038738              12.400507   \n",
       "4                               -499.374053              11.327427   \n",
       "5                               -500.842752               9.658909   \n",
       "6                               -500.256895               8.902324   \n",
       "7                               -498.000544               8.759385   \n",
       "8                               -501.129108               8.603058   \n",
       "9                               -500.120765               8.353697   \n",
       "\n",
       "   rougher.input.feed_pb  rougher.input.feed_rate  rougher.input.feed_size  \\\n",
       "0               5.636710               489.793655                62.710452   \n",
       "1               5.526065               490.104534                61.961163   \n",
       "2               5.426561               489.617969                66.903807   \n",
       "3               5.114758               476.618130                59.865919   \n",
       "4               4.767383               488.248117                63.315324   \n",
       "5               4.290008               490.908013                69.218255   \n",
       "6               4.043502               490.081681                75.856243   \n",
       "7               4.036795               489.121319                77.968131   \n",
       "8               4.182064               489.860555                75.846999   \n",
       "9               4.013407               498.755837                72.476418   \n",
       "\n",
       "   rougher.input.feed_sol  rougher.input.feed_au  \\\n",
       "0               42.022440              12.084103   \n",
       "1               41.187903              11.918977   \n",
       "2               42.546294              12.091332   \n",
       "3               41.060195              12.181597   \n",
       "4               41.269161              11.290425   \n",
       "5               41.515115               9.779850   \n",
       "6               43.157100               9.168984   \n",
       "7               44.392272               9.116535   \n",
       "8               45.022970               8.976052   \n",
       "9               43.445836               8.345579   \n",
       "\n",
       "   rougher.input.floatbank10_sulfate  rougher.input.floatbank10_xanthate  \\\n",
       "0                          16.922877                            6.153479   \n",
       "1                          17.002532                            5.999043   \n",
       "2                          16.992520                            5.850632   \n",
       "3                          16.532144                            5.801935   \n",
       "4                          13.607257                            5.738081   \n",
       "5                          10.696589                            5.596642   \n",
       "6                          10.004265                            5.602029   \n",
       "7                           9.999497                            5.604636   \n",
       "8                          10.002345                            5.597465   \n",
       "9                          10.001816                            5.597272   \n",
       "\n",
       "   rougher.input.floatbank11_sulfate  rougher.input.floatbank11_xanthate  \\\n",
       "0                          16.867518                            6.150709   \n",
       "1                          16.996063                            6.002315   \n",
       "2                          16.982096                            5.853594   \n",
       "3                          16.515277                            5.803657   \n",
       "4                          13.650053                            5.739634   \n",
       "5                          10.699891                            5.597860   \n",
       "6                          10.004993                            5.598335   \n",
       "7                           9.998214                            5.601708   \n",
       "8                           9.992438                            5.599358   \n",
       "9                          10.001796                            5.611996   \n",
       "\n",
       "   rougher.state.floatbank10_a_air  rougher.state.floatbank10_a_level  \\\n",
       "0                      1001.849317                        -350.301265   \n",
       "1                       998.690785                        -350.425704   \n",
       "2                       998.516720                        -349.783538   \n",
       "3                      1000.276604                        -350.172597   \n",
       "4                       996.541302                        -350.562517   \n",
       "5                       998.650980                        -349.659046   \n",
       "6                       999.686022                        -350.086605   \n",
       "7                       999.888294                        -350.889527   \n",
       "8                      1000.807159                        -349.470811   \n",
       "9                      1000.429044                        -350.050785   \n",
       "\n",
       "   rougher.state.floatbank10_b_air  rougher.state.floatbank10_b_level  \\\n",
       "0                      1249.738612                        -399.107531   \n",
       "1                      1248.395457                        -399.946025   \n",
       "2                      1247.440748                        -400.264330   \n",
       "3                      1251.322675                        -398.655289   \n",
       "4                      1304.658848                        -399.511519   \n",
       "5                      1349.964264                        -399.393077   \n",
       "6                      1349.452840                        -400.372133   \n",
       "7                      1350.425833                        -400.665895   \n",
       "8                      1350.272285                        -399.528520   \n",
       "9                      1349.662467                        -399.820231   \n",
       "\n",
       "   rougher.state.floatbank10_c_air  rougher.state.floatbank10_c_level  \\\n",
       "0                      1249.750520                        -399.396730   \n",
       "1                      1249.514451                        -399.630810   \n",
       "2                      1248.207204                        -401.074405   \n",
       "3                      1250.493702                        -399.746728   \n",
       "4                      1306.455515                        -399.050685   \n",
       "5                      1349.764702                        -399.233016   \n",
       "6                      1349.739875                        -400.045549   \n",
       "7                      1347.736470                        -401.850527   \n",
       "8                      1354.016617                        -399.401157   \n",
       "9                      1350.121930                        -399.334600   \n",
       "\n",
       "   rougher.state.floatbank10_d_air  rougher.state.floatbank10_d_level  \\\n",
       "0                      1198.287855                        -399.488594   \n",
       "1                      1200.506459                        -399.942434   \n",
       "2                      1199.770026                        -400.790582   \n",
       "3                      1199.398691                        -397.503052   \n",
       "4                      1248.699349                        -400.876894   \n",
       "5                      1302.258827                        -399.946857   \n",
       "6                      1299.687671                        -399.981643   \n",
       "7                      1295.059918                        -404.880024   \n",
       "8                      1305.915847                        -395.740836   \n",
       "9                      1297.578530                        -398.095707   \n",
       "\n",
       "   rougher.state.floatbank10_e_air  rougher.state.floatbank10_e_level  \\\n",
       "0                       999.472250                        -399.530962   \n",
       "1                      1000.002114                        -399.491528   \n",
       "2                       999.925519                        -399.236999   \n",
       "3                      1001.930679                        -400.437573   \n",
       "4                      1058.839106                        -398.988239   \n",
       "5                      1100.278629                        -399.742287   \n",
       "6                      1099.813504                        -400.249376   \n",
       "7                      1097.116527                        -399.280301   \n",
       "8                      1102.693258                        -401.384425   \n",
       "9                      1102.301530                        -399.421425   \n",
       "\n",
       "   rougher.state.floatbank10_f_air  rougher.state.floatbank10_f_level  \\\n",
       "0                       949.566189                        -398.180807   \n",
       "1                       950.200009                        -405.787514   \n",
       "2                       950.320481                        -400.864340   \n",
       "3                       950.735324                        -399.802986   \n",
       "4                       949.645313                        -399.277632   \n",
       "5                       949.622431                        -399.096175   \n",
       "6                       949.798421                        -400.710664   \n",
       "7                       950.165809                        -399.217640   \n",
       "8                       950.082475                        -400.682219   \n",
       "9                       951.069653                        -401.079692   \n",
       "\n",
       "   secondary_cleaner.state.floatbank2_a_air  \\\n",
       "0                                 24.938200   \n",
       "1                                 24.923466   \n",
       "2                                 24.908732   \n",
       "3                                 24.893998   \n",
       "4                                 24.886905   \n",
       "5                                 24.920872   \n",
       "6                                 24.966566   \n",
       "7                                 25.057298   \n",
       "8                                 25.034680   \n",
       "9                                 25.100847   \n",
       "\n",
       "   secondary_cleaner.state.floatbank2_a_level  \\\n",
       "0                                 -500.490963   \n",
       "1                                 -499.813963   \n",
       "2                                 -500.304035   \n",
       "3                                 -499.382374   \n",
       "4                                 -499.357375   \n",
       "5                                 -500.006603   \n",
       "6                                 -500.375242   \n",
       "7                                 -500.516443   \n",
       "8                                 -499.569715   \n",
       "9                                 -500.700788   \n",
       "\n",
       "   secondary_cleaner.state.floatbank2_b_air  \\\n",
       "0                                 14.947607   \n",
       "1                                 14.930873   \n",
       "2                                 14.996511   \n",
       "3                                 14.916674   \n",
       "4                                 14.979233   \n",
       "5                                 14.916602   \n",
       "6                                 12.573283   \n",
       "7                                 11.919993   \n",
       "8                                 11.988782   \n",
       "9                                 12.057571   \n",
       "\n",
       "   secondary_cleaner.state.floatbank2_b_level  \\\n",
       "0                                 -500.013837   \n",
       "1                                 -500.764452   \n",
       "2                                 -500.993821   \n",
       "3                                 -499.862299   \n",
       "4                                 -500.186804   \n",
       "5                                 -499.899348   \n",
       "6                                 -499.670366   \n",
       "7                                 -500.141295   \n",
       "8                                 -499.838657   \n",
       "9                                 -500.134346   \n",
       "\n",
       "   secondary_cleaner.state.floatbank3_a_air  \\\n",
       "0                                 20.018166   \n",
       "1                                 19.988503   \n",
       "2                                 20.039689   \n",
       "3                                 20.031100   \n",
       "4                                 19.962364   \n",
       "5                                 20.019330   \n",
       "6                                 19.959853   \n",
       "7                                 20.091065   \n",
       "8                                 19.980559   \n",
       "9                                 19.973543   \n",
       "\n",
       "   secondary_cleaner.state.floatbank3_a_level  \\\n",
       "0                                 -450.395995   \n",
       "1                                 -450.114024   \n",
       "2                                 -450.263164   \n",
       "3                                 -449.372570   \n",
       "4                                 -450.638828   \n",
       "5                                 -449.836319   \n",
       "6                                 -485.725045   \n",
       "7                                 -500.162309   \n",
       "8                                 -500.068733   \n",
       "9                                 -498.635246   \n",
       "\n",
       "   secondary_cleaner.state.floatbank3_b_air  \\\n",
       "0                                 13.987058   \n",
       "1                                 14.092981   \n",
       "2                                 14.077881   \n",
       "3                                 14.013968   \n",
       "4                                 14.009245   \n",
       "5                                 14.041691   \n",
       "6                                 12.465845   \n",
       "7                                 11.935898   \n",
       "8                                 12.079221   \n",
       "9                                 11.973403   \n",
       "\n",
       "   secondary_cleaner.state.floatbank3_b_level  \\\n",
       "0                                 -449.831513   \n",
       "1                                 -450.059163   \n",
       "2                                 -449.660997   \n",
       "3                                 -449.526900   \n",
       "4                                 -450.022259   \n",
       "5                                 -450.185369   \n",
       "6                                 -485.778583   \n",
       "7                                 -500.116649   \n",
       "8                                 -499.983683   \n",
       "9                                 -498.885523   \n",
       "\n",
       "   secondary_cleaner.state.floatbank4_a_air  \\\n",
       "0                                 12.023554   \n",
       "1                                 12.058140   \n",
       "2                                 11.962366   \n",
       "3                                 12.033091   \n",
       "4                                 12.025367   \n",
       "5                                 12.029797   \n",
       "6                                 12.026296   \n",
       "7                                 12.040911   \n",
       "8                                 11.998184   \n",
       "9                                 12.040725   \n",
       "\n",
       "   secondary_cleaner.state.floatbank4_a_level  \\\n",
       "0                                 -497.795834   \n",
       "1                                 -498.695773   \n",
       "2                                 -498.767484   \n",
       "3                                 -498.350935   \n",
       "4                                 -500.786497   \n",
       "5                                 -499.814895   \n",
       "6                                 -499.473127   \n",
       "7                                 -501.293852   \n",
       "8                                 -499.481608   \n",
       "9                                 -499.987743   \n",
       "\n",
       "   secondary_cleaner.state.floatbank4_b_air  \\\n",
       "0                                  8.016656   \n",
       "1                                  8.130979   \n",
       "2                                  8.096893   \n",
       "3                                  8.074946   \n",
       "4                                  8.054678   \n",
       "5                                  8.036586   \n",
       "6                                  8.027984   \n",
       "7                                  8.020490   \n",
       "8                                  8.012610   \n",
       "9                                  7.989503   \n",
       "\n",
       "   secondary_cleaner.state.floatbank4_b_level  \\\n",
       "0                                 -501.289139   \n",
       "1                                 -499.634209   \n",
       "2                                 -500.827423   \n",
       "3                                 -499.474407   \n",
       "4                                 -500.397500   \n",
       "5                                 -500.371492   \n",
       "6                                 -500.983079   \n",
       "7                                 -499.185229   \n",
       "8                                 -500.896783   \n",
       "9                                 -499.750625   \n",
       "\n",
       "   secondary_cleaner.state.floatbank5_a_air  \\\n",
       "0                                  7.946562   \n",
       "1                                  7.958270   \n",
       "2                                  8.071056   \n",
       "3                                  7.897085   \n",
       "4                                  8.107890   \n",
       "5                                  8.041446   \n",
       "6                                  7.907340   \n",
       "7                                  8.116897   \n",
       "8                                  7.974422   \n",
       "9                                  7.989710   \n",
       "\n",
       "   secondary_cleaner.state.floatbank5_a_level  \\\n",
       "0                                 -432.317850   \n",
       "1                                 -525.839648   \n",
       "2                                 -500.801673   \n",
       "3                                 -500.868509   \n",
       "4                                 -509.526725   \n",
       "5                                 -510.037054   \n",
       "6                                 -507.964971   \n",
       "7                                 -511.927561   \n",
       "8                                 -521.199104   \n",
       "9                                 -509.946737   \n",
       "\n",
       "   secondary_cleaner.state.floatbank5_b_air  \\\n",
       "0                                  4.872511   \n",
       "1                                  4.878850   \n",
       "2                                  4.905125   \n",
       "3                                  4.931400   \n",
       "4                                  4.957674   \n",
       "5                                  4.983949   \n",
       "6                                  5.010224   \n",
       "7                                  5.036498   \n",
       "8                                  5.061599   \n",
       "9                                  5.068811   \n",
       "\n",
       "   secondary_cleaner.state.floatbank5_b_level  \\\n",
       "0                                 -500.037437   \n",
       "1                                 -500.162375   \n",
       "2                                 -499.828510   \n",
       "3                                 -499.963623   \n",
       "4                                 -500.360026   \n",
       "5                                 -499.990990   \n",
       "6                                 -500.043697   \n",
       "7                                 -500.149615   \n",
       "8                                 -499.791519   \n",
       "9                                 -499.293900   \n",
       "\n",
       "   secondary_cleaner.state.floatbank6_a_air  \\\n",
       "0                                 26.705889   \n",
       "1                                 25.019940   \n",
       "2                                 24.994862   \n",
       "3                                 24.948919   \n",
       "4                                 25.003331   \n",
       "5                                 24.978973   \n",
       "6                                 25.040709   \n",
       "7                                 25.032580   \n",
       "8                                 25.005063   \n",
       "9                                 24.992741   \n",
       "\n",
       "   secondary_cleaner.state.floatbank6_a_level  \n",
       "0                                 -499.709414  \n",
       "1                                 -499.819438  \n",
       "2                                 -500.622559  \n",
       "3                                 -498.709987  \n",
       "4                                 -500.856333  \n",
       "5                                 -500.475640  \n",
       "6                                 -499.501984  \n",
       "7                                 -503.970657  \n",
       "8                                 -497.613716  \n",
       "9                                 -499.272255  "
      ]
     },
     "execution_count": 4,
     "metadata": {},
     "output_type": "execute_result"
    }
   ],
   "source": [
    "df_test.head(10)"
   ]
  },
  {
   "cell_type": "code",
   "execution_count": 5,
   "metadata": {
    "scrolled": true
   },
   "outputs": [
    {
     "data": {
      "text/html": [
       "<div>\n",
       "<style scoped>\n",
       "    .dataframe tbody tr th:only-of-type {\n",
       "        vertical-align: middle;\n",
       "    }\n",
       "\n",
       "    .dataframe tbody tr th {\n",
       "        vertical-align: top;\n",
       "    }\n",
       "\n",
       "    .dataframe thead th {\n",
       "        text-align: right;\n",
       "    }\n",
       "</style>\n",
       "<table border=\"1\" class=\"dataframe\">\n",
       "  <thead>\n",
       "    <tr style=\"text-align: right;\">\n",
       "      <th></th>\n",
       "      <th>date</th>\n",
       "      <th>final.output.concentrate_ag</th>\n",
       "      <th>final.output.concentrate_pb</th>\n",
       "      <th>final.output.concentrate_sol</th>\n",
       "      <th>final.output.concentrate_au</th>\n",
       "      <th>final.output.recovery</th>\n",
       "      <th>final.output.tail_ag</th>\n",
       "      <th>final.output.tail_pb</th>\n",
       "      <th>final.output.tail_sol</th>\n",
       "      <th>final.output.tail_au</th>\n",
       "      <th>primary_cleaner.input.sulfate</th>\n",
       "      <th>primary_cleaner.input.depressant</th>\n",
       "      <th>primary_cleaner.input.feed_size</th>\n",
       "      <th>primary_cleaner.input.xanthate</th>\n",
       "      <th>primary_cleaner.output.concentrate_ag</th>\n",
       "      <th>primary_cleaner.output.concentrate_pb</th>\n",
       "      <th>primary_cleaner.output.concentrate_sol</th>\n",
       "      <th>primary_cleaner.output.concentrate_au</th>\n",
       "      <th>primary_cleaner.output.tail_ag</th>\n",
       "      <th>primary_cleaner.output.tail_pb</th>\n",
       "      <th>primary_cleaner.output.tail_sol</th>\n",
       "      <th>primary_cleaner.output.tail_au</th>\n",
       "      <th>primary_cleaner.state.floatbank8_a_air</th>\n",
       "      <th>primary_cleaner.state.floatbank8_a_level</th>\n",
       "      <th>primary_cleaner.state.floatbank8_b_air</th>\n",
       "      <th>primary_cleaner.state.floatbank8_b_level</th>\n",
       "      <th>primary_cleaner.state.floatbank8_c_air</th>\n",
       "      <th>primary_cleaner.state.floatbank8_c_level</th>\n",
       "      <th>primary_cleaner.state.floatbank8_d_air</th>\n",
       "      <th>primary_cleaner.state.floatbank8_d_level</th>\n",
       "      <th>rougher.calculation.sulfate_to_au_concentrate</th>\n",
       "      <th>rougher.calculation.floatbank10_sulfate_to_au_feed</th>\n",
       "      <th>rougher.calculation.floatbank11_sulfate_to_au_feed</th>\n",
       "      <th>rougher.calculation.au_pb_ratio</th>\n",
       "      <th>rougher.input.feed_ag</th>\n",
       "      <th>rougher.input.feed_pb</th>\n",
       "      <th>rougher.input.feed_rate</th>\n",
       "      <th>rougher.input.feed_size</th>\n",
       "      <th>rougher.input.feed_sol</th>\n",
       "      <th>rougher.input.feed_au</th>\n",
       "      <th>rougher.input.floatbank10_sulfate</th>\n",
       "      <th>rougher.input.floatbank10_xanthate</th>\n",
       "      <th>rougher.input.floatbank11_sulfate</th>\n",
       "      <th>rougher.input.floatbank11_xanthate</th>\n",
       "      <th>rougher.output.concentrate_ag</th>\n",
       "      <th>rougher.output.concentrate_pb</th>\n",
       "      <th>rougher.output.concentrate_sol</th>\n",
       "      <th>rougher.output.concentrate_au</th>\n",
       "      <th>rougher.output.recovery</th>\n",
       "      <th>rougher.output.tail_ag</th>\n",
       "      <th>rougher.output.tail_pb</th>\n",
       "      <th>rougher.output.tail_sol</th>\n",
       "      <th>rougher.output.tail_au</th>\n",
       "      <th>rougher.state.floatbank10_a_air</th>\n",
       "      <th>rougher.state.floatbank10_a_level</th>\n",
       "      <th>rougher.state.floatbank10_b_air</th>\n",
       "      <th>rougher.state.floatbank10_b_level</th>\n",
       "      <th>rougher.state.floatbank10_c_air</th>\n",
       "      <th>rougher.state.floatbank10_c_level</th>\n",
       "      <th>rougher.state.floatbank10_d_air</th>\n",
       "      <th>rougher.state.floatbank10_d_level</th>\n",
       "      <th>rougher.state.floatbank10_e_air</th>\n",
       "      <th>rougher.state.floatbank10_e_level</th>\n",
       "      <th>rougher.state.floatbank10_f_air</th>\n",
       "      <th>rougher.state.floatbank10_f_level</th>\n",
       "      <th>secondary_cleaner.output.tail_ag</th>\n",
       "      <th>secondary_cleaner.output.tail_pb</th>\n",
       "      <th>secondary_cleaner.output.tail_sol</th>\n",
       "      <th>secondary_cleaner.output.tail_au</th>\n",
       "      <th>secondary_cleaner.state.floatbank2_a_air</th>\n",
       "      <th>secondary_cleaner.state.floatbank2_a_level</th>\n",
       "      <th>secondary_cleaner.state.floatbank2_b_air</th>\n",
       "      <th>secondary_cleaner.state.floatbank2_b_level</th>\n",
       "      <th>secondary_cleaner.state.floatbank3_a_air</th>\n",
       "      <th>secondary_cleaner.state.floatbank3_a_level</th>\n",
       "      <th>secondary_cleaner.state.floatbank3_b_air</th>\n",
       "      <th>secondary_cleaner.state.floatbank3_b_level</th>\n",
       "      <th>secondary_cleaner.state.floatbank4_a_air</th>\n",
       "      <th>secondary_cleaner.state.floatbank4_a_level</th>\n",
       "      <th>secondary_cleaner.state.floatbank4_b_air</th>\n",
       "      <th>secondary_cleaner.state.floatbank4_b_level</th>\n",
       "      <th>secondary_cleaner.state.floatbank5_a_air</th>\n",
       "      <th>secondary_cleaner.state.floatbank5_a_level</th>\n",
       "      <th>secondary_cleaner.state.floatbank5_b_air</th>\n",
       "      <th>secondary_cleaner.state.floatbank5_b_level</th>\n",
       "      <th>secondary_cleaner.state.floatbank6_a_air</th>\n",
       "      <th>secondary_cleaner.state.floatbank6_a_level</th>\n",
       "    </tr>\n",
       "  </thead>\n",
       "  <tbody>\n",
       "    <tr>\n",
       "      <th>0</th>\n",
       "      <td>2016-01-15 00:00:00</td>\n",
       "      <td>6.055403</td>\n",
       "      <td>9.889648</td>\n",
       "      <td>5.507324</td>\n",
       "      <td>42.192020</td>\n",
       "      <td>70.541216</td>\n",
       "      <td>10.411962</td>\n",
       "      <td>0.895447</td>\n",
       "      <td>16.904297</td>\n",
       "      <td>2.143149</td>\n",
       "      <td>127.092003</td>\n",
       "      <td>10.128295</td>\n",
       "      <td>7.25</td>\n",
       "      <td>0.988759</td>\n",
       "      <td>8.547551</td>\n",
       "      <td>10.389648</td>\n",
       "      <td>19.529297</td>\n",
       "      <td>34.174427</td>\n",
       "      <td>14.936526</td>\n",
       "      <td>2.534912</td>\n",
       "      <td>7.476074</td>\n",
       "      <td>2.106679</td>\n",
       "      <td>1549.775757</td>\n",
       "      <td>-498.912140</td>\n",
       "      <td>1551.434204</td>\n",
       "      <td>-516.403442</td>\n",
       "      <td>1549.873901</td>\n",
       "      <td>-498.666595</td>\n",
       "      <td>1554.367432</td>\n",
       "      <td>-493.428131</td>\n",
       "      <td>41885.707031</td>\n",
       "      <td>3481.779053</td>\n",
       "      <td>3520.337158</td>\n",
       "      <td>2.838687</td>\n",
       "      <td>6.100378</td>\n",
       "      <td>2.284912</td>\n",
       "      <td>523.546326</td>\n",
       "      <td>55.486599</td>\n",
       "      <td>36.808594</td>\n",
       "      <td>6.486150</td>\n",
       "      <td>11.986616</td>\n",
       "      <td>6.007990</td>\n",
       "      <td>11.836743</td>\n",
       "      <td>6.005818</td>\n",
       "      <td>11.500771</td>\n",
       "      <td>7.101074</td>\n",
       "      <td>28.029297</td>\n",
       "      <td>19.793808</td>\n",
       "      <td>87.107763</td>\n",
       "      <td>5.008018</td>\n",
       "      <td>0.508728</td>\n",
       "      <td>19.154297</td>\n",
       "      <td>1.170244</td>\n",
       "      <td>999.706909</td>\n",
       "      <td>-404.066986</td>\n",
       "      <td>1603.011353</td>\n",
       "      <td>-434.715027</td>\n",
       "      <td>1602.375000</td>\n",
       "      <td>-442.204468</td>\n",
       "      <td>1598.937256</td>\n",
       "      <td>-451.294128</td>\n",
       "      <td>1404.472046</td>\n",
       "      <td>-455.462982</td>\n",
       "      <td>1416.354980</td>\n",
       "      <td>-451.939636</td>\n",
       "      <td>14.500184</td>\n",
       "      <td>4.694824</td>\n",
       "      <td>8.764648</td>\n",
       "      <td>2.606185</td>\n",
       "      <td>25.853109</td>\n",
       "      <td>-498.526489</td>\n",
       "      <td>23.893660</td>\n",
       "      <td>-501.406281</td>\n",
       "      <td>23.961798</td>\n",
       "      <td>-495.262817</td>\n",
       "      <td>21.940409</td>\n",
       "      <td>-499.340973</td>\n",
       "      <td>14.016835</td>\n",
       "      <td>-502.488007</td>\n",
       "      <td>12.099931</td>\n",
       "      <td>-504.715942</td>\n",
       "      <td>9.925633</td>\n",
       "      <td>-498.310211</td>\n",
       "      <td>8.079666</td>\n",
       "      <td>-500.470978</td>\n",
       "      <td>14.151341</td>\n",
       "      <td>-605.841980</td>\n",
       "    </tr>\n",
       "    <tr>\n",
       "      <th>1</th>\n",
       "      <td>2016-01-15 01:00:00</td>\n",
       "      <td>6.029369</td>\n",
       "      <td>9.968944</td>\n",
       "      <td>5.257781</td>\n",
       "      <td>42.701629</td>\n",
       "      <td>69.266198</td>\n",
       "      <td>10.462676</td>\n",
       "      <td>0.927452</td>\n",
       "      <td>16.634514</td>\n",
       "      <td>2.224930</td>\n",
       "      <td>125.629232</td>\n",
       "      <td>10.296251</td>\n",
       "      <td>7.25</td>\n",
       "      <td>1.002663</td>\n",
       "      <td>8.558743</td>\n",
       "      <td>10.497069</td>\n",
       "      <td>19.369147</td>\n",
       "      <td>34.118526</td>\n",
       "      <td>16.250511</td>\n",
       "      <td>3.049646</td>\n",
       "      <td>6.733907</td>\n",
       "      <td>2.353017</td>\n",
       "      <td>1576.166671</td>\n",
       "      <td>-500.904965</td>\n",
       "      <td>1575.950626</td>\n",
       "      <td>-499.865889</td>\n",
       "      <td>1575.994189</td>\n",
       "      <td>-499.315107</td>\n",
       "      <td>1574.479259</td>\n",
       "      <td>-498.931665</td>\n",
       "      <td>42050.861809</td>\n",
       "      <td>3498.370979</td>\n",
       "      <td>3489.981857</td>\n",
       "      <td>2.858998</td>\n",
       "      <td>6.161113</td>\n",
       "      <td>2.266033</td>\n",
       "      <td>525.290581</td>\n",
       "      <td>57.278666</td>\n",
       "      <td>35.753385</td>\n",
       "      <td>6.478583</td>\n",
       "      <td>11.971193</td>\n",
       "      <td>6.005766</td>\n",
       "      <td>11.996163</td>\n",
       "      <td>6.012594</td>\n",
       "      <td>11.615865</td>\n",
       "      <td>7.278807</td>\n",
       "      <td>28.067063</td>\n",
       "      <td>20.050975</td>\n",
       "      <td>86.843261</td>\n",
       "      <td>4.955378</td>\n",
       "      <td>0.536689</td>\n",
       "      <td>18.965234</td>\n",
       "      <td>1.184827</td>\n",
       "      <td>1000.286398</td>\n",
       "      <td>-400.065196</td>\n",
       "      <td>1600.754587</td>\n",
       "      <td>-449.953435</td>\n",
       "      <td>1600.479580</td>\n",
       "      <td>-449.830646</td>\n",
       "      <td>1600.527589</td>\n",
       "      <td>-449.953649</td>\n",
       "      <td>1399.227084</td>\n",
       "      <td>-450.869848</td>\n",
       "      <td>1399.719514</td>\n",
       "      <td>-450.119001</td>\n",
       "      <td>14.265474</td>\n",
       "      <td>4.592547</td>\n",
       "      <td>9.001494</td>\n",
       "      <td>2.488248</td>\n",
       "      <td>25.880539</td>\n",
       "      <td>-499.989656</td>\n",
       "      <td>23.889530</td>\n",
       "      <td>-500.372428</td>\n",
       "      <td>23.970550</td>\n",
       "      <td>-500.085473</td>\n",
       "      <td>22.085714</td>\n",
       "      <td>-499.446897</td>\n",
       "      <td>13.992281</td>\n",
       "      <td>-505.503262</td>\n",
       "      <td>11.950531</td>\n",
       "      <td>-501.331529</td>\n",
       "      <td>10.039245</td>\n",
       "      <td>-500.169983</td>\n",
       "      <td>7.984757</td>\n",
       "      <td>-500.582168</td>\n",
       "      <td>13.998353</td>\n",
       "      <td>-599.787184</td>\n",
       "    </tr>\n",
       "    <tr>\n",
       "      <th>2</th>\n",
       "      <td>2016-01-15 02:00:00</td>\n",
       "      <td>6.055926</td>\n",
       "      <td>10.213995</td>\n",
       "      <td>5.383759</td>\n",
       "      <td>42.657501</td>\n",
       "      <td>68.116445</td>\n",
       "      <td>10.507046</td>\n",
       "      <td>0.953716</td>\n",
       "      <td>16.208849</td>\n",
       "      <td>2.257889</td>\n",
       "      <td>123.819808</td>\n",
       "      <td>11.316280</td>\n",
       "      <td>7.25</td>\n",
       "      <td>0.991265</td>\n",
       "      <td>8.603505</td>\n",
       "      <td>10.354494</td>\n",
       "      <td>19.167579</td>\n",
       "      <td>33.969464</td>\n",
       "      <td>16.491823</td>\n",
       "      <td>3.124664</td>\n",
       "      <td>6.471768</td>\n",
       "      <td>2.416800</td>\n",
       "      <td>1601.556163</td>\n",
       "      <td>-499.997791</td>\n",
       "      <td>1600.386685</td>\n",
       "      <td>-500.607762</td>\n",
       "      <td>1602.003542</td>\n",
       "      <td>-500.870069</td>\n",
       "      <td>1599.541515</td>\n",
       "      <td>-499.827444</td>\n",
       "      <td>42018.101184</td>\n",
       "      <td>3495.348910</td>\n",
       "      <td>3502.359819</td>\n",
       "      <td>2.945989</td>\n",
       "      <td>6.116455</td>\n",
       "      <td>2.159622</td>\n",
       "      <td>530.026610</td>\n",
       "      <td>57.510649</td>\n",
       "      <td>35.971630</td>\n",
       "      <td>6.362222</td>\n",
       "      <td>11.920603</td>\n",
       "      <td>6.197377</td>\n",
       "      <td>11.920305</td>\n",
       "      <td>6.204633</td>\n",
       "      <td>11.695753</td>\n",
       "      <td>7.216833</td>\n",
       "      <td>27.454037</td>\n",
       "      <td>19.737170</td>\n",
       "      <td>86.842308</td>\n",
       "      <td>4.843460</td>\n",
       "      <td>0.546416</td>\n",
       "      <td>18.808533</td>\n",
       "      <td>1.162562</td>\n",
       "      <td>999.719565</td>\n",
       "      <td>-400.074028</td>\n",
       "      <td>1599.337330</td>\n",
       "      <td>-450.008530</td>\n",
       "      <td>1599.672797</td>\n",
       "      <td>-449.954491</td>\n",
       "      <td>1599.849325</td>\n",
       "      <td>-449.954185</td>\n",
       "      <td>1399.180945</td>\n",
       "      <td>-449.937588</td>\n",
       "      <td>1400.316682</td>\n",
       "      <td>-450.527147</td>\n",
       "      <td>14.115662</td>\n",
       "      <td>4.624775</td>\n",
       "      <td>8.842896</td>\n",
       "      <td>2.458187</td>\n",
       "      <td>26.005245</td>\n",
       "      <td>-499.929616</td>\n",
       "      <td>23.886657</td>\n",
       "      <td>-499.951928</td>\n",
       "      <td>23.913535</td>\n",
       "      <td>-499.442343</td>\n",
       "      <td>23.957717</td>\n",
       "      <td>-499.901982</td>\n",
       "      <td>14.015015</td>\n",
       "      <td>-502.520901</td>\n",
       "      <td>11.912783</td>\n",
       "      <td>-501.133383</td>\n",
       "      <td>10.070913</td>\n",
       "      <td>-500.129135</td>\n",
       "      <td>8.013877</td>\n",
       "      <td>-500.517572</td>\n",
       "      <td>14.028663</td>\n",
       "      <td>-601.427363</td>\n",
       "    </tr>\n",
       "    <tr>\n",
       "      <th>3</th>\n",
       "      <td>2016-01-15 03:00:00</td>\n",
       "      <td>6.047977</td>\n",
       "      <td>9.977019</td>\n",
       "      <td>4.858634</td>\n",
       "      <td>42.689819</td>\n",
       "      <td>68.347543</td>\n",
       "      <td>10.422762</td>\n",
       "      <td>0.883763</td>\n",
       "      <td>16.532835</td>\n",
       "      <td>2.146849</td>\n",
       "      <td>122.270188</td>\n",
       "      <td>11.322140</td>\n",
       "      <td>7.25</td>\n",
       "      <td>0.996739</td>\n",
       "      <td>7.221879</td>\n",
       "      <td>8.496563</td>\n",
       "      <td>15.978538</td>\n",
       "      <td>28.260743</td>\n",
       "      <td>16.024359</td>\n",
       "      <td>2.960362</td>\n",
       "      <td>6.843791</td>\n",
       "      <td>2.262051</td>\n",
       "      <td>1599.968720</td>\n",
       "      <td>-500.951778</td>\n",
       "      <td>1600.659236</td>\n",
       "      <td>-499.677094</td>\n",
       "      <td>1600.304144</td>\n",
       "      <td>-500.727997</td>\n",
       "      <td>1600.449520</td>\n",
       "      <td>-500.052575</td>\n",
       "      <td>42029.447991</td>\n",
       "      <td>3498.578313</td>\n",
       "      <td>3499.162912</td>\n",
       "      <td>3.002340</td>\n",
       "      <td>6.043309</td>\n",
       "      <td>2.037807</td>\n",
       "      <td>542.590390</td>\n",
       "      <td>57.792734</td>\n",
       "      <td>36.862241</td>\n",
       "      <td>6.118189</td>\n",
       "      <td>11.630094</td>\n",
       "      <td>6.203177</td>\n",
       "      <td>11.692450</td>\n",
       "      <td>6.196578</td>\n",
       "      <td>11.915047</td>\n",
       "      <td>7.175616</td>\n",
       "      <td>27.341277</td>\n",
       "      <td>19.320810</td>\n",
       "      <td>87.226430</td>\n",
       "      <td>4.655288</td>\n",
       "      <td>0.542525</td>\n",
       "      <td>19.330200</td>\n",
       "      <td>1.079755</td>\n",
       "      <td>999.814770</td>\n",
       "      <td>-400.200179</td>\n",
       "      <td>1600.059442</td>\n",
       "      <td>-450.619948</td>\n",
       "      <td>1600.012842</td>\n",
       "      <td>-449.910497</td>\n",
       "      <td>1597.725177</td>\n",
       "      <td>-450.130127</td>\n",
       "      <td>1400.943157</td>\n",
       "      <td>-450.030142</td>\n",
       "      <td>1400.234743</td>\n",
       "      <td>-449.790835</td>\n",
       "      <td>13.732071</td>\n",
       "      <td>4.482453</td>\n",
       "      <td>9.122857</td>\n",
       "      <td>2.322062</td>\n",
       "      <td>25.942508</td>\n",
       "      <td>-499.176749</td>\n",
       "      <td>23.955516</td>\n",
       "      <td>-499.848796</td>\n",
       "      <td>23.966838</td>\n",
       "      <td>-500.008812</td>\n",
       "      <td>23.954443</td>\n",
       "      <td>-499.944710</td>\n",
       "      <td>14.036510</td>\n",
       "      <td>-500.857308</td>\n",
       "      <td>11.999550</td>\n",
       "      <td>-501.193686</td>\n",
       "      <td>9.970366</td>\n",
       "      <td>-499.201640</td>\n",
       "      <td>7.977324</td>\n",
       "      <td>-500.255908</td>\n",
       "      <td>14.005551</td>\n",
       "      <td>-599.996129</td>\n",
       "    </tr>\n",
       "    <tr>\n",
       "      <th>4</th>\n",
       "      <td>2016-01-15 04:00:00</td>\n",
       "      <td>6.148599</td>\n",
       "      <td>10.142511</td>\n",
       "      <td>4.939416</td>\n",
       "      <td>42.774141</td>\n",
       "      <td>66.927016</td>\n",
       "      <td>10.360302</td>\n",
       "      <td>0.792826</td>\n",
       "      <td>16.525686</td>\n",
       "      <td>2.055292</td>\n",
       "      <td>117.988169</td>\n",
       "      <td>11.913613</td>\n",
       "      <td>7.25</td>\n",
       "      <td>1.009869</td>\n",
       "      <td>9.089428</td>\n",
       "      <td>9.986786</td>\n",
       "      <td>19.199864</td>\n",
       "      <td>33.044932</td>\n",
       "      <td>16.480185</td>\n",
       "      <td>3.112100</td>\n",
       "      <td>6.550154</td>\n",
       "      <td>2.277073</td>\n",
       "      <td>1601.339707</td>\n",
       "      <td>-498.975456</td>\n",
       "      <td>1601.437854</td>\n",
       "      <td>-500.323246</td>\n",
       "      <td>1599.581894</td>\n",
       "      <td>-500.888152</td>\n",
       "      <td>1602.649541</td>\n",
       "      <td>-500.593010</td>\n",
       "      <td>42125.354245</td>\n",
       "      <td>3494.800771</td>\n",
       "      <td>3506.679315</td>\n",
       "      <td>3.169615</td>\n",
       "      <td>6.060915</td>\n",
       "      <td>1.786875</td>\n",
       "      <td>540.531893</td>\n",
       "      <td>56.047189</td>\n",
       "      <td>34.347666</td>\n",
       "      <td>5.663707</td>\n",
       "      <td>10.957755</td>\n",
       "      <td>6.198826</td>\n",
       "      <td>10.960521</td>\n",
       "      <td>6.194897</td>\n",
       "      <td>12.411054</td>\n",
       "      <td>7.240205</td>\n",
       "      <td>27.041023</td>\n",
       "      <td>19.216101</td>\n",
       "      <td>86.688794</td>\n",
       "      <td>4.552800</td>\n",
       "      <td>0.515438</td>\n",
       "      <td>19.267422</td>\n",
       "      <td>1.012642</td>\n",
       "      <td>999.678690</td>\n",
       "      <td>-399.752729</td>\n",
       "      <td>1600.208824</td>\n",
       "      <td>-449.599614</td>\n",
       "      <td>1600.357732</td>\n",
       "      <td>-450.034364</td>\n",
       "      <td>1599.759049</td>\n",
       "      <td>-449.909799</td>\n",
       "      <td>1401.560902</td>\n",
       "      <td>-448.877187</td>\n",
       "      <td>1401.160227</td>\n",
       "      <td>-450.407128</td>\n",
       "      <td>14.079996</td>\n",
       "      <td>4.470737</td>\n",
       "      <td>8.871028</td>\n",
       "      <td>2.330448</td>\n",
       "      <td>26.024787</td>\n",
       "      <td>-500.279091</td>\n",
       "      <td>23.955345</td>\n",
       "      <td>-500.593614</td>\n",
       "      <td>23.985703</td>\n",
       "      <td>-500.083811</td>\n",
       "      <td>23.958945</td>\n",
       "      <td>-499.990309</td>\n",
       "      <td>14.027298</td>\n",
       "      <td>-499.838632</td>\n",
       "      <td>11.953070</td>\n",
       "      <td>-501.053894</td>\n",
       "      <td>9.925709</td>\n",
       "      <td>-501.686727</td>\n",
       "      <td>7.894242</td>\n",
       "      <td>-500.356035</td>\n",
       "      <td>13.996647</td>\n",
       "      <td>-601.496691</td>\n",
       "    </tr>\n",
       "    <tr>\n",
       "      <th>5</th>\n",
       "      <td>2016-01-15 05:00:00</td>\n",
       "      <td>6.482968</td>\n",
       "      <td>10.049416</td>\n",
       "      <td>5.480257</td>\n",
       "      <td>41.633678</td>\n",
       "      <td>69.465816</td>\n",
       "      <td>10.182708</td>\n",
       "      <td>0.664118</td>\n",
       "      <td>16.999638</td>\n",
       "      <td>1.918586</td>\n",
       "      <td>115.581252</td>\n",
       "      <td>12.470773</td>\n",
       "      <td>7.25</td>\n",
       "      <td>0.965760</td>\n",
       "      <td>9.553724</td>\n",
       "      <td>9.816215</td>\n",
       "      <td>19.167328</td>\n",
       "      <td>32.070664</td>\n",
       "      <td>15.931540</td>\n",
       "      <td>2.844511</td>\n",
       "      <td>6.724197</td>\n",
       "      <td>2.114558</td>\n",
       "      <td>1602.964922</td>\n",
       "      <td>-498.090944</td>\n",
       "      <td>1602.074298</td>\n",
       "      <td>-500.179481</td>\n",
       "      <td>1602.154812</td>\n",
       "      <td>-498.642614</td>\n",
       "      <td>1605.020106</td>\n",
       "      <td>-500.538177</td>\n",
       "      <td>41973.280986</td>\n",
       "      <td>3501.916973</td>\n",
       "      <td>3499.527175</td>\n",
       "      <td>3.026134</td>\n",
       "      <td>5.801920</td>\n",
       "      <td>1.879351</td>\n",
       "      <td>546.173470</td>\n",
       "      <td>57.469578</td>\n",
       "      <td>35.470082</td>\n",
       "      <td>5.687168</td>\n",
       "      <td>11.072517</td>\n",
       "      <td>6.200383</td>\n",
       "      <td>11.075009</td>\n",
       "      <td>6.202362</td>\n",
       "      <td>11.985584</td>\n",
       "      <td>7.121903</td>\n",
       "      <td>26.898046</td>\n",
       "      <td>18.950385</td>\n",
       "      <td>88.156912</td>\n",
       "      <td>4.397415</td>\n",
       "      <td>0.491350</td>\n",
       "      <td>19.640269</td>\n",
       "      <td>0.915835</td>\n",
       "      <td>999.934134</td>\n",
       "      <td>-400.599524</td>\n",
       "      <td>1601.080554</td>\n",
       "      <td>-450.120760</td>\n",
       "      <td>1603.164805</td>\n",
       "      <td>-450.097732</td>\n",
       "      <td>1603.368371</td>\n",
       "      <td>-446.306150</td>\n",
       "      <td>1403.393100</td>\n",
       "      <td>-447.899904</td>\n",
       "      <td>1402.903175</td>\n",
       "      <td>-448.872321</td>\n",
       "      <td>13.615012</td>\n",
       "      <td>4.286817</td>\n",
       "      <td>9.302669</td>\n",
       "      <td>2.192127</td>\n",
       "      <td>26.014841</td>\n",
       "      <td>-498.864670</td>\n",
       "      <td>23.880214</td>\n",
       "      <td>-499.738447</td>\n",
       "      <td>23.982635</td>\n",
       "      <td>-500.495272</td>\n",
       "      <td>24.009749</td>\n",
       "      <td>-499.433825</td>\n",
       "      <td>13.938497</td>\n",
       "      <td>-500.970168</td>\n",
       "      <td>11.883350</td>\n",
       "      <td>-500.395298</td>\n",
       "      <td>10.054147</td>\n",
       "      <td>-496.374715</td>\n",
       "      <td>7.965083</td>\n",
       "      <td>-499.364752</td>\n",
       "      <td>14.017067</td>\n",
       "      <td>-599.707915</td>\n",
       "    </tr>\n",
       "    <tr>\n",
       "      <th>6</th>\n",
       "      <td>2016-01-15 06:00:00</td>\n",
       "      <td>6.533849</td>\n",
       "      <td>10.058141</td>\n",
       "      <td>4.569100</td>\n",
       "      <td>41.995316</td>\n",
       "      <td>69.300835</td>\n",
       "      <td>10.304598</td>\n",
       "      <td>0.807342</td>\n",
       "      <td>16.723575</td>\n",
       "      <td>2.058913</td>\n",
       "      <td>117.322323</td>\n",
       "      <td>12.469088</td>\n",
       "      <td>7.25</td>\n",
       "      <td>0.895207</td>\n",
       "      <td>8.968869</td>\n",
       "      <td>10.081306</td>\n",
       "      <td>18.930855</td>\n",
       "      <td>33.184823</td>\n",
       "      <td>16.078368</td>\n",
       "      <td>2.938979</td>\n",
       "      <td>6.623598</td>\n",
       "      <td>2.223152</td>\n",
       "      <td>1597.532455</td>\n",
       "      <td>-500.985364</td>\n",
       "      <td>1602.816321</td>\n",
       "      <td>-500.696736</td>\n",
       "      <td>1603.572091</td>\n",
       "      <td>-500.256955</td>\n",
       "      <td>1597.597437</td>\n",
       "      <td>-500.378192</td>\n",
       "      <td>41956.468979</td>\n",
       "      <td>3497.427365</td>\n",
       "      <td>3506.352790</td>\n",
       "      <td>2.867933</td>\n",
       "      <td>6.056253</td>\n",
       "      <td>2.105501</td>\n",
       "      <td>523.376439</td>\n",
       "      <td>56.674647</td>\n",
       "      <td>34.920570</td>\n",
       "      <td>6.038436</td>\n",
       "      <td>11.535899</td>\n",
       "      <td>6.204974</td>\n",
       "      <td>11.539227</td>\n",
       "      <td>6.200515</td>\n",
       "      <td>11.684307</td>\n",
       "      <td>7.304849</td>\n",
       "      <td>27.063672</td>\n",
       "      <td>19.319591</td>\n",
       "      <td>88.168065</td>\n",
       "      <td>4.478080</td>\n",
       "      <td>0.518266</td>\n",
       "      <td>19.262491</td>\n",
       "      <td>0.986248</td>\n",
       "      <td>999.832373</td>\n",
       "      <td>-399.353521</td>\n",
       "      <td>1600.753019</td>\n",
       "      <td>-450.050089</td>\n",
       "      <td>1599.019966</td>\n",
       "      <td>-449.848507</td>\n",
       "      <td>1600.298267</td>\n",
       "      <td>-453.102891</td>\n",
       "      <td>1397.853265</td>\n",
       "      <td>-451.306640</td>\n",
       "      <td>1397.973670</td>\n",
       "      <td>-451.355626</td>\n",
       "      <td>13.597056</td>\n",
       "      <td>4.487865</td>\n",
       "      <td>9.103047</td>\n",
       "      <td>2.316720</td>\n",
       "      <td>25.957594</td>\n",
       "      <td>-500.134472</td>\n",
       "      <td>24.077199</td>\n",
       "      <td>-500.089190</td>\n",
       "      <td>23.991710</td>\n",
       "      <td>-500.391528</td>\n",
       "      <td>23.954144</td>\n",
       "      <td>-501.872171</td>\n",
       "      <td>14.046819</td>\n",
       "      <td>-500.971133</td>\n",
       "      <td>12.091543</td>\n",
       "      <td>-500.501426</td>\n",
       "      <td>10.003247</td>\n",
       "      <td>-497.083180</td>\n",
       "      <td>8.010890</td>\n",
       "      <td>-500.002423</td>\n",
       "      <td>14.029649</td>\n",
       "      <td>-600.905470</td>\n",
       "    </tr>\n",
       "    <tr>\n",
       "      <th>7</th>\n",
       "      <td>2016-01-15 07:00:00</td>\n",
       "      <td>6.130823</td>\n",
       "      <td>9.935481</td>\n",
       "      <td>4.389813</td>\n",
       "      <td>42.452727</td>\n",
       "      <td>70.230976</td>\n",
       "      <td>10.443288</td>\n",
       "      <td>0.949346</td>\n",
       "      <td>16.689959</td>\n",
       "      <td>2.143437</td>\n",
       "      <td>124.592960</td>\n",
       "      <td>12.467403</td>\n",
       "      <td>7.25</td>\n",
       "      <td>0.901202</td>\n",
       "      <td>8.545238</td>\n",
       "      <td>10.224540</td>\n",
       "      <td>18.735813</td>\n",
       "      <td>34.027719</td>\n",
       "      <td>15.797720</td>\n",
       "      <td>2.881529</td>\n",
       "      <td>6.872033</td>\n",
       "      <td>2.112025</td>\n",
       "      <td>1597.946266</td>\n",
       "      <td>-501.592304</td>\n",
       "      <td>1601.078254</td>\n",
       "      <td>-499.494115</td>\n",
       "      <td>1602.630688</td>\n",
       "      <td>-500.173741</td>\n",
       "      <td>1595.937990</td>\n",
       "      <td>-498.929825</td>\n",
       "      <td>41812.416893</td>\n",
       "      <td>3497.275828</td>\n",
       "      <td>3501.000030</td>\n",
       "      <td>2.784698</td>\n",
       "      <td>5.955053</td>\n",
       "      <td>2.310432</td>\n",
       "      <td>549.842749</td>\n",
       "      <td>56.730325</td>\n",
       "      <td>36.091386</td>\n",
       "      <td>6.433854</td>\n",
       "      <td>12.557906</td>\n",
       "      <td>6.799275</td>\n",
       "      <td>12.583109</td>\n",
       "      <td>6.798354</td>\n",
       "      <td>11.182624</td>\n",
       "      <td>7.258496</td>\n",
       "      <td>27.231114</td>\n",
       "      <td>19.507897</td>\n",
       "      <td>87.668336</td>\n",
       "      <td>4.728325</td>\n",
       "      <td>0.548067</td>\n",
       "      <td>18.861866</td>\n",
       "      <td>1.116110</td>\n",
       "      <td>1000.166602</td>\n",
       "      <td>-400.556601</td>\n",
       "      <td>1598.877246</td>\n",
       "      <td>-450.070980</td>\n",
       "      <td>1598.108717</td>\n",
       "      <td>-449.211334</td>\n",
       "      <td>1592.872844</td>\n",
       "      <td>-449.806802</td>\n",
       "      <td>1396.580752</td>\n",
       "      <td>-453.548352</td>\n",
       "      <td>1397.289884</td>\n",
       "      <td>-450.221696</td>\n",
       "      <td>13.177237</td>\n",
       "      <td>4.432448</td>\n",
       "      <td>9.369209</td>\n",
       "      <td>2.192197</td>\n",
       "      <td>25.938026</td>\n",
       "      <td>-499.657795</td>\n",
       "      <td>24.020179</td>\n",
       "      <td>-499.798396</td>\n",
       "      <td>24.031555</td>\n",
       "      <td>-500.550436</td>\n",
       "      <td>23.968160</td>\n",
       "      <td>-499.836513</td>\n",
       "      <td>13.974691</td>\n",
       "      <td>-501.819696</td>\n",
       "      <td>12.101324</td>\n",
       "      <td>-500.583446</td>\n",
       "      <td>9.873169</td>\n",
       "      <td>-499.171928</td>\n",
       "      <td>7.993381</td>\n",
       "      <td>-499.794518</td>\n",
       "      <td>13.984498</td>\n",
       "      <td>-600.411070</td>\n",
       "    </tr>\n",
       "    <tr>\n",
       "      <th>8</th>\n",
       "      <td>2016-01-15 08:00:00</td>\n",
       "      <td>5.834140</td>\n",
       "      <td>10.071156</td>\n",
       "      <td>4.876389</td>\n",
       "      <td>43.404078</td>\n",
       "      <td>69.688595</td>\n",
       "      <td>10.420140</td>\n",
       "      <td>1.065453</td>\n",
       "      <td>17.201948</td>\n",
       "      <td>2.209881</td>\n",
       "      <td>131.781026</td>\n",
       "      <td>12.465718</td>\n",
       "      <td>7.25</td>\n",
       "      <td>0.885535</td>\n",
       "      <td>8.046686</td>\n",
       "      <td>10.500065</td>\n",
       "      <td>18.560288</td>\n",
       "      <td>34.964974</td>\n",
       "      <td>16.195420</td>\n",
       "      <td>3.089922</td>\n",
       "      <td>6.705633</td>\n",
       "      <td>2.243817</td>\n",
       "      <td>1601.670053</td>\n",
       "      <td>-499.548891</td>\n",
       "      <td>1598.804355</td>\n",
       "      <td>-499.689644</td>\n",
       "      <td>1601.689285</td>\n",
       "      <td>-500.484957</td>\n",
       "      <td>1602.431117</td>\n",
       "      <td>-500.650982</td>\n",
       "      <td>41905.757985</td>\n",
       "      <td>3498.332166</td>\n",
       "      <td>3498.120075</td>\n",
       "      <td>2.728844</td>\n",
       "      <td>5.878084</td>\n",
       "      <td>2.391713</td>\n",
       "      <td>560.115242</td>\n",
       "      <td>56.649893</td>\n",
       "      <td>35.753879</td>\n",
       "      <td>6.526612</td>\n",
       "      <td>13.166128</td>\n",
       "      <td>6.798659</td>\n",
       "      <td>13.184764</td>\n",
       "      <td>6.800021</td>\n",
       "      <td>11.051323</td>\n",
       "      <td>7.380043</td>\n",
       "      <td>27.404296</td>\n",
       "      <td>19.789465</td>\n",
       "      <td>87.035862</td>\n",
       "      <td>4.764300</td>\n",
       "      <td>0.599181</td>\n",
       "      <td>18.873082</td>\n",
       "      <td>1.186780</td>\n",
       "      <td>1000.026864</td>\n",
       "      <td>-399.968583</td>\n",
       "      <td>1599.813104</td>\n",
       "      <td>-450.481122</td>\n",
       "      <td>1600.024621</td>\n",
       "      <td>-450.365493</td>\n",
       "      <td>1594.448648</td>\n",
       "      <td>-449.882428</td>\n",
       "      <td>1402.033682</td>\n",
       "      <td>-448.545552</td>\n",
       "      <td>1400.748347</td>\n",
       "      <td>-450.303991</td>\n",
       "      <td>13.487870</td>\n",
       "      <td>4.608756</td>\n",
       "      <td>9.437044</td>\n",
       "      <td>2.212084</td>\n",
       "      <td>25.929511</td>\n",
       "      <td>-500.079889</td>\n",
       "      <td>23.977375</td>\n",
       "      <td>-500.005187</td>\n",
       "      <td>23.998809</td>\n",
       "      <td>-500.400133</td>\n",
       "      <td>23.982633</td>\n",
       "      <td>-499.826311</td>\n",
       "      <td>13.964030</td>\n",
       "      <td>-504.252450</td>\n",
       "      <td>12.060738</td>\n",
       "      <td>-501.174549</td>\n",
       "      <td>10.033838</td>\n",
       "      <td>-501.178133</td>\n",
       "      <td>7.881604</td>\n",
       "      <td>-499.729434</td>\n",
       "      <td>13.967135</td>\n",
       "      <td>-599.061188</td>\n",
       "    </tr>\n",
       "    <tr>\n",
       "      <th>9</th>\n",
       "      <td>2016-01-15 09:00:00</td>\n",
       "      <td>5.687063</td>\n",
       "      <td>9.980404</td>\n",
       "      <td>5.282514</td>\n",
       "      <td>43.235220</td>\n",
       "      <td>70.279619</td>\n",
       "      <td>10.487013</td>\n",
       "      <td>1.159805</td>\n",
       "      <td>17.483979</td>\n",
       "      <td>2.209593</td>\n",
       "      <td>138.120409</td>\n",
       "      <td>12.464032</td>\n",
       "      <td>7.25</td>\n",
       "      <td>0.898779</td>\n",
       "      <td>8.098985</td>\n",
       "      <td>10.525324</td>\n",
       "      <td>18.436589</td>\n",
       "      <td>34.826500</td>\n",
       "      <td>15.535214</td>\n",
       "      <td>2.866688</td>\n",
       "      <td>7.265906</td>\n",
       "      <td>2.025454</td>\n",
       "      <td>1603.436598</td>\n",
       "      <td>-499.864400</td>\n",
       "      <td>1597.455353</td>\n",
       "      <td>-500.266905</td>\n",
       "      <td>1600.747882</td>\n",
       "      <td>-500.541002</td>\n",
       "      <td>1599.754053</td>\n",
       "      <td>-499.216962</td>\n",
       "      <td>41882.126352</td>\n",
       "      <td>3499.915439</td>\n",
       "      <td>3519.952954</td>\n",
       "      <td>2.717442</td>\n",
       "      <td>5.908793</td>\n",
       "      <td>2.440899</td>\n",
       "      <td>573.076049</td>\n",
       "      <td>58.509262</td>\n",
       "      <td>36.958540</td>\n",
       "      <td>6.633002</td>\n",
       "      <td>13.707775</td>\n",
       "      <td>6.820245</td>\n",
       "      <td>13.812674</td>\n",
       "      <td>6.790624</td>\n",
       "      <td>11.116297</td>\n",
       "      <td>7.297363</td>\n",
       "      <td>27.497520</td>\n",
       "      <td>19.497669</td>\n",
       "      <td>87.650868</td>\n",
       "      <td>4.667157</td>\n",
       "      <td>0.615418</td>\n",
       "      <td>18.907179</td>\n",
       "      <td>1.167140</td>\n",
       "      <td>1000.589156</td>\n",
       "      <td>-398.879586</td>\n",
       "      <td>1598.975250</td>\n",
       "      <td>-451.238638</td>\n",
       "      <td>1600.058139</td>\n",
       "      <td>-451.271448</td>\n",
       "      <td>1610.182874</td>\n",
       "      <td>-450.460190</td>\n",
       "      <td>1399.194663</td>\n",
       "      <td>-450.332681</td>\n",
       "      <td>1399.638290</td>\n",
       "      <td>-450.198722</td>\n",
       "      <td>13.209191</td>\n",
       "      <td>4.550553</td>\n",
       "      <td>9.813732</td>\n",
       "      <td>2.073737</td>\n",
       "      <td>26.059510</td>\n",
       "      <td>-499.151646</td>\n",
       "      <td>23.934570</td>\n",
       "      <td>-499.351758</td>\n",
       "      <td>23.994184</td>\n",
       "      <td>-500.078566</td>\n",
       "      <td>23.924481</td>\n",
       "      <td>-499.989024</td>\n",
       "      <td>13.989632</td>\n",
       "      <td>-503.195299</td>\n",
       "      <td>12.052233</td>\n",
       "      <td>-500.928547</td>\n",
       "      <td>9.962574</td>\n",
       "      <td>-502.986357</td>\n",
       "      <td>7.979219</td>\n",
       "      <td>-500.146835</td>\n",
       "      <td>13.981614</td>\n",
       "      <td>-598.070855</td>\n",
       "    </tr>\n",
       "  </tbody>\n",
       "</table>\n",
       "</div>"
      ],
      "text/plain": [
       "                  date  final.output.concentrate_ag  \\\n",
       "0  2016-01-15 00:00:00                     6.055403   \n",
       "1  2016-01-15 01:00:00                     6.029369   \n",
       "2  2016-01-15 02:00:00                     6.055926   \n",
       "3  2016-01-15 03:00:00                     6.047977   \n",
       "4  2016-01-15 04:00:00                     6.148599   \n",
       "5  2016-01-15 05:00:00                     6.482968   \n",
       "6  2016-01-15 06:00:00                     6.533849   \n",
       "7  2016-01-15 07:00:00                     6.130823   \n",
       "8  2016-01-15 08:00:00                     5.834140   \n",
       "9  2016-01-15 09:00:00                     5.687063   \n",
       "\n",
       "   final.output.concentrate_pb  final.output.concentrate_sol  \\\n",
       "0                     9.889648                      5.507324   \n",
       "1                     9.968944                      5.257781   \n",
       "2                    10.213995                      5.383759   \n",
       "3                     9.977019                      4.858634   \n",
       "4                    10.142511                      4.939416   \n",
       "5                    10.049416                      5.480257   \n",
       "6                    10.058141                      4.569100   \n",
       "7                     9.935481                      4.389813   \n",
       "8                    10.071156                      4.876389   \n",
       "9                     9.980404                      5.282514   \n",
       "\n",
       "   final.output.concentrate_au  final.output.recovery  final.output.tail_ag  \\\n",
       "0                    42.192020              70.541216             10.411962   \n",
       "1                    42.701629              69.266198             10.462676   \n",
       "2                    42.657501              68.116445             10.507046   \n",
       "3                    42.689819              68.347543             10.422762   \n",
       "4                    42.774141              66.927016             10.360302   \n",
       "5                    41.633678              69.465816             10.182708   \n",
       "6                    41.995316              69.300835             10.304598   \n",
       "7                    42.452727              70.230976             10.443288   \n",
       "8                    43.404078              69.688595             10.420140   \n",
       "9                    43.235220              70.279619             10.487013   \n",
       "\n",
       "   final.output.tail_pb  final.output.tail_sol  final.output.tail_au  \\\n",
       "0              0.895447              16.904297              2.143149   \n",
       "1              0.927452              16.634514              2.224930   \n",
       "2              0.953716              16.208849              2.257889   \n",
       "3              0.883763              16.532835              2.146849   \n",
       "4              0.792826              16.525686              2.055292   \n",
       "5              0.664118              16.999638              1.918586   \n",
       "6              0.807342              16.723575              2.058913   \n",
       "7              0.949346              16.689959              2.143437   \n",
       "8              1.065453              17.201948              2.209881   \n",
       "9              1.159805              17.483979              2.209593   \n",
       "\n",
       "   primary_cleaner.input.sulfate  primary_cleaner.input.depressant  \\\n",
       "0                     127.092003                         10.128295   \n",
       "1                     125.629232                         10.296251   \n",
       "2                     123.819808                         11.316280   \n",
       "3                     122.270188                         11.322140   \n",
       "4                     117.988169                         11.913613   \n",
       "5                     115.581252                         12.470773   \n",
       "6                     117.322323                         12.469088   \n",
       "7                     124.592960                         12.467403   \n",
       "8                     131.781026                         12.465718   \n",
       "9                     138.120409                         12.464032   \n",
       "\n",
       "   primary_cleaner.input.feed_size  primary_cleaner.input.xanthate  \\\n",
       "0                             7.25                        0.988759   \n",
       "1                             7.25                        1.002663   \n",
       "2                             7.25                        0.991265   \n",
       "3                             7.25                        0.996739   \n",
       "4                             7.25                        1.009869   \n",
       "5                             7.25                        0.965760   \n",
       "6                             7.25                        0.895207   \n",
       "7                             7.25                        0.901202   \n",
       "8                             7.25                        0.885535   \n",
       "9                             7.25                        0.898779   \n",
       "\n",
       "   primary_cleaner.output.concentrate_ag  \\\n",
       "0                               8.547551   \n",
       "1                               8.558743   \n",
       "2                               8.603505   \n",
       "3                               7.221879   \n",
       "4                               9.089428   \n",
       "5                               9.553724   \n",
       "6                               8.968869   \n",
       "7                               8.545238   \n",
       "8                               8.046686   \n",
       "9                               8.098985   \n",
       "\n",
       "   primary_cleaner.output.concentrate_pb  \\\n",
       "0                              10.389648   \n",
       "1                              10.497069   \n",
       "2                              10.354494   \n",
       "3                               8.496563   \n",
       "4                               9.986786   \n",
       "5                               9.816215   \n",
       "6                              10.081306   \n",
       "7                              10.224540   \n",
       "8                              10.500065   \n",
       "9                              10.525324   \n",
       "\n",
       "   primary_cleaner.output.concentrate_sol  \\\n",
       "0                               19.529297   \n",
       "1                               19.369147   \n",
       "2                               19.167579   \n",
       "3                               15.978538   \n",
       "4                               19.199864   \n",
       "5                               19.167328   \n",
       "6                               18.930855   \n",
       "7                               18.735813   \n",
       "8                               18.560288   \n",
       "9                               18.436589   \n",
       "\n",
       "   primary_cleaner.output.concentrate_au  primary_cleaner.output.tail_ag  \\\n",
       "0                              34.174427                       14.936526   \n",
       "1                              34.118526                       16.250511   \n",
       "2                              33.969464                       16.491823   \n",
       "3                              28.260743                       16.024359   \n",
       "4                              33.044932                       16.480185   \n",
       "5                              32.070664                       15.931540   \n",
       "6                              33.184823                       16.078368   \n",
       "7                              34.027719                       15.797720   \n",
       "8                              34.964974                       16.195420   \n",
       "9                              34.826500                       15.535214   \n",
       "\n",
       "   primary_cleaner.output.tail_pb  primary_cleaner.output.tail_sol  \\\n",
       "0                        2.534912                         7.476074   \n",
       "1                        3.049646                         6.733907   \n",
       "2                        3.124664                         6.471768   \n",
       "3                        2.960362                         6.843791   \n",
       "4                        3.112100                         6.550154   \n",
       "5                        2.844511                         6.724197   \n",
       "6                        2.938979                         6.623598   \n",
       "7                        2.881529                         6.872033   \n",
       "8                        3.089922                         6.705633   \n",
       "9                        2.866688                         7.265906   \n",
       "\n",
       "   primary_cleaner.output.tail_au  primary_cleaner.state.floatbank8_a_air  \\\n",
       "0                        2.106679                             1549.775757   \n",
       "1                        2.353017                             1576.166671   \n",
       "2                        2.416800                             1601.556163   \n",
       "3                        2.262051                             1599.968720   \n",
       "4                        2.277073                             1601.339707   \n",
       "5                        2.114558                             1602.964922   \n",
       "6                        2.223152                             1597.532455   \n",
       "7                        2.112025                             1597.946266   \n",
       "8                        2.243817                             1601.670053   \n",
       "9                        2.025454                             1603.436598   \n",
       "\n",
       "   primary_cleaner.state.floatbank8_a_level  \\\n",
       "0                               -498.912140   \n",
       "1                               -500.904965   \n",
       "2                               -499.997791   \n",
       "3                               -500.951778   \n",
       "4                               -498.975456   \n",
       "5                               -498.090944   \n",
       "6                               -500.985364   \n",
       "7                               -501.592304   \n",
       "8                               -499.548891   \n",
       "9                               -499.864400   \n",
       "\n",
       "   primary_cleaner.state.floatbank8_b_air  \\\n",
       "0                             1551.434204   \n",
       "1                             1575.950626   \n",
       "2                             1600.386685   \n",
       "3                             1600.659236   \n",
       "4                             1601.437854   \n",
       "5                             1602.074298   \n",
       "6                             1602.816321   \n",
       "7                             1601.078254   \n",
       "8                             1598.804355   \n",
       "9                             1597.455353   \n",
       "\n",
       "   primary_cleaner.state.floatbank8_b_level  \\\n",
       "0                               -516.403442   \n",
       "1                               -499.865889   \n",
       "2                               -500.607762   \n",
       "3                               -499.677094   \n",
       "4                               -500.323246   \n",
       "5                               -500.179481   \n",
       "6                               -500.696736   \n",
       "7                               -499.494115   \n",
       "8                               -499.689644   \n",
       "9                               -500.266905   \n",
       "\n",
       "   primary_cleaner.state.floatbank8_c_air  \\\n",
       "0                             1549.873901   \n",
       "1                             1575.994189   \n",
       "2                             1602.003542   \n",
       "3                             1600.304144   \n",
       "4                             1599.581894   \n",
       "5                             1602.154812   \n",
       "6                             1603.572091   \n",
       "7                             1602.630688   \n",
       "8                             1601.689285   \n",
       "9                             1600.747882   \n",
       "\n",
       "   primary_cleaner.state.floatbank8_c_level  \\\n",
       "0                               -498.666595   \n",
       "1                               -499.315107   \n",
       "2                               -500.870069   \n",
       "3                               -500.727997   \n",
       "4                               -500.888152   \n",
       "5                               -498.642614   \n",
       "6                               -500.256955   \n",
       "7                               -500.173741   \n",
       "8                               -500.484957   \n",
       "9                               -500.541002   \n",
       "\n",
       "   primary_cleaner.state.floatbank8_d_air  \\\n",
       "0                             1554.367432   \n",
       "1                             1574.479259   \n",
       "2                             1599.541515   \n",
       "3                             1600.449520   \n",
       "4                             1602.649541   \n",
       "5                             1605.020106   \n",
       "6                             1597.597437   \n",
       "7                             1595.937990   \n",
       "8                             1602.431117   \n",
       "9                             1599.754053   \n",
       "\n",
       "   primary_cleaner.state.floatbank8_d_level  \\\n",
       "0                               -493.428131   \n",
       "1                               -498.931665   \n",
       "2                               -499.827444   \n",
       "3                               -500.052575   \n",
       "4                               -500.593010   \n",
       "5                               -500.538177   \n",
       "6                               -500.378192   \n",
       "7                               -498.929825   \n",
       "8                               -500.650982   \n",
       "9                               -499.216962   \n",
       "\n",
       "   rougher.calculation.sulfate_to_au_concentrate  \\\n",
       "0                                   41885.707031   \n",
       "1                                   42050.861809   \n",
       "2                                   42018.101184   \n",
       "3                                   42029.447991   \n",
       "4                                   42125.354245   \n",
       "5                                   41973.280986   \n",
       "6                                   41956.468979   \n",
       "7                                   41812.416893   \n",
       "8                                   41905.757985   \n",
       "9                                   41882.126352   \n",
       "\n",
       "   rougher.calculation.floatbank10_sulfate_to_au_feed  \\\n",
       "0                                        3481.779053    \n",
       "1                                        3498.370979    \n",
       "2                                        3495.348910    \n",
       "3                                        3498.578313    \n",
       "4                                        3494.800771    \n",
       "5                                        3501.916973    \n",
       "6                                        3497.427365    \n",
       "7                                        3497.275828    \n",
       "8                                        3498.332166    \n",
       "9                                        3499.915439    \n",
       "\n",
       "   rougher.calculation.floatbank11_sulfate_to_au_feed  \\\n",
       "0                                        3520.337158    \n",
       "1                                        3489.981857    \n",
       "2                                        3502.359819    \n",
       "3                                        3499.162912    \n",
       "4                                        3506.679315    \n",
       "5                                        3499.527175    \n",
       "6                                        3506.352790    \n",
       "7                                        3501.000030    \n",
       "8                                        3498.120075    \n",
       "9                                        3519.952954    \n",
       "\n",
       "   rougher.calculation.au_pb_ratio  rougher.input.feed_ag  \\\n",
       "0                         2.838687               6.100378   \n",
       "1                         2.858998               6.161113   \n",
       "2                         2.945989               6.116455   \n",
       "3                         3.002340               6.043309   \n",
       "4                         3.169615               6.060915   \n",
       "5                         3.026134               5.801920   \n",
       "6                         2.867933               6.056253   \n",
       "7                         2.784698               5.955053   \n",
       "8                         2.728844               5.878084   \n",
       "9                         2.717442               5.908793   \n",
       "\n",
       "   rougher.input.feed_pb  rougher.input.feed_rate  rougher.input.feed_size  \\\n",
       "0               2.284912               523.546326                55.486599   \n",
       "1               2.266033               525.290581                57.278666   \n",
       "2               2.159622               530.026610                57.510649   \n",
       "3               2.037807               542.590390                57.792734   \n",
       "4               1.786875               540.531893                56.047189   \n",
       "5               1.879351               546.173470                57.469578   \n",
       "6               2.105501               523.376439                56.674647   \n",
       "7               2.310432               549.842749                56.730325   \n",
       "8               2.391713               560.115242                56.649893   \n",
       "9               2.440899               573.076049                58.509262   \n",
       "\n",
       "   rougher.input.feed_sol  rougher.input.feed_au  \\\n",
       "0               36.808594               6.486150   \n",
       "1               35.753385               6.478583   \n",
       "2               35.971630               6.362222   \n",
       "3               36.862241               6.118189   \n",
       "4               34.347666               5.663707   \n",
       "5               35.470082               5.687168   \n",
       "6               34.920570               6.038436   \n",
       "7               36.091386               6.433854   \n",
       "8               35.753879               6.526612   \n",
       "9               36.958540               6.633002   \n",
       "\n",
       "   rougher.input.floatbank10_sulfate  rougher.input.floatbank10_xanthate  \\\n",
       "0                          11.986616                            6.007990   \n",
       "1                          11.971193                            6.005766   \n",
       "2                          11.920603                            6.197377   \n",
       "3                          11.630094                            6.203177   \n",
       "4                          10.957755                            6.198826   \n",
       "5                          11.072517                            6.200383   \n",
       "6                          11.535899                            6.204974   \n",
       "7                          12.557906                            6.799275   \n",
       "8                          13.166128                            6.798659   \n",
       "9                          13.707775                            6.820245   \n",
       "\n",
       "   rougher.input.floatbank11_sulfate  rougher.input.floatbank11_xanthate  \\\n",
       "0                          11.836743                            6.005818   \n",
       "1                          11.996163                            6.012594   \n",
       "2                          11.920305                            6.204633   \n",
       "3                          11.692450                            6.196578   \n",
       "4                          10.960521                            6.194897   \n",
       "5                          11.075009                            6.202362   \n",
       "6                          11.539227                            6.200515   \n",
       "7                          12.583109                            6.798354   \n",
       "8                          13.184764                            6.800021   \n",
       "9                          13.812674                            6.790624   \n",
       "\n",
       "   rougher.output.concentrate_ag  rougher.output.concentrate_pb  \\\n",
       "0                      11.500771                       7.101074   \n",
       "1                      11.615865                       7.278807   \n",
       "2                      11.695753                       7.216833   \n",
       "3                      11.915047                       7.175616   \n",
       "4                      12.411054                       7.240205   \n",
       "5                      11.985584                       7.121903   \n",
       "6                      11.684307                       7.304849   \n",
       "7                      11.182624                       7.258496   \n",
       "8                      11.051323                       7.380043   \n",
       "9                      11.116297                       7.297363   \n",
       "\n",
       "   rougher.output.concentrate_sol  rougher.output.concentrate_au  \\\n",
       "0                       28.029297                      19.793808   \n",
       "1                       28.067063                      20.050975   \n",
       "2                       27.454037                      19.737170   \n",
       "3                       27.341277                      19.320810   \n",
       "4                       27.041023                      19.216101   \n",
       "5                       26.898046                      18.950385   \n",
       "6                       27.063672                      19.319591   \n",
       "7                       27.231114                      19.507897   \n",
       "8                       27.404296                      19.789465   \n",
       "9                       27.497520                      19.497669   \n",
       "\n",
       "   rougher.output.recovery  rougher.output.tail_ag  rougher.output.tail_pb  \\\n",
       "0                87.107763                5.008018                0.508728   \n",
       "1                86.843261                4.955378                0.536689   \n",
       "2                86.842308                4.843460                0.546416   \n",
       "3                87.226430                4.655288                0.542525   \n",
       "4                86.688794                4.552800                0.515438   \n",
       "5                88.156912                4.397415                0.491350   \n",
       "6                88.168065                4.478080                0.518266   \n",
       "7                87.668336                4.728325                0.548067   \n",
       "8                87.035862                4.764300                0.599181   \n",
       "9                87.650868                4.667157                0.615418   \n",
       "\n",
       "   rougher.output.tail_sol  rougher.output.tail_au  \\\n",
       "0                19.154297                1.170244   \n",
       "1                18.965234                1.184827   \n",
       "2                18.808533                1.162562   \n",
       "3                19.330200                1.079755   \n",
       "4                19.267422                1.012642   \n",
       "5                19.640269                0.915835   \n",
       "6                19.262491                0.986248   \n",
       "7                18.861866                1.116110   \n",
       "8                18.873082                1.186780   \n",
       "9                18.907179                1.167140   \n",
       "\n",
       "   rougher.state.floatbank10_a_air  rougher.state.floatbank10_a_level  \\\n",
       "0                       999.706909                        -404.066986   \n",
       "1                      1000.286398                        -400.065196   \n",
       "2                       999.719565                        -400.074028   \n",
       "3                       999.814770                        -400.200179   \n",
       "4                       999.678690                        -399.752729   \n",
       "5                       999.934134                        -400.599524   \n",
       "6                       999.832373                        -399.353521   \n",
       "7                      1000.166602                        -400.556601   \n",
       "8                      1000.026864                        -399.968583   \n",
       "9                      1000.589156                        -398.879586   \n",
       "\n",
       "   rougher.state.floatbank10_b_air  rougher.state.floatbank10_b_level  \\\n",
       "0                      1603.011353                        -434.715027   \n",
       "1                      1600.754587                        -449.953435   \n",
       "2                      1599.337330                        -450.008530   \n",
       "3                      1600.059442                        -450.619948   \n",
       "4                      1600.208824                        -449.599614   \n",
       "5                      1601.080554                        -450.120760   \n",
       "6                      1600.753019                        -450.050089   \n",
       "7                      1598.877246                        -450.070980   \n",
       "8                      1599.813104                        -450.481122   \n",
       "9                      1598.975250                        -451.238638   \n",
       "\n",
       "   rougher.state.floatbank10_c_air  rougher.state.floatbank10_c_level  \\\n",
       "0                      1602.375000                        -442.204468   \n",
       "1                      1600.479580                        -449.830646   \n",
       "2                      1599.672797                        -449.954491   \n",
       "3                      1600.012842                        -449.910497   \n",
       "4                      1600.357732                        -450.034364   \n",
       "5                      1603.164805                        -450.097732   \n",
       "6                      1599.019966                        -449.848507   \n",
       "7                      1598.108717                        -449.211334   \n",
       "8                      1600.024621                        -450.365493   \n",
       "9                      1600.058139                        -451.271448   \n",
       "\n",
       "   rougher.state.floatbank10_d_air  rougher.state.floatbank10_d_level  \\\n",
       "0                      1598.937256                        -451.294128   \n",
       "1                      1600.527589                        -449.953649   \n",
       "2                      1599.849325                        -449.954185   \n",
       "3                      1597.725177                        -450.130127   \n",
       "4                      1599.759049                        -449.909799   \n",
       "5                      1603.368371                        -446.306150   \n",
       "6                      1600.298267                        -453.102891   \n",
       "7                      1592.872844                        -449.806802   \n",
       "8                      1594.448648                        -449.882428   \n",
       "9                      1610.182874                        -450.460190   \n",
       "\n",
       "   rougher.state.floatbank10_e_air  rougher.state.floatbank10_e_level  \\\n",
       "0                      1404.472046                        -455.462982   \n",
       "1                      1399.227084                        -450.869848   \n",
       "2                      1399.180945                        -449.937588   \n",
       "3                      1400.943157                        -450.030142   \n",
       "4                      1401.560902                        -448.877187   \n",
       "5                      1403.393100                        -447.899904   \n",
       "6                      1397.853265                        -451.306640   \n",
       "7                      1396.580752                        -453.548352   \n",
       "8                      1402.033682                        -448.545552   \n",
       "9                      1399.194663                        -450.332681   \n",
       "\n",
       "   rougher.state.floatbank10_f_air  rougher.state.floatbank10_f_level  \\\n",
       "0                      1416.354980                        -451.939636   \n",
       "1                      1399.719514                        -450.119001   \n",
       "2                      1400.316682                        -450.527147   \n",
       "3                      1400.234743                        -449.790835   \n",
       "4                      1401.160227                        -450.407128   \n",
       "5                      1402.903175                        -448.872321   \n",
       "6                      1397.973670                        -451.355626   \n",
       "7                      1397.289884                        -450.221696   \n",
       "8                      1400.748347                        -450.303991   \n",
       "9                      1399.638290                        -450.198722   \n",
       "\n",
       "   secondary_cleaner.output.tail_ag  secondary_cleaner.output.tail_pb  \\\n",
       "0                         14.500184                          4.694824   \n",
       "1                         14.265474                          4.592547   \n",
       "2                         14.115662                          4.624775   \n",
       "3                         13.732071                          4.482453   \n",
       "4                         14.079996                          4.470737   \n",
       "5                         13.615012                          4.286817   \n",
       "6                         13.597056                          4.487865   \n",
       "7                         13.177237                          4.432448   \n",
       "8                         13.487870                          4.608756   \n",
       "9                         13.209191                          4.550553   \n",
       "\n",
       "   secondary_cleaner.output.tail_sol  secondary_cleaner.output.tail_au  \\\n",
       "0                           8.764648                          2.606185   \n",
       "1                           9.001494                          2.488248   \n",
       "2                           8.842896                          2.458187   \n",
       "3                           9.122857                          2.322062   \n",
       "4                           8.871028                          2.330448   \n",
       "5                           9.302669                          2.192127   \n",
       "6                           9.103047                          2.316720   \n",
       "7                           9.369209                          2.192197   \n",
       "8                           9.437044                          2.212084   \n",
       "9                           9.813732                          2.073737   \n",
       "\n",
       "   secondary_cleaner.state.floatbank2_a_air  \\\n",
       "0                                 25.853109   \n",
       "1                                 25.880539   \n",
       "2                                 26.005245   \n",
       "3                                 25.942508   \n",
       "4                                 26.024787   \n",
       "5                                 26.014841   \n",
       "6                                 25.957594   \n",
       "7                                 25.938026   \n",
       "8                                 25.929511   \n",
       "9                                 26.059510   \n",
       "\n",
       "   secondary_cleaner.state.floatbank2_a_level  \\\n",
       "0                                 -498.526489   \n",
       "1                                 -499.989656   \n",
       "2                                 -499.929616   \n",
       "3                                 -499.176749   \n",
       "4                                 -500.279091   \n",
       "5                                 -498.864670   \n",
       "6                                 -500.134472   \n",
       "7                                 -499.657795   \n",
       "8                                 -500.079889   \n",
       "9                                 -499.151646   \n",
       "\n",
       "   secondary_cleaner.state.floatbank2_b_air  \\\n",
       "0                                 23.893660   \n",
       "1                                 23.889530   \n",
       "2                                 23.886657   \n",
       "3                                 23.955516   \n",
       "4                                 23.955345   \n",
       "5                                 23.880214   \n",
       "6                                 24.077199   \n",
       "7                                 24.020179   \n",
       "8                                 23.977375   \n",
       "9                                 23.934570   \n",
       "\n",
       "   secondary_cleaner.state.floatbank2_b_level  \\\n",
       "0                                 -501.406281   \n",
       "1                                 -500.372428   \n",
       "2                                 -499.951928   \n",
       "3                                 -499.848796   \n",
       "4                                 -500.593614   \n",
       "5                                 -499.738447   \n",
       "6                                 -500.089190   \n",
       "7                                 -499.798396   \n",
       "8                                 -500.005187   \n",
       "9                                 -499.351758   \n",
       "\n",
       "   secondary_cleaner.state.floatbank3_a_air  \\\n",
       "0                                 23.961798   \n",
       "1                                 23.970550   \n",
       "2                                 23.913535   \n",
       "3                                 23.966838   \n",
       "4                                 23.985703   \n",
       "5                                 23.982635   \n",
       "6                                 23.991710   \n",
       "7                                 24.031555   \n",
       "8                                 23.998809   \n",
       "9                                 23.994184   \n",
       "\n",
       "   secondary_cleaner.state.floatbank3_a_level  \\\n",
       "0                                 -495.262817   \n",
       "1                                 -500.085473   \n",
       "2                                 -499.442343   \n",
       "3                                 -500.008812   \n",
       "4                                 -500.083811   \n",
       "5                                 -500.495272   \n",
       "6                                 -500.391528   \n",
       "7                                 -500.550436   \n",
       "8                                 -500.400133   \n",
       "9                                 -500.078566   \n",
       "\n",
       "   secondary_cleaner.state.floatbank3_b_air  \\\n",
       "0                                 21.940409   \n",
       "1                                 22.085714   \n",
       "2                                 23.957717   \n",
       "3                                 23.954443   \n",
       "4                                 23.958945   \n",
       "5                                 24.009749   \n",
       "6                                 23.954144   \n",
       "7                                 23.968160   \n",
       "8                                 23.982633   \n",
       "9                                 23.924481   \n",
       "\n",
       "   secondary_cleaner.state.floatbank3_b_level  \\\n",
       "0                                 -499.340973   \n",
       "1                                 -499.446897   \n",
       "2                                 -499.901982   \n",
       "3                                 -499.944710   \n",
       "4                                 -499.990309   \n",
       "5                                 -499.433825   \n",
       "6                                 -501.872171   \n",
       "7                                 -499.836513   \n",
       "8                                 -499.826311   \n",
       "9                                 -499.989024   \n",
       "\n",
       "   secondary_cleaner.state.floatbank4_a_air  \\\n",
       "0                                 14.016835   \n",
       "1                                 13.992281   \n",
       "2                                 14.015015   \n",
       "3                                 14.036510   \n",
       "4                                 14.027298   \n",
       "5                                 13.938497   \n",
       "6                                 14.046819   \n",
       "7                                 13.974691   \n",
       "8                                 13.964030   \n",
       "9                                 13.989632   \n",
       "\n",
       "   secondary_cleaner.state.floatbank4_a_level  \\\n",
       "0                                 -502.488007   \n",
       "1                                 -505.503262   \n",
       "2                                 -502.520901   \n",
       "3                                 -500.857308   \n",
       "4                                 -499.838632   \n",
       "5                                 -500.970168   \n",
       "6                                 -500.971133   \n",
       "7                                 -501.819696   \n",
       "8                                 -504.252450   \n",
       "9                                 -503.195299   \n",
       "\n",
       "   secondary_cleaner.state.floatbank4_b_air  \\\n",
       "0                                 12.099931   \n",
       "1                                 11.950531   \n",
       "2                                 11.912783   \n",
       "3                                 11.999550   \n",
       "4                                 11.953070   \n",
       "5                                 11.883350   \n",
       "6                                 12.091543   \n",
       "7                                 12.101324   \n",
       "8                                 12.060738   \n",
       "9                                 12.052233   \n",
       "\n",
       "   secondary_cleaner.state.floatbank4_b_level  \\\n",
       "0                                 -504.715942   \n",
       "1                                 -501.331529   \n",
       "2                                 -501.133383   \n",
       "3                                 -501.193686   \n",
       "4                                 -501.053894   \n",
       "5                                 -500.395298   \n",
       "6                                 -500.501426   \n",
       "7                                 -500.583446   \n",
       "8                                 -501.174549   \n",
       "9                                 -500.928547   \n",
       "\n",
       "   secondary_cleaner.state.floatbank5_a_air  \\\n",
       "0                                  9.925633   \n",
       "1                                 10.039245   \n",
       "2                                 10.070913   \n",
       "3                                  9.970366   \n",
       "4                                  9.925709   \n",
       "5                                 10.054147   \n",
       "6                                 10.003247   \n",
       "7                                  9.873169   \n",
       "8                                 10.033838   \n",
       "9                                  9.962574   \n",
       "\n",
       "   secondary_cleaner.state.floatbank5_a_level  \\\n",
       "0                                 -498.310211   \n",
       "1                                 -500.169983   \n",
       "2                                 -500.129135   \n",
       "3                                 -499.201640   \n",
       "4                                 -501.686727   \n",
       "5                                 -496.374715   \n",
       "6                                 -497.083180   \n",
       "7                                 -499.171928   \n",
       "8                                 -501.178133   \n",
       "9                                 -502.986357   \n",
       "\n",
       "   secondary_cleaner.state.floatbank5_b_air  \\\n",
       "0                                  8.079666   \n",
       "1                                  7.984757   \n",
       "2                                  8.013877   \n",
       "3                                  7.977324   \n",
       "4                                  7.894242   \n",
       "5                                  7.965083   \n",
       "6                                  8.010890   \n",
       "7                                  7.993381   \n",
       "8                                  7.881604   \n",
       "9                                  7.979219   \n",
       "\n",
       "   secondary_cleaner.state.floatbank5_b_level  \\\n",
       "0                                 -500.470978   \n",
       "1                                 -500.582168   \n",
       "2                                 -500.517572   \n",
       "3                                 -500.255908   \n",
       "4                                 -500.356035   \n",
       "5                                 -499.364752   \n",
       "6                                 -500.002423   \n",
       "7                                 -499.794518   \n",
       "8                                 -499.729434   \n",
       "9                                 -500.146835   \n",
       "\n",
       "   secondary_cleaner.state.floatbank6_a_air  \\\n",
       "0                                 14.151341   \n",
       "1                                 13.998353   \n",
       "2                                 14.028663   \n",
       "3                                 14.005551   \n",
       "4                                 13.996647   \n",
       "5                                 14.017067   \n",
       "6                                 14.029649   \n",
       "7                                 13.984498   \n",
       "8                                 13.967135   \n",
       "9                                 13.981614   \n",
       "\n",
       "   secondary_cleaner.state.floatbank6_a_level  \n",
       "0                                 -605.841980  \n",
       "1                                 -599.787184  \n",
       "2                                 -601.427363  \n",
       "3                                 -599.996129  \n",
       "4                                 -601.496691  \n",
       "5                                 -599.707915  \n",
       "6                                 -600.905470  \n",
       "7                                 -600.411070  \n",
       "8                                 -599.061188  \n",
       "9                                 -598.070855  "
      ]
     },
     "execution_count": 5,
     "metadata": {},
     "output_type": "execute_result"
    }
   ],
   "source": [
    "df_full.head(10)"
   ]
  },
  {
   "cell_type": "code",
   "execution_count": 6,
   "metadata": {},
   "outputs": [
    {
     "data": {
      "text/plain": [
       "(14149, 87)"
      ]
     },
     "metadata": {},
     "output_type": "display_data"
    },
    {
     "data": {
      "text/plain": [
       "(5290, 53)"
      ]
     },
     "metadata": {},
     "output_type": "display_data"
    },
    {
     "data": {
      "text/plain": [
       "(19439, 87)"
      ]
     },
     "metadata": {},
     "output_type": "display_data"
    }
   ],
   "source": [
    "display(df_train.shape)\n",
    "display(df_test.shape)\n",
    "display(df_full.shape)"
   ]
  },
  {
   "cell_type": "code",
   "execution_count": 7,
   "metadata": {
    "scrolled": true
   },
   "outputs": [
    {
     "name": "stdout",
     "output_type": "stream",
     "text": [
      "df_train\n",
      "<class 'pandas.core.frame.DataFrame'>\n",
      "RangeIndex: 14149 entries, 0 to 14148\n",
      "Data columns (total 87 columns):\n",
      " #   Column                                              Non-Null Count  Dtype  \n",
      "---  ------                                              --------------  -----  \n",
      " 0   date                                                14149 non-null  object \n",
      " 1   final.output.concentrate_ag                         14148 non-null  float64\n",
      " 2   final.output.concentrate_pb                         14148 non-null  float64\n",
      " 3   final.output.concentrate_sol                        13938 non-null  float64\n",
      " 4   final.output.concentrate_au                         14149 non-null  float64\n",
      " 5   final.output.recovery                               14149 non-null  float64\n",
      " 6   final.output.tail_ag                                14149 non-null  float64\n",
      " 7   final.output.tail_pb                                14049 non-null  float64\n",
      " 8   final.output.tail_sol                               14144 non-null  float64\n",
      " 9   final.output.tail_au                                14149 non-null  float64\n",
      " 10  primary_cleaner.input.sulfate                       14129 non-null  float64\n",
      " 11  primary_cleaner.input.depressant                    14117 non-null  float64\n",
      " 12  primary_cleaner.input.feed_size                     14149 non-null  float64\n",
      " 13  primary_cleaner.input.xanthate                      14049 non-null  float64\n",
      " 14  primary_cleaner.output.concentrate_ag               14149 non-null  float64\n",
      " 15  primary_cleaner.output.concentrate_pb               14063 non-null  float64\n",
      " 16  primary_cleaner.output.concentrate_sol              13863 non-null  float64\n",
      " 17  primary_cleaner.output.concentrate_au               14149 non-null  float64\n",
      " 18  primary_cleaner.output.tail_ag                      14148 non-null  float64\n",
      " 19  primary_cleaner.output.tail_pb                      14134 non-null  float64\n",
      " 20  primary_cleaner.output.tail_sol                     14103 non-null  float64\n",
      " 21  primary_cleaner.output.tail_au                      14149 non-null  float64\n",
      " 22  primary_cleaner.state.floatbank8_a_air              14145 non-null  float64\n",
      " 23  primary_cleaner.state.floatbank8_a_level            14148 non-null  float64\n",
      " 24  primary_cleaner.state.floatbank8_b_air              14145 non-null  float64\n",
      " 25  primary_cleaner.state.floatbank8_b_level            14148 non-null  float64\n",
      " 26  primary_cleaner.state.floatbank8_c_air              14147 non-null  float64\n",
      " 27  primary_cleaner.state.floatbank8_c_level            14148 non-null  float64\n",
      " 28  primary_cleaner.state.floatbank8_d_air              14146 non-null  float64\n",
      " 29  primary_cleaner.state.floatbank8_d_level            14148 non-null  float64\n",
      " 30  rougher.calculation.sulfate_to_au_concentrate       14148 non-null  float64\n",
      " 31  rougher.calculation.floatbank10_sulfate_to_au_feed  14148 non-null  float64\n",
      " 32  rougher.calculation.floatbank11_sulfate_to_au_feed  14148 non-null  float64\n",
      " 33  rougher.calculation.au_pb_ratio                     14149 non-null  float64\n",
      " 34  rougher.input.feed_ag                               14149 non-null  float64\n",
      " 35  rougher.input.feed_pb                               14049 non-null  float64\n",
      " 36  rougher.input.feed_rate                             14141 non-null  float64\n",
      " 37  rougher.input.feed_size                             14005 non-null  float64\n",
      " 38  rougher.input.feed_sol                              14071 non-null  float64\n",
      " 39  rougher.input.feed_au                               14149 non-null  float64\n",
      " 40  rougher.input.floatbank10_sulfate                   14120 non-null  float64\n",
      " 41  rougher.input.floatbank10_xanthate                  14141 non-null  float64\n",
      " 42  rougher.input.floatbank11_sulfate                   14113 non-null  float64\n",
      " 43  rougher.input.floatbank11_xanthate                  13721 non-null  float64\n",
      " 44  rougher.output.concentrate_ag                       14149 non-null  float64\n",
      " 45  rougher.output.concentrate_pb                       14149 non-null  float64\n",
      " 46  rougher.output.concentrate_sol                      14127 non-null  float64\n",
      " 47  rougher.output.concentrate_au                       14149 non-null  float64\n",
      " 48  rougher.output.recovery                             14149 non-null  float64\n",
      " 49  rougher.output.tail_ag                              14148 non-null  float64\n",
      " 50  rougher.output.tail_pb                              14149 non-null  float64\n",
      " 51  rougher.output.tail_sol                             14149 non-null  float64\n",
      " 52  rougher.output.tail_au                              14149 non-null  float64\n",
      " 53  rougher.state.floatbank10_a_air                     14148 non-null  float64\n",
      " 54  rougher.state.floatbank10_a_level                   14148 non-null  float64\n",
      " 55  rougher.state.floatbank10_b_air                     14148 non-null  float64\n",
      " 56  rougher.state.floatbank10_b_level                   14148 non-null  float64\n",
      " 57  rougher.state.floatbank10_c_air                     14148 non-null  float64\n",
      " 58  rougher.state.floatbank10_c_level                   14148 non-null  float64\n",
      " 59  rougher.state.floatbank10_d_air                     14149 non-null  float64\n",
      " 60  rougher.state.floatbank10_d_level                   14149 non-null  float64\n",
      " 61  rougher.state.floatbank10_e_air                     13713 non-null  float64\n",
      " 62  rougher.state.floatbank10_e_level                   14149 non-null  float64\n",
      " 63  rougher.state.floatbank10_f_air                     14149 non-null  float64\n",
      " 64  rougher.state.floatbank10_f_level                   14149 non-null  float64\n",
      " 65  secondary_cleaner.output.tail_ag                    14147 non-null  float64\n",
      " 66  secondary_cleaner.output.tail_pb                    14139 non-null  float64\n",
      " 67  secondary_cleaner.output.tail_sol                   12544 non-null  float64\n",
      " 68  secondary_cleaner.output.tail_au                    14149 non-null  float64\n",
      " 69  secondary_cleaner.state.floatbank2_a_air            13932 non-null  float64\n",
      " 70  secondary_cleaner.state.floatbank2_a_level          14148 non-null  float64\n",
      " 71  secondary_cleaner.state.floatbank2_b_air            14128 non-null  float64\n",
      " 72  secondary_cleaner.state.floatbank2_b_level          14148 non-null  float64\n",
      " 73  secondary_cleaner.state.floatbank3_a_air            14145 non-null  float64\n",
      " 74  secondary_cleaner.state.floatbank3_a_level          14148 non-null  float64\n",
      " 75  secondary_cleaner.state.floatbank3_b_air            14148 non-null  float64\n",
      " 76  secondary_cleaner.state.floatbank3_b_level          14148 non-null  float64\n",
      " 77  secondary_cleaner.state.floatbank4_a_air            14143 non-null  float64\n",
      " 78  secondary_cleaner.state.floatbank4_a_level          14148 non-null  float64\n",
      " 79  secondary_cleaner.state.floatbank4_b_air            14148 non-null  float64\n",
      " 80  secondary_cleaner.state.floatbank4_b_level          14148 non-null  float64\n",
      " 81  secondary_cleaner.state.floatbank5_a_air            14148 non-null  float64\n",
      " 82  secondary_cleaner.state.floatbank5_a_level          14148 non-null  float64\n",
      " 83  secondary_cleaner.state.floatbank5_b_air            14148 non-null  float64\n",
      " 84  secondary_cleaner.state.floatbank5_b_level          14148 non-null  float64\n",
      " 85  secondary_cleaner.state.floatbank6_a_air            14147 non-null  float64\n",
      " 86  secondary_cleaner.state.floatbank6_a_level          14148 non-null  float64\n",
      "dtypes: float64(86), object(1)\n",
      "memory usage: 9.4+ MB\n"
     ]
    },
    {
     "data": {
      "text/plain": [
       "None"
      ]
     },
     "metadata": {},
     "output_type": "display_data"
    },
    {
     "name": "stdout",
     "output_type": "stream",
     "text": [
      "df_test\n",
      "<class 'pandas.core.frame.DataFrame'>\n",
      "RangeIndex: 5290 entries, 0 to 5289\n",
      "Data columns (total 53 columns):\n",
      " #   Column                                      Non-Null Count  Dtype  \n",
      "---  ------                                      --------------  -----  \n",
      " 0   date                                        5290 non-null   object \n",
      " 1   primary_cleaner.input.sulfate               5286 non-null   float64\n",
      " 2   primary_cleaner.input.depressant            5285 non-null   float64\n",
      " 3   primary_cleaner.input.feed_size             5290 non-null   float64\n",
      " 4   primary_cleaner.input.xanthate              5286 non-null   float64\n",
      " 5   primary_cleaner.state.floatbank8_a_air      5290 non-null   float64\n",
      " 6   primary_cleaner.state.floatbank8_a_level    5290 non-null   float64\n",
      " 7   primary_cleaner.state.floatbank8_b_air      5290 non-null   float64\n",
      " 8   primary_cleaner.state.floatbank8_b_level    5290 non-null   float64\n",
      " 9   primary_cleaner.state.floatbank8_c_air      5290 non-null   float64\n",
      " 10  primary_cleaner.state.floatbank8_c_level    5290 non-null   float64\n",
      " 11  primary_cleaner.state.floatbank8_d_air      5290 non-null   float64\n",
      " 12  primary_cleaner.state.floatbank8_d_level    5290 non-null   float64\n",
      " 13  rougher.input.feed_ag                       5290 non-null   float64\n",
      " 14  rougher.input.feed_pb                       5290 non-null   float64\n",
      " 15  rougher.input.feed_rate                     5287 non-null   float64\n",
      " 16  rougher.input.feed_size                     5289 non-null   float64\n",
      " 17  rougher.input.feed_sol                      5269 non-null   float64\n",
      " 18  rougher.input.feed_au                       5290 non-null   float64\n",
      " 19  rougher.input.floatbank10_sulfate           5285 non-null   float64\n",
      " 20  rougher.input.floatbank10_xanthate          5290 non-null   float64\n",
      " 21  rougher.input.floatbank11_sulfate           5282 non-null   float64\n",
      " 22  rougher.input.floatbank11_xanthate          5265 non-null   float64\n",
      " 23  rougher.state.floatbank10_a_air             5290 non-null   float64\n",
      " 24  rougher.state.floatbank10_a_level           5290 non-null   float64\n",
      " 25  rougher.state.floatbank10_b_air             5290 non-null   float64\n",
      " 26  rougher.state.floatbank10_b_level           5290 non-null   float64\n",
      " 27  rougher.state.floatbank10_c_air             5290 non-null   float64\n",
      " 28  rougher.state.floatbank10_c_level           5290 non-null   float64\n",
      " 29  rougher.state.floatbank10_d_air             5290 non-null   float64\n",
      " 30  rougher.state.floatbank10_d_level           5290 non-null   float64\n",
      " 31  rougher.state.floatbank10_e_air             5290 non-null   float64\n",
      " 32  rougher.state.floatbank10_e_level           5290 non-null   float64\n",
      " 33  rougher.state.floatbank10_f_air             5290 non-null   float64\n",
      " 34  rougher.state.floatbank10_f_level           5290 non-null   float64\n",
      " 35  secondary_cleaner.state.floatbank2_a_air    5287 non-null   float64\n",
      " 36  secondary_cleaner.state.floatbank2_a_level  5290 non-null   float64\n",
      " 37  secondary_cleaner.state.floatbank2_b_air    5288 non-null   float64\n",
      " 38  secondary_cleaner.state.floatbank2_b_level  5290 non-null   float64\n",
      " 39  secondary_cleaner.state.floatbank3_a_air    5281 non-null   float64\n",
      " 40  secondary_cleaner.state.floatbank3_a_level  5290 non-null   float64\n",
      " 41  secondary_cleaner.state.floatbank3_b_air    5290 non-null   float64\n",
      " 42  secondary_cleaner.state.floatbank3_b_level  5290 non-null   float64\n",
      " 43  secondary_cleaner.state.floatbank4_a_air    5290 non-null   float64\n",
      " 44  secondary_cleaner.state.floatbank4_a_level  5290 non-null   float64\n",
      " 45  secondary_cleaner.state.floatbank4_b_air    5290 non-null   float64\n",
      " 46  secondary_cleaner.state.floatbank4_b_level  5290 non-null   float64\n",
      " 47  secondary_cleaner.state.floatbank5_a_air    5290 non-null   float64\n",
      " 48  secondary_cleaner.state.floatbank5_a_level  5290 non-null   float64\n",
      " 49  secondary_cleaner.state.floatbank5_b_air    5290 non-null   float64\n",
      " 50  secondary_cleaner.state.floatbank5_b_level  5290 non-null   float64\n",
      " 51  secondary_cleaner.state.floatbank6_a_air    5290 non-null   float64\n",
      " 52  secondary_cleaner.state.floatbank6_a_level  5290 non-null   float64\n",
      "dtypes: float64(52), object(1)\n",
      "memory usage: 2.1+ MB\n"
     ]
    },
    {
     "data": {
      "text/plain": [
       "None"
      ]
     },
     "metadata": {},
     "output_type": "display_data"
    },
    {
     "name": "stdout",
     "output_type": "stream",
     "text": [
      "df_full\n",
      "<class 'pandas.core.frame.DataFrame'>\n",
      "RangeIndex: 19439 entries, 0 to 19438\n",
      "Data columns (total 87 columns):\n",
      " #   Column                                              Non-Null Count  Dtype  \n",
      "---  ------                                              --------------  -----  \n",
      " 0   date                                                19439 non-null  object \n",
      " 1   final.output.concentrate_ag                         19438 non-null  float64\n",
      " 2   final.output.concentrate_pb                         19438 non-null  float64\n",
      " 3   final.output.concentrate_sol                        19228 non-null  float64\n",
      " 4   final.output.concentrate_au                         19439 non-null  float64\n",
      " 5   final.output.recovery                               19439 non-null  float64\n",
      " 6   final.output.tail_ag                                19438 non-null  float64\n",
      " 7   final.output.tail_pb                                19338 non-null  float64\n",
      " 8   final.output.tail_sol                               19433 non-null  float64\n",
      " 9   final.output.tail_au                                19439 non-null  float64\n",
      " 10  primary_cleaner.input.sulfate                       19415 non-null  float64\n",
      " 11  primary_cleaner.input.depressant                    19402 non-null  float64\n",
      " 12  primary_cleaner.input.feed_size                     19439 non-null  float64\n",
      " 13  primary_cleaner.input.xanthate                      19335 non-null  float64\n",
      " 14  primary_cleaner.output.concentrate_ag               19439 non-null  float64\n",
      " 15  primary_cleaner.output.concentrate_pb               19323 non-null  float64\n",
      " 16  primary_cleaner.output.concentrate_sol              19069 non-null  float64\n",
      " 17  primary_cleaner.output.concentrate_au               19439 non-null  float64\n",
      " 18  primary_cleaner.output.tail_ag                      19435 non-null  float64\n",
      " 19  primary_cleaner.output.tail_pb                      19418 non-null  float64\n",
      " 20  primary_cleaner.output.tail_sol                     19377 non-null  float64\n",
      " 21  primary_cleaner.output.tail_au                      19439 non-null  float64\n",
      " 22  primary_cleaner.state.floatbank8_a_air              19435 non-null  float64\n",
      " 23  primary_cleaner.state.floatbank8_a_level            19438 non-null  float64\n",
      " 24  primary_cleaner.state.floatbank8_b_air              19435 non-null  float64\n",
      " 25  primary_cleaner.state.floatbank8_b_level            19438 non-null  float64\n",
      " 26  primary_cleaner.state.floatbank8_c_air              19437 non-null  float64\n",
      " 27  primary_cleaner.state.floatbank8_c_level            19438 non-null  float64\n",
      " 28  primary_cleaner.state.floatbank8_d_air              19436 non-null  float64\n",
      " 29  primary_cleaner.state.floatbank8_d_level            19438 non-null  float64\n",
      " 30  rougher.calculation.sulfate_to_au_concentrate       19437 non-null  float64\n",
      " 31  rougher.calculation.floatbank10_sulfate_to_au_feed  19437 non-null  float64\n",
      " 32  rougher.calculation.floatbank11_sulfate_to_au_feed  19437 non-null  float64\n",
      " 33  rougher.calculation.au_pb_ratio                     19439 non-null  float64\n",
      " 34  rougher.input.feed_ag                               19439 non-null  float64\n",
      " 35  rougher.input.feed_pb                               19339 non-null  float64\n",
      " 36  rougher.input.feed_rate                             19428 non-null  float64\n",
      " 37  rougher.input.feed_size                             19294 non-null  float64\n",
      " 38  rougher.input.feed_sol                              19340 non-null  float64\n",
      " 39  rougher.input.feed_au                               19439 non-null  float64\n",
      " 40  rougher.input.floatbank10_sulfate                   19405 non-null  float64\n",
      " 41  rougher.input.floatbank10_xanthate                  19431 non-null  float64\n",
      " 42  rougher.input.floatbank11_sulfate                   19395 non-null  float64\n",
      " 43  rougher.input.floatbank11_xanthate                  18986 non-null  float64\n",
      " 44  rougher.output.concentrate_ag                       19439 non-null  float64\n",
      " 45  rougher.output.concentrate_pb                       19439 non-null  float64\n",
      " 46  rougher.output.concentrate_sol                      19416 non-null  float64\n",
      " 47  rougher.output.concentrate_au                       19439 non-null  float64\n",
      " 48  rougher.output.recovery                             19439 non-null  float64\n",
      " 49  rougher.output.tail_ag                              19438 non-null  float64\n",
      " 50  rougher.output.tail_pb                              19439 non-null  float64\n",
      " 51  rougher.output.tail_sol                             19439 non-null  float64\n",
      " 52  rougher.output.tail_au                              19439 non-null  float64\n",
      " 53  rougher.state.floatbank10_a_air                     19438 non-null  float64\n",
      " 54  rougher.state.floatbank10_a_level                   19438 non-null  float64\n",
      " 55  rougher.state.floatbank10_b_air                     19438 non-null  float64\n",
      " 56  rougher.state.floatbank10_b_level                   19438 non-null  float64\n",
      " 57  rougher.state.floatbank10_c_air                     19438 non-null  float64\n",
      " 58  rougher.state.floatbank10_c_level                   19438 non-null  float64\n",
      " 59  rougher.state.floatbank10_d_air                     19439 non-null  float64\n",
      " 60  rougher.state.floatbank10_d_level                   19439 non-null  float64\n",
      " 61  rougher.state.floatbank10_e_air                     19003 non-null  float64\n",
      " 62  rougher.state.floatbank10_e_level                   19439 non-null  float64\n",
      " 63  rougher.state.floatbank10_f_air                     19439 non-null  float64\n",
      " 64  rougher.state.floatbank10_f_level                   19439 non-null  float64\n",
      " 65  secondary_cleaner.output.tail_ag                    19437 non-null  float64\n",
      " 66  secondary_cleaner.output.tail_pb                    19427 non-null  float64\n",
      " 67  secondary_cleaner.output.tail_sol                   17691 non-null  float64\n",
      " 68  secondary_cleaner.output.tail_au                    19439 non-null  float64\n",
      " 69  secondary_cleaner.state.floatbank2_a_air            19219 non-null  float64\n",
      " 70  secondary_cleaner.state.floatbank2_a_level          19438 non-null  float64\n",
      " 71  secondary_cleaner.state.floatbank2_b_air            19416 non-null  float64\n",
      " 72  secondary_cleaner.state.floatbank2_b_level          19438 non-null  float64\n",
      " 73  secondary_cleaner.state.floatbank3_a_air            19426 non-null  float64\n",
      " 74  secondary_cleaner.state.floatbank3_a_level          19438 non-null  float64\n",
      " 75  secondary_cleaner.state.floatbank3_b_air            19438 non-null  float64\n",
      " 76  secondary_cleaner.state.floatbank3_b_level          19438 non-null  float64\n",
      " 77  secondary_cleaner.state.floatbank4_a_air            19433 non-null  float64\n",
      " 78  secondary_cleaner.state.floatbank4_a_level          19438 non-null  float64\n",
      " 79  secondary_cleaner.state.floatbank4_b_air            19438 non-null  float64\n",
      " 80  secondary_cleaner.state.floatbank4_b_level          19438 non-null  float64\n",
      " 81  secondary_cleaner.state.floatbank5_a_air            19438 non-null  float64\n",
      " 82  secondary_cleaner.state.floatbank5_a_level          19438 non-null  float64\n",
      " 83  secondary_cleaner.state.floatbank5_b_air            19438 non-null  float64\n",
      " 84  secondary_cleaner.state.floatbank5_b_level          19438 non-null  float64\n",
      " 85  secondary_cleaner.state.floatbank6_a_air            19437 non-null  float64\n",
      " 86  secondary_cleaner.state.floatbank6_a_level          19438 non-null  float64\n",
      "dtypes: float64(86), object(1)\n",
      "memory usage: 12.9+ MB\n"
     ]
    },
    {
     "data": {
      "text/plain": [
       "None"
      ]
     },
     "metadata": {},
     "output_type": "display_data"
    }
   ],
   "source": [
    "print('df_train')\n",
    "display(df_train.info())\n",
    "print('df_test')\n",
    "display(df_test.info())\n",
    "print('df_full')\n",
    "display(df_full.info())"
   ]
  },
  {
   "cell_type": "code",
   "execution_count": 8,
   "metadata": {
    "scrolled": true
   },
   "outputs": [
    {
     "data": {
      "text/plain": [
       "date                                          0.000000\n",
       "final.output.concentrate_ag                   0.000071\n",
       "final.output.concentrate_pb                   0.000071\n",
       "final.output.concentrate_sol                  0.014913\n",
       "final.output.concentrate_au                   0.000000\n",
       "                                                ...   \n",
       "secondary_cleaner.state.floatbank5_a_level    0.000071\n",
       "secondary_cleaner.state.floatbank5_b_air      0.000071\n",
       "secondary_cleaner.state.floatbank5_b_level    0.000071\n",
       "secondary_cleaner.state.floatbank6_a_air      0.000141\n",
       "secondary_cleaner.state.floatbank6_a_level    0.000071\n",
       "Length: 87, dtype: float64"
      ]
     },
     "metadata": {},
     "output_type": "display_data"
    },
    {
     "data": {
      "text/plain": [
       "date                                          0.000000\n",
       "primary_cleaner.input.sulfate                 0.000756\n",
       "primary_cleaner.input.depressant              0.000945\n",
       "primary_cleaner.input.feed_size               0.000000\n",
       "primary_cleaner.input.xanthate                0.000756\n",
       "primary_cleaner.state.floatbank8_a_air        0.000000\n",
       "primary_cleaner.state.floatbank8_a_level      0.000000\n",
       "primary_cleaner.state.floatbank8_b_air        0.000000\n",
       "primary_cleaner.state.floatbank8_b_level      0.000000\n",
       "primary_cleaner.state.floatbank8_c_air        0.000000\n",
       "primary_cleaner.state.floatbank8_c_level      0.000000\n",
       "primary_cleaner.state.floatbank8_d_air        0.000000\n",
       "primary_cleaner.state.floatbank8_d_level      0.000000\n",
       "rougher.input.feed_ag                         0.000000\n",
       "rougher.input.feed_pb                         0.000000\n",
       "rougher.input.feed_rate                       0.000567\n",
       "rougher.input.feed_size                       0.000189\n",
       "rougher.input.feed_sol                        0.003970\n",
       "rougher.input.feed_au                         0.000000\n",
       "rougher.input.floatbank10_sulfate             0.000945\n",
       "rougher.input.floatbank10_xanthate            0.000000\n",
       "rougher.input.floatbank11_sulfate             0.001512\n",
       "rougher.input.floatbank11_xanthate            0.004726\n",
       "rougher.state.floatbank10_a_air               0.000000\n",
       "rougher.state.floatbank10_a_level             0.000000\n",
       "rougher.state.floatbank10_b_air               0.000000\n",
       "rougher.state.floatbank10_b_level             0.000000\n",
       "rougher.state.floatbank10_c_air               0.000000\n",
       "rougher.state.floatbank10_c_level             0.000000\n",
       "rougher.state.floatbank10_d_air               0.000000\n",
       "rougher.state.floatbank10_d_level             0.000000\n",
       "rougher.state.floatbank10_e_air               0.000000\n",
       "rougher.state.floatbank10_e_level             0.000000\n",
       "rougher.state.floatbank10_f_air               0.000000\n",
       "rougher.state.floatbank10_f_level             0.000000\n",
       "secondary_cleaner.state.floatbank2_a_air      0.000567\n",
       "secondary_cleaner.state.floatbank2_a_level    0.000000\n",
       "secondary_cleaner.state.floatbank2_b_air      0.000378\n",
       "secondary_cleaner.state.floatbank2_b_level    0.000000\n",
       "secondary_cleaner.state.floatbank3_a_air      0.001701\n",
       "secondary_cleaner.state.floatbank3_a_level    0.000000\n",
       "secondary_cleaner.state.floatbank3_b_air      0.000000\n",
       "secondary_cleaner.state.floatbank3_b_level    0.000000\n",
       "secondary_cleaner.state.floatbank4_a_air      0.000000\n",
       "secondary_cleaner.state.floatbank4_a_level    0.000000\n",
       "secondary_cleaner.state.floatbank4_b_air      0.000000\n",
       "secondary_cleaner.state.floatbank4_b_level    0.000000\n",
       "secondary_cleaner.state.floatbank5_a_air      0.000000\n",
       "secondary_cleaner.state.floatbank5_a_level    0.000000\n",
       "secondary_cleaner.state.floatbank5_b_air      0.000000\n",
       "secondary_cleaner.state.floatbank5_b_level    0.000000\n",
       "secondary_cleaner.state.floatbank6_a_air      0.000000\n",
       "secondary_cleaner.state.floatbank6_a_level    0.000000\n",
       "dtype: float64"
      ]
     },
     "metadata": {},
     "output_type": "display_data"
    },
    {
     "data": {
      "text/plain": [
       "date                                          0.000000\n",
       "final.output.concentrate_ag                   0.000051\n",
       "final.output.concentrate_pb                   0.000051\n",
       "final.output.concentrate_sol                  0.010854\n",
       "final.output.concentrate_au                   0.000000\n",
       "                                                ...   \n",
       "secondary_cleaner.state.floatbank5_a_level    0.000051\n",
       "secondary_cleaner.state.floatbank5_b_air      0.000051\n",
       "secondary_cleaner.state.floatbank5_b_level    0.000051\n",
       "secondary_cleaner.state.floatbank6_a_air      0.000103\n",
       "secondary_cleaner.state.floatbank6_a_level    0.000051\n",
       "Length: 87, dtype: float64"
      ]
     },
     "metadata": {},
     "output_type": "display_data"
    }
   ],
   "source": [
    "display(df_train.isnull().mean())\n",
    "display(df_test.isnull().mean())\n",
    "display(df_full.isnull().mean())"
   ]
  },
  {
   "cell_type": "markdown",
   "metadata": {},
   "source": [
    "### Расчет эффективности обогащения"
   ]
  },
  {
   "cell_type": "code",
   "execution_count": 9,
   "metadata": {},
   "outputs": [],
   "source": [
    "def recovery(row):\n",
    "    c = row['rougher.output.concentrate_au']\n",
    "    f = row['rougher.input.feed_au']\n",
    "    t = row['rougher.output.tail_au']\n",
    "    \n",
    "    result = ((c * (f - t)) / (f * (c - t))) * 100\n",
    "    \n",
    "    return result"
   ]
  },
  {
   "cell_type": "code",
   "execution_count": 10,
   "metadata": {},
   "outputs": [],
   "source": [
    "recovery_calc = df_train.apply(recovery, axis=1)"
   ]
  },
  {
   "cell_type": "code",
   "execution_count": 11,
   "metadata": {
    "scrolled": true
   },
   "outputs": [
    {
     "data": {
      "text/plain": [
       "0        87.107763\n",
       "1        86.843261\n",
       "2        86.842308\n",
       "3        87.226430\n",
       "4        86.688794\n",
       "           ...    \n",
       "14144    89.574376\n",
       "14145    87.724007\n",
       "14146    88.890579\n",
       "14147    89.858126\n",
       "14148    89.514960\n",
       "Length: 14149, dtype: float64"
      ]
     },
     "execution_count": 11,
     "metadata": {},
     "output_type": "execute_result"
    }
   ],
   "source": [
    "recovery_calc"
   ]
  },
  {
   "cell_type": "code",
   "execution_count": 12,
   "metadata": {},
   "outputs": [],
   "source": [
    "recovery_true = df_train['rougher.output.recovery']"
   ]
  },
  {
   "cell_type": "code",
   "execution_count": 13,
   "metadata": {},
   "outputs": [
    {
     "data": {
      "text/plain": [
       "0        87.107763\n",
       "1        86.843261\n",
       "2        86.842308\n",
       "3        87.226430\n",
       "4        86.688794\n",
       "           ...    \n",
       "14144    89.574376\n",
       "14145    87.724007\n",
       "14146    88.890579\n",
       "14147    89.858126\n",
       "14148    89.514960\n",
       "Name: rougher.output.recovery, Length: 14149, dtype: float64"
      ]
     },
     "execution_count": 13,
     "metadata": {},
     "output_type": "execute_result"
    }
   ],
   "source": [
    "recovery_true"
   ]
  },
  {
   "cell_type": "code",
   "execution_count": 14,
   "metadata": {},
   "outputs": [
    {
     "data": {
      "text/plain": [
       "9.73512347450521e-15"
      ]
     },
     "execution_count": 14,
     "metadata": {},
     "output_type": "execute_result"
    }
   ],
   "source": [
    "mae(y_true=recovery_true, y_pred=recovery_calc)"
   ]
  },
  {
   "cell_type": "markdown",
   "metadata": {},
   "source": [
    "**Вывод** \n",
    "\n",
    "Если смотреть \"глазами\" и сравнивать значения, то вычисления совпадают, но не должна ли MAE в таком случае выдавать ноль?\n",
    "\n",
    "Может в df_train есть пропущенные значения, а в расчетах нет, поэтому значение больше нуля. А не проверить ли"
   ]
  },
  {
   "cell_type": "code",
   "execution_count": 15,
   "metadata": {},
   "outputs": [],
   "source": [
    "df_testing = df_train.dropna()"
   ]
  },
  {
   "cell_type": "code",
   "execution_count": 16,
   "metadata": {},
   "outputs": [],
   "source": [
    "recovery_calc_testing = df_testing.apply(recovery, axis=1)"
   ]
  },
  {
   "cell_type": "code",
   "execution_count": 17,
   "metadata": {},
   "outputs": [],
   "source": [
    "recovery_true_testing = df_testing['rougher.output.recovery']"
   ]
  },
  {
   "cell_type": "code",
   "execution_count": 18,
   "metadata": {},
   "outputs": [
    {
     "data": {
      "text/plain": [
       "9.82970122149377e-15"
      ]
     },
     "execution_count": 18,
     "metadata": {},
     "output_type": "execute_result"
    }
   ],
   "source": [
    "mae(recovery_true_testing, recovery_calc_testing)"
   ]
  },
  {
   "cell_type": "markdown",
   "metadata": {},
   "source": [
    "Видимо дело было не в этом. Значит в датасете изначально расчеты были не верны "
   ]
  },
  {
   "cell_type": "code",
   "execution_count": 19,
   "metadata": {
    "scrolled": true
   },
   "outputs": [
    {
     "name": "stdout",
     "output_type": "stream",
     "text": [
      "<class 'pandas.core.frame.DataFrame'>\n",
      "RangeIndex: 5290 entries, 0 to 5289\n",
      "Data columns (total 53 columns):\n",
      " #   Column                                      Non-Null Count  Dtype  \n",
      "---  ------                                      --------------  -----  \n",
      " 0   date                                        5290 non-null   object \n",
      " 1   primary_cleaner.input.sulfate               5286 non-null   float64\n",
      " 2   primary_cleaner.input.depressant            5285 non-null   float64\n",
      " 3   primary_cleaner.input.feed_size             5290 non-null   float64\n",
      " 4   primary_cleaner.input.xanthate              5286 non-null   float64\n",
      " 5   primary_cleaner.state.floatbank8_a_air      5290 non-null   float64\n",
      " 6   primary_cleaner.state.floatbank8_a_level    5290 non-null   float64\n",
      " 7   primary_cleaner.state.floatbank8_b_air      5290 non-null   float64\n",
      " 8   primary_cleaner.state.floatbank8_b_level    5290 non-null   float64\n",
      " 9   primary_cleaner.state.floatbank8_c_air      5290 non-null   float64\n",
      " 10  primary_cleaner.state.floatbank8_c_level    5290 non-null   float64\n",
      " 11  primary_cleaner.state.floatbank8_d_air      5290 non-null   float64\n",
      " 12  primary_cleaner.state.floatbank8_d_level    5290 non-null   float64\n",
      " 13  rougher.input.feed_ag                       5290 non-null   float64\n",
      " 14  rougher.input.feed_pb                       5290 non-null   float64\n",
      " 15  rougher.input.feed_rate                     5287 non-null   float64\n",
      " 16  rougher.input.feed_size                     5289 non-null   float64\n",
      " 17  rougher.input.feed_sol                      5269 non-null   float64\n",
      " 18  rougher.input.feed_au                       5290 non-null   float64\n",
      " 19  rougher.input.floatbank10_sulfate           5285 non-null   float64\n",
      " 20  rougher.input.floatbank10_xanthate          5290 non-null   float64\n",
      " 21  rougher.input.floatbank11_sulfate           5282 non-null   float64\n",
      " 22  rougher.input.floatbank11_xanthate          5265 non-null   float64\n",
      " 23  rougher.state.floatbank10_a_air             5290 non-null   float64\n",
      " 24  rougher.state.floatbank10_a_level           5290 non-null   float64\n",
      " 25  rougher.state.floatbank10_b_air             5290 non-null   float64\n",
      " 26  rougher.state.floatbank10_b_level           5290 non-null   float64\n",
      " 27  rougher.state.floatbank10_c_air             5290 non-null   float64\n",
      " 28  rougher.state.floatbank10_c_level           5290 non-null   float64\n",
      " 29  rougher.state.floatbank10_d_air             5290 non-null   float64\n",
      " 30  rougher.state.floatbank10_d_level           5290 non-null   float64\n",
      " 31  rougher.state.floatbank10_e_air             5290 non-null   float64\n",
      " 32  rougher.state.floatbank10_e_level           5290 non-null   float64\n",
      " 33  rougher.state.floatbank10_f_air             5290 non-null   float64\n",
      " 34  rougher.state.floatbank10_f_level           5290 non-null   float64\n",
      " 35  secondary_cleaner.state.floatbank2_a_air    5287 non-null   float64\n",
      " 36  secondary_cleaner.state.floatbank2_a_level  5290 non-null   float64\n",
      " 37  secondary_cleaner.state.floatbank2_b_air    5288 non-null   float64\n",
      " 38  secondary_cleaner.state.floatbank2_b_level  5290 non-null   float64\n",
      " 39  secondary_cleaner.state.floatbank3_a_air    5281 non-null   float64\n",
      " 40  secondary_cleaner.state.floatbank3_a_level  5290 non-null   float64\n",
      " 41  secondary_cleaner.state.floatbank3_b_air    5290 non-null   float64\n",
      " 42  secondary_cleaner.state.floatbank3_b_level  5290 non-null   float64\n",
      " 43  secondary_cleaner.state.floatbank4_a_air    5290 non-null   float64\n",
      " 44  secondary_cleaner.state.floatbank4_a_level  5290 non-null   float64\n",
      " 45  secondary_cleaner.state.floatbank4_b_air    5290 non-null   float64\n",
      " 46  secondary_cleaner.state.floatbank4_b_level  5290 non-null   float64\n",
      " 47  secondary_cleaner.state.floatbank5_a_air    5290 non-null   float64\n",
      " 48  secondary_cleaner.state.floatbank5_a_level  5290 non-null   float64\n",
      " 49  secondary_cleaner.state.floatbank5_b_air    5290 non-null   float64\n",
      " 50  secondary_cleaner.state.floatbank5_b_level  5290 non-null   float64\n",
      " 51  secondary_cleaner.state.floatbank6_a_air    5290 non-null   float64\n",
      " 52  secondary_cleaner.state.floatbank6_a_level  5290 non-null   float64\n",
      "dtypes: float64(52), object(1)\n",
      "memory usage: 2.1+ MB\n"
     ]
    }
   ],
   "source": [
    "df_test.info()"
   ]
  },
  {
   "cell_type": "code",
   "execution_count": 20,
   "metadata": {
    "scrolled": true
   },
   "outputs": [
    {
     "name": "stdout",
     "output_type": "stream",
     "text": [
      "<class 'pandas.core.frame.DataFrame'>\n",
      "RangeIndex: 19439 entries, 0 to 19438\n",
      "Data columns (total 87 columns):\n",
      " #   Column                                              Non-Null Count  Dtype  \n",
      "---  ------                                              --------------  -----  \n",
      " 0   date                                                19439 non-null  object \n",
      " 1   final.output.concentrate_ag                         19438 non-null  float64\n",
      " 2   final.output.concentrate_pb                         19438 non-null  float64\n",
      " 3   final.output.concentrate_sol                        19228 non-null  float64\n",
      " 4   final.output.concentrate_au                         19439 non-null  float64\n",
      " 5   final.output.recovery                               19439 non-null  float64\n",
      " 6   final.output.tail_ag                                19438 non-null  float64\n",
      " 7   final.output.tail_pb                                19338 non-null  float64\n",
      " 8   final.output.tail_sol                               19433 non-null  float64\n",
      " 9   final.output.tail_au                                19439 non-null  float64\n",
      " 10  primary_cleaner.input.sulfate                       19415 non-null  float64\n",
      " 11  primary_cleaner.input.depressant                    19402 non-null  float64\n",
      " 12  primary_cleaner.input.feed_size                     19439 non-null  float64\n",
      " 13  primary_cleaner.input.xanthate                      19335 non-null  float64\n",
      " 14  primary_cleaner.output.concentrate_ag               19439 non-null  float64\n",
      " 15  primary_cleaner.output.concentrate_pb               19323 non-null  float64\n",
      " 16  primary_cleaner.output.concentrate_sol              19069 non-null  float64\n",
      " 17  primary_cleaner.output.concentrate_au               19439 non-null  float64\n",
      " 18  primary_cleaner.output.tail_ag                      19435 non-null  float64\n",
      " 19  primary_cleaner.output.tail_pb                      19418 non-null  float64\n",
      " 20  primary_cleaner.output.tail_sol                     19377 non-null  float64\n",
      " 21  primary_cleaner.output.tail_au                      19439 non-null  float64\n",
      " 22  primary_cleaner.state.floatbank8_a_air              19435 non-null  float64\n",
      " 23  primary_cleaner.state.floatbank8_a_level            19438 non-null  float64\n",
      " 24  primary_cleaner.state.floatbank8_b_air              19435 non-null  float64\n",
      " 25  primary_cleaner.state.floatbank8_b_level            19438 non-null  float64\n",
      " 26  primary_cleaner.state.floatbank8_c_air              19437 non-null  float64\n",
      " 27  primary_cleaner.state.floatbank8_c_level            19438 non-null  float64\n",
      " 28  primary_cleaner.state.floatbank8_d_air              19436 non-null  float64\n",
      " 29  primary_cleaner.state.floatbank8_d_level            19438 non-null  float64\n",
      " 30  rougher.calculation.sulfate_to_au_concentrate       19437 non-null  float64\n",
      " 31  rougher.calculation.floatbank10_sulfate_to_au_feed  19437 non-null  float64\n",
      " 32  rougher.calculation.floatbank11_sulfate_to_au_feed  19437 non-null  float64\n",
      " 33  rougher.calculation.au_pb_ratio                     19439 non-null  float64\n",
      " 34  rougher.input.feed_ag                               19439 non-null  float64\n",
      " 35  rougher.input.feed_pb                               19339 non-null  float64\n",
      " 36  rougher.input.feed_rate                             19428 non-null  float64\n",
      " 37  rougher.input.feed_size                             19294 non-null  float64\n",
      " 38  rougher.input.feed_sol                              19340 non-null  float64\n",
      " 39  rougher.input.feed_au                               19439 non-null  float64\n",
      " 40  rougher.input.floatbank10_sulfate                   19405 non-null  float64\n",
      " 41  rougher.input.floatbank10_xanthate                  19431 non-null  float64\n",
      " 42  rougher.input.floatbank11_sulfate                   19395 non-null  float64\n",
      " 43  rougher.input.floatbank11_xanthate                  18986 non-null  float64\n",
      " 44  rougher.output.concentrate_ag                       19439 non-null  float64\n",
      " 45  rougher.output.concentrate_pb                       19439 non-null  float64\n",
      " 46  rougher.output.concentrate_sol                      19416 non-null  float64\n",
      " 47  rougher.output.concentrate_au                       19439 non-null  float64\n",
      " 48  rougher.output.recovery                             19439 non-null  float64\n",
      " 49  rougher.output.tail_ag                              19438 non-null  float64\n",
      " 50  rougher.output.tail_pb                              19439 non-null  float64\n",
      " 51  rougher.output.tail_sol                             19439 non-null  float64\n",
      " 52  rougher.output.tail_au                              19439 non-null  float64\n",
      " 53  rougher.state.floatbank10_a_air                     19438 non-null  float64\n",
      " 54  rougher.state.floatbank10_a_level                   19438 non-null  float64\n",
      " 55  rougher.state.floatbank10_b_air                     19438 non-null  float64\n",
      " 56  rougher.state.floatbank10_b_level                   19438 non-null  float64\n",
      " 57  rougher.state.floatbank10_c_air                     19438 non-null  float64\n",
      " 58  rougher.state.floatbank10_c_level                   19438 non-null  float64\n",
      " 59  rougher.state.floatbank10_d_air                     19439 non-null  float64\n",
      " 60  rougher.state.floatbank10_d_level                   19439 non-null  float64\n",
      " 61  rougher.state.floatbank10_e_air                     19003 non-null  float64\n",
      " 62  rougher.state.floatbank10_e_level                   19439 non-null  float64\n",
      " 63  rougher.state.floatbank10_f_air                     19439 non-null  float64\n",
      " 64  rougher.state.floatbank10_f_level                   19439 non-null  float64\n",
      " 65  secondary_cleaner.output.tail_ag                    19437 non-null  float64\n",
      " 66  secondary_cleaner.output.tail_pb                    19427 non-null  float64\n",
      " 67  secondary_cleaner.output.tail_sol                   17691 non-null  float64\n",
      " 68  secondary_cleaner.output.tail_au                    19439 non-null  float64\n",
      " 69  secondary_cleaner.state.floatbank2_a_air            19219 non-null  float64\n",
      " 70  secondary_cleaner.state.floatbank2_a_level          19438 non-null  float64\n",
      " 71  secondary_cleaner.state.floatbank2_b_air            19416 non-null  float64\n",
      " 72  secondary_cleaner.state.floatbank2_b_level          19438 non-null  float64\n",
      " 73  secondary_cleaner.state.floatbank3_a_air            19426 non-null  float64\n",
      " 74  secondary_cleaner.state.floatbank3_a_level          19438 non-null  float64\n",
      " 75  secondary_cleaner.state.floatbank3_b_air            19438 non-null  float64\n",
      " 76  secondary_cleaner.state.floatbank3_b_level          19438 non-null  float64\n",
      " 77  secondary_cleaner.state.floatbank4_a_air            19433 non-null  float64\n",
      " 78  secondary_cleaner.state.floatbank4_a_level          19438 non-null  float64\n",
      " 79  secondary_cleaner.state.floatbank4_b_air            19438 non-null  float64\n",
      " 80  secondary_cleaner.state.floatbank4_b_level          19438 non-null  float64\n",
      " 81  secondary_cleaner.state.floatbank5_a_air            19438 non-null  float64\n",
      " 82  secondary_cleaner.state.floatbank5_a_level          19438 non-null  float64\n",
      " 83  secondary_cleaner.state.floatbank5_b_air            19438 non-null  float64\n",
      " 84  secondary_cleaner.state.floatbank5_b_level          19438 non-null  float64\n",
      " 85  secondary_cleaner.state.floatbank6_a_air            19437 non-null  float64\n",
      " 86  secondary_cleaner.state.floatbank6_a_level          19438 non-null  float64\n",
      "dtypes: float64(86), object(1)\n",
      "memory usage: 12.9+ MB\n"
     ]
    }
   ],
   "source": [
    "df_full.info()"
   ]
  },
  {
   "cell_type": "markdown",
   "metadata": {},
   "source": [
    "**Вывод** \n",
    "\n",
    "В тестовой выборке отсутствуют параметры `output`(параметры продукта) и `calculation`(расчётные характеристики)"
   ]
  },
  {
   "cell_type": "markdown",
   "metadata": {},
   "source": [
    "### Предобработка данных "
   ]
  },
  {
   "cell_type": "code",
   "execution_count": 21,
   "metadata": {},
   "outputs": [],
   "source": [
    "df_test = df_test.fillna(method='ffill')\n",
    "df_train = df_train.fillna(method='ffill')\n",
    "df_full = df_full.fillna(method='ffill')"
   ]
  },
  {
   "cell_type": "code",
   "execution_count": 22,
   "metadata": {},
   "outputs": [],
   "source": [
    "df_test = df_test.set_index('date')\n",
    "df_train = df_train.set_index('date')\n",
    "df_full = df_full.set_index('date')"
   ]
  },
  {
   "cell_type": "code",
   "execution_count": 23,
   "metadata": {},
   "outputs": [],
   "source": [
    "rougher_recovery_test = pd.Series(df_full['rougher.output.recovery'], index=df_test.index)\n",
    "final_recovery_test = pd.Series(df_full['final.output.recovery'], index=df_test.index)\n",
    "\n",
    "df_test['rougher.output.recovery'] = rougher_recovery_test\n",
    "df_test['final.output.recovery'] = final_recovery_test"
   ]
  },
  {
   "cell_type": "markdown",
   "metadata": {},
   "source": [
    "**Вывод**\n",
    "\n",
    "* Так-как данные которые находятся рядом(по времени) не сильно отличаются, то решил заполнить пропуски значениями из соседних строк  \n",
    "\n",
    "* Добавил в тестовую выборку целевые признаки \n",
    "\n"
   ]
  },
  {
   "cell_type": "markdown",
   "metadata": {},
   "source": [
    "## Анализ данных"
   ]
  },
  {
   "cell_type": "code",
   "execution_count": 24,
   "metadata": {
    "scrolled": true
   },
   "outputs": [
    {
     "data": {
      "image/png": "[encoded data removed]",
      "text/plain": [
       "<Figure size 432x288 with 1 Axes>"
      ]
     },
     "metadata": {
      "needs_background": "light"
     },
     "output_type": "display_data"
    }
   ],
   "source": [
    "rougher_au = df_full['rougher.output.concentrate_au']\n",
    "plt.hist(rougher_au,  bins=50, alpha=0.7)\n",
    "\n",
    "prime_clean_au = df_full['primary_cleaner.output.concentrate_au']\n",
    "plt.hist(prime_clean_au,  bins=50, alpha=0.8)\n",
    "\n",
    "final_au = df_full['final.output.concentrate_au']\n",
    "plt.hist(final_au, bins=50, alpha=0.9)\n",
    "plt.title('Au')\n",
    "plt.legend(['Rougher', 'Prime Cleaner', 'Final'])\n",
    "plt.show()"
   ]
  },
  {
   "cell_type": "markdown",
   "metadata": {},
   "source": [
    "**Вывод**\n",
    "\n",
    "Концетрация золота увеличивается на каждом этапе отчистки"
   ]
  },
  {
   "cell_type": "code",
   "execution_count": 25,
   "metadata": {
    "scrolled": true
   },
   "outputs": [
    {
     "data": {
      "image/png": "[encoded data removed]",
      "text/plain": [
       "<Figure size 432x288 with 1 Axes>"
      ]
     },
     "metadata": {
      "needs_background": "light"
     },
     "output_type": "display_data"
    }
   ],
   "source": [
    "rougher_ag = df_full['rougher.output.concentrate_ag']\n",
    "prime_clean_ag = df_full['primary_cleaner.output.concentrate_ag']\n",
    "final_ag = df_full['final.output.concentrate_ag']\n",
    "plt.hist([rougher_ag, prime_clean_ag, final_ag], bins=50)\n",
    "plt.title('Ag')\n",
    "plt.legend(['Rougher', 'Prime Cleaner', 'Final'])\n",
    "plt.show()"
   ]
  },
  {
   "cell_type": "markdown",
   "metadata": {},
   "source": [
    "**Вывод**\n",
    "\n",
    "Концетрация серебра падает переходя с флотации на первичную отчистку и примерно такая же на финальной отчистке "
   ]
  },
  {
   "cell_type": "code",
   "execution_count": 26,
   "metadata": {
    "scrolled": true
   },
   "outputs": [
    {
     "data": {
      "image/png": "[encoded data removed]",
      "text/plain": [
       "<Figure size 432x288 with 1 Axes>"
      ]
     },
     "metadata": {
      "needs_background": "light"
     },
     "output_type": "display_data"
    }
   ],
   "source": [
    "rougher_pb = df_full['rougher.output.concentrate_pb']\n",
    "prime_clean_pb = df_full['primary_cleaner.output.concentrate_pb']\n",
    "final_pb = df_full['final.output.concentrate_pb']\n",
    "\n",
    "plt.hist([rougher_pb, prime_clean_pb, final_pb], bins=50, alpha=0.7)\n",
    "plt.title('Pb')\n",
    "plt.legend(['Rougher', 'Prime Cleaner', 'Final'])\n",
    "plt.show()"
   ]
  },
  {
   "cell_type": "markdown",
   "metadata": {},
   "source": [
    "**Вывод**\n",
    "\n",
    "Концетрация свинца переходя с флотации на первичную отчистку возрастает и остается примерно такой же на финальной отчистке"
   ]
  },
  {
   "cell_type": "markdown",
   "metadata": {},
   "source": [
    "### Сравнение распределения размеров гранул сырья на обучающей и тестовой выборке "
   ]
  },
  {
   "cell_type": "code",
   "execution_count": 27,
   "metadata": {
    "scrolled": true
   },
   "outputs": [
    {
     "data": {
      "image/png": "[encoded data removed]",
      "text/plain": [
       "<Figure size 432x288 with 1 Axes>"
      ]
     },
     "metadata": {
      "needs_background": "light"
     },
     "output_type": "display_data"
    }
   ],
   "source": [
    "feed_size_train = df_train['rougher.input.feed_size']\n",
    "feed_size_test = df_test['rougher.input.feed_size']\n",
    "\n",
    "plt.hist([feed_size_train, feed_size_test], density=True, bins=50, alpha=0.7)\n",
    "plt.title('Destribution')\n",
    "plt.legend(['Train', 'Test'])\n",
    "plt.xlim(0, 200)\n",
    "plt.show()\n"
   ]
  },
  {
   "cell_type": "markdown",
   "metadata": {},
   "source": [
    "**Вывод** \n",
    "\n",
    "Распределение на двух выборка примерно одинаковое "
   ]
  },
  {
   "cell_type": "markdown",
   "metadata": {},
   "source": [
    "### Суммарная концетрация всех веществ на разных стадиях"
   ]
  },
  {
   "cell_type": "code",
   "execution_count": 28,
   "metadata": {},
   "outputs": [],
   "source": [
    "rougher = (df_full[['rougher.output.concentrate_au', \n",
    "                    'rougher.output.concentrate_pb', \n",
    "                    'rougher.output.concentrate_sol', \n",
    "                    'rougher.output.concentrate_ag']])\n",
    "\n",
    "prime_clean = df_full[['primary_cleaner.output.concentrate_au',\n",
    "                      'primary_cleaner.output.concentrate_pb',\n",
    "                      'primary_cleaner.output.concentrate_sol',\n",
    "                      'primary_cleaner.output.concentrate_ag']]\n",
    "\n",
    "final = df_full[['final.output.concentrate_au',\n",
    "                'final.output.concentrate_pb',\n",
    "                'final.output.concentrate_sol',\n",
    "                'final.output.concentrate_ag']]"
   ]
  },
  {
   "cell_type": "code",
   "execution_count": 29,
   "metadata": {},
   "outputs": [],
   "source": [
    "rougher = rougher.apply(sum, axis=1)\n",
    "prime = prime_clean.apply(sum, axis=1)\n",
    "final = final.apply(sum, axis=1)\n"
   ]
  },
  {
   "cell_type": "code",
   "execution_count": 30,
   "metadata": {},
   "outputs": [
    {
     "data": {
      "image/png": "[encoded data removed]",
      "text/plain": [
       "<Figure size 432x288 with 1 Axes>"
      ]
     },
     "metadata": {
      "needs_background": "light"
     },
     "output_type": "display_data"
    }
   ],
   "source": [
    "plt.hist([rougher, prime, final], bins=30, alpha=.7)\n",
    "plt.legend(['Rougher', 'Prime Cleaner', 'Final'])\n",
    "plt.show()"
   ]
  },
  {
   "cell_type": "markdown",
   "metadata": {},
   "source": [
    "## Модель"
   ]
  },
  {
   "cell_type": "code",
   "execution_count": 31,
   "metadata": {},
   "outputs": [],
   "source": [
    "def smape(a, f):\n",
    "    smape = 1/len(a) * np.sum(2 * np.abs(f-a) / (np.abs(a) + np.abs(f)) * 100)\n",
    "    final_smape = 0.25 * smape[0] + 0.75 * smape[1]\n",
    "    return final_smape"
   ]
  },
  {
   "cell_type": "code",
   "execution_count": 32,
   "metadata": {},
   "outputs": [],
   "source": [
    "smape_score = make_scorer(smape, greater_is_better=False)"
   ]
  },
  {
   "cell_type": "code",
   "execution_count": 33,
   "metadata": {
    "scrolled": true
   },
   "outputs": [
    {
     "name": "stdout",
     "output_type": "stream",
     "text": [
      "<class 'pandas.core.frame.DataFrame'>\n",
      "Index: 14149 entries, 2016-01-15 00:00:00 to 2018-08-18 10:59:59\n",
      "Data columns (total 86 columns):\n",
      " #   Column                                              Non-Null Count  Dtype  \n",
      "---  ------                                              --------------  -----  \n",
      " 0   final.output.concentrate_ag                         14149 non-null  float64\n",
      " 1   final.output.concentrate_pb                         14149 non-null  float64\n",
      " 2   final.output.concentrate_sol                        14149 non-null  float64\n",
      " 3   final.output.concentrate_au                         14149 non-null  float64\n",
      " 4   final.output.recovery                               14149 non-null  float64\n",
      " 5   final.output.tail_ag                                14149 non-null  float64\n",
      " 6   final.output.tail_pb                                14149 non-null  float64\n",
      " 7   final.output.tail_sol                               14149 non-null  float64\n",
      " 8   final.output.tail_au                                14149 non-null  float64\n",
      " 9   primary_cleaner.input.sulfate                       14149 non-null  float64\n",
      " 10  primary_cleaner.input.depressant                    14149 non-null  float64\n",
      " 11  primary_cleaner.input.feed_size                     14149 non-null  float64\n",
      " 12  primary_cleaner.input.xanthate                      14149 non-null  float64\n",
      " 13  primary_cleaner.output.concentrate_ag               14149 non-null  float64\n",
      " 14  primary_cleaner.output.concentrate_pb               14149 non-null  float64\n",
      " 15  primary_cleaner.output.concentrate_sol              14149 non-null  float64\n",
      " 16  primary_cleaner.output.concentrate_au               14149 non-null  float64\n",
      " 17  primary_cleaner.output.tail_ag                      14149 non-null  float64\n",
      " 18  primary_cleaner.output.tail_pb                      14149 non-null  float64\n",
      " 19  primary_cleaner.output.tail_sol                     14149 non-null  float64\n",
      " 20  primary_cleaner.output.tail_au                      14149 non-null  float64\n",
      " 21  primary_cleaner.state.floatbank8_a_air              14149 non-null  float64\n",
      " 22  primary_cleaner.state.floatbank8_a_level            14149 non-null  float64\n",
      " 23  primary_cleaner.state.floatbank8_b_air              14149 non-null  float64\n",
      " 24  primary_cleaner.state.floatbank8_b_level            14149 non-null  float64\n",
      " 25  primary_cleaner.state.floatbank8_c_air              14149 non-null  float64\n",
      " 26  primary_cleaner.state.floatbank8_c_level            14149 non-null  float64\n",
      " 27  primary_cleaner.state.floatbank8_d_air              14149 non-null  float64\n",
      " 28  primary_cleaner.state.floatbank8_d_level            14149 non-null  float64\n",
      " 29  rougher.calculation.sulfate_to_au_concentrate       14149 non-null  float64\n",
      " 30  rougher.calculation.floatbank10_sulfate_to_au_feed  14149 non-null  float64\n",
      " 31  rougher.calculation.floatbank11_sulfate_to_au_feed  14149 non-null  float64\n",
      " 32  rougher.calculation.au_pb_ratio                     14149 non-null  float64\n",
      " 33  rougher.input.feed_ag                               14149 non-null  float64\n",
      " 34  rougher.input.feed_pb                               14149 non-null  float64\n",
      " 35  rougher.input.feed_rate                             14149 non-null  float64\n",
      " 36  rougher.input.feed_size                             14149 non-null  float64\n",
      " 37  rougher.input.feed_sol                              14149 non-null  float64\n",
      " 38  rougher.input.feed_au                               14149 non-null  float64\n",
      " 39  rougher.input.floatbank10_sulfate                   14149 non-null  float64\n",
      " 40  rougher.input.floatbank10_xanthate                  14149 non-null  float64\n",
      " 41  rougher.input.floatbank11_sulfate                   14149 non-null  float64\n",
      " 42  rougher.input.floatbank11_xanthate                  14149 non-null  float64\n",
      " 43  rougher.output.concentrate_ag                       14149 non-null  float64\n",
      " 44  rougher.output.concentrate_pb                       14149 non-null  float64\n",
      " 45  rougher.output.concentrate_sol                      14149 non-null  float64\n",
      " 46  rougher.output.concentrate_au                       14149 non-null  float64\n",
      " 47  rougher.output.recovery                             14149 non-null  float64\n",
      " 48  rougher.output.tail_ag                              14149 non-null  float64\n",
      " 49  rougher.output.tail_pb                              14149 non-null  float64\n",
      " 50  rougher.output.tail_sol                             14149 non-null  float64\n",
      " 51  rougher.output.tail_au                              14149 non-null  float64\n",
      " 52  rougher.state.floatbank10_a_air                     14149 non-null  float64\n",
      " 53  rougher.state.floatbank10_a_level                   14149 non-null  float64\n",
      " 54  rougher.state.floatbank10_b_air                     14149 non-null  float64\n",
      " 55  rougher.state.floatbank10_b_level                   14149 non-null  float64\n",
      " 56  rougher.state.floatbank10_c_air                     14149 non-null  float64\n",
      " 57  rougher.state.floatbank10_c_level                   14149 non-null  float64\n",
      " 58  rougher.state.floatbank10_d_air                     14149 non-null  float64\n",
      " 59  rougher.state.floatbank10_d_level                   14149 non-null  float64\n",
      " 60  rougher.state.floatbank10_e_air                     14149 non-null  float64\n",
      " 61  rougher.state.floatbank10_e_level                   14149 non-null  float64\n",
      " 62  rougher.state.floatbank10_f_air                     14149 non-null  float64\n",
      " 63  rougher.state.floatbank10_f_level                   14149 non-null  float64\n",
      " 64  secondary_cleaner.output.tail_ag                    14149 non-null  float64\n",
      " 65  secondary_cleaner.output.tail_pb                    14149 non-null  float64\n",
      " 66  secondary_cleaner.output.tail_sol                   14149 non-null  float64\n",
      " 67  secondary_cleaner.output.tail_au                    14149 non-null  float64\n",
      " 68  secondary_cleaner.state.floatbank2_a_air            14149 non-null  float64\n",
      " 69  secondary_cleaner.state.floatbank2_a_level          14149 non-null  float64\n",
      " 70  secondary_cleaner.state.floatbank2_b_air            14149 non-null  float64\n",
      " 71  secondary_cleaner.state.floatbank2_b_level          14149 non-null  float64\n",
      " 72  secondary_cleaner.state.floatbank3_a_air            14149 non-null  float64\n",
      " 73  secondary_cleaner.state.floatbank3_a_level          14149 non-null  float64\n",
      " 74  secondary_cleaner.state.floatbank3_b_air            14149 non-null  float64\n",
      " 75  secondary_cleaner.state.floatbank3_b_level          14149 non-null  float64\n",
      " 76  secondary_cleaner.state.floatbank4_a_air            14149 non-null  float64\n",
      " 77  secondary_cleaner.state.floatbank4_a_level          14149 non-null  float64\n",
      " 78  secondary_cleaner.state.floatbank4_b_air            14149 non-null  float64\n",
      " 79  secondary_cleaner.state.floatbank4_b_level          14149 non-null  float64\n",
      " 80  secondary_cleaner.state.floatbank5_a_air            14149 non-null  float64\n",
      " 81  secondary_cleaner.state.floatbank5_a_level          14149 non-null  float64\n",
      " 82  secondary_cleaner.state.floatbank5_b_air            14149 non-null  float64\n",
      " 83  secondary_cleaner.state.floatbank5_b_level          14149 non-null  float64\n",
      " 84  secondary_cleaner.state.floatbank6_a_air            14149 non-null  float64\n",
      " 85  secondary_cleaner.state.floatbank6_a_level          14149 non-null  float64\n",
      "dtypes: float64(86)\n",
      "memory usage: 9.4+ MB\n"
     ]
    }
   ],
   "source": [
    "df_train.info()"
   ]
  },
  {
   "cell_type": "code",
   "execution_count": 34,
   "metadata": {},
   "outputs": [],
   "source": [
    "features = df_train.drop(['rougher.output.recovery', 'final.output.recovery'], axis=1)\n",
    "target = df_train[['rougher.output.recovery', 'final.output.recovery']]"
   ]
  },
  {
   "cell_type": "code",
   "execution_count": 35,
   "metadata": {},
   "outputs": [],
   "source": [
    "features_train, features_valid, target_train, target_valid = train_test_split(\n",
    "    features, target, test_size=0.20, random_state=12345\n",
    ")"
   ]
  },
  {
   "cell_type": "markdown",
   "metadata": {},
   "source": [
    "### DecisionTreeRegressor"
   ]
  },
  {
   "cell_type": "code",
   "execution_count": 36,
   "metadata": {},
   "outputs": [
    {
     "data": {
      "text/plain": [
       "GridSearchCV(cv=5, estimator=DecisionTreeRegressor(random_state=12345),\n",
       "             param_grid={'max_depth': [1, 2, 3, 4, 5, 6, 7, 8, 9, 10, 11, 12,\n",
       "                                       13, 14, 15, 16, 17, 18, 19]},\n",
       "             scoring=make_scorer(smape, greater_is_better=False))"
      ]
     },
     "execution_count": 36,
     "metadata": {},
     "output_type": "execute_result"
    }
   ],
   "source": [
    "grid_tree = {\n",
    "    'max_depth': list(range(1, 20))\n",
    "}\n",
    "\n",
    "model_dtr = DecisionTreeRegressor(random_state=12345)\n",
    "\n",
    "grid_search = GridSearchCV(model_dtr, grid_tree, cv=5, scoring=smape_score)\n",
    "\n",
    "grid_search.fit(features_train, target_train)\n",
    "\n"
   ]
  },
  {
   "cell_type": "code",
   "execution_count": 37,
   "metadata": {},
   "outputs": [
    {
     "data": {
      "text/plain": [
       "{'max_depth': 18}"
      ]
     },
     "execution_count": 37,
     "metadata": {},
     "output_type": "execute_result"
    }
   ],
   "source": [
    "grid_search.best_params_"
   ]
  },
  {
   "cell_type": "code",
   "execution_count": 38,
   "metadata": {},
   "outputs": [],
   "source": [
    "model_dtr = DecisionTreeRegressor(random_state=12345, max_depth=18)\n",
    "model_dtr.fit(features_train, target_train)\n",
    "predicted_dtr = model_dtr.predict(features_valid)"
   ]
  },
  {
   "cell_type": "code",
   "execution_count": 39,
   "metadata": {},
   "outputs": [
    {
     "data": {
      "text/plain": [
       "2.6393106843244203"
      ]
     },
     "execution_count": 39,
     "metadata": {},
     "output_type": "execute_result"
    }
   ],
   "source": [
    "smape(target_valid, predicted_dtr)\n"
   ]
  },
  {
   "cell_type": "code",
   "execution_count": 40,
   "metadata": {
    "scrolled": true
   },
   "outputs": [
    {
     "name": "stdout",
     "output_type": "stream",
     "text": [
      "0.7012566763256516\n"
     ]
    }
   ],
   "source": [
    "\n",
    "score_dtr = cross_val_score(model_dtr, features, target)\n",
    "print(sum(score_dtr) / len(score_dtr))"
   ]
  },
  {
   "cell_type": "markdown",
   "metadata": {},
   "source": [
    "### RandomForestRegressor"
   ]
  },
  {
   "cell_type": "code",
   "execution_count": 41,
   "metadata": {},
   "outputs": [],
   "source": [
    "#grid_forest = {'n_estimators': list(range(1, 11, 2)),\n",
    "              \n",
    "#              'max_depth': list(range(1, 11, 2))}\n",
    "#model_rfr = RandomForestRegressor(random_state=12345)\n",
    "\n",
    "#grid_search = GridSearchCV(model_rfr, grid_forest, cv=5, scoring=smape_score)\n",
    "\n",
    "#grid_search.fit(features_train, target_train)"
   ]
  },
  {
   "cell_type": "code",
   "execution_count": 42,
   "metadata": {},
   "outputs": [],
   "source": [
    "#grid_search.best_params_"
   ]
  },
  {
   "cell_type": "code",
   "execution_count": 43,
   "metadata": {
    "scrolled": true
   },
   "outputs": [
    {
     "name": "stdout",
     "output_type": "stream",
     "text": [
      "est: 50 max_depth: 10 SMAPE: 3.0792673006316553\n"
     ]
    }
   ],
   "source": [
    "%%time\n",
    "best_smape = 0\n",
    "best_est = 0\n",
    "best_depth = 0\n",
    "\n",
    "\n",
    "for est in range(10, 51, 10):\n",
    "    for depth in range(1, 11):\n",
    "        model = RandomForestRegressor(random_state=12345, n_estimators=est, max_depth=depth)\n",
    "        model.fit(features_train, target_train)\n",
    "        predictions_valid = model.predict(features_valid)\n",
    "        smape_rfr = smape(target_valid, predictions_valid)\n",
    "        if smape_rfr < best_smape:\n",
    "            best_smape = smape_rfr\n",
    "            best_est = est\n",
    "            best_depth = depth\n",
    "        \n",
    "print('est:', est, 'max_depth:', depth, 'SMAPE:', smape_rfr)    "
   ]
  },
  {
   "cell_type": "markdown",
   "metadata": {},
   "source": [
    "### LinearRegression "
   ]
  },
  {
   "cell_type": "code",
   "execution_count": 44,
   "metadata": {},
   "outputs": [],
   "source": [
    "model_lreg = LinearRegression()\n",
    "model_lreg.fit(features_train, target_train)\n",
    "predicted_lreg = model_lreg.predict(features_valid)"
   ]
  },
  {
   "cell_type": "code",
   "execution_count": 45,
   "metadata": {},
   "outputs": [],
   "source": [
    "smape_lreg = smape(target_valid, predicted_lreg)"
   ]
  },
  {
   "cell_type": "code",
   "execution_count": 46,
   "metadata": {},
   "outputs": [
    {
     "name": "stdout",
     "output_type": "stream",
     "text": [
      "Final sMAPE: 4.642843825575602\n",
      "\n",
      "[-5.68270836 -5.40862852 -8.44645366 -7.54842327 -5.61390862]\n"
     ]
    }
   ],
   "source": [
    "print('Final sMAPE:', smape_lreg)\n",
    "\n",
    "print()\n",
    "\n",
    "score_lreg = cross_val_score(model_lreg, features, target, scoring=smape_score)\n",
    "print(score_lreg)"
   ]
  },
  {
   "cell_type": "markdown",
   "metadata": {},
   "source": [
    "**Общий вывод**\n",
    "\n",
    "Модель случайного леса показывает лучшие результаты "
   ]
  },
  {
   "cell_type": "markdown",
   "metadata": {},
   "source": [
    "### Проверка модели на тестовой выборке "
   ]
  },
  {
   "cell_type": "code",
   "execution_count": 47,
   "metadata": {
    "scrolled": true
   },
   "outputs": [],
   "source": [
    "features_train_test = features_train[df_test.columns.drop(['final.output.recovery', 'rougher.output.recovery'])]"
   ]
  },
  {
   "cell_type": "markdown",
   "metadata": {},
   "source": [
    "**Питон ругался что кол-во колонок не совпадает. Я додумался только до такого решения. Либо я не правильно понял задачу и надо обучить модель так же на тестовой выборке** "
   ]
  },
  {
   "cell_type": "code",
   "execution_count": 48,
   "metadata": {},
   "outputs": [],
   "source": [
    "target_test = df_test[['rougher.output.recovery', 'final.output.recovery']]"
   ]
  },
  {
   "cell_type": "code",
   "execution_count": 49,
   "metadata": {},
   "outputs": [
    {
     "data": {
      "text/plain": [
       "(5290, 2)"
      ]
     },
     "execution_count": 49,
     "metadata": {},
     "output_type": "execute_result"
    }
   ],
   "source": [
    "target_test.shape"
   ]
  },
  {
   "cell_type": "code",
   "execution_count": 50,
   "metadata": {},
   "outputs": [
    {
     "data": {
      "text/plain": [
       "(11319, 52)"
      ]
     },
     "execution_count": 50,
     "metadata": {},
     "output_type": "execute_result"
    }
   ],
   "source": [
    "features_train_test.shape"
   ]
  },
  {
   "cell_type": "code",
   "execution_count": 51,
   "metadata": {
    "scrolled": false
   },
   "outputs": [
    {
     "data": {
      "text/plain": [
       "RandomForestRegressor(max_depth=10, n_estimators=30, random_state=12345)"
      ]
     },
     "execution_count": 51,
     "metadata": {},
     "output_type": "execute_result"
    }
   ],
   "source": [
    "model_test = RandomForestRegressor(random_state=12345, n_estimators=30, max_depth=10)\n",
    "model_test.fit(features_train_test, target_train)"
   ]
  },
  {
   "cell_type": "code",
   "execution_count": 52,
   "metadata": {},
   "outputs": [],
   "source": [
    "features_test = df_test.drop(['final.output.recovery', 'rougher.output.recovery'], axis=1)"
   ]
  },
  {
   "cell_type": "code",
   "execution_count": 53,
   "metadata": {},
   "outputs": [],
   "source": [
    "predictions_test = model_test.predict(features_test)"
   ]
  },
  {
   "cell_type": "code",
   "execution_count": 54,
   "metadata": {
    "scrolled": false
   },
   "outputs": [
    {
     "name": "stdout",
     "output_type": "stream",
     "text": [
      "Final sMAPE: 10.028032578881785\n"
     ]
    }
   ],
   "source": [
    "smape_rfr_test = smape(target_test, predictions_test)\n",
    "\n",
    "print('Final sMAPE:', smape_rfr_test)\n"
   ]
  },
  {
   "cell_type": "markdown",
   "metadata": {},
   "source": [
    "## Общий вывод \n"
   ]
  },
  {
   "cell_type": "markdown",
   "metadata": {},
   "source": [
    "**Подготовка данных**\n",
    "* Заполнил пропуски в строках значениями из соседних строк. \n",
    "* Использвал столбец с датами как индекс. \n",
    "* Добавил в тестовую выборку целевые признаки из полного датасета. \n",
    "\n",
    "**Расчет эффективности обогащения** \n",
    "* Расчет в \"ручную\" показал, что изначальные значения в данных корректны. \n",
    "\n",
    "**Анализ данных** \n",
    "* Концетрация золота увеличивается на каждом этапе отчистки.\n",
    "* Концетрация серебра падает переходя с флотации на первичную отчистку и примерно такая же на финальной отчистке.\n",
    "* Концетрация свинца переходя с флотации на первичную отчистку возрастает и остается примерно такой же на финальной отчистке.\n",
    "\n",
    "**Сравнение распределения размеров гранул сырья на обучающей и тестовой выборке**\n",
    "* На тестовой и обучающей выборке распределение размеров гранул примерно одинаковое.\n",
    "\n",
    "**Суммарная концетрация всех веществ на разных стадиях**\n",
    "* Суммарная концетрация возрастает переходя с флотации до финальной отчистки.\n",
    "\n",
    "**Проверка и выбор моделей** \n",
    "* Выбрал для этого проекта модели дерева решений, случайного леса и ленейной регрессии. Из них лучшие результаты показывает модель случайного леса."
   ]
  },
  {
   "cell_type": "markdown",
   "metadata": {},
   "source": [
    "## Чек-лист готовности проекта"
   ]
  },
  {
   "cell_type": "markdown",
   "metadata": {},
   "source": [
    "- [x]  Jupyter Notebook открыт\n",
    "- [x]  Весь код выполняется без ошибок\n",
    "- [x]  Ячейки с кодом расположены в порядке выполнения\n",
    "- [x]  Выполнен шаг 1: данные подготовлены\n",
    "    - [x]  Проверена формула вычисления эффективности обогащения\n",
    "    - [x]  Проанализированы признаки, недоступные в тестовой выборке\n",
    "    - [x]  Проведена предобработка данных\n",
    "- [x]  Выполнен шаг 2: данные проанализированы\n",
    "    - [x]  Исследовано изменение концентрации элементов на каждом этапе\n",
    "    - [x]  Проанализированы распределения размеров гранул на обучающей и тестовой выборках\n",
    "    - [x]  Исследованы суммарные концентрации\n",
    "- [x]  Выполнен шаг 3: построена модель прогнозирования\n",
    "    - [x]  Написана функция для вычисления итогового *sMAPE*\n",
    "    - [x]  Обучено и проверено несколько моделей\n",
    "    - [x]  Выбрана лучшая модель, её качество проверено на тестовой выборке"
   ]
  }
 ],
 "metadata": {
  "ExecuteTimeLog": [
   {
    "duration": 756,
    "start_time": "2022-03-09T10:48:34.537Z"
   },
   {
    "duration": 891,
    "start_time": "2022-03-09T10:49:44.507Z"
   },
   {
    "duration": 44,
    "start_time": "2022-03-09T10:50:14.933Z"
   },
   {
    "duration": 37,
    "start_time": "2022-03-09T10:50:48.361Z"
   },
   {
    "duration": 41,
    "start_time": "2022-03-09T10:50:58.525Z"
   },
   {
    "duration": 36,
    "start_time": "2022-03-09T10:51:20.357Z"
   },
   {
    "duration": 35,
    "start_time": "2022-03-09T10:51:25.809Z"
   },
   {
    "duration": 8,
    "start_time": "2022-03-09T10:53:06.635Z"
   },
   {
    "duration": 588,
    "start_time": "2022-03-09T10:54:35.986Z"
   },
   {
    "duration": 66,
    "start_time": "2022-03-09T10:54:52.505Z"
   },
   {
    "duration": 856,
    "start_time": "2022-03-09T10:59:24.533Z"
   },
   {
    "duration": 102,
    "start_time": "2022-03-09T10:59:29.700Z"
   },
   {
    "duration": 28,
    "start_time": "2022-03-09T11:09:26.158Z"
   },
   {
    "duration": 114,
    "start_time": "2022-03-09T11:43:29.363Z"
   },
   {
    "duration": 7,
    "start_time": "2022-03-09T11:43:36.024Z"
   },
   {
    "duration": 24,
    "start_time": "2022-03-09T11:43:44.294Z"
   },
   {
    "duration": 4,
    "start_time": "2022-03-09T11:49:59.154Z"
   },
   {
    "duration": 753,
    "start_time": "2022-03-09T11:50:49.780Z"
   },
   {
    "duration": 7,
    "start_time": "2022-03-09T11:50:56.146Z"
   },
   {
    "duration": 134,
    "start_time": "2022-03-09T11:52:01.426Z"
   },
   {
    "duration": 5,
    "start_time": "2022-03-09T11:52:11.945Z"
   },
   {
    "duration": 699,
    "start_time": "2022-03-09T11:52:12.753Z"
   },
   {
    "duration": 7,
    "start_time": "2022-03-09T11:52:13.455Z"
   },
   {
    "duration": 4,
    "start_time": "2022-03-09T11:52:23.111Z"
   },
   {
    "duration": 728,
    "start_time": "2022-03-09T11:52:23.291Z"
   },
   {
    "duration": 6,
    "start_time": "2022-03-09T11:52:24.022Z"
   },
   {
    "duration": 4,
    "start_time": "2022-03-09T12:07:01.086Z"
   },
   {
    "duration": 754,
    "start_time": "2022-03-09T12:07:01.757Z"
   },
   {
    "duration": 7,
    "start_time": "2022-03-09T12:07:02.514Z"
   },
   {
    "duration": 5,
    "start_time": "2022-03-09T12:07:33.728Z"
   },
   {
    "duration": 644,
    "start_time": "2022-03-09T12:07:34.117Z"
   },
   {
    "duration": 7,
    "start_time": "2022-03-09T12:07:35.093Z"
   },
   {
    "duration": 5,
    "start_time": "2022-03-09T12:08:50.434Z"
   },
   {
    "duration": 674,
    "start_time": "2022-03-09T12:08:50.870Z"
   },
   {
    "duration": 8,
    "start_time": "2022-03-09T12:08:51.947Z"
   },
   {
    "duration": 8,
    "start_time": "2022-03-09T12:10:27.732Z"
   },
   {
    "duration": 4,
    "start_time": "2022-03-09T12:11:59.634Z"
   },
   {
    "duration": 560,
    "start_time": "2022-03-09T12:12:37.422Z"
   },
   {
    "duration": 362,
    "start_time": "2022-03-09T12:12:59.946Z"
   },
   {
    "duration": 335,
    "start_time": "2022-03-09T12:13:12.574Z"
   },
   {
    "duration": 3,
    "start_time": "2022-03-09T12:13:40.844Z"
   },
   {
    "duration": 343,
    "start_time": "2022-03-09T12:14:31.376Z"
   },
   {
    "duration": 1350,
    "start_time": "2022-03-09T12:14:36.117Z"
   },
   {
    "duration": 5,
    "start_time": "2022-03-09T12:14:44.742Z"
   },
   {
    "duration": 677,
    "start_time": "2022-03-09T12:14:46.924Z"
   },
   {
    "duration": 8,
    "start_time": "2022-03-09T12:14:52.746Z"
   },
   {
    "duration": 3,
    "start_time": "2022-03-09T12:14:55.527Z"
   },
   {
    "duration": 324,
    "start_time": "2022-03-09T12:14:56.996Z"
   },
   {
    "duration": 7,
    "start_time": "2022-03-09T12:15:06.798Z"
   },
   {
    "duration": 5,
    "start_time": "2022-03-09T12:15:22.860Z"
   },
   {
    "duration": 635,
    "start_time": "2022-03-09T12:15:23.213Z"
   },
   {
    "duration": 7,
    "start_time": "2022-03-09T12:15:23.850Z"
   },
   {
    "duration": 4,
    "start_time": "2022-03-09T12:15:28.458Z"
   },
   {
    "duration": 7,
    "start_time": "2022-03-09T12:15:28.746Z"
   },
   {
    "duration": 8,
    "start_time": "2022-03-09T12:15:29.803Z"
   },
   {
    "duration": 5,
    "start_time": "2022-03-09T12:37:51.656Z"
   },
   {
    "duration": 663,
    "start_time": "2022-03-09T12:37:51.984Z"
   },
   {
    "duration": 6,
    "start_time": "2022-03-09T12:37:52.650Z"
   },
   {
    "duration": 4,
    "start_time": "2022-03-09T12:37:53.549Z"
   },
   {
    "duration": 7,
    "start_time": "2022-03-09T12:37:54.021Z"
   },
   {
    "duration": 7,
    "start_time": "2022-03-09T12:38:03.074Z"
   },
   {
    "duration": 7,
    "start_time": "2022-03-09T12:38:19.903Z"
   },
   {
    "duration": 14,
    "start_time": "2022-03-09T12:43:12.294Z"
   },
   {
    "duration": 498,
    "start_time": "2022-03-09T12:43:39.834Z"
   },
   {
    "duration": 4,
    "start_time": "2022-03-09T12:43:54.269Z"
   },
   {
    "duration": 7,
    "start_time": "2022-03-09T12:44:09.182Z"
   },
   {
    "duration": 7,
    "start_time": "2022-03-09T12:47:23.738Z"
   },
   {
    "duration": 4,
    "start_time": "2022-03-09T12:47:50.410Z"
   },
   {
    "duration": 7,
    "start_time": "2022-03-09T12:47:57.545Z"
   },
   {
    "duration": 3,
    "start_time": "2022-03-09T12:48:04.194Z"
   },
   {
    "duration": 7,
    "start_time": "2022-03-09T12:48:04.471Z"
   },
   {
    "duration": 4,
    "start_time": "2022-03-09T12:48:09.362Z"
   },
   {
    "duration": 632,
    "start_time": "2022-03-09T12:48:09.626Z"
   },
   {
    "duration": 6,
    "start_time": "2022-03-09T12:48:10.260Z"
   },
   {
    "duration": 3,
    "start_time": "2022-03-09T12:48:10.278Z"
   },
   {
    "duration": 7,
    "start_time": "2022-03-09T12:48:12.512Z"
   },
   {
    "duration": 7,
    "start_time": "2022-03-09T12:48:13.485Z"
   },
   {
    "duration": 13,
    "start_time": "2022-03-09T12:48:18.659Z"
   },
   {
    "duration": 543,
    "start_time": "2022-03-09T12:48:19.059Z"
   },
   {
    "duration": 4,
    "start_time": "2022-03-09T12:48:19.605Z"
   },
   {
    "duration": 7,
    "start_time": "2022-03-09T12:48:19.724Z"
   },
   {
    "duration": 21,
    "start_time": "2022-03-09T12:49:02.356Z"
   },
   {
    "duration": 26,
    "start_time": "2022-03-09T12:49:18.416Z"
   },
   {
    "duration": 20,
    "start_time": "2022-03-09T12:51:38.944Z"
   },
   {
    "duration": 106,
    "start_time": "2022-03-09T12:58:05.582Z"
   },
   {
    "duration": 20,
    "start_time": "2022-03-09T12:58:08.624Z"
   },
   {
    "duration": 321,
    "start_time": "2022-03-09T13:05:59.462Z"
   },
   {
    "duration": 81,
    "start_time": "2022-03-09T13:06:36.989Z"
   },
   {
    "duration": 353,
    "start_time": "2022-03-09T13:06:51.898Z"
   },
   {
    "duration": 5,
    "start_time": "2022-03-09T13:06:53.967Z"
   },
   {
    "duration": 6,
    "start_time": "2022-03-09T13:07:17.529Z"
   },
   {
    "duration": 39988,
    "start_time": "2022-03-09T13:07:54.404Z"
   },
   {
    "duration": 185,
    "start_time": "2022-03-09T13:08:49.766Z"
   },
   {
    "duration": 355,
    "start_time": "2022-03-09T13:09:00.781Z"
   },
   {
    "duration": 34,
    "start_time": "2022-03-09T13:09:02.979Z"
   },
   {
    "duration": 34,
    "start_time": "2022-03-09T13:09:21.827Z"
   },
   {
    "duration": 10,
    "start_time": "2022-03-09T13:13:28.146Z"
   },
   {
    "duration": 52,
    "start_time": "2022-03-09T13:13:43.729Z"
   },
   {
    "duration": 53,
    "start_time": "2022-03-09T13:13:50.949Z"
   },
   {
    "duration": 49,
    "start_time": "2022-03-09T13:14:05.146Z"
   },
   {
    "duration": 47,
    "start_time": "2022-03-09T13:14:22.331Z"
   },
   {
    "duration": 9,
    "start_time": "2022-03-09T13:39:07.379Z"
   },
   {
    "duration": 12,
    "start_time": "2022-03-09T13:39:12.246Z"
   },
   {
    "duration": 9,
    "start_time": "2022-03-09T13:39:16.178Z"
   },
   {
    "duration": 69,
    "start_time": "2022-03-09T13:39:37.120Z"
   },
   {
    "duration": 10,
    "start_time": "2022-03-09T13:39:48.213Z"
   },
   {
    "duration": 71,
    "start_time": "2022-03-09T13:39:51.670Z"
   },
   {
    "duration": 7,
    "start_time": "2022-03-09T13:40:15.622Z"
   },
   {
    "duration": 31,
    "start_time": "2022-03-09T13:41:29.726Z"
   },
   {
    "duration": 28,
    "start_time": "2022-03-09T13:43:20.366Z"
   },
   {
    "duration": 8,
    "start_time": "2022-03-09T13:47:28.152Z"
   },
   {
    "duration": 500,
    "start_time": "2022-03-09T13:47:35.567Z"
   },
   {
    "duration": 293,
    "start_time": "2022-03-09T13:48:11.848Z"
   },
   {
    "duration": 332,
    "start_time": "2022-03-09T13:48:25.324Z"
   },
   {
    "duration": 5,
    "start_time": "2022-03-09T13:49:50.049Z"
   },
   {
    "duration": 8,
    "start_time": "2022-03-09T13:52:01.522Z"
   },
   {
    "duration": 7,
    "start_time": "2022-03-09T13:52:14.755Z"
   },
   {
    "duration": 349,
    "start_time": "2022-03-09T13:53:11.509Z"
   },
   {
    "duration": 5,
    "start_time": "2022-03-09T13:54:08.745Z"
   },
   {
    "duration": 341,
    "start_time": "2022-03-09T13:54:36.481Z"
   },
   {
    "duration": 320,
    "start_time": "2022-03-09T13:54:41.300Z"
   },
   {
    "duration": 643,
    "start_time": "2022-03-09T13:54:50.802Z"
   },
   {
    "duration": 306,
    "start_time": "2022-03-09T13:55:04.629Z"
   },
   {
    "duration": 372,
    "start_time": "2022-03-09T13:55:14.063Z"
   },
   {
    "duration": 292,
    "start_time": "2022-03-09T13:55:51.511Z"
   },
   {
    "duration": 289,
    "start_time": "2022-03-09T13:56:04.147Z"
   },
   {
    "duration": 308,
    "start_time": "2022-03-09T13:56:41.501Z"
   },
   {
    "duration": 307,
    "start_time": "2022-03-09T13:57:08.643Z"
   },
   {
    "duration": 314,
    "start_time": "2022-03-09T13:57:18.852Z"
   },
   {
    "duration": 315,
    "start_time": "2022-03-09T13:57:27.818Z"
   },
   {
    "duration": 304,
    "start_time": "2022-03-09T13:57:38.761Z"
   },
   {
    "duration": 599,
    "start_time": "2022-03-09T13:58:03.260Z"
   },
   {
    "duration": 334,
    "start_time": "2022-03-09T13:58:08.407Z"
   },
   {
    "duration": 424,
    "start_time": "2022-03-09T13:58:54.984Z"
   },
   {
    "duration": 332,
    "start_time": "2022-03-09T13:59:00.844Z"
   },
   {
    "duration": 335,
    "start_time": "2022-03-09T13:59:03.406Z"
   },
   {
    "duration": 812,
    "start_time": "2022-03-09T13:59:29.352Z"
   },
   {
    "duration": 375,
    "start_time": "2022-03-09T13:59:44.650Z"
   },
   {
    "duration": 561,
    "start_time": "2022-03-09T13:59:52.325Z"
   },
   {
    "duration": 8,
    "start_time": "2022-03-09T14:00:09.078Z"
   },
   {
    "duration": 317,
    "start_time": "2022-03-09T14:00:12.736Z"
   },
   {
    "duration": 398,
    "start_time": "2022-03-09T14:01:15.847Z"
   },
   {
    "duration": 736,
    "start_time": "2022-03-09T14:01:25.332Z"
   },
   {
    "duration": 480,
    "start_time": "2022-03-09T14:01:52.827Z"
   },
   {
    "duration": 401,
    "start_time": "2022-03-09T14:02:11.666Z"
   },
   {
    "duration": 914,
    "start_time": "2022-03-09T14:02:47.776Z"
   },
   {
    "duration": 372,
    "start_time": "2022-03-09T14:02:53.795Z"
   },
   {
    "duration": 382,
    "start_time": "2022-03-09T14:02:56.259Z"
   },
   {
    "duration": 781,
    "start_time": "2022-03-09T14:03:04.847Z"
   },
   {
    "duration": 391,
    "start_time": "2022-03-09T14:03:23.547Z"
   },
   {
    "duration": 779,
    "start_time": "2022-03-09T14:03:37.225Z"
   },
   {
    "duration": 375,
    "start_time": "2022-03-09T14:03:43.703Z"
   },
   {
    "duration": 329,
    "start_time": "2022-03-09T14:09:34.352Z"
   },
   {
    "duration": 649,
    "start_time": "2022-03-09T14:10:31.463Z"
   },
   {
    "duration": 311,
    "start_time": "2022-03-09T14:11:45.933Z"
   },
   {
    "duration": 925,
    "start_time": "2022-03-09T14:12:09.553Z"
   },
   {
    "duration": 372,
    "start_time": "2022-03-09T14:12:28.845Z"
   },
   {
    "duration": 20,
    "start_time": "2022-03-09T15:27:44.682Z"
   },
   {
    "duration": 23,
    "start_time": "2022-03-09T15:30:49.605Z"
   },
   {
    "duration": 4,
    "start_time": "2022-03-09T15:31:33.089Z"
   },
   {
    "duration": 347,
    "start_time": "2022-03-09T15:32:30.238Z"
   },
   {
    "duration": 471,
    "start_time": "2022-03-09T15:32:49.140Z"
   },
   {
    "duration": 347,
    "start_time": "2022-03-09T15:33:04.153Z"
   },
   {
    "duration": 340,
    "start_time": "2022-03-09T15:33:09.895Z"
   },
   {
    "duration": 7,
    "start_time": "2022-03-09T15:34:47.942Z"
   },
   {
    "duration": 363,
    "start_time": "2022-03-09T16:12:44.892Z"
   },
   {
    "duration": 122,
    "start_time": "2022-03-09T16:16:08.107Z"
   },
   {
    "duration": 21,
    "start_time": "2022-03-09T16:16:11.688Z"
   },
   {
    "duration": 12,
    "start_time": "2022-03-09T16:19:12.184Z"
   },
   {
    "duration": 19,
    "start_time": "2022-03-09T16:20:12.895Z"
   },
   {
    "duration": 22,
    "start_time": "2022-03-09T16:20:27.183Z"
   },
   {
    "duration": 18,
    "start_time": "2022-03-09T16:20:33.234Z"
   },
   {
    "duration": 21,
    "start_time": "2022-03-09T16:20:37.968Z"
   },
   {
    "duration": 9,
    "start_time": "2022-03-09T16:20:44.280Z"
   },
   {
    "duration": 9,
    "start_time": "2022-03-09T16:21:37.115Z"
   },
   {
    "duration": 9,
    "start_time": "2022-03-09T16:21:37.575Z"
   },
   {
    "duration": 10,
    "start_time": "2022-03-09T16:22:11.600Z"
   },
   {
    "duration": 11,
    "start_time": "2022-03-09T16:22:39.790Z"
   },
   {
    "duration": 9,
    "start_time": "2022-03-09T16:22:54.617Z"
   },
   {
    "duration": 4,
    "start_time": "2022-03-09T16:27:07.854Z"
   },
   {
    "duration": 4,
    "start_time": "2022-03-09T16:29:59.485Z"
   },
   {
    "duration": 12,
    "start_time": "2022-03-09T16:30:33.960Z"
   },
   {
    "duration": 7,
    "start_time": "2022-03-09T16:30:44.411Z"
   },
   {
    "duration": 75,
    "start_time": "2022-03-09T16:30:50.655Z"
   },
   {
    "duration": 5,
    "start_time": "2022-03-09T16:30:59.355Z"
   },
   {
    "duration": 8,
    "start_time": "2022-03-09T16:31:03.526Z"
   },
   {
    "duration": 12,
    "start_time": "2022-03-09T16:32:18.637Z"
   },
   {
    "duration": 10,
    "start_time": "2022-03-09T16:32:27.722Z"
   },
   {
    "duration": 4,
    "start_time": "2022-03-09T16:32:56.557Z"
   },
   {
    "duration": 3,
    "start_time": "2022-03-09T16:34:58.278Z"
   },
   {
    "duration": 105,
    "start_time": "2022-03-09T16:34:58.605Z"
   },
   {
    "duration": 446,
    "start_time": "2022-03-09T16:37:40.397Z"
   },
   {
    "duration": 336,
    "start_time": "2022-03-09T16:37:42.804Z"
   },
   {
    "duration": -119,
    "start_time": "2022-03-09T16:37:43.262Z"
   },
   {
    "duration": 8,
    "start_time": "2022-03-09T16:37:48.503Z"
   },
   {
    "duration": 8,
    "start_time": "2022-03-09T16:37:49.331Z"
   },
   {
    "duration": 365,
    "start_time": "2022-03-09T16:38:01.694Z"
   },
   {
    "duration": 6,
    "start_time": "2022-03-09T16:38:06.834Z"
   },
   {
    "duration": 364,
    "start_time": "2022-03-09T16:38:42.584Z"
   },
   {
    "duration": 4,
    "start_time": "2022-03-09T16:38:53.684Z"
   },
   {
    "duration": 7,
    "start_time": "2022-03-09T16:39:32.356Z"
   },
   {
    "duration": 500,
    "start_time": "2022-03-09T16:39:49.740Z"
   },
   {
    "duration": 451,
    "start_time": "2022-03-09T16:39:54.390Z"
   },
   {
    "duration": 7,
    "start_time": "2022-03-09T16:39:59.946Z"
   },
   {
    "duration": 17,
    "start_time": "2022-03-09T16:41:09.065Z"
   },
   {
    "duration": 355,
    "start_time": "2022-03-09T16:43:56.064Z"
   },
   {
    "duration": 111,
    "start_time": "2022-03-09T16:44:10.844Z"
   },
   {
    "duration": 19,
    "start_time": "2022-03-09T16:44:13.839Z"
   },
   {
    "duration": 403,
    "start_time": "2022-03-09T16:44:41.431Z"
   },
   {
    "duration": 349,
    "start_time": "2022-03-09T16:44:50.860Z"
   },
   {
    "duration": 11,
    "start_time": "2022-03-09T16:45:04.224Z"
   },
   {
    "duration": 367,
    "start_time": "2022-03-09T16:46:47.491Z"
   },
   {
    "duration": 14,
    "start_time": "2022-03-09T16:46:51.364Z"
   },
   {
    "duration": 431,
    "start_time": "2022-03-09T16:46:52.033Z"
   },
   {
    "duration": 10,
    "start_time": "2022-03-09T16:47:01.661Z"
   },
   {
    "duration": 2506,
    "start_time": "2022-03-09T16:47:02.163Z"
   },
   {
    "duration": 2421,
    "start_time": "2022-03-09T16:47:26.056Z"
   },
   {
    "duration": 2383,
    "start_time": "2022-03-09T16:47:36.245Z"
   },
   {
    "duration": 9,
    "start_time": "2022-03-09T16:49:06.039Z"
   },
   {
    "duration": 8,
    "start_time": "2022-03-09T16:49:08.880Z"
   },
   {
    "duration": 5,
    "start_time": "2022-03-09T16:49:16.171Z"
   },
   {
    "duration": 78,
    "start_time": "2022-03-09T16:49:20.987Z"
   },
   {
    "duration": 5,
    "start_time": "2022-03-09T16:49:26.533Z"
   },
   {
    "duration": 341,
    "start_time": "2022-03-09T16:49:48.488Z"
   },
   {
    "duration": 5,
    "start_time": "2022-03-09T16:50:02.521Z"
   },
   {
    "duration": 463,
    "start_time": "2022-03-09T16:50:04.154Z"
   },
   {
    "duration": 9,
    "start_time": "2022-03-09T16:50:18.097Z"
   },
   {
    "duration": 1711,
    "start_time": "2022-03-09T16:50:19.835Z"
   },
   {
    "duration": 5,
    "start_time": "2022-03-09T16:52:24.515Z"
   },
   {
    "duration": 360,
    "start_time": "2022-03-09T16:53:39.768Z"
   },
   {
    "duration": 334,
    "start_time": "2022-03-09T16:53:49.261Z"
   },
   {
    "duration": 9809,
    "start_time": "2022-03-09T16:53:56.853Z"
   },
   {
    "duration": 294,
    "start_time": "2022-03-09T16:55:24.739Z"
   },
   {
    "duration": 5,
    "start_time": "2022-03-09T16:55:57.527Z"
   },
   {
    "duration": 9,
    "start_time": "2022-03-09T16:58:13.551Z"
   },
   {
    "duration": 12,
    "start_time": "2022-03-09T16:58:41.737Z"
   },
   {
    "duration": 356,
    "start_time": "2022-03-09T16:59:04.238Z"
   },
   {
    "duration": 6,
    "start_time": "2022-03-09T16:59:20.562Z"
   },
   {
    "duration": 5,
    "start_time": "2022-03-09T16:59:20.914Z"
   },
   {
    "duration": 91,
    "start_time": "2022-03-09T16:59:50.506Z"
   },
   {
    "duration": 7,
    "start_time": "2022-03-09T16:59:55.149Z"
   },
   {
    "duration": 5,
    "start_time": "2022-03-09T17:00:03.424Z"
   },
   {
    "duration": 348,
    "start_time": "2022-03-09T17:00:21.832Z"
   },
   {
    "duration": 1517,
    "start_time": "2022-03-09T17:00:38.650Z"
   },
   {
    "duration": 911,
    "start_time": "2022-03-09T17:00:40.170Z"
   },
   {
    "duration": 118,
    "start_time": "2022-03-09T17:00:41.084Z"
   },
   {
    "duration": 78,
    "start_time": "2022-03-09T17:00:41.205Z"
   },
   {
    "duration": 117,
    "start_time": "2022-03-09T17:00:41.285Z"
   },
   {
    "duration": 27,
    "start_time": "2022-03-09T17:00:41.405Z"
   },
   {
    "duration": 67,
    "start_time": "2022-03-09T17:00:41.436Z"
   },
   {
    "duration": 33,
    "start_time": "2022-03-09T17:00:41.533Z"
   },
   {
    "duration": 5,
    "start_time": "2022-03-09T17:00:41.570Z"
   },
   {
    "duration": 705,
    "start_time": "2022-03-09T17:00:41.578Z"
   },
   {
    "duration": 7,
    "start_time": "2022-03-09T17:00:42.286Z"
   },
   {
    "duration": 6,
    "start_time": "2022-03-09T17:00:42.296Z"
   },
   {
    "duration": 29,
    "start_time": "2022-03-09T17:00:42.305Z"
   },
   {
    "duration": 9,
    "start_time": "2022-03-09T17:00:42.338Z"
   },
   {
    "duration": 18,
    "start_time": "2022-03-09T17:00:42.349Z"
   },
   {
    "duration": 551,
    "start_time": "2022-03-09T17:00:42.370Z"
   },
   {
    "duration": 4,
    "start_time": "2022-03-09T17:00:42.923Z"
   },
   {
    "duration": 13,
    "start_time": "2022-03-09T17:00:42.932Z"
   },
   {
    "duration": 15,
    "start_time": "2022-03-09T17:00:42.947Z"
   },
   {
    "duration": 21,
    "start_time": "2022-03-09T17:00:42.964Z"
   },
   {
    "duration": 63,
    "start_time": "2022-03-09T17:00:42.988Z"
   },
   {
    "duration": 419,
    "start_time": "2022-03-09T17:00:43.053Z"
   },
   {
    "duration": 396,
    "start_time": "2022-03-09T17:00:43.474Z"
   },
   {
    "duration": 404,
    "start_time": "2022-03-09T17:00:43.872Z"
   },
   {
    "duration": 374,
    "start_time": "2022-03-09T17:00:44.279Z"
   },
   {
    "duration": 10,
    "start_time": "2022-03-09T17:00:44.655Z"
   },
   {
    "duration": 9,
    "start_time": "2022-03-09T17:00:44.669Z"
   },
   {
    "duration": 10,
    "start_time": "2022-03-09T17:00:44.681Z"
   },
   {
    "duration": 5,
    "start_time": "2022-03-09T17:00:44.732Z"
   },
   {
    "duration": 28,
    "start_time": "2022-03-09T17:00:44.739Z"
   },
   {
    "duration": 494,
    "start_time": "2022-03-09T17:00:54.622Z"
   },
   {
    "duration": 11,
    "start_time": "2022-03-09T17:01:45.652Z"
   },
   {
    "duration": 17,
    "start_time": "2022-03-09T17:01:47.964Z"
   },
   {
    "duration": 434,
    "start_time": "2022-03-09T17:01:49.567Z"
   },
   {
    "duration": 18,
    "start_time": "2022-03-09T17:01:55.081Z"
   },
   {
    "duration": 1716,
    "start_time": "2022-03-09T17:01:55.482Z"
   },
   {
    "duration": 10247,
    "start_time": "2022-03-09T17:01:58.091Z"
   },
   {
    "duration": 395,
    "start_time": "2022-03-09T17:02:08.340Z"
   },
   {
    "duration": 21,
    "start_time": "2022-03-09T17:03:41.133Z"
   },
   {
    "duration": 4142,
    "start_time": "2022-03-09T17:05:36.385Z"
   },
   {
    "duration": 5,
    "start_time": "2022-03-09T17:05:54.579Z"
   },
   {
    "duration": 4040,
    "start_time": "2022-03-09T17:05:58.447Z"
   },
   {
    "duration": 4103,
    "start_time": "2022-03-09T17:06:40.031Z"
   },
   {
    "duration": 9802,
    "start_time": "2022-03-09T17:07:17.873Z"
   },
   {
    "duration": 24189,
    "start_time": "2022-03-09T17:07:36.704Z"
   },
   {
    "duration": 23766,
    "start_time": "2022-03-09T17:08:29.995Z"
   },
   {
    "duration": 1332,
    "start_time": "2022-03-09T17:09:21.814Z"
   },
   {
    "duration": 13,
    "start_time": "2022-03-09T17:10:41.220Z"
   },
   {
    "duration": 7,
    "start_time": "2022-03-09T17:10:47.071Z"
   },
   {
    "duration": 6,
    "start_time": "2022-03-09T17:11:12.261Z"
   },
   {
    "duration": 7,
    "start_time": "2022-03-09T17:11:15.014Z"
   },
   {
    "duration": 6,
    "start_time": "2022-03-09T17:11:20.613Z"
   },
   {
    "duration": 4,
    "start_time": "2022-03-09T17:12:09.952Z"
   },
   {
    "duration": 6,
    "start_time": "2022-03-09T17:12:13.995Z"
   },
   {
    "duration": 3953,
    "start_time": "2022-03-09T17:12:56.956Z"
   },
   {
    "duration": 351,
    "start_time": "2022-03-09T17:14:06.773Z"
   },
   {
    "duration": 14,
    "start_time": "2022-03-09T17:14:20.107Z"
   },
   {
    "duration": 34516,
    "start_time": "2022-03-09T17:14:20.599Z"
   },
   {
    "duration": 15,
    "start_time": "2022-03-09T17:15:34.142Z"
   },
   {
    "duration": 24205,
    "start_time": "2022-03-09T17:15:34.590Z"
   },
   {
    "duration": 13,
    "start_time": "2022-03-09T17:16:15.023Z"
   },
   {
    "duration": 1012,
    "start_time": "2022-03-09T17:16:20.727Z"
   },
   {
    "duration": 15,
    "start_time": "2022-03-09T17:17:07.894Z"
   },
   {
    "duration": 1310,
    "start_time": "2022-03-09T17:17:08.923Z"
   },
   {
    "duration": 1469,
    "start_time": "2022-03-09T17:40:00.865Z"
   },
   {
    "duration": 716,
    "start_time": "2022-03-09T17:40:21.255Z"
   },
   {
    "duration": 491,
    "start_time": "2022-03-09T17:40:31.753Z"
   },
   {
    "duration": 93,
    "start_time": "2022-03-09T17:40:32.250Z"
   },
   {
    "duration": 1107,
    "start_time": "2022-03-09T17:40:35.434Z"
   },
   {
    "duration": 6,
    "start_time": "2022-03-09T17:42:21.578Z"
   },
   {
    "duration": 6,
    "start_time": "2022-03-09T17:42:27.816Z"
   },
   {
    "duration": 376,
    "start_time": "2022-03-09T17:43:59.036Z"
   },
   {
    "duration": 385,
    "start_time": "2022-03-09T17:44:08.507Z"
   },
   {
    "duration": 326,
    "start_time": "2022-03-09T17:44:15.518Z"
   },
   {
    "duration": 8,
    "start_time": "2022-03-09T17:46:42.670Z"
   },
   {
    "duration": 392,
    "start_time": "2022-03-09T17:47:22.460Z"
   },
   {
    "duration": 369,
    "start_time": "2022-03-09T17:47:41.738Z"
   },
   {
    "duration": 9,
    "start_time": "2022-03-09T17:47:46.389Z"
   },
   {
    "duration": 365,
    "start_time": "2022-03-09T17:47:47.934Z"
   },
   {
    "duration": 1370,
    "start_time": "2022-03-09T17:48:02.551Z"
   },
   {
    "duration": 7,
    "start_time": "2022-03-09T17:48:44.989Z"
   },
   {
    "duration": 6,
    "start_time": "2022-03-09T17:48:53.054Z"
   },
   {
    "duration": 13,
    "start_time": "2022-03-09T17:48:57.469Z"
   },
   {
    "duration": 5,
    "start_time": "2022-03-09T17:49:22.366Z"
   },
   {
    "duration": 5,
    "start_time": "2022-03-09T17:49:24.022Z"
   },
   {
    "duration": 5,
    "start_time": "2022-03-09T17:49:45.805Z"
   },
   {
    "duration": 403,
    "start_time": "2022-03-09T17:55:37.812Z"
   },
   {
    "duration": -141,
    "start_time": "2022-03-09T17:55:38.359Z"
   },
   {
    "duration": 1473,
    "start_time": "2022-03-09T17:55:41.350Z"
   },
   {
    "duration": 981,
    "start_time": "2022-03-09T17:55:42.826Z"
   },
   {
    "duration": 114,
    "start_time": "2022-03-09T17:55:43.810Z"
   },
   {
    "duration": 69,
    "start_time": "2022-03-09T17:55:43.932Z"
   },
   {
    "duration": 131,
    "start_time": "2022-03-09T17:55:44.004Z"
   },
   {
    "duration": 11,
    "start_time": "2022-03-09T17:55:44.138Z"
   },
   {
    "duration": 109,
    "start_time": "2022-03-09T17:55:44.151Z"
   },
   {
    "duration": 33,
    "start_time": "2022-03-09T17:55:44.263Z"
   },
   {
    "duration": 34,
    "start_time": "2022-03-09T17:55:44.300Z"
   },
   {
    "duration": 748,
    "start_time": "2022-03-09T17:55:44.338Z"
   },
   {
    "duration": 7,
    "start_time": "2022-03-09T17:55:45.088Z"
   },
   {
    "duration": 14,
    "start_time": "2022-03-09T17:55:45.097Z"
   },
   {
    "duration": 21,
    "start_time": "2022-03-09T17:55:45.113Z"
   },
   {
    "duration": 18,
    "start_time": "2022-03-09T17:55:45.137Z"
   },
   {
    "duration": 33,
    "start_time": "2022-03-09T17:55:45.157Z"
   },
   {
    "duration": 541,
    "start_time": "2022-03-09T17:55:45.193Z"
   },
   {
    "duration": 4,
    "start_time": "2022-03-09T17:55:45.737Z"
   },
   {
    "duration": 20,
    "start_time": "2022-03-09T17:55:45.744Z"
   },
   {
    "duration": 20,
    "start_time": "2022-03-09T17:55:45.766Z"
   },
   {
    "duration": 33,
    "start_time": "2022-03-09T17:55:45.788Z"
   },
   {
    "duration": 37,
    "start_time": "2022-03-09T17:55:45.823Z"
   },
   {
    "duration": 437,
    "start_time": "2022-03-09T17:55:45.863Z"
   },
   {
    "duration": 433,
    "start_time": "2022-03-09T17:55:46.303Z"
   },
   {
    "duration": 430,
    "start_time": "2022-03-09T17:55:46.739Z"
   },
   {
    "duration": 376,
    "start_time": "2022-03-09T17:55:47.171Z"
   },
   {
    "duration": 10,
    "start_time": "2022-03-09T17:55:47.549Z"
   },
   {
    "duration": 23,
    "start_time": "2022-03-09T17:55:47.564Z"
   },
   {
    "duration": 9,
    "start_time": "2022-03-09T17:55:47.590Z"
   },
   {
    "duration": 5,
    "start_time": "2022-03-09T17:55:47.601Z"
   },
   {
    "duration": 34,
    "start_time": "2022-03-09T17:55:47.608Z"
   },
   {
    "duration": 13,
    "start_time": "2022-03-09T17:55:47.645Z"
   },
   {
    "duration": 23,
    "start_time": "2022-03-09T17:55:47.661Z"
   },
   {
    "duration": 1920,
    "start_time": "2022-03-09T17:55:47.686Z"
   },
   {
    "duration": 27,
    "start_time": "2022-03-09T17:55:49.608Z"
   },
   {
    "duration": 4,
    "start_time": "2022-03-09T17:55:49.639Z"
   },
   {
    "duration": 20,
    "start_time": "2022-03-09T17:55:49.645Z"
   },
   {
    "duration": 4158,
    "start_time": "2022-03-09T17:55:49.668Z"
   },
   {
    "duration": 10515,
    "start_time": "2022-03-09T17:55:53.833Z"
   },
   {
    "duration": 16,
    "start_time": "2022-03-09T17:56:04.351Z"
   },
   {
    "duration": 25139,
    "start_time": "2022-03-09T17:56:04.369Z"
   },
   {
    "duration": 525,
    "start_time": "2022-03-09T17:56:29.510Z"
   },
   {
    "duration": 104,
    "start_time": "2022-03-09T17:56:30.044Z"
   },
   {
    "duration": 1796,
    "start_time": "2022-03-09T17:56:30.152Z"
   },
   {
    "duration": 465,
    "start_time": "2022-03-09T17:56:36.864Z"
   },
   {
    "duration": 348,
    "start_time": "2022-03-09T17:56:48.149Z"
   },
   {
    "duration": 15,
    "start_time": "2022-03-09T17:58:38.748Z"
   },
   {
    "duration": 1312,
    "start_time": "2022-03-09T17:58:46.347Z"
   },
   {
    "duration": 113,
    "start_time": "2022-03-09T17:59:09.948Z"
   },
   {
    "duration": 336,
    "start_time": "2022-03-09T17:59:13.331Z"
   },
   {
    "duration": 5,
    "start_time": "2022-03-09T17:59:15.899Z"
   },
   {
    "duration": 489,
    "start_time": "2022-03-09T17:59:39.306Z"
   },
   {
    "duration": 10,
    "start_time": "2022-03-09T17:59:51.545Z"
   },
   {
    "duration": 76,
    "start_time": "2022-03-09T17:59:56.022Z"
   },
   {
    "duration": 7,
    "start_time": "2022-03-09T18:00:06.063Z"
   },
   {
    "duration": 8850,
    "start_time": "2022-03-09T18:00:13.262Z"
   },
   {
    "duration": 18,
    "start_time": "2022-03-09T18:00:41.824Z"
   },
   {
    "duration": 338,
    "start_time": "2022-03-09T18:01:37.537Z"
   },
   {
    "duration": 419,
    "start_time": "2022-03-09T18:01:53.335Z"
   },
   {
    "duration": 15143,
    "start_time": "2022-03-09T18:02:06.981Z"
   },
   {
    "duration": 342,
    "start_time": "2022-03-09T18:03:51.225Z"
   },
   {
    "duration": 16,
    "start_time": "2022-03-09T18:03:55.252Z"
   },
   {
    "duration": 7,
    "start_time": "2022-03-09T18:03:56.756Z"
   },
   {
    "duration": 425,
    "start_time": "2022-03-09T18:03:59.759Z"
   },
   {
    "duration": 14,
    "start_time": "2022-03-09T18:04:10.937Z"
   },
   {
    "duration": 874,
    "start_time": "2022-03-09T18:04:16.865Z"
   },
   {
    "duration": 13,
    "start_time": "2022-03-09T18:04:38.163Z"
   },
   {
    "duration": 5,
    "start_time": "2022-03-09T18:04:51.974Z"
   },
   {
    "duration": 5,
    "start_time": "2022-03-09T18:04:58.933Z"
   },
   {
    "duration": 6,
    "start_time": "2022-03-09T18:06:25.531Z"
   },
   {
    "duration": 6,
    "start_time": "2022-03-09T18:07:08.906Z"
   },
   {
    "duration": 75,
    "start_time": "2022-03-09T18:07:15.330Z"
   },
   {
    "duration": 8,
    "start_time": "2022-03-09T18:07:23.721Z"
   },
   {
    "duration": 13,
    "start_time": "2022-03-09T18:08:41.087Z"
   },
   {
    "duration": 3,
    "start_time": "2022-03-09T18:09:10.126Z"
   },
   {
    "duration": 9,
    "start_time": "2022-03-09T18:09:14.131Z"
   },
   {
    "duration": 378,
    "start_time": "2022-03-09T18:09:39.562Z"
   },
   {
    "duration": 370,
    "start_time": "2022-03-09T18:09:56.918Z"
   },
   {
    "duration": 122,
    "start_time": "2022-03-09T18:10:03.832Z"
   },
   {
    "duration": 399,
    "start_time": "2022-03-09T18:11:31.160Z"
   },
   {
    "duration": 120,
    "start_time": "2022-03-09T18:11:39.215Z"
   },
   {
    "duration": 114,
    "start_time": "2022-03-09T18:12:23.220Z"
   },
   {
    "duration": 364,
    "start_time": "2022-03-09T18:12:35.837Z"
   },
   {
    "duration": 380,
    "start_time": "2022-03-09T18:13:26.709Z"
   },
   {
    "duration": 116,
    "start_time": "2022-03-09T18:14:56.516Z"
   },
   {
    "duration": 8467,
    "start_time": "2022-03-09T18:15:26.108Z"
   },
   {
    "duration": 21,
    "start_time": "2022-03-09T18:15:38.329Z"
   },
   {
    "duration": 18,
    "start_time": "2022-03-09T18:16:18.826Z"
   },
   {
    "duration": 6,
    "start_time": "2022-03-09T18:16:45.381Z"
   },
   {
    "duration": 11,
    "start_time": "2022-03-09T18:16:57.030Z"
   },
   {
    "duration": 9,
    "start_time": "2022-03-09T18:17:04.045Z"
   },
   {
    "duration": 388,
    "start_time": "2022-03-09T18:17:20.001Z"
   },
   {
    "duration": 440,
    "start_time": "2022-03-09T18:17:25.059Z"
   },
   {
    "duration": 122,
    "start_time": "2022-03-09T18:17:48.371Z"
   },
   {
    "duration": 5,
    "start_time": "2022-03-09T18:17:58.349Z"
   },
   {
    "duration": 8,
    "start_time": "2022-03-09T18:18:04.148Z"
   },
   {
    "duration": 6,
    "start_time": "2022-03-09T18:18:34.479Z"
   },
   {
    "duration": 6,
    "start_time": "2022-03-09T18:19:04.828Z"
   },
   {
    "duration": 7,
    "start_time": "2022-03-09T18:19:07.494Z"
   },
   {
    "duration": 5,
    "start_time": "2022-03-09T18:19:47.828Z"
   },
   {
    "duration": 7,
    "start_time": "2022-03-09T18:21:25.702Z"
   },
   {
    "duration": 7,
    "start_time": "2022-03-09T18:22:16.735Z"
   },
   {
    "duration": 6,
    "start_time": "2022-03-09T18:22:30.282Z"
   },
   {
    "duration": 5,
    "start_time": "2022-03-09T18:22:38.708Z"
   },
   {
    "duration": 5,
    "start_time": "2022-03-09T18:22:42.633Z"
   },
   {
    "duration": 16,
    "start_time": "2022-03-09T18:22:52.293Z"
   },
   {
    "duration": 16,
    "start_time": "2022-03-09T18:23:27.484Z"
   },
   {
    "duration": 24,
    "start_time": "2022-03-09T18:23:40.164Z"
   },
   {
    "duration": 16,
    "start_time": "2022-03-09T18:23:51.242Z"
   },
   {
    "duration": 6,
    "start_time": "2022-03-09T18:28:22.350Z"
   },
   {
    "duration": 79,
    "start_time": "2022-03-09T18:28:31.123Z"
   },
   {
    "duration": 6,
    "start_time": "2022-03-09T18:28:36.715Z"
   },
   {
    "duration": 3113,
    "start_time": "2022-03-09T18:28:52.128Z"
   },
   {
    "duration": 3423,
    "start_time": "2022-03-09T18:29:15.727Z"
   },
   {
    "duration": 1636,
    "start_time": "2022-03-09T18:30:29.856Z"
   },
   {
    "duration": 974,
    "start_time": "2022-03-09T18:30:31.495Z"
   },
   {
    "duration": 116,
    "start_time": "2022-03-09T18:30:32.472Z"
   },
   {
    "duration": 83,
    "start_time": "2022-03-09T18:30:32.590Z"
   },
   {
    "duration": 117,
    "start_time": "2022-03-09T18:30:32.676Z"
   },
   {
    "duration": 8,
    "start_time": "2022-03-09T18:30:32.795Z"
   },
   {
    "duration": 81,
    "start_time": "2022-03-09T18:30:32.806Z"
   },
   {
    "duration": 60,
    "start_time": "2022-03-09T18:30:32.891Z"
   },
   {
    "duration": 4,
    "start_time": "2022-03-09T18:30:32.954Z"
   },
   {
    "duration": 721,
    "start_time": "2022-03-09T18:30:32.961Z"
   },
   {
    "duration": 8,
    "start_time": "2022-03-09T18:30:33.684Z"
   },
   {
    "duration": 7,
    "start_time": "2022-03-09T18:30:33.695Z"
   },
   {
    "duration": 30,
    "start_time": "2022-03-09T18:30:33.704Z"
   },
   {
    "duration": 7,
    "start_time": "2022-03-09T18:30:33.737Z"
   },
   {
    "duration": 19,
    "start_time": "2022-03-09T18:30:33.746Z"
   },
   {
    "duration": 559,
    "start_time": "2022-03-09T18:30:33.768Z"
   },
   {
    "duration": 6,
    "start_time": "2022-03-09T18:30:34.329Z"
   },
   {
    "duration": 9,
    "start_time": "2022-03-09T18:30:34.337Z"
   },
   {
    "duration": 17,
    "start_time": "2022-03-09T18:30:34.348Z"
   },
   {
    "duration": 20,
    "start_time": "2022-03-09T18:30:34.368Z"
   },
   {
    "duration": 64,
    "start_time": "2022-03-09T18:30:34.390Z"
   },
   {
    "duration": 9,
    "start_time": "2022-03-09T18:30:34.457Z"
   },
   {
    "duration": 429,
    "start_time": "2022-03-09T18:30:34.473Z"
   },
   {
    "duration": 403,
    "start_time": "2022-03-09T18:30:34.905Z"
   },
   {
    "duration": 407,
    "start_time": "2022-03-09T18:30:35.310Z"
   },
   {
    "duration": 360,
    "start_time": "2022-03-09T18:30:35.719Z"
   },
   {
    "duration": 9,
    "start_time": "2022-03-09T18:30:36.082Z"
   },
   {
    "duration": 24,
    "start_time": "2022-03-09T18:30:36.093Z"
   },
   {
    "duration": 11,
    "start_time": "2022-03-09T18:30:36.131Z"
   },
   {
    "duration": 9,
    "start_time": "2022-03-09T18:30:36.145Z"
   },
   {
    "duration": 34,
    "start_time": "2022-03-09T18:30:36.157Z"
   },
   {
    "duration": 12,
    "start_time": "2022-03-09T18:30:36.194Z"
   },
   {
    "duration": 17,
    "start_time": "2022-03-09T18:30:36.233Z"
   },
   {
    "duration": 1695,
    "start_time": "2022-03-09T18:30:36.252Z"
   },
   {
    "duration": 23,
    "start_time": "2022-03-09T18:30:37.950Z"
   },
   {
    "duration": 11,
    "start_time": "2022-03-09T18:30:37.976Z"
   },
   {
    "duration": 14,
    "start_time": "2022-03-09T18:30:37.990Z"
   },
   {
    "duration": 4029,
    "start_time": "2022-03-09T18:30:38.007Z"
   },
   {
    "duration": 9732,
    "start_time": "2022-03-09T18:30:42.038Z"
   },
   {
    "duration": 16,
    "start_time": "2022-03-09T18:30:51.773Z"
   },
   {
    "duration": 23980,
    "start_time": "2022-03-09T18:30:51.791Z"
   },
   {
    "duration": 364,
    "start_time": "2022-03-09T18:31:15.774Z"
   },
   {
    "duration": 99,
    "start_time": "2022-03-09T18:31:16.144Z"
   },
   {
    "duration": 1393,
    "start_time": "2022-03-09T18:31:16.246Z"
   },
   {
    "duration": 511,
    "start_time": "2022-03-09T18:31:17.642Z"
   },
   {
    "duration": -160,
    "start_time": "2022-03-09T18:31:18.316Z"
   },
   {
    "duration": -164,
    "start_time": "2022-03-09T18:31:18.322Z"
   },
   {
    "duration": -165,
    "start_time": "2022-03-09T18:31:18.324Z"
   },
   {
    "duration": -166,
    "start_time": "2022-03-09T18:31:18.326Z"
   },
   {
    "duration": 340,
    "start_time": "2022-03-09T18:31:28.937Z"
   },
   {
    "duration": 108,
    "start_time": "2022-03-09T18:31:41.597Z"
   },
   {
    "duration": 22,
    "start_time": "2022-03-09T18:31:48.289Z"
   },
   {
    "duration": 330,
    "start_time": "2022-03-09T18:32:32.868Z"
   },
   {
    "duration": 335,
    "start_time": "2022-03-09T18:32:36.844Z"
   },
   {
    "duration": 356,
    "start_time": "2022-03-09T18:32:56.346Z"
   },
   {
    "duration": 5,
    "start_time": "2022-03-09T18:33:26.195Z"
   },
   {
    "duration": 594,
    "start_time": "2022-03-09T18:33:35.092Z"
   },
   {
    "duration": 8,
    "start_time": "2022-03-09T18:33:51.858Z"
   },
   {
    "duration": 8,
    "start_time": "2022-03-09T18:33:58.439Z"
   },
   {
    "duration": 8,
    "start_time": "2022-03-09T18:33:58.450Z"
   },
   {
    "duration": 7693,
    "start_time": "2022-03-09T18:33:58.461Z"
   },
   {
    "duration": 337,
    "start_time": "2022-03-09T18:34:06.156Z"
   },
   {
    "duration": -161,
    "start_time": "2022-03-09T18:34:06.657Z"
   },
   {
    "duration": 48,
    "start_time": "2022-03-09T18:34:29.677Z"
   },
   {
    "duration": 666,
    "start_time": "2022-03-09T18:34:31.433Z"
   },
   {
    "duration": 6,
    "start_time": "2022-03-09T18:34:46.322Z"
   },
   {
    "duration": 6,
    "start_time": "2022-03-09T18:35:13.639Z"
   },
   {
    "duration": 6,
    "start_time": "2022-03-09T18:35:33.254Z"
   },
   {
    "duration": 5,
    "start_time": "2022-03-09T18:35:52.360Z"
   },
   {
    "duration": 9,
    "start_time": "2022-03-09T18:35:57.132Z"
   },
   {
    "duration": 5,
    "start_time": "2022-03-09T18:35:58.944Z"
   },
   {
    "duration": 366,
    "start_time": "2022-03-09T18:37:19.850Z"
   },
   {
    "duration": 6,
    "start_time": "2022-03-09T18:37:28.048Z"
   },
   {
    "duration": 6,
    "start_time": "2022-03-09T18:37:36.345Z"
   },
   {
    "duration": 1553,
    "start_time": "2022-03-09T18:38:05.926Z"
   },
   {
    "duration": 947,
    "start_time": "2022-03-09T18:38:07.481Z"
   },
   {
    "duration": 120,
    "start_time": "2022-03-09T18:38:08.434Z"
   },
   {
    "duration": 84,
    "start_time": "2022-03-09T18:38:08.557Z"
   },
   {
    "duration": 129,
    "start_time": "2022-03-09T18:38:08.643Z"
   },
   {
    "duration": 9,
    "start_time": "2022-03-09T18:38:08.774Z"
   },
   {
    "duration": 90,
    "start_time": "2022-03-09T18:38:08.785Z"
   },
   {
    "duration": 57,
    "start_time": "2022-03-09T18:38:08.879Z"
   },
   {
    "duration": 4,
    "start_time": "2022-03-09T18:38:08.939Z"
   },
   {
    "duration": 707,
    "start_time": "2022-03-09T18:38:08.946Z"
   },
   {
    "duration": 7,
    "start_time": "2022-03-09T18:38:09.656Z"
   },
   {
    "duration": 9,
    "start_time": "2022-03-09T18:38:09.665Z"
   },
   {
    "duration": 11,
    "start_time": "2022-03-09T18:38:09.677Z"
   },
   {
    "duration": 12,
    "start_time": "2022-03-09T18:38:09.691Z"
   },
   {
    "duration": 37,
    "start_time": "2022-03-09T18:38:09.705Z"
   },
   {
    "duration": 547,
    "start_time": "2022-03-09T18:38:09.744Z"
   },
   {
    "duration": 4,
    "start_time": "2022-03-09T18:38:10.293Z"
   },
   {
    "duration": 8,
    "start_time": "2022-03-09T18:38:10.300Z"
   },
   {
    "duration": 28,
    "start_time": "2022-03-09T18:38:10.310Z"
   },
   {
    "duration": 24,
    "start_time": "2022-03-09T18:38:10.340Z"
   },
   {
    "duration": 27,
    "start_time": "2022-03-09T18:38:10.366Z"
   },
   {
    "duration": 37,
    "start_time": "2022-03-09T18:38:10.395Z"
   },
   {
    "duration": 411,
    "start_time": "2022-03-09T18:38:10.438Z"
   },
   {
    "duration": 393,
    "start_time": "2022-03-09T18:38:10.852Z"
   },
   {
    "duration": 411,
    "start_time": "2022-03-09T18:38:11.248Z"
   },
   {
    "duration": 361,
    "start_time": "2022-03-09T18:38:11.662Z"
   },
   {
    "duration": 11,
    "start_time": "2022-03-09T18:38:12.033Z"
   },
   {
    "duration": 11,
    "start_time": "2022-03-09T18:38:12.046Z"
   },
   {
    "duration": 10,
    "start_time": "2022-03-09T18:38:12.059Z"
   },
   {
    "duration": 4,
    "start_time": "2022-03-09T18:38:12.072Z"
   },
   {
    "duration": 71,
    "start_time": "2022-03-09T18:38:12.078Z"
   },
   {
    "duration": 11,
    "start_time": "2022-03-09T18:38:12.152Z"
   },
   {
    "duration": 21,
    "start_time": "2022-03-09T18:38:12.165Z"
   },
   {
    "duration": 1715,
    "start_time": "2022-03-09T18:38:12.188Z"
   },
   {
    "duration": 26,
    "start_time": "2022-03-09T18:38:13.906Z"
   },
   {
    "duration": 4,
    "start_time": "2022-03-09T18:38:13.935Z"
   },
   {
    "duration": 7,
    "start_time": "2022-03-09T18:38:13.942Z"
   },
   {
    "duration": 4128,
    "start_time": "2022-03-09T18:38:13.952Z"
   },
   {
    "duration": 10290,
    "start_time": "2022-03-09T18:38:18.082Z"
   },
   {
    "duration": 14,
    "start_time": "2022-03-09T18:38:28.375Z"
   },
   {
    "duration": 24718,
    "start_time": "2022-03-09T18:38:28.392Z"
   },
   {
    "duration": 329,
    "start_time": "2022-03-09T18:38:53.112Z"
   },
   {
    "duration": 15,
    "start_time": "2022-03-09T18:38:53.533Z"
   },
   {
    "duration": 1286,
    "start_time": "2022-03-09T18:38:53.550Z"
   },
   {
    "duration": 6,
    "start_time": "2022-03-09T18:38:54.838Z"
   },
   {
    "duration": 89,
    "start_time": "2022-03-09T18:38:54.847Z"
   },
   {
    "duration": 7,
    "start_time": "2022-03-09T18:38:54.939Z"
   },
   {
    "duration": 486,
    "start_time": "2022-03-09T18:38:54.949Z"
   },
   {
    "duration": -149,
    "start_time": "2022-03-09T18:38:55.586Z"
   },
   {
    "duration": -150,
    "start_time": "2022-03-09T18:38:55.588Z"
   },
   {
    "duration": -153,
    "start_time": "2022-03-09T18:38:55.593Z"
   },
   {
    "duration": -155,
    "start_time": "2022-03-09T18:38:55.596Z"
   },
   {
    "duration": 8,
    "start_time": "2022-03-09T18:39:30.934Z"
   },
   {
    "duration": 7,
    "start_time": "2022-03-09T18:39:37.417Z"
   },
   {
    "duration": 5,
    "start_time": "2022-03-09T18:39:45.051Z"
   },
   {
    "duration": 5,
    "start_time": "2022-03-09T18:39:54.530Z"
   },
   {
    "duration": 8097,
    "start_time": "2022-03-09T18:40:02.590Z"
   },
   {
    "duration": 6,
    "start_time": "2022-03-09T18:40:58.237Z"
   },
   {
    "duration": 15,
    "start_time": "2022-03-09T18:41:02.563Z"
   },
   {
    "duration": 17,
    "start_time": "2022-03-09T18:41:07.353Z"
   },
   {
    "duration": 2559,
    "start_time": "2022-03-09T18:41:18.688Z"
   },
   {
    "duration": 1090,
    "start_time": "2022-03-09T18:41:21.251Z"
   },
   {
    "duration": 128,
    "start_time": "2022-03-09T18:41:22.345Z"
   },
   {
    "duration": 111,
    "start_time": "2022-03-09T18:41:22.477Z"
   },
   {
    "duration": 117,
    "start_time": "2022-03-09T18:41:22.591Z"
   },
   {
    "duration": 23,
    "start_time": "2022-03-09T18:41:22.711Z"
   },
   {
    "duration": 62,
    "start_time": "2022-03-09T18:41:22.737Z"
   },
   {
    "duration": 33,
    "start_time": "2022-03-09T18:41:22.833Z"
   },
   {
    "duration": 4,
    "start_time": "2022-03-09T18:41:22.873Z"
   },
   {
    "duration": 1301,
    "start_time": "2022-03-09T18:41:22.880Z"
   },
   {
    "duration": 9,
    "start_time": "2022-03-09T18:41:24.184Z"
   },
   {
    "duration": 4,
    "start_time": "2022-03-09T18:41:24.196Z"
   },
   {
    "duration": 31,
    "start_time": "2022-03-09T18:41:24.202Z"
   },
   {
    "duration": 6,
    "start_time": "2022-03-09T18:41:24.236Z"
   },
   {
    "duration": 19,
    "start_time": "2022-03-09T18:41:24.245Z"
   },
   {
    "duration": 559,
    "start_time": "2022-03-09T18:41:24.266Z"
   },
   {
    "duration": 4,
    "start_time": "2022-03-09T18:41:24.828Z"
   },
   {
    "duration": 12,
    "start_time": "2022-03-09T18:41:24.835Z"
   },
   {
    "duration": 13,
    "start_time": "2022-03-09T18:41:24.849Z"
   },
   {
    "duration": 19,
    "start_time": "2022-03-09T18:41:24.865Z"
   },
   {
    "duration": 61,
    "start_time": "2022-03-09T18:41:24.886Z"
   },
   {
    "duration": 8,
    "start_time": "2022-03-09T18:41:24.949Z"
   },
   {
    "duration": 433,
    "start_time": "2022-03-09T18:41:24.959Z"
   },
   {
    "duration": 632,
    "start_time": "2022-03-09T18:41:25.395Z"
   },
   {
    "duration": 405,
    "start_time": "2022-03-09T18:41:26.033Z"
   },
   {
    "duration": 358,
    "start_time": "2022-03-09T18:41:26.441Z"
   },
   {
    "duration": 12,
    "start_time": "2022-03-09T18:41:26.805Z"
   },
   {
    "duration": 11,
    "start_time": "2022-03-09T18:41:26.834Z"
   },
   {
    "duration": 10,
    "start_time": "2022-03-09T18:41:26.848Z"
   },
   {
    "duration": 4,
    "start_time": "2022-03-09T18:41:26.861Z"
   },
   {
    "duration": 30,
    "start_time": "2022-03-09T18:41:26.867Z"
   },
   {
    "duration": 45,
    "start_time": "2022-03-09T18:41:26.899Z"
   },
   {
    "duration": 18,
    "start_time": "2022-03-09T18:41:26.947Z"
   },
   {
    "duration": 1693,
    "start_time": "2022-03-09T18:41:26.967Z"
   },
   {
    "duration": 18,
    "start_time": "2022-03-09T18:41:28.663Z"
   },
   {
    "duration": 4,
    "start_time": "2022-03-09T18:41:28.684Z"
   },
   {
    "duration": 7,
    "start_time": "2022-03-09T18:41:28.690Z"
   },
   {
    "duration": 4058,
    "start_time": "2022-03-09T18:41:28.700Z"
   },
   {
    "duration": 9815,
    "start_time": "2022-03-09T18:41:32.761Z"
   },
   {
    "duration": 14,
    "start_time": "2022-03-09T18:41:42.579Z"
   },
   {
    "duration": 24437,
    "start_time": "2022-03-09T18:41:42.595Z"
   },
   {
    "duration": 400,
    "start_time": "2022-03-09T18:42:07.035Z"
   },
   {
    "duration": 104,
    "start_time": "2022-03-09T18:42:07.439Z"
   },
   {
    "duration": 1389,
    "start_time": "2022-03-09T18:42:07.545Z"
   },
   {
    "duration": 8,
    "start_time": "2022-03-09T18:42:08.936Z"
   },
   {
    "duration": 11,
    "start_time": "2022-03-09T18:42:08.947Z"
   },
   {
    "duration": 5,
    "start_time": "2022-03-09T18:42:08.961Z"
   },
   {
    "duration": 5,
    "start_time": "2022-03-09T18:42:09.034Z"
   },
   {
    "duration": 8208,
    "start_time": "2022-03-09T18:42:09.042Z"
   },
   {
    "duration": 5,
    "start_time": "2022-03-09T18:42:17.253Z"
   },
   {
    "duration": 20,
    "start_time": "2022-03-09T18:42:17.261Z"
   },
   {
    "duration": 17,
    "start_time": "2022-03-09T18:42:17.284Z"
   },
   {
    "duration": 1241,
    "start_time": "2022-03-10T09:09:50.911Z"
   },
   {
    "duration": 712,
    "start_time": "2022-03-10T09:09:52.154Z"
   },
   {
    "duration": 79,
    "start_time": "2022-03-10T09:09:52.869Z"
   },
   {
    "duration": 60,
    "start_time": "2022-03-10T09:09:52.950Z"
   },
   {
    "duration": 89,
    "start_time": "2022-03-10T09:09:53.012Z"
   },
   {
    "duration": 6,
    "start_time": "2022-03-10T09:09:53.103Z"
   },
   {
    "duration": 84,
    "start_time": "2022-03-10T09:09:53.110Z"
   },
   {
    "duration": 21,
    "start_time": "2022-03-10T09:09:53.197Z"
   },
   {
    "duration": 4,
    "start_time": "2022-03-10T09:09:53.220Z"
   },
   {
    "duration": 475,
    "start_time": "2022-03-10T09:09:53.226Z"
   },
   {
    "duration": 6,
    "start_time": "2022-03-10T09:09:53.703Z"
   },
   {
    "duration": 10,
    "start_time": "2022-03-10T09:09:53.711Z"
   },
   {
    "duration": 12,
    "start_time": "2022-03-10T09:09:53.723Z"
   },
   {
    "duration": 11,
    "start_time": "2022-03-10T09:09:53.737Z"
   },
   {
    "duration": 17,
    "start_time": "2022-03-10T09:09:53.750Z"
   },
   {
    "duration": 374,
    "start_time": "2022-03-10T09:09:53.769Z"
   },
   {
    "duration": 3,
    "start_time": "2022-03-10T09:09:54.146Z"
   },
   {
    "duration": 12,
    "start_time": "2022-03-10T09:09:54.151Z"
   },
   {
    "duration": 12,
    "start_time": "2022-03-10T09:09:54.165Z"
   },
   {
    "duration": 15,
    "start_time": "2022-03-10T09:09:54.179Z"
   },
   {
    "duration": 23,
    "start_time": "2022-03-10T09:09:54.196Z"
   },
   {
    "duration": 17,
    "start_time": "2022-03-10T09:10:48.671Z"
   },
   {
    "duration": 6547,
    "start_time": "2022-03-10T09:10:49.364Z"
   },
   {
    "duration": 10,
    "start_time": "2022-03-10T09:11:07.347Z"
   },
   {
    "duration": 322,
    "start_time": "2022-03-10T09:12:38.287Z"
   },
   {
    "duration": 502,
    "start_time": "2022-03-10T09:12:52.002Z"
   },
   {
    "duration": 464,
    "start_time": "2022-03-10T09:14:49.955Z"
   },
   {
    "duration": 595,
    "start_time": "2022-03-10T09:15:02.434Z"
   },
   {
    "duration": 561,
    "start_time": "2022-03-10T09:15:18.800Z"
   },
   {
    "duration": 540,
    "start_time": "2022-03-10T09:15:25.238Z"
   },
   {
    "duration": 538,
    "start_time": "2022-03-10T09:15:29.119Z"
   },
   {
    "duration": 729,
    "start_time": "2022-03-10T09:15:31.947Z"
   },
   {
    "duration": 570,
    "start_time": "2022-03-10T09:15:43.249Z"
   },
   {
    "duration": 531,
    "start_time": "2022-03-10T09:15:55.821Z"
   },
   {
    "duration": 552,
    "start_time": "2022-03-10T09:16:04.114Z"
   },
   {
    "duration": 520,
    "start_time": "2022-03-10T09:16:33.570Z"
   },
   {
    "duration": 443,
    "start_time": "2022-03-10T09:16:46.259Z"
   },
   {
    "duration": 409,
    "start_time": "2022-03-10T09:16:50.796Z"
   },
   {
    "duration": 402,
    "start_time": "2022-03-10T09:18:20.482Z"
   },
   {
    "duration": 5,
    "start_time": "2022-03-10T09:21:11.137Z"
   },
   {
    "duration": 7,
    "start_time": "2022-03-10T09:22:47.937Z"
   },
   {
    "duration": 248,
    "start_time": "2022-03-10T09:23:20.808Z"
   },
   {
    "duration": 979,
    "start_time": "2022-03-10T09:24:44.527Z"
   },
   {
    "duration": 1124,
    "start_time": "2022-03-10T09:24:53.626Z"
   },
   {
    "duration": 1007,
    "start_time": "2022-03-10T09:25:07.558Z"
   },
   {
    "duration": 1050,
    "start_time": "2022-03-10T09:25:18.869Z"
   },
   {
    "duration": 7,
    "start_time": "2022-03-10T09:25:22.377Z"
   },
   {
    "duration": 708,
    "start_time": "2022-03-10T09:25:23.545Z"
   },
   {
    "duration": 1048,
    "start_time": "2022-03-10T09:25:52.198Z"
   },
   {
    "duration": 7,
    "start_time": "2022-03-10T09:26:05.975Z"
   },
   {
    "duration": 716,
    "start_time": "2022-03-10T09:26:06.390Z"
   },
   {
    "duration": 211,
    "start_time": "2022-03-10T09:26:20.747Z"
   },
   {
    "duration": 424,
    "start_time": "2022-03-10T09:26:25.282Z"
   },
   {
    "duration": 266,
    "start_time": "2022-03-10T09:26:31.285Z"
   },
   {
    "duration": 696,
    "start_time": "2022-03-10T09:26:50.517Z"
   },
   {
    "duration": 321,
    "start_time": "2022-03-10T09:33:24.310Z"
   },
   {
    "duration": 322,
    "start_time": "2022-03-10T09:33:34.332Z"
   },
   {
    "duration": 4,
    "start_time": "2022-03-10T09:48:57.192Z"
   },
   {
    "duration": 239,
    "start_time": "2022-03-10T09:49:58.161Z"
   },
   {
    "duration": 4,
    "start_time": "2022-03-10T09:50:02.747Z"
   },
   {
    "duration": 3,
    "start_time": "2022-03-10T09:50:04.492Z"
   },
   {
    "duration": 3,
    "start_time": "2022-03-10T09:51:15.716Z"
   },
   {
    "duration": 242,
    "start_time": "2022-03-10T09:56:57.586Z"
   },
   {
    "duration": 4,
    "start_time": "2022-03-10T09:57:02.931Z"
   },
   {
    "duration": 257,
    "start_time": "2022-03-10T09:57:08.184Z"
   },
   {
    "duration": 258,
    "start_time": "2022-03-10T09:57:13.635Z"
   },
   {
    "duration": 10,
    "start_time": "2022-03-10T09:57:20.804Z"
   },
   {
    "duration": 13,
    "start_time": "2022-03-10T09:57:22.025Z"
   },
   {
    "duration": 242,
    "start_time": "2022-03-10T09:57:23.552Z"
   },
   {
    "duration": 802,
    "start_time": "2022-03-10T09:57:32.872Z"
   },
   {
    "duration": 341,
    "start_time": "2022-03-10T10:01:11.353Z"
   },
   {
    "duration": 405,
    "start_time": "2022-03-10T10:01:20.640Z"
   },
   {
    "duration": 1280,
    "start_time": "2022-03-10T10:01:42.298Z"
   },
   {
    "duration": 737,
    "start_time": "2022-03-10T10:01:43.580Z"
   },
   {
    "duration": 83,
    "start_time": "2022-03-10T10:01:44.320Z"
   },
   {
    "duration": 41,
    "start_time": "2022-03-10T10:01:44.405Z"
   },
   {
    "duration": 81,
    "start_time": "2022-03-10T10:01:44.448Z"
   },
   {
    "duration": 6,
    "start_time": "2022-03-10T10:01:44.531Z"
   },
   {
    "duration": 73,
    "start_time": "2022-03-10T10:01:44.539Z"
   },
   {
    "duration": 23,
    "start_time": "2022-03-10T10:01:44.615Z"
   },
   {
    "duration": 3,
    "start_time": "2022-03-10T10:01:44.641Z"
   },
   {
    "duration": 467,
    "start_time": "2022-03-10T10:01:44.645Z"
   },
   {
    "duration": 5,
    "start_time": "2022-03-10T10:01:45.115Z"
   },
   {
    "duration": 43,
    "start_time": "2022-03-10T10:01:45.122Z"
   },
   {
    "duration": 16,
    "start_time": "2022-03-10T10:01:45.167Z"
   },
   {
    "duration": 9,
    "start_time": "2022-03-10T10:01:45.185Z"
   },
   {
    "duration": 22,
    "start_time": "2022-03-10T10:01:45.196Z"
   },
   {
    "duration": 351,
    "start_time": "2022-03-10T10:01:45.220Z"
   },
   {
    "duration": 3,
    "start_time": "2022-03-10T10:01:45.573Z"
   },
   {
    "duration": 11,
    "start_time": "2022-03-10T10:01:45.578Z"
   },
   {
    "duration": 16,
    "start_time": "2022-03-10T10:01:45.591Z"
   },
   {
    "duration": 13,
    "start_time": "2022-03-10T10:01:45.610Z"
   },
   {
    "duration": 23,
    "start_time": "2022-03-10T10:01:45.625Z"
   },
   {
    "duration": 17,
    "start_time": "2022-03-10T10:01:45.650Z"
   },
   {
    "duration": 39,
    "start_time": "2022-03-10T10:01:45.671Z"
   },
   {
    "duration": 529,
    "start_time": "2022-03-10T10:01:45.713Z"
   },
   {
    "duration": 506,
    "start_time": "2022-03-10T10:01:46.244Z"
   },
   {
    "duration": 578,
    "start_time": "2022-03-10T10:01:46.752Z"
   },
   {
    "duration": 402,
    "start_time": "2022-03-10T10:01:47.332Z"
   },
   {
    "duration": 8,
    "start_time": "2022-03-10T10:01:47.736Z"
   },
   {
    "duration": 16,
    "start_time": "2022-03-10T10:01:47.746Z"
   },
   {
    "duration": 10,
    "start_time": "2022-03-10T10:01:47.764Z"
   },
   {
    "duration": 28,
    "start_time": "2022-03-10T10:01:47.776Z"
   },
   {
    "duration": 731,
    "start_time": "2022-03-10T10:01:47.806Z"
   },
   {
    "duration": 514,
    "start_time": "2022-03-10T10:01:48.540Z"
   },
   {
    "duration": 3,
    "start_time": "2022-03-10T10:01:49.056Z"
   },
   {
    "duration": 22,
    "start_time": "2022-03-10T10:01:49.061Z"
   },
   {
    "duration": 28,
    "start_time": "2022-03-10T10:01:49.085Z"
   },
   {
    "duration": 13,
    "start_time": "2022-03-10T10:01:49.115Z"
   },
   {
    "duration": 34,
    "start_time": "2022-03-10T10:01:49.130Z"
   },
   {
    "duration": 474,
    "start_time": "2022-03-10T10:02:46.303Z"
   },
   {
    "duration": 302,
    "start_time": "2022-03-10T10:05:18.978Z"
   },
   {
    "duration": 420,
    "start_time": "2022-03-10T10:05:37.827Z"
   },
   {
    "duration": 19254,
    "start_time": "2022-03-10T10:06:01.366Z"
   },
   {
    "duration": 5,
    "start_time": "2022-03-10T10:06:33.122Z"
   },
   {
    "duration": 67116,
    "start_time": "2022-03-10T10:07:15.558Z"
   },
   {
    "duration": 4,
    "start_time": "2022-03-10T10:08:22.676Z"
   },
   {
    "duration": 4,
    "start_time": "2022-03-10T10:08:37.741Z"
   },
   {
    "duration": 257,
    "start_time": "2022-03-10T10:09:37.867Z"
   },
   {
    "duration": 4,
    "start_time": "2022-03-10T10:10:28.320Z"
   },
   {
    "duration": 241,
    "start_time": "2022-03-10T10:10:29.324Z"
   },
   {
    "duration": 242,
    "start_time": "2022-03-10T10:10:43.867Z"
   },
   {
    "duration": 229,
    "start_time": "2022-03-10T10:10:58.833Z"
   },
   {
    "duration": 3,
    "start_time": "2022-03-10T10:11:12.449Z"
   },
   {
    "duration": 307,
    "start_time": "2022-03-10T10:11:57.600Z"
   },
   {
    "duration": 359,
    "start_time": "2022-03-10T10:12:08.500Z"
   },
   {
    "duration": 355,
    "start_time": "2022-03-10T10:12:43.939Z"
   },
   {
    "duration": 370,
    "start_time": "2022-03-10T10:13:07.569Z"
   },
   {
    "duration": 364,
    "start_time": "2022-03-10T10:13:22.489Z"
   },
   {
    "duration": 3,
    "start_time": "2022-03-10T10:14:42.363Z"
   },
   {
    "duration": 3,
    "start_time": "2022-03-10T10:14:45.160Z"
   },
   {
    "duration": 67739,
    "start_time": "2022-03-10T10:14:51.554Z"
   },
   {
    "duration": 6,
    "start_time": "2022-03-10T10:15:59.302Z"
   },
   {
    "duration": 381,
    "start_time": "2022-03-10T10:16:18.971Z"
   },
   {
    "duration": 1421,
    "start_time": "2022-03-10T10:16:24.039Z"
   },
   {
    "duration": 278,
    "start_time": "2022-03-10T10:16:31.326Z"
   },
   {
    "duration": 758,
    "start_time": "2022-03-10T10:16:58.753Z"
   },
   {
    "duration": 286,
    "start_time": "2022-03-10T10:17:06.975Z"
   },
   {
    "duration": 4,
    "start_time": "2022-03-10T10:17:44.614Z"
   },
   {
    "duration": 690,
    "start_time": "2022-03-10T10:17:48.867Z"
   },
   {
    "duration": 10,
    "start_time": "2022-03-10T10:17:53.564Z"
   },
   {
    "duration": 12,
    "start_time": "2022-03-10T10:18:01.270Z"
   },
   {
    "duration": 1348,
    "start_time": "2022-03-10T10:18:11.430Z"
   },
   {
    "duration": 10,
    "start_time": "2022-03-10T10:18:14.584Z"
   },
   {
    "duration": 3170,
    "start_time": "2022-03-10T10:18:27.420Z"
   },
   {
    "duration": 258,
    "start_time": "2022-03-10T10:18:59.079Z"
   },
   {
    "duration": 4,
    "start_time": "2022-03-10T10:19:05.761Z"
   },
   {
    "duration": 77,
    "start_time": "2022-03-10T10:22:56.843Z"
   },
   {
    "duration": 1710313,
    "start_time": "2022-03-10T10:23:03.896Z"
   },
   {
    "duration": 4,
    "start_time": "2022-03-10T10:51:34.211Z"
   },
   {
    "duration": 73826,
    "start_time": "2022-03-10T10:52:13.358Z"
   },
   {
    "duration": 5,
    "start_time": "2022-03-10T10:54:01.290Z"
   },
   {
    "duration": 2753557,
    "start_time": "2022-03-10T10:56:38.277Z"
   },
   {
    "duration": -387,
    "start_time": "2022-03-10T11:42:32.224Z"
   },
   {
    "duration": 138921,
    "start_time": "2022-03-10T11:42:39.363Z"
   },
   {
    "duration": -394,
    "start_time": "2022-03-10T11:44:58.680Z"
   },
   {
    "duration": 978,
    "start_time": "2022-03-10T11:46:29.766Z"
   },
   {
    "duration": 951,
    "start_time": "2022-03-10T11:46:38.259Z"
   },
   {
    "duration": 14582,
    "start_time": "2022-03-10T11:46:46.233Z"
   },
   {
    "duration": 28,
    "start_time": "2022-03-10T11:56:16.873Z"
   },
   {
    "duration": 705,
    "start_time": "2022-03-10T11:56:16.924Z"
   },
   {
    "duration": 70,
    "start_time": "2022-03-10T11:56:19.019Z"
   },
   {
    "duration": 67,
    "start_time": "2022-03-10T11:56:19.265Z"
   },
   {
    "duration": 89,
    "start_time": "2022-03-10T11:56:19.453Z"
   },
   {
    "duration": 8,
    "start_time": "2022-03-10T11:56:19.712Z"
   },
   {
    "duration": 65,
    "start_time": "2022-03-10T11:56:19.764Z"
   },
   {
    "duration": 23,
    "start_time": "2022-03-10T11:56:19.938Z"
   },
   {
    "duration": 4,
    "start_time": "2022-03-10T11:56:20.047Z"
   },
   {
    "duration": 428,
    "start_time": "2022-03-10T11:56:20.114Z"
   },
   {
    "duration": 6,
    "start_time": "2022-03-10T11:56:21.379Z"
   },
   {
    "duration": 18,
    "start_time": "2022-03-10T11:56:21.427Z"
   },
   {
    "duration": 23,
    "start_time": "2022-03-10T11:56:21.488Z"
   },
   {
    "duration": 6,
    "start_time": "2022-03-10T11:56:21.555Z"
   },
   {
    "duration": 12,
    "start_time": "2022-03-10T11:56:21.582Z"
   },
   {
    "duration": 343,
    "start_time": "2022-03-10T11:56:21.624Z"
   },
   {
    "duration": 3,
    "start_time": "2022-03-10T11:56:22.641Z"
   },
   {
    "duration": 14,
    "start_time": "2022-03-10T11:56:22.680Z"
   },
   {
    "duration": 14,
    "start_time": "2022-03-10T11:56:22.720Z"
   },
   {
    "duration": 37,
    "start_time": "2022-03-10T11:56:22.765Z"
   },
   {
    "duration": 20,
    "start_time": "2022-03-10T11:56:22.845Z"
   },
   {
    "duration": 13,
    "start_time": "2022-03-10T11:56:22.941Z"
   },
   {
    "duration": -363,
    "start_time": "2022-03-10T11:56:23.573Z"
   },
   {
    "duration": -366,
    "start_time": "2022-03-10T11:56:23.580Z"
   },
   {
    "duration": -370,
    "start_time": "2022-03-10T11:56:23.590Z"
   },
   {
    "duration": -372,
    "start_time": "2022-03-10T11:56:23.596Z"
   },
   {
    "duration": -370,
    "start_time": "2022-03-10T11:56:23.599Z"
   },
   {
    "duration": -368,
    "start_time": "2022-03-10T11:56:23.601Z"
   },
   {
    "duration": -371,
    "start_time": "2022-03-10T11:56:23.608Z"
   },
   {
    "duration": -373,
    "start_time": "2022-03-10T11:56:23.614Z"
   },
   {
    "duration": -372,
    "start_time": "2022-03-10T11:56:23.617Z"
   },
   {
    "duration": -363,
    "start_time": "2022-03-10T11:56:23.665Z"
   },
   {
    "duration": -365,
    "start_time": "2022-03-10T11:56:23.672Z"
   },
   {
    "duration": -375,
    "start_time": "2022-03-10T11:56:23.686Z"
   },
   {
    "duration": -385,
    "start_time": "2022-03-10T11:56:23.700Z"
   },
   {
    "duration": -385,
    "start_time": "2022-03-10T11:56:23.703Z"
   },
   {
    "duration": -383,
    "start_time": "2022-03-10T11:56:23.705Z"
   },
   {
    "duration": -406,
    "start_time": "2022-03-10T11:56:23.732Z"
   },
   {
    "duration": -404,
    "start_time": "2022-03-10T11:56:23.734Z"
   },
   {
    "duration": -402,
    "start_time": "2022-03-10T11:56:23.736Z"
   },
   {
    "duration": -401,
    "start_time": "2022-03-10T11:56:23.739Z"
   },
   {
    "duration": -375,
    "start_time": "2022-03-10T11:56:23.778Z"
   },
   {
    "duration": -383,
    "start_time": "2022-03-10T11:56:23.790Z"
   },
   {
    "duration": -382,
    "start_time": "2022-03-10T11:56:23.793Z"
   },
   {
    "duration": -383,
    "start_time": "2022-03-10T11:56:23.795Z"
   },
   {
    "duration": -382,
    "start_time": "2022-03-10T11:56:23.796Z"
   },
   {
    "duration": -388,
    "start_time": "2022-03-10T11:56:23.803Z"
   },
   {
    "duration": -388,
    "start_time": "2022-03-10T11:56:23.805Z"
   },
   {
    "duration": -389,
    "start_time": "2022-03-10T11:56:23.807Z"
   },
   {
    "duration": -389,
    "start_time": "2022-03-10T11:56:23.809Z"
   },
   {
    "duration": -390,
    "start_time": "2022-03-10T11:56:23.811Z"
   },
   {
    "duration": -390,
    "start_time": "2022-03-10T11:56:23.813Z"
   },
   {
    "duration": -391,
    "start_time": "2022-03-10T11:56:23.815Z"
   },
   {
    "duration": -396,
    "start_time": "2022-03-10T11:56:23.822Z"
   },
   {
    "duration": -397,
    "start_time": "2022-03-10T11:56:23.824Z"
   },
   {
    "duration": -397,
    "start_time": "2022-03-10T11:56:23.825Z"
   },
   {
    "duration": -399,
    "start_time": "2022-03-10T11:56:23.828Z"
   },
   {
    "duration": -398,
    "start_time": "2022-03-10T11:56:23.829Z"
   },
   {
    "duration": -400,
    "start_time": "2022-03-10T11:56:23.832Z"
   },
   {
    "duration": 4,
    "start_time": "2022-03-10T11:58:26.472Z"
   },
   {
    "duration": 732,
    "start_time": "2022-03-10T11:58:26.479Z"
   },
   {
    "duration": 72,
    "start_time": "2022-03-10T11:58:27.214Z"
   },
   {
    "duration": 51,
    "start_time": "2022-03-10T11:58:27.301Z"
   },
   {
    "duration": 131,
    "start_time": "2022-03-10T11:58:27.355Z"
   },
   {
    "duration": 18,
    "start_time": "2022-03-10T11:58:27.488Z"
   },
   {
    "duration": 55,
    "start_time": "2022-03-10T11:58:27.509Z"
   },
   {
    "duration": 60,
    "start_time": "2022-03-10T11:58:27.567Z"
   },
   {
    "duration": 4,
    "start_time": "2022-03-10T11:58:27.629Z"
   },
   {
    "duration": 459,
    "start_time": "2022-03-10T11:58:27.636Z"
   },
   {
    "duration": 7,
    "start_time": "2022-03-10T11:58:28.097Z"
   },
   {
    "duration": 42,
    "start_time": "2022-03-10T11:58:28.106Z"
   },
   {
    "duration": 23,
    "start_time": "2022-03-10T11:58:28.150Z"
   },
   {
    "duration": 18,
    "start_time": "2022-03-10T11:58:28.174Z"
   },
   {
    "duration": 40,
    "start_time": "2022-03-10T11:58:28.194Z"
   },
   {
    "duration": 371,
    "start_time": "2022-03-10T11:58:28.236Z"
   },
   {
    "duration": 3,
    "start_time": "2022-03-10T11:58:28.609Z"
   },
   {
    "duration": 20,
    "start_time": "2022-03-10T11:58:28.614Z"
   },
   {
    "duration": 25,
    "start_time": "2022-03-10T11:58:28.637Z"
   },
   {
    "duration": 29,
    "start_time": "2022-03-10T11:58:28.665Z"
   },
   {
    "duration": 20,
    "start_time": "2022-03-10T11:58:28.696Z"
   },
   {
    "duration": 21,
    "start_time": "2022-03-10T11:58:28.719Z"
   },
   {
    "duration": 13,
    "start_time": "2022-03-10T11:58:28.742Z"
   },
   {
    "duration": 552,
    "start_time": "2022-03-10T11:58:28.757Z"
   },
   {
    "duration": 555,
    "start_time": "2022-03-10T11:58:29.311Z"
   },
   {
    "duration": 650,
    "start_time": "2022-03-10T11:58:29.868Z"
   },
   {
    "duration": 420,
    "start_time": "2022-03-10T11:58:30.520Z"
   },
   {
    "duration": 9,
    "start_time": "2022-03-10T11:58:30.942Z"
   },
   {
    "duration": 13,
    "start_time": "2022-03-10T11:58:30.953Z"
   },
   {
    "duration": 34,
    "start_time": "2022-03-10T11:58:30.968Z"
   },
   {
    "duration": 7,
    "start_time": "2022-03-10T11:58:31.005Z"
   },
   {
    "duration": 779,
    "start_time": "2022-03-10T11:58:31.014Z"
   },
   {
    "duration": 357,
    "start_time": "2022-03-10T11:58:31.795Z"
   },
   {
    "duration": 4,
    "start_time": "2022-03-10T11:58:32.153Z"
   },
   {
    "duration": 8,
    "start_time": "2022-03-10T11:58:32.159Z"
   },
   {
    "duration": 37,
    "start_time": "2022-03-10T11:58:32.170Z"
   },
   {
    "duration": 8,
    "start_time": "2022-03-10T11:58:32.209Z"
   },
   {
    "duration": 20,
    "start_time": "2022-03-10T11:58:32.219Z"
   },
   {
    "duration": 72449,
    "start_time": "2022-03-10T11:58:32.241Z"
   },
   {
    "duration": 11,
    "start_time": "2022-03-10T11:59:44.692Z"
   },
   {
    "duration": 1397,
    "start_time": "2022-03-10T11:59:44.706Z"
   },
   {
    "duration": 13,
    "start_time": "2022-03-10T11:59:46.105Z"
   },
   {
    "duration": 3636,
    "start_time": "2022-03-10T11:59:46.120Z"
   },
   {
    "duration": 183291,
    "start_time": "2022-03-10T11:59:57.835Z"
   },
   {
    "duration": -402,
    "start_time": "2022-03-10T12:03:01.531Z"
   },
   {
    "duration": 6289,
    "start_time": "2022-03-10T12:03:05.860Z"
   },
   {
    "duration": -404,
    "start_time": "2022-03-10T12:03:12.556Z"
   },
   {
    "duration": 270,
    "start_time": "2022-03-10T12:03:17.831Z"
   },
   {
    "duration": -389,
    "start_time": "2022-03-10T12:04:34.738Z"
   },
   {
    "duration": 168200,
    "start_time": "2022-03-10T12:04:35.237Z"
   },
   {
    "duration": 279,
    "start_time": "2022-03-10T12:08:20.074Z"
   },
   {
    "duration": 249,
    "start_time": "2022-03-10T12:08:29.146Z"
   },
   {
    "duration": 25549,
    "start_time": "2022-03-10T12:08:36.111Z"
   },
   {
    "duration": -420,
    "start_time": "2022-03-10T12:09:02.083Z"
   },
   {
    "duration": -422,
    "start_time": "2022-03-10T12:09:02.086Z"
   },
   {
    "duration": 26525,
    "start_time": "2022-03-10T12:09:04.064Z"
   },
   {
    "duration": -408,
    "start_time": "2022-03-10T12:09:30.999Z"
   },
   {
    "duration": 25104,
    "start_time": "2022-03-10T12:10:06.441Z"
   },
   {
    "duration": 1286,
    "start_time": "2022-03-10T12:11:30.875Z"
   },
   {
    "duration": 746,
    "start_time": "2022-03-10T12:11:32.163Z"
   },
   {
    "duration": 116,
    "start_time": "2022-03-10T12:11:32.911Z"
   },
   {
    "duration": 98,
    "start_time": "2022-03-10T12:11:33.030Z"
   },
   {
    "duration": 179,
    "start_time": "2022-03-10T12:11:33.130Z"
   },
   {
    "duration": 5,
    "start_time": "2022-03-10T12:11:33.311Z"
   },
   {
    "duration": 112,
    "start_time": "2022-03-10T12:11:33.318Z"
   },
   {
    "duration": 83,
    "start_time": "2022-03-10T12:11:33.433Z"
   },
   {
    "duration": 3,
    "start_time": "2022-03-10T12:11:33.519Z"
   },
   {
    "duration": 505,
    "start_time": "2022-03-10T12:11:33.524Z"
   },
   {
    "duration": 6,
    "start_time": "2022-03-10T12:11:34.031Z"
   },
   {
    "duration": 8,
    "start_time": "2022-03-10T12:11:34.038Z"
   },
   {
    "duration": 10,
    "start_time": "2022-03-10T12:11:34.048Z"
   },
   {
    "duration": 11,
    "start_time": "2022-03-10T12:11:34.060Z"
   },
   {
    "duration": 17,
    "start_time": "2022-03-10T12:11:34.073Z"
   },
   {
    "duration": 350,
    "start_time": "2022-03-10T12:11:34.102Z"
   },
   {
    "duration": 5,
    "start_time": "2022-03-10T12:11:34.454Z"
   },
   {
    "duration": 9,
    "start_time": "2022-03-10T12:11:34.460Z"
   },
   {
    "duration": 12,
    "start_time": "2022-03-10T12:11:34.471Z"
   },
   {
    "duration": 27,
    "start_time": "2022-03-10T12:11:34.485Z"
   },
   {
    "duration": 23,
    "start_time": "2022-03-10T12:11:34.514Z"
   },
   {
    "duration": 17,
    "start_time": "2022-03-10T12:11:34.539Z"
   },
   {
    "duration": 13,
    "start_time": "2022-03-10T12:11:34.560Z"
   },
   {
    "duration": 821,
    "start_time": "2022-03-10T12:11:34.575Z"
   },
   {
    "duration": 505,
    "start_time": "2022-03-10T12:11:35.398Z"
   },
   {
    "duration": 580,
    "start_time": "2022-03-10T12:11:35.905Z"
   },
   {
    "duration": 399,
    "start_time": "2022-03-10T12:11:36.487Z"
   },
   {
    "duration": 18,
    "start_time": "2022-03-10T12:11:36.888Z"
   },
   {
    "duration": 28,
    "start_time": "2022-03-10T12:11:36.908Z"
   },
   {
    "duration": 27,
    "start_time": "2022-03-10T12:11:36.938Z"
   },
   {
    "duration": 23,
    "start_time": "2022-03-10T12:11:36.967Z"
   },
   {
    "duration": 855,
    "start_time": "2022-03-10T12:11:36.992Z"
   },
   {
    "duration": 342,
    "start_time": "2022-03-10T12:11:37.850Z"
   },
   {
    "duration": 4,
    "start_time": "2022-03-10T12:11:38.201Z"
   },
   {
    "duration": 12,
    "start_time": "2022-03-10T12:11:38.206Z"
   },
   {
    "duration": 23,
    "start_time": "2022-03-10T12:11:38.219Z"
   },
   {
    "duration": 9,
    "start_time": "2022-03-10T12:11:38.244Z"
   },
   {
    "duration": 20,
    "start_time": "2022-03-10T12:11:38.255Z"
   },
   {
    "duration": 67525,
    "start_time": "2022-03-10T12:11:38.277Z"
   },
   {
    "duration": 4,
    "start_time": "2022-03-10T12:12:45.804Z"
   },
   {
    "duration": 1320,
    "start_time": "2022-03-10T12:12:45.809Z"
   },
   {
    "duration": 11,
    "start_time": "2022-03-10T12:12:47.131Z"
   },
   {
    "duration": 3236,
    "start_time": "2022-03-10T12:12:47.144Z"
   },
   {
    "duration": 112145,
    "start_time": "2022-03-10T12:13:55.506Z"
   },
   {
    "duration": -446,
    "start_time": "2022-03-10T12:15:48.099Z"
   },
   {
    "duration": 7581965,
    "start_time": "2022-03-10T12:15:53.671Z"
   },
   {
    "duration": -469,
    "start_time": "2022-03-10T14:22:16.108Z"
   },
   {
    "duration": -467,
    "start_time": "2022-03-10T14:22:16.111Z"
   },
   {
    "duration": -466,
    "start_time": "2022-03-10T14:22:16.113Z"
   },
   {
    "duration": -468,
    "start_time": "2022-03-10T14:22:16.116Z"
   },
   {
    "duration": -469,
    "start_time": "2022-03-10T14:22:16.118Z"
   },
   {
    "duration": -470,
    "start_time": "2022-03-10T14:22:16.120Z"
   },
   {
    "duration": -471,
    "start_time": "2022-03-10T14:22:16.122Z"
   },
   {
    "duration": -472,
    "start_time": "2022-03-10T14:22:16.124Z"
   },
   {
    "duration": -473,
    "start_time": "2022-03-10T14:22:16.126Z"
   },
   {
    "duration": -475,
    "start_time": "2022-03-10T14:22:16.129Z"
   },
   {
    "duration": -476,
    "start_time": "2022-03-10T14:22:16.131Z"
   },
   {
    "duration": -476,
    "start_time": "2022-03-10T14:22:16.133Z"
   },
   {
    "duration": -477,
    "start_time": "2022-03-10T14:22:16.135Z"
   },
   {
    "duration": -478,
    "start_time": "2022-03-10T14:22:16.137Z"
   },
   {
    "duration": -479,
    "start_time": "2022-03-10T14:22:16.139Z"
   },
   {
    "duration": 121455,
    "start_time": "2022-03-10T14:24:32.613Z"
   },
   {
    "duration": -468,
    "start_time": "2022-03-10T14:26:34.539Z"
   },
   {
    "duration": 142538,
    "start_time": "2022-03-10T14:26:34.802Z"
   },
   {
    "duration": 3,
    "start_time": "2022-03-10T14:32:16.664Z"
   },
   {
    "duration": 3,
    "start_time": "2022-03-10T14:32:21.966Z"
   },
   {
    "duration": 250,
    "start_time": "2022-03-10T14:38:19.173Z"
   },
   {
    "duration": 961,
    "start_time": "2022-03-10T14:38:23.445Z"
   },
   {
    "duration": 1249,
    "start_time": "2022-03-10T14:38:29.771Z"
   },
   {
    "duration": 2388,
    "start_time": "2022-03-10T14:38:41.898Z"
   },
   {
    "duration": 1165,
    "start_time": "2022-03-10T14:38:59.463Z"
   },
   {
    "duration": 1029,
    "start_time": "2022-03-10T14:39:09.498Z"
   },
   {
    "duration": 984,
    "start_time": "2022-03-10T14:39:24.824Z"
   },
   {
    "duration": 1418,
    "start_time": "2022-03-10T14:39:41.854Z"
   },
   {
    "duration": 986,
    "start_time": "2022-03-10T14:39:43.274Z"
   },
   {
    "duration": 115,
    "start_time": "2022-03-10T14:39:44.263Z"
   },
   {
    "duration": 83,
    "start_time": "2022-03-10T14:39:44.381Z"
   },
   {
    "duration": 95,
    "start_time": "2022-03-10T14:39:44.467Z"
   },
   {
    "duration": 7,
    "start_time": "2022-03-10T14:39:44.564Z"
   },
   {
    "duration": 73,
    "start_time": "2022-03-10T14:39:44.573Z"
   },
   {
    "duration": 53,
    "start_time": "2022-03-10T14:39:44.649Z"
   },
   {
    "duration": 4,
    "start_time": "2022-03-10T14:39:44.705Z"
   },
   {
    "duration": 485,
    "start_time": "2022-03-10T14:39:44.711Z"
   },
   {
    "duration": 7,
    "start_time": "2022-03-10T14:39:45.201Z"
   },
   {
    "duration": 13,
    "start_time": "2022-03-10T14:39:45.210Z"
   },
   {
    "duration": 14,
    "start_time": "2022-03-10T14:39:45.226Z"
   },
   {
    "duration": 12,
    "start_time": "2022-03-10T14:39:45.242Z"
   },
   {
    "duration": 16,
    "start_time": "2022-03-10T14:39:45.256Z"
   },
   {
    "duration": 364,
    "start_time": "2022-03-10T14:39:45.274Z"
   },
   {
    "duration": 4,
    "start_time": "2022-03-10T14:39:45.640Z"
   },
   {
    "duration": 12,
    "start_time": "2022-03-10T14:39:45.646Z"
   },
   {
    "duration": 14,
    "start_time": "2022-03-10T14:39:45.660Z"
   },
   {
    "duration": 36,
    "start_time": "2022-03-10T14:39:45.676Z"
   },
   {
    "duration": 24,
    "start_time": "2022-03-10T14:39:45.714Z"
   },
   {
    "duration": 20,
    "start_time": "2022-03-10T14:39:45.740Z"
   },
   {
    "duration": 39,
    "start_time": "2022-03-10T14:39:45.763Z"
   },
   {
    "duration": 770,
    "start_time": "2022-03-10T14:39:45.805Z"
   },
   {
    "duration": 727,
    "start_time": "2022-03-10T14:39:46.577Z"
   },
   {
    "duration": 778,
    "start_time": "2022-03-10T14:39:47.306Z"
   },
   {
    "duration": 575,
    "start_time": "2022-03-10T14:39:48.086Z"
   },
   {
    "duration": 27,
    "start_time": "2022-03-10T14:39:48.663Z"
   },
   {
    "duration": 10,
    "start_time": "2022-03-10T14:39:48.692Z"
   },
   {
    "duration": 11,
    "start_time": "2022-03-10T14:39:48.704Z"
   },
   {
    "duration": 8,
    "start_time": "2022-03-10T14:39:48.717Z"
   },
   {
    "duration": 1275,
    "start_time": "2022-03-10T14:39:48.727Z"
   },
   {
    "duration": 483,
    "start_time": "2022-03-10T14:39:50.004Z"
   },
   {
    "duration": 13,
    "start_time": "2022-03-10T14:39:50.488Z"
   },
   {
    "duration": 17,
    "start_time": "2022-03-10T14:39:50.503Z"
   },
   {
    "duration": 20,
    "start_time": "2022-03-10T14:39:50.522Z"
   },
   {
    "duration": 10,
    "start_time": "2022-03-10T14:39:50.543Z"
   },
   {
    "duration": 20,
    "start_time": "2022-03-10T14:39:50.555Z"
   },
   {
    "duration": 73237,
    "start_time": "2022-03-10T14:39:50.578Z"
   },
   {
    "duration": 5,
    "start_time": "2022-03-10T14:41:03.818Z"
   },
   {
    "duration": 1729,
    "start_time": "2022-03-10T14:41:03.826Z"
   },
   {
    "duration": 14,
    "start_time": "2022-03-10T14:41:05.558Z"
   },
   {
    "duration": 3509,
    "start_time": "2022-03-10T14:41:05.574Z"
   },
   {
    "duration": 4,
    "start_time": "2022-03-10T14:41:09.085Z"
   },
   {
    "duration": 23,
    "start_time": "2022-03-10T14:41:09.091Z"
   },
   {
    "duration": 607102,
    "start_time": "2022-03-10T14:43:18.968Z"
   },
   {
    "duration": 479,
    "start_time": "2022-03-10T14:57:27.527Z"
   },
   {
    "duration": 101,
    "start_time": "2022-03-10T14:57:28.010Z"
   },
   {
    "duration": 1888,
    "start_time": "2022-03-10T14:57:28.115Z"
   },
   {
    "duration": 324,
    "start_time": "2022-03-10T14:58:36.237Z"
   },
   {
    "duration": 3,
    "start_time": "2022-03-10T14:58:53.224Z"
   },
   {
    "duration": 929,
    "start_time": "2022-03-10T14:59:14.481Z"
   },
   {
    "duration": 1392,
    "start_time": "2022-03-10T14:59:29.016Z"
   },
   {
    "duration": 259,
    "start_time": "2022-03-10T15:00:21.886Z"
   },
   {
    "duration": -438,
    "start_time": "2022-03-10T15:00:22.586Z"
   },
   {
    "duration": -455,
    "start_time": "2022-03-10T15:00:22.604Z"
   },
   {
    "duration": -460,
    "start_time": "2022-03-10T15:00:22.610Z"
   },
   {
    "duration": -461,
    "start_time": "2022-03-10T15:00:22.612Z"
   },
   {
    "duration": -462,
    "start_time": "2022-03-10T15:00:22.614Z"
   },
   {
    "duration": -464,
    "start_time": "2022-03-10T15:00:22.617Z"
   },
   {
    "duration": -465,
    "start_time": "2022-03-10T15:00:22.619Z"
   },
   {
    "duration": 6,
    "start_time": "2022-03-10T15:00:29.701Z"
   },
   {
    "duration": 8,
    "start_time": "2022-03-10T15:00:31.056Z"
   },
   {
    "duration": 5,
    "start_time": "2022-03-10T15:00:31.553Z"
   },
   {
    "duration": 5,
    "start_time": "2022-03-10T15:00:32.537Z"
   },
   {
    "duration": 10905,
    "start_time": "2022-03-10T15:00:34.287Z"
   },
   {
    "duration": 253,
    "start_time": "2022-03-10T15:00:45.194Z"
   },
   {
    "duration": -463,
    "start_time": "2022-03-10T15:00:45.912Z"
   },
   {
    "duration": -465,
    "start_time": "2022-03-10T15:00:45.915Z"
   },
   {
    "duration": 5,
    "start_time": "2022-03-10T15:00:54.598Z"
   },
   {
    "duration": 15,
    "start_time": "2022-03-10T15:00:58.062Z"
   },
   {
    "duration": 271,
    "start_time": "2022-03-10T15:01:07.553Z"
   },
   {
    "duration": 13,
    "start_time": "2022-03-10T15:01:13.364Z"
   },
   {
    "duration": 3278,
    "start_time": "2022-03-10T15:08:23.433Z"
   },
   {
    "duration": 1363,
    "start_time": "2022-03-10T15:08:30.804Z"
   },
   {
    "duration": 750,
    "start_time": "2022-03-10T15:08:32.172Z"
   },
   {
    "duration": 88,
    "start_time": "2022-03-10T15:08:32.924Z"
   },
   {
    "duration": 44,
    "start_time": "2022-03-10T15:08:33.015Z"
   },
   {
    "duration": 89,
    "start_time": "2022-03-10T15:08:33.062Z"
   },
   {
    "duration": 6,
    "start_time": "2022-03-10T15:08:33.153Z"
   },
   {
    "duration": 67,
    "start_time": "2022-03-10T15:08:33.162Z"
   },
   {
    "duration": 23,
    "start_time": "2022-03-10T15:08:33.232Z"
   },
   {
    "duration": 4,
    "start_time": "2022-03-10T15:08:33.257Z"
   },
   {
    "duration": 503,
    "start_time": "2022-03-10T15:08:33.263Z"
   },
   {
    "duration": 6,
    "start_time": "2022-03-10T15:08:33.768Z"
   },
   {
    "duration": 7,
    "start_time": "2022-03-10T15:08:33.776Z"
   },
   {
    "duration": 17,
    "start_time": "2022-03-10T15:08:33.785Z"
   },
   {
    "duration": 6,
    "start_time": "2022-03-10T15:08:33.804Z"
   },
   {
    "duration": 21,
    "start_time": "2022-03-10T15:08:33.812Z"
   },
   {
    "duration": 371,
    "start_time": "2022-03-10T15:08:33.835Z"
   },
   {
    "duration": 4,
    "start_time": "2022-03-10T15:08:34.209Z"
   },
   {
    "duration": 26,
    "start_time": "2022-03-10T15:08:34.215Z"
   },
   {
    "duration": 22,
    "start_time": "2022-03-10T15:08:34.244Z"
   },
   {
    "duration": 19,
    "start_time": "2022-03-10T15:08:34.268Z"
   },
   {
    "duration": 28,
    "start_time": "2022-03-10T15:08:34.289Z"
   },
   {
    "duration": 19,
    "start_time": "2022-03-10T15:08:34.320Z"
   },
   {
    "duration": 11,
    "start_time": "2022-03-10T15:08:34.341Z"
   },
   {
    "duration": 750,
    "start_time": "2022-03-10T15:08:34.354Z"
   },
   {
    "duration": 517,
    "start_time": "2022-03-10T15:08:35.108Z"
   },
   {
    "duration": 595,
    "start_time": "2022-03-10T15:08:35.628Z"
   },
   {
    "duration": 408,
    "start_time": "2022-03-10T15:08:36.226Z"
   },
   {
    "duration": 9,
    "start_time": "2022-03-10T15:08:36.636Z"
   },
   {
    "duration": 18,
    "start_time": "2022-03-10T15:08:36.646Z"
   },
   {
    "duration": 14,
    "start_time": "2022-03-10T15:08:36.666Z"
   },
   {
    "duration": 30,
    "start_time": "2022-03-10T15:08:36.682Z"
   },
   {
    "duration": 745,
    "start_time": "2022-03-10T15:08:36.714Z"
   },
   {
    "duration": 449,
    "start_time": "2022-03-10T15:08:37.461Z"
   },
   {
    "duration": 4,
    "start_time": "2022-03-10T15:08:37.912Z"
   },
   {
    "duration": 8,
    "start_time": "2022-03-10T15:08:37.918Z"
   },
   {
    "duration": 23,
    "start_time": "2022-03-10T15:08:37.928Z"
   },
   {
    "duration": 7,
    "start_time": "2022-03-10T15:08:37.953Z"
   },
   {
    "duration": 20,
    "start_time": "2022-03-10T15:08:37.962Z"
   },
   {
    "duration": 69310,
    "start_time": "2022-03-10T15:08:37.984Z"
   },
   {
    "duration": 4,
    "start_time": "2022-03-10T15:09:47.301Z"
   },
   {
    "duration": 1359,
    "start_time": "2022-03-10T15:09:47.306Z"
   },
   {
    "duration": 12,
    "start_time": "2022-03-10T15:09:48.667Z"
   },
   {
    "duration": 3241,
    "start_time": "2022-03-10T15:09:48.681Z"
   },
   {
    "duration": 2,
    "start_time": "2022-03-10T15:09:51.924Z"
   },
   {
    "duration": 14,
    "start_time": "2022-03-10T15:09:51.928Z"
   },
   {
    "duration": 540602,
    "start_time": "2022-03-10T15:09:51.945Z"
   },
   {
    "duration": 260,
    "start_time": "2022-03-10T15:18:52.549Z"
   },
   {
    "duration": 100,
    "start_time": "2022-03-10T15:18:52.812Z"
   },
   {
    "duration": 1798,
    "start_time": "2022-03-10T15:18:52.914Z"
   },
   {
    "duration": 7,
    "start_time": "2022-03-10T15:18:54.715Z"
   },
   {
    "duration": 6,
    "start_time": "2022-03-10T15:18:54.802Z"
   },
   {
    "duration": 11,
    "start_time": "2022-03-10T15:18:54.810Z"
   },
   {
    "duration": 9,
    "start_time": "2022-03-10T15:18:54.823Z"
   },
   {
    "duration": 12984,
    "start_time": "2022-03-10T15:18:54.834Z"
   },
   {
    "duration": 5,
    "start_time": "2022-03-10T15:19:07.821Z"
   },
   {
    "duration": 27,
    "start_time": "2022-03-10T15:19:07.829Z"
   },
   {
    "duration": 16,
    "start_time": "2022-03-10T15:19:07.858Z"
   },
   {
    "duration": 6,
    "start_time": "2022-03-11T12:16:38.299Z"
   },
   {
    "duration": 4,
    "start_time": "2022-03-11T12:16:49.748Z"
   },
   {
    "duration": 72,
    "start_time": "2022-03-27T03:15:17.055Z"
   },
   {
    "duration": 2053,
    "start_time": "2022-03-27T03:15:32.255Z"
   },
   {
    "duration": 779,
    "start_time": "2022-03-27T03:15:34.310Z"
   },
   {
    "duration": 119,
    "start_time": "2022-03-27T03:15:35.091Z"
   },
   {
    "duration": 78,
    "start_time": "2022-03-27T03:15:35.212Z"
   },
   {
    "duration": 116,
    "start_time": "2022-03-27T03:15:35.292Z"
   },
   {
    "duration": 8,
    "start_time": "2022-03-27T03:15:35.410Z"
   },
   {
    "duration": 85,
    "start_time": "2022-03-27T03:15:35.421Z"
   },
   {
    "duration": 27,
    "start_time": "2022-03-27T03:15:35.509Z"
   },
   {
    "duration": 5,
    "start_time": "2022-03-27T03:15:35.566Z"
   },
   {
    "duration": 363,
    "start_time": "2022-03-27T03:15:35.574Z"
   },
   {
    "duration": 8,
    "start_time": "2022-03-27T03:15:35.939Z"
   },
   {
    "duration": 21,
    "start_time": "2022-03-27T03:15:35.949Z"
   },
   {
    "duration": 16,
    "start_time": "2022-03-27T03:15:35.972Z"
   },
   {
    "duration": 20,
    "start_time": "2022-03-27T03:15:35.990Z"
   },
   {
    "duration": 5,
    "start_time": "2022-03-27T03:15:36.012Z"
   },
   {
    "duration": 22,
    "start_time": "2022-03-27T03:15:36.019Z"
   },
   {
    "duration": 299,
    "start_time": "2022-03-27T03:15:36.043Z"
   },
   {
    "duration": 4,
    "start_time": "2022-03-27T03:15:36.344Z"
   },
   {
    "duration": 19,
    "start_time": "2022-03-27T03:15:36.351Z"
   },
   {
    "duration": 18,
    "start_time": "2022-03-27T03:15:36.372Z"
   },
   {
    "duration": 22,
    "start_time": "2022-03-27T03:15:36.392Z"
   },
   {
    "duration": 58,
    "start_time": "2022-03-27T03:15:36.416Z"
   },
   {
    "duration": 21,
    "start_time": "2022-03-27T03:15:36.477Z"
   },
   {
    "duration": 13,
    "start_time": "2022-03-27T03:15:36.500Z"
   },
   {
    "duration": 605,
    "start_time": "2022-03-27T03:15:36.515Z"
   },
   {
    "duration": 630,
    "start_time": "2022-03-27T03:15:37.122Z"
   },
   {
    "duration": 550,
    "start_time": "2022-03-27T03:15:37.754Z"
   },
   {
    "duration": 436,
    "start_time": "2022-03-27T03:15:38.308Z"
   },
   {
    "duration": 20,
    "start_time": "2022-03-27T03:15:38.747Z"
   },
   {
    "duration": 9,
    "start_time": "2022-03-27T03:15:38.769Z"
   },
   {
    "duration": 9,
    "start_time": "2022-03-27T03:15:38.781Z"
   },
   {
    "duration": 8,
    "start_time": "2022-03-27T03:15:38.793Z"
   },
   {
    "duration": 513,
    "start_time": "2022-03-27T03:15:38.803Z"
   },
   {
    "duration": 403,
    "start_time": "2022-03-27T03:15:41.759Z"
   }
  ],
  "kernelspec": {
   "display_name": "Python 3 (ipykernel)",
   "language": "python",
   "name": "python3"
  },
  "language_info": {
   "codemirror_mode": {
    "name": "ipython",
    "version": 3
   },
   "file_extension": ".py",
   "mimetype": "text/x-python",
   "name": "python",
   "nbconvert_exporter": "python",
   "pygments_lexer": "ipython3",
   "version": "3.9.7"
  },
  "toc": {
   "base_numbering": 1,
   "nav_menu": {},
   "number_sections": true,
   "sideBar": true,
   "skip_h1_title": true,
   "title_cell": "Содержание",
   "title_sidebar": "Contents",
   "toc_cell": true,
   "toc_position": {
    "height": "calc(100% - 180px)",
    "left": "10px",
    "top": "150px",
    "width": "366.391px"
   },
   "toc_section_display": true,
   "toc_window_display": true
  }
 },
 "nbformat": 4,
 "nbformat_minor": 2
}
