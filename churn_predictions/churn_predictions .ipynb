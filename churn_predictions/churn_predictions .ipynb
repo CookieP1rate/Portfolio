{
 "cells": [
  {
   "cell_type": "markdown",
   "metadata": {
    "toc": true
   },
   "source": [
    "<h1>Содержание<span class=\"tocSkip\"></span></h1>\n",
    "<div class=\"toc\"><ul class=\"toc-item\"><li><span><a href=\"#Подготовка-данных\" data-toc-modified-id=\"Подготовка-данных-1\"><span class=\"toc-item-num\">1&nbsp;&nbsp;</span>Подготовка данных</a></span></li><li><span><a href=\"#Исследование-задачи\" data-toc-modified-id=\"Исследование-задачи-2\"><span class=\"toc-item-num\">2&nbsp;&nbsp;</span>Исследование задачи</a></span><ul class=\"toc-item\"><li><span><a href=\"#Дерево-решений\" data-toc-modified-id=\"Дерево-решений-2.1\"><span class=\"toc-item-num\">2.1&nbsp;&nbsp;</span>Дерево решений</a></span></li><li><span><a href=\"#Случайный-лес\" data-toc-modified-id=\"Случайный-лес-2.2\"><span class=\"toc-item-num\">2.2&nbsp;&nbsp;</span>Случайный лес</a></span></li><li><span><a href=\"#Логистическая-регрессия\" data-toc-modified-id=\"Логистическая-регрессия-2.3\"><span class=\"toc-item-num\">2.3&nbsp;&nbsp;</span>Логистическая регрессия</a></span></li></ul></li><li><span><a href=\"#Борьба-с-дисбалансом\" data-toc-modified-id=\"Борьба-с-дисбалансом-3\"><span class=\"toc-item-num\">3&nbsp;&nbsp;</span>Борьба с дисбалансом</a></span><ul class=\"toc-item\"><li><span><a href=\"#Upsampling\" data-toc-modified-id=\"Upsampling-3.1\"><span class=\"toc-item-num\">3.1&nbsp;&nbsp;</span>Upsampling</a></span><ul class=\"toc-item\"><li><span><a href=\"#Логистическая-регрессия\" data-toc-modified-id=\"Логистическая-регрессия-3.1.1\"><span class=\"toc-item-num\">3.1.1&nbsp;&nbsp;</span>Логистическая регрессия</a></span></li><li><span><a href=\"#Случайный-лес\" data-toc-modified-id=\"Случайный-лес-3.1.2\"><span class=\"toc-item-num\">3.1.2&nbsp;&nbsp;</span>Случайный лес</a></span></li><li><span><a href=\"#Дерево-решений\" data-toc-modified-id=\"Дерево-решений-3.1.3\"><span class=\"toc-item-num\">3.1.3&nbsp;&nbsp;</span>Дерево решений</a></span></li></ul></li><li><span><a href=\"#Downsampling\" data-toc-modified-id=\"Downsampling-3.2\"><span class=\"toc-item-num\">3.2&nbsp;&nbsp;</span>Downsampling</a></span><ul class=\"toc-item\"><li><span><a href=\"#Логистическая-регрессия\" data-toc-modified-id=\"Логистическая-регрессия-3.2.1\"><span class=\"toc-item-num\">3.2.1&nbsp;&nbsp;</span>Логистическая регрессия</a></span></li><li><span><a href=\"#Случайный-лес\" data-toc-modified-id=\"Случайный-лес-3.2.2\"><span class=\"toc-item-num\">3.2.2&nbsp;&nbsp;</span>Случайный лес</a></span></li><li><span><a href=\"#Дерево-решений\" data-toc-modified-id=\"Дерево-решений-3.2.3\"><span class=\"toc-item-num\">3.2.3&nbsp;&nbsp;</span>Дерево решений</a></span></li></ul></li><li><span><a href=\"#Изменение-порога\" data-toc-modified-id=\"Изменение-порога-3.3\"><span class=\"toc-item-num\">3.3&nbsp;&nbsp;</span>Изменение порога</a></span><ul class=\"toc-item\"><li><span><a href=\"#Логистическая-регрессия\" data-toc-modified-id=\"Логистическая-регрессия-3.3.1\"><span class=\"toc-item-num\">3.3.1&nbsp;&nbsp;</span>Логистическая регрессия</a></span></li><li><span><a href=\"#Случайный-лес\" data-toc-modified-id=\"Случайный-лес-3.3.2\"><span class=\"toc-item-num\">3.3.2&nbsp;&nbsp;</span>Случайный лес</a></span></li><li><span><a href=\"#Дерево-решений\" data-toc-modified-id=\"Дерево-решений-3.3.3\"><span class=\"toc-item-num\">3.3.3&nbsp;&nbsp;</span>Дерево решений</a></span></li></ul></li></ul></li><li><span><a href=\"#Тестирование-модели\" data-toc-modified-id=\"Тестирование-модели-4\"><span class=\"toc-item-num\">4&nbsp;&nbsp;</span>Тестирование модели</a></span></li><li><span><a href=\"#Чек-лист-готовности-проекта\" data-toc-modified-id=\"Чек-лист-готовности-проекта-5\"><span class=\"toc-item-num\">5&nbsp;&nbsp;</span>Чек-лист готовности проекта</a></span></li></ul></div>"
   ]
  },
  {
   "cell_type": "markdown",
   "metadata": {},
   "source": [
    "# Отток клиентов"
   ]
  },
  {
   "cell_type": "markdown",
   "metadata": {},
   "source": [
    "Из «Бета-Банка» стали уходить клиенты. Каждый месяц. Немного, но заметно. Банковские маркетологи посчитали: сохранять текущих клиентов дешевле, чем привлекать новых.\n",
    "\n",
    "Нужно спрогнозировать, уйдёт клиент из банка в ближайшее время или нет. Вам предоставлены исторические данные о поведении клиентов и расторжении договоров с банком. \n",
    "\n",
    "Постройте модель с предельно большим значением *F1*-меры. Чтобы сдать проект успешно, нужно довести метрику до 0.59. Проверьте *F1*-меру на тестовой выборке самостоятельно.\n",
    "\n",
    "Дополнительно измеряйте *AUC-ROC*, сравнивайте её значение с *F1*-мерой.\n",
    "\n",
    "Источник данных: [https://www.kaggle.com/barelydedicated/bank-customer-churn-modeling](https://www.kaggle.com/barelydedicated/bank-customer-churn-modeling)"
   ]
  },
  {
   "cell_type": "markdown",
   "metadata": {},
   "source": [
    "## Подготовка данных"
   ]
  },
  {
   "cell_type": "code",
   "execution_count": 1,
   "metadata": {},
   "outputs": [],
   "source": [
    "import pandas as pd \n",
    "import numpy as np\n",
    "import matplotlib.pyplot as plt\n",
    "from sklearn.linear_model import LogisticRegression\n",
    "from sklearn.model_selection import train_test_split\n",
    "from sklearn.linear_model import LinearRegression\n",
    "from sklearn.tree import DecisionTreeRegressor\n",
    "from sklearn.ensemble import RandomForestRegressor\n",
    "from sklearn.metrics import mean_absolute_error as mae\n",
    "from sklearn.metrics import accuracy_score\n",
    "from sklearn.tree import DecisionTreeClassifier\n",
    "from sklearn.ensemble import RandomForestClassifier\n",
    "from sklearn.metrics import f1_score\n",
    "from sklearn.utils import shuffle\n",
    "from sklearn.metrics import precision_score, recall_score\n",
    "from sklearn.preprocessing import StandardScaler \n",
    "from sklearn.metrics import roc_curve\n",
    "from sklearn.metrics import roc_auc_score as ras\n",
    "from sklearn.model_selection import GridSearchCV\n",
    "import warnings\n",
    "warnings.filterwarnings(\"ignore\")"
   ]
  },
  {
   "cell_type": "code",
   "execution_count": 2,
   "metadata": {},
   "outputs": [],
   "source": [
    "df = pd.read_csv('/home/cookie/projects/data_sets/Churn.csv')"
   ]
  },
  {
   "cell_type": "code",
   "execution_count": 3,
   "metadata": {
    "scrolled": false
   },
   "outputs": [
    {
     "data": {
      "text/html": [
       "<div>\n",
       "<style scoped>\n",
       "    .dataframe tbody tr th:only-of-type {\n",
       "        vertical-align: middle;\n",
       "    }\n",
       "\n",
       "    .dataframe tbody tr th {\n",
       "        vertical-align: top;\n",
       "    }\n",
       "\n",
       "    .dataframe thead th {\n",
       "        text-align: right;\n",
       "    }\n",
       "</style>\n",
       "<table border=\"1\" class=\"dataframe\">\n",
       "  <thead>\n",
       "    <tr style=\"text-align: right;\">\n",
       "      <th></th>\n",
       "      <th>RowNumber</th>\n",
       "      <th>CustomerId</th>\n",
       "      <th>Surname</th>\n",
       "      <th>CreditScore</th>\n",
       "      <th>Geography</th>\n",
       "      <th>Gender</th>\n",
       "      <th>Age</th>\n",
       "      <th>Tenure</th>\n",
       "      <th>Balance</th>\n",
       "      <th>NumOfProducts</th>\n",
       "      <th>HasCrCard</th>\n",
       "      <th>IsActiveMember</th>\n",
       "      <th>EstimatedSalary</th>\n",
       "      <th>Exited</th>\n",
       "    </tr>\n",
       "  </thead>\n",
       "  <tbody>\n",
       "    <tr>\n",
       "      <th>0</th>\n",
       "      <td>1</td>\n",
       "      <td>15634602</td>\n",
       "      <td>Hargrave</td>\n",
       "      <td>619</td>\n",
       "      <td>France</td>\n",
       "      <td>Female</td>\n",
       "      <td>42</td>\n",
       "      <td>2.0</td>\n",
       "      <td>0.00</td>\n",
       "      <td>1</td>\n",
       "      <td>1</td>\n",
       "      <td>1</td>\n",
       "      <td>101348.88</td>\n",
       "      <td>1</td>\n",
       "    </tr>\n",
       "    <tr>\n",
       "      <th>1</th>\n",
       "      <td>2</td>\n",
       "      <td>15647311</td>\n",
       "      <td>Hill</td>\n",
       "      <td>608</td>\n",
       "      <td>Spain</td>\n",
       "      <td>Female</td>\n",
       "      <td>41</td>\n",
       "      <td>1.0</td>\n",
       "      <td>83807.86</td>\n",
       "      <td>1</td>\n",
       "      <td>0</td>\n",
       "      <td>1</td>\n",
       "      <td>112542.58</td>\n",
       "      <td>0</td>\n",
       "    </tr>\n",
       "    <tr>\n",
       "      <th>2</th>\n",
       "      <td>3</td>\n",
       "      <td>15619304</td>\n",
       "      <td>Onio</td>\n",
       "      <td>502</td>\n",
       "      <td>France</td>\n",
       "      <td>Female</td>\n",
       "      <td>42</td>\n",
       "      <td>8.0</td>\n",
       "      <td>159660.80</td>\n",
       "      <td>3</td>\n",
       "      <td>1</td>\n",
       "      <td>0</td>\n",
       "      <td>113931.57</td>\n",
       "      <td>1</td>\n",
       "    </tr>\n",
       "    <tr>\n",
       "      <th>3</th>\n",
       "      <td>4</td>\n",
       "      <td>15701354</td>\n",
       "      <td>Boni</td>\n",
       "      <td>699</td>\n",
       "      <td>France</td>\n",
       "      <td>Female</td>\n",
       "      <td>39</td>\n",
       "      <td>1.0</td>\n",
       "      <td>0.00</td>\n",
       "      <td>2</td>\n",
       "      <td>0</td>\n",
       "      <td>0</td>\n",
       "      <td>93826.63</td>\n",
       "      <td>0</td>\n",
       "    </tr>\n",
       "    <tr>\n",
       "      <th>4</th>\n",
       "      <td>5</td>\n",
       "      <td>15737888</td>\n",
       "      <td>Mitchell</td>\n",
       "      <td>850</td>\n",
       "      <td>Spain</td>\n",
       "      <td>Female</td>\n",
       "      <td>43</td>\n",
       "      <td>2.0</td>\n",
       "      <td>125510.82</td>\n",
       "      <td>1</td>\n",
       "      <td>1</td>\n",
       "      <td>1</td>\n",
       "      <td>79084.10</td>\n",
       "      <td>0</td>\n",
       "    </tr>\n",
       "  </tbody>\n",
       "</table>\n",
       "</div>"
      ],
      "text/plain": [
       "   RowNumber  CustomerId   Surname  CreditScore Geography  Gender  Age  \\\n",
       "0          1    15634602  Hargrave          619    France  Female   42   \n",
       "1          2    15647311      Hill          608     Spain  Female   41   \n",
       "2          3    15619304      Onio          502    France  Female   42   \n",
       "3          4    15701354      Boni          699    France  Female   39   \n",
       "4          5    15737888  Mitchell          850     Spain  Female   43   \n",
       "\n",
       "   Tenure    Balance  NumOfProducts  HasCrCard  IsActiveMember  \\\n",
       "0     2.0       0.00              1          1               1   \n",
       "1     1.0   83807.86              1          0               1   \n",
       "2     8.0  159660.80              3          1               0   \n",
       "3     1.0       0.00              2          0               0   \n",
       "4     2.0  125510.82              1          1               1   \n",
       "\n",
       "   EstimatedSalary  Exited  \n",
       "0        101348.88       1  \n",
       "1        112542.58       0  \n",
       "2        113931.57       1  \n",
       "3         93826.63       0  \n",
       "4         79084.10       0  "
      ]
     },
     "execution_count": 3,
     "metadata": {},
     "output_type": "execute_result"
    }
   ],
   "source": [
    "df.head()"
   ]
  },
  {
   "cell_type": "code",
   "execution_count": 4,
   "metadata": {},
   "outputs": [
    {
     "data": {
      "text/plain": [
       "(10000, 14)"
      ]
     },
     "execution_count": 4,
     "metadata": {},
     "output_type": "execute_result"
    }
   ],
   "source": [
    "df.shape"
   ]
  },
  {
   "cell_type": "code",
   "execution_count": 5,
   "metadata": {},
   "outputs": [
    {
     "name": "stdout",
     "output_type": "stream",
     "text": [
      "<class 'pandas.core.frame.DataFrame'>\n",
      "RangeIndex: 10000 entries, 0 to 9999\n",
      "Data columns (total 14 columns):\n",
      " #   Column           Non-Null Count  Dtype  \n",
      "---  ------           --------------  -----  \n",
      " 0   RowNumber        10000 non-null  int64  \n",
      " 1   CustomerId       10000 non-null  int64  \n",
      " 2   Surname          10000 non-null  object \n",
      " 3   CreditScore      10000 non-null  int64  \n",
      " 4   Geography        10000 non-null  object \n",
      " 5   Gender           10000 non-null  object \n",
      " 6   Age              10000 non-null  int64  \n",
      " 7   Tenure           9091 non-null   float64\n",
      " 8   Balance          10000 non-null  float64\n",
      " 9   NumOfProducts    10000 non-null  int64  \n",
      " 10  HasCrCard        10000 non-null  int64  \n",
      " 11  IsActiveMember   10000 non-null  int64  \n",
      " 12  EstimatedSalary  10000 non-null  float64\n",
      " 13  Exited           10000 non-null  int64  \n",
      "dtypes: float64(3), int64(8), object(3)\n",
      "memory usage: 1.1+ MB\n"
     ]
    }
   ],
   "source": [
    "df.info()"
   ]
  },
  {
   "cell_type": "code",
   "execution_count": 6,
   "metadata": {
    "scrolled": true
   },
   "outputs": [
    {
     "data": {
      "text/plain": [
       "RowNumber            0\n",
       "CustomerId           0\n",
       "Surname              0\n",
       "CreditScore          0\n",
       "Geography            0\n",
       "Gender               0\n",
       "Age                  0\n",
       "Tenure             909\n",
       "Balance              0\n",
       "NumOfProducts        0\n",
       "HasCrCard            0\n",
       "IsActiveMember       0\n",
       "EstimatedSalary      0\n",
       "Exited               0\n",
       "dtype: int64"
      ]
     },
     "execution_count": 6,
     "metadata": {},
     "output_type": "execute_result"
    }
   ],
   "source": [
    "df.isnull().sum()"
   ]
  },
  {
   "cell_type": "code",
   "execution_count": 7,
   "metadata": {},
   "outputs": [],
   "source": [
    "\n",
    "df.columns = ['row_number', 'customer_id', 'surname', 'credit_score', 'geography',\n",
    "       'gender', 'age', 'tenure', 'balance', 'num_of_products', 'has_cr_card',\n",
    "       'is_active_member', 'estimated_salary', 'exited']"
   ]
  },
  {
   "cell_type": "code",
   "execution_count": 8,
   "metadata": {
    "scrolled": true
   },
   "outputs": [],
   "source": [
    "df['tenure'] = df['tenure'].fillna(df['tenure'].mean())"
   ]
  },
  {
   "cell_type": "code",
   "execution_count": 9,
   "metadata": {},
   "outputs": [
    {
     "data": {
      "text/plain": [
       "0"
      ]
     },
     "execution_count": 9,
     "metadata": {},
     "output_type": "execute_result"
    }
   ],
   "source": [
    "df.duplicated().sum()"
   ]
  },
  {
   "cell_type": "code",
   "execution_count": 10,
   "metadata": {},
   "outputs": [],
   "source": [
    "df1 = df.drop(['row_number', 'customer_id', 'surname'], axis=1).copy()"
   ]
  },
  {
   "cell_type": "markdown",
   "metadata": {},
   "source": [
    "**Вывод**\n",
    "\n",
    "* В столбцах поменял все буквы на строчные \n",
    "* В столбце `tenure` заполнил пропущенные значения на нули\n",
    "* Удалил столбцы `row_number`, `customer_id`, `surname` за ненадобностью "
   ]
  },
  {
   "cell_type": "markdown",
   "metadata": {},
   "source": [
    "## Исследование задачи"
   ]
  },
  {
   "cell_type": "code",
   "execution_count": 11,
   "metadata": {
    "scrolled": true
   },
   "outputs": [
    {
     "data": {
      "text/plain": [
       "0    7963\n",
       "1    2037\n",
       "Name: exited, dtype: int64"
      ]
     },
     "execution_count": 11,
     "metadata": {},
     "output_type": "execute_result"
    }
   ],
   "source": [
    "df1['exited'].value_counts()"
   ]
  },
  {
   "cell_type": "code",
   "execution_count": 12,
   "metadata": {},
   "outputs": [],
   "source": [
    "df_ohe = pd.get_dummies(df1, drop_first=True)"
   ]
  },
  {
   "cell_type": "code",
   "execution_count": 13,
   "metadata": {
    "scrolled": false
   },
   "outputs": [
    {
     "data": {
      "text/html": [
       "<div>\n",
       "<style scoped>\n",
       "    .dataframe tbody tr th:only-of-type {\n",
       "        vertical-align: middle;\n",
       "    }\n",
       "\n",
       "    .dataframe tbody tr th {\n",
       "        vertical-align: top;\n",
       "    }\n",
       "\n",
       "    .dataframe thead th {\n",
       "        text-align: right;\n",
       "    }\n",
       "</style>\n",
       "<table border=\"1\" class=\"dataframe\">\n",
       "  <thead>\n",
       "    <tr style=\"text-align: right;\">\n",
       "      <th></th>\n",
       "      <th>credit_score</th>\n",
       "      <th>age</th>\n",
       "      <th>tenure</th>\n",
       "      <th>balance</th>\n",
       "      <th>num_of_products</th>\n",
       "      <th>has_cr_card</th>\n",
       "      <th>is_active_member</th>\n",
       "      <th>estimated_salary</th>\n",
       "      <th>exited</th>\n",
       "      <th>geography_Germany</th>\n",
       "      <th>geography_Spain</th>\n",
       "      <th>gender_Male</th>\n",
       "    </tr>\n",
       "  </thead>\n",
       "  <tbody>\n",
       "    <tr>\n",
       "      <th>0</th>\n",
       "      <td>619</td>\n",
       "      <td>42</td>\n",
       "      <td>2.0</td>\n",
       "      <td>0.00</td>\n",
       "      <td>1</td>\n",
       "      <td>1</td>\n",
       "      <td>1</td>\n",
       "      <td>101348.88</td>\n",
       "      <td>1</td>\n",
       "      <td>0</td>\n",
       "      <td>0</td>\n",
       "      <td>0</td>\n",
       "    </tr>\n",
       "    <tr>\n",
       "      <th>1</th>\n",
       "      <td>608</td>\n",
       "      <td>41</td>\n",
       "      <td>1.0</td>\n",
       "      <td>83807.86</td>\n",
       "      <td>1</td>\n",
       "      <td>0</td>\n",
       "      <td>1</td>\n",
       "      <td>112542.58</td>\n",
       "      <td>0</td>\n",
       "      <td>0</td>\n",
       "      <td>1</td>\n",
       "      <td>0</td>\n",
       "    </tr>\n",
       "    <tr>\n",
       "      <th>2</th>\n",
       "      <td>502</td>\n",
       "      <td>42</td>\n",
       "      <td>8.0</td>\n",
       "      <td>159660.80</td>\n",
       "      <td>3</td>\n",
       "      <td>1</td>\n",
       "      <td>0</td>\n",
       "      <td>113931.57</td>\n",
       "      <td>1</td>\n",
       "      <td>0</td>\n",
       "      <td>0</td>\n",
       "      <td>0</td>\n",
       "    </tr>\n",
       "    <tr>\n",
       "      <th>3</th>\n",
       "      <td>699</td>\n",
       "      <td>39</td>\n",
       "      <td>1.0</td>\n",
       "      <td>0.00</td>\n",
       "      <td>2</td>\n",
       "      <td>0</td>\n",
       "      <td>0</td>\n",
       "      <td>93826.63</td>\n",
       "      <td>0</td>\n",
       "      <td>0</td>\n",
       "      <td>0</td>\n",
       "      <td>0</td>\n",
       "    </tr>\n",
       "    <tr>\n",
       "      <th>4</th>\n",
       "      <td>850</td>\n",
       "      <td>43</td>\n",
       "      <td>2.0</td>\n",
       "      <td>125510.82</td>\n",
       "      <td>1</td>\n",
       "      <td>1</td>\n",
       "      <td>1</td>\n",
       "      <td>79084.10</td>\n",
       "      <td>0</td>\n",
       "      <td>0</td>\n",
       "      <td>1</td>\n",
       "      <td>0</td>\n",
       "    </tr>\n",
       "  </tbody>\n",
       "</table>\n",
       "</div>"
      ],
      "text/plain": [
       "   credit_score  age  tenure    balance  num_of_products  has_cr_card  \\\n",
       "0           619   42     2.0       0.00                1            1   \n",
       "1           608   41     1.0   83807.86                1            0   \n",
       "2           502   42     8.0  159660.80                3            1   \n",
       "3           699   39     1.0       0.00                2            0   \n",
       "4           850   43     2.0  125510.82                1            1   \n",
       "\n",
       "   is_active_member  estimated_salary  exited  geography_Germany  \\\n",
       "0                 1         101348.88       1                  0   \n",
       "1                 1         112542.58       0                  0   \n",
       "2                 0         113931.57       1                  0   \n",
       "3                 0          93826.63       0                  0   \n",
       "4                 1          79084.10       0                  0   \n",
       "\n",
       "   geography_Spain  gender_Male  \n",
       "0                0            0  \n",
       "1                1            0  \n",
       "2                0            0  \n",
       "3                0            0  \n",
       "4                1            0  "
      ]
     },
     "execution_count": 13,
     "metadata": {},
     "output_type": "execute_result"
    }
   ],
   "source": [
    "df_ohe.head()"
   ]
  },
  {
   "cell_type": "code",
   "execution_count": 14,
   "metadata": {},
   "outputs": [],
   "source": [
    "features = df_ohe.drop('exited', axis=1)\n",
    "target = df_ohe['exited']"
   ]
  },
  {
   "cell_type": "code",
   "execution_count": 15,
   "metadata": {},
   "outputs": [],
   "source": [
    "features_df, features_valid, target_df, target_valid = train_test_split(\n",
    "features, target, test_size=0.20, random_state=12345\n",
    ")"
   ]
  },
  {
   "cell_type": "code",
   "execution_count": 16,
   "metadata": {},
   "outputs": [],
   "source": [
    "features_train, features_test, target_train, target_test = train_test_split(\n",
    "    features_df, target_df, test_size=.25, random_state=12345)"
   ]
  },
  {
   "cell_type": "code",
   "execution_count": 17,
   "metadata": {},
   "outputs": [],
   "source": [
    "numeric = ['credit_score', 'age', 'balance', 'estimated_salary']\n"
   ]
  },
  {
   "cell_type": "code",
   "execution_count": 18,
   "metadata": {},
   "outputs": [
    {
     "data": {
      "text/plain": [
       "StandardScaler()"
      ]
     },
     "execution_count": 18,
     "metadata": {},
     "output_type": "execute_result"
    }
   ],
   "source": [
    "scaler = StandardScaler()\n",
    "scaler.fit(features_train[numeric])\n"
   ]
  },
  {
   "cell_type": "code",
   "execution_count": 19,
   "metadata": {},
   "outputs": [],
   "source": [
    "features_train[numeric] = scaler.transform(features_train[numeric])\n",
    "features_valid[numeric] = scaler.transform(features_valid[numeric])\n",
    "features_test[numeric] = scaler.transform(features_test[numeric])"
   ]
  },
  {
   "cell_type": "markdown",
   "metadata": {},
   "source": [
    "**Вывод** \n",
    "\n",
    "* Сделал *OHE* для столбцов `gender` и `geography`\n",
    "* Разделил датасет на трнировочные, валидационные и тестовые выборки \n",
    "* Провел масштабирование признаков в столбцах `credit_score`, `age`, `balance` и `estimated_salary`"
   ]
  },
  {
   "cell_type": "markdown",
   "metadata": {},
   "source": [
    "### Дерево решений "
   ]
  },
  {
   "cell_type": "code",
   "execution_count": 20,
   "metadata": {
    "scrolled": false
   },
   "outputs": [
    {
     "name": "stdout",
     "output_type": "stream",
     "text": [
      "max_depth = 1\n",
      "accuracy: 0.734\n",
      "F1: 0.5110294117647058\n",
      "AUC-ROC 0.7037850376151419\n",
      "\n",
      "max_depth = 2\n",
      "accuracy: 0.7425\n",
      "F1: 0.5405887600356825\n",
      "AUC-ROC 0.7579722810721321\n",
      "\n",
      "max_depth = 3\n",
      "accuracy: 0.7425\n",
      "F1: 0.5405887600356825\n",
      "AUC-ROC 0.8077191065268561\n",
      "\n",
      "max_depth = 4\n",
      "accuracy: 0.774\n",
      "F1: 0.5898366606170599\n",
      "AUC-ROC 0.8402380034272732\n",
      "\n",
      "max_depth = 5\n",
      "accuracy: 0.776\n",
      "F1: 0.5874769797421732\n",
      "AUC-ROC 0.8464925536460559\n",
      "\n",
      "max_depth = 6\n",
      "accuracy: 0.791\n",
      "F1: 0.5933852140077821\n",
      "AUC-ROC 0.8190661797219174\n",
      "\n",
      "max_depth = 7\n",
      "accuracy: 0.786\n",
      "F1: 0.5916030534351147\n",
      "AUC-ROC 0.8216961875680207\n",
      "\n",
      "max_depth = 8\n",
      "accuracy: 0.7985\n",
      "F1: 0.5957873620862587\n",
      "AUC-ROC 0.8067923134987218\n",
      "\n",
      "max_depth = 9\n",
      "accuracy: 0.7545\n",
      "F1: 0.5389671361502347\n",
      "AUC-ROC 0.7653702482316491\n",
      "\n",
      "max_depth = 10\n",
      "accuracy: 0.756\n",
      "F1: 0.528046421663443\n",
      "AUC-ROC 0.732080140425893\n",
      "\n",
      "max_depth = 11\n",
      "accuracy: 0.77\n",
      "F1: 0.5286885245901639\n",
      "AUC-ROC 0.7293094386984105\n",
      "\n",
      "max_depth = 12\n",
      "accuracy: 0.7705\n",
      "F1: 0.5243523316062176\n",
      "AUC-ROC 0.7172909058154959\n",
      "\n",
      "max_depth = 13\n",
      "accuracy: 0.769\n",
      "F1: 0.5116279069767442\n",
      "AUC-ROC 0.7044185322873847\n",
      "\n",
      "max_depth = 14\n",
      "accuracy: 0.7815\n",
      "F1: 0.5160575858250278\n",
      "AUC-ROC 0.7085194983853702\n",
      "\n"
     ]
    }
   ],
   "source": [
    "for depth in range(1, 15):\n",
    "    model1 = DecisionTreeClassifier(random_state=12345, max_depth=depth, class_weight='balanced')\n",
    "    model1.fit(features_train, target_train)\n",
    "    predictions_valid1 = model1.predict(features_valid)\n",
    "    proba_valid = model1.predict_proba(features_valid)\n",
    "    proba_oha_valid = proba_valid[:, 1]\n",
    "    auc_roc = ras(target_valid, proba_oha_valid)\n",
    "    \n",
    "    print('max_depth =', depth)\n",
    "    print('accuracy:', accuracy_score(target_valid, predictions_valid1))\n",
    "    print('F1:', f1_score(target_valid, predictions_valid1))\n",
    "    print('AUC-ROC', auc_roc)\n",
    "    print()"
   ]
  },
  {
   "cell_type": "markdown",
   "metadata": {},
   "source": [
    "**Вывод** \n",
    "\n",
    "Для дерева решений лучшим значением `max_depth` является *6*"
   ]
  },
  {
   "cell_type": "markdown",
   "metadata": {},
   "source": [
    "### Случайный лес"
   ]
  },
  {
   "cell_type": "code",
   "execution_count": 21,
   "metadata": {},
   "outputs": [],
   "source": [
    "best_model = None\n",
    "best_result = 0\n",
    "best_est = 0\n",
    "f1_score2 = 0\n",
    "roc_score = 0\n",
    "for est in range(1, 11):\n",
    "    model2 = RandomForestClassifier(random_state=12345, n_estimators=est)\n",
    "    model2.fit(features_train, target_train)\n",
    "    result = model2.score(features_valid, target_valid)\n",
    "    f1_model2 = model2.predict(features_valid)\n",
    "    proba_valid = model1.predict_proba(features_valid)\n",
    "    proba_oha_valid = proba_valid[:, 1]\n",
    "    auc_roc = ras(target_valid, proba_oha_valid)\n",
    "    if result > best_result:\n",
    "        best_model = model2\n",
    "        best_result = result \n",
    "        best_est = est\n",
    "        f1_score2 = f1_model2\n",
    "        roc_score = auc_roc"
   ]
  },
  {
   "cell_type": "code",
   "execution_count": 22,
   "metadata": {
    "scrolled": false
   },
   "outputs": [
    {
     "name": "stdout",
     "output_type": "stream",
     "text": [
      "Accuracy наилучшей модели на валидационной выборке: 0.8405 Количество деревьев: 9\n",
      "F1: 0.513595166163142\n",
      "AUC-ROC 0.7085194983853702\n"
     ]
    }
   ],
   "source": [
    "print(\"Accuracy наилучшей модели на валидационной выборке:\", best_result,\"Количество деревьев:\" ,best_est)\n",
    "print('F1:', f1_score(target_valid, f1_model2))\n",
    "print('AUC-ROC', auc_roc)"
   ]
  },
  {
   "cell_type": "markdown",
   "metadata": {},
   "source": [
    "**Вывод**\n",
    "\n",
    "Для случайного леса лучшее значение `n_estimators` является 9"
   ]
  },
  {
   "cell_type": "markdown",
   "metadata": {},
   "source": [
    "### Логистическая регрессия"
   ]
  },
  {
   "cell_type": "code",
   "execution_count": 23,
   "metadata": {},
   "outputs": [
    {
     "name": "stdout",
     "output_type": "stream",
     "text": [
      "F1: 0.5016778523489932\n",
      "AUC-ROC 0.7085194983853702\n"
     ]
    }
   ],
   "source": [
    "model3 = LogisticRegression(random_state=12345, solver='liblinear', class_weight='balanced')\n",
    "model3.fit(features_train, target_train)\n",
    "predicted_valid3 = model3.predict(features_valid)\n",
    "proba_valid = model1.predict_proba(features_valid)\n",
    "proba_oha_valid = proba_valid[:, 1]\n",
    "auc_roc = ras(target_valid, proba_oha_valid)\n",
    "print('F1:', f1_score(target_valid, predicted_valid3))\n",
    "print('AUC-ROC', auc_roc)"
   ]
  },
  {
   "cell_type": "markdown",
   "metadata": {},
   "source": [
    "**Общий вывод** \n",
    "\n",
    "Среди трех моделей лучший результат показало дерево решений "
   ]
  },
  {
   "cell_type": "markdown",
   "metadata": {},
   "source": [
    "## Борьба с дисбалансом"
   ]
  },
  {
   "cell_type": "code",
   "execution_count": 24,
   "metadata": {},
   "outputs": [
    {
     "data": {
      "text/plain": [
       "0    7963\n",
       "1    2037\n",
       "Name: exited, dtype: int64"
      ]
     },
     "execution_count": 24,
     "metadata": {},
     "output_type": "execute_result"
    }
   ],
   "source": [
    "df['exited'].value_counts()"
   ]
  },
  {
   "cell_type": "markdown",
   "metadata": {},
   "source": [
    "### Upsampling"
   ]
  },
  {
   "cell_type": "code",
   "execution_count": 25,
   "metadata": {},
   "outputs": [],
   "source": [
    "def upsample(features, target, repeat):\n",
    "    \n",
    "    features_zeros = features[target == 0]\n",
    "    features_ones = features[target == 1]\n",
    "    target_zeros = target[target == 0]\n",
    "    target_ones = target[target == 1]\n",
    "    \n",
    "    features_upsampled = pd.concat([features_zeros] + [features_ones] * repeat)\n",
    "    target_upsampled = pd. concat([target_zeros] + [target_ones] * repeat)\n",
    "    \n",
    "    features_upsample = shuffle(features_upsampled, random_state=12345)\n",
    "    target_upsampled = shuffle(target_upsampled, random_state=12345)\n",
    "    \n",
    "    return features_upsampled, target_upsampled "
   ]
  },
  {
   "cell_type": "code",
   "execution_count": 26,
   "metadata": {},
   "outputs": [],
   "source": [
    "features_upsampled, target_upsampled = upsample(features_train, target_train, 5)"
   ]
  },
  {
   "cell_type": "code",
   "execution_count": 27,
   "metadata": {},
   "outputs": [
    {
     "name": "stdout",
     "output_type": "stream",
     "text": [
      "(10876, 11)\n",
      "(10876,)\n"
     ]
    }
   ],
   "source": [
    "print(features_upsampled.shape)\n",
    "print(target_upsampled.shape)"
   ]
  },
  {
   "cell_type": "markdown",
   "metadata": {},
   "source": [
    "#### Логистическая регрессия "
   ]
  },
  {
   "cell_type": "code",
   "execution_count": 28,
   "metadata": {},
   "outputs": [
    {
     "data": {
      "text/plain": [
       "LogisticRegression(random_state=12345, solver='liblinear')"
      ]
     },
     "execution_count": 28,
     "metadata": {},
     "output_type": "execute_result"
    }
   ],
   "source": [
    "model = LogisticRegression(random_state=12345, solver='liblinear')\n",
    "model.fit(features_upsampled, target_upsampled)"
   ]
  },
  {
   "cell_type": "code",
   "execution_count": 29,
   "metadata": {},
   "outputs": [],
   "source": [
    "predicted_valid = model.predict(features_valid)"
   ]
  },
  {
   "cell_type": "code",
   "execution_count": 30,
   "metadata": {
    "scrolled": true
   },
   "outputs": [
    {
     "data": {
      "text/plain": [
       "0.3518747424804285"
      ]
     },
     "execution_count": 30,
     "metadata": {},
     "output_type": "execute_result"
    }
   ],
   "source": [
    "f1_score(target_valid, predicted_valid)"
   ]
  },
  {
   "cell_type": "markdown",
   "metadata": {},
   "source": [
    "#### Случайный лес"
   ]
  },
  {
   "cell_type": "code",
   "execution_count": 31,
   "metadata": {},
   "outputs": [],
   "source": [
    "best_model = None\n",
    "best_result = 0\n",
    "best_est = 0\n",
    "f1_score2 = 0\n",
    "for est in range(1, 11):\n",
    "    model2 = RandomForestClassifier(random_state=12345, n_estimators=est)\n",
    "    model2.fit(features_upsampled, target_upsampled)\n",
    "    result = model2.score(features_valid, target_valid)\n",
    "    f1_model2 = model2.predict(features_valid)\n",
    "    if result > best_result:\n",
    "        best_model = model2\n",
    "        best_result = result \n",
    "        best_est = est\n",
    "        f1_score2 = f1_model2"
   ]
  },
  {
   "cell_type": "code",
   "execution_count": 32,
   "metadata": {},
   "outputs": [
    {
     "name": "stdout",
     "output_type": "stream",
     "text": [
      "Accuracy наилучшей модели на валидационной выборке: 0.5885 Количество деревьев: 2\n",
      "F1: 0.3056234718826406\n"
     ]
    }
   ],
   "source": [
    "print(\"Accuracy наилучшей модели на валидационной выборке:\", best_result,\"Количество деревьев:\" ,best_est)\n",
    "print('F1:', f1_score(target_valid, f1_model2))"
   ]
  },
  {
   "cell_type": "markdown",
   "metadata": {},
   "source": [
    "#### Дерево решений"
   ]
  },
  {
   "cell_type": "code",
   "execution_count": 33,
   "metadata": {},
   "outputs": [
    {
     "name": "stdout",
     "output_type": "stream",
     "text": [
      "max_depth = 1\n",
      "accuracy: 0.2325\n",
      "F1: 0.3542280185107278\n",
      "\n",
      "max_depth = 2\n",
      "accuracy: 0.2455\n",
      "F1: 0.35430038510911427\n",
      "\n",
      "max_depth = 3\n",
      "accuracy: 0.236\n",
      "F1: 0.35363790186125216\n",
      "\n",
      "max_depth = 4\n",
      "accuracy: 0.2355\n",
      "F1: 0.3534883720930233\n",
      "\n",
      "max_depth = 5\n",
      "accuracy: 0.234\n",
      "F1: 0.3552188552188552\n",
      "\n",
      "max_depth = 6\n",
      "accuracy: 0.239\n",
      "F1: 0.35617597292724196\n",
      "\n",
      "max_depth = 7\n",
      "accuracy: 0.2985\n",
      "F1: 0.34469873890705277\n",
      "\n",
      "max_depth = 8\n",
      "accuracy: 0.309\n",
      "F1: 0.3400191021967526\n",
      "\n",
      "max_depth = 9\n",
      "accuracy: 0.2845\n",
      "F1: 0.34806378132118454\n",
      "\n"
     ]
    }
   ],
   "source": [
    "for depth in range(1, 10):\n",
    "    model1 = DecisionTreeClassifier(random_state=12345, max_depth=depth)\n",
    "    model1.fit(features_upsampled, target_upsampled)\n",
    "    predictions_valid1 = model1.predict(features_valid)\n",
    "    \n",
    "    print('max_depth =', depth)\n",
    "    print('accuracy:', accuracy_score(target_valid, predictions_valid1))\n",
    "    print('F1:', f1_score(target_valid, predictions_valid1))\n",
    "    print()"
   ]
  },
  {
   "cell_type": "markdown",
   "metadata": {},
   "source": [
    "**Вывод**\n",
    "\n",
    "Результаты `F1` с Upsampling значительно ухудшились по сравнению с моделями без увеличения выборки "
   ]
  },
  {
   "cell_type": "markdown",
   "metadata": {},
   "source": [
    "### Downsampling "
   ]
  },
  {
   "cell_type": "code",
   "execution_count": 34,
   "metadata": {},
   "outputs": [],
   "source": [
    "def downsample(features, target, fraction):\n",
    "    \n",
    "    features_zeros = features[target == 0]\n",
    "    features_ones = features[target == 1]\n",
    "    target_zeros = target[target == 0]\n",
    "    target_ones = target[target == 1]\n",
    "    \n",
    "    features_sample = features_zeros.sample(frac=0.1, random_state=12345)\n",
    "    target_sample = target_zeros.sample(frac=0.1, random_state=12345)\n",
    "    \n",
    "    features_downsampled = pd.concat([features_sample] + [features_ones])\n",
    "    target_downsampled = pd.concat([target_sample] + [target_ones])\n",
    "    \n",
    "    features_downsampled = shuffle(features_downsampled, random_state=12345)\n",
    "    target_downsampled = shuffle(target_downsampled, random_state=12345)\n",
    "    \n",
    "    return features_downsampled, target_downsampled"
   ]
  },
  {
   "cell_type": "code",
   "execution_count": 35,
   "metadata": {},
   "outputs": [],
   "source": [
    "features_downsampled, target_downsampled = downsample(features_train, target_train, 0.1)"
   ]
  },
  {
   "cell_type": "code",
   "execution_count": 36,
   "metadata": {},
   "outputs": [
    {
     "name": "stdout",
     "output_type": "stream",
     "text": [
      "(1697, 11)\n",
      "(1697,)\n"
     ]
    }
   ],
   "source": [
    "print(features_downsampled.shape)\n",
    "print(target_downsampled.shape)"
   ]
  },
  {
   "cell_type": "markdown",
   "metadata": {},
   "source": [
    "#### Логистическая регрессия "
   ]
  },
  {
   "cell_type": "code",
   "execution_count": 37,
   "metadata": {},
   "outputs": [
    {
     "data": {
      "text/plain": [
       "LogisticRegression(random_state=12345, solver='liblinear')"
      ]
     },
     "execution_count": 37,
     "metadata": {},
     "output_type": "execute_result"
    }
   ],
   "source": [
    "model = LogisticRegression(random_state=12345, solver='liblinear')\n",
    "model.fit(features_downsampled, target_downsampled)"
   ]
  },
  {
   "cell_type": "code",
   "execution_count": 38,
   "metadata": {},
   "outputs": [],
   "source": [
    "predict_valid = model.predict(features_valid)"
   ]
  },
  {
   "cell_type": "code",
   "execution_count": 39,
   "metadata": {},
   "outputs": [
    {
     "data": {
      "text/plain": [
       "0.3518747424804285"
      ]
     },
     "execution_count": 39,
     "metadata": {},
     "output_type": "execute_result"
    }
   ],
   "source": [
    "f1_score(target_valid, predicted_valid)"
   ]
  },
  {
   "cell_type": "markdown",
   "metadata": {},
   "source": [
    "#### Случайный лес "
   ]
  },
  {
   "cell_type": "code",
   "execution_count": 40,
   "metadata": {},
   "outputs": [
    {
     "name": "stdout",
     "output_type": "stream",
     "text": [
      "F1: 0.496\n"
     ]
    }
   ],
   "source": [
    "model = RandomForestClassifier(random_state=42, n_estimators=10)\n",
    "model.fit(features_downsampled, target_downsampled)\n",
    "predicted_valid = model.predict(features_valid)\n",
    "print(\"F1:\", f1_score(target_valid, predicted_valid))"
   ]
  },
  {
   "cell_type": "code",
   "execution_count": 41,
   "metadata": {
    "scrolled": true
   },
   "outputs": [
    {
     "name": "stdout",
     "output_type": "stream",
     "text": [
      "est: 1\n",
      "score 0.584\n",
      "F1: 0.4475431606905711\n",
      "est: 2\n",
      "score 0.698\n",
      "F1: 0.4766031195840555\n",
      "est: 3\n",
      "score 0.573\n",
      "F1: 0.4560509554140127\n",
      "est: 4\n",
      "score 0.6725\n",
      "F1: 0.4996180290297937\n",
      "est: 5\n",
      "score 0.5985\n",
      "F1: 0.4789097988319273\n",
      "est: 6\n",
      "score 0.668\n",
      "F1: 0.5146198830409356\n",
      "est: 7\n",
      "score 0.6095\n",
      "F1: 0.49710238248551186\n",
      "est: 8\n",
      "score 0.6615\n",
      "F1: 0.5229034531360113\n",
      "est: 9\n",
      "score 0.6145\n",
      "F1: 0.49967553536664505\n",
      "est: 10\n",
      "score 0.653\n",
      "F1: 0.5187239944521498\n",
      "est: 11\n",
      "score 0.6125\n",
      "F1: 0.5003223726627981\n",
      "est: 12\n",
      "score 0.635\n",
      "F1: 0.5074224021592443\n",
      "est: 13\n",
      "score 0.6\n",
      "F1: 0.4930291508238276\n",
      "est: 14\n",
      "score 0.628\n",
      "F1: 0.5026737967914439\n"
     ]
    }
   ],
   "source": [
    "best_model = None\n",
    "best_result = 0\n",
    "best_est = 0\n",
    "f1_score2 = 0\n",
    "for est in range(1, 15):\n",
    "    model2 = RandomForestClassifier(random_state=12345, n_estimators=est)\n",
    "    model2.fit(features_downsampled, target_downsampled)\n",
    "    result = model2.score(features_valid, target_valid)\n",
    "    f1_model2 = model2.predict(features_valid)\n",
    "    f1_predict = f1_score(target_valid, f1_model2)\n",
    "    print('est:', est)\n",
    "    print('score', result)\n",
    "    print('F1:', f1_predict)\n",
    "   \n",
    "  "
   ]
  },
  {
   "cell_type": "markdown",
   "metadata": {},
   "source": [
    "#### Дерево решений "
   ]
  },
  {
   "cell_type": "code",
   "execution_count": 42,
   "metadata": {},
   "outputs": [
    {
     "name": "stdout",
     "output_type": "stream",
     "text": [
      "max_depth = 1\n",
      "accuracy: 0.2135\n",
      "F1: 0.3518747424804285\n",
      "\n",
      "max_depth = 2\n",
      "accuracy: 0.2135\n",
      "F1: 0.3518747424804285\n",
      "\n",
      "max_depth = 3\n",
      "accuracy: 0.5325\n",
      "F1: 0.4617156016119746\n",
      "\n",
      "max_depth = 4\n",
      "accuracy: 0.5475\n",
      "F1: 0.4648137196924896\n",
      "\n",
      "max_depth = 5\n",
      "accuracy: 0.7055\n",
      "F1: 0.5430566330488751\n",
      "\n",
      "max_depth = 6\n",
      "accuracy: 0.652\n",
      "F1: 0.511921458625526\n",
      "\n",
      "max_depth = 7\n",
      "accuracy: 0.6295\n",
      "F1: 0.5023505708529215\n",
      "\n",
      "max_depth = 8\n",
      "accuracy: 0.67\n",
      "F1: 0.5175438596491229\n",
      "\n",
      "max_depth = 9\n",
      "accuracy: 0.645\n",
      "F1: 0.4964539007092198\n",
      "\n"
     ]
    }
   ],
   "source": [
    "for depth in range(1, 10):\n",
    "    model1 = DecisionTreeClassifier(random_state=12345, max_depth=depth)\n",
    "    model1.fit(features_downsampled, target_downsampled)\n",
    "    predictions_valid1 = model1.predict(features_valid)\n",
    "    \n",
    "    print('max_depth =', depth)\n",
    "    print('accuracy:', accuracy_score(target_valid, predictions_valid1))\n",
    "    print('F1:', f1_score(target_valid, predictions_valid1))\n",
    "    print()"
   ]
  },
  {
   "cell_type": "markdown",
   "metadata": {},
   "source": [
    "**Вывод**\n",
    "\n",
    "Уменьшение выборки показало лучшие результаты, чем увеличение. Лучшие результаты опять у дерева решений, но не лучше чем на выборке, где размер выборки не был изменён "
   ]
  },
  {
   "cell_type": "markdown",
   "metadata": {},
   "source": [
    "### Изменение порога "
   ]
  },
  {
   "cell_type": "markdown",
   "metadata": {},
   "source": [
    "#### Логистическая регрессия"
   ]
  },
  {
   "cell_type": "code",
   "execution_count": 43,
   "metadata": {},
   "outputs": [],
   "source": [
    "model = LogisticRegression(random_state=12345, solver='liblinear')\n",
    "model.fit(features_train, target_train)\n",
    "probabilities_valid = model.predict_proba(features_valid)\n",
    "probabilities_one_valid = probabilities_valid[:, 1]"
   ]
  },
  {
   "cell_type": "code",
   "execution_count": 44,
   "metadata": {},
   "outputs": [
    {
     "name": "stdout",
     "output_type": "stream",
     "text": [
      "Порог = 0.00 | Точность = 0.213, Полнота = 1.000 | F1-score = 0.352\n",
      "Порог = 0.05 | Точность = 0.232, Полнота = 0.972 | F1-score = 0.374\n",
      "Порог = 0.10 | Точность = 0.279, Полнота = 0.906 | F1-score = 0.427\n",
      "Порог = 0.15 | Точность = 0.332, Полнота = 0.801 | F1-score = 0.469\n",
      "Порог = 0.20 | Точность = 0.383, Полнота = 0.714 | F1-score = 0.499\n",
      "Порог = 0.25 | Точность = 0.430, Полнота = 0.623 | F1-score = 0.509\n",
      "Порог = 0.30 | Точность = 0.458, Полнота = 0.508 | F1-score = 0.482\n",
      "Порог = 0.35 | Точность = 0.482, Полнота = 0.412 | F1-score = 0.444\n",
      "Порог = 0.40 | Точность = 0.523, Полнота = 0.321 | F1-score = 0.398\n",
      "Порог = 0.45 | Точность = 0.556, Полнота = 0.267 | F1-score = 0.361\n",
      "Порог = 0.50 | Точность = 0.597, Полнота = 0.201 | F1-score = 0.301\n",
      "Порог = 0.55 | Точность = 0.596, Полнота = 0.145 | F1-score = 0.234\n",
      "Порог = 0.60 | Точность = 0.560, Полнота = 0.098 | F1-score = 0.167\n",
      "Порог = 0.65 | Точность = 0.566, Полнота = 0.070 | F1-score = 0.125\n",
      "Порог = 0.70 | Точность = 0.520, Полнота = 0.030 | F1-score = 0.058\n",
      "Порог = 0.75 | Точность = 0.400, Полнота = 0.014 | F1-score = 0.027\n",
      "Порог = 0.80 | Точность = 0.250, Полнота = 0.005 | F1-score = 0.009\n",
      "Порог = 0.85 | Точность = 0.500, Полнота = 0.005 | F1-score = 0.009\n",
      "Порог = 0.90 | Точность = 0.500, Полнота = 0.002 | F1-score = 0.005\n"
     ]
    }
   ],
   "source": [
    "\n",
    "for threshold in np.arange(0, 0.95, 0.05):\n",
    "    predicted_valid = probabilities_one_valid > threshold\n",
    "    precision = precision_score(target_valid, predicted_valid)\n",
    "    recall = recall_score(target_valid, predicted_valid)\n",
    "    f1 = f1_score(target_valid, predicted_valid)\n",
    "    \n",
    "    print(\"Порог = {:.2f} | Точность = {:.3f}, Полнота = {:.3f} | F1-score = {:.3f}\".format(\n",
    "        threshold, precision, recall, f1))"
   ]
  },
  {
   "cell_type": "code",
   "execution_count": 45,
   "metadata": {},
   "outputs": [
    {
     "data": {
      "text/plain": [
       "0.758167317034679"
      ]
     },
     "execution_count": 45,
     "metadata": {},
     "output_type": "execute_result"
    }
   ],
   "source": [
    "auc_roc = ras(target_valid, probabilities_one_valid)\n",
    "\n",
    "auc_roc\n"
   ]
  },
  {
   "cell_type": "code",
   "execution_count": 46,
   "metadata": {
    "scrolled": true
   },
   "outputs": [
    {
     "data": {
      "image/png": "[encoded data removed]",
      "text/plain": [
       "<Figure size 720x720 with 1 Axes>"
      ]
     },
     "metadata": {
      "needs_background": "light"
     },
     "output_type": "display_data"
    }
   ],
   "source": [
    "fpr, tpr, thresholds = roc_curve(target_valid, probabilities_one_valid)    \n",
    "\n",
    "plt.figure(figsize=(10, 10))\n",
    "plt.plot([0, 1], [0, 1], linestyle='--')\n",
    "plt.plot(fpr, tpr)\n",
    "plt.xlim([0.0,1.0])\n",
    "plt.ylim([0.0,1.0])\n",
    "plt.xlabel('False Positive Rate')\n",
    "plt.ylabel('True Positive Rate')\n",
    "plt.title('ROC-кривая')\n",
    "\n",
    "plt.show()"
   ]
  },
  {
   "cell_type": "markdown",
   "metadata": {},
   "source": [
    "**Вывод** \n",
    "\n",
    "Логистическая регрессия показывает наилучший результат F1 с порогом 0.25"
   ]
  },
  {
   "cell_type": "markdown",
   "metadata": {},
   "source": [
    "#### Случайный лес"
   ]
  },
  {
   "cell_type": "code",
   "execution_count": 47,
   "metadata": {},
   "outputs": [],
   "source": [
    "model = RandomForestClassifier(random_state=12345, n_estimators=170, max_depth=10)\n",
    "model.fit(features_train, target_train)\n",
    "probabilities_valid = model.predict_proba(features_valid)\n",
    "probabilities_one_valid = probabilities_valid[:, 1]"
   ]
  },
  {
   "cell_type": "code",
   "execution_count": 48,
   "metadata": {
    "scrolled": true
   },
   "outputs": [
    {
     "name": "stdout",
     "output_type": "stream",
     "text": [
      "Порог = 0.00 | Точность = 0.213, Полнота = 1.000 | F1-score = 0.352\n",
      "Порог = 0.05 | Точность = 0.264, Полнота = 0.986 | F1-score = 0.416\n",
      "Порог = 0.10 | Точность = 0.345, Полнота = 0.925 | F1-score = 0.503\n",
      "Порог = 0.15 | Точность = 0.431, Полнота = 0.855 | F1-score = 0.573\n",
      "Порог = 0.20 | Точность = 0.508, Полнота = 0.799 | F1-score = 0.621\n",
      "Порог = 0.25 | Точность = 0.572, Полнота = 0.731 | F1-score = 0.642\n",
      "Порог = 0.30 | Точность = 0.640, Полнота = 0.644 | F1-score = 0.642\n",
      "Порог = 0.35 | Точность = 0.702, Полнота = 0.590 | F1-score = 0.641\n",
      "Порог = 0.40 | Точность = 0.736, Полнота = 0.522 | F1-score = 0.611\n",
      "Порог = 0.45 | Точность = 0.763, Полнота = 0.475 | F1-score = 0.586\n",
      "Порог = 0.50 | Точность = 0.787, Полнота = 0.433 | F1-score = 0.559\n",
      "Порог = 0.55 | Точность = 0.818, Полнота = 0.379 | F1-score = 0.518\n",
      "Порог = 0.60 | Точность = 0.826, Полнота = 0.323 | F1-score = 0.465\n",
      "Порог = 0.65 | Точность = 0.846, Полнота = 0.283 | F1-score = 0.425\n",
      "Порог = 0.70 | Точность = 0.851, Полнота = 0.241 | F1-score = 0.376\n",
      "Порог = 0.75 | Точность = 0.890, Полнота = 0.190 | F1-score = 0.313\n",
      "Порог = 0.80 | Точность = 0.951, Полнота = 0.136 | F1-score = 0.238\n",
      "Порог = 0.85 | Точность = 0.969, Полнота = 0.073 | F1-score = 0.135\n",
      "Порог = 0.90 | Точность = 1.000, Полнота = 0.030 | F1-score = 0.059\n"
     ]
    }
   ],
   "source": [
    "for threshold in np.arange(0, 0.95, 0.05):\n",
    "    predicted_valid = probabilities_one_valid > threshold\n",
    "    precision = precision_score(target_valid, predicted_valid)\n",
    "    recall = recall_score(target_valid, predicted_valid)\n",
    "    f1 = f1_score(target_valid, predicted_valid)\n",
    "    \n",
    "    print(\"Порог = {:.2f} | Точность = {:.3f}, Полнота = {:.3f} | F1-score = {:.3f}\".format(\n",
    "        threshold, precision, recall, f1))"
   ]
  },
  {
   "cell_type": "code",
   "execution_count": 49,
   "metadata": {},
   "outputs": [],
   "source": [
    "auc_roc = ras(target_valid, probabilities_one_valid)"
   ]
  },
  {
   "cell_type": "code",
   "execution_count": 50,
   "metadata": {},
   "outputs": [
    {
     "data": {
      "text/plain": [
       "0.8700464959779416"
      ]
     },
     "execution_count": 50,
     "metadata": {},
     "output_type": "execute_result"
    }
   ],
   "source": [
    "auc_roc"
   ]
  },
  {
   "cell_type": "code",
   "execution_count": 51,
   "metadata": {
    "scrolled": true
   },
   "outputs": [
    {
     "data": {
      "image/png": "[encoded data removed]",
      "text/plain": [
       "<Figure size 720x720 with 1 Axes>"
      ]
     },
     "metadata": {
      "needs_background": "light"
     },
     "output_type": "display_data"
    }
   ],
   "source": [
    "fpr, tpr, thresholds = roc_curve(target_valid, probabilities_one_valid)    \n",
    "\n",
    "plt.figure(figsize=(10, 10))\n",
    "plt.plot([0, 1], [0, 1], linestyle='--')\n",
    "plt.plot(fpr, tpr)\n",
    "plt.xlim([0.0,1.0])\n",
    "plt.ylim([0.0,1.0])\n",
    "plt.xlabel('False Positive Rate')\n",
    "plt.ylabel('True Positive Rate')\n",
    "plt.title('ROC-кривая')\n",
    "\n",
    "plt.show()"
   ]
  },
  {
   "cell_type": "markdown",
   "metadata": {},
   "source": [
    "**Вывод** \n",
    "\n",
    "Случайный лес показывает наилучший результат F1 с порогом 0.30"
   ]
  },
  {
   "cell_type": "markdown",
   "metadata": {},
   "source": [
    "#### Дерево решений "
   ]
  },
  {
   "cell_type": "code",
   "execution_count": 52,
   "metadata": {},
   "outputs": [],
   "source": [
    "model = DecisionTreeClassifier(random_state=12345, max_depth=6)\n",
    "model.fit(features_train, target_train)\n",
    "probabilities_valid = model.predict_proba(features_valid)\n",
    "probabilities_one_valid = probabilities_valid[:, 1]"
   ]
  },
  {
   "cell_type": "code",
   "execution_count": 53,
   "metadata": {},
   "outputs": [
    {
     "name": "stdout",
     "output_type": "stream",
     "text": [
      "Порог = 0.00 | Точность = 0.212, Полнота = 0.986 | F1-score = 0.349\n",
      "Порог = 0.05 | Точность = 0.280, Полнота = 0.958 | F1-score = 0.433\n",
      "Порог = 0.10 | Точность = 0.451, Полнота = 0.803 | F1-score = 0.578\n",
      "Порог = 0.15 | Точность = 0.482, Полнота = 0.763 | F1-score = 0.591\n",
      "Порог = 0.20 | Точность = 0.482, Полнота = 0.763 | F1-score = 0.591\n",
      "Порог = 0.25 | Точность = 0.575, Полнота = 0.679 | F1-score = 0.623\n",
      "Порог = 0.30 | Точность = 0.577, Полнота = 0.667 | F1-score = 0.619\n",
      "Порог = 0.35 | Точность = 0.627, Полнота = 0.550 | F1-score = 0.586\n",
      "Порог = 0.40 | Точность = 0.728, Полнота = 0.464 | F1-score = 0.567\n",
      "Порог = 0.45 | Точность = 0.728, Полнота = 0.464 | F1-score = 0.567\n",
      "Порог = 0.50 | Точность = 0.807, Полнота = 0.372 | F1-score = 0.510\n",
      "Порог = 0.55 | Точность = 0.807, Полнота = 0.372 | F1-score = 0.510\n",
      "Порог = 0.60 | Точность = 0.811, Полнота = 0.372 | F1-score = 0.510\n",
      "Порог = 0.65 | Точность = 0.811, Полнота = 0.372 | F1-score = 0.510\n",
      "Порог = 0.70 | Точность = 0.867, Полнота = 0.321 | F1-score = 0.468\n",
      "Порог = 0.75 | Точность = 0.867, Полнота = 0.321 | F1-score = 0.468\n",
      "Порог = 0.80 | Точность = 0.888, Полнота = 0.204 | F1-score = 0.331\n",
      "Порог = 0.85 | Точность = 0.888, Полнота = 0.204 | F1-score = 0.331\n",
      "Порог = 0.90 | Точность = 0.888, Полнота = 0.204 | F1-score = 0.331\n"
     ]
    }
   ],
   "source": [
    "for threshold in np.arange(0, 0.95, 0.05):\n",
    "    predicted_valid = probabilities_one_valid > threshold\n",
    "    precision = precision_score(target_valid, predicted_valid)\n",
    "    recall = recall_score(target_valid, predicted_valid)\n",
    "    f1 = f1_score(target_valid, predicted_valid)\n",
    "    \n",
    "    print(\"Порог = {:.2f} | Точность = {:.3f}, Полнота = {:.3f} | F1-score = {:.3f}\".format(\n",
    "        threshold, precision, recall, f1))"
   ]
  },
  {
   "cell_type": "code",
   "execution_count": 54,
   "metadata": {},
   "outputs": [
    {
     "data": {
      "text/plain": [
       "0.8415772007426254"
      ]
     },
     "execution_count": 54,
     "metadata": {},
     "output_type": "execute_result"
    }
   ],
   "source": [
    "auc_roc = ras(target_valid, probabilities_one_valid)\n",
    "\n",
    "auc_roc"
   ]
  },
  {
   "cell_type": "code",
   "execution_count": 55,
   "metadata": {
    "scrolled": false
   },
   "outputs": [
    {
     "data": {
      "image/png": "[encoded data removed]",
      "text/plain": [
       "<Figure size 720x720 with 1 Axes>"
      ]
     },
     "metadata": {
      "needs_background": "light"
     },
     "output_type": "display_data"
    }
   ],
   "source": [
    "fpr, tpr, thresholds = roc_curve(target_valid, probabilities_one_valid)    \n",
    "\n",
    "plt.figure(figsize=(10, 10))\n",
    "plt.plot([0, 1], [0, 1], linestyle='--')\n",
    "plt.plot(fpr, tpr)\n",
    "plt.xlim([0.0,1.0])\n",
    "plt.ylim([0.0,1.0])\n",
    "plt.xlabel('False Positive Rate')\n",
    "plt.ylabel('True Positive Rate')\n",
    "plt.title('ROC-кривая')\n",
    "\n",
    "plt.show()"
   ]
  },
  {
   "cell_type": "markdown",
   "metadata": {},
   "source": [
    "**Вывод** \n",
    "\n",
    "Дерево решений показывает наилучший результат F1 с порогом 0.25. Так же эта модель показала наилучший результат по сравнению с другими"
   ]
  },
  {
   "cell_type": "markdown",
   "metadata": {},
   "source": [
    "## Тестирование модели"
   ]
  },
  {
   "cell_type": "markdown",
   "metadata": {},
   "source": [
    "Выбрал модель \"Дерево решений\" с порогом 0.30 без увеличения или уменьшения выборки, так-как это не дало лучших результатов "
   ]
  },
  {
   "cell_type": "code",
   "execution_count": 56,
   "metadata": {},
   "outputs": [
    {
     "data": {
      "text/plain": [
       "0.5587044534412956"
      ]
     },
     "execution_count": 56,
     "metadata": {},
     "output_type": "execute_result"
    }
   ],
   "source": [
    "test_model = DecisionTreeClassifier(random_state=12345, max_depth=6, class_weight='balanced')\n",
    "test_model.fit(features_train, target_train)\n",
    "test_model_predict = test_model.predict(features_test)\n",
    "f1_score(target_test, test_model_predict)\n"
   ]
  },
  {
   "cell_type": "code",
   "execution_count": 57,
   "metadata": {},
   "outputs": [],
   "source": [
    "probilities_test = test_model.predict_proba(features_test)\n",
    "probabilities_one_test = probilities_test[:, 1]"
   ]
  },
  {
   "cell_type": "code",
   "execution_count": 58,
   "metadata": {},
   "outputs": [
    {
     "name": "stdout",
     "output_type": "stream",
     "text": [
      "0.4708423326133909\n",
      "0.7096439624300014\n"
     ]
    }
   ],
   "source": [
    "predicted_test = probabilities_one_test > 0.30\n",
    "print(f1_score(target_test, predicted_test))\n",
    "print(ras(target_test, predicted_test))\n"
   ]
  },
  {
   "cell_type": "code",
   "execution_count": 60,
   "metadata": {},
   "outputs": [
    {
     "name": "stdout",
     "output_type": "stream",
     "text": [
      "Fitting 5 folds for each of 200 candidates, totalling 1000 fits\n",
      "CPU times: user 9min 19s, sys: 864 ms, total: 9min 19s\n",
      "Wall time: 9min 20s\n"
     ]
    },
    {
     "data": {
      "text/plain": [
       "GridSearchCV(cv=5,\n",
       "             estimator=RandomForestClassifier(class_weight='balanced',\n",
       "                                              random_state=12345),\n",
       "             param_grid={'max_depth': [5, 6, 7, 8, 9, 10, 11, 12, 13, 14],\n",
       "                         'n_estimators': [100, 105, 110, 115, 120, 125, 130,\n",
       "                                          135, 140, 145, 150, 155, 160, 165,\n",
       "                                          170, 175, 180, 185, 190, 195]},\n",
       "             scoring='f1', verbose=1)"
      ]
     },
     "execution_count": 60,
     "metadata": {},
     "output_type": "execute_result"
    }
   ],
   "source": [
    "%%time\n",
    "grid_param = {'n_estimators': list(range(100, 200, 5)),\n",
    "              \n",
    "              'max_depth': list(range(5, 15))\n",
    "    \n",
    "              \n",
    "}\n",
    "model = RandomForestClassifier(random_state=12345, class_weight='balanced')\n",
    "\n",
    "grid_search = GridSearchCV(model, grid_param, cv=5, scoring='f1', verbose=1)\n",
    "\n",
    "grid_search.fit(features_train, target_train)"
   ]
  },
  {
   "cell_type": "code",
   "execution_count": 61,
   "metadata": {},
   "outputs": [
    {
     "data": {
      "text/plain": [
       "{'max_depth': 8, 'n_estimators': 115}"
      ]
     },
     "execution_count": 61,
     "metadata": {},
     "output_type": "execute_result"
    }
   ],
   "source": [
    "grid_search.best_params_"
   ]
  },
  {
   "cell_type": "code",
   "execution_count": 62,
   "metadata": {},
   "outputs": [
    {
     "name": "stdout",
     "output_type": "stream",
     "text": [
      "F1: 0.5589123867069486\n"
     ]
    }
   ],
   "source": [
    "model_rfc = RandomForestClassifier(random_state=12345, max_depth=10, n_estimators=170)\n",
    "model_rfc.fit(features_train, target_train)\n",
    "predicted_valid_rfc = model_rfc.predict(features_valid)\n",
    "print('F1:', f1_score(target_valid, predicted_valid_rfc))"
   ]
  },
  {
   "cell_type": "code",
   "execution_count": 63,
   "metadata": {},
   "outputs": [
    {
     "data": {
      "text/plain": [
       "0.5877862595419847"
      ]
     },
     "execution_count": 63,
     "metadata": {},
     "output_type": "execute_result"
    }
   ],
   "source": [
    "test_model = RandomForestClassifier(random_state=12345, max_depth=10, n_estimators=170, class_weight='balanced')\n",
    "test_model.fit(features_train, target_train)\n",
    "test_model_predict = test_model.predict(features_test)\n",
    "f1_score(target_test, test_model_predict)\n"
   ]
  },
  {
   "cell_type": "code",
   "execution_count": 64,
   "metadata": {},
   "outputs": [],
   "source": [
    "probilities_test = test_model.predict_proba(features_test)\n",
    "probabilities_one_test = probilities_test[:, 1]"
   ]
  },
  {
   "cell_type": "code",
   "execution_count": 65,
   "metadata": {
    "scrolled": true
   },
   "outputs": [
    {
     "name": "stdout",
     "output_type": "stream",
     "text": [
      "0.5955451348182884\n",
      "0.852473061535258\n"
     ]
    }
   ],
   "source": [
    "predicted_test = probabilities_one_test > 0.45\n",
    "print(f1_score(target_test, predicted_test))\n",
    "print(ras(target_test, probabilities_one_test))\n"
   ]
  },
  {
   "cell_type": "markdown",
   "metadata": {},
   "source": [
    "## Чек-лист готовности проекта"
   ]
  },
  {
   "cell_type": "markdown",
   "metadata": {},
   "source": [
    "Поставьте 'x' в выполненных пунктах. Далее нажмите Shift+Enter."
   ]
  },
  {
   "cell_type": "markdown",
   "metadata": {},
   "source": [
    "- [x]  Jupyter Notebook открыт\n",
    "- [x]  Весь код выполняется без ошибок\n",
    "- [x]  Ячейки с кодом расположены в порядке исполнения\n",
    "- [x]  Выполнен шаг 1: данные подготовлены\n",
    "- [x]  Выполнен шаг 2: задача исследована\n",
    "    - [x]  Исследован баланс классов\n",
    "    - [x]  Изучены модели без учёта дисбаланса\n",
    "    - [x]  Написаны выводы по результатам исследования\n",
    "- [x]  Выполнен шаг 3: учтён дисбаланс\n",
    "    - [x]  Применено несколько способов борьбы с дисбалансом\n",
    "    - [x]  Написаны выводы по результатам исследования\n",
    "- [x]  Выполнен шаг 4: проведено тестирование\n",
    "- [x]  Удалось достичь *F1*-меры не менее 0.59\n",
    "- [x]  Исследована метрика *AUC-ROC*"
   ]
  }
 ],
 "metadata": {
  "ExecuteTimeLog": [
   {
    "duration": 774,
    "start_time": "2022-02-13T12:08:47.167Z"
   },
   {
    "duration": 37,
    "start_time": "2022-02-13T12:09:27.357Z"
   },
   {
    "duration": 43,
    "start_time": "2022-02-13T12:09:32.372Z"
   },
   {
    "duration": 12,
    "start_time": "2022-02-13T12:09:39.272Z"
   },
   {
    "duration": 20,
    "start_time": "2022-02-13T12:10:00.609Z"
   },
   {
    "duration": 13,
    "start_time": "2022-02-13T12:10:28.354Z"
   },
   {
    "duration": 5,
    "start_time": "2022-02-13T12:11:50.774Z"
   },
   {
    "duration": 6,
    "start_time": "2022-02-13T12:12:57.378Z"
   },
   {
    "duration": 17,
    "start_time": "2022-02-13T12:13:13.242Z"
   },
   {
    "duration": 9,
    "start_time": "2022-02-13T12:13:54.246Z"
   },
   {
    "duration": 455,
    "start_time": "2022-02-13T12:13:58.696Z"
   },
   {
    "duration": 5,
    "start_time": "2022-02-13T12:14:02.516Z"
   },
   {
    "duration": 9,
    "start_time": "2022-02-13T12:17:03.425Z"
   },
   {
    "duration": 7,
    "start_time": "2022-02-13T12:20:35.595Z"
   },
   {
    "duration": 8,
    "start_time": "2022-02-13T12:21:33.810Z"
   },
   {
    "duration": 8,
    "start_time": "2022-02-13T12:21:37.087Z"
   },
   {
    "duration": 8,
    "start_time": "2022-02-13T12:21:47.309Z"
   },
   {
    "duration": 7,
    "start_time": "2022-02-13T12:21:49.619Z"
   },
   {
    "duration": 7,
    "start_time": "2022-02-13T12:28:26.975Z"
   },
   {
    "duration": 9,
    "start_time": "2022-02-13T12:28:44.799Z"
   },
   {
    "duration": 8,
    "start_time": "2022-02-13T12:28:45.309Z"
   },
   {
    "duration": 6,
    "start_time": "2022-02-13T12:29:10.954Z"
   },
   {
    "duration": 6,
    "start_time": "2022-02-13T12:29:45.345Z"
   },
   {
    "duration": 16,
    "start_time": "2022-02-13T12:29:56.796Z"
   },
   {
    "duration": 9551,
    "start_time": "2022-02-13T12:31:27.588Z"
   },
   {
    "duration": 8933,
    "start_time": "2022-02-13T12:31:43.752Z"
   },
   {
    "duration": 824,
    "start_time": "2022-02-13T12:32:00.327Z"
   },
   {
    "duration": 42,
    "start_time": "2022-02-13T12:32:01.153Z"
   },
   {
    "duration": 29,
    "start_time": "2022-02-13T12:32:01.198Z"
   },
   {
    "duration": 6,
    "start_time": "2022-02-13T12:32:01.229Z"
   },
   {
    "duration": 32,
    "start_time": "2022-02-13T12:32:01.237Z"
   },
   {
    "duration": 9,
    "start_time": "2022-02-13T12:32:01.271Z"
   },
   {
    "duration": 7,
    "start_time": "2022-02-13T12:32:01.282Z"
   },
   {
    "duration": 21,
    "start_time": "2022-02-13T12:32:01.292Z"
   },
   {
    "duration": 42,
    "start_time": "2022-02-13T12:32:01.317Z"
   },
   {
    "duration": 10,
    "start_time": "2022-02-13T12:32:05.945Z"
   },
   {
    "duration": 8,
    "start_time": "2022-02-13T12:32:06.457Z"
   },
   {
    "duration": 4,
    "start_time": "2022-02-13T12:32:20.816Z"
   },
   {
    "duration": 39,
    "start_time": "2022-02-13T12:32:20.822Z"
   },
   {
    "duration": 18,
    "start_time": "2022-02-13T12:32:20.864Z"
   },
   {
    "duration": 6,
    "start_time": "2022-02-13T12:32:20.885Z"
   },
   {
    "duration": 14,
    "start_time": "2022-02-13T12:32:20.893Z"
   },
   {
    "duration": 8,
    "start_time": "2022-02-13T12:32:20.910Z"
   },
   {
    "duration": 5,
    "start_time": "2022-02-13T12:32:20.958Z"
   },
   {
    "duration": 20,
    "start_time": "2022-02-13T12:32:20.966Z"
   },
   {
    "duration": 7,
    "start_time": "2022-02-13T12:32:20.989Z"
   },
   {
    "duration": 8,
    "start_time": "2022-02-13T12:32:29.882Z"
   },
   {
    "duration": 10,
    "start_time": "2022-02-13T12:32:36.527Z"
   },
   {
    "duration": 5,
    "start_time": "2022-02-13T12:32:36.974Z"
   },
   {
    "duration": 7,
    "start_time": "2022-02-13T12:32:37.239Z"
   },
   {
    "duration": 19,
    "start_time": "2022-02-13T12:32:37.976Z"
   },
   {
    "duration": 7,
    "start_time": "2022-02-13T12:34:54.444Z"
   },
   {
    "duration": 607,
    "start_time": "2022-02-13T12:35:26.388Z"
   },
   {
    "duration": 591,
    "start_time": "2022-02-13T12:37:08.669Z"
   },
   {
    "duration": 5,
    "start_time": "2022-02-13T12:37:14.281Z"
   },
   {
    "duration": 11,
    "start_time": "2022-02-13T12:37:14.996Z"
   },
   {
    "duration": 414,
    "start_time": "2022-02-13T12:39:39.864Z"
   },
   {
    "duration": 10,
    "start_time": "2022-02-13T12:40:48.991Z"
   },
   {
    "duration": 34,
    "start_time": "2022-02-13T12:41:03.956Z"
   },
   {
    "duration": 5,
    "start_time": "2022-02-13T12:41:08.134Z"
   },
   {
    "duration": 8,
    "start_time": "2022-02-13T12:41:14.210Z"
   },
   {
    "duration": 7,
    "start_time": "2022-02-13T12:41:21.723Z"
   },
   {
    "duration": 1353,
    "start_time": "2022-02-13T12:41:40.432Z"
   },
   {
    "duration": 35,
    "start_time": "2022-02-13T12:41:41.787Z"
   },
   {
    "duration": 35,
    "start_time": "2022-02-13T12:41:41.826Z"
   },
   {
    "duration": 5,
    "start_time": "2022-02-13T12:41:41.864Z"
   },
   {
    "duration": 12,
    "start_time": "2022-02-13T12:41:41.871Z"
   },
   {
    "duration": 9,
    "start_time": "2022-02-13T12:41:41.885Z"
   },
   {
    "duration": 8,
    "start_time": "2022-02-13T12:41:41.897Z"
   },
   {
    "duration": 53,
    "start_time": "2022-02-13T12:41:41.908Z"
   },
   {
    "duration": 17,
    "start_time": "2022-02-13T12:41:41.965Z"
   },
   {
    "duration": 6,
    "start_time": "2022-02-13T12:41:41.984Z"
   },
   {
    "duration": 9,
    "start_time": "2022-02-13T12:41:41.992Z"
   },
   {
    "duration": 8,
    "start_time": "2022-02-13T12:41:42.003Z"
   },
   {
    "duration": 46,
    "start_time": "2022-02-13T12:41:42.013Z"
   },
   {
    "duration": 6,
    "start_time": "2022-02-13T12:41:42.061Z"
   },
   {
    "duration": 21,
    "start_time": "2022-02-13T12:41:42.069Z"
   },
   {
    "duration": 7,
    "start_time": "2022-02-13T12:41:42.092Z"
   },
   {
    "duration": 8,
    "start_time": "2022-02-13T12:41:42.102Z"
   },
   {
    "duration": 492,
    "start_time": "2022-02-13T12:41:44.003Z"
   },
   {
    "duration": 351,
    "start_time": "2022-02-13T12:43:14.156Z"
   },
   {
    "duration": 7,
    "start_time": "2022-02-13T12:43:19.496Z"
   },
   {
    "duration": 699,
    "start_time": "2022-02-13T12:43:37.068Z"
   },
   {
    "duration": 364,
    "start_time": "2022-02-13T12:43:43.540Z"
   },
   {
    "duration": 347,
    "start_time": "2022-02-13T12:43:50.296Z"
   },
   {
    "duration": 435,
    "start_time": "2022-02-13T12:44:17.938Z"
   },
   {
    "duration": 27,
    "start_time": "2022-02-13T12:44:28.437Z"
   },
   {
    "duration": 8,
    "start_time": "2022-02-13T12:44:42.734Z"
   },
   {
    "duration": 8,
    "start_time": "2022-02-13T12:45:11.410Z"
   },
   {
    "duration": 1520,
    "start_time": "2022-02-13T21:28:04.521Z"
   },
   {
    "duration": 38,
    "start_time": "2022-02-13T21:28:08.305Z"
   },
   {
    "duration": 31,
    "start_time": "2022-02-13T21:28:09.307Z"
   },
   {
    "duration": 6,
    "start_time": "2022-02-13T21:28:10.396Z"
   },
   {
    "duration": 12,
    "start_time": "2022-02-13T21:28:10.908Z"
   },
   {
    "duration": 10,
    "start_time": "2022-02-13T21:28:18.421Z"
   },
   {
    "duration": 4,
    "start_time": "2022-02-13T21:28:19.517Z"
   },
   {
    "duration": 9,
    "start_time": "2022-02-13T21:28:20.626Z"
   },
   {
    "duration": 14,
    "start_time": "2022-02-13T21:28:36.757Z"
   },
   {
    "duration": 6,
    "start_time": "2022-02-13T21:29:02.670Z"
   },
   {
    "duration": 7,
    "start_time": "2022-02-13T21:29:03.500Z"
   },
   {
    "duration": 12,
    "start_time": "2022-02-13T21:29:08.968Z"
   },
   {
    "duration": 494,
    "start_time": "2022-02-13T21:29:09.829Z"
   },
   {
    "duration": 36,
    "start_time": "2022-02-13T21:29:23.060Z"
   },
   {
    "duration": 18,
    "start_time": "2022-02-13T21:29:23.381Z"
   },
   {
    "duration": 6,
    "start_time": "2022-02-13T21:29:24.189Z"
   },
   {
    "duration": 14,
    "start_time": "2022-02-13T21:29:24.489Z"
   },
   {
    "duration": 11,
    "start_time": "2022-02-13T21:29:25.277Z"
   },
   {
    "duration": 5,
    "start_time": "2022-02-13T21:29:26.715Z"
   },
   {
    "duration": 5,
    "start_time": "2022-02-13T21:29:27.287Z"
   },
   {
    "duration": 6,
    "start_time": "2022-02-13T21:29:27.680Z"
   },
   {
    "duration": 36,
    "start_time": "2022-02-13T21:29:46.084Z"
   },
   {
    "duration": 21,
    "start_time": "2022-02-13T21:29:46.604Z"
   },
   {
    "duration": 6,
    "start_time": "2022-02-13T21:29:47.444Z"
   },
   {
    "duration": 13,
    "start_time": "2022-02-13T21:29:47.772Z"
   },
   {
    "duration": 11,
    "start_time": "2022-02-13T21:29:48.513Z"
   },
   {
    "duration": 4,
    "start_time": "2022-02-13T21:29:49.294Z"
   },
   {
    "duration": 6,
    "start_time": "2022-02-13T21:29:50.710Z"
   },
   {
    "duration": 18,
    "start_time": "2022-02-13T21:29:51.186Z"
   },
   {
    "duration": 31,
    "start_time": "2022-02-13T21:29:52.131Z"
   },
   {
    "duration": 7,
    "start_time": "2022-02-13T21:29:55.637Z"
   },
   {
    "duration": 9,
    "start_time": "2022-02-13T21:29:57.958Z"
   },
   {
    "duration": 8,
    "start_time": "2022-02-13T21:29:59.088Z"
   },
   {
    "duration": 5,
    "start_time": "2022-02-13T21:29:59.591Z"
   },
   {
    "duration": 6,
    "start_time": "2022-02-13T21:29:59.913Z"
   },
   {
    "duration": 10,
    "start_time": "2022-02-13T21:30:00.352Z"
   },
   {
    "duration": 18,
    "start_time": "2022-02-13T21:30:05.546Z"
   },
   {
    "duration": 6,
    "start_time": "2022-02-13T21:30:07.028Z"
   },
   {
    "duration": 10,
    "start_time": "2022-02-13T21:30:07.037Z"
   },
   {
    "duration": 8,
    "start_time": "2022-02-13T21:30:09.677Z"
   },
   {
    "duration": 14,
    "start_time": "2022-02-13T21:30:14.641Z"
   },
   {
    "duration": 374,
    "start_time": "2022-02-13T21:30:26.266Z"
   },
   {
    "duration": 426,
    "start_time": "2022-02-13T21:30:33.798Z"
   },
   {
    "duration": 17,
    "start_time": "2022-02-13T21:30:47.197Z"
   },
   {
    "duration": 371,
    "start_time": "2022-02-13T21:32:04.046Z"
   },
   {
    "duration": 392,
    "start_time": "2022-02-13T21:32:15.690Z"
   },
   {
    "duration": 7,
    "start_time": "2022-02-13T21:32:31.629Z"
   },
   {
    "duration": 5,
    "start_time": "2022-02-13T21:32:40.405Z"
   },
   {
    "duration": 26,
    "start_time": "2022-02-13T21:33:13.507Z"
   },
   {
    "duration": 7,
    "start_time": "2022-02-13T21:33:21.366Z"
   },
   {
    "duration": 17,
    "start_time": "2022-02-13T21:33:27.579Z"
   },
   {
    "duration": 7,
    "start_time": "2022-02-13T21:33:28.682Z"
   },
   {
    "duration": 28,
    "start_time": "2022-02-13T21:33:36.463Z"
   },
   {
    "duration": 6,
    "start_time": "2022-02-13T21:33:53.768Z"
   },
   {
    "duration": 6,
    "start_time": "2022-02-13T21:34:06.949Z"
   },
   {
    "duration": 5,
    "start_time": "2022-02-13T21:38:40.392Z"
   },
   {
    "duration": 234,
    "start_time": "2022-02-13T21:41:47.658Z"
   },
   {
    "duration": 703,
    "start_time": "2022-02-13T21:43:24.107Z"
   },
   {
    "duration": 5,
    "start_time": "2022-02-13T21:43:25.664Z"
   },
   {
    "duration": 367,
    "start_time": "2022-02-13T21:43:58.648Z"
   },
   {
    "duration": 5,
    "start_time": "2022-02-13T21:44:17.194Z"
   },
   {
    "duration": 70,
    "start_time": "2022-02-13T21:44:22.510Z"
   },
   {
    "duration": 461,
    "start_time": "2022-02-13T21:44:33.241Z"
   },
   {
    "duration": 63,
    "start_time": "2022-02-13T21:44:38.458Z"
   },
   {
    "duration": 478,
    "start_time": "2022-02-13T21:46:27.514Z"
   },
   {
    "duration": 5,
    "start_time": "2022-02-13T21:46:52.810Z"
   },
   {
    "duration": 68,
    "start_time": "2022-02-13T21:46:59.001Z"
   },
   {
    "duration": 67,
    "start_time": "2022-02-13T21:47:33.339Z"
   },
   {
    "duration": 775,
    "start_time": "2022-02-13T21:49:26.768Z"
   },
   {
    "duration": 6,
    "start_time": "2022-02-13T21:49:40.714Z"
   },
   {
    "duration": 797,
    "start_time": "2022-02-13T21:50:06.965Z"
   },
   {
    "duration": 5,
    "start_time": "2022-02-13T21:50:10.946Z"
   },
   {
    "duration": 5,
    "start_time": "2022-02-13T21:50:22.718Z"
   },
   {
    "duration": 385,
    "start_time": "2022-02-13T21:50:46.616Z"
   },
   {
    "duration": 9,
    "start_time": "2022-02-13T21:51:00.669Z"
   },
   {
    "duration": 10,
    "start_time": "2022-02-13T21:51:17.577Z"
   },
   {
    "duration": 259,
    "start_time": "2022-02-13T21:52:29.082Z"
   },
   {
    "duration": 267,
    "start_time": "2022-02-13T21:52:43.815Z"
   },
   {
    "duration": 268,
    "start_time": "2022-02-13T21:53:00.866Z"
   },
   {
    "duration": 263,
    "start_time": "2022-02-13T21:53:15.522Z"
   },
   {
    "duration": 278,
    "start_time": "2022-02-13T21:53:29.603Z"
   },
   {
    "duration": 262,
    "start_time": "2022-02-13T21:53:34.547Z"
   },
   {
    "duration": 282,
    "start_time": "2022-02-13T21:53:41.679Z"
   },
   {
    "duration": 301,
    "start_time": "2022-02-13T21:53:54.185Z"
   },
   {
    "duration": 379,
    "start_time": "2022-02-15T19:22:25.437Z"
   },
   {
    "duration": 1049,
    "start_time": "2022-02-15T19:22:33.867Z"
   },
   {
    "duration": 33,
    "start_time": "2022-02-15T19:22:34.918Z"
   },
   {
    "duration": 24,
    "start_time": "2022-02-15T19:22:34.954Z"
   },
   {
    "duration": 4,
    "start_time": "2022-02-15T19:22:34.980Z"
   },
   {
    "duration": 11,
    "start_time": "2022-02-15T19:22:34.986Z"
   },
   {
    "duration": 8,
    "start_time": "2022-02-15T19:22:34.998Z"
   },
   {
    "duration": 3,
    "start_time": "2022-02-15T19:22:35.008Z"
   },
   {
    "duration": 5,
    "start_time": "2022-02-15T19:22:35.013Z"
   },
   {
    "duration": 39,
    "start_time": "2022-02-15T19:22:35.021Z"
   },
   {
    "duration": 5,
    "start_time": "2022-02-15T19:22:35.062Z"
   },
   {
    "duration": 9,
    "start_time": "2022-02-15T19:22:35.069Z"
   },
   {
    "duration": 5,
    "start_time": "2022-02-15T19:22:35.080Z"
   },
   {
    "duration": 4,
    "start_time": "2022-02-15T19:22:35.086Z"
   },
   {
    "duration": 10,
    "start_time": "2022-02-15T19:22:35.091Z"
   },
   {
    "duration": 12,
    "start_time": "2022-02-15T19:22:35.102Z"
   },
   {
    "duration": 30,
    "start_time": "2022-02-15T19:22:35.116Z"
   },
   {
    "duration": 6,
    "start_time": "2022-02-15T19:22:35.147Z"
   },
   {
    "duration": 240,
    "start_time": "2022-02-15T19:22:35.154Z"
   },
   {
    "duration": 483,
    "start_time": "2022-02-15T19:22:35.395Z"
   },
   {
    "duration": 6,
    "start_time": "2022-02-15T19:22:35.880Z"
   },
   {
    "duration": 67,
    "start_time": "2022-02-15T19:22:35.888Z"
   },
   {
    "duration": 52,
    "start_time": "2022-02-15T19:22:38.740Z"
   },
   {
    "duration": 6,
    "start_time": "2022-02-15T19:24:50.272Z"
   },
   {
    "duration": 5,
    "start_time": "2022-02-15T19:25:24.013Z"
   },
   {
    "duration": 4,
    "start_time": "2022-02-15T19:33:54.371Z"
   },
   {
    "duration": 785,
    "start_time": "2022-02-15T19:34:30.875Z"
   },
   {
    "duration": 3,
    "start_time": "2022-02-15T19:34:39.955Z"
   },
   {
    "duration": 663,
    "start_time": "2022-02-15T19:34:40.627Z"
   },
   {
    "duration": 4,
    "start_time": "2022-02-15T19:34:58.331Z"
   },
   {
    "duration": 4,
    "start_time": "2022-02-15T19:35:03.193Z"
   },
   {
    "duration": 5557,
    "start_time": "2022-02-15T19:35:03.609Z"
   },
   {
    "duration": 4,
    "start_time": "2022-02-15T19:35:21.858Z"
   },
   {
    "duration": 13,
    "start_time": "2022-02-15T19:35:22.202Z"
   },
   {
    "duration": 1102,
    "start_time": "2022-02-15T19:36:03.158Z"
   },
   {
    "duration": 3,
    "start_time": "2022-02-15T19:36:12.634Z"
   },
   {
    "duration": 174,
    "start_time": "2022-02-15T19:37:13.546Z"
   },
   {
    "duration": 44,
    "start_time": "2022-02-15T19:38:43.443Z"
   },
   {
    "duration": 5,
    "start_time": "2022-02-15T19:39:05.790Z"
   },
   {
    "duration": 5,
    "start_time": "2022-02-15T19:39:28.228Z"
   },
   {
    "duration": 450,
    "start_time": "2022-02-15T19:40:21.267Z"
   },
   {
    "duration": 7,
    "start_time": "2022-02-15T19:40:28.111Z"
   },
   {
    "duration": 960,
    "start_time": "2022-02-15T19:41:01.638Z"
   },
   {
    "duration": 5,
    "start_time": "2022-02-15T19:41:03.319Z"
   },
   {
    "duration": 246,
    "start_time": "2022-02-15T19:42:49.432Z"
   },
   {
    "duration": 114,
    "start_time": "2022-02-15T20:08:58.680Z"
   },
   {
    "duration": 5,
    "start_time": "2022-02-15T20:09:05.035Z"
   },
   {
    "duration": 4,
    "start_time": "2022-02-15T20:09:09.485Z"
   },
   {
    "duration": 30,
    "start_time": "2022-02-15T20:09:48.904Z"
   },
   {
    "duration": 7,
    "start_time": "2022-02-15T20:10:15.589Z"
   },
   {
    "duration": 5,
    "start_time": "2022-02-15T20:10:31.319Z"
   },
   {
    "duration": 382,
    "start_time": "2022-02-15T20:11:09.130Z"
   },
   {
    "duration": 341,
    "start_time": "2022-02-15T20:11:38.686Z"
   },
   {
    "duration": 4,
    "start_time": "2022-02-15T20:11:49.160Z"
   },
   {
    "duration": 323,
    "start_time": "2022-02-15T20:11:57.918Z"
   },
   {
    "duration": 331,
    "start_time": "2022-02-15T20:12:11.609Z"
   },
   {
    "duration": 697,
    "start_time": "2022-02-15T20:12:59.110Z"
   },
   {
    "duration": 4,
    "start_time": "2022-02-15T20:13:12.690Z"
   },
   {
    "duration": 662,
    "start_time": "2022-02-15T20:13:13.117Z"
   },
   {
    "duration": 4,
    "start_time": "2022-02-15T20:13:24.046Z"
   },
   {
    "duration": 671,
    "start_time": "2022-02-15T20:13:24.655Z"
   },
   {
    "duration": 4,
    "start_time": "2022-02-15T20:13:34.606Z"
   },
   {
    "duration": 12,
    "start_time": "2022-02-15T20:13:35.246Z"
   },
   {
    "duration": 339,
    "start_time": "2022-02-15T20:13:58.153Z"
   },
   {
    "duration": 4,
    "start_time": "2022-02-15T20:14:04.648Z"
   },
   {
    "duration": 12,
    "start_time": "2022-02-15T20:14:07.601Z"
   },
   {
    "duration": 4,
    "start_time": "2022-02-15T20:14:09.850Z"
   },
   {
    "duration": 6,
    "start_time": "2022-02-15T20:14:10.450Z"
   },
   {
    "duration": 12,
    "start_time": "2022-02-15T20:14:42.603Z"
   },
   {
    "duration": 12,
    "start_time": "2022-02-15T20:14:49.297Z"
   },
   {
    "duration": 10,
    "start_time": "2022-02-15T20:14:50.934Z"
   },
   {
    "duration": 6,
    "start_time": "2022-02-15T20:14:51.489Z"
   },
   {
    "duration": 194,
    "start_time": "2022-02-15T20:15:01.002Z"
   },
   {
    "duration": 5,
    "start_time": "2022-02-15T20:15:14.542Z"
   },
   {
    "duration": 419,
    "start_time": "2022-02-15T20:16:05.616Z"
   },
   {
    "duration": 354,
    "start_time": "2022-02-15T20:16:24.942Z"
   },
   {
    "duration": 373,
    "start_time": "2022-02-15T20:16:35.351Z"
   },
   {
    "duration": 192,
    "start_time": "2022-02-15T20:16:49.145Z"
   },
   {
    "duration": 118,
    "start_time": "2022-02-15T20:18:15.749Z"
   },
   {
    "duration": 338,
    "start_time": "2022-02-15T20:18:20.500Z"
   },
   {
    "duration": 389,
    "start_time": "2022-02-15T20:18:25.282Z"
   },
   {
    "duration": 33,
    "start_time": "2022-02-15T20:18:46.260Z"
   },
   {
    "duration": 2853,
    "start_time": "2022-02-15T20:20:13.997Z"
   },
   {
    "duration": 212,
    "start_time": "2022-02-15T20:20:30.556Z"
   },
   {
    "duration": 120,
    "start_time": "2022-02-15T20:20:53.539Z"
   },
   {
    "duration": 216,
    "start_time": "2022-02-15T20:21:00.454Z"
   },
   {
    "duration": 213,
    "start_time": "2022-02-15T20:21:31.783Z"
   },
   {
    "duration": 215,
    "start_time": "2022-02-15T20:21:42.240Z"
   },
   {
    "duration": 349,
    "start_time": "2022-02-15T20:22:41.166Z"
   },
   {
    "duration": 211,
    "start_time": "2022-02-15T20:22:49.892Z"
   },
   {
    "duration": 77,
    "start_time": "2022-02-15T20:24:00.995Z"
   },
   {
    "duration": 4,
    "start_time": "2022-02-15T20:35:46.727Z"
   },
   {
    "duration": 334,
    "start_time": "2022-02-15T20:37:29.031Z"
   },
   {
    "duration": 33,
    "start_time": "2022-02-15T20:37:33.614Z"
   },
   {
    "duration": 325,
    "start_time": "2022-02-15T20:39:49.075Z"
   },
   {
    "duration": 4,
    "start_time": "2022-02-15T20:39:59.088Z"
   },
   {
    "duration": 369,
    "start_time": "2022-02-15T20:40:03.130Z"
   },
   {
    "duration": 4641,
    "start_time": "2022-02-15T20:40:11.039Z"
   },
   {
    "duration": 57,
    "start_time": "2022-02-15T20:40:40.669Z"
   },
   {
    "duration": 75,
    "start_time": "2022-02-15T20:42:53.361Z"
   },
   {
    "duration": 77,
    "start_time": "2022-02-15T20:45:50.511Z"
   },
   {
    "duration": 78,
    "start_time": "2022-02-15T20:46:15.102Z"
   },
   {
    "duration": 22,
    "start_time": "2022-02-15T20:52:23.238Z"
   },
   {
    "duration": 75,
    "start_time": "2022-02-15T20:52:25.054Z"
   },
   {
    "duration": 3,
    "start_time": "2022-02-15T21:02:50.082Z"
   },
   {
    "duration": 5,
    "start_time": "2022-02-15T21:03:07.477Z"
   },
   {
    "duration": 392,
    "start_time": "2022-02-15T21:03:40.053Z"
   },
   {
    "duration": 335,
    "start_time": "2022-02-15T21:03:47.475Z"
   },
   {
    "duration": 7,
    "start_time": "2022-02-15T21:03:51.001Z"
   },
   {
    "duration": 19,
    "start_time": "2022-02-15T21:05:37.666Z"
   },
   {
    "duration": 4,
    "start_time": "2022-02-15T21:05:52.672Z"
   },
   {
    "duration": 1065,
    "start_time": "2022-02-15T21:05:58.017Z"
   },
   {
    "duration": 39,
    "start_time": "2022-02-15T21:05:59.084Z"
   },
   {
    "duration": 18,
    "start_time": "2022-02-15T21:05:59.125Z"
   },
   {
    "duration": 3,
    "start_time": "2022-02-15T21:05:59.145Z"
   },
   {
    "duration": 9,
    "start_time": "2022-02-15T21:05:59.150Z"
   },
   {
    "duration": 6,
    "start_time": "2022-02-15T21:05:59.161Z"
   },
   {
    "duration": 3,
    "start_time": "2022-02-15T21:05:59.168Z"
   },
   {
    "duration": 4,
    "start_time": "2022-02-15T21:05:59.174Z"
   },
   {
    "duration": 12,
    "start_time": "2022-02-15T21:05:59.180Z"
   },
   {
    "duration": 4,
    "start_time": "2022-02-15T21:05:59.193Z"
   },
   {
    "duration": 9,
    "start_time": "2022-02-15T21:05:59.198Z"
   },
   {
    "duration": 38,
    "start_time": "2022-02-15T21:05:59.208Z"
   },
   {
    "duration": 7,
    "start_time": "2022-02-15T21:05:59.248Z"
   },
   {
    "duration": 7,
    "start_time": "2022-02-15T21:05:59.256Z"
   },
   {
    "duration": 14,
    "start_time": "2022-02-15T21:05:59.264Z"
   },
   {
    "duration": 5,
    "start_time": "2022-02-15T21:05:59.280Z"
   },
   {
    "duration": 5,
    "start_time": "2022-02-15T21:05:59.286Z"
   },
   {
    "duration": 6,
    "start_time": "2022-02-15T21:05:59.293Z"
   },
   {
    "duration": 3,
    "start_time": "2022-02-15T21:05:59.300Z"
   },
   {
    "duration": 9,
    "start_time": "2022-02-15T21:05:59.304Z"
   },
   {
    "duration": 45,
    "start_time": "2022-02-15T21:05:59.314Z"
   },
   {
    "duration": 189,
    "start_time": "2022-02-15T21:05:59.360Z"
   },
   {
    "duration": 486,
    "start_time": "2022-02-15T21:05:59.552Z"
   },
   {
    "duration": 9,
    "start_time": "2022-02-15T21:06:00.039Z"
   },
   {
    "duration": 35,
    "start_time": "2022-02-15T21:06:00.049Z"
   },
   {
    "duration": 172,
    "start_time": "2022-02-15T21:06:00.086Z"
   },
   {
    "duration": 88,
    "start_time": "2022-02-15T21:06:00.259Z"
   },
   {
    "duration": 98,
    "start_time": "2022-02-15T21:06:00.349Z"
   },
   {
    "duration": 21,
    "start_time": "2022-02-15T21:06:00.448Z"
   },
   {
    "duration": 3,
    "start_time": "2022-02-15T21:06:00.470Z"
   },
   {
    "duration": 31,
    "start_time": "2022-02-15T21:06:00.474Z"
   },
   {
    "duration": 6,
    "start_time": "2022-02-15T21:06:00.506Z"
   },
   {
    "duration": 38,
    "start_time": "2022-02-15T21:06:00.514Z"
   },
   {
    "duration": 1063,
    "start_time": "2022-02-15T21:06:00.554Z"
   },
   {
    "duration": 6,
    "start_time": "2022-02-15T21:06:01.619Z"
   },
   {
    "duration": 278,
    "start_time": "2022-02-15T21:06:01.627Z"
   },
   {
    "duration": 5,
    "start_time": "2022-02-15T21:06:01.907Z"
   },
   {
    "duration": 13,
    "start_time": "2022-02-15T21:06:01.913Z"
   },
   {
    "duration": 18,
    "start_time": "2022-02-15T21:06:01.928Z"
   },
   {
    "duration": 8,
    "start_time": "2022-02-15T21:06:01.948Z"
   },
   {
    "duration": 3,
    "start_time": "2022-02-15T21:06:01.958Z"
   },
   {
    "duration": 86,
    "start_time": "2022-02-15T21:06:01.962Z"
   },
   {
    "duration": 122,
    "start_time": "2022-02-15T21:06:02.050Z"
   },
   {
    "duration": 233,
    "start_time": "2022-02-15T21:06:02.174Z"
   },
   {
    "duration": 87,
    "start_time": "2022-02-15T21:06:02.409Z"
   },
   {
    "duration": 52,
    "start_time": "2022-02-15T21:06:02.498Z"
   },
   {
    "duration": 207,
    "start_time": "2022-02-15T21:06:02.552Z"
   },
   {
    "duration": 87,
    "start_time": "2022-02-15T21:06:02.761Z"
   },
   {
    "duration": 79,
    "start_time": "2022-02-15T21:06:02.849Z"
   },
   {
    "duration": 26,
    "start_time": "2022-02-15T21:06:02.929Z"
   },
   {
    "duration": 82,
    "start_time": "2022-02-15T21:06:02.956Z"
   },
   {
    "duration": 1069,
    "start_time": "2022-02-16T21:24:38.282Z"
   },
   {
    "duration": 36,
    "start_time": "2022-02-16T21:24:39.352Z"
   },
   {
    "duration": 16,
    "start_time": "2022-02-16T21:24:39.390Z"
   },
   {
    "duration": 4,
    "start_time": "2022-02-16T21:24:39.407Z"
   },
   {
    "duration": 9,
    "start_time": "2022-02-16T21:24:39.413Z"
   },
   {
    "duration": 8,
    "start_time": "2022-02-16T21:24:39.423Z"
   },
   {
    "duration": 3,
    "start_time": "2022-02-16T21:24:39.432Z"
   },
   {
    "duration": 5,
    "start_time": "2022-02-16T21:24:39.447Z"
   },
   {
    "duration": 11,
    "start_time": "2022-02-16T21:24:39.454Z"
   },
   {
    "duration": 4,
    "start_time": "2022-02-16T21:24:39.466Z"
   },
   {
    "duration": 8,
    "start_time": "2022-02-16T21:24:39.471Z"
   },
   {
    "duration": 6,
    "start_time": "2022-02-16T21:24:39.480Z"
   },
   {
    "duration": 7,
    "start_time": "2022-02-16T21:24:39.488Z"
   },
   {
    "duration": 9,
    "start_time": "2022-02-16T21:24:39.497Z"
   },
   {
    "duration": 12,
    "start_time": "2022-02-16T21:24:39.508Z"
   },
   {
    "duration": 28,
    "start_time": "2022-02-16T21:24:39.522Z"
   },
   {
    "duration": 5,
    "start_time": "2022-02-16T21:24:39.552Z"
   },
   {
    "duration": 7,
    "start_time": "2022-02-16T21:24:39.559Z"
   },
   {
    "duration": 4,
    "start_time": "2022-02-16T21:24:39.567Z"
   },
   {
    "duration": 9,
    "start_time": "2022-02-16T21:24:39.572Z"
   },
   {
    "duration": 16,
    "start_time": "2022-02-16T21:24:39.583Z"
   },
   {
    "duration": 198,
    "start_time": "2022-02-16T21:24:39.601Z"
   },
   {
    "duration": 466,
    "start_time": "2022-02-16T21:24:39.802Z"
   },
   {
    "duration": 5,
    "start_time": "2022-02-16T21:24:40.270Z"
   },
   {
    "duration": 76,
    "start_time": "2022-02-16T21:24:40.276Z"
   },
   {
    "duration": 192,
    "start_time": "2022-02-16T21:24:40.354Z"
   },
   {
    "duration": 7,
    "start_time": "2022-02-16T21:24:40.548Z"
   },
   {
    "duration": 5,
    "start_time": "2022-02-16T21:24:40.646Z"
   },
   {
    "duration": 15,
    "start_time": "2022-02-16T21:24:40.652Z"
   },
   {
    "duration": 3,
    "start_time": "2022-02-16T21:24:40.668Z"
   },
   {
    "duration": 37,
    "start_time": "2022-02-16T21:24:40.672Z"
   },
   {
    "duration": 36,
    "start_time": "2022-02-16T21:24:40.711Z"
   },
   {
    "duration": 106,
    "start_time": "2022-02-16T21:24:40.749Z"
   },
   {
    "duration": 1013,
    "start_time": "2022-02-16T21:24:40.857Z"
   },
   {
    "duration": 5,
    "start_time": "2022-02-16T21:24:41.872Z"
   },
   {
    "duration": 269,
    "start_time": "2022-02-16T21:24:41.879Z"
   },
   {
    "duration": 4,
    "start_time": "2022-02-16T21:24:42.150Z"
   },
   {
    "duration": 15,
    "start_time": "2022-02-16T21:24:42.155Z"
   },
   {
    "duration": 3,
    "start_time": "2022-02-16T21:24:42.171Z"
   },
   {
    "duration": 18,
    "start_time": "2022-02-16T21:24:42.175Z"
   },
   {
    "duration": 7,
    "start_time": "2022-02-16T21:24:42.195Z"
   },
   {
    "duration": 143,
    "start_time": "2022-02-16T21:24:42.204Z"
   },
   {
    "duration": 34,
    "start_time": "2022-02-16T21:24:42.349Z"
   },
   {
    "duration": 246,
    "start_time": "2022-02-16T21:24:42.385Z"
   },
   {
    "duration": 88,
    "start_time": "2022-02-16T21:24:42.632Z"
   },
   {
    "duration": 33,
    "start_time": "2022-02-16T21:24:42.722Z"
   },
   {
    "duration": 254,
    "start_time": "2022-02-16T21:24:42.758Z"
   },
   {
    "duration": 92,
    "start_time": "2022-02-16T21:24:43.014Z"
   },
   {
    "duration": 85,
    "start_time": "2022-02-16T21:24:43.108Z"
   },
   {
    "duration": 23,
    "start_time": "2022-02-16T21:24:43.195Z"
   },
   {
    "duration": 95,
    "start_time": "2022-02-16T21:24:43.219Z"
   },
   {
    "duration": 1045,
    "start_time": "2022-02-16T21:36:11.312Z"
   },
   {
    "duration": 28,
    "start_time": "2022-02-16T21:36:12.359Z"
   },
   {
    "duration": 17,
    "start_time": "2022-02-16T21:36:12.389Z"
   },
   {
    "duration": 3,
    "start_time": "2022-02-16T21:36:12.408Z"
   },
   {
    "duration": 9,
    "start_time": "2022-02-16T21:36:12.413Z"
   },
   {
    "duration": 6,
    "start_time": "2022-02-16T21:36:12.424Z"
   },
   {
    "duration": 16,
    "start_time": "2022-02-16T21:36:12.431Z"
   },
   {
    "duration": 3,
    "start_time": "2022-02-16T21:36:12.449Z"
   },
   {
    "duration": 11,
    "start_time": "2022-02-16T21:36:12.454Z"
   },
   {
    "duration": 4,
    "start_time": "2022-02-16T21:36:12.466Z"
   },
   {
    "duration": 6,
    "start_time": "2022-02-16T21:36:12.471Z"
   },
   {
    "duration": 5,
    "start_time": "2022-02-16T21:36:12.478Z"
   },
   {
    "duration": 4,
    "start_time": "2022-02-16T21:36:12.484Z"
   },
   {
    "duration": 7,
    "start_time": "2022-02-16T21:36:12.490Z"
   },
   {
    "duration": 12,
    "start_time": "2022-02-16T21:36:12.498Z"
   },
   {
    "duration": 37,
    "start_time": "2022-02-16T21:36:12.511Z"
   },
   {
    "duration": 6,
    "start_time": "2022-02-16T21:36:12.550Z"
   },
   {
    "duration": 9,
    "start_time": "2022-02-16T21:36:12.557Z"
   },
   {
    "duration": 5,
    "start_time": "2022-02-16T21:36:12.567Z"
   },
   {
    "duration": 10,
    "start_time": "2022-02-16T21:36:12.574Z"
   },
   {
    "duration": 17,
    "start_time": "2022-02-16T21:36:12.586Z"
   },
   {
    "duration": 190,
    "start_time": "2022-02-16T21:36:12.604Z"
   },
   {
    "duration": 480,
    "start_time": "2022-02-16T21:36:12.797Z"
   },
   {
    "duration": 5,
    "start_time": "2022-02-16T21:36:13.279Z"
   },
   {
    "duration": 74,
    "start_time": "2022-02-16T21:36:13.285Z"
   },
   {
    "duration": 109,
    "start_time": "2022-02-16T21:36:13.361Z"
   },
   {
    "duration": 76,
    "start_time": "2022-02-16T21:36:13.471Z"
   },
   {
    "duration": 97,
    "start_time": "2022-02-16T21:36:13.549Z"
   },
   {
    "duration": 16,
    "start_time": "2022-02-16T21:36:13.648Z"
   },
   {
    "duration": 3,
    "start_time": "2022-02-16T21:36:13.665Z"
   },
   {
    "duration": 32,
    "start_time": "2022-02-16T21:36:13.669Z"
   },
   {
    "duration": 45,
    "start_time": "2022-02-16T21:36:13.702Z"
   },
   {
    "duration": 101,
    "start_time": "2022-02-16T21:36:13.749Z"
   },
   {
    "duration": 1009,
    "start_time": "2022-02-16T21:36:13.852Z"
   },
   {
    "duration": 5,
    "start_time": "2022-02-16T21:36:14.862Z"
   },
   {
    "duration": 281,
    "start_time": "2022-02-16T21:36:14.868Z"
   },
   {
    "duration": 4,
    "start_time": "2022-02-16T21:36:15.151Z"
   },
   {
    "duration": 15,
    "start_time": "2022-02-16T21:36:15.156Z"
   },
   {
    "duration": 3,
    "start_time": "2022-02-16T21:36:15.172Z"
   },
   {
    "duration": 11,
    "start_time": "2022-02-16T21:36:15.176Z"
   },
   {
    "duration": 62,
    "start_time": "2022-02-16T21:36:15.188Z"
   },
   {
    "duration": 5,
    "start_time": "2022-02-16T21:36:15.252Z"
   },
   {
    "duration": 137,
    "start_time": "2022-02-16T21:36:15.258Z"
   },
   {
    "duration": 276,
    "start_time": "2022-02-16T21:36:15.396Z"
   },
   {
    "duration": 99,
    "start_time": "2022-02-16T21:36:15.674Z"
   },
   {
    "duration": 27,
    "start_time": "2022-02-16T21:36:19.014Z"
   },
   {
    "duration": 80,
    "start_time": "2022-02-16T21:36:25.228Z"
   },
   {
    "duration": 390,
    "start_time": "2022-02-16T21:36:36.404Z"
   },
   {
    "duration": 4,
    "start_time": "2022-02-16T21:36:56.583Z"
   },
   {
    "duration": 337,
    "start_time": "2022-02-16T21:38:55.316Z"
   },
   {
    "duration": 329,
    "start_time": "2022-02-16T21:39:14.831Z"
   },
   {
    "duration": 75,
    "start_time": "2022-02-16T21:39:30.612Z"
   },
   {
    "duration": 232,
    "start_time": "2022-02-16T21:39:35.758Z"
   },
   {
    "duration": 79,
    "start_time": "2022-02-16T21:39:47.073Z"
   },
   {
    "duration": 86,
    "start_time": "2022-02-16T21:39:52.002Z"
   },
   {
    "duration": 216,
    "start_time": "2022-02-16T21:39:56.171Z"
   },
   {
    "duration": 5,
    "start_time": "2022-02-16T21:41:28.241Z"
   },
   {
    "duration": 4,
    "start_time": "2022-02-16T21:42:38.109Z"
   },
   {
    "duration": 3,
    "start_time": "2022-02-16T21:42:50.140Z"
   },
   {
    "duration": 1079,
    "start_time": "2022-02-16T21:47:15.172Z"
   },
   {
    "duration": 27,
    "start_time": "2022-02-16T21:47:16.253Z"
   },
   {
    "duration": 13,
    "start_time": "2022-02-16T21:47:16.282Z"
   },
   {
    "duration": 6,
    "start_time": "2022-02-16T21:47:16.296Z"
   },
   {
    "duration": 11,
    "start_time": "2022-02-16T21:47:16.304Z"
   },
   {
    "duration": 6,
    "start_time": "2022-02-16T21:47:16.316Z"
   },
   {
    "duration": 4,
    "start_time": "2022-02-16T21:47:16.323Z"
   },
   {
    "duration": 18,
    "start_time": "2022-02-16T21:47:16.328Z"
   },
   {
    "duration": 10,
    "start_time": "2022-02-16T21:47:16.348Z"
   },
   {
    "duration": 4,
    "start_time": "2022-02-16T21:47:16.359Z"
   },
   {
    "duration": 7,
    "start_time": "2022-02-16T21:47:16.364Z"
   },
   {
    "duration": 8,
    "start_time": "2022-02-16T21:47:16.372Z"
   },
   {
    "duration": 3,
    "start_time": "2022-02-16T21:47:16.381Z"
   },
   {
    "duration": 9,
    "start_time": "2022-02-16T21:47:16.385Z"
   },
   {
    "duration": 11,
    "start_time": "2022-02-16T21:47:16.396Z"
   },
   {
    "duration": 4,
    "start_time": "2022-02-16T21:47:16.409Z"
   },
   {
    "duration": 31,
    "start_time": "2022-02-16T21:47:16.415Z"
   },
   {
    "duration": 6,
    "start_time": "2022-02-16T21:47:16.448Z"
   },
   {
    "duration": 2,
    "start_time": "2022-02-16T21:47:16.456Z"
   },
   {
    "duration": 12,
    "start_time": "2022-02-16T21:47:16.459Z"
   },
   {
    "duration": 16,
    "start_time": "2022-02-16T21:47:16.473Z"
   },
   {
    "duration": 187,
    "start_time": "2022-02-16T21:47:16.490Z"
   },
   {
    "duration": 467,
    "start_time": "2022-02-16T21:47:16.678Z"
   },
   {
    "duration": 4,
    "start_time": "2022-02-16T21:47:17.147Z"
   },
   {
    "duration": 94,
    "start_time": "2022-02-16T21:47:17.153Z"
   },
   {
    "duration": 114,
    "start_time": "2022-02-16T21:47:17.248Z"
   },
   {
    "duration": 83,
    "start_time": "2022-02-16T21:47:17.367Z"
   },
   {
    "duration": 95,
    "start_time": "2022-02-16T21:47:17.453Z"
   },
   {
    "duration": 17,
    "start_time": "2022-02-16T21:47:17.549Z"
   },
   {
    "duration": 3,
    "start_time": "2022-02-16T21:47:17.567Z"
   },
   {
    "duration": 29,
    "start_time": "2022-02-16T21:47:17.571Z"
   },
   {
    "duration": 50,
    "start_time": "2022-02-16T21:47:17.601Z"
   },
   {
    "duration": 96,
    "start_time": "2022-02-16T21:47:17.653Z"
   },
   {
    "duration": 1041,
    "start_time": "2022-02-16T21:47:17.751Z"
   },
   {
    "duration": 5,
    "start_time": "2022-02-16T21:47:18.793Z"
   },
   {
    "duration": 269,
    "start_time": "2022-02-16T21:47:18.799Z"
   },
   {
    "duration": 4,
    "start_time": "2022-02-16T21:47:19.070Z"
   },
   {
    "duration": 14,
    "start_time": "2022-02-16T21:47:19.076Z"
   },
   {
    "duration": 3,
    "start_time": "2022-02-16T21:47:19.091Z"
   },
   {
    "duration": 13,
    "start_time": "2022-02-16T21:47:19.095Z"
   },
   {
    "duration": 38,
    "start_time": "2022-02-16T21:47:19.109Z"
   },
   {
    "duration": 98,
    "start_time": "2022-02-16T21:47:19.149Z"
   },
   {
    "duration": 36,
    "start_time": "2022-02-16T21:47:19.248Z"
   },
   {
    "duration": 235,
    "start_time": "2022-02-16T21:47:19.285Z"
   },
   {
    "duration": 90,
    "start_time": "2022-02-16T21:47:19.521Z"
   },
   {
    "duration": 33,
    "start_time": "2022-02-16T21:47:19.613Z"
   },
   {
    "duration": 260,
    "start_time": "2022-02-16T21:47:19.648Z"
   },
   {
    "duration": 5,
    "start_time": "2022-02-16T21:47:19.909Z"
   },
   {
    "duration": 236,
    "start_time": "2022-02-16T21:47:19.916Z"
   },
   {
    "duration": 93,
    "start_time": "2022-02-16T21:47:20.153Z"
   },
   {
    "duration": 78,
    "start_time": "2022-02-16T21:47:20.247Z"
   },
   {
    "duration": 4,
    "start_time": "2022-02-16T21:47:20.327Z"
   },
   {
    "duration": 3,
    "start_time": "2022-02-16T21:47:20.346Z"
   },
   {
    "duration": 228,
    "start_time": "2022-02-16T21:47:20.350Z"
   },
   {
    "duration": 22,
    "start_time": "2022-02-16T21:47:20.580Z"
   },
   {
    "duration": 88,
    "start_time": "2022-02-16T21:47:20.603Z"
   },
   {
    "duration": 5,
    "start_time": "2022-02-16T21:47:20.693Z"
   },
   {
    "duration": 229,
    "start_time": "2022-02-16T21:47:20.699Z"
   },
   {
    "duration": 12,
    "start_time": "2022-02-16T22:55:54.341Z"
   },
   {
    "duration": 348,
    "start_time": "2022-02-16T23:02:23.362Z"
   },
   {
    "duration": 1099,
    "start_time": "2022-02-16T23:09:16.456Z"
   },
   {
    "duration": 37,
    "start_time": "2022-02-16T23:09:17.557Z"
   },
   {
    "duration": 13,
    "start_time": "2022-02-16T23:09:17.596Z"
   },
   {
    "duration": 3,
    "start_time": "2022-02-16T23:09:17.610Z"
   },
   {
    "duration": 8,
    "start_time": "2022-02-16T23:09:17.615Z"
   },
   {
    "duration": 6,
    "start_time": "2022-02-16T23:09:17.624Z"
   },
   {
    "duration": 5,
    "start_time": "2022-02-16T23:09:17.631Z"
   },
   {
    "duration": 9,
    "start_time": "2022-02-16T23:09:17.637Z"
   },
   {
    "duration": 12,
    "start_time": "2022-02-16T23:09:17.648Z"
   },
   {
    "duration": 3,
    "start_time": "2022-02-16T23:09:17.662Z"
   },
   {
    "duration": 9,
    "start_time": "2022-02-16T23:09:17.667Z"
   },
   {
    "duration": 9,
    "start_time": "2022-02-16T23:09:17.678Z"
   },
   {
    "duration": 4,
    "start_time": "2022-02-16T23:09:17.688Z"
   },
   {
    "duration": 5,
    "start_time": "2022-02-16T23:09:17.693Z"
   },
   {
    "duration": 11,
    "start_time": "2022-02-16T23:09:17.700Z"
   },
   {
    "duration": 4,
    "start_time": "2022-02-16T23:09:17.713Z"
   },
   {
    "duration": 35,
    "start_time": "2022-02-16T23:09:17.719Z"
   },
   {
    "duration": 7,
    "start_time": "2022-02-16T23:09:17.756Z"
   },
   {
    "duration": 2,
    "start_time": "2022-02-16T23:09:17.765Z"
   },
   {
    "duration": 9,
    "start_time": "2022-02-16T23:09:17.768Z"
   },
   {
    "duration": 17,
    "start_time": "2022-02-16T23:09:17.778Z"
   },
   {
    "duration": 256,
    "start_time": "2022-02-16T23:09:17.796Z"
   },
   {
    "duration": 492,
    "start_time": "2022-02-16T23:09:18.054Z"
   },
   {
    "duration": 6,
    "start_time": "2022-02-16T23:09:18.547Z"
   },
   {
    "duration": 100,
    "start_time": "2022-02-16T23:09:18.555Z"
   },
   {
    "duration": 110,
    "start_time": "2022-02-16T23:09:18.658Z"
   },
   {
    "duration": 75,
    "start_time": "2022-02-16T23:09:18.773Z"
   },
   {
    "duration": 96,
    "start_time": "2022-02-16T23:09:18.851Z"
   },
   {
    "duration": 14,
    "start_time": "2022-02-16T23:09:18.949Z"
   },
   {
    "duration": 3,
    "start_time": "2022-02-16T23:09:18.965Z"
   },
   {
    "duration": 31,
    "start_time": "2022-02-16T23:09:18.969Z"
   },
   {
    "duration": 49,
    "start_time": "2022-02-16T23:09:19.001Z"
   },
   {
    "duration": 5,
    "start_time": "2022-02-16T23:09:19.052Z"
   },
   {
    "duration": 1109,
    "start_time": "2022-02-16T23:09:19.058Z"
   },
   {
    "duration": 5,
    "start_time": "2022-02-16T23:09:20.169Z"
   },
   {
    "duration": 307,
    "start_time": "2022-02-16T23:09:20.176Z"
   },
   {
    "duration": 4,
    "start_time": "2022-02-16T23:09:20.485Z"
   },
   {
    "duration": 13,
    "start_time": "2022-02-16T23:09:20.490Z"
   },
   {
    "duration": 2,
    "start_time": "2022-02-16T23:09:20.505Z"
   },
   {
    "duration": 13,
    "start_time": "2022-02-16T23:09:20.509Z"
   },
   {
    "duration": 23,
    "start_time": "2022-02-16T23:09:20.524Z"
   },
   {
    "duration": 9,
    "start_time": "2022-02-16T23:09:20.549Z"
   },
   {
    "duration": 211,
    "start_time": "2022-02-16T23:09:20.560Z"
   },
   {
    "duration": 241,
    "start_time": "2022-02-16T23:09:20.773Z"
   },
   {
    "duration": 93,
    "start_time": "2022-02-16T23:09:21.016Z"
   },
   {
    "duration": 37,
    "start_time": "2022-02-16T23:09:21.111Z"
   },
   {
    "duration": 259,
    "start_time": "2022-02-16T23:09:21.150Z"
   },
   {
    "duration": 4,
    "start_time": "2022-02-16T23:09:21.411Z"
   },
   {
    "duration": 234,
    "start_time": "2022-02-16T23:09:21.417Z"
   },
   {
    "duration": 81,
    "start_time": "2022-02-16T23:09:21.653Z"
   },
   {
    "duration": 91,
    "start_time": "2022-02-16T23:09:21.736Z"
   },
   {
    "duration": 4,
    "start_time": "2022-02-16T23:09:21.829Z"
   },
   {
    "duration": 3,
    "start_time": "2022-02-16T23:09:21.845Z"
   },
   {
    "duration": 229,
    "start_time": "2022-02-16T23:09:21.850Z"
   },
   {
    "duration": 22,
    "start_time": "2022-02-16T23:09:26.211Z"
   },
   {
    "duration": 5,
    "start_time": "2022-02-16T23:09:32.716Z"
   },
   {
    "duration": 4,
    "start_time": "2022-02-16T23:09:39.526Z"
   },
   {
    "duration": 11,
    "start_time": "2022-02-16T23:24:50.448Z"
   },
   {
    "duration": 443,
    "start_time": "2022-02-16T23:26:24.007Z"
   },
   {
    "duration": 1066,
    "start_time": "2022-02-16T23:26:39.094Z"
   },
   {
    "duration": 27,
    "start_time": "2022-02-16T23:26:40.162Z"
   },
   {
    "duration": 12,
    "start_time": "2022-02-16T23:26:40.191Z"
   },
   {
    "duration": 5,
    "start_time": "2022-02-16T23:26:40.205Z"
   },
   {
    "duration": 9,
    "start_time": "2022-02-16T23:26:40.212Z"
   },
   {
    "duration": 5,
    "start_time": "2022-02-16T23:26:40.223Z"
   },
   {
    "duration": 3,
    "start_time": "2022-02-16T23:26:40.229Z"
   },
   {
    "duration": 3,
    "start_time": "2022-02-16T23:26:40.247Z"
   },
   {
    "duration": 10,
    "start_time": "2022-02-16T23:26:40.253Z"
   },
   {
    "duration": 4,
    "start_time": "2022-02-16T23:26:40.265Z"
   },
   {
    "duration": 5,
    "start_time": "2022-02-16T23:26:40.271Z"
   },
   {
    "duration": 6,
    "start_time": "2022-02-16T23:26:40.278Z"
   },
   {
    "duration": 4,
    "start_time": "2022-02-16T23:26:40.285Z"
   },
   {
    "duration": 5,
    "start_time": "2022-02-16T23:26:40.290Z"
   },
   {
    "duration": 10,
    "start_time": "2022-02-16T23:26:40.297Z"
   },
   {
    "duration": 5,
    "start_time": "2022-02-16T23:26:40.346Z"
   },
   {
    "duration": 7,
    "start_time": "2022-02-16T23:26:40.352Z"
   },
   {
    "duration": 6,
    "start_time": "2022-02-16T23:26:40.360Z"
   },
   {
    "duration": 2,
    "start_time": "2022-02-16T23:26:40.368Z"
   },
   {
    "duration": 9,
    "start_time": "2022-02-16T23:26:40.372Z"
   },
   {
    "duration": 16,
    "start_time": "2022-02-16T23:26:40.383Z"
   },
   {
    "duration": 202,
    "start_time": "2022-02-16T23:26:40.401Z"
   },
   {
    "duration": 468,
    "start_time": "2022-02-16T23:26:40.606Z"
   },
   {
    "duration": 5,
    "start_time": "2022-02-16T23:26:41.076Z"
   },
   {
    "duration": 64,
    "start_time": "2022-02-16T23:26:41.082Z"
   },
   {
    "duration": 118,
    "start_time": "2022-02-16T23:26:41.148Z"
   },
   {
    "duration": 81,
    "start_time": "2022-02-16T23:26:41.268Z"
   },
   {
    "duration": 99,
    "start_time": "2022-02-16T23:26:41.352Z"
   },
   {
    "duration": 15,
    "start_time": "2022-02-16T23:26:41.453Z"
   },
   {
    "duration": 3,
    "start_time": "2022-02-16T23:26:41.469Z"
   },
   {
    "duration": 28,
    "start_time": "2022-02-16T23:26:41.473Z"
   },
   {
    "duration": 4,
    "start_time": "2022-02-16T23:26:41.502Z"
   },
   {
    "duration": 101,
    "start_time": "2022-02-16T23:26:41.547Z"
   },
   {
    "duration": 965,
    "start_time": "2022-02-16T23:26:41.649Z"
   },
   {
    "duration": 5,
    "start_time": "2022-02-16T23:26:42.615Z"
   },
   {
    "duration": 271,
    "start_time": "2022-02-16T23:26:42.621Z"
   },
   {
    "duration": 4,
    "start_time": "2022-02-16T23:26:42.894Z"
   },
   {
    "duration": 14,
    "start_time": "2022-02-16T23:26:42.900Z"
   },
   {
    "duration": 3,
    "start_time": "2022-02-16T23:26:42.915Z"
   },
   {
    "duration": 28,
    "start_time": "2022-02-16T23:26:42.919Z"
   },
   {
    "duration": 10,
    "start_time": "2022-02-16T23:26:42.948Z"
   },
   {
    "duration": 96,
    "start_time": "2022-02-16T23:26:42.961Z"
   },
   {
    "duration": 37,
    "start_time": "2022-02-16T23:26:43.146Z"
   },
   {
    "duration": 239,
    "start_time": "2022-02-16T23:26:43.185Z"
   },
   {
    "duration": 92,
    "start_time": "2022-02-16T23:26:43.426Z"
   },
   {
    "duration": 36,
    "start_time": "2022-02-16T23:26:43.520Z"
   },
   {
    "duration": 249,
    "start_time": "2022-02-16T23:26:43.558Z"
   },
   {
    "duration": 5,
    "start_time": "2022-02-16T23:26:43.808Z"
   },
   {
    "duration": 240,
    "start_time": "2022-02-16T23:26:43.815Z"
   },
   {
    "duration": 78,
    "start_time": "2022-02-16T23:26:44.057Z"
   },
   {
    "duration": 85,
    "start_time": "2022-02-16T23:26:44.136Z"
   },
   {
    "duration": 4,
    "start_time": "2022-02-16T23:26:44.222Z"
   },
   {
    "duration": 18,
    "start_time": "2022-02-16T23:26:44.228Z"
   },
   {
    "duration": 225,
    "start_time": "2022-02-16T23:26:44.247Z"
   },
   {
    "duration": 21,
    "start_time": "2022-02-16T23:26:44.474Z"
   },
   {
    "duration": 84,
    "start_time": "2022-02-16T23:26:44.496Z"
   },
   {
    "duration": 5,
    "start_time": "2022-02-16T23:26:44.582Z"
   },
   {
    "duration": 227,
    "start_time": "2022-02-16T23:26:44.588Z"
   },
   {
    "duration": 420,
    "start_time": "2022-02-16T23:26:44.817Z"
   },
   {
    "duration": 11,
    "start_time": "2022-02-16T23:26:51.647Z"
   },
   {
    "duration": 11,
    "start_time": "2022-02-16T23:26:57.634Z"
   },
   {
    "duration": 328,
    "start_time": "2022-02-16T23:27:33.427Z"
   },
   {
    "duration": 11,
    "start_time": "2022-02-16T23:27:38.914Z"
   },
   {
    "duration": 5,
    "start_time": "2022-02-16T23:27:39.245Z"
   },
   {
    "duration": 4,
    "start_time": "2022-02-16T23:27:57.420Z"
   },
   {
    "duration": 3,
    "start_time": "2022-02-16T23:28:53.081Z"
   },
   {
    "duration": 1585,
    "start_time": "2022-02-17T17:50:48.313Z"
   },
   {
    "duration": 35,
    "start_time": "2022-02-17T17:50:49.901Z"
   },
   {
    "duration": 23,
    "start_time": "2022-02-17T17:50:49.940Z"
   },
   {
    "duration": 7,
    "start_time": "2022-02-17T17:50:49.966Z"
   },
   {
    "duration": 13,
    "start_time": "2022-02-17T17:50:49.976Z"
   },
   {
    "duration": 9,
    "start_time": "2022-02-17T17:50:49.992Z"
   },
   {
    "duration": 45,
    "start_time": "2022-02-17T17:50:50.004Z"
   },
   {
    "duration": 11,
    "start_time": "2022-02-17T17:50:50.053Z"
   },
   {
    "duration": 30,
    "start_time": "2022-02-17T17:50:50.068Z"
   },
   {
    "duration": 7,
    "start_time": "2022-02-17T17:50:50.100Z"
   },
   {
    "duration": 10,
    "start_time": "2022-02-17T17:50:50.109Z"
   },
   {
    "duration": 33,
    "start_time": "2022-02-17T17:50:50.122Z"
   },
   {
    "duration": 11,
    "start_time": "2022-02-17T17:50:50.158Z"
   },
   {
    "duration": 9,
    "start_time": "2022-02-17T17:50:50.172Z"
   },
   {
    "duration": 25,
    "start_time": "2022-02-17T17:50:50.183Z"
   },
   {
    "duration": 37,
    "start_time": "2022-02-17T17:50:50.211Z"
   },
   {
    "duration": 8,
    "start_time": "2022-02-17T17:50:50.251Z"
   },
   {
    "duration": 9,
    "start_time": "2022-02-17T17:50:50.261Z"
   },
   {
    "duration": 10,
    "start_time": "2022-02-17T17:50:50.272Z"
   },
   {
    "duration": 26,
    "start_time": "2022-02-17T17:50:50.285Z"
   },
   {
    "duration": 48,
    "start_time": "2022-02-17T17:50:50.314Z"
   },
   {
    "duration": 288,
    "start_time": "2022-02-17T17:50:50.364Z"
   },
   {
    "duration": 759,
    "start_time": "2022-02-17T17:50:50.658Z"
   },
   {
    "duration": 9,
    "start_time": "2022-02-17T17:50:51.420Z"
   },
   {
    "duration": 118,
    "start_time": "2022-02-17T17:50:51.431Z"
   },
   {
    "duration": 197,
    "start_time": "2022-02-17T17:50:51.552Z"
   },
   {
    "duration": 97,
    "start_time": "2022-02-17T17:50:51.755Z"
   },
   {
    "duration": 7,
    "start_time": "2022-02-17T17:50:51.855Z"
   },
   {
    "duration": 25,
    "start_time": "2022-02-17T17:50:51.865Z"
   },
   {
    "duration": 4,
    "start_time": "2022-02-17T17:50:51.892Z"
   },
   {
    "duration": 91,
    "start_time": "2022-02-17T17:50:51.898Z"
   },
   {
    "duration": 9,
    "start_time": "2022-02-17T17:50:51.992Z"
   },
   {
    "duration": 154,
    "start_time": "2022-02-17T17:50:52.003Z"
   },
   {
    "duration": 1712,
    "start_time": "2022-02-17T17:50:52.160Z"
   },
   {
    "duration": 9,
    "start_time": "2022-02-17T17:50:53.875Z"
   },
   {
    "duration": 449,
    "start_time": "2022-02-17T17:50:53.886Z"
   },
   {
    "duration": 14,
    "start_time": "2022-02-17T17:50:54.338Z"
   },
   {
    "duration": 21,
    "start_time": "2022-02-17T17:50:54.354Z"
   },
   {
    "duration": 4,
    "start_time": "2022-02-17T17:50:54.378Z"
   },
   {
    "duration": 22,
    "start_time": "2022-02-17T17:50:54.386Z"
   },
   {
    "duration": 40,
    "start_time": "2022-02-17T17:50:54.410Z"
   },
   {
    "duration": 196,
    "start_time": "2022-02-17T17:50:54.454Z"
   },
   {
    "duration": 65,
    "start_time": "2022-02-17T17:50:54.653Z"
   },
   {
    "duration": 394,
    "start_time": "2022-02-17T17:50:54.720Z"
   },
   {
    "duration": 153,
    "start_time": "2022-02-17T17:50:55.116Z"
   },
   {
    "duration": 81,
    "start_time": "2022-02-17T17:50:55.271Z"
   },
   {
    "duration": 231,
    "start_time": "2022-02-17T17:50:55.355Z"
   },
   {
    "duration": 8,
    "start_time": "2022-02-17T17:50:55.589Z"
   },
   {
    "duration": 541,
    "start_time": "2022-02-17T17:50:55.600Z"
   },
   {
    "duration": 148,
    "start_time": "2022-02-17T17:50:56.148Z"
   },
   {
    "duration": 151,
    "start_time": "2022-02-17T17:50:56.298Z"
   },
   {
    "duration": 6,
    "start_time": "2022-02-17T17:50:56.451Z"
   },
   {
    "duration": 33,
    "start_time": "2022-02-17T17:50:56.460Z"
   },
   {
    "duration": 412,
    "start_time": "2022-02-17T17:50:56.495Z"
   },
   {
    "duration": 52,
    "start_time": "2022-02-17T17:50:56.910Z"
   },
   {
    "duration": 139,
    "start_time": "2022-02-17T17:50:56.965Z"
   },
   {
    "duration": 8,
    "start_time": "2022-02-17T17:50:57.106Z"
   },
   {
    "duration": 432,
    "start_time": "2022-02-17T17:50:57.117Z"
   },
   {
    "duration": 575,
    "start_time": "2022-02-17T18:02:11.343Z"
   },
   {
    "duration": 1488,
    "start_time": "2022-02-17T18:02:22.894Z"
   },
   {
    "duration": 39,
    "start_time": "2022-02-17T18:02:24.385Z"
   },
   {
    "duration": 28,
    "start_time": "2022-02-17T18:02:24.426Z"
   },
   {
    "duration": 13,
    "start_time": "2022-02-17T18:02:24.457Z"
   },
   {
    "duration": 27,
    "start_time": "2022-02-17T18:02:24.473Z"
   },
   {
    "duration": 20,
    "start_time": "2022-02-17T18:02:24.503Z"
   },
   {
    "duration": 16,
    "start_time": "2022-02-17T18:02:24.526Z"
   },
   {
    "duration": 33,
    "start_time": "2022-02-17T18:02:24.546Z"
   },
   {
    "duration": 38,
    "start_time": "2022-02-17T18:02:24.582Z"
   },
   {
    "duration": 12,
    "start_time": "2022-02-17T18:02:24.622Z"
   },
   {
    "duration": 39,
    "start_time": "2022-02-17T18:02:24.636Z"
   },
   {
    "duration": 38,
    "start_time": "2022-02-17T18:02:24.677Z"
   },
   {
    "duration": 13,
    "start_time": "2022-02-17T18:02:24.718Z"
   },
   {
    "duration": 22,
    "start_time": "2022-02-17T18:02:24.733Z"
   },
   {
    "duration": 48,
    "start_time": "2022-02-17T18:02:24.758Z"
   },
   {
    "duration": 19,
    "start_time": "2022-02-17T18:02:24.808Z"
   },
   {
    "duration": 37,
    "start_time": "2022-02-17T18:02:24.830Z"
   },
   {
    "duration": 8,
    "start_time": "2022-02-17T18:02:24.869Z"
   },
   {
    "duration": 19,
    "start_time": "2022-02-17T18:02:24.879Z"
   },
   {
    "duration": 23,
    "start_time": "2022-02-17T18:02:24.901Z"
   },
   {
    "duration": 34,
    "start_time": "2022-02-17T18:02:24.927Z"
   },
   {
    "duration": 619,
    "start_time": "2022-02-17T18:02:26.900Z"
   },
   {
    "duration": 1559,
    "start_time": "2022-02-17T18:03:57.736Z"
   },
   {
    "duration": 31,
    "start_time": "2022-02-17T18:03:59.298Z"
   },
   {
    "duration": 30,
    "start_time": "2022-02-17T18:03:59.332Z"
   },
   {
    "duration": 5,
    "start_time": "2022-02-17T18:03:59.365Z"
   },
   {
    "duration": 17,
    "start_time": "2022-02-17T18:03:59.372Z"
   },
   {
    "duration": 13,
    "start_time": "2022-02-17T18:03:59.391Z"
   },
   {
    "duration": 10,
    "start_time": "2022-02-17T18:03:59.407Z"
   },
   {
    "duration": 8,
    "start_time": "2022-02-17T18:03:59.451Z"
   },
   {
    "duration": 20,
    "start_time": "2022-02-17T18:03:59.463Z"
   },
   {
    "duration": 7,
    "start_time": "2022-02-17T18:03:59.486Z"
   },
   {
    "duration": 10,
    "start_time": "2022-02-17T18:03:59.495Z"
   },
   {
    "duration": 41,
    "start_time": "2022-02-17T18:03:59.507Z"
   },
   {
    "duration": 5,
    "start_time": "2022-02-17T18:03:59.551Z"
   },
   {
    "duration": 8,
    "start_time": "2022-02-17T18:03:59.559Z"
   },
   {
    "duration": 20,
    "start_time": "2022-02-17T18:03:59.569Z"
   },
   {
    "duration": 7,
    "start_time": "2022-02-17T18:03:59.592Z"
   },
   {
    "duration": 22,
    "start_time": "2022-02-17T18:03:59.601Z"
   },
   {
    "duration": 9,
    "start_time": "2022-02-17T18:03:59.649Z"
   },
   {
    "duration": 4,
    "start_time": "2022-02-17T18:03:59.660Z"
   },
   {
    "duration": 21,
    "start_time": "2022-02-17T18:03:59.666Z"
   },
   {
    "duration": 32,
    "start_time": "2022-02-17T18:03:59.689Z"
   },
   {
    "duration": 543,
    "start_time": "2022-02-17T18:03:59.749Z"
   },
   {
    "duration": 767,
    "start_time": "2022-02-17T18:04:00.297Z"
   },
   {
    "duration": 8,
    "start_time": "2022-02-17T18:04:01.067Z"
   },
   {
    "duration": 171,
    "start_time": "2022-02-17T18:04:01.077Z"
   },
   {
    "duration": 98,
    "start_time": "2022-02-17T18:04:01.251Z"
   },
   {
    "duration": 99,
    "start_time": "2022-02-17T18:04:01.353Z"
   },
   {
    "duration": 16,
    "start_time": "2022-02-17T18:04:01.454Z"
   },
   {
    "duration": 41,
    "start_time": "2022-02-17T18:04:01.472Z"
   },
   {
    "duration": 9,
    "start_time": "2022-02-17T18:04:01.515Z"
   },
   {
    "duration": 60,
    "start_time": "2022-02-17T18:04:01.526Z"
   },
   {
    "duration": 6,
    "start_time": "2022-02-17T18:04:01.589Z"
   },
   {
    "duration": 172,
    "start_time": "2022-02-17T18:04:01.599Z"
   },
   {
    "duration": 1727,
    "start_time": "2022-02-17T18:04:01.773Z"
   },
   {
    "duration": 9,
    "start_time": "2022-02-17T18:04:03.502Z"
   },
   {
    "duration": 451,
    "start_time": "2022-02-17T18:04:03.513Z"
   },
   {
    "duration": 7,
    "start_time": "2022-02-17T18:04:03.966Z"
   },
   {
    "duration": 22,
    "start_time": "2022-02-17T18:04:03.975Z"
   },
   {
    "duration": 5,
    "start_time": "2022-02-17T18:04:03.999Z"
   },
   {
    "duration": 51,
    "start_time": "2022-02-17T18:04:04.006Z"
   },
   {
    "duration": 7,
    "start_time": "2022-02-17T18:04:04.060Z"
   },
   {
    "duration": 89,
    "start_time": "2022-02-17T18:04:04.070Z"
   },
   {
    "duration": 136,
    "start_time": "2022-02-17T18:04:04.162Z"
   },
   {
    "duration": 379,
    "start_time": "2022-02-17T18:04:04.300Z"
   },
   {
    "duration": 135,
    "start_time": "2022-02-17T18:04:04.681Z"
   },
   {
    "duration": 50,
    "start_time": "2022-02-17T18:04:04.818Z"
   },
   {
    "duration": 304,
    "start_time": "2022-02-17T18:04:04.872Z"
   },
   {
    "duration": 8,
    "start_time": "2022-02-17T18:04:05.178Z"
   },
   {
    "duration": 405,
    "start_time": "2022-02-17T18:04:05.188Z"
   },
   {
    "duration": 139,
    "start_time": "2022-02-17T18:04:05.596Z"
   },
   {
    "duration": 146,
    "start_time": "2022-02-17T18:04:05.738Z"
   },
   {
    "duration": 7,
    "start_time": "2022-02-17T18:04:05.887Z"
   },
   {
    "duration": 7,
    "start_time": "2022-02-17T18:04:05.896Z"
   },
   {
    "duration": 432,
    "start_time": "2022-02-17T18:04:05.906Z"
   },
   {
    "duration": 40,
    "start_time": "2022-02-17T18:04:06.340Z"
   },
   {
    "duration": 150,
    "start_time": "2022-02-17T18:04:06.383Z"
   },
   {
    "duration": 20,
    "start_time": "2022-02-17T18:04:06.536Z"
   },
   {
    "duration": 386,
    "start_time": "2022-02-17T18:04:10.640Z"
   },
   {
    "duration": 37,
    "start_time": "2022-02-17T18:04:42.025Z"
   },
   {
    "duration": 35,
    "start_time": "2022-02-17T18:05:01.154Z"
   },
   {
    "duration": 12,
    "start_time": "2022-02-17T18:06:36.851Z"
   },
   {
    "duration": 12,
    "start_time": "2022-02-17T18:06:53.143Z"
   },
   {
    "duration": 467,
    "start_time": "2022-02-17T18:07:08.733Z"
   },
   {
    "duration": 6,
    "start_time": "2022-02-17T18:07:21.507Z"
   },
   {
    "duration": 36,
    "start_time": "2022-02-17T18:07:36.383Z"
   },
   {
    "duration": 14,
    "start_time": "2022-02-17T18:07:37.015Z"
   },
   {
    "duration": 5,
    "start_time": "2022-02-17T18:07:37.502Z"
   },
   {
    "duration": 133,
    "start_time": "2022-02-17T18:08:35.929Z"
   },
   {
    "duration": 6,
    "start_time": "2022-02-17T18:08:37.520Z"
   },
   {
    "duration": 150,
    "start_time": "2022-02-17T18:08:46.949Z"
   },
   {
    "duration": 129,
    "start_time": "2022-02-17T18:09:01.330Z"
   },
   {
    "duration": 17,
    "start_time": "2022-02-17T18:10:05.134Z"
   },
   {
    "duration": 147,
    "start_time": "2022-02-17T18:10:05.750Z"
   },
   {
    "duration": 22,
    "start_time": "2022-02-17T18:10:23.599Z"
   },
   {
    "duration": 183,
    "start_time": "2022-02-17T18:10:23.988Z"
   },
   {
    "duration": 15,
    "start_time": "2022-02-17T18:10:29.078Z"
   },
   {
    "duration": 138,
    "start_time": "2022-02-17T18:10:30.391Z"
   },
   {
    "duration": 34,
    "start_time": "2022-02-17T18:14:20.883Z"
   },
   {
    "duration": 16,
    "start_time": "2022-02-17T18:14:21.903Z"
   },
   {
    "duration": 14,
    "start_time": "2022-02-17T18:15:04.124Z"
   },
   {
    "duration": 52,
    "start_time": "2022-02-17T18:17:58.433Z"
   },
   {
    "duration": 25,
    "start_time": "2022-02-17T18:21:03.839Z"
   },
   {
    "duration": 88,
    "start_time": "2022-02-17T18:21:12.986Z"
   },
   {
    "duration": 58,
    "start_time": "2022-02-17T18:21:20.411Z"
   },
   {
    "duration": 49,
    "start_time": "2022-02-17T18:23:58.714Z"
   },
   {
    "duration": 10,
    "start_time": "2022-02-17T18:24:37.515Z"
   },
   {
    "duration": 51,
    "start_time": "2022-02-17T18:27:10.450Z"
   },
   {
    "duration": 9,
    "start_time": "2022-02-17T18:28:42.805Z"
   },
   {
    "duration": 5,
    "start_time": "2022-02-17T18:28:59.180Z"
   },
   {
    "duration": 288,
    "start_time": "2022-02-17T18:29:16.723Z"
   },
   {
    "duration": 8,
    "start_time": "2022-02-17T18:29:43.029Z"
   },
   {
    "duration": 52,
    "start_time": "2022-02-17T18:30:47.835Z"
   },
   {
    "duration": 47,
    "start_time": "2022-02-17T18:30:48.291Z"
   },
   {
    "duration": 10,
    "start_time": "2022-02-17T18:30:48.847Z"
   },
   {
    "duration": 59,
    "start_time": "2022-02-17T18:30:52.278Z"
   },
   {
    "duration": 6,
    "start_time": "2022-02-17T18:31:00.724Z"
   },
   {
    "duration": 8,
    "start_time": "2022-02-17T18:31:01.679Z"
   },
   {
    "duration": 54,
    "start_time": "2022-02-17T18:31:05.187Z"
   },
   {
    "duration": 7,
    "start_time": "2022-02-17T18:31:06.123Z"
   },
   {
    "duration": 8,
    "start_time": "2022-02-17T18:31:08.116Z"
   },
   {
    "duration": 1536,
    "start_time": "2022-02-17T18:43:16.561Z"
   },
   {
    "duration": 37,
    "start_time": "2022-02-17T18:43:18.100Z"
   },
   {
    "duration": 30,
    "start_time": "2022-02-17T18:43:18.141Z"
   },
   {
    "duration": 6,
    "start_time": "2022-02-17T18:43:18.174Z"
   },
   {
    "duration": 14,
    "start_time": "2022-02-17T18:43:18.183Z"
   },
   {
    "duration": 12,
    "start_time": "2022-02-17T18:43:18.200Z"
   },
   {
    "duration": 5,
    "start_time": "2022-02-17T18:43:18.250Z"
   },
   {
    "duration": 18,
    "start_time": "2022-02-17T18:43:18.257Z"
   },
   {
    "duration": 31,
    "start_time": "2022-02-17T18:43:18.280Z"
   },
   {
    "duration": 6,
    "start_time": "2022-02-17T18:43:18.314Z"
   },
   {
    "duration": 27,
    "start_time": "2022-02-17T18:43:18.323Z"
   },
   {
    "duration": 14,
    "start_time": "2022-02-17T18:43:18.352Z"
   },
   {
    "duration": 17,
    "start_time": "2022-02-17T18:43:18.368Z"
   },
   {
    "duration": 23,
    "start_time": "2022-02-17T18:43:18.389Z"
   },
   {
    "duration": 21,
    "start_time": "2022-02-17T18:43:18.415Z"
   },
   {
    "duration": 12,
    "start_time": "2022-02-17T18:43:18.447Z"
   },
   {
    "duration": 10,
    "start_time": "2022-02-17T18:43:18.461Z"
   },
   {
    "duration": 10,
    "start_time": "2022-02-17T18:43:18.474Z"
   },
   {
    "duration": 4,
    "start_time": "2022-02-17T18:43:18.487Z"
   },
   {
    "duration": 16,
    "start_time": "2022-02-17T18:43:18.494Z"
   },
   {
    "duration": 28,
    "start_time": "2022-02-17T18:43:18.549Z"
   },
   {
    "duration": 607,
    "start_time": "2022-02-17T18:43:18.580Z"
   },
   {
    "duration": 823,
    "start_time": "2022-02-17T18:43:19.190Z"
   },
   {
    "duration": 8,
    "start_time": "2022-02-17T18:43:20.015Z"
   },
   {
    "duration": 128,
    "start_time": "2022-02-17T18:43:20.026Z"
   },
   {
    "duration": 97,
    "start_time": "2022-02-17T18:43:20.158Z"
   },
   {
    "duration": 5,
    "start_time": "2022-02-17T18:43:20.262Z"
   },
   {
    "duration": 19,
    "start_time": "2022-02-17T18:43:20.271Z"
   },
   {
    "duration": 6,
    "start_time": "2022-02-17T18:43:20.293Z"
   },
   {
    "duration": 89,
    "start_time": "2022-02-17T18:43:20.301Z"
   },
   {
    "duration": 59,
    "start_time": "2022-02-17T18:43:20.392Z"
   },
   {
    "duration": 107,
    "start_time": "2022-02-17T18:43:20.455Z"
   },
   {
    "duration": 1934,
    "start_time": "2022-02-17T18:43:20.564Z"
   },
   {
    "duration": 9,
    "start_time": "2022-02-17T18:43:22.501Z"
   },
   {
    "duration": 423,
    "start_time": "2022-02-17T18:43:22.513Z"
   },
   {
    "duration": 11,
    "start_time": "2022-02-17T18:43:22.939Z"
   },
   {
    "duration": 19,
    "start_time": "2022-02-17T18:43:22.952Z"
   },
   {
    "duration": 5,
    "start_time": "2022-02-17T18:43:22.973Z"
   },
   {
    "duration": 22,
    "start_time": "2022-02-17T18:43:22.980Z"
   },
   {
    "duration": 49,
    "start_time": "2022-02-17T18:43:23.005Z"
   },
   {
    "duration": 111,
    "start_time": "2022-02-17T18:43:23.058Z"
   },
   {
    "duration": 106,
    "start_time": "2022-02-17T18:43:23.172Z"
   },
   {
    "duration": 406,
    "start_time": "2022-02-17T18:43:23.281Z"
   },
   {
    "duration": 142,
    "start_time": "2022-02-17T18:43:23.689Z"
   },
   {
    "duration": 53,
    "start_time": "2022-02-17T18:43:23.834Z"
   },
   {
    "duration": 241,
    "start_time": "2022-02-17T18:43:23.950Z"
   },
   {
    "duration": 8,
    "start_time": "2022-02-17T18:43:24.194Z"
   },
   {
    "duration": 428,
    "start_time": "2022-02-17T18:43:24.204Z"
   },
   {
    "duration": 153,
    "start_time": "2022-02-17T18:43:24.635Z"
   },
   {
    "duration": 136,
    "start_time": "2022-02-17T18:43:24.791Z"
   },
   {
    "duration": 19,
    "start_time": "2022-02-17T18:43:24.930Z"
   },
   {
    "duration": 6,
    "start_time": "2022-02-17T18:43:24.952Z"
   },
   {
    "duration": 423,
    "start_time": "2022-02-17T18:43:24.961Z"
   },
   {
    "duration": 34,
    "start_time": "2022-02-17T18:43:25.387Z"
   },
   {
    "duration": 154,
    "start_time": "2022-02-17T18:43:25.423Z"
   },
   {
    "duration": 8,
    "start_time": "2022-02-17T18:43:25.580Z"
   },
   {
    "duration": 426,
    "start_time": "2022-02-17T18:43:25.591Z"
   },
   {
    "duration": 65,
    "start_time": "2022-02-17T18:43:26.019Z"
   },
   {
    "duration": 500,
    "start_time": "2022-02-17T18:43:26.087Z"
   },
   {
    "duration": 330,
    "start_time": "2022-02-17T18:43:26.260Z"
   },
   {
    "duration": 45,
    "start_time": "2022-02-17T18:43:46.732Z"
   },
   {
    "duration": 9,
    "start_time": "2022-02-17T18:43:48.065Z"
   },
   {
    "duration": 1600,
    "start_time": "2022-02-17T19:01:01.800Z"
   },
   {
    "duration": 36,
    "start_time": "2022-02-17T19:01:03.403Z"
   },
   {
    "duration": 24,
    "start_time": "2022-02-17T19:01:03.442Z"
   },
   {
    "duration": 9,
    "start_time": "2022-02-17T19:01:03.468Z"
   },
   {
    "duration": 20,
    "start_time": "2022-02-17T19:01:03.480Z"
   },
   {
    "duration": 43,
    "start_time": "2022-02-17T19:01:03.504Z"
   },
   {
    "duration": 6,
    "start_time": "2022-02-17T19:01:03.550Z"
   },
   {
    "duration": 19,
    "start_time": "2022-02-17T19:01:03.558Z"
   },
   {
    "duration": 20,
    "start_time": "2022-02-17T19:01:03.581Z"
   },
   {
    "duration": 7,
    "start_time": "2022-02-17T19:01:03.604Z"
   },
   {
    "duration": 40,
    "start_time": "2022-02-17T19:01:03.614Z"
   },
   {
    "duration": 21,
    "start_time": "2022-02-17T19:01:03.657Z"
   },
   {
    "duration": 6,
    "start_time": "2022-02-17T19:01:03.681Z"
   },
   {
    "duration": 10,
    "start_time": "2022-02-17T19:01:03.690Z"
   },
   {
    "duration": 50,
    "start_time": "2022-02-17T19:01:03.703Z"
   },
   {
    "duration": 8,
    "start_time": "2022-02-17T19:01:03.755Z"
   },
   {
    "duration": 10,
    "start_time": "2022-02-17T19:01:03.765Z"
   },
   {
    "duration": 9,
    "start_time": "2022-02-17T19:01:03.777Z"
   },
   {
    "duration": 4,
    "start_time": "2022-02-17T19:01:03.789Z"
   },
   {
    "duration": 53,
    "start_time": "2022-02-17T19:01:03.795Z"
   },
   {
    "duration": 36,
    "start_time": "2022-02-17T19:01:03.851Z"
   },
   {
    "duration": 524,
    "start_time": "2022-02-17T19:01:03.890Z"
   },
   {
    "duration": 791,
    "start_time": "2022-02-17T19:01:04.417Z"
   },
   {
    "duration": 8,
    "start_time": "2022-02-17T19:01:05.211Z"
   },
   {
    "duration": 128,
    "start_time": "2022-02-17T19:01:05.221Z"
   },
   {
    "duration": 99,
    "start_time": "2022-02-17T19:01:05.353Z"
   },
   {
    "duration": 7,
    "start_time": "2022-02-17T19:01:05.458Z"
   },
   {
    "duration": 43,
    "start_time": "2022-02-17T19:01:05.468Z"
   },
   {
    "duration": 5,
    "start_time": "2022-02-17T19:01:05.514Z"
   },
   {
    "duration": 65,
    "start_time": "2022-02-17T19:01:05.522Z"
   },
   {
    "duration": 63,
    "start_time": "2022-02-17T19:01:05.590Z"
   },
   {
    "duration": 97,
    "start_time": "2022-02-17T19:01:05.657Z"
   },
   {
    "duration": 1865,
    "start_time": "2022-02-17T19:01:05.757Z"
   },
   {
    "duration": 10,
    "start_time": "2022-02-17T19:01:07.624Z"
   },
   {
    "duration": 436,
    "start_time": "2022-02-17T19:01:07.649Z"
   },
   {
    "duration": 7,
    "start_time": "2022-02-17T19:01:08.089Z"
   },
   {
    "duration": 52,
    "start_time": "2022-02-17T19:01:08.099Z"
   },
   {
    "duration": 8,
    "start_time": "2022-02-17T19:01:08.153Z"
   },
   {
    "duration": 41,
    "start_time": "2022-02-17T19:01:08.164Z"
   },
   {
    "duration": 41,
    "start_time": "2022-02-17T19:01:08.207Z"
   },
   {
    "duration": 106,
    "start_time": "2022-02-17T19:01:08.251Z"
   },
   {
    "duration": 101,
    "start_time": "2022-02-17T19:01:08.360Z"
   },
   {
    "duration": 395,
    "start_time": "2022-02-17T19:01:08.463Z"
   },
   {
    "duration": 142,
    "start_time": "2022-02-17T19:01:08.860Z"
   },
   {
    "duration": 53,
    "start_time": "2022-02-17T19:01:09.004Z"
   },
   {
    "duration": 322,
    "start_time": "2022-02-17T19:01:09.060Z"
   },
   {
    "duration": 10,
    "start_time": "2022-02-17T19:01:09.386Z"
   },
   {
    "duration": 427,
    "start_time": "2022-02-17T19:01:09.399Z"
   },
   {
    "duration": 159,
    "start_time": "2022-02-17T19:01:09.829Z"
   },
   {
    "duration": 140,
    "start_time": "2022-02-17T19:01:09.991Z"
   },
   {
    "duration": 17,
    "start_time": "2022-02-17T19:01:10.135Z"
   },
   {
    "duration": 7,
    "start_time": "2022-02-17T19:01:10.155Z"
   },
   {
    "duration": 429,
    "start_time": "2022-02-17T19:01:10.164Z"
   },
   {
    "duration": 52,
    "start_time": "2022-02-17T19:01:10.596Z"
   },
   {
    "duration": 145,
    "start_time": "2022-02-17T19:01:10.651Z"
   },
   {
    "duration": 7,
    "start_time": "2022-02-17T19:01:10.799Z"
   },
   {
    "duration": 414,
    "start_time": "2022-02-17T19:01:10.808Z"
   },
   {
    "duration": 59,
    "start_time": "2022-02-17T19:01:11.226Z"
   },
   {
    "duration": 60,
    "start_time": "2022-02-17T19:01:11.288Z"
   },
   {
    "duration": 8,
    "start_time": "2022-02-17T19:01:11.351Z"
   },
   {
    "duration": 49,
    "start_time": "2022-02-17T19:01:28.021Z"
   },
   {
    "duration": 5,
    "start_time": "2022-02-17T19:01:28.434Z"
   },
   {
    "duration": 9,
    "start_time": "2022-02-17T19:01:29.061Z"
   },
   {
    "duration": 1518,
    "start_time": "2022-02-17T19:01:59.287Z"
   },
   {
    "duration": 31,
    "start_time": "2022-02-17T19:02:00.808Z"
   },
   {
    "duration": 28,
    "start_time": "2022-02-17T19:02:00.841Z"
   },
   {
    "duration": 25,
    "start_time": "2022-02-17T19:02:00.872Z"
   },
   {
    "duration": 28,
    "start_time": "2022-02-17T19:02:00.899Z"
   },
   {
    "duration": 10,
    "start_time": "2022-02-17T19:02:00.929Z"
   },
   {
    "duration": 8,
    "start_time": "2022-02-17T19:02:00.941Z"
   },
   {
    "duration": 14,
    "start_time": "2022-02-17T19:02:00.954Z"
   },
   {
    "duration": 31,
    "start_time": "2022-02-17T19:02:00.973Z"
   },
   {
    "duration": 9,
    "start_time": "2022-02-17T19:02:01.007Z"
   },
   {
    "duration": 11,
    "start_time": "2022-02-17T19:02:01.019Z"
   },
   {
    "duration": 23,
    "start_time": "2022-02-17T19:02:01.033Z"
   },
   {
    "duration": 6,
    "start_time": "2022-02-17T19:02:01.059Z"
   },
   {
    "duration": 21,
    "start_time": "2022-02-17T19:02:01.068Z"
   },
   {
    "duration": 34,
    "start_time": "2022-02-17T19:02:01.092Z"
   },
   {
    "duration": 35,
    "start_time": "2022-02-17T19:02:01.129Z"
   },
   {
    "duration": 23,
    "start_time": "2022-02-17T19:02:01.166Z"
   },
   {
    "duration": 15,
    "start_time": "2022-02-17T19:02:01.192Z"
   },
   {
    "duration": 14,
    "start_time": "2022-02-17T19:02:01.210Z"
   },
   {
    "duration": 17,
    "start_time": "2022-02-17T19:02:01.227Z"
   },
   {
    "duration": 26,
    "start_time": "2022-02-17T19:02:01.247Z"
   },
   {
    "duration": 525,
    "start_time": "2022-02-17T19:02:01.276Z"
   },
   {
    "duration": 815,
    "start_time": "2022-02-17T19:02:01.806Z"
   },
   {
    "duration": 10,
    "start_time": "2022-02-17T19:02:02.624Z"
   },
   {
    "duration": 108,
    "start_time": "2022-02-17T19:02:02.648Z"
   },
   {
    "duration": 95,
    "start_time": "2022-02-17T19:02:02.759Z"
   },
   {
    "duration": 7,
    "start_time": "2022-02-17T19:02:02.856Z"
   },
   {
    "duration": 22,
    "start_time": "2022-02-17T19:02:02.866Z"
   },
   {
    "duration": 5,
    "start_time": "2022-02-17T19:02:02.891Z"
   },
   {
    "duration": 87,
    "start_time": "2022-02-17T19:02:02.899Z"
   },
   {
    "duration": 6,
    "start_time": "2022-02-17T19:02:02.989Z"
   },
   {
    "duration": 59,
    "start_time": "2022-02-17T19:02:02.998Z"
   },
   {
    "duration": 2042,
    "start_time": "2022-02-17T19:02:03.060Z"
   },
   {
    "duration": 9,
    "start_time": "2022-02-17T19:02:05.104Z"
   },
   {
    "duration": 455,
    "start_time": "2022-02-17T19:02:05.116Z"
   },
   {
    "duration": 6,
    "start_time": "2022-02-17T19:02:05.574Z"
   },
   {
    "duration": 27,
    "start_time": "2022-02-17T19:02:05.583Z"
   },
   {
    "duration": 5,
    "start_time": "2022-02-17T19:02:05.612Z"
   },
   {
    "duration": 42,
    "start_time": "2022-02-17T19:02:05.620Z"
   },
   {
    "duration": 7,
    "start_time": "2022-02-17T19:02:05.665Z"
   },
   {
    "duration": 77,
    "start_time": "2022-02-17T19:02:05.682Z"
   },
   {
    "duration": 186,
    "start_time": "2022-02-17T19:02:05.763Z"
   },
   {
    "duration": 399,
    "start_time": "2022-02-17T19:02:05.952Z"
   },
   {
    "duration": 150,
    "start_time": "2022-02-17T19:02:06.354Z"
   },
   {
    "duration": 55,
    "start_time": "2022-02-17T19:02:06.507Z"
   },
   {
    "duration": 312,
    "start_time": "2022-02-17T19:02:06.565Z"
   },
   {
    "duration": 9,
    "start_time": "2022-02-17T19:02:06.880Z"
   },
   {
    "duration": 526,
    "start_time": "2022-02-17T19:02:06.892Z"
   },
   {
    "duration": 144,
    "start_time": "2022-02-17T19:02:07.420Z"
   },
   {
    "duration": 142,
    "start_time": "2022-02-17T19:02:07.566Z"
   },
   {
    "duration": 7,
    "start_time": "2022-02-17T19:02:07.710Z"
   },
   {
    "duration": 13,
    "start_time": "2022-02-17T19:02:07.719Z"
   },
   {
    "duration": 417,
    "start_time": "2022-02-17T19:02:07.735Z"
   },
   {
    "duration": 35,
    "start_time": "2022-02-17T19:02:08.154Z"
   },
   {
    "duration": 157,
    "start_time": "2022-02-17T19:02:08.191Z"
   },
   {
    "duration": 10,
    "start_time": "2022-02-17T19:02:08.351Z"
   },
   {
    "duration": 420,
    "start_time": "2022-02-17T19:02:08.364Z"
   },
   {
    "duration": 67,
    "start_time": "2022-02-17T19:02:08.788Z"
   },
   {
    "duration": 5,
    "start_time": "2022-02-17T19:02:08.857Z"
   },
   {
    "duration": 10,
    "start_time": "2022-02-17T19:02:08.865Z"
   },
   {
    "duration": 1292,
    "start_time": "2022-02-18T07:28:09.620Z"
   },
   {
    "duration": 6,
    "start_time": "2022-02-18T07:28:26.271Z"
   },
   {
    "duration": 45,
    "start_time": "2022-02-18T07:28:26.279Z"
   },
   {
    "duration": 24,
    "start_time": "2022-02-18T07:28:26.327Z"
   },
   {
    "duration": 16,
    "start_time": "2022-02-18T07:28:26.353Z"
   },
   {
    "duration": 26,
    "start_time": "2022-02-18T07:28:26.371Z"
   },
   {
    "duration": 11,
    "start_time": "2022-02-18T07:28:26.398Z"
   },
   {
    "duration": 10,
    "start_time": "2022-02-18T07:28:26.410Z"
   },
   {
    "duration": 18,
    "start_time": "2022-02-18T07:28:26.422Z"
   },
   {
    "duration": 35,
    "start_time": "2022-02-18T07:28:26.442Z"
   },
   {
    "duration": 20,
    "start_time": "2022-02-18T07:28:26.479Z"
   },
   {
    "duration": 26,
    "start_time": "2022-02-18T07:28:26.501Z"
   },
   {
    "duration": 19,
    "start_time": "2022-02-18T07:28:26.529Z"
   },
   {
    "duration": 14,
    "start_time": "2022-02-18T07:28:26.550Z"
   },
   {
    "duration": 23,
    "start_time": "2022-02-18T07:28:26.566Z"
   },
   {
    "duration": 25,
    "start_time": "2022-02-18T07:28:26.592Z"
   },
   {
    "duration": 24,
    "start_time": "2022-02-18T07:28:26.619Z"
   },
   {
    "duration": 31,
    "start_time": "2022-02-18T07:28:26.645Z"
   },
   {
    "duration": 18,
    "start_time": "2022-02-18T07:28:26.677Z"
   },
   {
    "duration": 24,
    "start_time": "2022-02-18T07:28:26.697Z"
   },
   {
    "duration": 28,
    "start_time": "2022-02-18T07:28:26.723Z"
   },
   {
    "duration": 25,
    "start_time": "2022-02-18T07:28:26.753Z"
   },
   {
    "duration": 401,
    "start_time": "2022-02-18T07:29:58.531Z"
   },
   {
    "duration": 412,
    "start_time": "2022-02-18T07:31:23.506Z"
   },
   {
    "duration": 575,
    "start_time": "2022-02-18T07:33:22.765Z"
   },
   {
    "duration": 7,
    "start_time": "2022-02-18T07:33:24.177Z"
   },
   {
    "duration": 55,
    "start_time": "2022-02-18T07:34:05.768Z"
   },
   {
    "duration": 1190,
    "start_time": "2022-02-18T07:40:33.896Z"
   },
   {
    "duration": 29,
    "start_time": "2022-02-18T07:40:35.088Z"
   },
   {
    "duration": 16,
    "start_time": "2022-02-18T07:40:35.120Z"
   },
   {
    "duration": 4,
    "start_time": "2022-02-18T07:40:35.138Z"
   },
   {
    "duration": 18,
    "start_time": "2022-02-18T07:40:35.144Z"
   },
   {
    "duration": 13,
    "start_time": "2022-02-18T07:40:35.164Z"
   },
   {
    "duration": 6,
    "start_time": "2022-02-18T07:40:35.179Z"
   },
   {
    "duration": 8,
    "start_time": "2022-02-18T07:40:35.187Z"
   },
   {
    "duration": 26,
    "start_time": "2022-02-18T07:40:35.198Z"
   },
   {
    "duration": 4,
    "start_time": "2022-02-18T07:40:35.227Z"
   },
   {
    "duration": 10,
    "start_time": "2022-02-18T07:40:35.233Z"
   },
   {
    "duration": 11,
    "start_time": "2022-02-18T07:40:35.245Z"
   },
   {
    "duration": 7,
    "start_time": "2022-02-18T07:40:35.258Z"
   },
   {
    "duration": 9,
    "start_time": "2022-02-18T07:40:35.267Z"
   },
   {
    "duration": 42,
    "start_time": "2022-02-18T07:40:35.278Z"
   },
   {
    "duration": 20,
    "start_time": "2022-02-18T07:40:35.322Z"
   },
   {
    "duration": 13,
    "start_time": "2022-02-18T07:40:35.344Z"
   },
   {
    "duration": 15,
    "start_time": "2022-02-18T07:40:35.359Z"
   },
   {
    "duration": 7,
    "start_time": "2022-02-18T07:40:35.376Z"
   },
   {
    "duration": 27,
    "start_time": "2022-02-18T07:40:35.385Z"
   },
   {
    "duration": 22,
    "start_time": "2022-02-18T07:40:35.414Z"
   },
   {
    "duration": 426,
    "start_time": "2022-02-18T07:40:35.438Z"
   },
   {
    "duration": 641,
    "start_time": "2022-02-18T07:40:35.866Z"
   },
   {
    "duration": 13,
    "start_time": "2022-02-18T07:40:36.509Z"
   },
   {
    "duration": 100,
    "start_time": "2022-02-18T07:40:36.523Z"
   },
   {
    "duration": 96,
    "start_time": "2022-02-18T07:40:36.625Z"
   },
   {
    "duration": 4,
    "start_time": "2022-02-18T07:40:36.726Z"
   },
   {
    "duration": 19,
    "start_time": "2022-02-18T07:40:36.733Z"
   },
   {
    "duration": 4,
    "start_time": "2022-02-18T07:40:36.754Z"
   },
   {
    "duration": 65,
    "start_time": "2022-02-18T07:40:36.760Z"
   },
   {
    "duration": 11,
    "start_time": "2022-02-18T07:40:36.828Z"
   },
   {
    "duration": 191,
    "start_time": "2022-02-18T07:40:36.842Z"
   },
   {
    "duration": 1277,
    "start_time": "2022-02-18T07:40:37.035Z"
   },
   {
    "duration": 9,
    "start_time": "2022-02-18T07:40:38.313Z"
   },
   {
    "duration": 323,
    "start_time": "2022-02-18T07:40:38.324Z"
   },
   {
    "duration": 5,
    "start_time": "2022-02-18T07:40:38.648Z"
   },
   {
    "duration": 23,
    "start_time": "2022-02-18T07:40:38.655Z"
   },
   {
    "duration": 3,
    "start_time": "2022-02-18T07:40:38.680Z"
   },
   {
    "duration": 14,
    "start_time": "2022-02-18T07:40:38.685Z"
   },
   {
    "duration": 22,
    "start_time": "2022-02-18T07:40:38.701Z"
   },
   {
    "duration": 102,
    "start_time": "2022-02-18T07:40:38.725Z"
   },
   {
    "duration": 55,
    "start_time": "2022-02-18T07:40:38.918Z"
   },
   {
    "duration": 292,
    "start_time": "2022-02-18T07:40:38.975Z"
   },
   {
    "duration": 102,
    "start_time": "2022-02-18T07:40:39.269Z"
   },
   {
    "duration": 50,
    "start_time": "2022-02-18T07:40:39.373Z"
   },
   {
    "duration": 260,
    "start_time": "2022-02-18T07:40:39.426Z"
   },
   {
    "duration": 384,
    "start_time": "2022-02-18T07:40:39.688Z"
   },
   {
    "duration": -350,
    "start_time": "2022-02-18T07:40:40.424Z"
   },
   {
    "duration": -352,
    "start_time": "2022-02-18T07:40:40.427Z"
   },
   {
    "duration": -357,
    "start_time": "2022-02-18T07:40:40.433Z"
   },
   {
    "duration": -359,
    "start_time": "2022-02-18T07:40:40.436Z"
   },
   {
    "duration": -359,
    "start_time": "2022-02-18T07:40:40.438Z"
   },
   {
    "duration": -361,
    "start_time": "2022-02-18T07:40:40.441Z"
   },
   {
    "duration": -362,
    "start_time": "2022-02-18T07:40:40.443Z"
   },
   {
    "duration": -364,
    "start_time": "2022-02-18T07:40:40.446Z"
   },
   {
    "duration": -366,
    "start_time": "2022-02-18T07:40:40.449Z"
   },
   {
    "duration": -367,
    "start_time": "2022-02-18T07:40:40.451Z"
   },
   {
    "duration": -372,
    "start_time": "2022-02-18T07:40:40.457Z"
   },
   {
    "duration": -374,
    "start_time": "2022-02-18T07:40:40.460Z"
   },
   {
    "duration": -376,
    "start_time": "2022-02-18T07:40:40.463Z"
   },
   {
    "duration": 6,
    "start_time": "2022-02-18T07:40:56.452Z"
   },
   {
    "duration": 6,
    "start_time": "2022-02-18T07:41:03.062Z"
   },
   {
    "duration": 253,
    "start_time": "2022-02-18T07:41:03.070Z"
   },
   {
    "duration": 119,
    "start_time": "2022-02-18T07:41:03.326Z"
   },
   {
    "duration": 101,
    "start_time": "2022-02-18T07:41:03.448Z"
   },
   {
    "duration": 242,
    "start_time": "2022-02-18T07:41:03.551Z"
   },
   {
    "duration": -350,
    "start_time": "2022-02-18T07:41:04.145Z"
   },
   {
    "duration": -352,
    "start_time": "2022-02-18T07:41:04.148Z"
   },
   {
    "duration": -364,
    "start_time": "2022-02-18T07:41:04.161Z"
   },
   {
    "duration": -371,
    "start_time": "2022-02-18T07:41:04.170Z"
   },
   {
    "duration": -381,
    "start_time": "2022-02-18T07:41:04.181Z"
   },
   {
    "duration": -388,
    "start_time": "2022-02-18T07:41:04.189Z"
   },
   {
    "duration": -395,
    "start_time": "2022-02-18T07:41:04.197Z"
   },
   {
    "duration": -402,
    "start_time": "2022-02-18T07:41:04.205Z"
   },
   {
    "duration": -413,
    "start_time": "2022-02-18T07:41:04.217Z"
   },
   {
    "duration": 5,
    "start_time": "2022-02-18T07:41:13.527Z"
   },
   {
    "duration": 6,
    "start_time": "2022-02-18T07:41:20.746Z"
   },
   {
    "duration": 5,
    "start_time": "2022-02-18T07:41:20.754Z"
   },
   {
    "duration": 250,
    "start_time": "2022-02-18T07:41:20.761Z"
   },
   {
    "duration": 28,
    "start_time": "2022-02-18T07:41:21.014Z"
   },
   {
    "duration": 103,
    "start_time": "2022-02-18T07:41:21.043Z"
   },
   {
    "duration": 289,
    "start_time": "2022-02-18T07:41:21.148Z"
   },
   {
    "duration": -347,
    "start_time": "2022-02-18T07:41:21.787Z"
   },
   {
    "duration": -352,
    "start_time": "2022-02-18T07:41:21.794Z"
   },
   {
    "duration": -359,
    "start_time": "2022-02-18T07:41:21.802Z"
   },
   {
    "duration": -369,
    "start_time": "2022-02-18T07:41:21.813Z"
   },
   {
    "duration": 7,
    "start_time": "2022-02-18T07:41:38.649Z"
   },
   {
    "duration": 244,
    "start_time": "2022-02-18T07:41:38.658Z"
   },
   {
    "duration": 35,
    "start_time": "2022-02-18T07:41:38.904Z"
   },
   {
    "duration": 4,
    "start_time": "2022-02-18T07:41:38.941Z"
   },
   {
    "duration": 11,
    "start_time": "2022-02-18T07:41:38.947Z"
   },
   {
    "duration": 338,
    "start_time": "2022-02-18T07:42:58.714Z"
   },
   {
    "duration": 8,
    "start_time": "2022-02-18T07:43:04.150Z"
   },
   {
    "duration": 8,
    "start_time": "2022-02-18T07:44:21.463Z"
   },
   {
    "duration": 15,
    "start_time": "2022-02-18T07:44:37.136Z"
   },
   {
    "duration": 12,
    "start_time": "2022-02-18T07:45:35.116Z"
   },
   {
    "duration": 269,
    "start_time": "2022-02-18T07:45:55.639Z"
   },
   {
    "duration": 13,
    "start_time": "2022-02-18T07:46:12.810Z"
   },
   {
    "duration": 294,
    "start_time": "2022-02-18T07:46:31.718Z"
   },
   {
    "duration": 17,
    "start_time": "2022-02-18T07:47:59.954Z"
   },
   {
    "duration": 26,
    "start_time": "2022-02-18T07:49:37.676Z"
   },
   {
    "duration": 93,
    "start_time": "2022-02-18T07:49:42.888Z"
   },
   {
    "duration": 21,
    "start_time": "2022-02-18T07:50:03.809Z"
   },
   {
    "duration": 124,
    "start_time": "2022-02-18T07:50:35.189Z"
   },
   {
    "duration": 25,
    "start_time": "2022-02-18T07:50:40.154Z"
   },
   {
    "duration": 91,
    "start_time": "2022-02-18T07:50:40.908Z"
   },
   {
    "duration": 29,
    "start_time": "2022-02-18T07:51:05.932Z"
   },
   {
    "duration": 97,
    "start_time": "2022-02-18T07:51:06.397Z"
   },
   {
    "duration": 1532,
    "start_time": "2022-02-18T07:52:34.320Z"
   },
   {
    "duration": 1377,
    "start_time": "2022-02-18T07:52:40.321Z"
   },
   {
    "duration": 272,
    "start_time": "2022-02-18T07:53:54.422Z"
   },
   {
    "duration": 346,
    "start_time": "2022-02-18T07:54:24.553Z"
   },
   {
    "duration": 335,
    "start_time": "2022-02-18T07:55:00.588Z"
   },
   {
    "duration": 1125,
    "start_time": "2022-02-18T07:59:27.043Z"
   },
   {
    "duration": 24,
    "start_time": "2022-02-18T07:59:28.170Z"
   },
   {
    "duration": 25,
    "start_time": "2022-02-18T07:59:28.196Z"
   },
   {
    "duration": 4,
    "start_time": "2022-02-18T07:59:28.223Z"
   },
   {
    "duration": 13,
    "start_time": "2022-02-18T07:59:28.228Z"
   },
   {
    "duration": 7,
    "start_time": "2022-02-18T07:59:28.243Z"
   },
   {
    "duration": 9,
    "start_time": "2022-02-18T07:59:28.251Z"
   },
   {
    "duration": 6,
    "start_time": "2022-02-18T07:59:28.262Z"
   },
   {
    "duration": 50,
    "start_time": "2022-02-18T07:59:28.270Z"
   },
   {
    "duration": 5,
    "start_time": "2022-02-18T07:59:28.322Z"
   },
   {
    "duration": 8,
    "start_time": "2022-02-18T07:59:28.329Z"
   },
   {
    "duration": 14,
    "start_time": "2022-02-18T07:59:28.339Z"
   },
   {
    "duration": 12,
    "start_time": "2022-02-18T07:59:28.355Z"
   },
   {
    "duration": 10,
    "start_time": "2022-02-18T07:59:28.369Z"
   },
   {
    "duration": 15,
    "start_time": "2022-02-18T07:59:28.381Z"
   },
   {
    "duration": 25,
    "start_time": "2022-02-18T07:59:28.397Z"
   },
   {
    "duration": 9,
    "start_time": "2022-02-18T07:59:28.423Z"
   },
   {
    "duration": 19,
    "start_time": "2022-02-18T07:59:28.434Z"
   },
   {
    "duration": 9,
    "start_time": "2022-02-18T07:59:28.455Z"
   },
   {
    "duration": 18,
    "start_time": "2022-02-18T07:59:28.465Z"
   },
   {
    "duration": 23,
    "start_time": "2022-02-18T07:59:28.485Z"
   },
   {
    "duration": 422,
    "start_time": "2022-02-18T07:59:28.518Z"
   },
   {
    "duration": 608,
    "start_time": "2022-02-18T07:59:28.944Z"
   },
   {
    "duration": 6,
    "start_time": "2022-02-18T07:59:29.555Z"
   },
   {
    "duration": 64,
    "start_time": "2022-02-18T07:59:29.563Z"
   },
   {
    "duration": 93,
    "start_time": "2022-02-18T07:59:29.630Z"
   },
   {
    "duration": 4,
    "start_time": "2022-02-18T07:59:29.725Z"
   },
   {
    "duration": 16,
    "start_time": "2022-02-18T07:59:29.731Z"
   },
   {
    "duration": 3,
    "start_time": "2022-02-18T07:59:29.748Z"
   },
   {
    "duration": 78,
    "start_time": "2022-02-18T07:59:29.753Z"
   },
   {
    "duration": 5,
    "start_time": "2022-02-18T07:59:29.833Z"
   },
   {
    "duration": 84,
    "start_time": "2022-02-18T07:59:29.841Z"
   },
   {
    "duration": 1362,
    "start_time": "2022-02-18T07:59:29.928Z"
   },
   {
    "duration": 6,
    "start_time": "2022-02-18T07:59:31.292Z"
   },
   {
    "duration": 300,
    "start_time": "2022-02-18T07:59:31.300Z"
   },
   {
    "duration": 4,
    "start_time": "2022-02-18T07:59:31.602Z"
   },
   {
    "duration": 23,
    "start_time": "2022-02-18T07:59:31.618Z"
   },
   {
    "duration": 3,
    "start_time": "2022-02-18T07:59:31.643Z"
   },
   {
    "duration": 15,
    "start_time": "2022-02-18T07:59:31.648Z"
   },
   {
    "duration": 57,
    "start_time": "2022-02-18T07:59:31.665Z"
   },
   {
    "duration": 101,
    "start_time": "2022-02-18T07:59:31.724Z"
   },
   {
    "duration": 91,
    "start_time": "2022-02-18T07:59:31.827Z"
   },
   {
    "duration": 275,
    "start_time": "2022-02-18T07:59:31.920Z"
   },
   {
    "duration": 97,
    "start_time": "2022-02-18T07:59:32.197Z"
   },
   {
    "duration": 46,
    "start_time": "2022-02-18T07:59:32.295Z"
   },
   {
    "duration": 177,
    "start_time": "2022-02-18T07:59:32.420Z"
   },
   {
    "duration": 18,
    "start_time": "2022-02-18T07:59:32.600Z"
   },
   {
    "duration": 262,
    "start_time": "2022-02-18T07:59:32.620Z"
   },
   {
    "duration": 111,
    "start_time": "2022-02-18T07:59:32.884Z"
   },
   {
    "duration": 101,
    "start_time": "2022-02-18T07:59:32.996Z"
   },
   {
    "duration": 6,
    "start_time": "2022-02-18T07:59:33.100Z"
   },
   {
    "duration": 5,
    "start_time": "2022-02-18T07:59:33.119Z"
   },
   {
    "duration": 271,
    "start_time": "2022-02-18T07:59:33.126Z"
   },
   {
    "duration": 35,
    "start_time": "2022-02-18T07:59:33.399Z"
   },
   {
    "duration": 113,
    "start_time": "2022-02-18T07:59:33.436Z"
   },
   {
    "duration": 8,
    "start_time": "2022-02-18T07:59:33.551Z"
   },
   {
    "duration": 268,
    "start_time": "2022-02-18T07:59:33.561Z"
   },
   {
    "duration": 33,
    "start_time": "2022-02-18T07:59:33.831Z"
   },
   {
    "duration": 5,
    "start_time": "2022-02-18T07:59:33.866Z"
   },
   {
    "duration": 48,
    "start_time": "2022-02-18T07:59:33.873Z"
   },
   {
    "duration": 9,
    "start_time": "2022-02-18T07:59:33.923Z"
   },
   {
    "duration": 14,
    "start_time": "2022-02-18T07:59:33.934Z"
   },
   {
    "duration": 14,
    "start_time": "2022-02-18T07:59:33.950Z"
   },
   {
    "duration": 325,
    "start_time": "2022-02-18T07:59:33.966Z"
   },
   {
    "duration": 25,
    "start_time": "2022-02-18T07:59:34.293Z"
   },
   {
    "duration": 305,
    "start_time": "2022-02-18T07:59:34.320Z"
   },
   {
    "duration": 18,
    "start_time": "2022-02-18T07:59:34.626Z"
   },
   {
    "duration": 117,
    "start_time": "2022-02-18T07:59:34.724Z"
   },
   {
    "duration": 111,
    "start_time": "2022-02-18T07:59:34.843Z"
   },
   {
    "duration": 364,
    "start_time": "2022-02-18T07:59:34.957Z"
   },
   {
    "duration": 295,
    "start_time": "2022-02-18T08:01:05.203Z"
   },
   {
    "duration": -354,
    "start_time": "2022-02-18T08:01:05.856Z"
   },
   {
    "duration": -356,
    "start_time": "2022-02-18T08:01:05.859Z"
   },
   {
    "duration": -362,
    "start_time": "2022-02-18T08:01:05.866Z"
   },
   {
    "duration": -364,
    "start_time": "2022-02-18T08:01:05.869Z"
   },
   {
    "duration": -366,
    "start_time": "2022-02-18T08:01:05.872Z"
   },
   {
    "duration": -368,
    "start_time": "2022-02-18T08:01:05.875Z"
   },
   {
    "duration": -369,
    "start_time": "2022-02-18T08:01:05.877Z"
   },
   {
    "duration": -376,
    "start_time": "2022-02-18T08:01:05.885Z"
   },
   {
    "duration": -377,
    "start_time": "2022-02-18T08:01:05.887Z"
   },
   {
    "duration": -379,
    "start_time": "2022-02-18T08:01:05.890Z"
   },
   {
    "duration": -380,
    "start_time": "2022-02-18T08:01:05.892Z"
   },
   {
    "duration": -382,
    "start_time": "2022-02-18T08:01:05.895Z"
   },
   {
    "duration": -383,
    "start_time": "2022-02-18T08:01:05.898Z"
   },
   {
    "duration": -385,
    "start_time": "2022-02-18T08:01:05.901Z"
   },
   {
    "duration": -386,
    "start_time": "2022-02-18T08:01:05.903Z"
   },
   {
    "duration": -387,
    "start_time": "2022-02-18T08:01:05.905Z"
   },
   {
    "duration": -390,
    "start_time": "2022-02-18T08:01:05.908Z"
   },
   {
    "duration": -397,
    "start_time": "2022-02-18T08:01:05.916Z"
   },
   {
    "duration": -398,
    "start_time": "2022-02-18T08:01:05.918Z"
   },
   {
    "duration": -400,
    "start_time": "2022-02-18T08:01:05.921Z"
   },
   {
    "duration": -402,
    "start_time": "2022-02-18T08:01:05.924Z"
   },
   {
    "duration": -403,
    "start_time": "2022-02-18T08:01:05.926Z"
   },
   {
    "duration": -405,
    "start_time": "2022-02-18T08:01:05.929Z"
   },
   {
    "duration": -407,
    "start_time": "2022-02-18T08:01:05.932Z"
   },
   {
    "duration": -408,
    "start_time": "2022-02-18T08:01:05.934Z"
   },
   {
    "duration": -410,
    "start_time": "2022-02-18T08:01:05.937Z"
   },
   {
    "duration": -413,
    "start_time": "2022-02-18T08:01:05.940Z"
   },
   {
    "duration": -415,
    "start_time": "2022-02-18T08:01:05.943Z"
   },
   {
    "duration": -416,
    "start_time": "2022-02-18T08:01:05.945Z"
   },
   {
    "duration": -418,
    "start_time": "2022-02-18T08:01:05.948Z"
   },
   {
    "duration": -497,
    "start_time": "2022-02-18T08:01:06.028Z"
   },
   {
    "duration": -499,
    "start_time": "2022-02-18T08:01:06.031Z"
   },
   {
    "duration": -500,
    "start_time": "2022-02-18T08:01:06.033Z"
   },
   {
    "duration": -502,
    "start_time": "2022-02-18T08:01:06.036Z"
   },
   {
    "duration": -503,
    "start_time": "2022-02-18T08:01:06.038Z"
   },
   {
    "duration": -505,
    "start_time": "2022-02-18T08:01:06.041Z"
   },
   {
    "duration": -507,
    "start_time": "2022-02-18T08:01:06.044Z"
   },
   {
    "duration": -510,
    "start_time": "2022-02-18T08:01:06.047Z"
   },
   {
    "duration": -511,
    "start_time": "2022-02-18T08:01:06.049Z"
   },
   {
    "duration": -594,
    "start_time": "2022-02-18T08:01:06.133Z"
   },
   {
    "duration": -618,
    "start_time": "2022-02-18T08:01:06.158Z"
   },
   {
    "duration": -620,
    "start_time": "2022-02-18T08:01:06.161Z"
   },
   {
    "duration": -621,
    "start_time": "2022-02-18T08:01:06.163Z"
   },
   {
    "duration": -627,
    "start_time": "2022-02-18T08:01:06.170Z"
   },
   {
    "duration": -629,
    "start_time": "2022-02-18T08:01:06.173Z"
   },
   {
    "duration": -631,
    "start_time": "2022-02-18T08:01:06.176Z"
   },
   {
    "duration": -634,
    "start_time": "2022-02-18T08:01:06.179Z"
   },
   {
    "duration": -636,
    "start_time": "2022-02-18T08:01:06.182Z"
   },
   {
    "duration": -637,
    "start_time": "2022-02-18T08:01:06.184Z"
   },
   {
    "duration": -639,
    "start_time": "2022-02-18T08:01:06.187Z"
   },
   {
    "duration": -640,
    "start_time": "2022-02-18T08:01:06.189Z"
   },
   {
    "duration": -642,
    "start_time": "2022-02-18T08:01:06.192Z"
   },
   {
    "duration": -643,
    "start_time": "2022-02-18T08:01:06.194Z"
   },
   {
    "duration": -645,
    "start_time": "2022-02-18T08:01:06.197Z"
   },
   {
    "duration": -646,
    "start_time": "2022-02-18T08:01:06.199Z"
   },
   {
    "duration": 1205,
    "start_time": "2022-02-18T08:01:17.283Z"
   },
   {
    "duration": 24,
    "start_time": "2022-02-18T08:01:18.490Z"
   },
   {
    "duration": 15,
    "start_time": "2022-02-18T08:01:18.519Z"
   },
   {
    "duration": 10,
    "start_time": "2022-02-18T08:01:18.536Z"
   },
   {
    "duration": 10,
    "start_time": "2022-02-18T08:01:18.548Z"
   },
   {
    "duration": 7,
    "start_time": "2022-02-18T08:01:18.560Z"
   },
   {
    "duration": 5,
    "start_time": "2022-02-18T08:01:18.569Z"
   },
   {
    "duration": 7,
    "start_time": "2022-02-18T08:01:18.576Z"
   },
   {
    "duration": 44,
    "start_time": "2022-02-18T08:01:18.585Z"
   },
   {
    "duration": 6,
    "start_time": "2022-02-18T08:01:18.631Z"
   },
   {
    "duration": 18,
    "start_time": "2022-02-18T08:01:18.638Z"
   },
   {
    "duration": 10,
    "start_time": "2022-02-18T08:01:18.658Z"
   },
   {
    "duration": 5,
    "start_time": "2022-02-18T08:01:18.670Z"
   },
   {
    "duration": 9,
    "start_time": "2022-02-18T08:01:18.677Z"
   },
   {
    "duration": 15,
    "start_time": "2022-02-18T08:01:26.740Z"
   },
   {
    "duration": 13,
    "start_time": "2022-02-18T08:01:29.952Z"
   },
   {
    "duration": 1185,
    "start_time": "2022-02-18T08:04:03.190Z"
   },
   {
    "duration": 24,
    "start_time": "2022-02-18T08:04:04.377Z"
   },
   {
    "duration": 26,
    "start_time": "2022-02-18T08:04:04.404Z"
   },
   {
    "duration": 15,
    "start_time": "2022-02-18T08:04:04.431Z"
   },
   {
    "duration": 29,
    "start_time": "2022-02-18T08:04:04.448Z"
   },
   {
    "duration": 27,
    "start_time": "2022-02-18T08:04:04.479Z"
   },
   {
    "duration": 16,
    "start_time": "2022-02-18T08:04:04.508Z"
   },
   {
    "duration": 20,
    "start_time": "2022-02-18T08:04:04.527Z"
   },
   {
    "duration": 27,
    "start_time": "2022-02-18T08:04:04.549Z"
   },
   {
    "duration": 11,
    "start_time": "2022-02-18T08:04:04.578Z"
   },
   {
    "duration": 28,
    "start_time": "2022-02-18T08:04:04.590Z"
   },
   {
    "duration": 12,
    "start_time": "2022-02-18T08:04:04.620Z"
   },
   {
    "duration": 25,
    "start_time": "2022-02-18T08:04:04.634Z"
   },
   {
    "duration": 33,
    "start_time": "2022-02-18T08:04:04.660Z"
   },
   {
    "duration": 27,
    "start_time": "2022-02-18T08:04:04.695Z"
   },
   {
    "duration": 20,
    "start_time": "2022-02-18T08:04:04.724Z"
   },
   {
    "duration": 27,
    "start_time": "2022-02-18T08:04:04.746Z"
   },
   {
    "duration": 445,
    "start_time": "2022-02-18T08:04:04.775Z"
   },
   {
    "duration": -356,
    "start_time": "2022-02-18T08:04:05.579Z"
   },
   {
    "duration": -358,
    "start_time": "2022-02-18T08:04:05.582Z"
   },
   {
    "duration": -363,
    "start_time": "2022-02-18T08:04:05.589Z"
   },
   {
    "duration": -365,
    "start_time": "2022-02-18T08:04:05.592Z"
   },
   {
    "duration": -366,
    "start_time": "2022-02-18T08:04:05.594Z"
   },
   {
    "duration": -368,
    "start_time": "2022-02-18T08:04:05.597Z"
   },
   {
    "duration": -369,
    "start_time": "2022-02-18T08:04:05.599Z"
   },
   {
    "duration": -376,
    "start_time": "2022-02-18T08:04:05.607Z"
   },
   {
    "duration": -377,
    "start_time": "2022-02-18T08:04:05.609Z"
   },
   {
    "duration": -378,
    "start_time": "2022-02-18T08:04:05.612Z"
   },
   {
    "duration": -379,
    "start_time": "2022-02-18T08:04:05.614Z"
   },
   {
    "duration": -381,
    "start_time": "2022-02-18T08:04:05.617Z"
   },
   {
    "duration": -383,
    "start_time": "2022-02-18T08:04:05.619Z"
   },
   {
    "duration": -383,
    "start_time": "2022-02-18T08:04:05.621Z"
   },
   {
    "duration": -385,
    "start_time": "2022-02-18T08:04:05.624Z"
   },
   {
    "duration": -387,
    "start_time": "2022-02-18T08:04:05.627Z"
   },
   {
    "duration": -391,
    "start_time": "2022-02-18T08:04:05.631Z"
   },
   {
    "duration": -392,
    "start_time": "2022-02-18T08:04:05.633Z"
   },
   {
    "duration": -394,
    "start_time": "2022-02-18T08:04:05.636Z"
   },
   {
    "duration": -422,
    "start_time": "2022-02-18T08:04:05.665Z"
   },
   {
    "duration": -428,
    "start_time": "2022-02-18T08:04:05.672Z"
   },
   {
    "duration": -432,
    "start_time": "2022-02-18T08:04:05.676Z"
   },
   {
    "duration": -433,
    "start_time": "2022-02-18T08:04:05.678Z"
   },
   {
    "duration": -435,
    "start_time": "2022-02-18T08:04:05.681Z"
   },
   {
    "duration": -441,
    "start_time": "2022-02-18T08:04:05.688Z"
   },
   {
    "duration": -442,
    "start_time": "2022-02-18T08:04:05.690Z"
   },
   {
    "duration": -455,
    "start_time": "2022-02-18T08:04:05.704Z"
   },
   {
    "duration": -456,
    "start_time": "2022-02-18T08:04:05.706Z"
   },
   {
    "duration": -467,
    "start_time": "2022-02-18T08:04:05.718Z"
   },
   {
    "duration": -469,
    "start_time": "2022-02-18T08:04:05.721Z"
   },
   {
    "duration": -479,
    "start_time": "2022-02-18T08:04:05.732Z"
   },
   {
    "duration": -480,
    "start_time": "2022-02-18T08:04:05.735Z"
   },
   {
    "duration": -481,
    "start_time": "2022-02-18T08:04:05.737Z"
   },
   {
    "duration": -490,
    "start_time": "2022-02-18T08:04:05.747Z"
   },
   {
    "duration": -491,
    "start_time": "2022-02-18T08:04:05.749Z"
   },
   {
    "duration": -529,
    "start_time": "2022-02-18T08:04:05.788Z"
   },
   {
    "duration": -531,
    "start_time": "2022-02-18T08:04:05.790Z"
   },
   {
    "duration": -473,
    "start_time": "2022-02-18T08:04:05.793Z"
   },
   {
    "duration": -475,
    "start_time": "2022-02-18T08:04:05.796Z"
   },
   {
    "duration": -477,
    "start_time": "2022-02-18T08:04:05.799Z"
   },
   {
    "duration": -478,
    "start_time": "2022-02-18T08:04:05.801Z"
   },
   {
    "duration": -481,
    "start_time": "2022-02-18T08:04:05.804Z"
   },
   {
    "duration": -482,
    "start_time": "2022-02-18T08:04:05.806Z"
   },
   {
    "duration": -488,
    "start_time": "2022-02-18T08:04:05.813Z"
   },
   {
    "duration": -491,
    "start_time": "2022-02-18T08:04:05.816Z"
   },
   {
    "duration": -506,
    "start_time": "2022-02-18T08:04:05.832Z"
   },
   {
    "duration": -507,
    "start_time": "2022-02-18T08:04:05.834Z"
   },
   {
    "duration": -509,
    "start_time": "2022-02-18T08:04:05.836Z"
   },
   {
    "duration": -511,
    "start_time": "2022-02-18T08:04:05.839Z"
   },
   {
    "duration": -513,
    "start_time": "2022-02-18T08:04:05.841Z"
   },
   {
    "duration": -516,
    "start_time": "2022-02-18T08:04:05.845Z"
   },
   {
    "duration": -518,
    "start_time": "2022-02-18T08:04:05.848Z"
   },
   {
    "duration": -522,
    "start_time": "2022-02-18T08:04:05.852Z"
   },
   {
    "duration": 7,
    "start_time": "2022-02-18T08:04:22.004Z"
   },
   {
    "duration": 19,
    "start_time": "2022-02-18T08:04:22.013Z"
   },
   {
    "duration": 4,
    "start_time": "2022-02-18T08:04:22.035Z"
   },
   {
    "duration": 24,
    "start_time": "2022-02-18T08:04:22.041Z"
   },
   {
    "duration": 27,
    "start_time": "2022-02-18T08:04:22.068Z"
   },
   {
    "duration": 461,
    "start_time": "2022-02-18T08:04:22.097Z"
   },
   {
    "duration": 624,
    "start_time": "2022-02-18T08:04:22.560Z"
   },
   {
    "duration": 7,
    "start_time": "2022-02-18T08:04:23.186Z"
   },
   {
    "duration": 123,
    "start_time": "2022-02-18T08:04:23.195Z"
   },
   {
    "duration": 97,
    "start_time": "2022-02-18T08:04:23.321Z"
   },
   {
    "duration": 12,
    "start_time": "2022-02-18T08:04:23.420Z"
   },
   {
    "duration": 19,
    "start_time": "2022-02-18T08:04:23.433Z"
   },
   {
    "duration": 4,
    "start_time": "2022-02-18T08:04:23.454Z"
   },
   {
    "duration": 34,
    "start_time": "2022-02-18T08:04:23.459Z"
   },
   {
    "duration": 33,
    "start_time": "2022-02-18T08:04:23.495Z"
   },
   {
    "duration": 92,
    "start_time": "2022-02-18T08:04:23.530Z"
   },
   {
    "duration": 1364,
    "start_time": "2022-02-18T08:04:23.624Z"
   },
   {
    "duration": 6,
    "start_time": "2022-02-18T08:04:24.990Z"
   },
   {
    "duration": 311,
    "start_time": "2022-02-18T08:04:24.998Z"
   },
   {
    "duration": 8,
    "start_time": "2022-02-18T08:04:25.311Z"
   },
   {
    "duration": 16,
    "start_time": "2022-02-18T08:04:25.321Z"
   },
   {
    "duration": 3,
    "start_time": "2022-02-18T08:04:25.338Z"
   },
   {
    "duration": 11,
    "start_time": "2022-02-18T08:04:25.344Z"
   },
   {
    "duration": 63,
    "start_time": "2022-02-18T08:04:25.357Z"
   },
   {
    "duration": 98,
    "start_time": "2022-02-18T08:04:25.422Z"
   },
   {
    "duration": 116,
    "start_time": "2022-02-18T08:04:25.522Z"
   },
   {
    "duration": 280,
    "start_time": "2022-02-18T08:04:25.639Z"
   },
   {
    "duration": 101,
    "start_time": "2022-02-18T08:04:25.921Z"
   },
   {
    "duration": 27,
    "start_time": "2022-02-18T08:04:26.024Z"
   },
   {
    "duration": 184,
    "start_time": "2022-02-18T08:04:26.119Z"
   },
   {
    "duration": 8,
    "start_time": "2022-02-18T08:04:26.319Z"
   },
   {
    "duration": 281,
    "start_time": "2022-02-18T08:04:26.330Z"
   },
   {
    "duration": 117,
    "start_time": "2022-02-18T08:04:26.618Z"
   },
   {
    "duration": 104,
    "start_time": "2022-02-18T08:04:26.737Z"
   },
   {
    "duration": 6,
    "start_time": "2022-02-18T08:04:26.843Z"
   },
   {
    "duration": 4,
    "start_time": "2022-02-18T08:04:26.851Z"
   },
   {
    "duration": 273,
    "start_time": "2022-02-18T08:04:26.857Z"
   },
   {
    "duration": 27,
    "start_time": "2022-02-18T08:04:27.132Z"
   },
   {
    "duration": 117,
    "start_time": "2022-02-18T08:04:27.160Z"
   },
   {
    "duration": 8,
    "start_time": "2022-02-18T08:04:27.279Z"
   },
   {
    "duration": 267,
    "start_time": "2022-02-18T08:04:27.289Z"
   },
   {
    "duration": 32,
    "start_time": "2022-02-18T08:04:27.557Z"
   },
   {
    "duration": 4,
    "start_time": "2022-02-18T08:04:27.591Z"
   },
   {
    "duration": 27,
    "start_time": "2022-02-18T08:04:27.596Z"
   },
   {
    "duration": 7,
    "start_time": "2022-02-18T08:04:27.625Z"
   },
   {
    "duration": 23,
    "start_time": "2022-02-18T08:04:27.633Z"
   },
   {
    "duration": 12,
    "start_time": "2022-02-18T08:04:27.657Z"
   },
   {
    "duration": 315,
    "start_time": "2022-02-18T08:04:27.671Z"
   },
   {
    "duration": 11,
    "start_time": "2022-02-18T08:04:27.988Z"
   },
   {
    "duration": 318,
    "start_time": "2022-02-18T08:04:28.000Z"
   },
   {
    "duration": 20,
    "start_time": "2022-02-18T08:04:28.320Z"
   },
   {
    "duration": 183,
    "start_time": "2022-02-18T08:04:28.343Z"
   },
   {
    "duration": 113,
    "start_time": "2022-02-18T08:04:28.528Z"
   },
   {
    "duration": 321,
    "start_time": "2022-02-18T08:04:28.644Z"
   },
   {
    "duration": 62,
    "start_time": "2022-02-18T08:06:12.363Z"
   },
   {
    "duration": 90,
    "start_time": "2022-02-18T08:06:13.345Z"
   },
   {
    "duration": 93,
    "start_time": "2022-02-18T08:06:18.478Z"
   },
   {
    "duration": 122,
    "start_time": "2022-02-18T08:06:18.830Z"
   },
   {
    "duration": 1162,
    "start_time": "2022-02-18T08:06:42.311Z"
   },
   {
    "duration": 24,
    "start_time": "2022-02-18T08:06:43.475Z"
   },
   {
    "duration": 20,
    "start_time": "2022-02-18T08:06:43.501Z"
   },
   {
    "duration": 3,
    "start_time": "2022-02-18T08:06:43.523Z"
   },
   {
    "duration": 13,
    "start_time": "2022-02-18T08:06:43.528Z"
   },
   {
    "duration": 9,
    "start_time": "2022-02-18T08:06:43.543Z"
   },
   {
    "duration": 5,
    "start_time": "2022-02-18T08:06:43.553Z"
   },
   {
    "duration": 5,
    "start_time": "2022-02-18T08:06:43.560Z"
   },
   {
    "duration": 52,
    "start_time": "2022-02-18T08:06:43.567Z"
   },
   {
    "duration": 6,
    "start_time": "2022-02-18T08:06:43.622Z"
   },
   {
    "duration": 9,
    "start_time": "2022-02-18T08:06:43.630Z"
   },
   {
    "duration": 4,
    "start_time": "2022-02-18T08:06:43.641Z"
   },
   {
    "duration": 9,
    "start_time": "2022-02-18T08:06:43.647Z"
   },
   {
    "duration": 6,
    "start_time": "2022-02-18T08:06:43.657Z"
   },
   {
    "duration": 18,
    "start_time": "2022-02-18T08:06:43.665Z"
   },
   {
    "duration": 44,
    "start_time": "2022-02-18T08:06:43.685Z"
   },
   {
    "duration": 9,
    "start_time": "2022-02-18T08:06:43.730Z"
   },
   {
    "duration": 6,
    "start_time": "2022-02-18T08:06:43.741Z"
   },
   {
    "duration": 6,
    "start_time": "2022-02-18T08:06:43.749Z"
   },
   {
    "duration": 3,
    "start_time": "2022-02-18T08:06:43.757Z"
   },
   {
    "duration": 11,
    "start_time": "2022-02-18T08:06:43.762Z"
   },
   {
    "duration": 63,
    "start_time": "2022-02-18T08:06:43.775Z"
   },
   {
    "duration": 411,
    "start_time": "2022-02-18T08:06:43.841Z"
   },
   {
    "duration": 671,
    "start_time": "2022-02-18T08:06:44.255Z"
   },
   {
    "duration": 6,
    "start_time": "2022-02-18T08:06:44.927Z"
   },
   {
    "duration": 88,
    "start_time": "2022-02-18T08:06:44.935Z"
   },
   {
    "duration": 97,
    "start_time": "2022-02-18T08:06:45.026Z"
   },
   {
    "duration": 13,
    "start_time": "2022-02-18T08:06:45.126Z"
   },
   {
    "duration": 25,
    "start_time": "2022-02-18T08:06:45.141Z"
   },
   {
    "duration": 3,
    "start_time": "2022-02-18T08:06:45.169Z"
   },
   {
    "duration": 64,
    "start_time": "2022-02-18T08:06:45.175Z"
   },
   {
    "duration": 10,
    "start_time": "2022-02-18T08:06:45.241Z"
   },
   {
    "duration": 101,
    "start_time": "2022-02-18T08:06:45.319Z"
   },
   {
    "duration": 1242,
    "start_time": "2022-02-18T08:06:45.422Z"
   },
   {
    "duration": 5,
    "start_time": "2022-02-18T08:06:46.666Z"
   },
   {
    "duration": 290,
    "start_time": "2022-02-18T08:06:46.673Z"
   },
   {
    "duration": 4,
    "start_time": "2022-02-18T08:06:46.965Z"
   },
   {
    "duration": 16,
    "start_time": "2022-02-18T08:06:46.971Z"
   },
   {
    "duration": 4,
    "start_time": "2022-02-18T08:06:46.989Z"
   },
   {
    "duration": 32,
    "start_time": "2022-02-18T08:06:46.995Z"
   },
   {
    "duration": 7,
    "start_time": "2022-02-18T08:06:47.029Z"
   },
   {
    "duration": 85,
    "start_time": "2022-02-18T08:06:47.038Z"
   },
   {
    "duration": 128,
    "start_time": "2022-02-18T08:06:47.125Z"
   },
   {
    "duration": 275,
    "start_time": "2022-02-18T08:06:47.254Z"
   },
   {
    "duration": 100,
    "start_time": "2022-02-18T08:06:47.530Z"
   },
   {
    "duration": 23,
    "start_time": "2022-02-18T08:06:47.632Z"
   },
   {
    "duration": 228,
    "start_time": "2022-02-18T08:06:47.657Z"
   },
   {
    "duration": 5,
    "start_time": "2022-02-18T08:06:47.887Z"
   },
   {
    "duration": 258,
    "start_time": "2022-02-18T08:06:47.894Z"
   },
   {
    "duration": 106,
    "start_time": "2022-02-18T08:06:48.154Z"
   },
   {
    "duration": 109,
    "start_time": "2022-02-18T08:06:48.262Z"
   },
   {
    "duration": 5,
    "start_time": "2022-02-18T08:06:48.373Z"
   },
   {
    "duration": 9,
    "start_time": "2022-02-18T08:06:48.379Z"
   },
   {
    "duration": 261,
    "start_time": "2022-02-18T08:06:48.389Z"
   },
   {
    "duration": 23,
    "start_time": "2022-02-18T08:06:48.652Z"
   },
   {
    "duration": 106,
    "start_time": "2022-02-18T08:06:48.677Z"
   },
   {
    "duration": 6,
    "start_time": "2022-02-18T08:06:48.784Z"
   },
   {
    "duration": 248,
    "start_time": "2022-02-18T08:06:48.792Z"
   },
   {
    "duration": 30,
    "start_time": "2022-02-18T08:06:49.042Z"
   },
   {
    "duration": 4,
    "start_time": "2022-02-18T08:06:49.073Z"
   },
   {
    "duration": 8,
    "start_time": "2022-02-18T08:06:49.079Z"
   },
   {
    "duration": 86,
    "start_time": "2022-02-18T08:11:54.029Z"
   },
   {
    "duration": 1192,
    "start_time": "2022-02-18T08:15:21.689Z"
   },
   {
    "duration": 28,
    "start_time": "2022-02-18T08:15:22.883Z"
   },
   {
    "duration": 15,
    "start_time": "2022-02-18T08:15:22.913Z"
   },
   {
    "duration": 6,
    "start_time": "2022-02-18T08:15:22.930Z"
   },
   {
    "duration": 9,
    "start_time": "2022-02-18T08:15:22.938Z"
   },
   {
    "duration": 7,
    "start_time": "2022-02-18T08:15:22.949Z"
   },
   {
    "duration": 3,
    "start_time": "2022-02-18T08:15:22.958Z"
   },
   {
    "duration": 5,
    "start_time": "2022-02-18T08:15:22.963Z"
   },
   {
    "duration": 52,
    "start_time": "2022-02-18T08:15:22.970Z"
   },
   {
    "duration": 5,
    "start_time": "2022-02-18T08:15:23.024Z"
   },
   {
    "duration": 14,
    "start_time": "2022-02-18T08:15:23.031Z"
   },
   {
    "duration": 6,
    "start_time": "2022-02-18T08:15:23.047Z"
   },
   {
    "duration": 6,
    "start_time": "2022-02-18T08:15:23.055Z"
   },
   {
    "duration": 7,
    "start_time": "2022-02-18T08:15:23.062Z"
   },
   {
    "duration": 17,
    "start_time": "2022-02-18T08:15:23.071Z"
   },
   {
    "duration": 31,
    "start_time": "2022-02-18T08:15:23.090Z"
   },
   {
    "duration": 5,
    "start_time": "2022-02-18T08:15:23.123Z"
   },
   {
    "duration": 6,
    "start_time": "2022-02-18T08:15:23.130Z"
   },
   {
    "duration": 5,
    "start_time": "2022-02-18T08:15:23.137Z"
   },
   {
    "duration": 6,
    "start_time": "2022-02-18T08:15:23.144Z"
   },
   {
    "duration": 10,
    "start_time": "2022-02-18T08:15:23.152Z"
   },
   {
    "duration": 64,
    "start_time": "2022-02-18T08:15:23.164Z"
   },
   {
    "duration": 328,
    "start_time": "2022-02-18T08:15:23.233Z"
   },
   {
    "duration": 482,
    "start_time": "2022-02-18T08:15:23.563Z"
   },
   {
    "duration": 7,
    "start_time": "2022-02-18T08:15:24.046Z"
   },
   {
    "duration": 77,
    "start_time": "2022-02-18T08:15:24.055Z"
   },
   {
    "duration": 6,
    "start_time": "2022-02-18T08:15:24.219Z"
   },
   {
    "duration": 10,
    "start_time": "2022-02-18T08:15:24.227Z"
   },
   {
    "duration": 16,
    "start_time": "2022-02-18T08:15:24.238Z"
   },
   {
    "duration": 3,
    "start_time": "2022-02-18T08:15:24.256Z"
   },
   {
    "duration": 28,
    "start_time": "2022-02-18T08:15:24.260Z"
   },
   {
    "duration": 36,
    "start_time": "2022-02-18T08:15:24.289Z"
   },
   {
    "duration": 97,
    "start_time": "2022-02-18T08:15:24.328Z"
   },
   {
    "duration": 1020,
    "start_time": "2022-02-18T08:15:24.428Z"
   },
   {
    "duration": 7,
    "start_time": "2022-02-18T08:15:25.450Z"
   },
   {
    "duration": 245,
    "start_time": "2022-02-18T08:15:25.459Z"
   },
   {
    "duration": 16,
    "start_time": "2022-02-18T08:15:25.706Z"
   },
   {
    "duration": 14,
    "start_time": "2022-02-18T08:15:25.724Z"
   },
   {
    "duration": 4,
    "start_time": "2022-02-18T08:15:25.740Z"
   },
   {
    "duration": 11,
    "start_time": "2022-02-18T08:15:25.746Z"
   },
   {
    "duration": 62,
    "start_time": "2022-02-18T08:15:25.759Z"
   },
   {
    "duration": 98,
    "start_time": "2022-02-18T08:15:25.823Z"
   },
   {
    "duration": 98,
    "start_time": "2022-02-18T08:15:25.924Z"
   },
   {
    "duration": 250,
    "start_time": "2022-02-18T08:15:26.024Z"
   },
   {
    "duration": 90,
    "start_time": "2022-02-18T08:15:26.276Z"
   },
   {
    "duration": 52,
    "start_time": "2022-02-18T08:15:26.368Z"
   },
   {
    "duration": 172,
    "start_time": "2022-02-18T08:15:26.422Z"
   },
   {
    "duration": 29,
    "start_time": "2022-02-18T08:15:26.596Z"
   },
   {
    "duration": 260,
    "start_time": "2022-02-18T08:15:26.627Z"
   },
   {
    "duration": 82,
    "start_time": "2022-02-18T08:15:26.889Z"
   },
   {
    "duration": 97,
    "start_time": "2022-02-18T08:15:26.973Z"
   },
   {
    "duration": 4,
    "start_time": "2022-02-18T08:15:27.072Z"
   },
   {
    "duration": 7,
    "start_time": "2022-02-18T08:15:27.078Z"
   },
   {
    "duration": 259,
    "start_time": "2022-02-18T08:15:27.086Z"
   },
   {
    "duration": 21,
    "start_time": "2022-02-18T08:15:27.347Z"
   },
   {
    "duration": 115,
    "start_time": "2022-02-18T08:15:27.370Z"
   },
   {
    "duration": 6,
    "start_time": "2022-02-18T08:15:27.486Z"
   },
   {
    "duration": 261,
    "start_time": "2022-02-18T08:15:27.494Z"
   },
   {
    "duration": 31,
    "start_time": "2022-02-18T08:15:27.757Z"
   },
   {
    "duration": 7,
    "start_time": "2022-02-18T08:15:27.789Z"
   },
   {
    "duration": 27,
    "start_time": "2022-02-18T08:15:27.797Z"
   },
   {
    "duration": 8,
    "start_time": "2022-02-18T08:16:13.288Z"
   },
   {
    "duration": 10,
    "start_time": "2022-02-18T08:16:18.404Z"
   },
   {
    "duration": 8,
    "start_time": "2022-02-18T08:16:21.505Z"
   },
   {
    "duration": 7,
    "start_time": "2022-02-18T08:16:24.072Z"
   },
   {
    "duration": 9,
    "start_time": "2022-02-18T08:16:26.318Z"
   },
   {
    "duration": 15,
    "start_time": "2022-02-18T08:17:27.545Z"
   },
   {
    "duration": 5,
    "start_time": "2022-02-18T08:17:28.317Z"
   },
   {
    "duration": 7,
    "start_time": "2022-02-18T08:17:28.717Z"
   },
   {
    "duration": 45,
    "start_time": "2022-02-18T08:17:39.784Z"
   },
   {
    "duration": 40,
    "start_time": "2022-02-18T08:17:46.251Z"
   },
   {
    "duration": 5,
    "start_time": "2022-02-18T08:17:46.679Z"
   },
   {
    "duration": 8,
    "start_time": "2022-02-18T08:17:47.079Z"
   },
   {
    "duration": 24,
    "start_time": "2022-02-18T08:25:46.237Z"
   },
   {
    "duration": 34,
    "start_time": "2022-02-18T08:25:50.196Z"
   },
   {
    "duration": 29,
    "start_time": "2022-02-18T08:25:52.593Z"
   },
   {
    "duration": 29,
    "start_time": "2022-02-18T08:25:54.651Z"
   },
   {
    "duration": 30,
    "start_time": "2022-02-18T08:25:57.215Z"
   },
   {
    "duration": 23,
    "start_time": "2022-02-18T08:26:01.893Z"
   },
   {
    "duration": 25,
    "start_time": "2022-02-18T08:26:04.494Z"
   },
   {
    "duration": 29,
    "start_time": "2022-02-18T08:26:06.226Z"
   },
   {
    "duration": 26,
    "start_time": "2022-02-18T08:26:07.919Z"
   },
   {
    "duration": 4,
    "start_time": "2022-02-18T08:26:08.823Z"
   },
   {
    "duration": 7,
    "start_time": "2022-02-18T08:26:09.047Z"
   },
   {
    "duration": 8,
    "start_time": "2022-02-18T08:26:14.390Z"
   },
   {
    "duration": 8,
    "start_time": "2022-02-18T08:26:16.848Z"
   },
   {
    "duration": 8,
    "start_time": "2022-02-18T08:26:20.019Z"
   },
   {
    "duration": 8,
    "start_time": "2022-02-18T08:26:22.620Z"
   },
   {
    "duration": 24,
    "start_time": "2022-02-18T08:27:03.570Z"
   },
   {
    "duration": 90,
    "start_time": "2022-02-18T08:27:04.543Z"
   },
   {
    "duration": 14,
    "start_time": "2022-02-18T08:29:01.674Z"
   },
   {
    "duration": 5,
    "start_time": "2022-02-18T08:29:02.737Z"
   },
   {
    "duration": 8,
    "start_time": "2022-02-18T08:29:03.069Z"
   },
   {
    "duration": 16,
    "start_time": "2022-02-18T08:29:07.424Z"
   },
   {
    "duration": 14,
    "start_time": "2022-02-18T08:29:10.218Z"
   },
   {
    "duration": 13,
    "start_time": "2022-02-18T08:29:12.628Z"
   },
   {
    "duration": 14,
    "start_time": "2022-02-18T08:29:15.129Z"
   },
   {
    "duration": 14,
    "start_time": "2022-02-18T08:29:18.478Z"
   },
   {
    "duration": 17,
    "start_time": "2022-02-18T08:29:20.737Z"
   },
   {
    "duration": 25,
    "start_time": "2022-02-18T08:29:32.808Z"
   },
   {
    "duration": 123,
    "start_time": "2022-02-18T08:31:25.071Z"
   },
   {
    "duration": 102,
    "start_time": "2022-02-18T08:31:32.588Z"
   },
   {
    "duration": 4,
    "start_time": "2022-02-18T08:31:40.207Z"
   },
   {
    "duration": 7,
    "start_time": "2022-02-18T08:32:31.585Z"
   },
   {
    "duration": 406,
    "start_time": "2022-02-18T08:33:36.314Z"
   },
   {
    "duration": 1417,
    "start_time": "2022-02-18T08:33:42.649Z"
   },
   {
    "duration": 4,
    "start_time": "2022-02-18T08:34:19.982Z"
   },
   {
    "duration": 4,
    "start_time": "2022-02-18T08:35:35.190Z"
   },
   {
    "duration": 2020,
    "start_time": "2022-02-18T08:35:36.278Z"
   },
   {
    "duration": 5,
    "start_time": "2022-02-18T08:35:43.020Z"
   },
   {
    "duration": 29,
    "start_time": "2022-02-18T08:36:12.149Z"
   },
   {
    "duration": 24,
    "start_time": "2022-02-18T08:36:31.271Z"
   },
   {
    "duration": 28,
    "start_time": "2022-02-18T08:36:33.521Z"
   },
   {
    "duration": 34,
    "start_time": "2022-02-18T08:36:35.174Z"
   },
   {
    "duration": 27,
    "start_time": "2022-02-18T08:36:37.151Z"
   },
   {
    "duration": 27,
    "start_time": "2022-02-18T08:36:38.783Z"
   },
   {
    "duration": 26,
    "start_time": "2022-02-18T08:36:40.672Z"
   },
   {
    "duration": 29,
    "start_time": "2022-02-18T08:37:00.114Z"
   },
   {
    "duration": 26,
    "start_time": "2022-02-18T08:37:03.027Z"
   },
   {
    "duration": 4,
    "start_time": "2022-02-18T08:37:50.161Z"
   },
   {
    "duration": 5404,
    "start_time": "2022-02-18T08:37:51.486Z"
   },
   {
    "duration": 20,
    "start_time": "2022-02-18T08:38:00.541Z"
   },
   {
    "duration": 21,
    "start_time": "2022-02-18T08:38:15.259Z"
   },
   {
    "duration": 24,
    "start_time": "2022-02-18T08:38:26.267Z"
   },
   {
    "duration": 36,
    "start_time": "2022-02-18T08:38:36.031Z"
   },
   {
    "duration": 34,
    "start_time": "2022-02-18T08:38:39.217Z"
   },
   {
    "duration": 11870,
    "start_time": "2022-02-18T08:39:32.984Z"
   },
   {
    "duration": 14244,
    "start_time": "2022-02-18T08:39:47.249Z"
   },
   {
    "duration": 4,
    "start_time": "2022-02-18T08:40:04.076Z"
   },
   {
    "duration": 313,
    "start_time": "2022-02-18T08:41:18.052Z"
   },
   {
    "duration": 25,
    "start_time": "2022-02-18T08:41:28.801Z"
   },
   {
    "duration": 56105,
    "start_time": "2022-02-18T08:41:51.064Z"
   },
   {
    "duration": 4,
    "start_time": "2022-02-18T08:42:47.171Z"
   },
   {
    "duration": 448,
    "start_time": "2022-02-18T08:43:17.089Z"
   },
   {
    "duration": 214,
    "start_time": "2022-02-18T08:43:25.642Z"
   },
   {
    "duration": 269,
    "start_time": "2022-02-18T08:43:43.922Z"
   },
   {
    "duration": 256,
    "start_time": "2022-02-18T08:43:44.406Z"
   },
   {
    "duration": 27319,
    "start_time": "2022-02-18T08:43:52.976Z"
   },
   {
    "duration": 4,
    "start_time": "2022-02-18T08:44:20.297Z"
   },
   {
    "duration": 222,
    "start_time": "2022-02-18T08:44:30.710Z"
   },
   {
    "duration": 356,
    "start_time": "2022-02-18T08:44:45.655Z"
   },
   {
    "duration": 11081,
    "start_time": "2022-02-18T08:44:50.146Z"
   },
   {
    "duration": 4,
    "start_time": "2022-02-18T08:45:01.229Z"
   },
   {
    "duration": 212,
    "start_time": "2022-02-18T08:45:09.802Z"
   },
   {
    "duration": 10235,
    "start_time": "2022-02-18T08:46:01.615Z"
   },
   {
    "duration": 4,
    "start_time": "2022-02-18T08:46:11.851Z"
   },
   {
    "duration": 88,
    "start_time": "2022-02-18T08:47:01.232Z"
   },
   {
    "duration": 262,
    "start_time": "2022-02-18T08:47:06.870Z"
   },
   {
    "duration": 19,
    "start_time": "2022-02-18T08:47:18.046Z"
   },
   {
    "duration": 19,
    "start_time": "2022-02-18T08:47:22.126Z"
   },
   {
    "duration": 19,
    "start_time": "2022-02-18T08:47:34.455Z"
   },
   {
    "duration": 26914,
    "start_time": "2022-02-18T08:47:45.385Z"
   },
   {
    "duration": 5,
    "start_time": "2022-02-18T08:48:12.301Z"
   },
   {
    "duration": 24,
    "start_time": "2022-02-18T08:48:21.407Z"
   },
   {
    "duration": 25,
    "start_time": "2022-02-18T08:48:25.692Z"
   },
   {
    "duration": 24,
    "start_time": "2022-02-18T08:48:36.873Z"
   },
   {
    "duration": 1207,
    "start_time": "2022-02-18T08:49:04.750Z"
   },
   {
    "duration": 25,
    "start_time": "2022-02-18T08:49:05.959Z"
   },
   {
    "duration": 35,
    "start_time": "2022-02-18T08:49:05.987Z"
   },
   {
    "duration": 5,
    "start_time": "2022-02-18T08:49:06.025Z"
   },
   {
    "duration": 15,
    "start_time": "2022-02-18T08:49:06.032Z"
   },
   {
    "duration": 10,
    "start_time": "2022-02-18T08:49:06.050Z"
   },
   {
    "duration": 3,
    "start_time": "2022-02-18T08:49:06.062Z"
   },
   {
    "duration": 7,
    "start_time": "2022-02-18T08:49:06.068Z"
   },
   {
    "duration": 53,
    "start_time": "2022-02-18T08:49:06.077Z"
   },
   {
    "duration": 9,
    "start_time": "2022-02-18T08:49:06.132Z"
   },
   {
    "duration": 17,
    "start_time": "2022-02-18T08:49:06.143Z"
   },
   {
    "duration": 6,
    "start_time": "2022-02-18T08:49:06.162Z"
   },
   {
    "duration": 6,
    "start_time": "2022-02-18T08:49:06.170Z"
   },
   {
    "duration": 5,
    "start_time": "2022-02-18T08:49:06.178Z"
   },
   {
    "duration": 47,
    "start_time": "2022-02-18T08:49:06.185Z"
   },
   {
    "duration": 12,
    "start_time": "2022-02-18T08:49:06.234Z"
   },
   {
    "duration": 5,
    "start_time": "2022-02-18T08:49:06.248Z"
   },
   {
    "duration": 8,
    "start_time": "2022-02-18T08:49:06.255Z"
   },
   {
    "duration": 6,
    "start_time": "2022-02-18T08:49:06.265Z"
   },
   {
    "duration": 46,
    "start_time": "2022-02-18T08:49:06.273Z"
   },
   {
    "duration": 15,
    "start_time": "2022-02-18T08:49:06.321Z"
   },
   {
    "duration": 18,
    "start_time": "2022-02-18T08:49:06.338Z"
   },
   {
    "duration": 393,
    "start_time": "2022-02-18T08:49:06.360Z"
   },
   {
    "duration": 523,
    "start_time": "2022-02-18T08:49:06.756Z"
   },
   {
    "duration": 7,
    "start_time": "2022-02-18T08:49:07.281Z"
   },
   {
    "duration": 129,
    "start_time": "2022-02-18T08:49:07.289Z"
   },
   {
    "duration": 9,
    "start_time": "2022-02-18T08:49:07.421Z"
   },
   {
    "duration": 6,
    "start_time": "2022-02-18T08:49:07.519Z"
   },
   {
    "duration": 19,
    "start_time": "2022-02-18T08:49:07.527Z"
   },
   {
    "duration": 3,
    "start_time": "2022-02-18T08:49:07.548Z"
   },
   {
    "duration": 41,
    "start_time": "2022-02-18T08:49:07.553Z"
   },
   {
    "duration": 31,
    "start_time": "2022-02-18T08:49:07.596Z"
   },
   {
    "duration": 92,
    "start_time": "2022-02-18T08:49:07.629Z"
   },
   {
    "duration": 1032,
    "start_time": "2022-02-18T08:49:07.723Z"
   },
   {
    "duration": 6,
    "start_time": "2022-02-18T08:49:08.757Z"
   },
   {
    "duration": 253,
    "start_time": "2022-02-18T08:49:08.765Z"
   },
   {
    "duration": 5,
    "start_time": "2022-02-18T08:49:09.020Z"
   },
   {
    "duration": 14,
    "start_time": "2022-02-18T08:49:09.027Z"
   },
   {
    "duration": 4,
    "start_time": "2022-02-18T08:49:09.043Z"
   },
   {
    "duration": 13,
    "start_time": "2022-02-18T08:49:09.048Z"
   },
   {
    "duration": 64,
    "start_time": "2022-02-18T08:49:09.063Z"
   },
   {
    "duration": 92,
    "start_time": "2022-02-18T08:49:09.130Z"
   },
   {
    "duration": 99,
    "start_time": "2022-02-18T08:49:09.224Z"
   },
   {
    "duration": 251,
    "start_time": "2022-02-18T08:49:09.325Z"
   },
   {
    "duration": 131,
    "start_time": "2022-02-18T08:49:09.578Z"
   },
   {
    "duration": 32,
    "start_time": "2022-02-18T08:49:09.711Z"
   },
   {
    "duration": 184,
    "start_time": "2022-02-18T08:49:09.819Z"
   },
   {
    "duration": 16,
    "start_time": "2022-02-18T08:49:10.005Z"
   },
   {
    "duration": 284,
    "start_time": "2022-02-18T08:49:10.023Z"
   },
   {
    "duration": 88,
    "start_time": "2022-02-18T08:49:10.309Z"
   },
   {
    "duration": 132,
    "start_time": "2022-02-18T08:49:10.399Z"
   },
   {
    "duration": 6,
    "start_time": "2022-02-18T08:49:10.534Z"
   },
   {
    "duration": 9,
    "start_time": "2022-02-18T08:49:10.542Z"
   },
   {
    "duration": 282,
    "start_time": "2022-02-18T08:49:10.553Z"
   },
   {
    "duration": 25,
    "start_time": "2022-02-18T08:49:10.838Z"
   },
   {
    "duration": 126,
    "start_time": "2022-02-18T08:49:10.865Z"
   },
   {
    "duration": 8,
    "start_time": "2022-02-18T08:49:10.993Z"
   },
   {
    "duration": 288,
    "start_time": "2022-02-18T08:49:11.003Z"
   },
   {
    "duration": 44,
    "start_time": "2022-02-18T08:49:11.294Z"
   },
   {
    "duration": 4,
    "start_time": "2022-02-18T08:49:11.339Z"
   },
   {
    "duration": 13,
    "start_time": "2022-02-18T08:49:11.345Z"
   },
   {
    "duration": 39,
    "start_time": "2022-02-18T08:51:33.910Z"
   },
   {
    "duration": 444,
    "start_time": "2022-02-18T08:51:34.947Z"
   },
   {
    "duration": 14,
    "start_time": "2022-02-18T08:52:26.130Z"
   },
   {
    "duration": 5,
    "start_time": "2022-02-18T08:52:27.203Z"
   },
   {
    "duration": 9,
    "start_time": "2022-02-18T08:52:27.495Z"
   },
   {
    "duration": 1269,
    "start_time": "2022-02-18T08:52:38.997Z"
   },
   {
    "duration": 25,
    "start_time": "2022-02-18T08:52:40.268Z"
   },
   {
    "duration": 29,
    "start_time": "2022-02-18T08:52:40.296Z"
   },
   {
    "duration": 5,
    "start_time": "2022-02-18T08:52:40.328Z"
   },
   {
    "duration": 18,
    "start_time": "2022-02-18T08:52:40.335Z"
   },
   {
    "duration": 8,
    "start_time": "2022-02-18T08:52:40.354Z"
   },
   {
    "duration": 6,
    "start_time": "2022-02-18T08:52:40.364Z"
   },
   {
    "duration": 5,
    "start_time": "2022-02-18T08:52:40.372Z"
   },
   {
    "duration": 47,
    "start_time": "2022-02-18T08:52:40.379Z"
   },
   {
    "duration": 14,
    "start_time": "2022-02-18T08:52:40.428Z"
   },
   {
    "duration": 12,
    "start_time": "2022-02-18T08:52:40.444Z"
   },
   {
    "duration": 20,
    "start_time": "2022-02-18T08:52:40.458Z"
   },
   {
    "duration": 9,
    "start_time": "2022-02-18T08:52:40.480Z"
   },
   {
    "duration": 8,
    "start_time": "2022-02-18T08:52:40.491Z"
   },
   {
    "duration": 18,
    "start_time": "2022-02-18T08:52:40.501Z"
   },
   {
    "duration": 34,
    "start_time": "2022-02-18T08:52:40.522Z"
   },
   {
    "duration": 12,
    "start_time": "2022-02-18T08:52:40.558Z"
   },
   {
    "duration": 8,
    "start_time": "2022-02-18T08:52:40.572Z"
   },
   {
    "duration": 8,
    "start_time": "2022-02-18T08:52:40.582Z"
   },
   {
    "duration": 13,
    "start_time": "2022-02-18T08:52:40.592Z"
   },
   {
    "duration": 32,
    "start_time": "2022-02-18T08:52:40.607Z"
   },
   {
    "duration": 32,
    "start_time": "2022-02-18T08:52:40.641Z"
   },
   {
    "duration": 375,
    "start_time": "2022-02-18T08:52:40.677Z"
   },
   {
    "duration": 539,
    "start_time": "2022-02-18T08:52:41.054Z"
   },
   {
    "duration": 7,
    "start_time": "2022-02-18T08:52:41.595Z"
   },
   {
    "duration": 116,
    "start_time": "2022-02-18T08:52:41.604Z"
   },
   {
    "duration": 98,
    "start_time": "2022-02-18T08:52:41.722Z"
   },
   {
    "duration": 20,
    "start_time": "2022-02-18T08:52:41.822Z"
   },
   {
    "duration": 26,
    "start_time": "2022-02-18T08:52:41.844Z"
   },
   {
    "duration": 4,
    "start_time": "2022-02-18T08:52:41.872Z"
   },
   {
    "duration": 52,
    "start_time": "2022-02-18T08:52:41.878Z"
   },
   {
    "duration": 5,
    "start_time": "2022-02-18T08:52:41.933Z"
   },
   {
    "duration": 187,
    "start_time": "2022-02-18T08:52:41.941Z"
   },
   {
    "duration": 1003,
    "start_time": "2022-02-18T08:52:42.130Z"
   },
   {
    "duration": 7,
    "start_time": "2022-02-18T08:52:43.135Z"
   },
   {
    "duration": 268,
    "start_time": "2022-02-18T08:52:43.143Z"
   },
   {
    "duration": 12,
    "start_time": "2022-02-18T08:52:43.412Z"
   },
   {
    "duration": 19,
    "start_time": "2022-02-18T08:52:43.430Z"
   },
   {
    "duration": 3,
    "start_time": "2022-02-18T08:52:43.452Z"
   },
   {
    "duration": 12,
    "start_time": "2022-02-18T08:52:43.457Z"
   },
   {
    "duration": 51,
    "start_time": "2022-02-18T08:52:43.471Z"
   },
   {
    "duration": 96,
    "start_time": "2022-02-18T08:52:43.524Z"
   },
   {
    "duration": 49,
    "start_time": "2022-02-18T08:52:43.622Z"
   },
   {
    "duration": 478,
    "start_time": "2022-02-18T08:52:43.674Z"
   },
   {
    "duration": 107,
    "start_time": "2022-02-18T08:52:44.154Z"
   },
   {
    "duration": 60,
    "start_time": "2022-02-18T08:52:44.262Z"
   },
   {
    "duration": 208,
    "start_time": "2022-02-18T08:52:44.331Z"
   },
   {
    "duration": 6,
    "start_time": "2022-02-18T08:52:44.541Z"
   },
   {
    "duration": 292,
    "start_time": "2022-02-18T08:52:44.549Z"
   },
   {
    "duration": 96,
    "start_time": "2022-02-18T08:52:44.843Z"
   },
   {
    "duration": 110,
    "start_time": "2022-02-18T08:52:44.941Z"
   },
   {
    "duration": 6,
    "start_time": "2022-02-18T08:52:45.054Z"
   },
   {
    "duration": 10,
    "start_time": "2022-02-18T08:52:45.062Z"
   },
   {
    "duration": 304,
    "start_time": "2022-02-18T08:52:45.073Z"
   },
   {
    "duration": 23,
    "start_time": "2022-02-18T08:52:45.379Z"
   },
   {
    "duration": 118,
    "start_time": "2022-02-18T08:52:45.420Z"
   },
   {
    "duration": 7,
    "start_time": "2022-02-18T08:52:45.540Z"
   },
   {
    "duration": 290,
    "start_time": "2022-02-18T08:52:45.549Z"
   },
   {
    "duration": 15,
    "start_time": "2022-02-18T08:52:45.841Z"
   },
   {
    "duration": 4,
    "start_time": "2022-02-18T08:52:45.858Z"
   },
   {
    "duration": 8,
    "start_time": "2022-02-18T08:52:45.864Z"
   },
   {
    "duration": 20,
    "start_time": "2022-02-18T08:52:57.765Z"
   },
   {
    "duration": 16,
    "start_time": "2022-02-18T08:53:00.058Z"
   },
   {
    "duration": 16,
    "start_time": "2022-02-18T08:53:01.983Z"
   },
   {
    "duration": 8,
    "start_time": "2022-02-18T08:53:07.359Z"
   },
   {
    "duration": 7,
    "start_time": "2022-02-18T08:53:11.657Z"
   },
   {
    "duration": 7,
    "start_time": "2022-02-18T08:53:14.099Z"
   },
   {
    "duration": 8,
    "start_time": "2022-02-18T08:53:21.483Z"
   },
   {
    "duration": 9,
    "start_time": "2022-02-18T08:53:24.352Z"
   },
   {
    "duration": 24,
    "start_time": "2022-02-18T08:54:00.104Z"
   },
   {
    "duration": 5,
    "start_time": "2022-02-18T08:54:00.880Z"
   },
   {
    "duration": 8,
    "start_time": "2022-02-18T08:54:01.236Z"
   },
   {
    "duration": 24,
    "start_time": "2022-02-18T08:54:04.926Z"
   },
   {
    "duration": 5,
    "start_time": "2022-02-18T08:54:05.290Z"
   },
   {
    "duration": 9,
    "start_time": "2022-02-18T08:54:05.646Z"
   },
   {
    "duration": 10,
    "start_time": "2022-02-18T08:54:19.369Z"
   },
   {
    "duration": 10,
    "start_time": "2022-02-18T08:54:21.849Z"
   },
   {
    "duration": 10,
    "start_time": "2022-02-18T08:54:24.850Z"
   },
   {
    "duration": 9,
    "start_time": "2022-02-18T08:54:27.817Z"
   },
   {
    "duration": 10,
    "start_time": "2022-02-18T08:54:30.758Z"
   },
   {
    "duration": 8,
    "start_time": "2022-02-18T08:54:32.995Z"
   },
   {
    "duration": 8,
    "start_time": "2022-02-18T08:54:34.728Z"
   },
   {
    "duration": 9,
    "start_time": "2022-02-18T08:54:37.169Z"
   },
   {
    "duration": 7,
    "start_time": "2022-02-18T08:54:39.750Z"
   },
   {
    "duration": 9,
    "start_time": "2022-02-18T08:54:44.732Z"
   },
   {
    "duration": 8,
    "start_time": "2022-02-18T08:54:47.510Z"
   },
   {
    "duration": 416,
    "start_time": "2022-02-18T09:01:20.444Z"
   },
   {
    "duration": 298,
    "start_time": "2022-02-18T09:02:20.529Z"
   },
   {
    "duration": 18,
    "start_time": "2022-02-18T09:02:24.405Z"
   },
   {
    "duration": 18,
    "start_time": "2022-02-18T09:02:32.687Z"
   },
   {
    "duration": 15,
    "start_time": "2022-02-18T09:02:36.514Z"
   },
   {
    "duration": 4,
    "start_time": "2022-02-18T09:02:36.754Z"
   },
   {
    "duration": 10,
    "start_time": "2022-02-18T09:02:37.069Z"
   },
   {
    "duration": 1573,
    "start_time": "2022-02-18T09:02:46.397Z"
   },
   {
    "duration": 31,
    "start_time": "2022-02-18T09:02:47.973Z"
   },
   {
    "duration": 26,
    "start_time": "2022-02-18T09:02:48.007Z"
   },
   {
    "duration": 4,
    "start_time": "2022-02-18T09:02:48.035Z"
   },
   {
    "duration": 11,
    "start_time": "2022-02-18T09:02:48.041Z"
   },
   {
    "duration": 7,
    "start_time": "2022-02-18T09:02:48.054Z"
   },
   {
    "duration": 3,
    "start_time": "2022-02-18T09:02:48.063Z"
   },
   {
    "duration": 4,
    "start_time": "2022-02-18T09:02:48.069Z"
   },
   {
    "duration": 15,
    "start_time": "2022-02-18T09:02:48.118Z"
   },
   {
    "duration": 4,
    "start_time": "2022-02-18T09:02:48.135Z"
   },
   {
    "duration": 11,
    "start_time": "2022-02-18T09:02:48.141Z"
   },
   {
    "duration": 3,
    "start_time": "2022-02-18T09:02:48.154Z"
   },
   {
    "duration": 8,
    "start_time": "2022-02-18T09:02:48.159Z"
   },
   {
    "duration": 5,
    "start_time": "2022-02-18T09:02:48.169Z"
   },
   {
    "duration": 49,
    "start_time": "2022-02-18T09:02:48.176Z"
   },
   {
    "duration": 13,
    "start_time": "2022-02-18T09:02:48.227Z"
   },
   {
    "duration": 5,
    "start_time": "2022-02-18T09:02:48.242Z"
   },
   {
    "duration": 10,
    "start_time": "2022-02-18T09:02:48.249Z"
   },
   {
    "duration": 6,
    "start_time": "2022-02-18T09:02:48.260Z"
   },
   {
    "duration": 4,
    "start_time": "2022-02-18T09:02:48.268Z"
   },
   {
    "duration": 49,
    "start_time": "2022-02-18T09:02:48.273Z"
   },
   {
    "duration": 23,
    "start_time": "2022-02-18T09:02:48.324Z"
   },
   {
    "duration": 504,
    "start_time": "2022-02-18T09:02:48.353Z"
   },
   {
    "duration": 706,
    "start_time": "2022-02-18T09:02:48.860Z"
   },
   {
    "duration": 7,
    "start_time": "2022-02-18T09:02:49.569Z"
   },
   {
    "duration": 50,
    "start_time": "2022-02-18T09:02:49.578Z"
   },
   {
    "duration": 96,
    "start_time": "2022-02-18T09:02:49.631Z"
   },
   {
    "duration": 96,
    "start_time": "2022-02-18T09:02:49.730Z"
   },
   {
    "duration": 21,
    "start_time": "2022-02-18T09:02:49.828Z"
   },
   {
    "duration": 3,
    "start_time": "2022-02-18T09:02:49.851Z"
   },
   {
    "duration": 29,
    "start_time": "2022-02-18T09:02:49.856Z"
   },
   {
    "duration": 135,
    "start_time": "2022-02-18T09:02:49.887Z"
   },
   {
    "duration": 8,
    "start_time": "2022-02-18T09:02:50.024Z"
   },
   {
    "duration": 1054,
    "start_time": "2022-02-18T09:02:50.034Z"
   },
   {
    "duration": 7,
    "start_time": "2022-02-18T09:02:51.090Z"
   },
   {
    "duration": 311,
    "start_time": "2022-02-18T09:02:51.099Z"
   },
   {
    "duration": 11,
    "start_time": "2022-02-18T09:02:51.412Z"
   },
   {
    "duration": 45,
    "start_time": "2022-02-18T09:02:51.425Z"
   },
   {
    "duration": 13,
    "start_time": "2022-02-18T09:02:51.473Z"
   },
   {
    "duration": 34,
    "start_time": "2022-02-18T09:02:51.488Z"
   },
   {
    "duration": 97,
    "start_time": "2022-02-18T09:02:51.523Z"
   },
   {
    "duration": 17,
    "start_time": "2022-02-18T09:02:51.720Z"
   },
   {
    "duration": 61,
    "start_time": "2022-02-18T09:02:51.739Z"
   },
   {
    "duration": 537,
    "start_time": "2022-02-18T09:02:51.802Z"
   },
   {
    "duration": 94,
    "start_time": "2022-02-18T09:02:52.341Z"
   },
   {
    "duration": 99,
    "start_time": "2022-02-18T09:02:52.437Z"
   },
   {
    "duration": 163,
    "start_time": "2022-02-18T09:02:52.619Z"
   },
   {
    "duration": 9,
    "start_time": "2022-02-18T09:02:52.784Z"
   },
   {
    "duration": 322,
    "start_time": "2022-02-18T09:02:52.795Z"
   },
   {
    "duration": 103,
    "start_time": "2022-02-18T09:02:53.120Z"
   },
   {
    "duration": 107,
    "start_time": "2022-02-18T09:02:53.225Z"
   },
   {
    "duration": 5,
    "start_time": "2022-02-18T09:02:53.334Z"
   },
   {
    "duration": 21,
    "start_time": "2022-02-18T09:02:53.340Z"
   },
   {
    "duration": 278,
    "start_time": "2022-02-18T09:02:53.362Z"
   },
   {
    "duration": 26,
    "start_time": "2022-02-18T09:02:53.642Z"
   },
   {
    "duration": 117,
    "start_time": "2022-02-18T09:02:53.670Z"
   },
   {
    "duration": 8,
    "start_time": "2022-02-18T09:02:53.789Z"
   },
   {
    "duration": 376,
    "start_time": "2022-02-18T09:02:53.819Z"
   },
   {
    "duration": 28,
    "start_time": "2022-02-18T09:02:54.198Z"
   },
   {
    "duration": 4,
    "start_time": "2022-02-18T09:02:54.228Z"
   },
   {
    "duration": 8,
    "start_time": "2022-02-18T09:02:54.234Z"
   },
   {
    "duration": 17,
    "start_time": "2022-02-18T09:03:00.867Z"
   },
   {
    "duration": 14,
    "start_time": "2022-02-18T09:03:02.984Z"
   },
   {
    "duration": 14,
    "start_time": "2022-02-18T09:03:05.638Z"
   },
   {
    "duration": 16,
    "start_time": "2022-02-18T09:03:07.751Z"
   },
   {
    "duration": 14,
    "start_time": "2022-02-18T09:03:09.689Z"
   },
   {
    "duration": 4,
    "start_time": "2022-02-18T09:03:12.022Z"
   },
   {
    "duration": 10,
    "start_time": "2022-02-18T09:03:12.185Z"
   },
   {
    "duration": 24,
    "start_time": "2022-02-18T09:03:25.739Z"
   },
   {
    "duration": 6,
    "start_time": "2022-02-18T09:03:27.828Z"
   },
   {
    "duration": 9,
    "start_time": "2022-02-18T09:03:28.048Z"
   },
   {
    "duration": 33,
    "start_time": "2022-02-18T09:03:30.496Z"
   },
   {
    "duration": 34,
    "start_time": "2022-02-18T09:03:34.603Z"
   },
   {
    "duration": 22,
    "start_time": "2022-02-18T09:03:36.720Z"
   },
   {
    "duration": 26,
    "start_time": "2022-02-18T09:03:39.168Z"
   },
   {
    "duration": 28,
    "start_time": "2022-02-18T09:03:41.075Z"
   },
   {
    "duration": 26,
    "start_time": "2022-02-18T09:03:43.511Z"
   },
   {
    "duration": 4,
    "start_time": "2022-02-18T09:03:44.604Z"
   },
   {
    "duration": 9,
    "start_time": "2022-02-18T09:03:44.832Z"
   },
   {
    "duration": 10,
    "start_time": "2022-02-18T09:04:19.853Z"
   },
   {
    "duration": 19,
    "start_time": "2022-02-18T09:04:29.300Z"
   },
   {
    "duration": 94,
    "start_time": "2022-02-18T09:04:30.758Z"
   },
   {
    "duration": 14,
    "start_time": "2022-02-18T09:04:38.490Z"
   },
   {
    "duration": 90,
    "start_time": "2022-02-18T09:04:38.830Z"
   },
   {
    "duration": 17,
    "start_time": "2022-02-18T09:04:42.139Z"
   },
   {
    "duration": 98,
    "start_time": "2022-02-18T09:04:42.312Z"
   },
   {
    "duration": 20,
    "start_time": "2022-02-18T09:04:45.066Z"
   },
   {
    "duration": 106,
    "start_time": "2022-02-18T09:04:45.302Z"
   },
   {
    "duration": 21,
    "start_time": "2022-02-18T09:04:49.401Z"
   },
   {
    "duration": 96,
    "start_time": "2022-02-18T09:04:49.673Z"
   },
   {
    "duration": 23,
    "start_time": "2022-02-18T09:04:52.390Z"
   },
   {
    "duration": 103,
    "start_time": "2022-02-18T09:04:52.602Z"
   },
   {
    "duration": 30,
    "start_time": "2022-02-18T09:04:55.199Z"
   },
   {
    "duration": 99,
    "start_time": "2022-02-18T09:04:55.463Z"
   },
   {
    "duration": 29,
    "start_time": "2022-02-18T09:05:00.031Z"
   },
   {
    "duration": 105,
    "start_time": "2022-02-18T09:05:00.444Z"
   },
   {
    "duration": 24,
    "start_time": "2022-02-18T09:05:03.722Z"
   },
   {
    "duration": 106,
    "start_time": "2022-02-18T09:05:03.897Z"
   },
   {
    "duration": 22,
    "start_time": "2022-02-18T09:05:08.500Z"
   },
   {
    "duration": 93,
    "start_time": "2022-02-18T09:05:08.568Z"
   },
   {
    "duration": 27,
    "start_time": "2022-02-18T09:05:30.051Z"
   },
   {
    "duration": 5,
    "start_time": "2022-02-18T09:05:31.082Z"
   },
   {
    "duration": 9,
    "start_time": "2022-02-18T09:05:31.615Z"
   },
   {
    "duration": 24,
    "start_time": "2022-02-18T09:05:40.884Z"
   },
   {
    "duration": 25,
    "start_time": "2022-02-18T09:05:44.646Z"
   },
   {
    "duration": 26,
    "start_time": "2022-02-18T09:06:23.932Z"
   },
   {
    "duration": 28,
    "start_time": "2022-02-18T09:06:28.556Z"
   },
   {
    "duration": 32,
    "start_time": "2022-02-18T09:06:34.312Z"
   },
   {
    "duration": 73,
    "start_time": "2022-02-18T09:07:21.549Z"
   },
   {
    "duration": 90,
    "start_time": "2022-02-18T09:07:22.406Z"
   },
   {
    "duration": 364,
    "start_time": "2022-02-18T09:11:23.037Z"
   },
   {
    "duration": 28808,
    "start_time": "2022-02-18T09:13:39.454Z"
   },
   {
    "duration": 4,
    "start_time": "2022-02-18T09:14:08.264Z"
   },
   {
    "duration": 409,
    "start_time": "2022-02-18T09:14:33.932Z"
   },
   {
    "duration": 5,
    "start_time": "2022-02-18T09:18:38.427Z"
   },
   {
    "duration": 1141,
    "start_time": "2022-02-18T09:18:46.129Z"
   },
   {
    "duration": 24,
    "start_time": "2022-02-18T09:18:47.272Z"
   },
   {
    "duration": 24,
    "start_time": "2022-02-18T09:18:47.298Z"
   },
   {
    "duration": 3,
    "start_time": "2022-02-18T09:18:47.324Z"
   },
   {
    "duration": 36,
    "start_time": "2022-02-18T09:18:47.329Z"
   },
   {
    "duration": 14,
    "start_time": "2022-02-18T09:18:47.367Z"
   },
   {
    "duration": 15,
    "start_time": "2022-02-18T09:18:47.383Z"
   },
   {
    "duration": 20,
    "start_time": "2022-02-18T09:18:47.401Z"
   },
   {
    "duration": 22,
    "start_time": "2022-02-18T09:18:47.423Z"
   },
   {
    "duration": 12,
    "start_time": "2022-02-18T09:18:47.446Z"
   },
   {
    "duration": 27,
    "start_time": "2022-02-18T09:18:47.459Z"
   },
   {
    "duration": 3,
    "start_time": "2022-02-18T09:18:47.488Z"
   },
   {
    "duration": 31,
    "start_time": "2022-02-18T09:18:47.492Z"
   },
   {
    "duration": 31,
    "start_time": "2022-02-18T09:18:47.525Z"
   },
   {
    "duration": 32,
    "start_time": "2022-02-18T09:18:47.563Z"
   },
   {
    "duration": 30,
    "start_time": "2022-02-18T09:18:47.597Z"
   },
   {
    "duration": 11,
    "start_time": "2022-02-18T09:18:47.628Z"
   },
   {
    "duration": 22,
    "start_time": "2022-02-18T09:18:47.641Z"
   },
   {
    "duration": 20,
    "start_time": "2022-02-18T09:18:47.665Z"
   },
   {
    "duration": 13,
    "start_time": "2022-02-18T09:18:47.687Z"
   },
   {
    "duration": 11,
    "start_time": "2022-02-18T09:18:47.702Z"
   },
   {
    "duration": 20,
    "start_time": "2022-02-18T09:18:47.715Z"
   },
   {
    "duration": 362,
    "start_time": "2022-02-18T09:18:47.740Z"
   },
   {
    "duration": 506,
    "start_time": "2022-02-18T09:18:48.105Z"
   },
   {
    "duration": 27899,
    "start_time": "2022-02-18T09:18:48.613Z"
   },
   {
    "duration": 5,
    "start_time": "2022-02-18T09:19:16.514Z"
   },
   {
    "duration": 357,
    "start_time": "2022-02-18T09:19:16.521Z"
   },
   {
    "duration": -381,
    "start_time": "2022-02-18T09:19:17.261Z"
   },
   {
    "duration": -388,
    "start_time": "2022-02-18T09:19:17.269Z"
   },
   {
    "duration": -389,
    "start_time": "2022-02-18T09:19:17.271Z"
   },
   {
    "duration": -390,
    "start_time": "2022-02-18T09:19:17.274Z"
   },
   {
    "duration": -392,
    "start_time": "2022-02-18T09:19:17.276Z"
   },
   {
    "duration": -393,
    "start_time": "2022-02-18T09:19:17.278Z"
   },
   {
    "duration": -394,
    "start_time": "2022-02-18T09:19:17.281Z"
   },
   {
    "duration": -400,
    "start_time": "2022-02-18T09:19:17.288Z"
   },
   {
    "duration": -401,
    "start_time": "2022-02-18T09:19:17.290Z"
   },
   {
    "duration": -403,
    "start_time": "2022-02-18T09:19:17.293Z"
   },
   {
    "duration": -404,
    "start_time": "2022-02-18T09:19:17.295Z"
   },
   {
    "duration": -405,
    "start_time": "2022-02-18T09:19:17.297Z"
   },
   {
    "duration": -406,
    "start_time": "2022-02-18T09:19:17.299Z"
   },
   {
    "duration": -408,
    "start_time": "2022-02-18T09:19:17.302Z"
   },
   {
    "duration": -409,
    "start_time": "2022-02-18T09:19:17.304Z"
   },
   {
    "duration": -411,
    "start_time": "2022-02-18T09:19:17.307Z"
   },
   {
    "duration": -412,
    "start_time": "2022-02-18T09:19:17.309Z"
   },
   {
    "duration": -419,
    "start_time": "2022-02-18T09:19:17.317Z"
   },
   {
    "duration": -420,
    "start_time": "2022-02-18T09:19:17.319Z"
   },
   {
    "duration": -422,
    "start_time": "2022-02-18T09:19:17.322Z"
   },
   {
    "duration": -422,
    "start_time": "2022-02-18T09:19:17.324Z"
   },
   {
    "duration": -424,
    "start_time": "2022-02-18T09:19:17.326Z"
   },
   {
    "duration": -425,
    "start_time": "2022-02-18T09:19:17.328Z"
   },
   {
    "duration": -427,
    "start_time": "2022-02-18T09:19:17.331Z"
   },
   {
    "duration": -428,
    "start_time": "2022-02-18T09:19:17.333Z"
   },
   {
    "duration": -430,
    "start_time": "2022-02-18T09:19:17.336Z"
   },
   {
    "duration": -431,
    "start_time": "2022-02-18T09:19:17.338Z"
   },
   {
    "duration": -432,
    "start_time": "2022-02-18T09:19:17.340Z"
   },
   {
    "duration": -433,
    "start_time": "2022-02-18T09:19:17.342Z"
   },
   {
    "duration": -434,
    "start_time": "2022-02-18T09:19:17.344Z"
   },
   {
    "duration": -435,
    "start_time": "2022-02-18T09:19:17.346Z"
   },
   {
    "duration": -438,
    "start_time": "2022-02-18T09:19:17.350Z"
   },
   {
    "duration": -442,
    "start_time": "2022-02-18T09:19:17.354Z"
   },
   {
    "duration": -443,
    "start_time": "2022-02-18T09:19:17.356Z"
   },
   {
    "duration": -444,
    "start_time": "2022-02-18T09:19:17.358Z"
   },
   {
    "duration": -446,
    "start_time": "2022-02-18T09:19:17.361Z"
   },
   {
    "duration": -447,
    "start_time": "2022-02-18T09:19:17.363Z"
   },
   {
    "duration": 511,
    "start_time": "2022-02-18T09:19:34.299Z"
   },
   {
    "duration": 11,
    "start_time": "2022-02-18T09:19:34.812Z"
   },
   {
    "duration": 95,
    "start_time": "2022-02-18T09:19:34.825Z"
   },
   {
    "duration": 97,
    "start_time": "2022-02-18T09:19:34.923Z"
   },
   {
    "duration": 6,
    "start_time": "2022-02-18T09:19:35.022Z"
   },
   {
    "duration": 15,
    "start_time": "2022-02-18T09:19:35.036Z"
   },
   {
    "duration": 3,
    "start_time": "2022-02-18T09:19:35.053Z"
   },
   {
    "duration": 73,
    "start_time": "2022-02-18T09:19:35.058Z"
   },
   {
    "duration": 13,
    "start_time": "2022-02-18T09:19:35.134Z"
   },
   {
    "duration": 79,
    "start_time": "2022-02-18T09:19:35.150Z"
   },
   {
    "duration": 959,
    "start_time": "2022-02-18T09:19:35.319Z"
   },
   {
    "duration": 6,
    "start_time": "2022-02-18T09:19:36.280Z"
   },
   {
    "duration": 250,
    "start_time": "2022-02-18T09:19:36.288Z"
   },
   {
    "duration": 5,
    "start_time": "2022-02-18T09:19:36.540Z"
   },
   {
    "duration": 18,
    "start_time": "2022-02-18T09:19:36.546Z"
   },
   {
    "duration": 3,
    "start_time": "2022-02-18T09:19:36.566Z"
   },
   {
    "duration": 15,
    "start_time": "2022-02-18T09:19:36.571Z"
   },
   {
    "duration": 39,
    "start_time": "2022-02-18T09:19:36.587Z"
   },
   {
    "duration": 191,
    "start_time": "2022-02-18T09:19:36.628Z"
   },
   {
    "duration": 38,
    "start_time": "2022-02-18T09:19:36.821Z"
   },
   {
    "duration": 471,
    "start_time": "2022-02-18T09:19:36.861Z"
   },
   {
    "duration": 90,
    "start_time": "2022-02-18T09:19:37.334Z"
   },
   {
    "duration": 21,
    "start_time": "2022-02-18T09:19:37.425Z"
   },
   {
    "duration": 252,
    "start_time": "2022-02-18T09:19:37.449Z"
   },
   {
    "duration": 16,
    "start_time": "2022-02-18T09:19:37.703Z"
   },
   {
    "duration": 261,
    "start_time": "2022-02-18T09:19:37.721Z"
   },
   {
    "duration": 88,
    "start_time": "2022-02-18T09:19:37.986Z"
   },
   {
    "duration": 100,
    "start_time": "2022-02-18T09:19:38.076Z"
   },
   {
    "duration": 5,
    "start_time": "2022-02-18T09:19:38.178Z"
   },
   {
    "duration": 5,
    "start_time": "2022-02-18T09:19:38.184Z"
   },
   {
    "duration": 274,
    "start_time": "2022-02-18T09:19:38.191Z"
   },
   {
    "duration": 22,
    "start_time": "2022-02-18T09:19:38.467Z"
   },
   {
    "duration": 117,
    "start_time": "2022-02-18T09:19:38.491Z"
   },
   {
    "duration": 7,
    "start_time": "2022-02-18T09:19:38.618Z"
   },
   {
    "duration": 262,
    "start_time": "2022-02-18T09:19:38.627Z"
   },
   {
    "duration": 37,
    "start_time": "2022-02-18T09:19:38.891Z"
   },
   {
    "duration": 4,
    "start_time": "2022-02-18T09:19:38.930Z"
   },
   {
    "duration": 24,
    "start_time": "2022-02-18T09:19:38.935Z"
   },
   {
    "duration": 9,
    "start_time": "2022-02-18T09:22:02.135Z"
   },
   {
    "duration": 319,
    "start_time": "2022-02-18T10:01:58.086Z"
   },
   {
    "duration": 6199,
    "start_time": "2022-02-18T10:02:17.695Z"
   },
   {
    "duration": 1251,
    "start_time": "2022-02-18T10:02:29.570Z"
   },
   {
    "duration": 30,
    "start_time": "2022-02-18T10:02:30.823Z"
   },
   {
    "duration": 16,
    "start_time": "2022-02-18T10:02:30.856Z"
   },
   {
    "duration": 24,
    "start_time": "2022-02-18T10:02:30.874Z"
   },
   {
    "duration": 17,
    "start_time": "2022-02-18T10:02:30.900Z"
   },
   {
    "duration": 27,
    "start_time": "2022-02-18T10:02:30.918Z"
   },
   {
    "duration": 8,
    "start_time": "2022-02-18T10:02:30.947Z"
   },
   {
    "duration": 10,
    "start_time": "2022-02-18T10:02:30.958Z"
   },
   {
    "duration": 20,
    "start_time": "2022-02-18T10:02:30.970Z"
   },
   {
    "duration": 11,
    "start_time": "2022-02-18T10:02:30.992Z"
   },
   {
    "duration": 42,
    "start_time": "2022-02-18T10:02:31.004Z"
   },
   {
    "duration": 16,
    "start_time": "2022-02-18T10:02:31.048Z"
   },
   {
    "duration": 24,
    "start_time": "2022-02-18T10:02:31.066Z"
   },
   {
    "duration": 35,
    "start_time": "2022-02-18T10:02:31.092Z"
   },
   {
    "duration": 44,
    "start_time": "2022-02-18T10:02:31.129Z"
   },
   {
    "duration": 36,
    "start_time": "2022-02-18T10:02:31.175Z"
   },
   {
    "duration": 16,
    "start_time": "2022-02-18T10:02:31.212Z"
   },
   {
    "duration": 22,
    "start_time": "2022-02-18T10:02:31.229Z"
   },
   {
    "duration": 13,
    "start_time": "2022-02-18T10:02:31.254Z"
   },
   {
    "duration": 13,
    "start_time": "2022-02-18T10:02:31.269Z"
   },
   {
    "duration": 19,
    "start_time": "2022-02-18T10:02:31.284Z"
   },
   {
    "duration": 23,
    "start_time": "2022-02-18T10:02:31.305Z"
   },
   {
    "duration": 377,
    "start_time": "2022-02-18T10:02:31.332Z"
   },
   {
    "duration": 513,
    "start_time": "2022-02-18T10:02:31.712Z"
   },
   {
    "duration": 6,
    "start_time": "2022-02-18T10:02:32.227Z"
   },
   {
    "duration": 87,
    "start_time": "2022-02-18T10:02:32.235Z"
   },
   {
    "duration": 96,
    "start_time": "2022-02-18T10:02:32.325Z"
   },
   {
    "duration": 5,
    "start_time": "2022-02-18T10:02:32.423Z"
   },
   {
    "duration": 23,
    "start_time": "2022-02-18T10:02:32.429Z"
   },
   {
    "duration": 4,
    "start_time": "2022-02-18T10:02:32.453Z"
   },
   {
    "duration": 34,
    "start_time": "2022-02-18T10:02:32.458Z"
   },
   {
    "duration": 9,
    "start_time": "2022-02-18T10:02:32.519Z"
   },
   {
    "duration": 93,
    "start_time": "2022-02-18T10:02:32.530Z"
   },
   {
    "duration": 1042,
    "start_time": "2022-02-18T10:02:32.625Z"
   },
   {
    "duration": 7,
    "start_time": "2022-02-18T10:02:33.669Z"
   },
   {
    "duration": 255,
    "start_time": "2022-02-18T10:02:33.678Z"
   },
   {
    "duration": 5,
    "start_time": "2022-02-18T10:02:33.935Z"
   },
   {
    "duration": 18,
    "start_time": "2022-02-18T10:02:33.942Z"
   },
   {
    "duration": 4,
    "start_time": "2022-02-18T10:02:33.961Z"
   },
   {
    "duration": 22,
    "start_time": "2022-02-18T10:02:33.966Z"
   },
   {
    "duration": 30,
    "start_time": "2022-02-18T10:02:33.990Z"
   },
   {
    "duration": 106,
    "start_time": "2022-02-18T10:02:34.023Z"
   },
   {
    "duration": 111,
    "start_time": "2022-02-18T10:02:34.132Z"
   },
   {
    "duration": 121,
    "start_time": "2022-02-18T10:02:34.245Z"
   },
   {
    "duration": -403,
    "start_time": "2022-02-18T10:02:34.771Z"
   },
   {
    "duration": -405,
    "start_time": "2022-02-18T10:02:34.774Z"
   },
   {
    "duration": -406,
    "start_time": "2022-02-18T10:02:34.777Z"
   },
   {
    "duration": -408,
    "start_time": "2022-02-18T10:02:34.780Z"
   },
   {
    "duration": -409,
    "start_time": "2022-02-18T10:02:34.782Z"
   },
   {
    "duration": -411,
    "start_time": "2022-02-18T10:02:34.785Z"
   },
   {
    "duration": -412,
    "start_time": "2022-02-18T10:02:34.787Z"
   },
   {
    "duration": -415,
    "start_time": "2022-02-18T10:02:34.791Z"
   },
   {
    "duration": -417,
    "start_time": "2022-02-18T10:02:34.794Z"
   },
   {
    "duration": -418,
    "start_time": "2022-02-18T10:02:34.797Z"
   },
   {
    "duration": -425,
    "start_time": "2022-02-18T10:02:34.805Z"
   },
   {
    "duration": -429,
    "start_time": "2022-02-18T10:02:34.810Z"
   },
   {
    "duration": -431,
    "start_time": "2022-02-18T10:02:34.813Z"
   },
   {
    "duration": -432,
    "start_time": "2022-02-18T10:02:34.815Z"
   },
   {
    "duration": -434,
    "start_time": "2022-02-18T10:02:34.818Z"
   },
   {
    "duration": -435,
    "start_time": "2022-02-18T10:02:34.820Z"
   },
   {
    "duration": -437,
    "start_time": "2022-02-18T10:02:34.823Z"
   },
   {
    "duration": -439,
    "start_time": "2022-02-18T10:02:34.826Z"
   },
   {
    "duration": 79,
    "start_time": "2022-02-18T10:03:47.291Z"
   },
   {
    "duration": 441,
    "start_time": "2022-02-18T10:04:21.356Z"
   },
   {
    "duration": 446,
    "start_time": "2022-02-18T10:04:28.442Z"
   },
   {
    "duration": 94,
    "start_time": "2022-02-18T10:04:28.890Z"
   },
   {
    "duration": 44,
    "start_time": "2022-02-18T10:04:28.986Z"
   },
   {
    "duration": 181,
    "start_time": "2022-02-18T10:04:29.117Z"
   },
   {
    "duration": 19,
    "start_time": "2022-02-18T10:04:29.300Z"
   },
   {
    "duration": 386,
    "start_time": "2022-02-18T10:04:29.321Z"
   },
   {
    "duration": 108,
    "start_time": "2022-02-18T10:04:29.710Z"
   },
   {
    "duration": 139,
    "start_time": "2022-02-18T10:04:29.822Z"
   },
   {
    "duration": 40,
    "start_time": "2022-02-18T10:04:29.963Z"
   },
   {
    "duration": 90,
    "start_time": "2022-02-18T10:04:30.005Z"
   },
   {
    "duration": 317,
    "start_time": "2022-02-18T10:04:30.097Z"
   },
   {
    "duration": 24,
    "start_time": "2022-02-18T10:04:30.418Z"
   },
   {
    "duration": 137,
    "start_time": "2022-02-18T10:04:30.444Z"
   },
   {
    "duration": 5,
    "start_time": "2022-02-18T10:04:30.583Z"
   },
   {
    "duration": 268,
    "start_time": "2022-02-18T10:04:30.590Z"
   },
   {
    "duration": 26,
    "start_time": "2022-02-18T10:04:30.859Z"
   },
   {
    "duration": 4,
    "start_time": "2022-02-18T10:04:30.886Z"
   },
   {
    "duration": 35,
    "start_time": "2022-02-18T10:04:30.892Z"
   },
   {
    "duration": 1217729,
    "start_time": "2022-02-18T10:04:30.929Z"
   },
   {
    "duration": -435,
    "start_time": "2022-02-18T10:24:49.095Z"
   },
   {
    "duration": 26192,
    "start_time": "2022-02-18T10:24:49.758Z"
   },
   {
    "duration": -448,
    "start_time": "2022-02-18T10:25:16.400Z"
   },
   {
    "duration": -450,
    "start_time": "2022-02-18T10:25:16.403Z"
   },
   {
    "duration": 1053,
    "start_time": "2022-02-18T10:25:39.527Z"
   },
   {
    "duration": 23230,
    "start_time": "2022-02-18T10:25:53.203Z"
   },
   {
    "duration": 1285418,
    "start_time": "2022-02-18T10:27:24.935Z"
   },
   {
    "duration": -450,
    "start_time": "2022-02-18T10:48:50.806Z"
   },
   {
    "duration": 90754,
    "start_time": "2022-02-18T10:49:01.087Z"
   },
   {
    "duration": -457,
    "start_time": "2022-02-18T10:50:32.301Z"
   },
   {
    "duration": 48301,
    "start_time": "2022-02-18T10:51:06.400Z"
   },
   {
    "duration": -458,
    "start_time": "2022-02-18T10:51:55.161Z"
   },
   {
    "duration": 5970,
    "start_time": "2022-02-18T10:51:55.705Z"
   },
   {
    "duration": -470,
    "start_time": "2022-02-18T10:52:02.147Z"
   },
   {
    "duration": 5470,
    "start_time": "2022-02-18T10:52:05.809Z"
   },
   {
    "duration": -450,
    "start_time": "2022-02-18T10:52:11.731Z"
   },
   {
    "duration": 7303,
    "start_time": "2022-02-18T10:52:18.459Z"
   },
   {
    "duration": 4,
    "start_time": "2022-02-18T10:52:25.764Z"
   },
   {
    "duration": 29277,
    "start_time": "2022-02-18T10:57:33.600Z"
   },
   {
    "duration": 3,
    "start_time": "2022-02-18T10:58:02.879Z"
   },
   {
    "duration": 14091,
    "start_time": "2022-02-18T10:58:26.571Z"
   },
   {
    "duration": 4,
    "start_time": "2022-02-18T10:58:40.664Z"
   },
   {
    "duration": 53,
    "start_time": "2022-02-18T11:00:32.949Z"
   },
   {
    "duration": 709956,
    "start_time": "2022-02-18T11:00:48.975Z"
   },
   {
    "duration": 4,
    "start_time": "2022-02-18T11:12:38.933Z"
   },
   {
    "duration": 1240,
    "start_time": "2022-02-18T11:12:51.484Z"
   },
   {
    "duration": 299,
    "start_time": "2022-02-18T11:14:14.720Z"
   },
   {
    "duration": 1028,
    "start_time": "2022-02-18T11:14:25.314Z"
   },
   {
    "duration": 983,
    "start_time": "2022-02-18T11:14:38.715Z"
   },
   {
    "duration": 1001,
    "start_time": "2022-02-18T11:14:51.496Z"
   },
   {
    "duration": 59,
    "start_time": "2022-02-18T11:15:18.171Z"
   },
   {
    "duration": 8,
    "start_time": "2022-02-18T11:15:19.106Z"
   },
   {
    "duration": 8,
    "start_time": "2022-02-18T11:15:23.962Z"
   },
   {
    "duration": 8,
    "start_time": "2022-02-18T11:15:27.962Z"
   },
   {
    "duration": 9,
    "start_time": "2022-02-18T11:15:30.935Z"
   },
   {
    "duration": 8,
    "start_time": "2022-02-18T11:15:34.884Z"
   },
   {
    "duration": 10,
    "start_time": "2022-02-18T11:15:38.447Z"
   },
   {
    "duration": 9,
    "start_time": "2022-02-18T11:15:53.021Z"
   },
   {
    "duration": 9,
    "start_time": "2022-02-18T11:16:00.145Z"
   },
   {
    "duration": 9,
    "start_time": "2022-02-18T11:16:03.654Z"
   },
   {
    "duration": 8,
    "start_time": "2022-02-18T11:16:06.376Z"
   },
   {
    "duration": 10,
    "start_time": "2022-02-18T11:16:08.211Z"
   },
   {
    "duration": 10,
    "start_time": "2022-02-18T11:16:10.028Z"
   },
   {
    "duration": 1275,
    "start_time": "2022-02-18T11:16:42.252Z"
   },
   {
    "duration": 962,
    "start_time": "2022-02-18T11:16:52.932Z"
   },
   {
    "duration": 1149,
    "start_time": "2022-02-18T11:17:45.843Z"
   },
   {
    "duration": 32,
    "start_time": "2022-02-18T11:17:46.994Z"
   },
   {
    "duration": 18,
    "start_time": "2022-02-18T11:17:47.028Z"
   },
   {
    "duration": 5,
    "start_time": "2022-02-18T11:17:47.048Z"
   },
   {
    "duration": 11,
    "start_time": "2022-02-18T11:17:47.055Z"
   },
   {
    "duration": 7,
    "start_time": "2022-02-18T11:17:47.067Z"
   },
   {
    "duration": 44,
    "start_time": "2022-02-18T11:17:47.076Z"
   },
   {
    "duration": 6,
    "start_time": "2022-02-18T11:17:47.123Z"
   },
   {
    "duration": 16,
    "start_time": "2022-02-18T11:17:47.131Z"
   },
   {
    "duration": 5,
    "start_time": "2022-02-18T11:17:47.149Z"
   },
   {
    "duration": 10,
    "start_time": "2022-02-18T11:17:47.155Z"
   },
   {
    "duration": 5,
    "start_time": "2022-02-18T11:17:47.167Z"
   },
   {
    "duration": 6,
    "start_time": "2022-02-18T11:17:47.173Z"
   },
   {
    "duration": 7,
    "start_time": "2022-02-18T11:17:47.180Z"
   },
   {
    "duration": 38,
    "start_time": "2022-02-18T11:17:47.189Z"
   },
   {
    "duration": 12,
    "start_time": "2022-02-18T11:17:47.229Z"
   },
   {
    "duration": 7,
    "start_time": "2022-02-18T11:17:47.242Z"
   },
   {
    "duration": 8,
    "start_time": "2022-02-18T11:17:47.250Z"
   },
   {
    "duration": 7,
    "start_time": "2022-02-18T11:17:47.259Z"
   },
   {
    "duration": 4,
    "start_time": "2022-02-18T11:17:47.268Z"
   },
   {
    "duration": 48,
    "start_time": "2022-02-18T11:17:47.274Z"
   },
   {
    "duration": 17,
    "start_time": "2022-02-18T11:17:47.324Z"
   },
   {
    "duration": 360,
    "start_time": "2022-02-18T11:17:47.344Z"
   },
   {
    "duration": 492,
    "start_time": "2022-02-18T11:17:47.707Z"
   },
   {
    "duration": 7,
    "start_time": "2022-02-18T11:17:48.200Z"
   },
   {
    "duration": 103,
    "start_time": "2022-02-18T11:17:48.218Z"
   },
   {
    "duration": 99,
    "start_time": "2022-02-18T11:17:48.324Z"
   },
   {
    "duration": 5,
    "start_time": "2022-02-18T11:17:48.425Z"
   },
   {
    "duration": 17,
    "start_time": "2022-02-18T11:17:48.432Z"
   },
   {
    "duration": 3,
    "start_time": "2022-02-18T11:17:48.451Z"
   },
   {
    "duration": 67,
    "start_time": "2022-02-18T11:17:48.456Z"
   },
   {
    "duration": 4,
    "start_time": "2022-02-18T11:17:48.524Z"
   },
   {
    "duration": 190,
    "start_time": "2022-02-18T11:17:48.530Z"
   },
   {
    "duration": 1026,
    "start_time": "2022-02-18T11:17:48.722Z"
   },
   {
    "duration": 6,
    "start_time": "2022-02-18T11:17:49.750Z"
   },
   {
    "duration": 240,
    "start_time": "2022-02-18T11:17:49.757Z"
   },
   {
    "duration": 5,
    "start_time": "2022-02-18T11:17:49.998Z"
   },
   {
    "duration": 25,
    "start_time": "2022-02-18T11:17:50.004Z"
   },
   {
    "duration": 4,
    "start_time": "2022-02-18T11:17:50.030Z"
   },
   {
    "duration": 13,
    "start_time": "2022-02-18T11:17:50.036Z"
   },
   {
    "duration": 5,
    "start_time": "2022-02-18T11:17:50.051Z"
   },
   {
    "duration": 161,
    "start_time": "2022-02-18T11:17:50.059Z"
   },
   {
    "duration": 37,
    "start_time": "2022-02-18T11:17:50.222Z"
   },
   {
    "duration": 458,
    "start_time": "2022-02-18T11:17:50.260Z"
   },
   {
    "duration": 101,
    "start_time": "2022-02-18T11:17:50.720Z"
   },
   {
    "duration": 95,
    "start_time": "2022-02-18T11:17:50.823Z"
   },
   {
    "duration": 197,
    "start_time": "2022-02-18T11:17:50.921Z"
   },
   {
    "duration": 6,
    "start_time": "2022-02-18T11:17:51.120Z"
   },
   {
    "duration": 267,
    "start_time": "2022-02-18T11:17:51.128Z"
   },
   {
    "duration": 84,
    "start_time": "2022-02-18T11:17:51.398Z"
   },
   {
    "duration": 100,
    "start_time": "2022-02-18T11:17:51.484Z"
   },
   {
    "duration": 5,
    "start_time": "2022-02-18T11:17:51.586Z"
   },
   {
    "duration": 6,
    "start_time": "2022-02-18T11:17:51.593Z"
   },
   {
    "duration": 276,
    "start_time": "2022-02-18T11:17:51.600Z"
   },
   {
    "duration": 44,
    "start_time": "2022-02-18T11:17:51.879Z"
   },
   {
    "duration": 106,
    "start_time": "2022-02-18T11:17:51.926Z"
   },
   {
    "duration": 8,
    "start_time": "2022-02-18T11:17:52.034Z"
   },
   {
    "duration": 275,
    "start_time": "2022-02-18T11:17:52.045Z"
   },
   {
    "duration": 29,
    "start_time": "2022-02-18T11:17:52.323Z"
   },
   {
    "duration": 4,
    "start_time": "2022-02-18T11:17:52.354Z"
   },
   {
    "duration": 9,
    "start_time": "2022-02-18T11:17:52.360Z"
   },
   {
    "duration": 347,
    "start_time": "2022-02-18T11:18:07.113Z"
   },
   {
    "duration": -406,
    "start_time": "2022-02-18T11:18:07.869Z"
   },
   {
    "duration": -419,
    "start_time": "2022-02-18T11:18:07.882Z"
   },
   {
    "duration": -427,
    "start_time": "2022-02-18T11:18:07.891Z"
   },
   {
    "duration": -429,
    "start_time": "2022-02-18T11:18:07.894Z"
   },
   {
    "duration": -431,
    "start_time": "2022-02-18T11:18:07.897Z"
   },
   {
    "duration": 271,
    "start_time": "2022-02-18T11:18:17.377Z"
   },
   {
    "duration": 1277,
    "start_time": "2022-02-18T11:18:32.691Z"
   },
   {
    "duration": 23,
    "start_time": "2022-02-18T11:18:33.970Z"
   },
   {
    "duration": 24,
    "start_time": "2022-02-18T11:18:33.995Z"
   },
   {
    "duration": 4,
    "start_time": "2022-02-18T11:18:34.021Z"
   },
   {
    "duration": 18,
    "start_time": "2022-02-18T11:18:34.027Z"
   },
   {
    "duration": 9,
    "start_time": "2022-02-18T11:18:34.047Z"
   },
   {
    "duration": 9,
    "start_time": "2022-02-18T11:18:34.058Z"
   },
   {
    "duration": 8,
    "start_time": "2022-02-18T11:18:34.069Z"
   },
   {
    "duration": 40,
    "start_time": "2022-02-18T11:18:34.080Z"
   },
   {
    "duration": 5,
    "start_time": "2022-02-18T11:18:34.122Z"
   },
   {
    "duration": 10,
    "start_time": "2022-02-18T11:18:34.128Z"
   },
   {
    "duration": 5,
    "start_time": "2022-02-18T11:18:34.139Z"
   },
   {
    "duration": 5,
    "start_time": "2022-02-18T11:18:34.146Z"
   },
   {
    "duration": 5,
    "start_time": "2022-02-18T11:18:34.153Z"
   },
   {
    "duration": 17,
    "start_time": "2022-02-18T11:18:34.160Z"
   },
   {
    "duration": 40,
    "start_time": "2022-02-18T11:18:34.179Z"
   },
   {
    "duration": 6,
    "start_time": "2022-02-18T11:18:34.221Z"
   },
   {
    "duration": 7,
    "start_time": "2022-02-18T11:18:34.228Z"
   },
   {
    "duration": 9,
    "start_time": "2022-02-18T11:18:34.236Z"
   },
   {
    "duration": 8,
    "start_time": "2022-02-18T11:18:34.246Z"
   },
   {
    "duration": 14,
    "start_time": "2022-02-18T11:18:34.256Z"
   },
   {
    "duration": 52,
    "start_time": "2022-02-18T11:18:34.271Z"
   },
   {
    "duration": 363,
    "start_time": "2022-02-18T11:18:34.325Z"
   },
   {
    "duration": 521,
    "start_time": "2022-02-18T11:18:34.690Z"
   },
   {
    "duration": 9,
    "start_time": "2022-02-18T11:18:35.213Z"
   },
   {
    "duration": 194,
    "start_time": "2022-02-18T11:18:35.224Z"
   },
   {
    "duration": 7,
    "start_time": "2022-02-18T11:18:35.423Z"
   },
   {
    "duration": 10,
    "start_time": "2022-02-18T11:18:35.432Z"
   },
   {
    "duration": 26,
    "start_time": "2022-02-18T11:18:35.444Z"
   },
   {
    "duration": 4,
    "start_time": "2022-02-18T11:18:35.471Z"
   },
   {
    "duration": 59,
    "start_time": "2022-02-18T11:18:35.476Z"
   },
   {
    "duration": 9,
    "start_time": "2022-02-18T11:18:35.537Z"
   },
   {
    "duration": 172,
    "start_time": "2022-02-18T11:18:35.548Z"
   },
   {
    "duration": 1049,
    "start_time": "2022-02-18T11:18:35.722Z"
   },
   {
    "duration": 7,
    "start_time": "2022-02-18T11:18:36.773Z"
   },
   {
    "duration": 263,
    "start_time": "2022-02-18T11:18:36.783Z"
   },
   {
    "duration": 5,
    "start_time": "2022-02-18T11:18:37.047Z"
   },
   {
    "duration": 15,
    "start_time": "2022-02-18T11:18:37.054Z"
   },
   {
    "duration": 3,
    "start_time": "2022-02-18T11:18:37.071Z"
   },
   {
    "duration": 43,
    "start_time": "2022-02-18T11:18:37.076Z"
   },
   {
    "duration": 8,
    "start_time": "2022-02-18T11:18:37.121Z"
   },
   {
    "duration": 93,
    "start_time": "2022-02-18T11:18:37.131Z"
   },
   {
    "duration": 128,
    "start_time": "2022-02-18T11:18:37.227Z"
   },
   {
    "duration": 453,
    "start_time": "2022-02-18T11:18:37.357Z"
   },
   {
    "duration": 79,
    "start_time": "2022-02-18T11:18:37.818Z"
   },
   {
    "duration": 22,
    "start_time": "2022-02-18T11:18:37.919Z"
   },
   {
    "duration": 252,
    "start_time": "2022-02-18T11:18:37.943Z"
   },
   {
    "duration": 25,
    "start_time": "2022-02-18T11:18:38.197Z"
   },
   {
    "duration": 271,
    "start_time": "2022-02-18T11:18:38.224Z"
   },
   {
    "duration": 81,
    "start_time": "2022-02-18T11:18:38.497Z"
   },
   {
    "duration": 102,
    "start_time": "2022-02-18T11:18:38.580Z"
   },
   {
    "duration": 4,
    "start_time": "2022-02-18T11:18:38.684Z"
   },
   {
    "duration": 11,
    "start_time": "2022-02-18T11:18:38.691Z"
   },
   {
    "duration": 270,
    "start_time": "2022-02-18T11:18:38.719Z"
   },
   {
    "duration": 35,
    "start_time": "2022-02-18T11:18:38.991Z"
   },
   {
    "duration": 107,
    "start_time": "2022-02-18T11:18:39.028Z"
   },
   {
    "duration": 6,
    "start_time": "2022-02-18T11:18:39.136Z"
   },
   {
    "duration": 267,
    "start_time": "2022-02-18T11:18:39.144Z"
   },
   {
    "duration": 31,
    "start_time": "2022-02-18T11:18:39.413Z"
   },
   {
    "duration": 5,
    "start_time": "2022-02-18T11:18:39.447Z"
   },
   {
    "duration": 14,
    "start_time": "2022-02-18T11:18:39.454Z"
   },
   {
    "duration": 689137,
    "start_time": "2022-02-18T11:18:39.470Z"
   },
   {
    "duration": 4,
    "start_time": "2022-02-18T11:30:08.609Z"
   },
   {
    "duration": 1087,
    "start_time": "2022-02-18T11:30:08.618Z"
   },
   {
    "duration": 1387,
    "start_time": "2022-02-18T11:30:09.707Z"
   },
   {
    "duration": 69,
    "start_time": "2022-02-18T11:30:11.096Z"
   },
   {
    "duration": 7,
    "start_time": "2022-02-18T11:30:11.167Z"
   },
   {
    "duration": 2283,
    "start_time": "2022-04-06T12:10:00.511Z"
   },
   {
    "duration": 43,
    "start_time": "2022-04-06T12:10:02.797Z"
   },
   {
    "duration": 26,
    "start_time": "2022-04-06T12:10:02.843Z"
   },
   {
    "duration": 6,
    "start_time": "2022-04-06T12:10:02.871Z"
   },
   {
    "duration": 22,
    "start_time": "2022-04-06T12:10:02.880Z"
   },
   {
    "duration": 10,
    "start_time": "2022-04-06T12:10:02.905Z"
   },
   {
    "duration": 8,
    "start_time": "2022-04-06T12:10:02.917Z"
   },
   {
    "duration": 41,
    "start_time": "2022-04-06T12:10:02.927Z"
   },
   {
    "duration": 19,
    "start_time": "2022-04-06T12:10:02.970Z"
   },
   {
    "duration": 7,
    "start_time": "2022-04-06T12:10:02.991Z"
   },
   {
    "duration": 14,
    "start_time": "2022-04-06T12:10:03.000Z"
   },
   {
    "duration": 27,
    "start_time": "2022-04-06T12:10:03.016Z"
   },
   {
    "duration": 17,
    "start_time": "2022-04-06T12:10:03.069Z"
   },
   {
    "duration": 11,
    "start_time": "2022-04-06T12:10:03.090Z"
   },
   {
    "duration": 13,
    "start_time": "2022-04-06T12:10:03.103Z"
   },
   {
    "duration": 9,
    "start_time": "2022-04-06T12:10:03.118Z"
   },
   {
    "duration": 4,
    "start_time": "2022-04-06T12:10:03.129Z"
   },
   {
    "duration": 48,
    "start_time": "2022-04-06T12:10:03.135Z"
   },
   {
    "duration": 89,
    "start_time": "2022-04-06T12:10:03.186Z"
   },
   {
    "duration": 1400,
    "start_time": "2022-04-06T12:10:03.278Z"
   },
   {
    "duration": 2196,
    "start_time": "2022-04-06T12:10:04.681Z"
   },
   {
    "duration": 10,
    "start_time": "2022-04-06T12:10:06.880Z"
   },
   {
    "duration": 78,
    "start_time": "2022-04-06T12:10:06.893Z"
   },
   {
    "duration": 100,
    "start_time": "2022-04-06T12:10:06.974Z"
   },
   {
    "duration": 7,
    "start_time": "2022-04-06T12:10:07.077Z"
   },
   {
    "duration": 19,
    "start_time": "2022-04-06T12:10:07.087Z"
   },
   {
    "duration": 5,
    "start_time": "2022-04-06T12:10:07.108Z"
   },
   {
    "duration": 85,
    "start_time": "2022-04-06T12:10:07.116Z"
   },
   {
    "duration": 63,
    "start_time": "2022-04-06T12:10:07.204Z"
   },
   {
    "duration": 10,
    "start_time": "2022-04-06T12:10:07.366Z"
   },
   {
    "duration": 1271,
    "start_time": "2022-04-06T12:10:07.379Z"
   },
   {
    "duration": 17,
    "start_time": "2022-04-06T12:10:08.653Z"
   },
   {
    "duration": 363,
    "start_time": "2022-04-06T12:10:08.672Z"
   },
   {
    "duration": 6,
    "start_time": "2022-04-06T12:10:09.038Z"
   },
   {
    "duration": 30,
    "start_time": "2022-04-06T12:10:09.046Z"
   },
   {
    "duration": 4,
    "start_time": "2022-04-06T12:10:09.078Z"
   },
   {
    "duration": 17,
    "start_time": "2022-04-06T12:10:09.084Z"
   },
   {
    "duration": 68,
    "start_time": "2022-04-06T12:10:09.103Z"
   },
   {
    "duration": 99,
    "start_time": "2022-04-06T12:10:09.175Z"
   },
   {
    "duration": 118,
    "start_time": "2022-04-06T12:10:09.277Z"
   },
   {
    "duration": 731,
    "start_time": "2022-04-06T12:10:09.403Z"
   },
   {
    "duration": 160,
    "start_time": "2022-04-06T12:10:10.136Z"
   },
   {
    "duration": 78,
    "start_time": "2022-04-06T12:10:10.298Z"
   },
   {
    "duration": 219,
    "start_time": "2022-04-06T12:10:10.469Z"
   },
   {
    "duration": 10,
    "start_time": "2022-04-06T12:10:10.690Z"
   },
   {
    "duration": 406,
    "start_time": "2022-04-06T12:10:10.703Z"
   },
   {
    "duration": 2757,
    "start_time": "2022-04-06T12:10:11.111Z"
   },
   {
    "duration": 218,
    "start_time": "2022-04-06T12:10:13.871Z"
   },
   {
    "duration": 6,
    "start_time": "2022-04-06T12:10:14.092Z"
   },
   {
    "duration": 11,
    "start_time": "2022-04-06T12:10:14.100Z"
   },
   {
    "duration": 554,
    "start_time": "2022-04-06T12:10:14.114Z"
   },
   {
    "duration": 29,
    "start_time": "2022-04-06T12:10:14.671Z"
   },
   {
    "duration": 210,
    "start_time": "2022-04-06T12:10:14.703Z"
   },
   {
    "duration": 8,
    "start_time": "2022-04-06T12:10:14.967Z"
   },
   {
    "duration": 300,
    "start_time": "2022-04-06T12:10:14.977Z"
   },
   {
    "duration": 37,
    "start_time": "2022-04-06T12:10:15.279Z"
   },
   {
    "duration": 7,
    "start_time": "2022-04-06T12:10:15.319Z"
   },
   {
    "duration": 45,
    "start_time": "2022-04-06T12:10:15.328Z"
   }
  ],
  "kernelspec": {
   "display_name": "Python 3 (ipykernel)",
   "language": "python",
   "name": "python3"
  },
  "language_info": {
   "codemirror_mode": {
    "name": "ipython",
    "version": 3
   },
   "file_extension": ".py",
   "mimetype": "text/x-python",
   "name": "python",
   "nbconvert_exporter": "python",
   "pygments_lexer": "ipython3",
   "version": "3.9.7"
  },
  "toc": {
   "base_numbering": 1,
   "nav_menu": {},
   "number_sections": true,
   "sideBar": true,
   "skip_h1_title": true,
   "title_cell": "Содержание",
   "title_sidebar": "Contents",
   "toc_cell": true,
   "toc_position": {
    "height": "calc(100% - 180px)",
    "left": "10px",
    "top": "150px",
    "width": "366.391px"
   },
   "toc_section_display": true,
   "toc_window_display": true
  }
 },
 "nbformat": 4,
 "nbformat_minor": 2
}
